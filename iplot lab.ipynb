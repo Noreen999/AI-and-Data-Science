{
 "cells": [
  {
   "cell_type": "code",
   "execution_count": 3,
   "id": "a5d8c462",
   "metadata": {},
   "outputs": [
    {
     "name": "stdout",
     "output_type": "stream",
     "text": [
      "Enter first number2\n",
      "Enter 2nd number3\n",
      "5\n"
     ]
    }
   ],
   "source": [
    "num1=int(input('Enter first number'))\n",
    "num2=int(input('Enter 2nd number'))\n",
    "Result=num1+num2\n",
    "print(Result)\n"
   ]
  },
  {
   "cell_type": "code",
   "execution_count": 4,
   "id": "1301b177",
   "metadata": {},
   "outputs": [
    {
     "name": "stdout",
     "output_type": "stream",
     "text": [
      "Enter first number3\n",
      "Enter 2nd number4\n",
      "34\n"
     ]
    }
   ],
   "source": [
    "num1=input('Enter first number')\n",
    "num2=input('Enter 2nd number')\n",
    "Result=num1+num2\n",
    "print(Result)"
   ]
  },
  {
   "cell_type": "code",
   "execution_count": 7,
   "id": "32b7b591",
   "metadata": {},
   "outputs": [
    {
     "name": "stdout",
     "output_type": "stream",
     "text": [
      "<class 'int'>\n"
     ]
    }
   ],
   "source": [
    "x=5\n",
    "type(x)\n",
    "print(type(x))"
   ]
  },
  {
   "cell_type": "code",
   "execution_count": 11,
   "id": "551366f4",
   "metadata": {},
   "outputs": [
    {
     "name": "stdout",
     "output_type": "stream",
     "text": [
      "Enter the first interger number2\n",
      "Enter the second interger number2\n",
      "the result: 4\n"
     ]
    }
   ],
   "source": [
    "num1 =int(input('Enter the first interger number'))\n",
    "num2 =int(input('Enter the second interger number'))\n",
    "result=num1+num2\n",
    "print(f\"the result: {result}\")"
   ]
  },
  {
   "cell_type": "code",
   "execution_count": 13,
   "id": "5f5d1ec7",
   "metadata": {},
   "outputs": [
    {
     "name": "stdout",
     "output_type": "stream",
     "text": [
      "Enter the float type:2\n",
      "5.0\n"
     ]
    }
   ],
   "source": [
    "num=float(input('Enter the float type:'))\n",
    "result=num*2.5\n",
    "print(result)"
   ]
  },
  {
   "cell_type": "code",
   "execution_count": 14,
   "id": "aeb442a1",
   "metadata": {},
   "outputs": [
    {
     "name": "stdout",
     "output_type": "stream",
     "text": [
      "Hi DostdarHow are you?I hope you are fine\n"
     ]
    }
   ],
   "source": [
    "string_one = \"Hi Dostdar\"\n",
    "string_two = string_one +\"How are you?\"\n",
    "string_three = string_two + \"I hope you are fine\"\n",
    "print (string_three)"
   ]
  },
  {
   "cell_type": "code",
   "execution_count": 20,
   "id": "1d471e48",
   "metadata": {},
   "outputs": [
    {
     "name": "stdout",
     "output_type": "stream",
     "text": [
      "enter name: hi\n",
      "ask: how are you\n",
      "response: im good\n",
      "hihow are youim good\n"
     ]
    }
   ],
   "source": [
    "name=str(input('enter name: '))\n",
    "h=str(input('ask: '))\n",
    "f=str(input('response: '))\n",
    "result=name+h+f\n",
    "print(result)"
   ]
  },
  {
   "cell_type": "code",
   "execution_count": 6,
   "id": "a8157c77",
   "metadata": {},
   "outputs": [
    {
     "name": "stdout",
     "output_type": "stream",
     "text": [
      "[1, 2, 3, 4, 5, 6]\n"
     ]
    }
   ],
   "source": [
    "list = [1,2,3,4,5]\n",
    "list.append(6)\n",
    "print(list)"
   ]
  },
  {
   "cell_type": "code",
   "execution_count": 4,
   "id": "f76d29a4",
   "metadata": {},
   "outputs": [
    {
     "name": "stdout",
     "output_type": "stream",
     "text": [
      "Defaulting to user installation because normal site-packages is not writeable\n",
      "Requirement already satisfied: lib in c:\\users\\noor zahra\\appdata\\roaming\\python\\python310\\site-packages (4.0.0)\n",
      "Defaulting to user installation because normal site-packages is not writeable\n",
      "Requirement already satisfied: lib in c:\\users\\noor zahra\\appdata\\roaming\\python\\python310\\site-packages (4.0.0)\n",
      "Defaulting to user installation because normal site-packages is not writeable\n",
      "Requirement already satisfied: lib in c:\\users\\noor zahra\\appdata\\roaming\\python\\python310\\site-packages (4.0.0)\n",
      "Defaulting to user installation because normal site-packages is not writeableNote: you may need to restart the kernel to use updated packages.\n",
      "\n",
      "Requirement already satisfied: lib in c:\\users\\noor zahra\\appdata\\roaming\\python\\python310\\site-packages (4.0.0)\n"
     ]
    }
   ],
   "source": [
    "pip install lib"
   ]
  },
  {
   "cell_type": "code",
   "execution_count": 10,
   "id": "02cf5487",
   "metadata": {},
   "outputs": [
    {
     "name": "stdout",
     "output_type": "stream",
     "text": [
      "Defaulting to user installation because normal site-packages is not writeable\n",
      "Requirement already satisfied: plotly in c:\\programdata\\anaconda3\\lib\\site-packages (5.9.0)\n",
      "Requirement already satisfied: tenacity>=6.2.0 in c:\\programdata\\anaconda3\\lib\\site-packages (from plotly) (8.0.1)\n",
      "Defaulting to user installation because normal site-packages is not writeable\n",
      "Requirement already satisfied: plotly in c:\\programdata\\anaconda3\\lib\\site-packages (5.9.0)\n",
      "Requirement already satisfied: tenacity>=6.2.0 in c:\\programdata\\anaconda3\\lib\\site-packages (from plotly) (8.0.1)\n",
      "Defaulting to user installation because normal site-packages is not writeable\n",
      "Requirement already satisfied: plotly in c:\\programdata\\anaconda3\\lib\\site-packages (5.9.0)\n",
      "Requirement already satisfied: tenacity>=6.2.0 in c:\\programdata\\anaconda3\\lib\\site-packages (from plotly) (8.0.1)\n",
      "Note: you may need to restart the kernel to use updated packages.\n"
     ]
    }
   ],
   "source": [
    "pip install plotly"
   ]
  },
  {
   "cell_type": "code",
   "execution_count": 3,
   "id": "99caf115",
   "metadata": {},
   "outputs": [
    {
     "name": "stdout",
     "output_type": "stream",
     "text": [
      "Defaulting to user installation because normal site-packages is not writeable\n",
      "Requirement already satisfied: cufflinks in c:\\users\\noor zahra\\appdata\\roaming\\python\\python310\\site-packages (0.17.3)\n",
      "Requirement already satisfied: ipython>=5.3.0 in c:\\programdata\\anaconda3\\lib\\site-packages (from cufflinks) (8.10.0)\n",
      "Requirement already satisfied: setuptools>=34.4.1 in c:\\programdata\\anaconda3\\lib\\site-packages (from cufflinks) (65.6.3)\n",
      "Requirement already satisfied: ipywidgets>=7.0.0 in c:\\programdata\\anaconda3\\lib\\site-packages (from cufflinks) (7.6.5)\n",
      "Requirement already satisfied: six>=1.9.0 in c:\\programdata\\anaconda3\\lib\\site-packages (from cufflinks) (1.16.0)\n",
      "Requirement already satisfied: colorlover>=0.2.1 in c:\\users\\noor zahra\\appdata\\roaming\\python\\python310\\site-packages (from cufflinks) (0.3.0)\n",
      "Requirement already satisfied: pandas>=0.19.2 in c:\\programdata\\anaconda3\\lib\\site-packages (from cufflinks) (1.5.3)\n",
      "Requirement already satisfied: plotly>=4.1.1 in c:\\programdata\\anaconda3\\lib\\site-packages (from cufflinks) (5.9.0)\n",
      "Requirement already satisfied: numpy>=1.9.2 in c:\\programdata\\anaconda3\\lib\\site-packages (from cufflinks) (1.23.5)\n",
      "Requirement already satisfied: traitlets>=5 in c:\\programdata\\anaconda3\\lib\\site-packages (from ipython>=5.3.0->cufflinks) (5.7.1)\n",
      "Requirement already satisfied: jedi>=0.16 in c:\\programdata\\anaconda3\\lib\\site-packages (from ipython>=5.3.0->cufflinks) (0.18.1)\n",
      "Requirement already satisfied: decorator in c:\\programdata\\anaconda3\\lib\\site-packages (from ipython>=5.3.0->cufflinks) (5.1.1)\n",
      "Requirement already satisfied: backcall in c:\\programdata\\anaconda3\\lib\\site-packages (from ipython>=5.3.0->cufflinks) (0.2.0)\n",
      "Requirement already satisfied: colorama in c:\\programdata\\anaconda3\\lib\\site-packages (from ipython>=5.3.0->cufflinks) (0.4.6)\n",
      "Requirement already satisfied: pickleshare in c:\\programdata\\anaconda3\\lib\\site-packages (from ipython>=5.3.0->cufflinks) (0.7.5)\n",
      "Requirement already satisfied: matplotlib-inline in c:\\programdata\\anaconda3\\lib\\site-packages (from ipython>=5.3.0->cufflinks) (0.1.6)\n",
      "Requirement already satisfied: stack-data in c:\\programdata\\anaconda3\\lib\\site-packages (from ipython>=5.3.0->cufflinks) (0.2.0)\n",
      "Requirement already satisfied: pygments>=2.4.0 in c:\\programdata\\anaconda3\\lib\\site-packages (from ipython>=5.3.0->cufflinks) (2.11.2)\n",
      "Requirement already satisfied: prompt-toolkit<3.1.0,>=3.0.30 in c:\\programdata\\anaconda3\\lib\\site-packages (from ipython>=5.3.0->cufflinks) (3.0.36)\n",
      "Requirement already satisfied: ipython-genutils~=0.2.0 in c:\\programdata\\anaconda3\\lib\\site-packages (from ipywidgets>=7.0.0->cufflinks) (0.2.0)\n",
      "Requirement already satisfied: widgetsnbextension~=3.5.0 in c:\\programdata\\anaconda3\\lib\\site-packages (from ipywidgets>=7.0.0->cufflinks) (3.5.2)\n",
      "Requirement already satisfied: jupyterlab-widgets>=1.0.0 in c:\\programdata\\anaconda3\\lib\\site-packages (from ipywidgets>=7.0.0->cufflinks) (1.0.0)\n",
      "Requirement already satisfied: nbformat>=4.2.0 in c:\\programdata\\anaconda3\\lib\\site-packages (from ipywidgets>=7.0.0->cufflinks) (5.7.0)\n",
      "Requirement already satisfied: ipykernel>=4.5.1 in c:\\programdata\\anaconda3\\lib\\site-packages (from ipywidgets>=7.0.0->cufflinks) (6.19.2)\n",
      "Requirement already satisfied: pytz>=2020.1 in c:\\programdata\\anaconda3\\lib\\site-packages (from pandas>=0.19.2->cufflinks) (2022.7)\n",
      "Requirement already satisfied: python-dateutil>=2.8.1 in c:\\programdata\\anaconda3\\lib\\site-packages (from pandas>=0.19.2->cufflinks) (2.8.2)\n",
      "Requirement already satisfied: tenacity>=6.2.0 in c:\\programdata\\anaconda3\\lib\\site-packages (from plotly>=4.1.1->cufflinks) (8.0.1)\n",
      "Requirement already satisfied: debugpy>=1.0 in c:\\programdata\\anaconda3\\lib\\site-packages (from ipykernel>=4.5.1->ipywidgets>=7.0.0->cufflinks) (1.5.1)\n",
      "Requirement already satisfied: jupyter-client>=6.1.12 in c:\\programdata\\anaconda3\\lib\\site-packages (from ipykernel>=4.5.1->ipywidgets>=7.0.0->cufflinks) (7.3.4)\n",
      "Requirement already satisfied: packaging in c:\\programdata\\anaconda3\\lib\\site-packages (from ipykernel>=4.5.1->ipywidgets>=7.0.0->cufflinks) (22.0)\n",
      "Requirement already satisfied: tornado>=6.1 in c:\\programdata\\anaconda3\\lib\\site-packages (from ipykernel>=4.5.1->ipywidgets>=7.0.0->cufflinks) (6.1)\n",
      "Requirement already satisfied: comm>=0.1.1 in c:\\programdata\\anaconda3\\lib\\site-packages (from ipykernel>=4.5.1->ipywidgets>=7.0.0->cufflinks) (0.1.2)\n",
      "Requirement already satisfied: pyzmq>=17 in c:\\programdata\\anaconda3\\lib\\site-packages (from ipykernel>=4.5.1->ipywidgets>=7.0.0->cufflinks) (23.2.0)\n",
      "Requirement already satisfied: psutil in c:\\programdata\\anaconda3\\lib\\site-packages (from ipykernel>=4.5.1->ipywidgets>=7.0.0->cufflinks) (5.9.0)\n",
      "Requirement already satisfied: nest-asyncio in c:\\programdata\\anaconda3\\lib\\site-packages (from ipykernel>=4.5.1->ipywidgets>=7.0.0->cufflinks) (1.5.6)\n",
      "Requirement already satisfied: parso<0.9.0,>=0.8.0 in c:\\programdata\\anaconda3\\lib\\site-packages (from jedi>=0.16->ipython>=5.3.0->cufflinks) (0.8.3)\n",
      "Requirement already satisfied: fastjsonschema in c:\\programdata\\anaconda3\\lib\\site-packages (from nbformat>=4.2.0->ipywidgets>=7.0.0->cufflinks) (2.16.2)\n",
      "Requirement already satisfied: jupyter-core in c:\\programdata\\anaconda3\\lib\\site-packages (from nbformat>=4.2.0->ipywidgets>=7.0.0->cufflinks) (5.2.0)\n",
      "Requirement already satisfied: jsonschema>=2.6 in c:\\programdata\\anaconda3\\lib\\site-packages (from nbformat>=4.2.0->ipywidgets>=7.0.0->cufflinks) (4.17.3)\n",
      "Requirement already satisfied: wcwidth in c:\\programdata\\anaconda3\\lib\\site-packages (from prompt-toolkit<3.1.0,>=3.0.30->ipython>=5.3.0->cufflinks) (0.2.5)\n",
      "Requirement already satisfied: notebook>=4.4.1 in c:\\programdata\\anaconda3\\lib\\site-packages (from widgetsnbextension~=3.5.0->ipywidgets>=7.0.0->cufflinks) (6.5.2)\n",
      "Requirement already satisfied: executing in c:\\programdata\\anaconda3\\lib\\site-packages (from stack-data->ipython>=5.3.0->cufflinks) (0.8.3)\n",
      "Requirement already satisfied: pure-eval in c:\\programdata\\anaconda3\\lib\\site-packages (from stack-data->ipython>=5.3.0->cufflinks) (0.2.2)\n",
      "Requirement already satisfied: asttokens in c:\\programdata\\anaconda3\\lib\\site-packages (from stack-data->ipython>=5.3.0->cufflinks) (2.0.5)\n",
      "Requirement already satisfied: pyrsistent!=0.17.0,!=0.17.1,!=0.17.2,>=0.14.0 in c:\\programdata\\anaconda3\\lib\\site-packages (from jsonschema>=2.6->nbformat>=4.2.0->ipywidgets>=7.0.0->cufflinks) (0.18.0)\n",
      "Requirement already satisfied: attrs>=17.4.0 in c:\\programdata\\anaconda3\\lib\\site-packages (from jsonschema>=2.6->nbformat>=4.2.0->ipywidgets>=7.0.0->cufflinks) (22.1.0)\n",
      "Requirement already satisfied: entrypoints in c:\\programdata\\anaconda3\\lib\\site-packages (from jupyter-client>=6.1.12->ipykernel>=4.5.1->ipywidgets>=7.0.0->cufflinks) (0.4)\n",
      "Requirement already satisfied: pywin32>=1.0 in c:\\programdata\\anaconda3\\lib\\site-packages (from jupyter-core->nbformat>=4.2.0->ipywidgets>=7.0.0->cufflinks) (305.1)\n",
      "Requirement already satisfied: platformdirs>=2.5 in c:\\programdata\\anaconda3\\lib\\site-packages (from jupyter-core->nbformat>=4.2.0->ipywidgets>=7.0.0->cufflinks) (2.5.2)\n",
      "Requirement already satisfied: argon2-cffi in c:\\programdata\\anaconda3\\lib\\site-packages (from notebook>=4.4.1->widgetsnbextension~=3.5.0->ipywidgets>=7.0.0->cufflinks) (21.3.0)\n",
      "Requirement already satisfied: terminado>=0.8.3 in c:\\programdata\\anaconda3\\lib\\site-packages (from notebook>=4.4.1->widgetsnbextension~=3.5.0->ipywidgets>=7.0.0->cufflinks) (0.17.1)\n",
      "Requirement already satisfied: jinja2 in c:\\programdata\\anaconda3\\lib\\site-packages (from notebook>=4.4.1->widgetsnbextension~=3.5.0->ipywidgets>=7.0.0->cufflinks) (3.1.2)\n",
      "Requirement already satisfied: Send2Trash>=1.8.0 in c:\\programdata\\anaconda3\\lib\\site-packages (from notebook>=4.4.1->widgetsnbextension~=3.5.0->ipywidgets>=7.0.0->cufflinks) (1.8.0)\n",
      "Requirement already satisfied: nbclassic>=0.4.7 in c:\\programdata\\anaconda3\\lib\\site-packages (from notebook>=4.4.1->widgetsnbextension~=3.5.0->ipywidgets>=7.0.0->cufflinks) (0.5.2)\n",
      "Requirement already satisfied: nbconvert>=5 in c:\\programdata\\anaconda3\\lib\\site-packages (from notebook>=4.4.1->widgetsnbextension~=3.5.0->ipywidgets>=7.0.0->cufflinks) (6.5.4)\n",
      "Requirement already satisfied: prometheus-client in c:\\programdata\\anaconda3\\lib\\site-packages (from notebook>=4.4.1->widgetsnbextension~=3.5.0->ipywidgets>=7.0.0->cufflinks) (0.14.1)\n",
      "Requirement already satisfied: jupyter-server>=1.8 in c:\\programdata\\anaconda3\\lib\\site-packages (from nbclassic>=0.4.7->notebook>=4.4.1->widgetsnbextension~=3.5.0->ipywidgets>=7.0.0->cufflinks) (1.23.4)\n",
      "Requirement already satisfied: notebook-shim>=0.1.0 in c:\\programdata\\anaconda3\\lib\\site-packages (from nbclassic>=0.4.7->notebook>=4.4.1->widgetsnbextension~=3.5.0->ipywidgets>=7.0.0->cufflinks) (0.2.2)\n",
      "Requirement already satisfied: defusedxml in c:\\programdata\\anaconda3\\lib\\site-packages (from nbconvert>=5->notebook>=4.4.1->widgetsnbextension~=3.5.0->ipywidgets>=7.0.0->cufflinks) (0.7.1)\n",
      "Requirement already satisfied: nbclient>=0.5.0 in c:\\programdata\\anaconda3\\lib\\site-packages (from nbconvert>=5->notebook>=4.4.1->widgetsnbextension~=3.5.0->ipywidgets>=7.0.0->cufflinks) (0.5.13)\n",
      "Requirement already satisfied: jupyterlab-pygments in c:\\programdata\\anaconda3\\lib\\site-packages (from nbconvert>=5->notebook>=4.4.1->widgetsnbextension~=3.5.0->ipywidgets>=7.0.0->cufflinks) (0.1.2)\n",
      "Requirement already satisfied: MarkupSafe>=2.0 in c:\\programdata\\anaconda3\\lib\\site-packages (from nbconvert>=5->notebook>=4.4.1->widgetsnbextension~=3.5.0->ipywidgets>=7.0.0->cufflinks) (2.1.1)\n",
      "Requirement already satisfied: pandocfilters>=1.4.1 in c:\\programdata\\anaconda3\\lib\\site-packages (from nbconvert>=5->notebook>=4.4.1->widgetsnbextension~=3.5.0->ipywidgets>=7.0.0->cufflinks) (1.5.0)\n",
      "Requirement already satisfied: mistune<2,>=0.8.1 in c:\\programdata\\anaconda3\\lib\\site-packages (from nbconvert>=5->notebook>=4.4.1->widgetsnbextension~=3.5.0->ipywidgets>=7.0.0->cufflinks) (0.8.4)\n",
      "Requirement already satisfied: bleach in c:\\programdata\\anaconda3\\lib\\site-packages (from nbconvert>=5->notebook>=4.4.1->widgetsnbextension~=3.5.0->ipywidgets>=7.0.0->cufflinks) (4.1.0)\n",
      "Requirement already satisfied: tinycss2 in c:\\programdata\\anaconda3\\lib\\site-packages (from nbconvert>=5->notebook>=4.4.1->widgetsnbextension~=3.5.0->ipywidgets>=7.0.0->cufflinks) (1.2.1)\n",
      "Requirement already satisfied: lxml in c:\\programdata\\anaconda3\\lib\\site-packages (from nbconvert>=5->notebook>=4.4.1->widgetsnbextension~=3.5.0->ipywidgets>=7.0.0->cufflinks) (4.9.1)\n",
      "Requirement already satisfied: beautifulsoup4 in c:\\programdata\\anaconda3\\lib\\site-packages (from nbconvert>=5->notebook>=4.4.1->widgetsnbextension~=3.5.0->ipywidgets>=7.0.0->cufflinks) (4.11.1)\n",
      "Requirement already satisfied: pywinpty>=1.1.0 in c:\\programdata\\anaconda3\\lib\\site-packages (from terminado>=0.8.3->notebook>=4.4.1->widgetsnbextension~=3.5.0->ipywidgets>=7.0.0->cufflinks) (2.0.10)\n",
      "Requirement already satisfied: argon2-cffi-bindings in c:\\programdata\\anaconda3\\lib\\site-packages (from argon2-cffi->notebook>=4.4.1->widgetsnbextension~=3.5.0->ipywidgets>=7.0.0->cufflinks) (21.2.0)\n",
      "Requirement already satisfied: websocket-client in c:\\programdata\\anaconda3\\lib\\site-packages (from jupyter-server>=1.8->nbclassic>=0.4.7->notebook>=4.4.1->widgetsnbextension~=3.5.0->ipywidgets>=7.0.0->cufflinks) (0.58.0)\n",
      "Requirement already satisfied: anyio<4,>=3.1.0 in c:\\programdata\\anaconda3\\lib\\site-packages (from jupyter-server>=1.8->nbclassic>=0.4.7->notebook>=4.4.1->widgetsnbextension~=3.5.0->ipywidgets>=7.0.0->cufflinks) (3.5.0)\n",
      "Requirement already satisfied: cffi>=1.0.1 in c:\\programdata\\anaconda3\\lib\\site-packages (from argon2-cffi-bindings->argon2-cffi->notebook>=4.4.1->widgetsnbextension~=3.5.0->ipywidgets>=7.0.0->cufflinks) (1.15.1)\n",
      "Requirement already satisfied: soupsieve>1.2 in c:\\programdata\\anaconda3\\lib\\site-packages (from beautifulsoup4->nbconvert>=5->notebook>=4.4.1->widgetsnbextension~=3.5.0->ipywidgets>=7.0.0->cufflinks) (2.3.2.post1)\n",
      "Requirement already satisfied: webencodings in c:\\programdata\\anaconda3\\lib\\site-packages (from bleach->nbconvert>=5->notebook>=4.4.1->widgetsnbextension~=3.5.0->ipywidgets>=7.0.0->cufflinks) (0.5.1)\n",
      "Requirement already satisfied: idna>=2.8 in c:\\programdata\\anaconda3\\lib\\site-packages (from anyio<4,>=3.1.0->jupyter-server>=1.8->nbclassic>=0.4.7->notebook>=4.4.1->widgetsnbextension~=3.5.0->ipywidgets>=7.0.0->cufflinks) (3.4)\n",
      "Requirement already satisfied: sniffio>=1.1 in c:\\programdata\\anaconda3\\lib\\site-packages (from anyio<4,>=3.1.0->jupyter-server>=1.8->nbclassic>=0.4.7->notebook>=4.4.1->widgetsnbextension~=3.5.0->ipywidgets>=7.0.0->cufflinks) (1.2.0)\n",
      "Requirement already satisfied: pycparser in c:\\programdata\\anaconda3\\lib\\site-packages (from cffi>=1.0.1->argon2-cffi-bindings->argon2-cffi->notebook>=4.4.1->widgetsnbextension~=3.5.0->ipywidgets>=7.0.0->cufflinks) (2.21)\n",
      "Defaulting to user installation because normal site-packages is not writeable\n",
      "Requirement already satisfied: cufflinks in c:\\users\\noor zahra\\appdata\\roaming\\python\\python310\\site-packages (0.17.3)\n",
      "Requirement already satisfied: setuptools>=34.4.1 in c:\\programdata\\anaconda3\\lib\\site-packages (from cufflinks) (65.6.3)\n",
      "Requirement already satisfied: six>=1.9.0 in c:\\programdata\\anaconda3\\lib\\site-packages (from cufflinks) (1.16.0)\n",
      "Requirement already satisfied: ipywidgets>=7.0.0 in c:\\programdata\\anaconda3\\lib\\site-packages (from cufflinks) (7.6.5)\n",
      "Requirement already satisfied: colorlover>=0.2.1 in c:\\users\\noor zahra\\appdata\\roaming\\python\\python310\\site-packages (from cufflinks) (0.3.0)\n",
      "Requirement already satisfied: plotly>=4.1.1 in c:\\programdata\\anaconda3\\lib\\site-packages (from cufflinks) (5.9.0)\n",
      "Requirement already satisfied: numpy>=1.9.2 in c:\\programdata\\anaconda3\\lib\\site-packages (from cufflinks) (1.23.5)\n",
      "Requirement already satisfied: pandas>=0.19.2 in c:\\programdata\\anaconda3\\lib\\site-packages (from cufflinks) (1.5.3)\n",
      "Requirement already satisfied: ipython>=5.3.0 in c:\\programdata\\anaconda3\\lib\\site-packages (from cufflinks) (8.10.0)\n",
      "Requirement already satisfied: decorator in c:\\programdata\\anaconda3\\lib\\site-packages (from ipython>=5.3.0->cufflinks) (5.1.1)\n",
      "Requirement already satisfied: pickleshare in c:\\programdata\\anaconda3\\lib\\site-packages (from ipython>=5.3.0->cufflinks) (0.7.5)\n",
      "Requirement already satisfied: pygments>=2.4.0 in c:\\programdata\\anaconda3\\lib\\site-packages (from ipython>=5.3.0->cufflinks) (2.11.2)\n",
      "Requirement already satisfied: matplotlib-inline in c:\\programdata\\anaconda3\\lib\\site-packages (from ipython>=5.3.0->cufflinks) (0.1.6)\n",
      "Requirement already satisfied: prompt-toolkit<3.1.0,>=3.0.30 in c:\\programdata\\anaconda3\\lib\\site-packages (from ipython>=5.3.0->cufflinks) (3.0.36)\n",
      "Requirement already satisfied: jedi>=0.16 in c:\\programdata\\anaconda3\\lib\\site-packages (from ipython>=5.3.0->cufflinks) (0.18.1)\n",
      "Requirement already satisfied: colorama in c:\\programdata\\anaconda3\\lib\\site-packages (from ipython>=5.3.0->cufflinks) (0.4.6)\n",
      "Requirement already satisfied: traitlets>=5 in c:\\programdata\\anaconda3\\lib\\site-packages (from ipython>=5.3.0->cufflinks) (5.7.1)\n",
      "Requirement already satisfied: stack-data in c:\\programdata\\anaconda3\\lib\\site-packages (from ipython>=5.3.0->cufflinks) (0.2.0)\n",
      "Requirement already satisfied: backcall in c:\\programdata\\anaconda3\\lib\\site-packages (from ipython>=5.3.0->cufflinks) (0.2.0)\n",
      "Requirement already satisfied: ipython-genutils~=0.2.0 in c:\\programdata\\anaconda3\\lib\\site-packages (from ipywidgets>=7.0.0->cufflinks) (0.2.0)\n",
      "Requirement already satisfied: jupyterlab-widgets>=1.0.0 in c:\\programdata\\anaconda3\\lib\\site-packages (from ipywidgets>=7.0.0->cufflinks) (1.0.0)\n",
      "Requirement already satisfied: widgetsnbextension~=3.5.0 in c:\\programdata\\anaconda3\\lib\\site-packages (from ipywidgets>=7.0.0->cufflinks) (3.5.2)\n",
      "Requirement already satisfied: ipykernel>=4.5.1 in c:\\programdata\\anaconda3\\lib\\site-packages (from ipywidgets>=7.0.0->cufflinks) (6.19.2)\n",
      "Requirement already satisfied: nbformat>=4.2.0 in c:\\programdata\\anaconda3\\lib\\site-packages (from ipywidgets>=7.0.0->cufflinks) (5.7.0)\n",
      "Requirement already satisfied: python-dateutil>=2.8.1 in c:\\programdata\\anaconda3\\lib\\site-packages (from pandas>=0.19.2->cufflinks) (2.8.2)\n",
      "Requirement already satisfied: pytz>=2020.1 in c:\\programdata\\anaconda3\\lib\\site-packages (from pandas>=0.19.2->cufflinks) (2022.7)\n",
      "Requirement already satisfied: tenacity>=6.2.0 in c:\\programdata\\anaconda3\\lib\\site-packages (from plotly>=4.1.1->cufflinks) (8.0.1)\n",
      "Requirement already satisfied: comm>=0.1.1 in c:\\programdata\\anaconda3\\lib\\site-packages (from ipykernel>=4.5.1->ipywidgets>=7.0.0->cufflinks) (0.1.2)\n",
      "Requirement already satisfied: nest-asyncio in c:\\programdata\\anaconda3\\lib\\site-packages (from ipykernel>=4.5.1->ipywidgets>=7.0.0->cufflinks) (1.5.6)\n",
      "Requirement already satisfied: packaging in c:\\programdata\\anaconda3\\lib\\site-packages (from ipykernel>=4.5.1->ipywidgets>=7.0.0->cufflinks) (22.0)\n",
      "Requirement already satisfied: jupyter-client>=6.1.12 in c:\\programdata\\anaconda3\\lib\\site-packages (from ipykernel>=4.5.1->ipywidgets>=7.0.0->cufflinks) (7.3.4)\n",
      "Requirement already satisfied: tornado>=6.1 in c:\\programdata\\anaconda3\\lib\\site-packages (from ipykernel>=4.5.1->ipywidgets>=7.0.0->cufflinks) (6.1)\n",
      "Requirement already satisfied: pyzmq>=17 in c:\\programdata\\anaconda3\\lib\\site-packages (from ipykernel>=4.5.1->ipywidgets>=7.0.0->cufflinks) (23.2.0)\n",
      "Requirement already satisfied: psutil in c:\\programdata\\anaconda3\\lib\\site-packages (from ipykernel>=4.5.1->ipywidgets>=7.0.0->cufflinks) (5.9.0)\n",
      "Requirement already satisfied: debugpy>=1.0 in c:\\programdata\\anaconda3\\lib\\site-packages (from ipykernel>=4.5.1->ipywidgets>=7.0.0->cufflinks) (1.5.1)\n",
      "Requirement already satisfied: parso<0.9.0,>=0.8.0 in c:\\programdata\\anaconda3\\lib\\site-packages (from jedi>=0.16->ipython>=5.3.0->cufflinks) (0.8.3)\n",
      "Requirement already satisfied: jupyter-core in c:\\programdata\\anaconda3\\lib\\site-packages (from nbformat>=4.2.0->ipywidgets>=7.0.0->cufflinks) (5.2.0)\n",
      "Requirement already satisfied: fastjsonschema in c:\\programdata\\anaconda3\\lib\\site-packages (from nbformat>=4.2.0->ipywidgets>=7.0.0->cufflinks) (2.16.2)\n",
      "Requirement already satisfied: jsonschema>=2.6 in c:\\programdata\\anaconda3\\lib\\site-packages (from nbformat>=4.2.0->ipywidgets>=7.0.0->cufflinks) (4.17.3)\n",
      "Requirement already satisfied: wcwidth in c:\\programdata\\anaconda3\\lib\\site-packages (from prompt-toolkit<3.1.0,>=3.0.30->ipython>=5.3.0->cufflinks) (0.2.5)\n",
      "Requirement already satisfied: notebook>=4.4.1 in c:\\programdata\\anaconda3\\lib\\site-packages (from widgetsnbextension~=3.5.0->ipywidgets>=7.0.0->cufflinks) (6.5.2)\n",
      "Requirement already satisfied: asttokens in c:\\programdata\\anaconda3\\lib\\site-packages (from stack-data->ipython>=5.3.0->cufflinks) (2.0.5)\n",
      "Requirement already satisfied: executing in c:\\programdata\\anaconda3\\lib\\site-packages (from stack-data->ipython>=5.3.0->cufflinks) (0.8.3)\n",
      "Requirement already satisfied: pure-eval in c:\\programdata\\anaconda3\\lib\\site-packages (from stack-data->ipython>=5.3.0->cufflinks) (0.2.2)\n",
      "Requirement already satisfied: attrs>=17.4.0 in c:\\programdata\\anaconda3\\lib\\site-packages (from jsonschema>=2.6->nbformat>=4.2.0->ipywidgets>=7.0.0->cufflinks) (22.1.0)\n",
      "Requirement already satisfied: pyrsistent!=0.17.0,!=0.17.1,!=0.17.2,>=0.14.0 in c:\\programdata\\anaconda3\\lib\\site-packages (from jsonschema>=2.6->nbformat>=4.2.0->ipywidgets>=7.0.0->cufflinks) (0.18.0)\n",
      "Requirement already satisfied: entrypoints in c:\\programdata\\anaconda3\\lib\\site-packages (from jupyter-client>=6.1.12->ipykernel>=4.5.1->ipywidgets>=7.0.0->cufflinks) (0.4)\n",
      "Requirement already satisfied: pywin32>=1.0 in c:\\programdata\\anaconda3\\lib\\site-packages (from jupyter-core->nbformat>=4.2.0->ipywidgets>=7.0.0->cufflinks) (305.1)\n",
      "Requirement already satisfied: platformdirs>=2.5 in c:\\programdata\\anaconda3\\lib\\site-packages (from jupyter-core->nbformat>=4.2.0->ipywidgets>=7.0.0->cufflinks) (2.5.2)\n",
      "Requirement already satisfied: argon2-cffi in c:\\programdata\\anaconda3\\lib\\site-packages (from notebook>=4.4.1->widgetsnbextension~=3.5.0->ipywidgets>=7.0.0->cufflinks) (21.3.0)\n",
      "Requirement already satisfied: prometheus-client in c:\\programdata\\anaconda3\\lib\\site-packages (from notebook>=4.4.1->widgetsnbextension~=3.5.0->ipywidgets>=7.0.0->cufflinks) (0.14.1)\n",
      "Requirement already satisfied: Send2Trash>=1.8.0 in c:\\programdata\\anaconda3\\lib\\site-packages (from notebook>=4.4.1->widgetsnbextension~=3.5.0->ipywidgets>=7.0.0->cufflinks) (1.8.0)\n",
      "Requirement already satisfied: terminado>=0.8.3 in c:\\programdata\\anaconda3\\lib\\site-packages (from notebook>=4.4.1->widgetsnbextension~=3.5.0->ipywidgets>=7.0.0->cufflinks) (0.17.1)\n",
      "Requirement already satisfied: nbclassic>=0.4.7 in c:\\programdata\\anaconda3\\lib\\site-packages (from notebook>=4.4.1->widgetsnbextension~=3.5.0->ipywidgets>=7.0.0->cufflinks) (0.5.2)\n",
      "Requirement already satisfied: jinja2 in c:\\programdata\\anaconda3\\lib\\site-packages (from notebook>=4.4.1->widgetsnbextension~=3.5.0->ipywidgets>=7.0.0->cufflinks) (3.1.2)\n",
      "Requirement already satisfied: nbconvert>=5 in c:\\programdata\\anaconda3\\lib\\site-packages (from notebook>=4.4.1->widgetsnbextension~=3.5.0->ipywidgets>=7.0.0->cufflinks) (6.5.4)\n",
      "Requirement already satisfied: notebook-shim>=0.1.0 in c:\\programdata\\anaconda3\\lib\\site-packages (from nbclassic>=0.4.7->notebook>=4.4.1->widgetsnbextension~=3.5.0->ipywidgets>=7.0.0->cufflinks) (0.2.2)\n",
      "Requirement already satisfied: jupyter-server>=1.8 in c:\\programdata\\anaconda3\\lib\\site-packages (from nbclassic>=0.4.7->notebook>=4.4.1->widgetsnbextension~=3.5.0->ipywidgets>=7.0.0->cufflinks) (1.23.4)\n",
      "Requirement already satisfied: mistune<2,>=0.8.1 in c:\\programdata\\anaconda3\\lib\\site-packages (from nbconvert>=5->notebook>=4.4.1->widgetsnbextension~=3.5.0->ipywidgets>=7.0.0->cufflinks) (0.8.4)\n",
      "Requirement already satisfied: pandocfilters>=1.4.1 in c:\\programdata\\anaconda3\\lib\\site-packages (from nbconvert>=5->notebook>=4.4.1->widgetsnbextension~=3.5.0->ipywidgets>=7.0.0->cufflinks) (1.5.0)\n",
      "Requirement already satisfied: jupyterlab-pygments in c:\\programdata\\anaconda3\\lib\\site-packages (from nbconvert>=5->notebook>=4.4.1->widgetsnbextension~=3.5.0->ipywidgets>=7.0.0->cufflinks) (0.1.2)\n",
      "Requirement already satisfied: nbclient>=0.5.0 in c:\\programdata\\anaconda3\\lib\\site-packages (from nbconvert>=5->notebook>=4.4.1->widgetsnbextension~=3.5.0->ipywidgets>=7.0.0->cufflinks) (0.5.13)\n",
      "Requirement already satisfied: bleach in c:\\programdata\\anaconda3\\lib\\site-packages (from nbconvert>=5->notebook>=4.4.1->widgetsnbextension~=3.5.0->ipywidgets>=7.0.0->cufflinks) (4.1.0)\n",
      "Requirement already satisfied: beautifulsoup4 in c:\\programdata\\anaconda3\\lib\\site-packages (from nbconvert>=5->notebook>=4.4.1->widgetsnbextension~=3.5.0->ipywidgets>=7.0.0->cufflinks) (4.11.1)\n",
      "Requirement already satisfied: defusedxml in c:\\programdata\\anaconda3\\lib\\site-packages (from nbconvert>=5->notebook>=4.4.1->widgetsnbextension~=3.5.0->ipywidgets>=7.0.0->cufflinks) (0.7.1)\n",
      "Requirement already satisfied: tinycss2 in c:\\programdata\\anaconda3\\lib\\site-packages (from nbconvert>=5->notebook>=4.4.1->widgetsnbextension~=3.5.0->ipywidgets>=7.0.0->cufflinks) (1.2.1)\n",
      "Requirement already satisfied: MarkupSafe>=2.0 in c:\\programdata\\anaconda3\\lib\\site-packages (from nbconvert>=5->notebook>=4.4.1->widgetsnbextension~=3.5.0->ipywidgets>=7.0.0->cufflinks) (2.1.1)\n",
      "Requirement already satisfied: lxml in c:\\programdata\\anaconda3\\lib\\site-packages (from nbconvert>=5->notebook>=4.4.1->widgetsnbextension~=3.5.0->ipywidgets>=7.0.0->cufflinks) (4.9.1)\n",
      "Requirement already satisfied: pywinpty>=1.1.0 in c:\\programdata\\anaconda3\\lib\\site-packages (from terminado>=0.8.3->notebook>=4.4.1->widgetsnbextension~=3.5.0->ipywidgets>=7.0.0->cufflinks) (2.0.10)\n",
      "Requirement already satisfied: argon2-cffi-bindings in c:\\programdata\\anaconda3\\lib\\site-packages (from argon2-cffi->notebook>=4.4.1->widgetsnbextension~=3.5.0->ipywidgets>=7.0.0->cufflinks) (21.2.0)\n",
      "Requirement already satisfied: anyio<4,>=3.1.0 in c:\\programdata\\anaconda3\\lib\\site-packages (from jupyter-server>=1.8->nbclassic>=0.4.7->notebook>=4.4.1->widgetsnbextension~=3.5.0->ipywidgets>=7.0.0->cufflinks) (3.5.0)\n",
      "Requirement already satisfied: websocket-client in c:\\programdata\\anaconda3\\lib\\site-packages (from jupyter-server>=1.8->nbclassic>=0.4.7->notebook>=4.4.1->widgetsnbextension~=3.5.0->ipywidgets>=7.0.0->cufflinks) (0.58.0)\n",
      "Requirement already satisfied: cffi>=1.0.1 in c:\\programdata\\anaconda3\\lib\\site-packages (from argon2-cffi-bindings->argon2-cffi->notebook>=4.4.1->widgetsnbextension~=3.5.0->ipywidgets>=7.0.0->cufflinks) (1.15.1)\n",
      "Requirement already satisfied: soupsieve>1.2 in c:\\programdata\\anaconda3\\lib\\site-packages (from beautifulsoup4->nbconvert>=5->notebook>=4.4.1->widgetsnbextension~=3.5.0->ipywidgets>=7.0.0->cufflinks) (2.3.2.post1)\n",
      "Requirement already satisfied: webencodings in c:\\programdata\\anaconda3\\lib\\site-packages (from bleach->nbconvert>=5->notebook>=4.4.1->widgetsnbextension~=3.5.0->ipywidgets>=7.0.0->cufflinks) (0.5.1)\n",
      "Requirement already satisfied: sniffio>=1.1 in c:\\programdata\\anaconda3\\lib\\site-packages (from anyio<4,>=3.1.0->jupyter-server>=1.8->nbclassic>=0.4.7->notebook>=4.4.1->widgetsnbextension~=3.5.0->ipywidgets>=7.0.0->cufflinks) (1.2.0)\n",
      "Requirement already satisfied: idna>=2.8 in c:\\programdata\\anaconda3\\lib\\site-packages (from anyio<4,>=3.1.0->jupyter-server>=1.8->nbclassic>=0.4.7->notebook>=4.4.1->widgetsnbextension~=3.5.0->ipywidgets>=7.0.0->cufflinks) (3.4)\n",
      "Requirement already satisfied: pycparser in c:\\programdata\\anaconda3\\lib\\site-packages (from cffi>=1.0.1->argon2-cffi-bindings->argon2-cffi->notebook>=4.4.1->widgetsnbextension~=3.5.0->ipywidgets>=7.0.0->cufflinks) (2.21)\n",
      "Defaulting to user installation because normal site-packages is not writeable\n",
      "Requirement already satisfied: cufflinks in c:\\users\\noor zahra\\appdata\\roaming\\python\\python310\\site-packages (0.17.3)\n",
      "Requirement already satisfied: ipywidgets>=7.0.0 in c:\\programdata\\anaconda3\\lib\\site-packages (from cufflinks) (7.6.5)\n",
      "Requirement already satisfied: colorlover>=0.2.1 in c:\\users\\noor zahra\\appdata\\roaming\\python\\python310\\site-packages (from cufflinks) (0.3.0)\n",
      "Requirement already satisfied: numpy>=1.9.2 in c:\\programdata\\anaconda3\\lib\\site-packages (from cufflinks) (1.23.5)\n",
      "Requirement already satisfied: setuptools>=34.4.1 in c:\\programdata\\anaconda3\\lib\\site-packages (from cufflinks) (65.6.3)\n",
      "Requirement already satisfied: six>=1.9.0 in c:\\programdata\\anaconda3\\lib\\site-packages (from cufflinks) (1.16.0)\n",
      "Requirement already satisfied: plotly>=4.1.1 in c:\\programdata\\anaconda3\\lib\\site-packages (from cufflinks) (5.9.0)\n",
      "Requirement already satisfied: pandas>=0.19.2 in c:\\programdata\\anaconda3\\lib\\site-packages (from cufflinks) (1.5.3)\n",
      "Requirement already satisfied: ipython>=5.3.0 in c:\\programdata\\anaconda3\\lib\\site-packages (from cufflinks) (8.10.0)\n",
      "Requirement already satisfied: matplotlib-inline in c:\\programdata\\anaconda3\\lib\\site-packages (from ipython>=5.3.0->cufflinks) (0.1.6)\n",
      "Requirement already satisfied: pygments>=2.4.0 in c:\\programdata\\anaconda3\\lib\\site-packages (from ipython>=5.3.0->cufflinks) (2.11.2)\n",
      "Requirement already satisfied: backcall in c:\\programdata\\anaconda3\\lib\\site-packages (from ipython>=5.3.0->cufflinks) (0.2.0)\n",
      "Requirement already satisfied: traitlets>=5 in c:\\programdata\\anaconda3\\lib\\site-packages (from ipython>=5.3.0->cufflinks) (5.7.1)\n",
      "Requirement already satisfied: jedi>=0.16 in c:\\programdata\\anaconda3\\lib\\site-packages (from ipython>=5.3.0->cufflinks) (0.18.1)\n",
      "Requirement already satisfied: stack-data in c:\\programdata\\anaconda3\\lib\\site-packages (from ipython>=5.3.0->cufflinks) (0.2.0)\n",
      "Requirement already satisfied: decorator in c:\\programdata\\anaconda3\\lib\\site-packages (from ipython>=5.3.0->cufflinks) (5.1.1)\n",
      "Requirement already satisfied: colorama in c:\\programdata\\anaconda3\\lib\\site-packages (from ipython>=5.3.0->cufflinks) (0.4.6)\n",
      "Requirement already satisfied: pickleshare in c:\\programdata\\anaconda3\\lib\\site-packages (from ipython>=5.3.0->cufflinks) (0.7.5)\n",
      "Requirement already satisfied: prompt-toolkit<3.1.0,>=3.0.30 in c:\\programdata\\anaconda3\\lib\\site-packages (from ipython>=5.3.0->cufflinks) (3.0.36)\n",
      "Requirement already satisfied: nbformat>=4.2.0 in c:\\programdata\\anaconda3\\lib\\site-packages (from ipywidgets>=7.0.0->cufflinks) (5.7.0)\n",
      "Requirement already satisfied: ipykernel>=4.5.1 in c:\\programdata\\anaconda3\\lib\\site-packages (from ipywidgets>=7.0.0->cufflinks) (6.19.2)\n",
      "Requirement already satisfied: jupyterlab-widgets>=1.0.0 in c:\\programdata\\anaconda3\\lib\\site-packages (from ipywidgets>=7.0.0->cufflinks) (1.0.0)\n",
      "Requirement already satisfied: ipython-genutils~=0.2.0 in c:\\programdata\\anaconda3\\lib\\site-packages (from ipywidgets>=7.0.0->cufflinks) (0.2.0)\n",
      "Requirement already satisfied: widgetsnbextension~=3.5.0 in c:\\programdata\\anaconda3\\lib\\site-packages (from ipywidgets>=7.0.0->cufflinks) (3.5.2)\n",
      "Requirement already satisfied: pytz>=2020.1 in c:\\programdata\\anaconda3\\lib\\site-packages (from pandas>=0.19.2->cufflinks) (2022.7)\n",
      "Requirement already satisfied: python-dateutil>=2.8.1 in c:\\programdata\\anaconda3\\lib\\site-packages (from pandas>=0.19.2->cufflinks) (2.8.2)\n",
      "Requirement already satisfied: tenacity>=6.2.0 in c:\\programdata\\anaconda3\\lib\\site-packages (from plotly>=4.1.1->cufflinks) (8.0.1)\n",
      "Requirement already satisfied: psutil in c:\\programdata\\anaconda3\\lib\\site-packages (from ipykernel>=4.5.1->ipywidgets>=7.0.0->cufflinks) (5.9.0)\n",
      "Requirement already satisfied: packaging in c:\\programdata\\anaconda3\\lib\\site-packages (from ipykernel>=4.5.1->ipywidgets>=7.0.0->cufflinks) (22.0)\n",
      "Requirement already satisfied: comm>=0.1.1 in c:\\programdata\\anaconda3\\lib\\site-packages (from ipykernel>=4.5.1->ipywidgets>=7.0.0->cufflinks) (0.1.2)\n",
      "Requirement already satisfied: nest-asyncio in c:\\programdata\\anaconda3\\lib\\site-packages (from ipykernel>=4.5.1->ipywidgets>=7.0.0->cufflinks) (1.5.6)\n",
      "Requirement already satisfied: pyzmq>=17 in c:\\programdata\\anaconda3\\lib\\site-packages (from ipykernel>=4.5.1->ipywidgets>=7.0.0->cufflinks) (23.2.0)\n",
      "Requirement already satisfied: tornado>=6.1 in c:\\programdata\\anaconda3\\lib\\site-packages (from ipykernel>=4.5.1->ipywidgets>=7.0.0->cufflinks) (6.1)\n",
      "Requirement already satisfied: jupyter-client>=6.1.12 in c:\\programdata\\anaconda3\\lib\\site-packages (from ipykernel>=4.5.1->ipywidgets>=7.0.0->cufflinks) (7.3.4)\n",
      "Requirement already satisfied: debugpy>=1.0 in c:\\programdata\\anaconda3\\lib\\site-packages (from ipykernel>=4.5.1->ipywidgets>=7.0.0->cufflinks) (1.5.1)\n",
      "Requirement already satisfied: parso<0.9.0,>=0.8.0 in c:\\programdata\\anaconda3\\lib\\site-packages (from jedi>=0.16->ipython>=5.3.0->cufflinks) (0.8.3)\n",
      "Requirement already satisfied: jsonschema>=2.6 in c:\\programdata\\anaconda3\\lib\\site-packages (from nbformat>=4.2.0->ipywidgets>=7.0.0->cufflinks) (4.17.3)\n",
      "Requirement already satisfied: fastjsonschema in c:\\programdata\\anaconda3\\lib\\site-packages (from nbformat>=4.2.0->ipywidgets>=7.0.0->cufflinks) (2.16.2)\n",
      "Requirement already satisfied: jupyter-core in c:\\programdata\\anaconda3\\lib\\site-packages (from nbformat>=4.2.0->ipywidgets>=7.0.0->cufflinks) (5.2.0)\n",
      "Requirement already satisfied: wcwidth in c:\\programdata\\anaconda3\\lib\\site-packages (from prompt-toolkit<3.1.0,>=3.0.30->ipython>=5.3.0->cufflinks) (0.2.5)\n",
      "Requirement already satisfied: notebook>=4.4.1 in c:\\programdata\\anaconda3\\lib\\site-packages (from widgetsnbextension~=3.5.0->ipywidgets>=7.0.0->cufflinks) (6.5.2)\n",
      "Requirement already satisfied: executing in c:\\programdata\\anaconda3\\lib\\site-packages (from stack-data->ipython>=5.3.0->cufflinks) (0.8.3)\n",
      "Requirement already satisfied: pure-eval in c:\\programdata\\anaconda3\\lib\\site-packages (from stack-data->ipython>=5.3.0->cufflinks) (0.2.2)\n",
      "Requirement already satisfied: asttokens in c:\\programdata\\anaconda3\\lib\\site-packages (from stack-data->ipython>=5.3.0->cufflinks) (2.0.5)\n",
      "Requirement already satisfied: attrs>=17.4.0 in c:\\programdata\\anaconda3\\lib\\site-packages (from jsonschema>=2.6->nbformat>=4.2.0->ipywidgets>=7.0.0->cufflinks) (22.1.0)\n",
      "Requirement already satisfied: pyrsistent!=0.17.0,!=0.17.1,!=0.17.2,>=0.14.0 in c:\\programdata\\anaconda3\\lib\\site-packages (from jsonschema>=2.6->nbformat>=4.2.0->ipywidgets>=7.0.0->cufflinks) (0.18.0)\n",
      "Requirement already satisfied: entrypoints in c:\\programdata\\anaconda3\\lib\\site-packages (from jupyter-client>=6.1.12->ipykernel>=4.5.1->ipywidgets>=7.0.0->cufflinks) (0.4)\n",
      "Requirement already satisfied: pywin32>=1.0 in c:\\programdata\\anaconda3\\lib\\site-packages (from jupyter-core->nbformat>=4.2.0->ipywidgets>=7.0.0->cufflinks) (305.1)\n",
      "Requirement already satisfied: platformdirs>=2.5 in c:\\programdata\\anaconda3\\lib\\site-packages (from jupyter-core->nbformat>=4.2.0->ipywidgets>=7.0.0->cufflinks) (2.5.2)\n",
      "Requirement already satisfied: terminado>=0.8.3 in c:\\programdata\\anaconda3\\lib\\site-packages (from notebook>=4.4.1->widgetsnbextension~=3.5.0->ipywidgets>=7.0.0->cufflinks) (0.17.1)\n",
      "Requirement already satisfied: argon2-cffi in c:\\programdata\\anaconda3\\lib\\site-packages (from notebook>=4.4.1->widgetsnbextension~=3.5.0->ipywidgets>=7.0.0->cufflinks) (21.3.0)\n",
      "Requirement already satisfied: Send2Trash>=1.8.0 in c:\\programdata\\anaconda3\\lib\\site-packages (from notebook>=4.4.1->widgetsnbextension~=3.5.0->ipywidgets>=7.0.0->cufflinks) (1.8.0)\n",
      "Requirement already satisfied: prometheus-client in c:\\programdata\\anaconda3\\lib\\site-packages (from notebook>=4.4.1->widgetsnbextension~=3.5.0->ipywidgets>=7.0.0->cufflinks) (0.14.1)\n",
      "Requirement already satisfied: nbclassic>=0.4.7 in c:\\programdata\\anaconda3\\lib\\site-packages (from notebook>=4.4.1->widgetsnbextension~=3.5.0->ipywidgets>=7.0.0->cufflinks) (0.5.2)\n",
      "Requirement already satisfied: nbconvert>=5 in c:\\programdata\\anaconda3\\lib\\site-packages (from notebook>=4.4.1->widgetsnbextension~=3.5.0->ipywidgets>=7.0.0->cufflinks) (6.5.4)\n",
      "Requirement already satisfied: jinja2 in c:\\programdata\\anaconda3\\lib\\site-packages (from notebook>=4.4.1->widgetsnbextension~=3.5.0->ipywidgets>=7.0.0->cufflinks) (3.1.2)\n",
      "Requirement already satisfied: notebook-shim>=0.1.0 in c:\\programdata\\anaconda3\\lib\\site-packages (from nbclassic>=0.4.7->notebook>=4.4.1->widgetsnbextension~=3.5.0->ipywidgets>=7.0.0->cufflinks) (0.2.2)\n",
      "Requirement already satisfied: jupyter-server>=1.8 in c:\\programdata\\anaconda3\\lib\\site-packages (from nbclassic>=0.4.7->notebook>=4.4.1->widgetsnbextension~=3.5.0->ipywidgets>=7.0.0->cufflinks) (1.23.4)\n",
      "Requirement already satisfied: mistune<2,>=0.8.1 in c:\\programdata\\anaconda3\\lib\\site-packages (from nbconvert>=5->notebook>=4.4.1->widgetsnbextension~=3.5.0->ipywidgets>=7.0.0->cufflinks) (0.8.4)\n",
      "Requirement already satisfied: jupyterlab-pygments in c:\\programdata\\anaconda3\\lib\\site-packages (from nbconvert>=5->notebook>=4.4.1->widgetsnbextension~=3.5.0->ipywidgets>=7.0.0->cufflinks) (0.1.2)\n",
      "Requirement already satisfied: tinycss2 in c:\\programdata\\anaconda3\\lib\\site-packages (from nbconvert>=5->notebook>=4.4.1->widgetsnbextension~=3.5.0->ipywidgets>=7.0.0->cufflinks) (1.2.1)\n",
      "Requirement already satisfied: bleach in c:\\programdata\\anaconda3\\lib\\site-packages (from nbconvert>=5->notebook>=4.4.1->widgetsnbextension~=3.5.0->ipywidgets>=7.0.0->cufflinks) (4.1.0)\n",
      "Requirement already satisfied: beautifulsoup4 in c:\\programdata\\anaconda3\\lib\\site-packages (from nbconvert>=5->notebook>=4.4.1->widgetsnbextension~=3.5.0->ipywidgets>=7.0.0->cufflinks) (4.11.1)\n",
      "Requirement already satisfied: defusedxml in c:\\programdata\\anaconda3\\lib\\site-packages (from nbconvert>=5->notebook>=4.4.1->widgetsnbextension~=3.5.0->ipywidgets>=7.0.0->cufflinks) (0.7.1)\n",
      "Requirement already satisfied: MarkupSafe>=2.0 in c:\\programdata\\anaconda3\\lib\\site-packages (from nbconvert>=5->notebook>=4.4.1->widgetsnbextension~=3.5.0->ipywidgets>=7.0.0->cufflinks) (2.1.1)\n",
      "Requirement already satisfied: nbclient>=0.5.0 in c:\\programdata\\anaconda3\\lib\\site-packages (from nbconvert>=5->notebook>=4.4.1->widgetsnbextension~=3.5.0->ipywidgets>=7.0.0->cufflinks) (0.5.13)\n",
      "Requirement already satisfied: lxml in c:\\programdata\\anaconda3\\lib\\site-packages (from nbconvert>=5->notebook>=4.4.1->widgetsnbextension~=3.5.0->ipywidgets>=7.0.0->cufflinks) (4.9.1)\n",
      "Requirement already satisfied: pandocfilters>=1.4.1 in c:\\programdata\\anaconda3\\lib\\site-packages (from nbconvert>=5->notebook>=4.4.1->widgetsnbextension~=3.5.0->ipywidgets>=7.0.0->cufflinks) (1.5.0)\n",
      "Requirement already satisfied: pywinpty>=1.1.0 in c:\\programdata\\anaconda3\\lib\\site-packages (from terminado>=0.8.3->notebook>=4.4.1->widgetsnbextension~=3.5.0->ipywidgets>=7.0.0->cufflinks) (2.0.10)\n",
      "Requirement already satisfied: argon2-cffi-bindings in c:\\programdata\\anaconda3\\lib\\site-packages (from argon2-cffi->notebook>=4.4.1->widgetsnbextension~=3.5.0->ipywidgets>=7.0.0->cufflinks) (21.2.0)\n",
      "Requirement already satisfied: anyio<4,>=3.1.0 in c:\\programdata\\anaconda3\\lib\\site-packages (from jupyter-server>=1.8->nbclassic>=0.4.7->notebook>=4.4.1->widgetsnbextension~=3.5.0->ipywidgets>=7.0.0->cufflinks) (3.5.0)\n",
      "Requirement already satisfied: websocket-client in c:\\programdata\\anaconda3\\lib\\site-packages (from jupyter-server>=1.8->nbclassic>=0.4.7->notebook>=4.4.1->widgetsnbextension~=3.5.0->ipywidgets>=7.0.0->cufflinks) (0.58.0)\n",
      "Requirement already satisfied: cffi>=1.0.1 in c:\\programdata\\anaconda3\\lib\\site-packages (from argon2-cffi-bindings->argon2-cffi->notebook>=4.4.1->widgetsnbextension~=3.5.0->ipywidgets>=7.0.0->cufflinks) (1.15.1)\n",
      "Requirement already satisfied: soupsieve>1.2 in c:\\programdata\\anaconda3\\lib\\site-packages (from beautifulsoup4->nbconvert>=5->notebook>=4.4.1->widgetsnbextension~=3.5.0->ipywidgets>=7.0.0->cufflinks) (2.3.2.post1)\n",
      "Requirement already satisfied: webencodings in c:\\programdata\\anaconda3\\lib\\site-packages (from bleach->nbconvert>=5->notebook>=4.4.1->widgetsnbextension~=3.5.0->ipywidgets>=7.0.0->cufflinks) (0.5.1)\n",
      "Requirement already satisfied: idna>=2.8 in c:\\programdata\\anaconda3\\lib\\site-packages (from anyio<4,>=3.1.0->jupyter-server>=1.8->nbclassic>=0.4.7->notebook>=4.4.1->widgetsnbextension~=3.5.0->ipywidgets>=7.0.0->cufflinks) (3.4)\n",
      "Requirement already satisfied: sniffio>=1.1 in c:\\programdata\\anaconda3\\lib\\site-packages (from anyio<4,>=3.1.0->jupyter-server>=1.8->nbclassic>=0.4.7->notebook>=4.4.1->widgetsnbextension~=3.5.0->ipywidgets>=7.0.0->cufflinks) (1.2.0)\n",
      "Requirement already satisfied: pycparser in c:\\programdata\\anaconda3\\lib\\site-packages (from cffi>=1.0.1->argon2-cffi-bindings->argon2-cffi->notebook>=4.4.1->widgetsnbextension~=3.5.0->ipywidgets>=7.0.0->cufflinks) (2.21)\n",
      "Note: you may need to restart the kernel to use updated packages.\n"
     ]
    }
   ],
   "source": [
    "pip install cufflinks"
   ]
  },
  {
   "cell_type": "code",
   "execution_count": 5,
   "id": "dfb2b9d7",
   "metadata": {},
   "outputs": [],
   "source": [
    "import pandas as pd\n",
    "import numpy as np\n",
    "%matplotlib inline"
   ]
  },
  {
   "cell_type": "code",
   "execution_count": 6,
   "id": "8ecba757",
   "metadata": {},
   "outputs": [],
   "source": [
    "from plotly import __version__"
   ]
  },
  {
   "cell_type": "code",
   "execution_count": 8,
   "id": "2162f579",
   "metadata": {},
   "outputs": [],
   "source": [
    "import cufflinks as cf"
   ]
  },
  {
   "cell_type": "code",
   "execution_count": 18,
   "id": "64680db8",
   "metadata": {},
   "outputs": [],
   "source": [
    "from plotly.offline import download_plotlyjs, init_notebook_mode, plot, iplot"
   ]
  },
  {
   "cell_type": "code",
   "execution_count": 12,
   "id": "b12f2e59",
   "metadata": {},
   "outputs": [
    {
     "ename": "NameError",
     "evalue": "name 'init_notebook_mode' is not defined",
     "output_type": "error",
     "traceback": [
      "\u001b[1;31m---------------------------------------------------------------------------\u001b[0m",
      "\u001b[1;31mNameError\u001b[0m                                 Traceback (most recent call last)",
      "Cell \u001b[1;32mIn[12], line 1\u001b[0m\n\u001b[1;32m----> 1\u001b[0m \u001b[43minit_notebook_mode\u001b[49m(connected\u001b[38;5;241m=\u001b[39m\u001b[38;5;28;01mTrue\u001b[39;00m)\n",
      "\u001b[1;31mNameError\u001b[0m: name 'init_notebook_mode' is not defined"
     ]
    }
   ],
   "source": [
    "init_notebook_mode(connected=True)"
   ]
  },
  {
   "cell_type": "code",
   "execution_count": 14,
   "id": "d0200a8f",
   "metadata": {},
   "outputs": [
    {
     "data": {
      "text/html": [
       "        <script type=\"text/javascript\">\n",
       "        window.PlotlyConfig = {MathJaxConfig: 'local'};\n",
       "        if (window.MathJax && window.MathJax.Hub && window.MathJax.Hub.Config) {window.MathJax.Hub.Config({SVG: {font: \"STIX-Web\"}});}\n",
       "        if (typeof require !== 'undefined') {\n",
       "        require.undef(\"plotly\");\n",
       "        requirejs.config({\n",
       "            paths: {\n",
       "                'plotly': ['https://cdn.plot.ly/plotly-2.12.1.min']\n",
       "            }\n",
       "        });\n",
       "        require(['plotly'], function(Plotly) {\n",
       "            window._Plotly = Plotly;\n",
       "        });\n",
       "        }\n",
       "        </script>\n",
       "        "
      ]
     },
     "metadata": {},
     "output_type": "display_data"
    }
   ],
   "source": [
    "cf.go_offline()"
   ]
  },
  {
   "cell_type": "code",
   "execution_count": 15,
   "id": "9431817a",
   "metadata": {},
   "outputs": [],
   "source": [
    "df=pd.DataFrame(np.random.randn(100,4),columns='A B C D'.split())"
   ]
  },
  {
   "cell_type": "code",
   "execution_count": 22,
   "id": "de1f6edc",
   "metadata": {},
   "outputs": [
    {
     "data": {
      "text/html": [
       "<div>\n",
       "<style scoped>\n",
       "    .dataframe tbody tr th:only-of-type {\n",
       "        vertical-align: middle;\n",
       "    }\n",
       "\n",
       "    .dataframe tbody tr th {\n",
       "        vertical-align: top;\n",
       "    }\n",
       "\n",
       "    .dataframe thead th {\n",
       "        text-align: right;\n",
       "    }\n",
       "</style>\n",
       "<table border=\"1\" class=\"dataframe\">\n",
       "  <thead>\n",
       "    <tr style=\"text-align: right;\">\n",
       "      <th></th>\n",
       "      <th>A</th>\n",
       "      <th>B</th>\n",
       "      <th>C</th>\n",
       "      <th>D</th>\n",
       "    </tr>\n",
       "  </thead>\n",
       "  <tbody>\n",
       "    <tr>\n",
       "      <th>0</th>\n",
       "      <td>0.536484</td>\n",
       "      <td>1.220207</td>\n",
       "      <td>-0.297894</td>\n",
       "      <td>-0.333397</td>\n",
       "    </tr>\n",
       "    <tr>\n",
       "      <th>1</th>\n",
       "      <td>1.200087</td>\n",
       "      <td>-1.965206</td>\n",
       "      <td>-1.305441</td>\n",
       "      <td>0.132022</td>\n",
       "    </tr>\n",
       "    <tr>\n",
       "      <th>2</th>\n",
       "      <td>0.435464</td>\n",
       "      <td>-0.436159</td>\n",
       "      <td>0.684079</td>\n",
       "      <td>0.413832</td>\n",
       "    </tr>\n",
       "    <tr>\n",
       "      <th>3</th>\n",
       "      <td>-0.441556</td>\n",
       "      <td>-0.437007</td>\n",
       "      <td>1.880259</td>\n",
       "      <td>-1.022280</td>\n",
       "    </tr>\n",
       "    <tr>\n",
       "      <th>4</th>\n",
       "      <td>1.201642</td>\n",
       "      <td>0.268928</td>\n",
       "      <td>-0.561994</td>\n",
       "      <td>-0.195994</td>\n",
       "    </tr>\n",
       "    <tr>\n",
       "      <th>...</th>\n",
       "      <td>...</td>\n",
       "      <td>...</td>\n",
       "      <td>...</td>\n",
       "      <td>...</td>\n",
       "    </tr>\n",
       "    <tr>\n",
       "      <th>95</th>\n",
       "      <td>-0.486585</td>\n",
       "      <td>1.302344</td>\n",
       "      <td>-1.609874</td>\n",
       "      <td>1.098562</td>\n",
       "    </tr>\n",
       "    <tr>\n",
       "      <th>96</th>\n",
       "      <td>-0.643199</td>\n",
       "      <td>1.601542</td>\n",
       "      <td>-0.922357</td>\n",
       "      <td>-0.720243</td>\n",
       "    </tr>\n",
       "    <tr>\n",
       "      <th>97</th>\n",
       "      <td>0.038238</td>\n",
       "      <td>1.238769</td>\n",
       "      <td>-0.302278</td>\n",
       "      <td>0.196312</td>\n",
       "    </tr>\n",
       "    <tr>\n",
       "      <th>98</th>\n",
       "      <td>-1.153688</td>\n",
       "      <td>0.226505</td>\n",
       "      <td>-1.012045</td>\n",
       "      <td>0.085946</td>\n",
       "    </tr>\n",
       "    <tr>\n",
       "      <th>99</th>\n",
       "      <td>-0.005365</td>\n",
       "      <td>0.631100</td>\n",
       "      <td>-0.399365</td>\n",
       "      <td>-0.754526</td>\n",
       "    </tr>\n",
       "  </tbody>\n",
       "</table>\n",
       "<p>100 rows × 4 columns</p>\n",
       "</div>"
      ],
      "text/plain": [
       "           A         B         C         D\n",
       "0   0.536484  1.220207 -0.297894 -0.333397\n",
       "1   1.200087 -1.965206 -1.305441  0.132022\n",
       "2   0.435464 -0.436159  0.684079  0.413832\n",
       "3  -0.441556 -0.437007  1.880259 -1.022280\n",
       "4   1.201642  0.268928 -0.561994 -0.195994\n",
       "..       ...       ...       ...       ...\n",
       "95 -0.486585  1.302344 -1.609874  1.098562\n",
       "96 -0.643199  1.601542 -0.922357 -0.720243\n",
       "97  0.038238  1.238769 -0.302278  0.196312\n",
       "98 -1.153688  0.226505 -1.012045  0.085946\n",
       "99 -0.005365  0.631100 -0.399365 -0.754526\n",
       "\n",
       "[100 rows x 4 columns]"
      ]
     },
     "execution_count": 22,
     "metadata": {},
     "output_type": "execute_result"
    }
   ],
   "source": [
    "df"
   ]
  },
  {
   "cell_type": "code",
   "execution_count": 16,
   "id": "fc2396cb",
   "metadata": {},
   "outputs": [
    {
     "data": {
      "application/vnd.plotly.v1+json": {
       "config": {
        "linkText": "Export to plot.ly",
        "plotlyServerURL": "https://plot.ly",
        "showLink": true
       },
       "data": [
        {
         "line": {
          "color": "rgba(255, 153, 51, 1.0)",
          "dash": "solid",
          "shape": "linear",
          "width": 1.3
         },
         "mode": "lines",
         "name": "B",
         "text": "",
         "type": "scatter",
         "x": [
          -0.6223127097787445,
          -0.07809162236041678,
          1.7790474819468551,
          -1.4247118375561625,
          -1.4105751154601864,
          0.2188883169681857,
          -1.149465863308755,
          -0.2177532325647362,
          -1.6726587412621337,
          1.2097065375742302,
          -0.7930267396765023,
          -0.05511018197538327,
          -0.09030662425254163,
          1.1619150166121996,
          0.3097205548007712,
          0.5129277863969072,
          0.6184961590026289,
          -1.4637685018706745,
          0.4485421585261526,
          1.767822731251506,
          -1.0091554353768661,
          -0.20187565762794943,
          0.10438402542485582,
          -1.0271492803595452,
          -0.549378606146546,
          -1.0818406350966738,
          -0.7289573371488666,
          1.1198836055237327,
          0.5864148695608872,
          -0.024355589607592033,
          0.6980656079470045,
          -0.8483633384572155,
          -1.5684647526087565,
          -1.3874098606278373,
          -0.6513298563396208,
          0.6752856776403766,
          1.9572075005188447,
          0.3067879974877034,
          0.08069647639021876,
          0.013777395371240508,
          1.1497250255527611,
          -0.584868011758543,
          -0.8747816362718722,
          0.16248255497583639,
          -0.6338491218052374,
          -0.18762133433093403,
          0.7183308864619843,
          0.03892557856366659,
          -0.05835543780960389,
          0.2729009332188614,
          0.18648405784653066,
          -0.002357963793111217,
          -1.6448419115769932,
          -1.8587399276049648,
          0.9002409872304978,
          -0.3246003945946711,
          -1.7144926347993703,
          0.7149852461038438,
          0.15022217521407277,
          -2.0742708012084057,
          -1.0082255935657103,
          0.5729601043333363,
          0.7210335937747494,
          0.1605572639077616,
          0.6811849909147913,
          -1.1821625386795713,
          1.3227312433894765,
          -0.8078552803418341,
          0.5935199442620323,
          -0.35774391456928006,
          0.7460167158855326,
          0.21037620123633732,
          -0.001577946660872818,
          0.3318969809409894,
          0.29022595465192125,
          0.6093830084655928,
          -0.5964490834227272,
          -1.0873790616847774,
          0.7385065124916351,
          -1.1683892869125476,
          -0.14716717691544046,
          -0.3190296801594655,
          -1.62228312074107,
          0.0940633033641303,
          -0.7413030015954901,
          2.5468536611139574,
          -0.8553192878274413,
          -0.6214605444473837,
          -0.37590549650516025,
          -0.6887968127659998,
          -0.6023601264871187,
          0.5480051859117191,
          1.5398950046172197,
          1.171647048456549,
          -0.26945117641978844,
          1.3553267212960771,
          -1.8733178535294914,
          -0.8916742861646291,
          -0.10395184783622588,
          0.015416002948039327
         ],
         "y": [
          0.39299279759057504,
          0.9703165383850477,
          -0.3315341358806937,
          -1.5584031758162409,
          0.951523596033235,
          -0.5555846581699916,
          -1.515512553211831,
          1.9037823912410028,
          0.11998085811301533,
          -0.2799904644871162,
          0.9649601637582959,
          -0.2129880463045149,
          1.608269687420033,
          -0.9248636326249062,
          -0.14664756884169589,
          -0.047763160217688436,
          0.02140402329140558,
          0.13626631422295649,
          -1.2316106623850942,
          -1.4494740058324187,
          -0.9643096084728445,
          -1.8155834317145414,
          -1.4975399771222855,
          -2.008459460468831,
          -0.18844771209113004,
          -0.8452479670056402,
          0.2702435905254712,
          -0.08307773275515531,
          1.9925306352375145,
          -0.30011064157012196,
          -1.8416088365312053,
          1.4883897812928597,
          0.2857404107478787,
          -1.3694143183685137,
          0.34472215385367405,
          -0.7333872049097238,
          1.3796332788800656,
          -0.00901709225535108,
          0.5282371077244549,
          -1.5889248101211482,
          -0.9168030342948024,
          -0.8567400095928656,
          0.5420625354429279,
          0.3531656963293904,
          0.9516310013151971,
          1.4814305926548468,
          -0.0661783667737621,
          -0.5366522538953027,
          -1.0733680524544438,
          1.664261087255659,
          0.5546934645540875,
          -0.9498218183256268,
          1.6448795435345684,
          0.2356696285556059,
          -0.9223882563702976,
          -1.999143938093221,
          0.8469020285223882,
          0.6589074033059399,
          -0.5799192494117322,
          -0.7788733134093945,
          0.7577793943052767,
          -0.09707784030046557,
          -0.03455307170219075,
          -0.8811323416697463,
          -0.6267043083674482,
          -1.0269391048157697,
          -0.5321336972529832,
          0.8451182902588883,
          0.08662269451869511,
          0.31429709601059586,
          -0.1934184891753213,
          1.2840149281872961,
          0.555730360910625,
          0.45183765131006726,
          -0.49686842278032023,
          -0.32947519313932555,
          -1.19620746138553,
          -0.7038639841931628,
          -0.7898364183395687,
          0.7438412707540987,
          0.7414495707254729,
          1.3799733154504426,
          0.56648572675284,
          -2.50683210422878,
          0.9959654653416138,
          0.367421323759343,
          -0.46904746013665927,
          -1.1409670086342902,
          0.2598216833782342,
          -1.2902403671698264,
          0.49678766890658405,
          -0.48224628270977354,
          -0.16484644023413372,
          -1.0334851807235186,
          0.14970842234302917,
          0.7165586416171045,
          1.0511466528478781,
          2.06350190094373,
          0.32514957908412,
          0.2174187719077609
         ]
        }
       ],
       "layout": {
        "legend": {
         "bgcolor": "#F5F6F9",
         "font": {
          "color": "#4D5663"
         }
        },
        "paper_bgcolor": "#F5F6F9",
        "plot_bgcolor": "#F5F6F9",
        "template": {
         "data": {
          "bar": [
           {
            "error_x": {
             "color": "#2a3f5f"
            },
            "error_y": {
             "color": "#2a3f5f"
            },
            "marker": {
             "line": {
              "color": "#E5ECF6",
              "width": 0.5
             },
             "pattern": {
              "fillmode": "overlay",
              "size": 10,
              "solidity": 0.2
             }
            },
            "type": "bar"
           }
          ],
          "barpolar": [
           {
            "marker": {
             "line": {
              "color": "#E5ECF6",
              "width": 0.5
             },
             "pattern": {
              "fillmode": "overlay",
              "size": 10,
              "solidity": 0.2
             }
            },
            "type": "barpolar"
           }
          ],
          "carpet": [
           {
            "aaxis": {
             "endlinecolor": "#2a3f5f",
             "gridcolor": "white",
             "linecolor": "white",
             "minorgridcolor": "white",
             "startlinecolor": "#2a3f5f"
            },
            "baxis": {
             "endlinecolor": "#2a3f5f",
             "gridcolor": "white",
             "linecolor": "white",
             "minorgridcolor": "white",
             "startlinecolor": "#2a3f5f"
            },
            "type": "carpet"
           }
          ],
          "choropleth": [
           {
            "colorbar": {
             "outlinewidth": 0,
             "ticks": ""
            },
            "type": "choropleth"
           }
          ],
          "contour": [
           {
            "colorbar": {
             "outlinewidth": 0,
             "ticks": ""
            },
            "colorscale": [
             [
              0,
              "#0d0887"
             ],
             [
              0.1111111111111111,
              "#46039f"
             ],
             [
              0.2222222222222222,
              "#7201a8"
             ],
             [
              0.3333333333333333,
              "#9c179e"
             ],
             [
              0.4444444444444444,
              "#bd3786"
             ],
             [
              0.5555555555555556,
              "#d8576b"
             ],
             [
              0.6666666666666666,
              "#ed7953"
             ],
             [
              0.7777777777777778,
              "#fb9f3a"
             ],
             [
              0.8888888888888888,
              "#fdca26"
             ],
             [
              1,
              "#f0f921"
             ]
            ],
            "type": "contour"
           }
          ],
          "contourcarpet": [
           {
            "colorbar": {
             "outlinewidth": 0,
             "ticks": ""
            },
            "type": "contourcarpet"
           }
          ],
          "heatmap": [
           {
            "colorbar": {
             "outlinewidth": 0,
             "ticks": ""
            },
            "colorscale": [
             [
              0,
              "#0d0887"
             ],
             [
              0.1111111111111111,
              "#46039f"
             ],
             [
              0.2222222222222222,
              "#7201a8"
             ],
             [
              0.3333333333333333,
              "#9c179e"
             ],
             [
              0.4444444444444444,
              "#bd3786"
             ],
             [
              0.5555555555555556,
              "#d8576b"
             ],
             [
              0.6666666666666666,
              "#ed7953"
             ],
             [
              0.7777777777777778,
              "#fb9f3a"
             ],
             [
              0.8888888888888888,
              "#fdca26"
             ],
             [
              1,
              "#f0f921"
             ]
            ],
            "type": "heatmap"
           }
          ],
          "heatmapgl": [
           {
            "colorbar": {
             "outlinewidth": 0,
             "ticks": ""
            },
            "colorscale": [
             [
              0,
              "#0d0887"
             ],
             [
              0.1111111111111111,
              "#46039f"
             ],
             [
              0.2222222222222222,
              "#7201a8"
             ],
             [
              0.3333333333333333,
              "#9c179e"
             ],
             [
              0.4444444444444444,
              "#bd3786"
             ],
             [
              0.5555555555555556,
              "#d8576b"
             ],
             [
              0.6666666666666666,
              "#ed7953"
             ],
             [
              0.7777777777777778,
              "#fb9f3a"
             ],
             [
              0.8888888888888888,
              "#fdca26"
             ],
             [
              1,
              "#f0f921"
             ]
            ],
            "type": "heatmapgl"
           }
          ],
          "histogram": [
           {
            "marker": {
             "pattern": {
              "fillmode": "overlay",
              "size": 10,
              "solidity": 0.2
             }
            },
            "type": "histogram"
           }
          ],
          "histogram2d": [
           {
            "colorbar": {
             "outlinewidth": 0,
             "ticks": ""
            },
            "colorscale": [
             [
              0,
              "#0d0887"
             ],
             [
              0.1111111111111111,
              "#46039f"
             ],
             [
              0.2222222222222222,
              "#7201a8"
             ],
             [
              0.3333333333333333,
              "#9c179e"
             ],
             [
              0.4444444444444444,
              "#bd3786"
             ],
             [
              0.5555555555555556,
              "#d8576b"
             ],
             [
              0.6666666666666666,
              "#ed7953"
             ],
             [
              0.7777777777777778,
              "#fb9f3a"
             ],
             [
              0.8888888888888888,
              "#fdca26"
             ],
             [
              1,
              "#f0f921"
             ]
            ],
            "type": "histogram2d"
           }
          ],
          "histogram2dcontour": [
           {
            "colorbar": {
             "outlinewidth": 0,
             "ticks": ""
            },
            "colorscale": [
             [
              0,
              "#0d0887"
             ],
             [
              0.1111111111111111,
              "#46039f"
             ],
             [
              0.2222222222222222,
              "#7201a8"
             ],
             [
              0.3333333333333333,
              "#9c179e"
             ],
             [
              0.4444444444444444,
              "#bd3786"
             ],
             [
              0.5555555555555556,
              "#d8576b"
             ],
             [
              0.6666666666666666,
              "#ed7953"
             ],
             [
              0.7777777777777778,
              "#fb9f3a"
             ],
             [
              0.8888888888888888,
              "#fdca26"
             ],
             [
              1,
              "#f0f921"
             ]
            ],
            "type": "histogram2dcontour"
           }
          ],
          "mesh3d": [
           {
            "colorbar": {
             "outlinewidth": 0,
             "ticks": ""
            },
            "type": "mesh3d"
           }
          ],
          "parcoords": [
           {
            "line": {
             "colorbar": {
              "outlinewidth": 0,
              "ticks": ""
             }
            },
            "type": "parcoords"
           }
          ],
          "pie": [
           {
            "automargin": true,
            "type": "pie"
           }
          ],
          "scatter": [
           {
            "fillpattern": {
             "fillmode": "overlay",
             "size": 10,
             "solidity": 0.2
            },
            "type": "scatter"
           }
          ],
          "scatter3d": [
           {
            "line": {
             "colorbar": {
              "outlinewidth": 0,
              "ticks": ""
             }
            },
            "marker": {
             "colorbar": {
              "outlinewidth": 0,
              "ticks": ""
             }
            },
            "type": "scatter3d"
           }
          ],
          "scattercarpet": [
           {
            "marker": {
             "colorbar": {
              "outlinewidth": 0,
              "ticks": ""
             }
            },
            "type": "scattercarpet"
           }
          ],
          "scattergeo": [
           {
            "marker": {
             "colorbar": {
              "outlinewidth": 0,
              "ticks": ""
             }
            },
            "type": "scattergeo"
           }
          ],
          "scattergl": [
           {
            "marker": {
             "colorbar": {
              "outlinewidth": 0,
              "ticks": ""
             }
            },
            "type": "scattergl"
           }
          ],
          "scattermapbox": [
           {
            "marker": {
             "colorbar": {
              "outlinewidth": 0,
              "ticks": ""
             }
            },
            "type": "scattermapbox"
           }
          ],
          "scatterpolar": [
           {
            "marker": {
             "colorbar": {
              "outlinewidth": 0,
              "ticks": ""
             }
            },
            "type": "scatterpolar"
           }
          ],
          "scatterpolargl": [
           {
            "marker": {
             "colorbar": {
              "outlinewidth": 0,
              "ticks": ""
             }
            },
            "type": "scatterpolargl"
           }
          ],
          "scatterternary": [
           {
            "marker": {
             "colorbar": {
              "outlinewidth": 0,
              "ticks": ""
             }
            },
            "type": "scatterternary"
           }
          ],
          "surface": [
           {
            "colorbar": {
             "outlinewidth": 0,
             "ticks": ""
            },
            "colorscale": [
             [
              0,
              "#0d0887"
             ],
             [
              0.1111111111111111,
              "#46039f"
             ],
             [
              0.2222222222222222,
              "#7201a8"
             ],
             [
              0.3333333333333333,
              "#9c179e"
             ],
             [
              0.4444444444444444,
              "#bd3786"
             ],
             [
              0.5555555555555556,
              "#d8576b"
             ],
             [
              0.6666666666666666,
              "#ed7953"
             ],
             [
              0.7777777777777778,
              "#fb9f3a"
             ],
             [
              0.8888888888888888,
              "#fdca26"
             ],
             [
              1,
              "#f0f921"
             ]
            ],
            "type": "surface"
           }
          ],
          "table": [
           {
            "cells": {
             "fill": {
              "color": "#EBF0F8"
             },
             "line": {
              "color": "white"
             }
            },
            "header": {
             "fill": {
              "color": "#C8D4E3"
             },
             "line": {
              "color": "white"
             }
            },
            "type": "table"
           }
          ]
         },
         "layout": {
          "annotationdefaults": {
           "arrowcolor": "#2a3f5f",
           "arrowhead": 0,
           "arrowwidth": 1
          },
          "autotypenumbers": "strict",
          "coloraxis": {
           "colorbar": {
            "outlinewidth": 0,
            "ticks": ""
           }
          },
          "colorscale": {
           "diverging": [
            [
             0,
             "#8e0152"
            ],
            [
             0.1,
             "#c51b7d"
            ],
            [
             0.2,
             "#de77ae"
            ],
            [
             0.3,
             "#f1b6da"
            ],
            [
             0.4,
             "#fde0ef"
            ],
            [
             0.5,
             "#f7f7f7"
            ],
            [
             0.6,
             "#e6f5d0"
            ],
            [
             0.7,
             "#b8e186"
            ],
            [
             0.8,
             "#7fbc41"
            ],
            [
             0.9,
             "#4d9221"
            ],
            [
             1,
             "#276419"
            ]
           ],
           "sequential": [
            [
             0,
             "#0d0887"
            ],
            [
             0.1111111111111111,
             "#46039f"
            ],
            [
             0.2222222222222222,
             "#7201a8"
            ],
            [
             0.3333333333333333,
             "#9c179e"
            ],
            [
             0.4444444444444444,
             "#bd3786"
            ],
            [
             0.5555555555555556,
             "#d8576b"
            ],
            [
             0.6666666666666666,
             "#ed7953"
            ],
            [
             0.7777777777777778,
             "#fb9f3a"
            ],
            [
             0.8888888888888888,
             "#fdca26"
            ],
            [
             1,
             "#f0f921"
            ]
           ],
           "sequentialminus": [
            [
             0,
             "#0d0887"
            ],
            [
             0.1111111111111111,
             "#46039f"
            ],
            [
             0.2222222222222222,
             "#7201a8"
            ],
            [
             0.3333333333333333,
             "#9c179e"
            ],
            [
             0.4444444444444444,
             "#bd3786"
            ],
            [
             0.5555555555555556,
             "#d8576b"
            ],
            [
             0.6666666666666666,
             "#ed7953"
            ],
            [
             0.7777777777777778,
             "#fb9f3a"
            ],
            [
             0.8888888888888888,
             "#fdca26"
            ],
            [
             1,
             "#f0f921"
            ]
           ]
          },
          "colorway": [
           "#636efa",
           "#EF553B",
           "#00cc96",
           "#ab63fa",
           "#FFA15A",
           "#19d3f3",
           "#FF6692",
           "#B6E880",
           "#FF97FF",
           "#FECB52"
          ],
          "font": {
           "color": "#2a3f5f"
          },
          "geo": {
           "bgcolor": "white",
           "lakecolor": "white",
           "landcolor": "#E5ECF6",
           "showlakes": true,
           "showland": true,
           "subunitcolor": "white"
          },
          "hoverlabel": {
           "align": "left"
          },
          "hovermode": "closest",
          "mapbox": {
           "style": "light"
          },
          "paper_bgcolor": "white",
          "plot_bgcolor": "#E5ECF6",
          "polar": {
           "angularaxis": {
            "gridcolor": "white",
            "linecolor": "white",
            "ticks": ""
           },
           "bgcolor": "#E5ECF6",
           "radialaxis": {
            "gridcolor": "white",
            "linecolor": "white",
            "ticks": ""
           }
          },
          "scene": {
           "xaxis": {
            "backgroundcolor": "#E5ECF6",
            "gridcolor": "white",
            "gridwidth": 2,
            "linecolor": "white",
            "showbackground": true,
            "ticks": "",
            "zerolinecolor": "white"
           },
           "yaxis": {
            "backgroundcolor": "#E5ECF6",
            "gridcolor": "white",
            "gridwidth": 2,
            "linecolor": "white",
            "showbackground": true,
            "ticks": "",
            "zerolinecolor": "white"
           },
           "zaxis": {
            "backgroundcolor": "#E5ECF6",
            "gridcolor": "white",
            "gridwidth": 2,
            "linecolor": "white",
            "showbackground": true,
            "ticks": "",
            "zerolinecolor": "white"
           }
          },
          "shapedefaults": {
           "line": {
            "color": "#2a3f5f"
           }
          },
          "ternary": {
           "aaxis": {
            "gridcolor": "white",
            "linecolor": "white",
            "ticks": ""
           },
           "baxis": {
            "gridcolor": "white",
            "linecolor": "white",
            "ticks": ""
           },
           "bgcolor": "#E5ECF6",
           "caxis": {
            "gridcolor": "white",
            "linecolor": "white",
            "ticks": ""
           }
          },
          "title": {
           "x": 0.05
          },
          "xaxis": {
           "automargin": true,
           "gridcolor": "white",
           "linecolor": "white",
           "ticks": "",
           "title": {
            "standoff": 15
           },
           "zerolinecolor": "white",
           "zerolinewidth": 2
          },
          "yaxis": {
           "automargin": true,
           "gridcolor": "white",
           "linecolor": "white",
           "ticks": "",
           "title": {
            "standoff": 15
           },
           "zerolinecolor": "white",
           "zerolinewidth": 2
          }
         }
        },
        "title": {
         "font": {
          "color": "#4D5663"
         }
        },
        "xaxis": {
         "gridcolor": "#E1E5ED",
         "showgrid": true,
         "tickfont": {
          "color": "#4D5663"
         },
         "title": {
          "font": {
           "color": "#4D5663"
          },
          "text": ""
         },
         "zerolinecolor": "#E1E5ED"
        },
        "yaxis": {
         "gridcolor": "#E1E5ED",
         "showgrid": true,
         "tickfont": {
          "color": "#4D5663"
         },
         "title": {
          "font": {
           "color": "#4D5663"
          },
          "text": ""
         },
         "zerolinecolor": "#E1E5ED"
        }
       }
      },
      "text/html": [
       "<div>                            <div id=\"7d392629-8336-4619-aef7-ec1120af7728\" class=\"plotly-graph-div\" style=\"height:525px; width:100%;\"></div>            <script type=\"text/javascript\">                require([\"plotly\"], function(Plotly) {                    window.PLOTLYENV=window.PLOTLYENV || {};\n",
       "                    window.PLOTLYENV.BASE_URL='https://plot.ly';                                    if (document.getElementById(\"7d392629-8336-4619-aef7-ec1120af7728\")) {                    Plotly.newPlot(                        \"7d392629-8336-4619-aef7-ec1120af7728\",                        [{\"line\":{\"color\":\"rgba(255, 153, 51, 1.0)\",\"dash\":\"solid\",\"shape\":\"linear\",\"width\":1.3},\"mode\":\"lines\",\"name\":\"B\",\"text\":\"\",\"x\":[-0.6223127097787445,-0.07809162236041678,1.7790474819468551,-1.4247118375561625,-1.4105751154601864,0.2188883169681857,-1.149465863308755,-0.2177532325647362,-1.6726587412621337,1.2097065375742302,-0.7930267396765023,-0.05511018197538327,-0.09030662425254163,1.1619150166121996,0.3097205548007712,0.5129277863969072,0.6184961590026289,-1.4637685018706745,0.4485421585261526,1.767822731251506,-1.0091554353768661,-0.20187565762794943,0.10438402542485582,-1.0271492803595452,-0.549378606146546,-1.0818406350966738,-0.7289573371488666,1.1198836055237327,0.5864148695608872,-0.024355589607592033,0.6980656079470045,-0.8483633384572155,-1.5684647526087565,-1.3874098606278373,-0.6513298563396208,0.6752856776403766,1.9572075005188447,0.3067879974877034,0.08069647639021876,0.013777395371240508,1.1497250255527611,-0.584868011758543,-0.8747816362718722,0.16248255497583639,-0.6338491218052374,-0.18762133433093403,0.7183308864619843,0.03892557856366659,-0.05835543780960389,0.2729009332188614,0.18648405784653066,-0.002357963793111217,-1.6448419115769932,-1.8587399276049648,0.9002409872304978,-0.3246003945946711,-1.7144926347993703,0.7149852461038438,0.15022217521407277,-2.0742708012084057,-1.0082255935657103,0.5729601043333363,0.7210335937747494,0.1605572639077616,0.6811849909147913,-1.1821625386795713,1.3227312433894765,-0.8078552803418341,0.5935199442620323,-0.35774391456928006,0.7460167158855326,0.21037620123633732,-0.001577946660872818,0.3318969809409894,0.29022595465192125,0.6093830084655928,-0.5964490834227272,-1.0873790616847774,0.7385065124916351,-1.1683892869125476,-0.14716717691544046,-0.3190296801594655,-1.62228312074107,0.0940633033641303,-0.7413030015954901,2.5468536611139574,-0.8553192878274413,-0.6214605444473837,-0.37590549650516025,-0.6887968127659998,-0.6023601264871187,0.5480051859117191,1.5398950046172197,1.171647048456549,-0.26945117641978844,1.3553267212960771,-1.8733178535294914,-0.8916742861646291,-0.10395184783622588,0.015416002948039327],\"y\":[0.39299279759057504,0.9703165383850477,-0.3315341358806937,-1.5584031758162409,0.951523596033235,-0.5555846581699916,-1.515512553211831,1.9037823912410028,0.11998085811301533,-0.2799904644871162,0.9649601637582959,-0.2129880463045149,1.608269687420033,-0.9248636326249062,-0.14664756884169589,-0.047763160217688436,0.02140402329140558,0.13626631422295649,-1.2316106623850942,-1.4494740058324187,-0.9643096084728445,-1.8155834317145414,-1.4975399771222855,-2.008459460468831,-0.18844771209113004,-0.8452479670056402,0.2702435905254712,-0.08307773275515531,1.9925306352375145,-0.30011064157012196,-1.8416088365312053,1.4883897812928597,0.2857404107478787,-1.3694143183685137,0.34472215385367405,-0.7333872049097238,1.3796332788800656,-0.00901709225535108,0.5282371077244549,-1.5889248101211482,-0.9168030342948024,-0.8567400095928656,0.5420625354429279,0.3531656963293904,0.9516310013151971,1.4814305926548468,-0.0661783667737621,-0.5366522538953027,-1.0733680524544438,1.664261087255659,0.5546934645540875,-0.9498218183256268,1.6448795435345684,0.2356696285556059,-0.9223882563702976,-1.999143938093221,0.8469020285223882,0.6589074033059399,-0.5799192494117322,-0.7788733134093945,0.7577793943052767,-0.09707784030046557,-0.03455307170219075,-0.8811323416697463,-0.6267043083674482,-1.0269391048157697,-0.5321336972529832,0.8451182902588883,0.08662269451869511,0.31429709601059586,-0.1934184891753213,1.2840149281872961,0.555730360910625,0.45183765131006726,-0.49686842278032023,-0.32947519313932555,-1.19620746138553,-0.7038639841931628,-0.7898364183395687,0.7438412707540987,0.7414495707254729,1.3799733154504426,0.56648572675284,-2.50683210422878,0.9959654653416138,0.367421323759343,-0.46904746013665927,-1.1409670086342902,0.2598216833782342,-1.2902403671698264,0.49678766890658405,-0.48224628270977354,-0.16484644023413372,-1.0334851807235186,0.14970842234302917,0.7165586416171045,1.0511466528478781,2.06350190094373,0.32514957908412,0.2174187719077609],\"type\":\"scatter\"}],                        {\"legend\":{\"bgcolor\":\"#F5F6F9\",\"font\":{\"color\":\"#4D5663\"}},\"paper_bgcolor\":\"#F5F6F9\",\"plot_bgcolor\":\"#F5F6F9\",\"template\":{\"data\":{\"barpolar\":[{\"marker\":{\"line\":{\"color\":\"#E5ECF6\",\"width\":0.5},\"pattern\":{\"fillmode\":\"overlay\",\"size\":10,\"solidity\":0.2}},\"type\":\"barpolar\"}],\"bar\":[{\"error_x\":{\"color\":\"#2a3f5f\"},\"error_y\":{\"color\":\"#2a3f5f\"},\"marker\":{\"line\":{\"color\":\"#E5ECF6\",\"width\":0.5},\"pattern\":{\"fillmode\":\"overlay\",\"size\":10,\"solidity\":0.2}},\"type\":\"bar\"}],\"carpet\":[{\"aaxis\":{\"endlinecolor\":\"#2a3f5f\",\"gridcolor\":\"white\",\"linecolor\":\"white\",\"minorgridcolor\":\"white\",\"startlinecolor\":\"#2a3f5f\"},\"baxis\":{\"endlinecolor\":\"#2a3f5f\",\"gridcolor\":\"white\",\"linecolor\":\"white\",\"minorgridcolor\":\"white\",\"startlinecolor\":\"#2a3f5f\"},\"type\":\"carpet\"}],\"choropleth\":[{\"colorbar\":{\"outlinewidth\":0,\"ticks\":\"\"},\"type\":\"choropleth\"}],\"contourcarpet\":[{\"colorbar\":{\"outlinewidth\":0,\"ticks\":\"\"},\"type\":\"contourcarpet\"}],\"contour\":[{\"colorbar\":{\"outlinewidth\":0,\"ticks\":\"\"},\"colorscale\":[[0.0,\"#0d0887\"],[0.1111111111111111,\"#46039f\"],[0.2222222222222222,\"#7201a8\"],[0.3333333333333333,\"#9c179e\"],[0.4444444444444444,\"#bd3786\"],[0.5555555555555556,\"#d8576b\"],[0.6666666666666666,\"#ed7953\"],[0.7777777777777778,\"#fb9f3a\"],[0.8888888888888888,\"#fdca26\"],[1.0,\"#f0f921\"]],\"type\":\"contour\"}],\"heatmapgl\":[{\"colorbar\":{\"outlinewidth\":0,\"ticks\":\"\"},\"colorscale\":[[0.0,\"#0d0887\"],[0.1111111111111111,\"#46039f\"],[0.2222222222222222,\"#7201a8\"],[0.3333333333333333,\"#9c179e\"],[0.4444444444444444,\"#bd3786\"],[0.5555555555555556,\"#d8576b\"],[0.6666666666666666,\"#ed7953\"],[0.7777777777777778,\"#fb9f3a\"],[0.8888888888888888,\"#fdca26\"],[1.0,\"#f0f921\"]],\"type\":\"heatmapgl\"}],\"heatmap\":[{\"colorbar\":{\"outlinewidth\":0,\"ticks\":\"\"},\"colorscale\":[[0.0,\"#0d0887\"],[0.1111111111111111,\"#46039f\"],[0.2222222222222222,\"#7201a8\"],[0.3333333333333333,\"#9c179e\"],[0.4444444444444444,\"#bd3786\"],[0.5555555555555556,\"#d8576b\"],[0.6666666666666666,\"#ed7953\"],[0.7777777777777778,\"#fb9f3a\"],[0.8888888888888888,\"#fdca26\"],[1.0,\"#f0f921\"]],\"type\":\"heatmap\"}],\"histogram2dcontour\":[{\"colorbar\":{\"outlinewidth\":0,\"ticks\":\"\"},\"colorscale\":[[0.0,\"#0d0887\"],[0.1111111111111111,\"#46039f\"],[0.2222222222222222,\"#7201a8\"],[0.3333333333333333,\"#9c179e\"],[0.4444444444444444,\"#bd3786\"],[0.5555555555555556,\"#d8576b\"],[0.6666666666666666,\"#ed7953\"],[0.7777777777777778,\"#fb9f3a\"],[0.8888888888888888,\"#fdca26\"],[1.0,\"#f0f921\"]],\"type\":\"histogram2dcontour\"}],\"histogram2d\":[{\"colorbar\":{\"outlinewidth\":0,\"ticks\":\"\"},\"colorscale\":[[0.0,\"#0d0887\"],[0.1111111111111111,\"#46039f\"],[0.2222222222222222,\"#7201a8\"],[0.3333333333333333,\"#9c179e\"],[0.4444444444444444,\"#bd3786\"],[0.5555555555555556,\"#d8576b\"],[0.6666666666666666,\"#ed7953\"],[0.7777777777777778,\"#fb9f3a\"],[0.8888888888888888,\"#fdca26\"],[1.0,\"#f0f921\"]],\"type\":\"histogram2d\"}],\"histogram\":[{\"marker\":{\"pattern\":{\"fillmode\":\"overlay\",\"size\":10,\"solidity\":0.2}},\"type\":\"histogram\"}],\"mesh3d\":[{\"colorbar\":{\"outlinewidth\":0,\"ticks\":\"\"},\"type\":\"mesh3d\"}],\"parcoords\":[{\"line\":{\"colorbar\":{\"outlinewidth\":0,\"ticks\":\"\"}},\"type\":\"parcoords\"}],\"pie\":[{\"automargin\":true,\"type\":\"pie\"}],\"scatter3d\":[{\"line\":{\"colorbar\":{\"outlinewidth\":0,\"ticks\":\"\"}},\"marker\":{\"colorbar\":{\"outlinewidth\":0,\"ticks\":\"\"}},\"type\":\"scatter3d\"}],\"scattercarpet\":[{\"marker\":{\"colorbar\":{\"outlinewidth\":0,\"ticks\":\"\"}},\"type\":\"scattercarpet\"}],\"scattergeo\":[{\"marker\":{\"colorbar\":{\"outlinewidth\":0,\"ticks\":\"\"}},\"type\":\"scattergeo\"}],\"scattergl\":[{\"marker\":{\"colorbar\":{\"outlinewidth\":0,\"ticks\":\"\"}},\"type\":\"scattergl\"}],\"scattermapbox\":[{\"marker\":{\"colorbar\":{\"outlinewidth\":0,\"ticks\":\"\"}},\"type\":\"scattermapbox\"}],\"scatterpolargl\":[{\"marker\":{\"colorbar\":{\"outlinewidth\":0,\"ticks\":\"\"}},\"type\":\"scatterpolargl\"}],\"scatterpolar\":[{\"marker\":{\"colorbar\":{\"outlinewidth\":0,\"ticks\":\"\"}},\"type\":\"scatterpolar\"}],\"scatter\":[{\"fillpattern\":{\"fillmode\":\"overlay\",\"size\":10,\"solidity\":0.2},\"type\":\"scatter\"}],\"scatterternary\":[{\"marker\":{\"colorbar\":{\"outlinewidth\":0,\"ticks\":\"\"}},\"type\":\"scatterternary\"}],\"surface\":[{\"colorbar\":{\"outlinewidth\":0,\"ticks\":\"\"},\"colorscale\":[[0.0,\"#0d0887\"],[0.1111111111111111,\"#46039f\"],[0.2222222222222222,\"#7201a8\"],[0.3333333333333333,\"#9c179e\"],[0.4444444444444444,\"#bd3786\"],[0.5555555555555556,\"#d8576b\"],[0.6666666666666666,\"#ed7953\"],[0.7777777777777778,\"#fb9f3a\"],[0.8888888888888888,\"#fdca26\"],[1.0,\"#f0f921\"]],\"type\":\"surface\"}],\"table\":[{\"cells\":{\"fill\":{\"color\":\"#EBF0F8\"},\"line\":{\"color\":\"white\"}},\"header\":{\"fill\":{\"color\":\"#C8D4E3\"},\"line\":{\"color\":\"white\"}},\"type\":\"table\"}]},\"layout\":{\"annotationdefaults\":{\"arrowcolor\":\"#2a3f5f\",\"arrowhead\":0,\"arrowwidth\":1},\"autotypenumbers\":\"strict\",\"coloraxis\":{\"colorbar\":{\"outlinewidth\":0,\"ticks\":\"\"}},\"colorscale\":{\"diverging\":[[0,\"#8e0152\"],[0.1,\"#c51b7d\"],[0.2,\"#de77ae\"],[0.3,\"#f1b6da\"],[0.4,\"#fde0ef\"],[0.5,\"#f7f7f7\"],[0.6,\"#e6f5d0\"],[0.7,\"#b8e186\"],[0.8,\"#7fbc41\"],[0.9,\"#4d9221\"],[1,\"#276419\"]],\"sequential\":[[0.0,\"#0d0887\"],[0.1111111111111111,\"#46039f\"],[0.2222222222222222,\"#7201a8\"],[0.3333333333333333,\"#9c179e\"],[0.4444444444444444,\"#bd3786\"],[0.5555555555555556,\"#d8576b\"],[0.6666666666666666,\"#ed7953\"],[0.7777777777777778,\"#fb9f3a\"],[0.8888888888888888,\"#fdca26\"],[1.0,\"#f0f921\"]],\"sequentialminus\":[[0.0,\"#0d0887\"],[0.1111111111111111,\"#46039f\"],[0.2222222222222222,\"#7201a8\"],[0.3333333333333333,\"#9c179e\"],[0.4444444444444444,\"#bd3786\"],[0.5555555555555556,\"#d8576b\"],[0.6666666666666666,\"#ed7953\"],[0.7777777777777778,\"#fb9f3a\"],[0.8888888888888888,\"#fdca26\"],[1.0,\"#f0f921\"]]},\"colorway\":[\"#636efa\",\"#EF553B\",\"#00cc96\",\"#ab63fa\",\"#FFA15A\",\"#19d3f3\",\"#FF6692\",\"#B6E880\",\"#FF97FF\",\"#FECB52\"],\"font\":{\"color\":\"#2a3f5f\"},\"geo\":{\"bgcolor\":\"white\",\"lakecolor\":\"white\",\"landcolor\":\"#E5ECF6\",\"showlakes\":true,\"showland\":true,\"subunitcolor\":\"white\"},\"hoverlabel\":{\"align\":\"left\"},\"hovermode\":\"closest\",\"mapbox\":{\"style\":\"light\"},\"paper_bgcolor\":\"white\",\"plot_bgcolor\":\"#E5ECF6\",\"polar\":{\"angularaxis\":{\"gridcolor\":\"white\",\"linecolor\":\"white\",\"ticks\":\"\"},\"bgcolor\":\"#E5ECF6\",\"radialaxis\":{\"gridcolor\":\"white\",\"linecolor\":\"white\",\"ticks\":\"\"}},\"scene\":{\"xaxis\":{\"backgroundcolor\":\"#E5ECF6\",\"gridcolor\":\"white\",\"gridwidth\":2,\"linecolor\":\"white\",\"showbackground\":true,\"ticks\":\"\",\"zerolinecolor\":\"white\"},\"yaxis\":{\"backgroundcolor\":\"#E5ECF6\",\"gridcolor\":\"white\",\"gridwidth\":2,\"linecolor\":\"white\",\"showbackground\":true,\"ticks\":\"\",\"zerolinecolor\":\"white\"},\"zaxis\":{\"backgroundcolor\":\"#E5ECF6\",\"gridcolor\":\"white\",\"gridwidth\":2,\"linecolor\":\"white\",\"showbackground\":true,\"ticks\":\"\",\"zerolinecolor\":\"white\"}},\"shapedefaults\":{\"line\":{\"color\":\"#2a3f5f\"}},\"ternary\":{\"aaxis\":{\"gridcolor\":\"white\",\"linecolor\":\"white\",\"ticks\":\"\"},\"baxis\":{\"gridcolor\":\"white\",\"linecolor\":\"white\",\"ticks\":\"\"},\"bgcolor\":\"#E5ECF6\",\"caxis\":{\"gridcolor\":\"white\",\"linecolor\":\"white\",\"ticks\":\"\"}},\"title\":{\"x\":0.05},\"xaxis\":{\"automargin\":true,\"gridcolor\":\"white\",\"linecolor\":\"white\",\"ticks\":\"\",\"title\":{\"standoff\":15},\"zerolinecolor\":\"white\",\"zerolinewidth\":2},\"yaxis\":{\"automargin\":true,\"gridcolor\":\"white\",\"linecolor\":\"white\",\"ticks\":\"\",\"title\":{\"standoff\":15},\"zerolinecolor\":\"white\",\"zerolinewidth\":2}}},\"title\":{\"font\":{\"color\":\"#4D5663\"}},\"xaxis\":{\"gridcolor\":\"#E1E5ED\",\"showgrid\":true,\"tickfont\":{\"color\":\"#4D5663\"},\"title\":{\"font\":{\"color\":\"#4D5663\"},\"text\":\"\"},\"zerolinecolor\":\"#E1E5ED\"},\"yaxis\":{\"gridcolor\":\"#E1E5ED\",\"showgrid\":true,\"tickfont\":{\"color\":\"#4D5663\"},\"title\":{\"font\":{\"color\":\"#4D5663\"},\"text\":\"\"},\"zerolinecolor\":\"#E1E5ED\"}},                        {\"showLink\": true, \"linkText\": \"Export to plot.ly\", \"plotlyServerURL\": \"https://plot.ly\", \"responsive\": true}                    ).then(function(){\n",
       "                            \n",
       "var gd = document.getElementById('7d392629-8336-4619-aef7-ec1120af7728');\n",
       "var x = new MutationObserver(function (mutations, observer) {{\n",
       "        var display = window.getComputedStyle(gd).display;\n",
       "        if (!display || display === 'none') {{\n",
       "            console.log([gd, 'removed!']);\n",
       "            Plotly.purge(gd);\n",
       "            observer.disconnect();\n",
       "        }}\n",
       "}});\n",
       "\n",
       "// Listen for the removal of the full notebook cells\n",
       "var notebookContainer = gd.closest('#notebook-container');\n",
       "if (notebookContainer) {{\n",
       "    x.observe(notebookContainer, {childList: true});\n",
       "}}\n",
       "\n",
       "// Listen for the clearing of the current output cell\n",
       "var outputEl = gd.closest('.output');\n",
       "if (outputEl) {{\n",
       "    x.observe(outputEl, {childList: true});\n",
       "}}\n",
       "\n",
       "                        })                };                });            </script>        </div>"
      ]
     },
     "metadata": {},
     "output_type": "display_data"
    }
   ],
   "source": [
    "df.iplot(kind='scatter', x='A', y='B')"
   ]
  },
  {
   "cell_type": "code",
   "execution_count": 17,
   "id": "07893530",
   "metadata": {},
   "outputs": [
    {
     "data": {
      "application/vnd.plotly.v1+json": {
       "config": {
        "linkText": "Export to plot.ly",
        "plotlyServerURL": "https://plot.ly",
        "showLink": true
       },
       "data": [
        {
         "line": {
          "color": "rgba(255, 153, 51, 1.0)",
          "dash": "solid",
          "shape": "linear",
          "width": 1.3
         },
         "marker": {
          "size": 10,
          "symbol": "circle"
         },
         "mode": "markers",
         "name": "B",
         "text": "",
         "type": "scatter",
         "x": [
          -0.6223127097787445,
          -0.07809162236041678,
          1.7790474819468551,
          -1.4247118375561625,
          -1.4105751154601864,
          0.2188883169681857,
          -1.149465863308755,
          -0.2177532325647362,
          -1.6726587412621337,
          1.2097065375742302,
          -0.7930267396765023,
          -0.05511018197538327,
          -0.09030662425254163,
          1.1619150166121996,
          0.3097205548007712,
          0.5129277863969072,
          0.6184961590026289,
          -1.4637685018706745,
          0.4485421585261526,
          1.767822731251506,
          -1.0091554353768661,
          -0.20187565762794943,
          0.10438402542485582,
          -1.0271492803595452,
          -0.549378606146546,
          -1.0818406350966738,
          -0.7289573371488666,
          1.1198836055237327,
          0.5864148695608872,
          -0.024355589607592033,
          0.6980656079470045,
          -0.8483633384572155,
          -1.5684647526087565,
          -1.3874098606278373,
          -0.6513298563396208,
          0.6752856776403766,
          1.9572075005188447,
          0.3067879974877034,
          0.08069647639021876,
          0.013777395371240508,
          1.1497250255527611,
          -0.584868011758543,
          -0.8747816362718722,
          0.16248255497583639,
          -0.6338491218052374,
          -0.18762133433093403,
          0.7183308864619843,
          0.03892557856366659,
          -0.05835543780960389,
          0.2729009332188614,
          0.18648405784653066,
          -0.002357963793111217,
          -1.6448419115769932,
          -1.8587399276049648,
          0.9002409872304978,
          -0.3246003945946711,
          -1.7144926347993703,
          0.7149852461038438,
          0.15022217521407277,
          -2.0742708012084057,
          -1.0082255935657103,
          0.5729601043333363,
          0.7210335937747494,
          0.1605572639077616,
          0.6811849909147913,
          -1.1821625386795713,
          1.3227312433894765,
          -0.8078552803418341,
          0.5935199442620323,
          -0.35774391456928006,
          0.7460167158855326,
          0.21037620123633732,
          -0.001577946660872818,
          0.3318969809409894,
          0.29022595465192125,
          0.6093830084655928,
          -0.5964490834227272,
          -1.0873790616847774,
          0.7385065124916351,
          -1.1683892869125476,
          -0.14716717691544046,
          -0.3190296801594655,
          -1.62228312074107,
          0.0940633033641303,
          -0.7413030015954901,
          2.5468536611139574,
          -0.8553192878274413,
          -0.6214605444473837,
          -0.37590549650516025,
          -0.6887968127659998,
          -0.6023601264871187,
          0.5480051859117191,
          1.5398950046172197,
          1.171647048456549,
          -0.26945117641978844,
          1.3553267212960771,
          -1.8733178535294914,
          -0.8916742861646291,
          -0.10395184783622588,
          0.015416002948039327
         ],
         "y": [
          0.39299279759057504,
          0.9703165383850477,
          -0.3315341358806937,
          -1.5584031758162409,
          0.951523596033235,
          -0.5555846581699916,
          -1.515512553211831,
          1.9037823912410028,
          0.11998085811301533,
          -0.2799904644871162,
          0.9649601637582959,
          -0.2129880463045149,
          1.608269687420033,
          -0.9248636326249062,
          -0.14664756884169589,
          -0.047763160217688436,
          0.02140402329140558,
          0.13626631422295649,
          -1.2316106623850942,
          -1.4494740058324187,
          -0.9643096084728445,
          -1.8155834317145414,
          -1.4975399771222855,
          -2.008459460468831,
          -0.18844771209113004,
          -0.8452479670056402,
          0.2702435905254712,
          -0.08307773275515531,
          1.9925306352375145,
          -0.30011064157012196,
          -1.8416088365312053,
          1.4883897812928597,
          0.2857404107478787,
          -1.3694143183685137,
          0.34472215385367405,
          -0.7333872049097238,
          1.3796332788800656,
          -0.00901709225535108,
          0.5282371077244549,
          -1.5889248101211482,
          -0.9168030342948024,
          -0.8567400095928656,
          0.5420625354429279,
          0.3531656963293904,
          0.9516310013151971,
          1.4814305926548468,
          -0.0661783667737621,
          -0.5366522538953027,
          -1.0733680524544438,
          1.664261087255659,
          0.5546934645540875,
          -0.9498218183256268,
          1.6448795435345684,
          0.2356696285556059,
          -0.9223882563702976,
          -1.999143938093221,
          0.8469020285223882,
          0.6589074033059399,
          -0.5799192494117322,
          -0.7788733134093945,
          0.7577793943052767,
          -0.09707784030046557,
          -0.03455307170219075,
          -0.8811323416697463,
          -0.6267043083674482,
          -1.0269391048157697,
          -0.5321336972529832,
          0.8451182902588883,
          0.08662269451869511,
          0.31429709601059586,
          -0.1934184891753213,
          1.2840149281872961,
          0.555730360910625,
          0.45183765131006726,
          -0.49686842278032023,
          -0.32947519313932555,
          -1.19620746138553,
          -0.7038639841931628,
          -0.7898364183395687,
          0.7438412707540987,
          0.7414495707254729,
          1.3799733154504426,
          0.56648572675284,
          -2.50683210422878,
          0.9959654653416138,
          0.367421323759343,
          -0.46904746013665927,
          -1.1409670086342902,
          0.2598216833782342,
          -1.2902403671698264,
          0.49678766890658405,
          -0.48224628270977354,
          -0.16484644023413372,
          -1.0334851807235186,
          0.14970842234302917,
          0.7165586416171045,
          1.0511466528478781,
          2.06350190094373,
          0.32514957908412,
          0.2174187719077609
         ]
        }
       ],
       "layout": {
        "legend": {
         "bgcolor": "#F5F6F9",
         "font": {
          "color": "#4D5663"
         }
        },
        "paper_bgcolor": "#F5F6F9",
        "plot_bgcolor": "#F5F6F9",
        "template": {
         "data": {
          "bar": [
           {
            "error_x": {
             "color": "#2a3f5f"
            },
            "error_y": {
             "color": "#2a3f5f"
            },
            "marker": {
             "line": {
              "color": "#E5ECF6",
              "width": 0.5
             },
             "pattern": {
              "fillmode": "overlay",
              "size": 10,
              "solidity": 0.2
             }
            },
            "type": "bar"
           }
          ],
          "barpolar": [
           {
            "marker": {
             "line": {
              "color": "#E5ECF6",
              "width": 0.5
             },
             "pattern": {
              "fillmode": "overlay",
              "size": 10,
              "solidity": 0.2
             }
            },
            "type": "barpolar"
           }
          ],
          "carpet": [
           {
            "aaxis": {
             "endlinecolor": "#2a3f5f",
             "gridcolor": "white",
             "linecolor": "white",
             "minorgridcolor": "white",
             "startlinecolor": "#2a3f5f"
            },
            "baxis": {
             "endlinecolor": "#2a3f5f",
             "gridcolor": "white",
             "linecolor": "white",
             "minorgridcolor": "white",
             "startlinecolor": "#2a3f5f"
            },
            "type": "carpet"
           }
          ],
          "choropleth": [
           {
            "colorbar": {
             "outlinewidth": 0,
             "ticks": ""
            },
            "type": "choropleth"
           }
          ],
          "contour": [
           {
            "colorbar": {
             "outlinewidth": 0,
             "ticks": ""
            },
            "colorscale": [
             [
              0,
              "#0d0887"
             ],
             [
              0.1111111111111111,
              "#46039f"
             ],
             [
              0.2222222222222222,
              "#7201a8"
             ],
             [
              0.3333333333333333,
              "#9c179e"
             ],
             [
              0.4444444444444444,
              "#bd3786"
             ],
             [
              0.5555555555555556,
              "#d8576b"
             ],
             [
              0.6666666666666666,
              "#ed7953"
             ],
             [
              0.7777777777777778,
              "#fb9f3a"
             ],
             [
              0.8888888888888888,
              "#fdca26"
             ],
             [
              1,
              "#f0f921"
             ]
            ],
            "type": "contour"
           }
          ],
          "contourcarpet": [
           {
            "colorbar": {
             "outlinewidth": 0,
             "ticks": ""
            },
            "type": "contourcarpet"
           }
          ],
          "heatmap": [
           {
            "colorbar": {
             "outlinewidth": 0,
             "ticks": ""
            },
            "colorscale": [
             [
              0,
              "#0d0887"
             ],
             [
              0.1111111111111111,
              "#46039f"
             ],
             [
              0.2222222222222222,
              "#7201a8"
             ],
             [
              0.3333333333333333,
              "#9c179e"
             ],
             [
              0.4444444444444444,
              "#bd3786"
             ],
             [
              0.5555555555555556,
              "#d8576b"
             ],
             [
              0.6666666666666666,
              "#ed7953"
             ],
             [
              0.7777777777777778,
              "#fb9f3a"
             ],
             [
              0.8888888888888888,
              "#fdca26"
             ],
             [
              1,
              "#f0f921"
             ]
            ],
            "type": "heatmap"
           }
          ],
          "heatmapgl": [
           {
            "colorbar": {
             "outlinewidth": 0,
             "ticks": ""
            },
            "colorscale": [
             [
              0,
              "#0d0887"
             ],
             [
              0.1111111111111111,
              "#46039f"
             ],
             [
              0.2222222222222222,
              "#7201a8"
             ],
             [
              0.3333333333333333,
              "#9c179e"
             ],
             [
              0.4444444444444444,
              "#bd3786"
             ],
             [
              0.5555555555555556,
              "#d8576b"
             ],
             [
              0.6666666666666666,
              "#ed7953"
             ],
             [
              0.7777777777777778,
              "#fb9f3a"
             ],
             [
              0.8888888888888888,
              "#fdca26"
             ],
             [
              1,
              "#f0f921"
             ]
            ],
            "type": "heatmapgl"
           }
          ],
          "histogram": [
           {
            "marker": {
             "pattern": {
              "fillmode": "overlay",
              "size": 10,
              "solidity": 0.2
             }
            },
            "type": "histogram"
           }
          ],
          "histogram2d": [
           {
            "colorbar": {
             "outlinewidth": 0,
             "ticks": ""
            },
            "colorscale": [
             [
              0,
              "#0d0887"
             ],
             [
              0.1111111111111111,
              "#46039f"
             ],
             [
              0.2222222222222222,
              "#7201a8"
             ],
             [
              0.3333333333333333,
              "#9c179e"
             ],
             [
              0.4444444444444444,
              "#bd3786"
             ],
             [
              0.5555555555555556,
              "#d8576b"
             ],
             [
              0.6666666666666666,
              "#ed7953"
             ],
             [
              0.7777777777777778,
              "#fb9f3a"
             ],
             [
              0.8888888888888888,
              "#fdca26"
             ],
             [
              1,
              "#f0f921"
             ]
            ],
            "type": "histogram2d"
           }
          ],
          "histogram2dcontour": [
           {
            "colorbar": {
             "outlinewidth": 0,
             "ticks": ""
            },
            "colorscale": [
             [
              0,
              "#0d0887"
             ],
             [
              0.1111111111111111,
              "#46039f"
             ],
             [
              0.2222222222222222,
              "#7201a8"
             ],
             [
              0.3333333333333333,
              "#9c179e"
             ],
             [
              0.4444444444444444,
              "#bd3786"
             ],
             [
              0.5555555555555556,
              "#d8576b"
             ],
             [
              0.6666666666666666,
              "#ed7953"
             ],
             [
              0.7777777777777778,
              "#fb9f3a"
             ],
             [
              0.8888888888888888,
              "#fdca26"
             ],
             [
              1,
              "#f0f921"
             ]
            ],
            "type": "histogram2dcontour"
           }
          ],
          "mesh3d": [
           {
            "colorbar": {
             "outlinewidth": 0,
             "ticks": ""
            },
            "type": "mesh3d"
           }
          ],
          "parcoords": [
           {
            "line": {
             "colorbar": {
              "outlinewidth": 0,
              "ticks": ""
             }
            },
            "type": "parcoords"
           }
          ],
          "pie": [
           {
            "automargin": true,
            "type": "pie"
           }
          ],
          "scatter": [
           {
            "fillpattern": {
             "fillmode": "overlay",
             "size": 10,
             "solidity": 0.2
            },
            "type": "scatter"
           }
          ],
          "scatter3d": [
           {
            "line": {
             "colorbar": {
              "outlinewidth": 0,
              "ticks": ""
             }
            },
            "marker": {
             "colorbar": {
              "outlinewidth": 0,
              "ticks": ""
             }
            },
            "type": "scatter3d"
           }
          ],
          "scattercarpet": [
           {
            "marker": {
             "colorbar": {
              "outlinewidth": 0,
              "ticks": ""
             }
            },
            "type": "scattercarpet"
           }
          ],
          "scattergeo": [
           {
            "marker": {
             "colorbar": {
              "outlinewidth": 0,
              "ticks": ""
             }
            },
            "type": "scattergeo"
           }
          ],
          "scattergl": [
           {
            "marker": {
             "colorbar": {
              "outlinewidth": 0,
              "ticks": ""
             }
            },
            "type": "scattergl"
           }
          ],
          "scattermapbox": [
           {
            "marker": {
             "colorbar": {
              "outlinewidth": 0,
              "ticks": ""
             }
            },
            "type": "scattermapbox"
           }
          ],
          "scatterpolar": [
           {
            "marker": {
             "colorbar": {
              "outlinewidth": 0,
              "ticks": ""
             }
            },
            "type": "scatterpolar"
           }
          ],
          "scatterpolargl": [
           {
            "marker": {
             "colorbar": {
              "outlinewidth": 0,
              "ticks": ""
             }
            },
            "type": "scatterpolargl"
           }
          ],
          "scatterternary": [
           {
            "marker": {
             "colorbar": {
              "outlinewidth": 0,
              "ticks": ""
             }
            },
            "type": "scatterternary"
           }
          ],
          "surface": [
           {
            "colorbar": {
             "outlinewidth": 0,
             "ticks": ""
            },
            "colorscale": [
             [
              0,
              "#0d0887"
             ],
             [
              0.1111111111111111,
              "#46039f"
             ],
             [
              0.2222222222222222,
              "#7201a8"
             ],
             [
              0.3333333333333333,
              "#9c179e"
             ],
             [
              0.4444444444444444,
              "#bd3786"
             ],
             [
              0.5555555555555556,
              "#d8576b"
             ],
             [
              0.6666666666666666,
              "#ed7953"
             ],
             [
              0.7777777777777778,
              "#fb9f3a"
             ],
             [
              0.8888888888888888,
              "#fdca26"
             ],
             [
              1,
              "#f0f921"
             ]
            ],
            "type": "surface"
           }
          ],
          "table": [
           {
            "cells": {
             "fill": {
              "color": "#EBF0F8"
             },
             "line": {
              "color": "white"
             }
            },
            "header": {
             "fill": {
              "color": "#C8D4E3"
             },
             "line": {
              "color": "white"
             }
            },
            "type": "table"
           }
          ]
         },
         "layout": {
          "annotationdefaults": {
           "arrowcolor": "#2a3f5f",
           "arrowhead": 0,
           "arrowwidth": 1
          },
          "autotypenumbers": "strict",
          "coloraxis": {
           "colorbar": {
            "outlinewidth": 0,
            "ticks": ""
           }
          },
          "colorscale": {
           "diverging": [
            [
             0,
             "#8e0152"
            ],
            [
             0.1,
             "#c51b7d"
            ],
            [
             0.2,
             "#de77ae"
            ],
            [
             0.3,
             "#f1b6da"
            ],
            [
             0.4,
             "#fde0ef"
            ],
            [
             0.5,
             "#f7f7f7"
            ],
            [
             0.6,
             "#e6f5d0"
            ],
            [
             0.7,
             "#b8e186"
            ],
            [
             0.8,
             "#7fbc41"
            ],
            [
             0.9,
             "#4d9221"
            ],
            [
             1,
             "#276419"
            ]
           ],
           "sequential": [
            [
             0,
             "#0d0887"
            ],
            [
             0.1111111111111111,
             "#46039f"
            ],
            [
             0.2222222222222222,
             "#7201a8"
            ],
            [
             0.3333333333333333,
             "#9c179e"
            ],
            [
             0.4444444444444444,
             "#bd3786"
            ],
            [
             0.5555555555555556,
             "#d8576b"
            ],
            [
             0.6666666666666666,
             "#ed7953"
            ],
            [
             0.7777777777777778,
             "#fb9f3a"
            ],
            [
             0.8888888888888888,
             "#fdca26"
            ],
            [
             1,
             "#f0f921"
            ]
           ],
           "sequentialminus": [
            [
             0,
             "#0d0887"
            ],
            [
             0.1111111111111111,
             "#46039f"
            ],
            [
             0.2222222222222222,
             "#7201a8"
            ],
            [
             0.3333333333333333,
             "#9c179e"
            ],
            [
             0.4444444444444444,
             "#bd3786"
            ],
            [
             0.5555555555555556,
             "#d8576b"
            ],
            [
             0.6666666666666666,
             "#ed7953"
            ],
            [
             0.7777777777777778,
             "#fb9f3a"
            ],
            [
             0.8888888888888888,
             "#fdca26"
            ],
            [
             1,
             "#f0f921"
            ]
           ]
          },
          "colorway": [
           "#636efa",
           "#EF553B",
           "#00cc96",
           "#ab63fa",
           "#FFA15A",
           "#19d3f3",
           "#FF6692",
           "#B6E880",
           "#FF97FF",
           "#FECB52"
          ],
          "font": {
           "color": "#2a3f5f"
          },
          "geo": {
           "bgcolor": "white",
           "lakecolor": "white",
           "landcolor": "#E5ECF6",
           "showlakes": true,
           "showland": true,
           "subunitcolor": "white"
          },
          "hoverlabel": {
           "align": "left"
          },
          "hovermode": "closest",
          "mapbox": {
           "style": "light"
          },
          "paper_bgcolor": "white",
          "plot_bgcolor": "#E5ECF6",
          "polar": {
           "angularaxis": {
            "gridcolor": "white",
            "linecolor": "white",
            "ticks": ""
           },
           "bgcolor": "#E5ECF6",
           "radialaxis": {
            "gridcolor": "white",
            "linecolor": "white",
            "ticks": ""
           }
          },
          "scene": {
           "xaxis": {
            "backgroundcolor": "#E5ECF6",
            "gridcolor": "white",
            "gridwidth": 2,
            "linecolor": "white",
            "showbackground": true,
            "ticks": "",
            "zerolinecolor": "white"
           },
           "yaxis": {
            "backgroundcolor": "#E5ECF6",
            "gridcolor": "white",
            "gridwidth": 2,
            "linecolor": "white",
            "showbackground": true,
            "ticks": "",
            "zerolinecolor": "white"
           },
           "zaxis": {
            "backgroundcolor": "#E5ECF6",
            "gridcolor": "white",
            "gridwidth": 2,
            "linecolor": "white",
            "showbackground": true,
            "ticks": "",
            "zerolinecolor": "white"
           }
          },
          "shapedefaults": {
           "line": {
            "color": "#2a3f5f"
           }
          },
          "ternary": {
           "aaxis": {
            "gridcolor": "white",
            "linecolor": "white",
            "ticks": ""
           },
           "baxis": {
            "gridcolor": "white",
            "linecolor": "white",
            "ticks": ""
           },
           "bgcolor": "#E5ECF6",
           "caxis": {
            "gridcolor": "white",
            "linecolor": "white",
            "ticks": ""
           }
          },
          "title": {
           "x": 0.05
          },
          "xaxis": {
           "automargin": true,
           "gridcolor": "white",
           "linecolor": "white",
           "ticks": "",
           "title": {
            "standoff": 15
           },
           "zerolinecolor": "white",
           "zerolinewidth": 2
          },
          "yaxis": {
           "automargin": true,
           "gridcolor": "white",
           "linecolor": "white",
           "ticks": "",
           "title": {
            "standoff": 15
           },
           "zerolinecolor": "white",
           "zerolinewidth": 2
          }
         }
        },
        "title": {
         "font": {
          "color": "#4D5663"
         }
        },
        "xaxis": {
         "gridcolor": "#E1E5ED",
         "showgrid": true,
         "tickfont": {
          "color": "#4D5663"
         },
         "title": {
          "font": {
           "color": "#4D5663"
          },
          "text": ""
         },
         "zerolinecolor": "#E1E5ED"
        },
        "yaxis": {
         "gridcolor": "#E1E5ED",
         "showgrid": true,
         "tickfont": {
          "color": "#4D5663"
         },
         "title": {
          "font": {
           "color": "#4D5663"
          },
          "text": ""
         },
         "zerolinecolor": "#E1E5ED"
        }
       }
      },
      "text/html": [
       "<div>                            <div id=\"4e9fa1cb-a41f-49af-be90-67a14df68a2b\" class=\"plotly-graph-div\" style=\"height:525px; width:100%;\"></div>            <script type=\"text/javascript\">                require([\"plotly\"], function(Plotly) {                    window.PLOTLYENV=window.PLOTLYENV || {};\n",
       "                    window.PLOTLYENV.BASE_URL='https://plot.ly';                                    if (document.getElementById(\"4e9fa1cb-a41f-49af-be90-67a14df68a2b\")) {                    Plotly.newPlot(                        \"4e9fa1cb-a41f-49af-be90-67a14df68a2b\",                        [{\"line\":{\"color\":\"rgba(255, 153, 51, 1.0)\",\"dash\":\"solid\",\"shape\":\"linear\",\"width\":1.3},\"marker\":{\"size\":10,\"symbol\":\"circle\"},\"mode\":\"markers\",\"name\":\"B\",\"text\":\"\",\"x\":[-0.6223127097787445,-0.07809162236041678,1.7790474819468551,-1.4247118375561625,-1.4105751154601864,0.2188883169681857,-1.149465863308755,-0.2177532325647362,-1.6726587412621337,1.2097065375742302,-0.7930267396765023,-0.05511018197538327,-0.09030662425254163,1.1619150166121996,0.3097205548007712,0.5129277863969072,0.6184961590026289,-1.4637685018706745,0.4485421585261526,1.767822731251506,-1.0091554353768661,-0.20187565762794943,0.10438402542485582,-1.0271492803595452,-0.549378606146546,-1.0818406350966738,-0.7289573371488666,1.1198836055237327,0.5864148695608872,-0.024355589607592033,0.6980656079470045,-0.8483633384572155,-1.5684647526087565,-1.3874098606278373,-0.6513298563396208,0.6752856776403766,1.9572075005188447,0.3067879974877034,0.08069647639021876,0.013777395371240508,1.1497250255527611,-0.584868011758543,-0.8747816362718722,0.16248255497583639,-0.6338491218052374,-0.18762133433093403,0.7183308864619843,0.03892557856366659,-0.05835543780960389,0.2729009332188614,0.18648405784653066,-0.002357963793111217,-1.6448419115769932,-1.8587399276049648,0.9002409872304978,-0.3246003945946711,-1.7144926347993703,0.7149852461038438,0.15022217521407277,-2.0742708012084057,-1.0082255935657103,0.5729601043333363,0.7210335937747494,0.1605572639077616,0.6811849909147913,-1.1821625386795713,1.3227312433894765,-0.8078552803418341,0.5935199442620323,-0.35774391456928006,0.7460167158855326,0.21037620123633732,-0.001577946660872818,0.3318969809409894,0.29022595465192125,0.6093830084655928,-0.5964490834227272,-1.0873790616847774,0.7385065124916351,-1.1683892869125476,-0.14716717691544046,-0.3190296801594655,-1.62228312074107,0.0940633033641303,-0.7413030015954901,2.5468536611139574,-0.8553192878274413,-0.6214605444473837,-0.37590549650516025,-0.6887968127659998,-0.6023601264871187,0.5480051859117191,1.5398950046172197,1.171647048456549,-0.26945117641978844,1.3553267212960771,-1.8733178535294914,-0.8916742861646291,-0.10395184783622588,0.015416002948039327],\"y\":[0.39299279759057504,0.9703165383850477,-0.3315341358806937,-1.5584031758162409,0.951523596033235,-0.5555846581699916,-1.515512553211831,1.9037823912410028,0.11998085811301533,-0.2799904644871162,0.9649601637582959,-0.2129880463045149,1.608269687420033,-0.9248636326249062,-0.14664756884169589,-0.047763160217688436,0.02140402329140558,0.13626631422295649,-1.2316106623850942,-1.4494740058324187,-0.9643096084728445,-1.8155834317145414,-1.4975399771222855,-2.008459460468831,-0.18844771209113004,-0.8452479670056402,0.2702435905254712,-0.08307773275515531,1.9925306352375145,-0.30011064157012196,-1.8416088365312053,1.4883897812928597,0.2857404107478787,-1.3694143183685137,0.34472215385367405,-0.7333872049097238,1.3796332788800656,-0.00901709225535108,0.5282371077244549,-1.5889248101211482,-0.9168030342948024,-0.8567400095928656,0.5420625354429279,0.3531656963293904,0.9516310013151971,1.4814305926548468,-0.0661783667737621,-0.5366522538953027,-1.0733680524544438,1.664261087255659,0.5546934645540875,-0.9498218183256268,1.6448795435345684,0.2356696285556059,-0.9223882563702976,-1.999143938093221,0.8469020285223882,0.6589074033059399,-0.5799192494117322,-0.7788733134093945,0.7577793943052767,-0.09707784030046557,-0.03455307170219075,-0.8811323416697463,-0.6267043083674482,-1.0269391048157697,-0.5321336972529832,0.8451182902588883,0.08662269451869511,0.31429709601059586,-0.1934184891753213,1.2840149281872961,0.555730360910625,0.45183765131006726,-0.49686842278032023,-0.32947519313932555,-1.19620746138553,-0.7038639841931628,-0.7898364183395687,0.7438412707540987,0.7414495707254729,1.3799733154504426,0.56648572675284,-2.50683210422878,0.9959654653416138,0.367421323759343,-0.46904746013665927,-1.1409670086342902,0.2598216833782342,-1.2902403671698264,0.49678766890658405,-0.48224628270977354,-0.16484644023413372,-1.0334851807235186,0.14970842234302917,0.7165586416171045,1.0511466528478781,2.06350190094373,0.32514957908412,0.2174187719077609],\"type\":\"scatter\"}],                        {\"legend\":{\"bgcolor\":\"#F5F6F9\",\"font\":{\"color\":\"#4D5663\"}},\"paper_bgcolor\":\"#F5F6F9\",\"plot_bgcolor\":\"#F5F6F9\",\"template\":{\"data\":{\"barpolar\":[{\"marker\":{\"line\":{\"color\":\"#E5ECF6\",\"width\":0.5},\"pattern\":{\"fillmode\":\"overlay\",\"size\":10,\"solidity\":0.2}},\"type\":\"barpolar\"}],\"bar\":[{\"error_x\":{\"color\":\"#2a3f5f\"},\"error_y\":{\"color\":\"#2a3f5f\"},\"marker\":{\"line\":{\"color\":\"#E5ECF6\",\"width\":0.5},\"pattern\":{\"fillmode\":\"overlay\",\"size\":10,\"solidity\":0.2}},\"type\":\"bar\"}],\"carpet\":[{\"aaxis\":{\"endlinecolor\":\"#2a3f5f\",\"gridcolor\":\"white\",\"linecolor\":\"white\",\"minorgridcolor\":\"white\",\"startlinecolor\":\"#2a3f5f\"},\"baxis\":{\"endlinecolor\":\"#2a3f5f\",\"gridcolor\":\"white\",\"linecolor\":\"white\",\"minorgridcolor\":\"white\",\"startlinecolor\":\"#2a3f5f\"},\"type\":\"carpet\"}],\"choropleth\":[{\"colorbar\":{\"outlinewidth\":0,\"ticks\":\"\"},\"type\":\"choropleth\"}],\"contourcarpet\":[{\"colorbar\":{\"outlinewidth\":0,\"ticks\":\"\"},\"type\":\"contourcarpet\"}],\"contour\":[{\"colorbar\":{\"outlinewidth\":0,\"ticks\":\"\"},\"colorscale\":[[0.0,\"#0d0887\"],[0.1111111111111111,\"#46039f\"],[0.2222222222222222,\"#7201a8\"],[0.3333333333333333,\"#9c179e\"],[0.4444444444444444,\"#bd3786\"],[0.5555555555555556,\"#d8576b\"],[0.6666666666666666,\"#ed7953\"],[0.7777777777777778,\"#fb9f3a\"],[0.8888888888888888,\"#fdca26\"],[1.0,\"#f0f921\"]],\"type\":\"contour\"}],\"heatmapgl\":[{\"colorbar\":{\"outlinewidth\":0,\"ticks\":\"\"},\"colorscale\":[[0.0,\"#0d0887\"],[0.1111111111111111,\"#46039f\"],[0.2222222222222222,\"#7201a8\"],[0.3333333333333333,\"#9c179e\"],[0.4444444444444444,\"#bd3786\"],[0.5555555555555556,\"#d8576b\"],[0.6666666666666666,\"#ed7953\"],[0.7777777777777778,\"#fb9f3a\"],[0.8888888888888888,\"#fdca26\"],[1.0,\"#f0f921\"]],\"type\":\"heatmapgl\"}],\"heatmap\":[{\"colorbar\":{\"outlinewidth\":0,\"ticks\":\"\"},\"colorscale\":[[0.0,\"#0d0887\"],[0.1111111111111111,\"#46039f\"],[0.2222222222222222,\"#7201a8\"],[0.3333333333333333,\"#9c179e\"],[0.4444444444444444,\"#bd3786\"],[0.5555555555555556,\"#d8576b\"],[0.6666666666666666,\"#ed7953\"],[0.7777777777777778,\"#fb9f3a\"],[0.8888888888888888,\"#fdca26\"],[1.0,\"#f0f921\"]],\"type\":\"heatmap\"}],\"histogram2dcontour\":[{\"colorbar\":{\"outlinewidth\":0,\"ticks\":\"\"},\"colorscale\":[[0.0,\"#0d0887\"],[0.1111111111111111,\"#46039f\"],[0.2222222222222222,\"#7201a8\"],[0.3333333333333333,\"#9c179e\"],[0.4444444444444444,\"#bd3786\"],[0.5555555555555556,\"#d8576b\"],[0.6666666666666666,\"#ed7953\"],[0.7777777777777778,\"#fb9f3a\"],[0.8888888888888888,\"#fdca26\"],[1.0,\"#f0f921\"]],\"type\":\"histogram2dcontour\"}],\"histogram2d\":[{\"colorbar\":{\"outlinewidth\":0,\"ticks\":\"\"},\"colorscale\":[[0.0,\"#0d0887\"],[0.1111111111111111,\"#46039f\"],[0.2222222222222222,\"#7201a8\"],[0.3333333333333333,\"#9c179e\"],[0.4444444444444444,\"#bd3786\"],[0.5555555555555556,\"#d8576b\"],[0.6666666666666666,\"#ed7953\"],[0.7777777777777778,\"#fb9f3a\"],[0.8888888888888888,\"#fdca26\"],[1.0,\"#f0f921\"]],\"type\":\"histogram2d\"}],\"histogram\":[{\"marker\":{\"pattern\":{\"fillmode\":\"overlay\",\"size\":10,\"solidity\":0.2}},\"type\":\"histogram\"}],\"mesh3d\":[{\"colorbar\":{\"outlinewidth\":0,\"ticks\":\"\"},\"type\":\"mesh3d\"}],\"parcoords\":[{\"line\":{\"colorbar\":{\"outlinewidth\":0,\"ticks\":\"\"}},\"type\":\"parcoords\"}],\"pie\":[{\"automargin\":true,\"type\":\"pie\"}],\"scatter3d\":[{\"line\":{\"colorbar\":{\"outlinewidth\":0,\"ticks\":\"\"}},\"marker\":{\"colorbar\":{\"outlinewidth\":0,\"ticks\":\"\"}},\"type\":\"scatter3d\"}],\"scattercarpet\":[{\"marker\":{\"colorbar\":{\"outlinewidth\":0,\"ticks\":\"\"}},\"type\":\"scattercarpet\"}],\"scattergeo\":[{\"marker\":{\"colorbar\":{\"outlinewidth\":0,\"ticks\":\"\"}},\"type\":\"scattergeo\"}],\"scattergl\":[{\"marker\":{\"colorbar\":{\"outlinewidth\":0,\"ticks\":\"\"}},\"type\":\"scattergl\"}],\"scattermapbox\":[{\"marker\":{\"colorbar\":{\"outlinewidth\":0,\"ticks\":\"\"}},\"type\":\"scattermapbox\"}],\"scatterpolargl\":[{\"marker\":{\"colorbar\":{\"outlinewidth\":0,\"ticks\":\"\"}},\"type\":\"scatterpolargl\"}],\"scatterpolar\":[{\"marker\":{\"colorbar\":{\"outlinewidth\":0,\"ticks\":\"\"}},\"type\":\"scatterpolar\"}],\"scatter\":[{\"fillpattern\":{\"fillmode\":\"overlay\",\"size\":10,\"solidity\":0.2},\"type\":\"scatter\"}],\"scatterternary\":[{\"marker\":{\"colorbar\":{\"outlinewidth\":0,\"ticks\":\"\"}},\"type\":\"scatterternary\"}],\"surface\":[{\"colorbar\":{\"outlinewidth\":0,\"ticks\":\"\"},\"colorscale\":[[0.0,\"#0d0887\"],[0.1111111111111111,\"#46039f\"],[0.2222222222222222,\"#7201a8\"],[0.3333333333333333,\"#9c179e\"],[0.4444444444444444,\"#bd3786\"],[0.5555555555555556,\"#d8576b\"],[0.6666666666666666,\"#ed7953\"],[0.7777777777777778,\"#fb9f3a\"],[0.8888888888888888,\"#fdca26\"],[1.0,\"#f0f921\"]],\"type\":\"surface\"}],\"table\":[{\"cells\":{\"fill\":{\"color\":\"#EBF0F8\"},\"line\":{\"color\":\"white\"}},\"header\":{\"fill\":{\"color\":\"#C8D4E3\"},\"line\":{\"color\":\"white\"}},\"type\":\"table\"}]},\"layout\":{\"annotationdefaults\":{\"arrowcolor\":\"#2a3f5f\",\"arrowhead\":0,\"arrowwidth\":1},\"autotypenumbers\":\"strict\",\"coloraxis\":{\"colorbar\":{\"outlinewidth\":0,\"ticks\":\"\"}},\"colorscale\":{\"diverging\":[[0,\"#8e0152\"],[0.1,\"#c51b7d\"],[0.2,\"#de77ae\"],[0.3,\"#f1b6da\"],[0.4,\"#fde0ef\"],[0.5,\"#f7f7f7\"],[0.6,\"#e6f5d0\"],[0.7,\"#b8e186\"],[0.8,\"#7fbc41\"],[0.9,\"#4d9221\"],[1,\"#276419\"]],\"sequential\":[[0.0,\"#0d0887\"],[0.1111111111111111,\"#46039f\"],[0.2222222222222222,\"#7201a8\"],[0.3333333333333333,\"#9c179e\"],[0.4444444444444444,\"#bd3786\"],[0.5555555555555556,\"#d8576b\"],[0.6666666666666666,\"#ed7953\"],[0.7777777777777778,\"#fb9f3a\"],[0.8888888888888888,\"#fdca26\"],[1.0,\"#f0f921\"]],\"sequentialminus\":[[0.0,\"#0d0887\"],[0.1111111111111111,\"#46039f\"],[0.2222222222222222,\"#7201a8\"],[0.3333333333333333,\"#9c179e\"],[0.4444444444444444,\"#bd3786\"],[0.5555555555555556,\"#d8576b\"],[0.6666666666666666,\"#ed7953\"],[0.7777777777777778,\"#fb9f3a\"],[0.8888888888888888,\"#fdca26\"],[1.0,\"#f0f921\"]]},\"colorway\":[\"#636efa\",\"#EF553B\",\"#00cc96\",\"#ab63fa\",\"#FFA15A\",\"#19d3f3\",\"#FF6692\",\"#B6E880\",\"#FF97FF\",\"#FECB52\"],\"font\":{\"color\":\"#2a3f5f\"},\"geo\":{\"bgcolor\":\"white\",\"lakecolor\":\"white\",\"landcolor\":\"#E5ECF6\",\"showlakes\":true,\"showland\":true,\"subunitcolor\":\"white\"},\"hoverlabel\":{\"align\":\"left\"},\"hovermode\":\"closest\",\"mapbox\":{\"style\":\"light\"},\"paper_bgcolor\":\"white\",\"plot_bgcolor\":\"#E5ECF6\",\"polar\":{\"angularaxis\":{\"gridcolor\":\"white\",\"linecolor\":\"white\",\"ticks\":\"\"},\"bgcolor\":\"#E5ECF6\",\"radialaxis\":{\"gridcolor\":\"white\",\"linecolor\":\"white\",\"ticks\":\"\"}},\"scene\":{\"xaxis\":{\"backgroundcolor\":\"#E5ECF6\",\"gridcolor\":\"white\",\"gridwidth\":2,\"linecolor\":\"white\",\"showbackground\":true,\"ticks\":\"\",\"zerolinecolor\":\"white\"},\"yaxis\":{\"backgroundcolor\":\"#E5ECF6\",\"gridcolor\":\"white\",\"gridwidth\":2,\"linecolor\":\"white\",\"showbackground\":true,\"ticks\":\"\",\"zerolinecolor\":\"white\"},\"zaxis\":{\"backgroundcolor\":\"#E5ECF6\",\"gridcolor\":\"white\",\"gridwidth\":2,\"linecolor\":\"white\",\"showbackground\":true,\"ticks\":\"\",\"zerolinecolor\":\"white\"}},\"shapedefaults\":{\"line\":{\"color\":\"#2a3f5f\"}},\"ternary\":{\"aaxis\":{\"gridcolor\":\"white\",\"linecolor\":\"white\",\"ticks\":\"\"},\"baxis\":{\"gridcolor\":\"white\",\"linecolor\":\"white\",\"ticks\":\"\"},\"bgcolor\":\"#E5ECF6\",\"caxis\":{\"gridcolor\":\"white\",\"linecolor\":\"white\",\"ticks\":\"\"}},\"title\":{\"x\":0.05},\"xaxis\":{\"automargin\":true,\"gridcolor\":\"white\",\"linecolor\":\"white\",\"ticks\":\"\",\"title\":{\"standoff\":15},\"zerolinecolor\":\"white\",\"zerolinewidth\":2},\"yaxis\":{\"automargin\":true,\"gridcolor\":\"white\",\"linecolor\":\"white\",\"ticks\":\"\",\"title\":{\"standoff\":15},\"zerolinecolor\":\"white\",\"zerolinewidth\":2}}},\"title\":{\"font\":{\"color\":\"#4D5663\"}},\"xaxis\":{\"gridcolor\":\"#E1E5ED\",\"showgrid\":true,\"tickfont\":{\"color\":\"#4D5663\"},\"title\":{\"font\":{\"color\":\"#4D5663\"},\"text\":\"\"},\"zerolinecolor\":\"#E1E5ED\"},\"yaxis\":{\"gridcolor\":\"#E1E5ED\",\"showgrid\":true,\"tickfont\":{\"color\":\"#4D5663\"},\"title\":{\"font\":{\"color\":\"#4D5663\"},\"text\":\"\"},\"zerolinecolor\":\"#E1E5ED\"}},                        {\"showLink\": true, \"linkText\": \"Export to plot.ly\", \"plotlyServerURL\": \"https://plot.ly\", \"responsive\": true}                    ).then(function(){\n",
       "                            \n",
       "var gd = document.getElementById('4e9fa1cb-a41f-49af-be90-67a14df68a2b');\n",
       "var x = new MutationObserver(function (mutations, observer) {{\n",
       "        var display = window.getComputedStyle(gd).display;\n",
       "        if (!display || display === 'none') {{\n",
       "            console.log([gd, 'removed!']);\n",
       "            Plotly.purge(gd);\n",
       "            observer.disconnect();\n",
       "        }}\n",
       "}});\n",
       "\n",
       "// Listen for the removal of the full notebook cells\n",
       "var notebookContainer = gd.closest('#notebook-container');\n",
       "if (notebookContainer) {{\n",
       "    x.observe(notebookContainer, {childList: true});\n",
       "}}\n",
       "\n",
       "// Listen for the clearing of the current output cell\n",
       "var outputEl = gd.closest('.output');\n",
       "if (outputEl) {{\n",
       "    x.observe(outputEl, {childList: true});\n",
       "}}\n",
       "\n",
       "                        })                };                });            </script>        </div>"
      ]
     },
     "metadata": {},
     "output_type": "display_data"
    }
   ],
   "source": [
    "df.iplot(kind='scatter', x='A', y='B', mode='markers',size=10)"
   ]
  },
  {
   "cell_type": "code",
   "execution_count": 18,
   "id": "c441462d",
   "metadata": {},
   "outputs": [],
   "source": [
    "df2=pd.DataFrame({'catagory':['A','B','C','D'],'values':[32,43,50,60]})"
   ]
  },
  {
   "cell_type": "code",
   "execution_count": 19,
   "id": "494fd58a",
   "metadata": {},
   "outputs": [
    {
     "data": {
      "text/html": [
       "<div>\n",
       "<style scoped>\n",
       "    .dataframe tbody tr th:only-of-type {\n",
       "        vertical-align: middle;\n",
       "    }\n",
       "\n",
       "    .dataframe tbody tr th {\n",
       "        vertical-align: top;\n",
       "    }\n",
       "\n",
       "    .dataframe thead th {\n",
       "        text-align: right;\n",
       "    }\n",
       "</style>\n",
       "<table border=\"1\" class=\"dataframe\">\n",
       "  <thead>\n",
       "    <tr style=\"text-align: right;\">\n",
       "      <th></th>\n",
       "      <th>A</th>\n",
       "      <th>B</th>\n",
       "      <th>C</th>\n",
       "      <th>D</th>\n",
       "    </tr>\n",
       "  </thead>\n",
       "  <tbody>\n",
       "    <tr>\n",
       "      <th>0</th>\n",
       "      <td>-0.622313</td>\n",
       "      <td>0.392993</td>\n",
       "      <td>-0.139492</td>\n",
       "      <td>0.010313</td>\n",
       "    </tr>\n",
       "    <tr>\n",
       "      <th>1</th>\n",
       "      <td>-0.078092</td>\n",
       "      <td>0.970317</td>\n",
       "      <td>0.387342</td>\n",
       "      <td>0.977479</td>\n",
       "    </tr>\n",
       "    <tr>\n",
       "      <th>2</th>\n",
       "      <td>1.779047</td>\n",
       "      <td>-0.331534</td>\n",
       "      <td>-0.926096</td>\n",
       "      <td>1.183275</td>\n",
       "    </tr>\n",
       "    <tr>\n",
       "      <th>3</th>\n",
       "      <td>-1.424712</td>\n",
       "      <td>-1.558403</td>\n",
       "      <td>1.759806</td>\n",
       "      <td>-0.683841</td>\n",
       "    </tr>\n",
       "    <tr>\n",
       "      <th>4</th>\n",
       "      <td>-1.410575</td>\n",
       "      <td>0.951524</td>\n",
       "      <td>2.210787</td>\n",
       "      <td>-0.620049</td>\n",
       "    </tr>\n",
       "    <tr>\n",
       "      <th>...</th>\n",
       "      <td>...</td>\n",
       "      <td>...</td>\n",
       "      <td>...</td>\n",
       "      <td>...</td>\n",
       "    </tr>\n",
       "    <tr>\n",
       "      <th>95</th>\n",
       "      <td>1.355327</td>\n",
       "      <td>0.716559</td>\n",
       "      <td>0.252331</td>\n",
       "      <td>0.155976</td>\n",
       "    </tr>\n",
       "    <tr>\n",
       "      <th>96</th>\n",
       "      <td>-1.873318</td>\n",
       "      <td>1.051147</td>\n",
       "      <td>0.460330</td>\n",
       "      <td>0.273214</td>\n",
       "    </tr>\n",
       "    <tr>\n",
       "      <th>97</th>\n",
       "      <td>-0.891674</td>\n",
       "      <td>2.063502</td>\n",
       "      <td>0.955064</td>\n",
       "      <td>-0.236899</td>\n",
       "    </tr>\n",
       "    <tr>\n",
       "      <th>98</th>\n",
       "      <td>-0.103952</td>\n",
       "      <td>0.325150</td>\n",
       "      <td>0.561791</td>\n",
       "      <td>-0.716461</td>\n",
       "    </tr>\n",
       "    <tr>\n",
       "      <th>99</th>\n",
       "      <td>0.015416</td>\n",
       "      <td>0.217419</td>\n",
       "      <td>-1.133357</td>\n",
       "      <td>-1.031417</td>\n",
       "    </tr>\n",
       "  </tbody>\n",
       "</table>\n",
       "<p>100 rows × 4 columns</p>\n",
       "</div>"
      ],
      "text/plain": [
       "           A         B         C         D\n",
       "0  -0.622313  0.392993 -0.139492  0.010313\n",
       "1  -0.078092  0.970317  0.387342  0.977479\n",
       "2   1.779047 -0.331534 -0.926096  1.183275\n",
       "3  -1.424712 -1.558403  1.759806 -0.683841\n",
       "4  -1.410575  0.951524  2.210787 -0.620049\n",
       "..       ...       ...       ...       ...\n",
       "95  1.355327  0.716559  0.252331  0.155976\n",
       "96 -1.873318  1.051147  0.460330  0.273214\n",
       "97 -0.891674  2.063502  0.955064 -0.236899\n",
       "98 -0.103952  0.325150  0.561791 -0.716461\n",
       "99  0.015416  0.217419 -1.133357 -1.031417\n",
       "\n",
       "[100 rows x 4 columns]"
      ]
     },
     "execution_count": 19,
     "metadata": {},
     "output_type": "execute_result"
    }
   ],
   "source": [
    "df"
   ]
  },
  {
   "cell_type": "code",
   "execution_count": 20,
   "id": "d74b4c1a",
   "metadata": {},
   "outputs": [
    {
     "data": {
      "application/vnd.plotly.v1+json": {
       "config": {
        "linkText": "Export to plot.ly",
        "plotlyServerURL": "https://plot.ly",
        "showLink": true
       },
       "data": [
        {
         "marker": {
          "color": "rgba(255, 153, 51, 0.6)",
          "line": {
           "color": "rgba(255, 153, 51, 1.0)",
           "width": 1
          }
         },
         "name": "A",
         "orientation": "v",
         "text": "",
         "type": "bar",
         "x": [
          0,
          1,
          2,
          3,
          4,
          5,
          6,
          7,
          8,
          9,
          10,
          11,
          12,
          13,
          14,
          15,
          16,
          17,
          18,
          19,
          20,
          21,
          22,
          23,
          24,
          25,
          26,
          27,
          28,
          29,
          30,
          31,
          32,
          33,
          34,
          35,
          36,
          37,
          38,
          39,
          40,
          41,
          42,
          43,
          44,
          45,
          46,
          47,
          48,
          49,
          50,
          51,
          52,
          53,
          54,
          55,
          56,
          57,
          58,
          59,
          60,
          61,
          62,
          63,
          64,
          65,
          66,
          67,
          68,
          69,
          70,
          71,
          72,
          73,
          74,
          75,
          76,
          77,
          78,
          79,
          80,
          81,
          82,
          83,
          84,
          85,
          86,
          87,
          88,
          89,
          90,
          91,
          92,
          93,
          94,
          95,
          96,
          97,
          98,
          99
         ],
         "y": [
          -0.6223127097787445,
          -0.07809162236041678,
          1.7790474819468551,
          -1.4247118375561625,
          -1.4105751154601864,
          0.2188883169681857,
          -1.149465863308755,
          -0.2177532325647362,
          -1.6726587412621337,
          1.2097065375742302,
          -0.7930267396765023,
          -0.05511018197538327,
          -0.09030662425254163,
          1.1619150166121996,
          0.3097205548007712,
          0.5129277863969072,
          0.6184961590026289,
          -1.4637685018706745,
          0.4485421585261526,
          1.767822731251506,
          -1.0091554353768661,
          -0.20187565762794943,
          0.10438402542485582,
          -1.0271492803595452,
          -0.549378606146546,
          -1.0818406350966738,
          -0.7289573371488666,
          1.1198836055237327,
          0.5864148695608872,
          -0.024355589607592033,
          0.6980656079470045,
          -0.8483633384572155,
          -1.5684647526087565,
          -1.3874098606278373,
          -0.6513298563396208,
          0.6752856776403766,
          1.9572075005188447,
          0.3067879974877034,
          0.08069647639021876,
          0.013777395371240508,
          1.1497250255527611,
          -0.584868011758543,
          -0.8747816362718722,
          0.16248255497583639,
          -0.6338491218052374,
          -0.18762133433093403,
          0.7183308864619843,
          0.03892557856366659,
          -0.05835543780960389,
          0.2729009332188614,
          0.18648405784653066,
          -0.002357963793111217,
          -1.6448419115769932,
          -1.8587399276049648,
          0.9002409872304978,
          -0.3246003945946711,
          -1.7144926347993703,
          0.7149852461038438,
          0.15022217521407277,
          -2.0742708012084057,
          -1.0082255935657103,
          0.5729601043333363,
          0.7210335937747494,
          0.1605572639077616,
          0.6811849909147913,
          -1.1821625386795713,
          1.3227312433894765,
          -0.8078552803418341,
          0.5935199442620323,
          -0.35774391456928006,
          0.7460167158855326,
          0.21037620123633732,
          -0.001577946660872818,
          0.3318969809409894,
          0.29022595465192125,
          0.6093830084655928,
          -0.5964490834227272,
          -1.0873790616847774,
          0.7385065124916351,
          -1.1683892869125476,
          -0.14716717691544046,
          -0.3190296801594655,
          -1.62228312074107,
          0.0940633033641303,
          -0.7413030015954901,
          2.5468536611139574,
          -0.8553192878274413,
          -0.6214605444473837,
          -0.37590549650516025,
          -0.6887968127659998,
          -0.6023601264871187,
          0.5480051859117191,
          1.5398950046172197,
          1.171647048456549,
          -0.26945117641978844,
          1.3553267212960771,
          -1.8733178535294914,
          -0.8916742861646291,
          -0.10395184783622588,
          0.015416002948039327
         ]
        },
        {
         "marker": {
          "color": "rgba(55, 128, 191, 0.6)",
          "line": {
           "color": "rgba(55, 128, 191, 1.0)",
           "width": 1
          }
         },
         "name": "B",
         "orientation": "v",
         "text": "",
         "type": "bar",
         "x": [
          0,
          1,
          2,
          3,
          4,
          5,
          6,
          7,
          8,
          9,
          10,
          11,
          12,
          13,
          14,
          15,
          16,
          17,
          18,
          19,
          20,
          21,
          22,
          23,
          24,
          25,
          26,
          27,
          28,
          29,
          30,
          31,
          32,
          33,
          34,
          35,
          36,
          37,
          38,
          39,
          40,
          41,
          42,
          43,
          44,
          45,
          46,
          47,
          48,
          49,
          50,
          51,
          52,
          53,
          54,
          55,
          56,
          57,
          58,
          59,
          60,
          61,
          62,
          63,
          64,
          65,
          66,
          67,
          68,
          69,
          70,
          71,
          72,
          73,
          74,
          75,
          76,
          77,
          78,
          79,
          80,
          81,
          82,
          83,
          84,
          85,
          86,
          87,
          88,
          89,
          90,
          91,
          92,
          93,
          94,
          95,
          96,
          97,
          98,
          99
         ],
         "y": [
          0.39299279759057504,
          0.9703165383850477,
          -0.3315341358806937,
          -1.5584031758162409,
          0.951523596033235,
          -0.5555846581699916,
          -1.515512553211831,
          1.9037823912410028,
          0.11998085811301533,
          -0.2799904644871162,
          0.9649601637582959,
          -0.2129880463045149,
          1.608269687420033,
          -0.9248636326249062,
          -0.14664756884169589,
          -0.047763160217688436,
          0.02140402329140558,
          0.13626631422295649,
          -1.2316106623850942,
          -1.4494740058324187,
          -0.9643096084728445,
          -1.8155834317145414,
          -1.4975399771222855,
          -2.008459460468831,
          -0.18844771209113004,
          -0.8452479670056402,
          0.2702435905254712,
          -0.08307773275515531,
          1.9925306352375145,
          -0.30011064157012196,
          -1.8416088365312053,
          1.4883897812928597,
          0.2857404107478787,
          -1.3694143183685137,
          0.34472215385367405,
          -0.7333872049097238,
          1.3796332788800656,
          -0.00901709225535108,
          0.5282371077244549,
          -1.5889248101211482,
          -0.9168030342948024,
          -0.8567400095928656,
          0.5420625354429279,
          0.3531656963293904,
          0.9516310013151971,
          1.4814305926548468,
          -0.0661783667737621,
          -0.5366522538953027,
          -1.0733680524544438,
          1.664261087255659,
          0.5546934645540875,
          -0.9498218183256268,
          1.6448795435345684,
          0.2356696285556059,
          -0.9223882563702976,
          -1.999143938093221,
          0.8469020285223882,
          0.6589074033059399,
          -0.5799192494117322,
          -0.7788733134093945,
          0.7577793943052767,
          -0.09707784030046557,
          -0.03455307170219075,
          -0.8811323416697463,
          -0.6267043083674482,
          -1.0269391048157697,
          -0.5321336972529832,
          0.8451182902588883,
          0.08662269451869511,
          0.31429709601059586,
          -0.1934184891753213,
          1.2840149281872961,
          0.555730360910625,
          0.45183765131006726,
          -0.49686842278032023,
          -0.32947519313932555,
          -1.19620746138553,
          -0.7038639841931628,
          -0.7898364183395687,
          0.7438412707540987,
          0.7414495707254729,
          1.3799733154504426,
          0.56648572675284,
          -2.50683210422878,
          0.9959654653416138,
          0.367421323759343,
          -0.46904746013665927,
          -1.1409670086342902,
          0.2598216833782342,
          -1.2902403671698264,
          0.49678766890658405,
          -0.48224628270977354,
          -0.16484644023413372,
          -1.0334851807235186,
          0.14970842234302917,
          0.7165586416171045,
          1.0511466528478781,
          2.06350190094373,
          0.32514957908412,
          0.2174187719077609
         ]
        },
        {
         "marker": {
          "color": "rgba(50, 171, 96, 0.6)",
          "line": {
           "color": "rgba(50, 171, 96, 1.0)",
           "width": 1
          }
         },
         "name": "C",
         "orientation": "v",
         "text": "",
         "type": "bar",
         "x": [
          0,
          1,
          2,
          3,
          4,
          5,
          6,
          7,
          8,
          9,
          10,
          11,
          12,
          13,
          14,
          15,
          16,
          17,
          18,
          19,
          20,
          21,
          22,
          23,
          24,
          25,
          26,
          27,
          28,
          29,
          30,
          31,
          32,
          33,
          34,
          35,
          36,
          37,
          38,
          39,
          40,
          41,
          42,
          43,
          44,
          45,
          46,
          47,
          48,
          49,
          50,
          51,
          52,
          53,
          54,
          55,
          56,
          57,
          58,
          59,
          60,
          61,
          62,
          63,
          64,
          65,
          66,
          67,
          68,
          69,
          70,
          71,
          72,
          73,
          74,
          75,
          76,
          77,
          78,
          79,
          80,
          81,
          82,
          83,
          84,
          85,
          86,
          87,
          88,
          89,
          90,
          91,
          92,
          93,
          94,
          95,
          96,
          97,
          98,
          99
         ],
         "y": [
          -0.1394922412256659,
          0.38734155585847974,
          -0.9260957315446555,
          1.7598055851729693,
          2.210787136403946,
          -0.3022733556354362,
          -0.3321972707800144,
          -0.1552642924054388,
          -0.2870423301786768,
          0.6442732570082397,
          0.11014394961086883,
          -0.4278396030263597,
          0.43364625245808236,
          1.4508588360666845,
          -0.5423396917786653,
          0.4766730628614621,
          -1.0930741231694232,
          -1.2251625013267404,
          1.2278357534838633,
          -0.6586740241489065,
          2.0719087709201016,
          0.41495965936344326,
          0.7561162864867124,
          0.04064409247531572,
          0.18851771376240875,
          0.6321301873304279,
          -0.44742800509363195,
          -0.48617943220762816,
          1.4537403915676392,
          0.19349128592075931,
          1.0296497319579134,
          -0.9693172781930631,
          2.550997324758455,
          -0.9235141105083481,
          -0.2556884233919607,
          -0.6649752111022003,
          -0.5468451556298982,
          -2.7844579414935353,
          -0.3971986657038678,
          -1.2694849579678578,
          0.8050226821235916,
          0.183959600770004,
          0.19582171030744405,
          -0.04239771612971373,
          -1.1844633897934997,
          1.1586783863964807,
          1.7492385698415471,
          1.0158785881673311,
          -1.237607244103128,
          0.843448452886732,
          -1.5637969246951338,
          0.025004871592748112,
          -0.8471180601748635,
          0.6629186648730425,
          -1.1648273994392528,
          -0.2378197288212158,
          1.1587423625965083,
          0.06258506694463219,
          0.36201188717091604,
          0.8742136902258705,
          0.6755642100990448,
          1.0635356940506575,
          1.7509628418864445,
          -2.1122627787085353,
          0.4482910496415664,
          -0.7679156676626054,
          -0.32932409452845224,
          -0.8920180348539344,
          1.2108231224002985,
          0.728060788136938,
          1.3965365372564333,
          0.8408845871772697,
          1.34008003144846,
          3.1650637473110064,
          -0.47730283407630475,
          0.4445011172798934,
          0.7474000002979312,
          0.553429497434904,
          0.20155853477728425,
          0.9814895054945997,
          -0.7619892824985112,
          -0.23241769812505747,
          1.8545481854514945,
          -0.3933567137433616,
          -0.015279273912303869,
          0.9700559196306061,
          -0.7020615572239038,
          1.8908441811029264,
          0.2811541369905382,
          -0.9076193687338854,
          -1.4369113370368245,
          1.0735601139879156,
          0.2777949972840057,
          -0.6003160649082503,
          0.616082822519307,
          0.25233133157908066,
          0.46033039566920175,
          0.9550636859373486,
          0.5617910910295629,
          -1.1333573423474372
         ]
        },
        {
         "marker": {
          "color": "rgba(128, 0, 128, 0.6)",
          "line": {
           "color": "rgba(128, 0, 128, 1.0)",
           "width": 1
          }
         },
         "name": "D",
         "orientation": "v",
         "text": "",
         "type": "bar",
         "x": [
          0,
          1,
          2,
          3,
          4,
          5,
          6,
          7,
          8,
          9,
          10,
          11,
          12,
          13,
          14,
          15,
          16,
          17,
          18,
          19,
          20,
          21,
          22,
          23,
          24,
          25,
          26,
          27,
          28,
          29,
          30,
          31,
          32,
          33,
          34,
          35,
          36,
          37,
          38,
          39,
          40,
          41,
          42,
          43,
          44,
          45,
          46,
          47,
          48,
          49,
          50,
          51,
          52,
          53,
          54,
          55,
          56,
          57,
          58,
          59,
          60,
          61,
          62,
          63,
          64,
          65,
          66,
          67,
          68,
          69,
          70,
          71,
          72,
          73,
          74,
          75,
          76,
          77,
          78,
          79,
          80,
          81,
          82,
          83,
          84,
          85,
          86,
          87,
          88,
          89,
          90,
          91,
          92,
          93,
          94,
          95,
          96,
          97,
          98,
          99
         ],
         "y": [
          0.010313421967021626,
          0.9774787952723087,
          1.1832753189872105,
          -0.683841096896405,
          -0.6200486822091427,
          -1.3824334314231927,
          2.4453494443121597,
          -3.2119560314205766,
          -1.0113513717441274,
          -0.6910889000887538,
          -0.0007939603834835492,
          0.8034006202562674,
          0.6451956621787378,
          -0.5374908243435591,
          -0.009328334097994636,
          0.16665395862426705,
          -1.3602141884570391,
          0.5738391028689689,
          0.6750183691447313,
          0.20520058828298732,
          0.6681745288709247,
          1.0059022683148486,
          0.3944244869874825,
          -0.752639833939874,
          -1.158770538550278,
          -0.24544679136561875,
          -1.3646155805597115,
          0.9551921454161609,
          2.2844343748544493,
          -0.7696634640778297,
          -0.621897690952007,
          -0.34550223084018666,
          -0.4884301152484405,
          0.21928554316860505,
          -0.6829311425330685,
          0.5566508785290419,
          0.7624837165894379,
          -0.5478342499850288,
          0.5801653285577393,
          -0.632425720880273,
          -0.8417813926515596,
          -1.6236927181568437,
          1.9493597870649115,
          0.7465752119643185,
          0.5372780985435524,
          -2.1710348618073723,
          -0.6593875365739125,
          -0.018473140773435842,
          -0.04245242423015054,
          -0.6300682302117817,
          -1.2168773540689084,
          0.9319362138761141,
          -2.6638540758230627,
          -1.9315507625560588,
          -0.16701688100938009,
          -0.2062492957875122,
          -0.8358111006979888,
          0.6863144588219658,
          1.3846234929089063,
          -0.4753417448026249,
          -0.08792035864135517,
          -0.8112352217389021,
          0.14187936679133517,
          1.1734093670706989,
          -0.1322224862763447,
          0.20517567407068496,
          -1.760978391548266,
          0.23801612095180943,
          -1.403049283002082,
          0.2743706916166362,
          -0.6236523305572523,
          0.2725927370556236,
          0.8448899074036795,
          0.4626130789181829,
          0.2668959697949256,
          0.12867707772407294,
          -0.0543150251890773,
          0.18299637276404898,
          1.7752764866442248,
          -1.2374048440464878,
          0.6320590806476215,
          -0.9369986892289005,
          0.1231636933708757,
          -0.4458508374014565,
          0.3011104070617941,
          0.29221209883127613,
          -1.9921867599816934,
          0.2143544019177814,
          -1.5246716720992082,
          0.631959493414628,
          -1.7234468191694932,
          0.7771196299925165,
          0.2242601120175588,
          -0.08539207089427393,
          -2.168210226949958,
          0.15597597461677742,
          0.27321431901873094,
          -0.23689895193153876,
          -0.7164606321195535,
          -1.0314167978024231
         ]
        }
       ],
       "layout": {
        "legend": {
         "bgcolor": "#F5F6F9",
         "font": {
          "color": "#4D5663"
         }
        },
        "paper_bgcolor": "#F5F6F9",
        "plot_bgcolor": "#F5F6F9",
        "template": {
         "data": {
          "bar": [
           {
            "error_x": {
             "color": "#2a3f5f"
            },
            "error_y": {
             "color": "#2a3f5f"
            },
            "marker": {
             "line": {
              "color": "#E5ECF6",
              "width": 0.5
             },
             "pattern": {
              "fillmode": "overlay",
              "size": 10,
              "solidity": 0.2
             }
            },
            "type": "bar"
           }
          ],
          "barpolar": [
           {
            "marker": {
             "line": {
              "color": "#E5ECF6",
              "width": 0.5
             },
             "pattern": {
              "fillmode": "overlay",
              "size": 10,
              "solidity": 0.2
             }
            },
            "type": "barpolar"
           }
          ],
          "carpet": [
           {
            "aaxis": {
             "endlinecolor": "#2a3f5f",
             "gridcolor": "white",
             "linecolor": "white",
             "minorgridcolor": "white",
             "startlinecolor": "#2a3f5f"
            },
            "baxis": {
             "endlinecolor": "#2a3f5f",
             "gridcolor": "white",
             "linecolor": "white",
             "minorgridcolor": "white",
             "startlinecolor": "#2a3f5f"
            },
            "type": "carpet"
           }
          ],
          "choropleth": [
           {
            "colorbar": {
             "outlinewidth": 0,
             "ticks": ""
            },
            "type": "choropleth"
           }
          ],
          "contour": [
           {
            "colorbar": {
             "outlinewidth": 0,
             "ticks": ""
            },
            "colorscale": [
             [
              0,
              "#0d0887"
             ],
             [
              0.1111111111111111,
              "#46039f"
             ],
             [
              0.2222222222222222,
              "#7201a8"
             ],
             [
              0.3333333333333333,
              "#9c179e"
             ],
             [
              0.4444444444444444,
              "#bd3786"
             ],
             [
              0.5555555555555556,
              "#d8576b"
             ],
             [
              0.6666666666666666,
              "#ed7953"
             ],
             [
              0.7777777777777778,
              "#fb9f3a"
             ],
             [
              0.8888888888888888,
              "#fdca26"
             ],
             [
              1,
              "#f0f921"
             ]
            ],
            "type": "contour"
           }
          ],
          "contourcarpet": [
           {
            "colorbar": {
             "outlinewidth": 0,
             "ticks": ""
            },
            "type": "contourcarpet"
           }
          ],
          "heatmap": [
           {
            "colorbar": {
             "outlinewidth": 0,
             "ticks": ""
            },
            "colorscale": [
             [
              0,
              "#0d0887"
             ],
             [
              0.1111111111111111,
              "#46039f"
             ],
             [
              0.2222222222222222,
              "#7201a8"
             ],
             [
              0.3333333333333333,
              "#9c179e"
             ],
             [
              0.4444444444444444,
              "#bd3786"
             ],
             [
              0.5555555555555556,
              "#d8576b"
             ],
             [
              0.6666666666666666,
              "#ed7953"
             ],
             [
              0.7777777777777778,
              "#fb9f3a"
             ],
             [
              0.8888888888888888,
              "#fdca26"
             ],
             [
              1,
              "#f0f921"
             ]
            ],
            "type": "heatmap"
           }
          ],
          "heatmapgl": [
           {
            "colorbar": {
             "outlinewidth": 0,
             "ticks": ""
            },
            "colorscale": [
             [
              0,
              "#0d0887"
             ],
             [
              0.1111111111111111,
              "#46039f"
             ],
             [
              0.2222222222222222,
              "#7201a8"
             ],
             [
              0.3333333333333333,
              "#9c179e"
             ],
             [
              0.4444444444444444,
              "#bd3786"
             ],
             [
              0.5555555555555556,
              "#d8576b"
             ],
             [
              0.6666666666666666,
              "#ed7953"
             ],
             [
              0.7777777777777778,
              "#fb9f3a"
             ],
             [
              0.8888888888888888,
              "#fdca26"
             ],
             [
              1,
              "#f0f921"
             ]
            ],
            "type": "heatmapgl"
           }
          ],
          "histogram": [
           {
            "marker": {
             "pattern": {
              "fillmode": "overlay",
              "size": 10,
              "solidity": 0.2
             }
            },
            "type": "histogram"
           }
          ],
          "histogram2d": [
           {
            "colorbar": {
             "outlinewidth": 0,
             "ticks": ""
            },
            "colorscale": [
             [
              0,
              "#0d0887"
             ],
             [
              0.1111111111111111,
              "#46039f"
             ],
             [
              0.2222222222222222,
              "#7201a8"
             ],
             [
              0.3333333333333333,
              "#9c179e"
             ],
             [
              0.4444444444444444,
              "#bd3786"
             ],
             [
              0.5555555555555556,
              "#d8576b"
             ],
             [
              0.6666666666666666,
              "#ed7953"
             ],
             [
              0.7777777777777778,
              "#fb9f3a"
             ],
             [
              0.8888888888888888,
              "#fdca26"
             ],
             [
              1,
              "#f0f921"
             ]
            ],
            "type": "histogram2d"
           }
          ],
          "histogram2dcontour": [
           {
            "colorbar": {
             "outlinewidth": 0,
             "ticks": ""
            },
            "colorscale": [
             [
              0,
              "#0d0887"
             ],
             [
              0.1111111111111111,
              "#46039f"
             ],
             [
              0.2222222222222222,
              "#7201a8"
             ],
             [
              0.3333333333333333,
              "#9c179e"
             ],
             [
              0.4444444444444444,
              "#bd3786"
             ],
             [
              0.5555555555555556,
              "#d8576b"
             ],
             [
              0.6666666666666666,
              "#ed7953"
             ],
             [
              0.7777777777777778,
              "#fb9f3a"
             ],
             [
              0.8888888888888888,
              "#fdca26"
             ],
             [
              1,
              "#f0f921"
             ]
            ],
            "type": "histogram2dcontour"
           }
          ],
          "mesh3d": [
           {
            "colorbar": {
             "outlinewidth": 0,
             "ticks": ""
            },
            "type": "mesh3d"
           }
          ],
          "parcoords": [
           {
            "line": {
             "colorbar": {
              "outlinewidth": 0,
              "ticks": ""
             }
            },
            "type": "parcoords"
           }
          ],
          "pie": [
           {
            "automargin": true,
            "type": "pie"
           }
          ],
          "scatter": [
           {
            "fillpattern": {
             "fillmode": "overlay",
             "size": 10,
             "solidity": 0.2
            },
            "type": "scatter"
           }
          ],
          "scatter3d": [
           {
            "line": {
             "colorbar": {
              "outlinewidth": 0,
              "ticks": ""
             }
            },
            "marker": {
             "colorbar": {
              "outlinewidth": 0,
              "ticks": ""
             }
            },
            "type": "scatter3d"
           }
          ],
          "scattercarpet": [
           {
            "marker": {
             "colorbar": {
              "outlinewidth": 0,
              "ticks": ""
             }
            },
            "type": "scattercarpet"
           }
          ],
          "scattergeo": [
           {
            "marker": {
             "colorbar": {
              "outlinewidth": 0,
              "ticks": ""
             }
            },
            "type": "scattergeo"
           }
          ],
          "scattergl": [
           {
            "marker": {
             "colorbar": {
              "outlinewidth": 0,
              "ticks": ""
             }
            },
            "type": "scattergl"
           }
          ],
          "scattermapbox": [
           {
            "marker": {
             "colorbar": {
              "outlinewidth": 0,
              "ticks": ""
             }
            },
            "type": "scattermapbox"
           }
          ],
          "scatterpolar": [
           {
            "marker": {
             "colorbar": {
              "outlinewidth": 0,
              "ticks": ""
             }
            },
            "type": "scatterpolar"
           }
          ],
          "scatterpolargl": [
           {
            "marker": {
             "colorbar": {
              "outlinewidth": 0,
              "ticks": ""
             }
            },
            "type": "scatterpolargl"
           }
          ],
          "scatterternary": [
           {
            "marker": {
             "colorbar": {
              "outlinewidth": 0,
              "ticks": ""
             }
            },
            "type": "scatterternary"
           }
          ],
          "surface": [
           {
            "colorbar": {
             "outlinewidth": 0,
             "ticks": ""
            },
            "colorscale": [
             [
              0,
              "#0d0887"
             ],
             [
              0.1111111111111111,
              "#46039f"
             ],
             [
              0.2222222222222222,
              "#7201a8"
             ],
             [
              0.3333333333333333,
              "#9c179e"
             ],
             [
              0.4444444444444444,
              "#bd3786"
             ],
             [
              0.5555555555555556,
              "#d8576b"
             ],
             [
              0.6666666666666666,
              "#ed7953"
             ],
             [
              0.7777777777777778,
              "#fb9f3a"
             ],
             [
              0.8888888888888888,
              "#fdca26"
             ],
             [
              1,
              "#f0f921"
             ]
            ],
            "type": "surface"
           }
          ],
          "table": [
           {
            "cells": {
             "fill": {
              "color": "#EBF0F8"
             },
             "line": {
              "color": "white"
             }
            },
            "header": {
             "fill": {
              "color": "#C8D4E3"
             },
             "line": {
              "color": "white"
             }
            },
            "type": "table"
           }
          ]
         },
         "layout": {
          "annotationdefaults": {
           "arrowcolor": "#2a3f5f",
           "arrowhead": 0,
           "arrowwidth": 1
          },
          "autotypenumbers": "strict",
          "coloraxis": {
           "colorbar": {
            "outlinewidth": 0,
            "ticks": ""
           }
          },
          "colorscale": {
           "diverging": [
            [
             0,
             "#8e0152"
            ],
            [
             0.1,
             "#c51b7d"
            ],
            [
             0.2,
             "#de77ae"
            ],
            [
             0.3,
             "#f1b6da"
            ],
            [
             0.4,
             "#fde0ef"
            ],
            [
             0.5,
             "#f7f7f7"
            ],
            [
             0.6,
             "#e6f5d0"
            ],
            [
             0.7,
             "#b8e186"
            ],
            [
             0.8,
             "#7fbc41"
            ],
            [
             0.9,
             "#4d9221"
            ],
            [
             1,
             "#276419"
            ]
           ],
           "sequential": [
            [
             0,
             "#0d0887"
            ],
            [
             0.1111111111111111,
             "#46039f"
            ],
            [
             0.2222222222222222,
             "#7201a8"
            ],
            [
             0.3333333333333333,
             "#9c179e"
            ],
            [
             0.4444444444444444,
             "#bd3786"
            ],
            [
             0.5555555555555556,
             "#d8576b"
            ],
            [
             0.6666666666666666,
             "#ed7953"
            ],
            [
             0.7777777777777778,
             "#fb9f3a"
            ],
            [
             0.8888888888888888,
             "#fdca26"
            ],
            [
             1,
             "#f0f921"
            ]
           ],
           "sequentialminus": [
            [
             0,
             "#0d0887"
            ],
            [
             0.1111111111111111,
             "#46039f"
            ],
            [
             0.2222222222222222,
             "#7201a8"
            ],
            [
             0.3333333333333333,
             "#9c179e"
            ],
            [
             0.4444444444444444,
             "#bd3786"
            ],
            [
             0.5555555555555556,
             "#d8576b"
            ],
            [
             0.6666666666666666,
             "#ed7953"
            ],
            [
             0.7777777777777778,
             "#fb9f3a"
            ],
            [
             0.8888888888888888,
             "#fdca26"
            ],
            [
             1,
             "#f0f921"
            ]
           ]
          },
          "colorway": [
           "#636efa",
           "#EF553B",
           "#00cc96",
           "#ab63fa",
           "#FFA15A",
           "#19d3f3",
           "#FF6692",
           "#B6E880",
           "#FF97FF",
           "#FECB52"
          ],
          "font": {
           "color": "#2a3f5f"
          },
          "geo": {
           "bgcolor": "white",
           "lakecolor": "white",
           "landcolor": "#E5ECF6",
           "showlakes": true,
           "showland": true,
           "subunitcolor": "white"
          },
          "hoverlabel": {
           "align": "left"
          },
          "hovermode": "closest",
          "mapbox": {
           "style": "light"
          },
          "paper_bgcolor": "white",
          "plot_bgcolor": "#E5ECF6",
          "polar": {
           "angularaxis": {
            "gridcolor": "white",
            "linecolor": "white",
            "ticks": ""
           },
           "bgcolor": "#E5ECF6",
           "radialaxis": {
            "gridcolor": "white",
            "linecolor": "white",
            "ticks": ""
           }
          },
          "scene": {
           "xaxis": {
            "backgroundcolor": "#E5ECF6",
            "gridcolor": "white",
            "gridwidth": 2,
            "linecolor": "white",
            "showbackground": true,
            "ticks": "",
            "zerolinecolor": "white"
           },
           "yaxis": {
            "backgroundcolor": "#E5ECF6",
            "gridcolor": "white",
            "gridwidth": 2,
            "linecolor": "white",
            "showbackground": true,
            "ticks": "",
            "zerolinecolor": "white"
           },
           "zaxis": {
            "backgroundcolor": "#E5ECF6",
            "gridcolor": "white",
            "gridwidth": 2,
            "linecolor": "white",
            "showbackground": true,
            "ticks": "",
            "zerolinecolor": "white"
           }
          },
          "shapedefaults": {
           "line": {
            "color": "#2a3f5f"
           }
          },
          "ternary": {
           "aaxis": {
            "gridcolor": "white",
            "linecolor": "white",
            "ticks": ""
           },
           "baxis": {
            "gridcolor": "white",
            "linecolor": "white",
            "ticks": ""
           },
           "bgcolor": "#E5ECF6",
           "caxis": {
            "gridcolor": "white",
            "linecolor": "white",
            "ticks": ""
           }
          },
          "title": {
           "x": 0.05
          },
          "xaxis": {
           "automargin": true,
           "gridcolor": "white",
           "linecolor": "white",
           "ticks": "",
           "title": {
            "standoff": 15
           },
           "zerolinecolor": "white",
           "zerolinewidth": 2
          },
          "yaxis": {
           "automargin": true,
           "gridcolor": "white",
           "linecolor": "white",
           "ticks": "",
           "title": {
            "standoff": 15
           },
           "zerolinecolor": "white",
           "zerolinewidth": 2
          }
         }
        },
        "title": {
         "font": {
          "color": "#4D5663"
         }
        },
        "xaxis": {
         "gridcolor": "#E1E5ED",
         "showgrid": true,
         "tickfont": {
          "color": "#4D5663"
         },
         "title": {
          "font": {
           "color": "#4D5663"
          },
          "text": ""
         },
         "zerolinecolor": "#E1E5ED"
        },
        "yaxis": {
         "gridcolor": "#E1E5ED",
         "showgrid": true,
         "tickfont": {
          "color": "#4D5663"
         },
         "title": {
          "font": {
           "color": "#4D5663"
          },
          "text": ""
         },
         "zerolinecolor": "#E1E5ED"
        }
       }
      },
      "text/html": [
       "<div>                            <div id=\"5e124bc5-6245-49f8-8e4f-edcd61469c98\" class=\"plotly-graph-div\" style=\"height:525px; width:100%;\"></div>            <script type=\"text/javascript\">                require([\"plotly\"], function(Plotly) {                    window.PLOTLYENV=window.PLOTLYENV || {};\n",
       "                    window.PLOTLYENV.BASE_URL='https://plot.ly';                                    if (document.getElementById(\"5e124bc5-6245-49f8-8e4f-edcd61469c98\")) {                    Plotly.newPlot(                        \"5e124bc5-6245-49f8-8e4f-edcd61469c98\",                        [{\"marker\":{\"color\":\"rgba(255, 153, 51, 0.6)\",\"line\":{\"color\":\"rgba(255, 153, 51, 1.0)\",\"width\":1}},\"name\":\"A\",\"orientation\":\"v\",\"text\":\"\",\"x\":[0,1,2,3,4,5,6,7,8,9,10,11,12,13,14,15,16,17,18,19,20,21,22,23,24,25,26,27,28,29,30,31,32,33,34,35,36,37,38,39,40,41,42,43,44,45,46,47,48,49,50,51,52,53,54,55,56,57,58,59,60,61,62,63,64,65,66,67,68,69,70,71,72,73,74,75,76,77,78,79,80,81,82,83,84,85,86,87,88,89,90,91,92,93,94,95,96,97,98,99],\"y\":[-0.6223127097787445,-0.07809162236041678,1.7790474819468551,-1.4247118375561625,-1.4105751154601864,0.2188883169681857,-1.149465863308755,-0.2177532325647362,-1.6726587412621337,1.2097065375742302,-0.7930267396765023,-0.05511018197538327,-0.09030662425254163,1.1619150166121996,0.3097205548007712,0.5129277863969072,0.6184961590026289,-1.4637685018706745,0.4485421585261526,1.767822731251506,-1.0091554353768661,-0.20187565762794943,0.10438402542485582,-1.0271492803595452,-0.549378606146546,-1.0818406350966738,-0.7289573371488666,1.1198836055237327,0.5864148695608872,-0.024355589607592033,0.6980656079470045,-0.8483633384572155,-1.5684647526087565,-1.3874098606278373,-0.6513298563396208,0.6752856776403766,1.9572075005188447,0.3067879974877034,0.08069647639021876,0.013777395371240508,1.1497250255527611,-0.584868011758543,-0.8747816362718722,0.16248255497583639,-0.6338491218052374,-0.18762133433093403,0.7183308864619843,0.03892557856366659,-0.05835543780960389,0.2729009332188614,0.18648405784653066,-0.002357963793111217,-1.6448419115769932,-1.8587399276049648,0.9002409872304978,-0.3246003945946711,-1.7144926347993703,0.7149852461038438,0.15022217521407277,-2.0742708012084057,-1.0082255935657103,0.5729601043333363,0.7210335937747494,0.1605572639077616,0.6811849909147913,-1.1821625386795713,1.3227312433894765,-0.8078552803418341,0.5935199442620323,-0.35774391456928006,0.7460167158855326,0.21037620123633732,-0.001577946660872818,0.3318969809409894,0.29022595465192125,0.6093830084655928,-0.5964490834227272,-1.0873790616847774,0.7385065124916351,-1.1683892869125476,-0.14716717691544046,-0.3190296801594655,-1.62228312074107,0.0940633033641303,-0.7413030015954901,2.5468536611139574,-0.8553192878274413,-0.6214605444473837,-0.37590549650516025,-0.6887968127659998,-0.6023601264871187,0.5480051859117191,1.5398950046172197,1.171647048456549,-0.26945117641978844,1.3553267212960771,-1.8733178535294914,-0.8916742861646291,-0.10395184783622588,0.015416002948039327],\"type\":\"bar\"},{\"marker\":{\"color\":\"rgba(55, 128, 191, 0.6)\",\"line\":{\"color\":\"rgba(55, 128, 191, 1.0)\",\"width\":1}},\"name\":\"B\",\"orientation\":\"v\",\"text\":\"\",\"x\":[0,1,2,3,4,5,6,7,8,9,10,11,12,13,14,15,16,17,18,19,20,21,22,23,24,25,26,27,28,29,30,31,32,33,34,35,36,37,38,39,40,41,42,43,44,45,46,47,48,49,50,51,52,53,54,55,56,57,58,59,60,61,62,63,64,65,66,67,68,69,70,71,72,73,74,75,76,77,78,79,80,81,82,83,84,85,86,87,88,89,90,91,92,93,94,95,96,97,98,99],\"y\":[0.39299279759057504,0.9703165383850477,-0.3315341358806937,-1.5584031758162409,0.951523596033235,-0.5555846581699916,-1.515512553211831,1.9037823912410028,0.11998085811301533,-0.2799904644871162,0.9649601637582959,-0.2129880463045149,1.608269687420033,-0.9248636326249062,-0.14664756884169589,-0.047763160217688436,0.02140402329140558,0.13626631422295649,-1.2316106623850942,-1.4494740058324187,-0.9643096084728445,-1.8155834317145414,-1.4975399771222855,-2.008459460468831,-0.18844771209113004,-0.8452479670056402,0.2702435905254712,-0.08307773275515531,1.9925306352375145,-0.30011064157012196,-1.8416088365312053,1.4883897812928597,0.2857404107478787,-1.3694143183685137,0.34472215385367405,-0.7333872049097238,1.3796332788800656,-0.00901709225535108,0.5282371077244549,-1.5889248101211482,-0.9168030342948024,-0.8567400095928656,0.5420625354429279,0.3531656963293904,0.9516310013151971,1.4814305926548468,-0.0661783667737621,-0.5366522538953027,-1.0733680524544438,1.664261087255659,0.5546934645540875,-0.9498218183256268,1.6448795435345684,0.2356696285556059,-0.9223882563702976,-1.999143938093221,0.8469020285223882,0.6589074033059399,-0.5799192494117322,-0.7788733134093945,0.7577793943052767,-0.09707784030046557,-0.03455307170219075,-0.8811323416697463,-0.6267043083674482,-1.0269391048157697,-0.5321336972529832,0.8451182902588883,0.08662269451869511,0.31429709601059586,-0.1934184891753213,1.2840149281872961,0.555730360910625,0.45183765131006726,-0.49686842278032023,-0.32947519313932555,-1.19620746138553,-0.7038639841931628,-0.7898364183395687,0.7438412707540987,0.7414495707254729,1.3799733154504426,0.56648572675284,-2.50683210422878,0.9959654653416138,0.367421323759343,-0.46904746013665927,-1.1409670086342902,0.2598216833782342,-1.2902403671698264,0.49678766890658405,-0.48224628270977354,-0.16484644023413372,-1.0334851807235186,0.14970842234302917,0.7165586416171045,1.0511466528478781,2.06350190094373,0.32514957908412,0.2174187719077609],\"type\":\"bar\"},{\"marker\":{\"color\":\"rgba(50, 171, 96, 0.6)\",\"line\":{\"color\":\"rgba(50, 171, 96, 1.0)\",\"width\":1}},\"name\":\"C\",\"orientation\":\"v\",\"text\":\"\",\"x\":[0,1,2,3,4,5,6,7,8,9,10,11,12,13,14,15,16,17,18,19,20,21,22,23,24,25,26,27,28,29,30,31,32,33,34,35,36,37,38,39,40,41,42,43,44,45,46,47,48,49,50,51,52,53,54,55,56,57,58,59,60,61,62,63,64,65,66,67,68,69,70,71,72,73,74,75,76,77,78,79,80,81,82,83,84,85,86,87,88,89,90,91,92,93,94,95,96,97,98,99],\"y\":[-0.1394922412256659,0.38734155585847974,-0.9260957315446555,1.7598055851729693,2.210787136403946,-0.3022733556354362,-0.3321972707800144,-0.1552642924054388,-0.2870423301786768,0.6442732570082397,0.11014394961086883,-0.4278396030263597,0.43364625245808236,1.4508588360666845,-0.5423396917786653,0.4766730628614621,-1.0930741231694232,-1.2251625013267404,1.2278357534838633,-0.6586740241489065,2.0719087709201016,0.41495965936344326,0.7561162864867124,0.04064409247531572,0.18851771376240875,0.6321301873304279,-0.44742800509363195,-0.48617943220762816,1.4537403915676392,0.19349128592075931,1.0296497319579134,-0.9693172781930631,2.550997324758455,-0.9235141105083481,-0.2556884233919607,-0.6649752111022003,-0.5468451556298982,-2.7844579414935353,-0.3971986657038678,-1.2694849579678578,0.8050226821235916,0.183959600770004,0.19582171030744405,-0.04239771612971373,-1.1844633897934997,1.1586783863964807,1.7492385698415471,1.0158785881673311,-1.237607244103128,0.843448452886732,-1.5637969246951338,0.025004871592748112,-0.8471180601748635,0.6629186648730425,-1.1648273994392528,-0.2378197288212158,1.1587423625965083,0.06258506694463219,0.36201188717091604,0.8742136902258705,0.6755642100990448,1.0635356940506575,1.7509628418864445,-2.1122627787085353,0.4482910496415664,-0.7679156676626054,-0.32932409452845224,-0.8920180348539344,1.2108231224002985,0.728060788136938,1.3965365372564333,0.8408845871772697,1.34008003144846,3.1650637473110064,-0.47730283407630475,0.4445011172798934,0.7474000002979312,0.553429497434904,0.20155853477728425,0.9814895054945997,-0.7619892824985112,-0.23241769812505747,1.8545481854514945,-0.3933567137433616,-0.015279273912303869,0.9700559196306061,-0.7020615572239038,1.8908441811029264,0.2811541369905382,-0.9076193687338854,-1.4369113370368245,1.0735601139879156,0.2777949972840057,-0.6003160649082503,0.616082822519307,0.25233133157908066,0.46033039566920175,0.9550636859373486,0.5617910910295629,-1.1333573423474372],\"type\":\"bar\"},{\"marker\":{\"color\":\"rgba(128, 0, 128, 0.6)\",\"line\":{\"color\":\"rgba(128, 0, 128, 1.0)\",\"width\":1}},\"name\":\"D\",\"orientation\":\"v\",\"text\":\"\",\"x\":[0,1,2,3,4,5,6,7,8,9,10,11,12,13,14,15,16,17,18,19,20,21,22,23,24,25,26,27,28,29,30,31,32,33,34,35,36,37,38,39,40,41,42,43,44,45,46,47,48,49,50,51,52,53,54,55,56,57,58,59,60,61,62,63,64,65,66,67,68,69,70,71,72,73,74,75,76,77,78,79,80,81,82,83,84,85,86,87,88,89,90,91,92,93,94,95,96,97,98,99],\"y\":[0.010313421967021626,0.9774787952723087,1.1832753189872105,-0.683841096896405,-0.6200486822091427,-1.3824334314231927,2.4453494443121597,-3.2119560314205766,-1.0113513717441274,-0.6910889000887538,-0.0007939603834835492,0.8034006202562674,0.6451956621787378,-0.5374908243435591,-0.009328334097994636,0.16665395862426705,-1.3602141884570391,0.5738391028689689,0.6750183691447313,0.20520058828298732,0.6681745288709247,1.0059022683148486,0.3944244869874825,-0.752639833939874,-1.158770538550278,-0.24544679136561875,-1.3646155805597115,0.9551921454161609,2.2844343748544493,-0.7696634640778297,-0.621897690952007,-0.34550223084018666,-0.4884301152484405,0.21928554316860505,-0.6829311425330685,0.5566508785290419,0.7624837165894379,-0.5478342499850288,0.5801653285577393,-0.632425720880273,-0.8417813926515596,-1.6236927181568437,1.9493597870649115,0.7465752119643185,0.5372780985435524,-2.1710348618073723,-0.6593875365739125,-0.018473140773435842,-0.04245242423015054,-0.6300682302117817,-1.2168773540689084,0.9319362138761141,-2.6638540758230627,-1.9315507625560588,-0.16701688100938009,-0.2062492957875122,-0.8358111006979888,0.6863144588219658,1.3846234929089063,-0.4753417448026249,-0.08792035864135517,-0.8112352217389021,0.14187936679133517,1.1734093670706989,-0.1322224862763447,0.20517567407068496,-1.760978391548266,0.23801612095180943,-1.403049283002082,0.2743706916166362,-0.6236523305572523,0.2725927370556236,0.8448899074036795,0.4626130789181829,0.2668959697949256,0.12867707772407294,-0.0543150251890773,0.18299637276404898,1.7752764866442248,-1.2374048440464878,0.6320590806476215,-0.9369986892289005,0.1231636933708757,-0.4458508374014565,0.3011104070617941,0.29221209883127613,-1.9921867599816934,0.2143544019177814,-1.5246716720992082,0.631959493414628,-1.7234468191694932,0.7771196299925165,0.2242601120175588,-0.08539207089427393,-2.168210226949958,0.15597597461677742,0.27321431901873094,-0.23689895193153876,-0.7164606321195535,-1.0314167978024231],\"type\":\"bar\"}],                        {\"legend\":{\"bgcolor\":\"#F5F6F9\",\"font\":{\"color\":\"#4D5663\"}},\"paper_bgcolor\":\"#F5F6F9\",\"plot_bgcolor\":\"#F5F6F9\",\"template\":{\"data\":{\"barpolar\":[{\"marker\":{\"line\":{\"color\":\"#E5ECF6\",\"width\":0.5},\"pattern\":{\"fillmode\":\"overlay\",\"size\":10,\"solidity\":0.2}},\"type\":\"barpolar\"}],\"bar\":[{\"error_x\":{\"color\":\"#2a3f5f\"},\"error_y\":{\"color\":\"#2a3f5f\"},\"marker\":{\"line\":{\"color\":\"#E5ECF6\",\"width\":0.5},\"pattern\":{\"fillmode\":\"overlay\",\"size\":10,\"solidity\":0.2}},\"type\":\"bar\"}],\"carpet\":[{\"aaxis\":{\"endlinecolor\":\"#2a3f5f\",\"gridcolor\":\"white\",\"linecolor\":\"white\",\"minorgridcolor\":\"white\",\"startlinecolor\":\"#2a3f5f\"},\"baxis\":{\"endlinecolor\":\"#2a3f5f\",\"gridcolor\":\"white\",\"linecolor\":\"white\",\"minorgridcolor\":\"white\",\"startlinecolor\":\"#2a3f5f\"},\"type\":\"carpet\"}],\"choropleth\":[{\"colorbar\":{\"outlinewidth\":0,\"ticks\":\"\"},\"type\":\"choropleth\"}],\"contourcarpet\":[{\"colorbar\":{\"outlinewidth\":0,\"ticks\":\"\"},\"type\":\"contourcarpet\"}],\"contour\":[{\"colorbar\":{\"outlinewidth\":0,\"ticks\":\"\"},\"colorscale\":[[0.0,\"#0d0887\"],[0.1111111111111111,\"#46039f\"],[0.2222222222222222,\"#7201a8\"],[0.3333333333333333,\"#9c179e\"],[0.4444444444444444,\"#bd3786\"],[0.5555555555555556,\"#d8576b\"],[0.6666666666666666,\"#ed7953\"],[0.7777777777777778,\"#fb9f3a\"],[0.8888888888888888,\"#fdca26\"],[1.0,\"#f0f921\"]],\"type\":\"contour\"}],\"heatmapgl\":[{\"colorbar\":{\"outlinewidth\":0,\"ticks\":\"\"},\"colorscale\":[[0.0,\"#0d0887\"],[0.1111111111111111,\"#46039f\"],[0.2222222222222222,\"#7201a8\"],[0.3333333333333333,\"#9c179e\"],[0.4444444444444444,\"#bd3786\"],[0.5555555555555556,\"#d8576b\"],[0.6666666666666666,\"#ed7953\"],[0.7777777777777778,\"#fb9f3a\"],[0.8888888888888888,\"#fdca26\"],[1.0,\"#f0f921\"]],\"type\":\"heatmapgl\"}],\"heatmap\":[{\"colorbar\":{\"outlinewidth\":0,\"ticks\":\"\"},\"colorscale\":[[0.0,\"#0d0887\"],[0.1111111111111111,\"#46039f\"],[0.2222222222222222,\"#7201a8\"],[0.3333333333333333,\"#9c179e\"],[0.4444444444444444,\"#bd3786\"],[0.5555555555555556,\"#d8576b\"],[0.6666666666666666,\"#ed7953\"],[0.7777777777777778,\"#fb9f3a\"],[0.8888888888888888,\"#fdca26\"],[1.0,\"#f0f921\"]],\"type\":\"heatmap\"}],\"histogram2dcontour\":[{\"colorbar\":{\"outlinewidth\":0,\"ticks\":\"\"},\"colorscale\":[[0.0,\"#0d0887\"],[0.1111111111111111,\"#46039f\"],[0.2222222222222222,\"#7201a8\"],[0.3333333333333333,\"#9c179e\"],[0.4444444444444444,\"#bd3786\"],[0.5555555555555556,\"#d8576b\"],[0.6666666666666666,\"#ed7953\"],[0.7777777777777778,\"#fb9f3a\"],[0.8888888888888888,\"#fdca26\"],[1.0,\"#f0f921\"]],\"type\":\"histogram2dcontour\"}],\"histogram2d\":[{\"colorbar\":{\"outlinewidth\":0,\"ticks\":\"\"},\"colorscale\":[[0.0,\"#0d0887\"],[0.1111111111111111,\"#46039f\"],[0.2222222222222222,\"#7201a8\"],[0.3333333333333333,\"#9c179e\"],[0.4444444444444444,\"#bd3786\"],[0.5555555555555556,\"#d8576b\"],[0.6666666666666666,\"#ed7953\"],[0.7777777777777778,\"#fb9f3a\"],[0.8888888888888888,\"#fdca26\"],[1.0,\"#f0f921\"]],\"type\":\"histogram2d\"}],\"histogram\":[{\"marker\":{\"pattern\":{\"fillmode\":\"overlay\",\"size\":10,\"solidity\":0.2}},\"type\":\"histogram\"}],\"mesh3d\":[{\"colorbar\":{\"outlinewidth\":0,\"ticks\":\"\"},\"type\":\"mesh3d\"}],\"parcoords\":[{\"line\":{\"colorbar\":{\"outlinewidth\":0,\"ticks\":\"\"}},\"type\":\"parcoords\"}],\"pie\":[{\"automargin\":true,\"type\":\"pie\"}],\"scatter3d\":[{\"line\":{\"colorbar\":{\"outlinewidth\":0,\"ticks\":\"\"}},\"marker\":{\"colorbar\":{\"outlinewidth\":0,\"ticks\":\"\"}},\"type\":\"scatter3d\"}],\"scattercarpet\":[{\"marker\":{\"colorbar\":{\"outlinewidth\":0,\"ticks\":\"\"}},\"type\":\"scattercarpet\"}],\"scattergeo\":[{\"marker\":{\"colorbar\":{\"outlinewidth\":0,\"ticks\":\"\"}},\"type\":\"scattergeo\"}],\"scattergl\":[{\"marker\":{\"colorbar\":{\"outlinewidth\":0,\"ticks\":\"\"}},\"type\":\"scattergl\"}],\"scattermapbox\":[{\"marker\":{\"colorbar\":{\"outlinewidth\":0,\"ticks\":\"\"}},\"type\":\"scattermapbox\"}],\"scatterpolargl\":[{\"marker\":{\"colorbar\":{\"outlinewidth\":0,\"ticks\":\"\"}},\"type\":\"scatterpolargl\"}],\"scatterpolar\":[{\"marker\":{\"colorbar\":{\"outlinewidth\":0,\"ticks\":\"\"}},\"type\":\"scatterpolar\"}],\"scatter\":[{\"fillpattern\":{\"fillmode\":\"overlay\",\"size\":10,\"solidity\":0.2},\"type\":\"scatter\"}],\"scatterternary\":[{\"marker\":{\"colorbar\":{\"outlinewidth\":0,\"ticks\":\"\"}},\"type\":\"scatterternary\"}],\"surface\":[{\"colorbar\":{\"outlinewidth\":0,\"ticks\":\"\"},\"colorscale\":[[0.0,\"#0d0887\"],[0.1111111111111111,\"#46039f\"],[0.2222222222222222,\"#7201a8\"],[0.3333333333333333,\"#9c179e\"],[0.4444444444444444,\"#bd3786\"],[0.5555555555555556,\"#d8576b\"],[0.6666666666666666,\"#ed7953\"],[0.7777777777777778,\"#fb9f3a\"],[0.8888888888888888,\"#fdca26\"],[1.0,\"#f0f921\"]],\"type\":\"surface\"}],\"table\":[{\"cells\":{\"fill\":{\"color\":\"#EBF0F8\"},\"line\":{\"color\":\"white\"}},\"header\":{\"fill\":{\"color\":\"#C8D4E3\"},\"line\":{\"color\":\"white\"}},\"type\":\"table\"}]},\"layout\":{\"annotationdefaults\":{\"arrowcolor\":\"#2a3f5f\",\"arrowhead\":0,\"arrowwidth\":1},\"autotypenumbers\":\"strict\",\"coloraxis\":{\"colorbar\":{\"outlinewidth\":0,\"ticks\":\"\"}},\"colorscale\":{\"diverging\":[[0,\"#8e0152\"],[0.1,\"#c51b7d\"],[0.2,\"#de77ae\"],[0.3,\"#f1b6da\"],[0.4,\"#fde0ef\"],[0.5,\"#f7f7f7\"],[0.6,\"#e6f5d0\"],[0.7,\"#b8e186\"],[0.8,\"#7fbc41\"],[0.9,\"#4d9221\"],[1,\"#276419\"]],\"sequential\":[[0.0,\"#0d0887\"],[0.1111111111111111,\"#46039f\"],[0.2222222222222222,\"#7201a8\"],[0.3333333333333333,\"#9c179e\"],[0.4444444444444444,\"#bd3786\"],[0.5555555555555556,\"#d8576b\"],[0.6666666666666666,\"#ed7953\"],[0.7777777777777778,\"#fb9f3a\"],[0.8888888888888888,\"#fdca26\"],[1.0,\"#f0f921\"]],\"sequentialminus\":[[0.0,\"#0d0887\"],[0.1111111111111111,\"#46039f\"],[0.2222222222222222,\"#7201a8\"],[0.3333333333333333,\"#9c179e\"],[0.4444444444444444,\"#bd3786\"],[0.5555555555555556,\"#d8576b\"],[0.6666666666666666,\"#ed7953\"],[0.7777777777777778,\"#fb9f3a\"],[0.8888888888888888,\"#fdca26\"],[1.0,\"#f0f921\"]]},\"colorway\":[\"#636efa\",\"#EF553B\",\"#00cc96\",\"#ab63fa\",\"#FFA15A\",\"#19d3f3\",\"#FF6692\",\"#B6E880\",\"#FF97FF\",\"#FECB52\"],\"font\":{\"color\":\"#2a3f5f\"},\"geo\":{\"bgcolor\":\"white\",\"lakecolor\":\"white\",\"landcolor\":\"#E5ECF6\",\"showlakes\":true,\"showland\":true,\"subunitcolor\":\"white\"},\"hoverlabel\":{\"align\":\"left\"},\"hovermode\":\"closest\",\"mapbox\":{\"style\":\"light\"},\"paper_bgcolor\":\"white\",\"plot_bgcolor\":\"#E5ECF6\",\"polar\":{\"angularaxis\":{\"gridcolor\":\"white\",\"linecolor\":\"white\",\"ticks\":\"\"},\"bgcolor\":\"#E5ECF6\",\"radialaxis\":{\"gridcolor\":\"white\",\"linecolor\":\"white\",\"ticks\":\"\"}},\"scene\":{\"xaxis\":{\"backgroundcolor\":\"#E5ECF6\",\"gridcolor\":\"white\",\"gridwidth\":2,\"linecolor\":\"white\",\"showbackground\":true,\"ticks\":\"\",\"zerolinecolor\":\"white\"},\"yaxis\":{\"backgroundcolor\":\"#E5ECF6\",\"gridcolor\":\"white\",\"gridwidth\":2,\"linecolor\":\"white\",\"showbackground\":true,\"ticks\":\"\",\"zerolinecolor\":\"white\"},\"zaxis\":{\"backgroundcolor\":\"#E5ECF6\",\"gridcolor\":\"white\",\"gridwidth\":2,\"linecolor\":\"white\",\"showbackground\":true,\"ticks\":\"\",\"zerolinecolor\":\"white\"}},\"shapedefaults\":{\"line\":{\"color\":\"#2a3f5f\"}},\"ternary\":{\"aaxis\":{\"gridcolor\":\"white\",\"linecolor\":\"white\",\"ticks\":\"\"},\"baxis\":{\"gridcolor\":\"white\",\"linecolor\":\"white\",\"ticks\":\"\"},\"bgcolor\":\"#E5ECF6\",\"caxis\":{\"gridcolor\":\"white\",\"linecolor\":\"white\",\"ticks\":\"\"}},\"title\":{\"x\":0.05},\"xaxis\":{\"automargin\":true,\"gridcolor\":\"white\",\"linecolor\":\"white\",\"ticks\":\"\",\"title\":{\"standoff\":15},\"zerolinecolor\":\"white\",\"zerolinewidth\":2},\"yaxis\":{\"automargin\":true,\"gridcolor\":\"white\",\"linecolor\":\"white\",\"ticks\":\"\",\"title\":{\"standoff\":15},\"zerolinecolor\":\"white\",\"zerolinewidth\":2}}},\"title\":{\"font\":{\"color\":\"#4D5663\"}},\"xaxis\":{\"gridcolor\":\"#E1E5ED\",\"showgrid\":true,\"tickfont\":{\"color\":\"#4D5663\"},\"title\":{\"font\":{\"color\":\"#4D5663\"},\"text\":\"\"},\"zerolinecolor\":\"#E1E5ED\"},\"yaxis\":{\"gridcolor\":\"#E1E5ED\",\"showgrid\":true,\"tickfont\":{\"color\":\"#4D5663\"},\"title\":{\"font\":{\"color\":\"#4D5663\"},\"text\":\"\"},\"zerolinecolor\":\"#E1E5ED\"}},                        {\"showLink\": true, \"linkText\": \"Export to plot.ly\", \"plotlyServerURL\": \"https://plot.ly\", \"responsive\": true}                    ).then(function(){\n",
       "                            \n",
       "var gd = document.getElementById('5e124bc5-6245-49f8-8e4f-edcd61469c98');\n",
       "var x = new MutationObserver(function (mutations, observer) {{\n",
       "        var display = window.getComputedStyle(gd).display;\n",
       "        if (!display || display === 'none') {{\n",
       "            console.log([gd, 'removed!']);\n",
       "            Plotly.purge(gd);\n",
       "            observer.disconnect();\n",
       "        }}\n",
       "}});\n",
       "\n",
       "// Listen for the removal of the full notebook cells\n",
       "var notebookContainer = gd.closest('#notebook-container');\n",
       "if (notebookContainer) {{\n",
       "    x.observe(notebookContainer, {childList: true});\n",
       "}}\n",
       "\n",
       "// Listen for the clearing of the current output cell\n",
       "var outputEl = gd.closest('.output');\n",
       "if (outputEl) {{\n",
       "    x.observe(outputEl, {childList: true});\n",
       "}}\n",
       "\n",
       "                        })                };                });            </script>        </div>"
      ]
     },
     "metadata": {},
     "output_type": "display_data"
    }
   ],
   "source": [
    "df.iplot(kind='bar',)"
   ]
  },
  {
   "cell_type": "code",
   "execution_count": 21,
   "id": "73baf958",
   "metadata": {},
   "outputs": [
    {
     "data": {
      "application/vnd.plotly.v1+json": {
       "config": {
        "linkText": "Export to plot.ly",
        "plotlyServerURL": "https://plot.ly",
        "showLink": true
       },
       "data": [
        {
         "marker": {
          "color": "rgba(255, 153, 51, 0.6)",
          "line": {
           "color": "rgba(255, 153, 51, 1.0)",
           "width": 1
          }
         },
         "name": "None",
         "orientation": "v",
         "text": "",
         "type": "bar",
         "x": [
          "A",
          "B",
          "C",
          "D"
         ],
         "y": [
          100,
          100,
          100,
          100
         ]
        }
       ],
       "layout": {
        "legend": {
         "bgcolor": "#F5F6F9",
         "font": {
          "color": "#4D5663"
         }
        },
        "paper_bgcolor": "#F5F6F9",
        "plot_bgcolor": "#F5F6F9",
        "template": {
         "data": {
          "bar": [
           {
            "error_x": {
             "color": "#2a3f5f"
            },
            "error_y": {
             "color": "#2a3f5f"
            },
            "marker": {
             "line": {
              "color": "#E5ECF6",
              "width": 0.5
             },
             "pattern": {
              "fillmode": "overlay",
              "size": 10,
              "solidity": 0.2
             }
            },
            "type": "bar"
           }
          ],
          "barpolar": [
           {
            "marker": {
             "line": {
              "color": "#E5ECF6",
              "width": 0.5
             },
             "pattern": {
              "fillmode": "overlay",
              "size": 10,
              "solidity": 0.2
             }
            },
            "type": "barpolar"
           }
          ],
          "carpet": [
           {
            "aaxis": {
             "endlinecolor": "#2a3f5f",
             "gridcolor": "white",
             "linecolor": "white",
             "minorgridcolor": "white",
             "startlinecolor": "#2a3f5f"
            },
            "baxis": {
             "endlinecolor": "#2a3f5f",
             "gridcolor": "white",
             "linecolor": "white",
             "minorgridcolor": "white",
             "startlinecolor": "#2a3f5f"
            },
            "type": "carpet"
           }
          ],
          "choropleth": [
           {
            "colorbar": {
             "outlinewidth": 0,
             "ticks": ""
            },
            "type": "choropleth"
           }
          ],
          "contour": [
           {
            "colorbar": {
             "outlinewidth": 0,
             "ticks": ""
            },
            "colorscale": [
             [
              0,
              "#0d0887"
             ],
             [
              0.1111111111111111,
              "#46039f"
             ],
             [
              0.2222222222222222,
              "#7201a8"
             ],
             [
              0.3333333333333333,
              "#9c179e"
             ],
             [
              0.4444444444444444,
              "#bd3786"
             ],
             [
              0.5555555555555556,
              "#d8576b"
             ],
             [
              0.6666666666666666,
              "#ed7953"
             ],
             [
              0.7777777777777778,
              "#fb9f3a"
             ],
             [
              0.8888888888888888,
              "#fdca26"
             ],
             [
              1,
              "#f0f921"
             ]
            ],
            "type": "contour"
           }
          ],
          "contourcarpet": [
           {
            "colorbar": {
             "outlinewidth": 0,
             "ticks": ""
            },
            "type": "contourcarpet"
           }
          ],
          "heatmap": [
           {
            "colorbar": {
             "outlinewidth": 0,
             "ticks": ""
            },
            "colorscale": [
             [
              0,
              "#0d0887"
             ],
             [
              0.1111111111111111,
              "#46039f"
             ],
             [
              0.2222222222222222,
              "#7201a8"
             ],
             [
              0.3333333333333333,
              "#9c179e"
             ],
             [
              0.4444444444444444,
              "#bd3786"
             ],
             [
              0.5555555555555556,
              "#d8576b"
             ],
             [
              0.6666666666666666,
              "#ed7953"
             ],
             [
              0.7777777777777778,
              "#fb9f3a"
             ],
             [
              0.8888888888888888,
              "#fdca26"
             ],
             [
              1,
              "#f0f921"
             ]
            ],
            "type": "heatmap"
           }
          ],
          "heatmapgl": [
           {
            "colorbar": {
             "outlinewidth": 0,
             "ticks": ""
            },
            "colorscale": [
             [
              0,
              "#0d0887"
             ],
             [
              0.1111111111111111,
              "#46039f"
             ],
             [
              0.2222222222222222,
              "#7201a8"
             ],
             [
              0.3333333333333333,
              "#9c179e"
             ],
             [
              0.4444444444444444,
              "#bd3786"
             ],
             [
              0.5555555555555556,
              "#d8576b"
             ],
             [
              0.6666666666666666,
              "#ed7953"
             ],
             [
              0.7777777777777778,
              "#fb9f3a"
             ],
             [
              0.8888888888888888,
              "#fdca26"
             ],
             [
              1,
              "#f0f921"
             ]
            ],
            "type": "heatmapgl"
           }
          ],
          "histogram": [
           {
            "marker": {
             "pattern": {
              "fillmode": "overlay",
              "size": 10,
              "solidity": 0.2
             }
            },
            "type": "histogram"
           }
          ],
          "histogram2d": [
           {
            "colorbar": {
             "outlinewidth": 0,
             "ticks": ""
            },
            "colorscale": [
             [
              0,
              "#0d0887"
             ],
             [
              0.1111111111111111,
              "#46039f"
             ],
             [
              0.2222222222222222,
              "#7201a8"
             ],
             [
              0.3333333333333333,
              "#9c179e"
             ],
             [
              0.4444444444444444,
              "#bd3786"
             ],
             [
              0.5555555555555556,
              "#d8576b"
             ],
             [
              0.6666666666666666,
              "#ed7953"
             ],
             [
              0.7777777777777778,
              "#fb9f3a"
             ],
             [
              0.8888888888888888,
              "#fdca26"
             ],
             [
              1,
              "#f0f921"
             ]
            ],
            "type": "histogram2d"
           }
          ],
          "histogram2dcontour": [
           {
            "colorbar": {
             "outlinewidth": 0,
             "ticks": ""
            },
            "colorscale": [
             [
              0,
              "#0d0887"
             ],
             [
              0.1111111111111111,
              "#46039f"
             ],
             [
              0.2222222222222222,
              "#7201a8"
             ],
             [
              0.3333333333333333,
              "#9c179e"
             ],
             [
              0.4444444444444444,
              "#bd3786"
             ],
             [
              0.5555555555555556,
              "#d8576b"
             ],
             [
              0.6666666666666666,
              "#ed7953"
             ],
             [
              0.7777777777777778,
              "#fb9f3a"
             ],
             [
              0.8888888888888888,
              "#fdca26"
             ],
             [
              1,
              "#f0f921"
             ]
            ],
            "type": "histogram2dcontour"
           }
          ],
          "mesh3d": [
           {
            "colorbar": {
             "outlinewidth": 0,
             "ticks": ""
            },
            "type": "mesh3d"
           }
          ],
          "parcoords": [
           {
            "line": {
             "colorbar": {
              "outlinewidth": 0,
              "ticks": ""
             }
            },
            "type": "parcoords"
           }
          ],
          "pie": [
           {
            "automargin": true,
            "type": "pie"
           }
          ],
          "scatter": [
           {
            "fillpattern": {
             "fillmode": "overlay",
             "size": 10,
             "solidity": 0.2
            },
            "type": "scatter"
           }
          ],
          "scatter3d": [
           {
            "line": {
             "colorbar": {
              "outlinewidth": 0,
              "ticks": ""
             }
            },
            "marker": {
             "colorbar": {
              "outlinewidth": 0,
              "ticks": ""
             }
            },
            "type": "scatter3d"
           }
          ],
          "scattercarpet": [
           {
            "marker": {
             "colorbar": {
              "outlinewidth": 0,
              "ticks": ""
             }
            },
            "type": "scattercarpet"
           }
          ],
          "scattergeo": [
           {
            "marker": {
             "colorbar": {
              "outlinewidth": 0,
              "ticks": ""
             }
            },
            "type": "scattergeo"
           }
          ],
          "scattergl": [
           {
            "marker": {
             "colorbar": {
              "outlinewidth": 0,
              "ticks": ""
             }
            },
            "type": "scattergl"
           }
          ],
          "scattermapbox": [
           {
            "marker": {
             "colorbar": {
              "outlinewidth": 0,
              "ticks": ""
             }
            },
            "type": "scattermapbox"
           }
          ],
          "scatterpolar": [
           {
            "marker": {
             "colorbar": {
              "outlinewidth": 0,
              "ticks": ""
             }
            },
            "type": "scatterpolar"
           }
          ],
          "scatterpolargl": [
           {
            "marker": {
             "colorbar": {
              "outlinewidth": 0,
              "ticks": ""
             }
            },
            "type": "scatterpolargl"
           }
          ],
          "scatterternary": [
           {
            "marker": {
             "colorbar": {
              "outlinewidth": 0,
              "ticks": ""
             }
            },
            "type": "scatterternary"
           }
          ],
          "surface": [
           {
            "colorbar": {
             "outlinewidth": 0,
             "ticks": ""
            },
            "colorscale": [
             [
              0,
              "#0d0887"
             ],
             [
              0.1111111111111111,
              "#46039f"
             ],
             [
              0.2222222222222222,
              "#7201a8"
             ],
             [
              0.3333333333333333,
              "#9c179e"
             ],
             [
              0.4444444444444444,
              "#bd3786"
             ],
             [
              0.5555555555555556,
              "#d8576b"
             ],
             [
              0.6666666666666666,
              "#ed7953"
             ],
             [
              0.7777777777777778,
              "#fb9f3a"
             ],
             [
              0.8888888888888888,
              "#fdca26"
             ],
             [
              1,
              "#f0f921"
             ]
            ],
            "type": "surface"
           }
          ],
          "table": [
           {
            "cells": {
             "fill": {
              "color": "#EBF0F8"
             },
             "line": {
              "color": "white"
             }
            },
            "header": {
             "fill": {
              "color": "#C8D4E3"
             },
             "line": {
              "color": "white"
             }
            },
            "type": "table"
           }
          ]
         },
         "layout": {
          "annotationdefaults": {
           "arrowcolor": "#2a3f5f",
           "arrowhead": 0,
           "arrowwidth": 1
          },
          "autotypenumbers": "strict",
          "coloraxis": {
           "colorbar": {
            "outlinewidth": 0,
            "ticks": ""
           }
          },
          "colorscale": {
           "diverging": [
            [
             0,
             "#8e0152"
            ],
            [
             0.1,
             "#c51b7d"
            ],
            [
             0.2,
             "#de77ae"
            ],
            [
             0.3,
             "#f1b6da"
            ],
            [
             0.4,
             "#fde0ef"
            ],
            [
             0.5,
             "#f7f7f7"
            ],
            [
             0.6,
             "#e6f5d0"
            ],
            [
             0.7,
             "#b8e186"
            ],
            [
             0.8,
             "#7fbc41"
            ],
            [
             0.9,
             "#4d9221"
            ],
            [
             1,
             "#276419"
            ]
           ],
           "sequential": [
            [
             0,
             "#0d0887"
            ],
            [
             0.1111111111111111,
             "#46039f"
            ],
            [
             0.2222222222222222,
             "#7201a8"
            ],
            [
             0.3333333333333333,
             "#9c179e"
            ],
            [
             0.4444444444444444,
             "#bd3786"
            ],
            [
             0.5555555555555556,
             "#d8576b"
            ],
            [
             0.6666666666666666,
             "#ed7953"
            ],
            [
             0.7777777777777778,
             "#fb9f3a"
            ],
            [
             0.8888888888888888,
             "#fdca26"
            ],
            [
             1,
             "#f0f921"
            ]
           ],
           "sequentialminus": [
            [
             0,
             "#0d0887"
            ],
            [
             0.1111111111111111,
             "#46039f"
            ],
            [
             0.2222222222222222,
             "#7201a8"
            ],
            [
             0.3333333333333333,
             "#9c179e"
            ],
            [
             0.4444444444444444,
             "#bd3786"
            ],
            [
             0.5555555555555556,
             "#d8576b"
            ],
            [
             0.6666666666666666,
             "#ed7953"
            ],
            [
             0.7777777777777778,
             "#fb9f3a"
            ],
            [
             0.8888888888888888,
             "#fdca26"
            ],
            [
             1,
             "#f0f921"
            ]
           ]
          },
          "colorway": [
           "#636efa",
           "#EF553B",
           "#00cc96",
           "#ab63fa",
           "#FFA15A",
           "#19d3f3",
           "#FF6692",
           "#B6E880",
           "#FF97FF",
           "#FECB52"
          ],
          "font": {
           "color": "#2a3f5f"
          },
          "geo": {
           "bgcolor": "white",
           "lakecolor": "white",
           "landcolor": "#E5ECF6",
           "showlakes": true,
           "showland": true,
           "subunitcolor": "white"
          },
          "hoverlabel": {
           "align": "left"
          },
          "hovermode": "closest",
          "mapbox": {
           "style": "light"
          },
          "paper_bgcolor": "white",
          "plot_bgcolor": "#E5ECF6",
          "polar": {
           "angularaxis": {
            "gridcolor": "white",
            "linecolor": "white",
            "ticks": ""
           },
           "bgcolor": "#E5ECF6",
           "radialaxis": {
            "gridcolor": "white",
            "linecolor": "white",
            "ticks": ""
           }
          },
          "scene": {
           "xaxis": {
            "backgroundcolor": "#E5ECF6",
            "gridcolor": "white",
            "gridwidth": 2,
            "linecolor": "white",
            "showbackground": true,
            "ticks": "",
            "zerolinecolor": "white"
           },
           "yaxis": {
            "backgroundcolor": "#E5ECF6",
            "gridcolor": "white",
            "gridwidth": 2,
            "linecolor": "white",
            "showbackground": true,
            "ticks": "",
            "zerolinecolor": "white"
           },
           "zaxis": {
            "backgroundcolor": "#E5ECF6",
            "gridcolor": "white",
            "gridwidth": 2,
            "linecolor": "white",
            "showbackground": true,
            "ticks": "",
            "zerolinecolor": "white"
           }
          },
          "shapedefaults": {
           "line": {
            "color": "#2a3f5f"
           }
          },
          "ternary": {
           "aaxis": {
            "gridcolor": "white",
            "linecolor": "white",
            "ticks": ""
           },
           "baxis": {
            "gridcolor": "white",
            "linecolor": "white",
            "ticks": ""
           },
           "bgcolor": "#E5ECF6",
           "caxis": {
            "gridcolor": "white",
            "linecolor": "white",
            "ticks": ""
           }
          },
          "title": {
           "x": 0.05
          },
          "xaxis": {
           "automargin": true,
           "gridcolor": "white",
           "linecolor": "white",
           "ticks": "",
           "title": {
            "standoff": 15
           },
           "zerolinecolor": "white",
           "zerolinewidth": 2
          },
          "yaxis": {
           "automargin": true,
           "gridcolor": "white",
           "linecolor": "white",
           "ticks": "",
           "title": {
            "standoff": 15
           },
           "zerolinecolor": "white",
           "zerolinewidth": 2
          }
         }
        },
        "title": {
         "font": {
          "color": "#4D5663"
         }
        },
        "xaxis": {
         "gridcolor": "#E1E5ED",
         "showgrid": true,
         "tickfont": {
          "color": "#4D5663"
         },
         "title": {
          "font": {
           "color": "#4D5663"
          },
          "text": ""
         },
         "zerolinecolor": "#E1E5ED"
        },
        "yaxis": {
         "gridcolor": "#E1E5ED",
         "showgrid": true,
         "tickfont": {
          "color": "#4D5663"
         },
         "title": {
          "font": {
           "color": "#4D5663"
          },
          "text": ""
         },
         "zerolinecolor": "#E1E5ED"
        }
       }
      },
      "text/html": [
       "<div>                            <div id=\"3fe7c561-e0b7-498b-8a5d-0eec401c7f4a\" class=\"plotly-graph-div\" style=\"height:525px; width:100%;\"></div>            <script type=\"text/javascript\">                require([\"plotly\"], function(Plotly) {                    window.PLOTLYENV=window.PLOTLYENV || {};\n",
       "                    window.PLOTLYENV.BASE_URL='https://plot.ly';                                    if (document.getElementById(\"3fe7c561-e0b7-498b-8a5d-0eec401c7f4a\")) {                    Plotly.newPlot(                        \"3fe7c561-e0b7-498b-8a5d-0eec401c7f4a\",                        [{\"marker\":{\"color\":\"rgba(255, 153, 51, 0.6)\",\"line\":{\"color\":\"rgba(255, 153, 51, 1.0)\",\"width\":1}},\"name\":\"None\",\"orientation\":\"v\",\"text\":\"\",\"x\":[\"A\",\"B\",\"C\",\"D\"],\"y\":[100,100,100,100],\"type\":\"bar\"}],                        {\"legend\":{\"bgcolor\":\"#F5F6F9\",\"font\":{\"color\":\"#4D5663\"}},\"paper_bgcolor\":\"#F5F6F9\",\"plot_bgcolor\":\"#F5F6F9\",\"template\":{\"data\":{\"barpolar\":[{\"marker\":{\"line\":{\"color\":\"#E5ECF6\",\"width\":0.5},\"pattern\":{\"fillmode\":\"overlay\",\"size\":10,\"solidity\":0.2}},\"type\":\"barpolar\"}],\"bar\":[{\"error_x\":{\"color\":\"#2a3f5f\"},\"error_y\":{\"color\":\"#2a3f5f\"},\"marker\":{\"line\":{\"color\":\"#E5ECF6\",\"width\":0.5},\"pattern\":{\"fillmode\":\"overlay\",\"size\":10,\"solidity\":0.2}},\"type\":\"bar\"}],\"carpet\":[{\"aaxis\":{\"endlinecolor\":\"#2a3f5f\",\"gridcolor\":\"white\",\"linecolor\":\"white\",\"minorgridcolor\":\"white\",\"startlinecolor\":\"#2a3f5f\"},\"baxis\":{\"endlinecolor\":\"#2a3f5f\",\"gridcolor\":\"white\",\"linecolor\":\"white\",\"minorgridcolor\":\"white\",\"startlinecolor\":\"#2a3f5f\"},\"type\":\"carpet\"}],\"choropleth\":[{\"colorbar\":{\"outlinewidth\":0,\"ticks\":\"\"},\"type\":\"choropleth\"}],\"contourcarpet\":[{\"colorbar\":{\"outlinewidth\":0,\"ticks\":\"\"},\"type\":\"contourcarpet\"}],\"contour\":[{\"colorbar\":{\"outlinewidth\":0,\"ticks\":\"\"},\"colorscale\":[[0.0,\"#0d0887\"],[0.1111111111111111,\"#46039f\"],[0.2222222222222222,\"#7201a8\"],[0.3333333333333333,\"#9c179e\"],[0.4444444444444444,\"#bd3786\"],[0.5555555555555556,\"#d8576b\"],[0.6666666666666666,\"#ed7953\"],[0.7777777777777778,\"#fb9f3a\"],[0.8888888888888888,\"#fdca26\"],[1.0,\"#f0f921\"]],\"type\":\"contour\"}],\"heatmapgl\":[{\"colorbar\":{\"outlinewidth\":0,\"ticks\":\"\"},\"colorscale\":[[0.0,\"#0d0887\"],[0.1111111111111111,\"#46039f\"],[0.2222222222222222,\"#7201a8\"],[0.3333333333333333,\"#9c179e\"],[0.4444444444444444,\"#bd3786\"],[0.5555555555555556,\"#d8576b\"],[0.6666666666666666,\"#ed7953\"],[0.7777777777777778,\"#fb9f3a\"],[0.8888888888888888,\"#fdca26\"],[1.0,\"#f0f921\"]],\"type\":\"heatmapgl\"}],\"heatmap\":[{\"colorbar\":{\"outlinewidth\":0,\"ticks\":\"\"},\"colorscale\":[[0.0,\"#0d0887\"],[0.1111111111111111,\"#46039f\"],[0.2222222222222222,\"#7201a8\"],[0.3333333333333333,\"#9c179e\"],[0.4444444444444444,\"#bd3786\"],[0.5555555555555556,\"#d8576b\"],[0.6666666666666666,\"#ed7953\"],[0.7777777777777778,\"#fb9f3a\"],[0.8888888888888888,\"#fdca26\"],[1.0,\"#f0f921\"]],\"type\":\"heatmap\"}],\"histogram2dcontour\":[{\"colorbar\":{\"outlinewidth\":0,\"ticks\":\"\"},\"colorscale\":[[0.0,\"#0d0887\"],[0.1111111111111111,\"#46039f\"],[0.2222222222222222,\"#7201a8\"],[0.3333333333333333,\"#9c179e\"],[0.4444444444444444,\"#bd3786\"],[0.5555555555555556,\"#d8576b\"],[0.6666666666666666,\"#ed7953\"],[0.7777777777777778,\"#fb9f3a\"],[0.8888888888888888,\"#fdca26\"],[1.0,\"#f0f921\"]],\"type\":\"histogram2dcontour\"}],\"histogram2d\":[{\"colorbar\":{\"outlinewidth\":0,\"ticks\":\"\"},\"colorscale\":[[0.0,\"#0d0887\"],[0.1111111111111111,\"#46039f\"],[0.2222222222222222,\"#7201a8\"],[0.3333333333333333,\"#9c179e\"],[0.4444444444444444,\"#bd3786\"],[0.5555555555555556,\"#d8576b\"],[0.6666666666666666,\"#ed7953\"],[0.7777777777777778,\"#fb9f3a\"],[0.8888888888888888,\"#fdca26\"],[1.0,\"#f0f921\"]],\"type\":\"histogram2d\"}],\"histogram\":[{\"marker\":{\"pattern\":{\"fillmode\":\"overlay\",\"size\":10,\"solidity\":0.2}},\"type\":\"histogram\"}],\"mesh3d\":[{\"colorbar\":{\"outlinewidth\":0,\"ticks\":\"\"},\"type\":\"mesh3d\"}],\"parcoords\":[{\"line\":{\"colorbar\":{\"outlinewidth\":0,\"ticks\":\"\"}},\"type\":\"parcoords\"}],\"pie\":[{\"automargin\":true,\"type\":\"pie\"}],\"scatter3d\":[{\"line\":{\"colorbar\":{\"outlinewidth\":0,\"ticks\":\"\"}},\"marker\":{\"colorbar\":{\"outlinewidth\":0,\"ticks\":\"\"}},\"type\":\"scatter3d\"}],\"scattercarpet\":[{\"marker\":{\"colorbar\":{\"outlinewidth\":0,\"ticks\":\"\"}},\"type\":\"scattercarpet\"}],\"scattergeo\":[{\"marker\":{\"colorbar\":{\"outlinewidth\":0,\"ticks\":\"\"}},\"type\":\"scattergeo\"}],\"scattergl\":[{\"marker\":{\"colorbar\":{\"outlinewidth\":0,\"ticks\":\"\"}},\"type\":\"scattergl\"}],\"scattermapbox\":[{\"marker\":{\"colorbar\":{\"outlinewidth\":0,\"ticks\":\"\"}},\"type\":\"scattermapbox\"}],\"scatterpolargl\":[{\"marker\":{\"colorbar\":{\"outlinewidth\":0,\"ticks\":\"\"}},\"type\":\"scatterpolargl\"}],\"scatterpolar\":[{\"marker\":{\"colorbar\":{\"outlinewidth\":0,\"ticks\":\"\"}},\"type\":\"scatterpolar\"}],\"scatter\":[{\"fillpattern\":{\"fillmode\":\"overlay\",\"size\":10,\"solidity\":0.2},\"type\":\"scatter\"}],\"scatterternary\":[{\"marker\":{\"colorbar\":{\"outlinewidth\":0,\"ticks\":\"\"}},\"type\":\"scatterternary\"}],\"surface\":[{\"colorbar\":{\"outlinewidth\":0,\"ticks\":\"\"},\"colorscale\":[[0.0,\"#0d0887\"],[0.1111111111111111,\"#46039f\"],[0.2222222222222222,\"#7201a8\"],[0.3333333333333333,\"#9c179e\"],[0.4444444444444444,\"#bd3786\"],[0.5555555555555556,\"#d8576b\"],[0.6666666666666666,\"#ed7953\"],[0.7777777777777778,\"#fb9f3a\"],[0.8888888888888888,\"#fdca26\"],[1.0,\"#f0f921\"]],\"type\":\"surface\"}],\"table\":[{\"cells\":{\"fill\":{\"color\":\"#EBF0F8\"},\"line\":{\"color\":\"white\"}},\"header\":{\"fill\":{\"color\":\"#C8D4E3\"},\"line\":{\"color\":\"white\"}},\"type\":\"table\"}]},\"layout\":{\"annotationdefaults\":{\"arrowcolor\":\"#2a3f5f\",\"arrowhead\":0,\"arrowwidth\":1},\"autotypenumbers\":\"strict\",\"coloraxis\":{\"colorbar\":{\"outlinewidth\":0,\"ticks\":\"\"}},\"colorscale\":{\"diverging\":[[0,\"#8e0152\"],[0.1,\"#c51b7d\"],[0.2,\"#de77ae\"],[0.3,\"#f1b6da\"],[0.4,\"#fde0ef\"],[0.5,\"#f7f7f7\"],[0.6,\"#e6f5d0\"],[0.7,\"#b8e186\"],[0.8,\"#7fbc41\"],[0.9,\"#4d9221\"],[1,\"#276419\"]],\"sequential\":[[0.0,\"#0d0887\"],[0.1111111111111111,\"#46039f\"],[0.2222222222222222,\"#7201a8\"],[0.3333333333333333,\"#9c179e\"],[0.4444444444444444,\"#bd3786\"],[0.5555555555555556,\"#d8576b\"],[0.6666666666666666,\"#ed7953\"],[0.7777777777777778,\"#fb9f3a\"],[0.8888888888888888,\"#fdca26\"],[1.0,\"#f0f921\"]],\"sequentialminus\":[[0.0,\"#0d0887\"],[0.1111111111111111,\"#46039f\"],[0.2222222222222222,\"#7201a8\"],[0.3333333333333333,\"#9c179e\"],[0.4444444444444444,\"#bd3786\"],[0.5555555555555556,\"#d8576b\"],[0.6666666666666666,\"#ed7953\"],[0.7777777777777778,\"#fb9f3a\"],[0.8888888888888888,\"#fdca26\"],[1.0,\"#f0f921\"]]},\"colorway\":[\"#636efa\",\"#EF553B\",\"#00cc96\",\"#ab63fa\",\"#FFA15A\",\"#19d3f3\",\"#FF6692\",\"#B6E880\",\"#FF97FF\",\"#FECB52\"],\"font\":{\"color\":\"#2a3f5f\"},\"geo\":{\"bgcolor\":\"white\",\"lakecolor\":\"white\",\"landcolor\":\"#E5ECF6\",\"showlakes\":true,\"showland\":true,\"subunitcolor\":\"white\"},\"hoverlabel\":{\"align\":\"left\"},\"hovermode\":\"closest\",\"mapbox\":{\"style\":\"light\"},\"paper_bgcolor\":\"white\",\"plot_bgcolor\":\"#E5ECF6\",\"polar\":{\"angularaxis\":{\"gridcolor\":\"white\",\"linecolor\":\"white\",\"ticks\":\"\"},\"bgcolor\":\"#E5ECF6\",\"radialaxis\":{\"gridcolor\":\"white\",\"linecolor\":\"white\",\"ticks\":\"\"}},\"scene\":{\"xaxis\":{\"backgroundcolor\":\"#E5ECF6\",\"gridcolor\":\"white\",\"gridwidth\":2,\"linecolor\":\"white\",\"showbackground\":true,\"ticks\":\"\",\"zerolinecolor\":\"white\"},\"yaxis\":{\"backgroundcolor\":\"#E5ECF6\",\"gridcolor\":\"white\",\"gridwidth\":2,\"linecolor\":\"white\",\"showbackground\":true,\"ticks\":\"\",\"zerolinecolor\":\"white\"},\"zaxis\":{\"backgroundcolor\":\"#E5ECF6\",\"gridcolor\":\"white\",\"gridwidth\":2,\"linecolor\":\"white\",\"showbackground\":true,\"ticks\":\"\",\"zerolinecolor\":\"white\"}},\"shapedefaults\":{\"line\":{\"color\":\"#2a3f5f\"}},\"ternary\":{\"aaxis\":{\"gridcolor\":\"white\",\"linecolor\":\"white\",\"ticks\":\"\"},\"baxis\":{\"gridcolor\":\"white\",\"linecolor\":\"white\",\"ticks\":\"\"},\"bgcolor\":\"#E5ECF6\",\"caxis\":{\"gridcolor\":\"white\",\"linecolor\":\"white\",\"ticks\":\"\"}},\"title\":{\"x\":0.05},\"xaxis\":{\"automargin\":true,\"gridcolor\":\"white\",\"linecolor\":\"white\",\"ticks\":\"\",\"title\":{\"standoff\":15},\"zerolinecolor\":\"white\",\"zerolinewidth\":2},\"yaxis\":{\"automargin\":true,\"gridcolor\":\"white\",\"linecolor\":\"white\",\"ticks\":\"\",\"title\":{\"standoff\":15},\"zerolinecolor\":\"white\",\"zerolinewidth\":2}}},\"title\":{\"font\":{\"color\":\"#4D5663\"}},\"xaxis\":{\"gridcolor\":\"#E1E5ED\",\"showgrid\":true,\"tickfont\":{\"color\":\"#4D5663\"},\"title\":{\"font\":{\"color\":\"#4D5663\"},\"text\":\"\"},\"zerolinecolor\":\"#E1E5ED\"},\"yaxis\":{\"gridcolor\":\"#E1E5ED\",\"showgrid\":true,\"tickfont\":{\"color\":\"#4D5663\"},\"title\":{\"font\":{\"color\":\"#4D5663\"},\"text\":\"\"},\"zerolinecolor\":\"#E1E5ED\"}},                        {\"showLink\": true, \"linkText\": \"Export to plot.ly\", \"plotlyServerURL\": \"https://plot.ly\", \"responsive\": true}                    ).then(function(){\n",
       "                            \n",
       "var gd = document.getElementById('3fe7c561-e0b7-498b-8a5d-0eec401c7f4a');\n",
       "var x = new MutationObserver(function (mutations, observer) {{\n",
       "        var display = window.getComputedStyle(gd).display;\n",
       "        if (!display || display === 'none') {{\n",
       "            console.log([gd, 'removed!']);\n",
       "            Plotly.purge(gd);\n",
       "            observer.disconnect();\n",
       "        }}\n",
       "}});\n",
       "\n",
       "// Listen for the removal of the full notebook cells\n",
       "var notebookContainer = gd.closest('#notebook-container');\n",
       "if (notebookContainer) {{\n",
       "    x.observe(notebookContainer, {childList: true});\n",
       "}}\n",
       "\n",
       "// Listen for the clearing of the current output cell\n",
       "var outputEl = gd.closest('.output');\n",
       "if (outputEl) {{\n",
       "    x.observe(outputEl, {childList: true});\n",
       "}}\n",
       "\n",
       "                        })                };                });            </script>        </div>"
      ]
     },
     "metadata": {},
     "output_type": "display_data"
    }
   ],
   "source": [
    "df.count().iplot(kind='bar')"
   ]
  },
  {
   "cell_type": "code",
   "execution_count": 22,
   "id": "9c20f675",
   "metadata": {},
   "outputs": [
    {
     "data": {
      "application/vnd.plotly.v1+json": {
       "config": {
        "linkText": "Export to plot.ly",
        "plotlyServerURL": "https://plot.ly",
        "showLink": true
       },
       "data": [
        {
         "boxpoints": false,
         "line": {
          "width": 1.3
         },
         "marker": {
          "color": "rgba(255, 153, 51, 1.0)"
         },
         "name": "A",
         "orientation": "v",
         "type": "box",
         "y": [
          -0.6223127097787445,
          -0.07809162236041678,
          1.7790474819468551,
          -1.4247118375561625,
          -1.4105751154601864,
          0.2188883169681857,
          -1.149465863308755,
          -0.2177532325647362,
          -1.6726587412621337,
          1.2097065375742302,
          -0.7930267396765023,
          -0.05511018197538327,
          -0.09030662425254163,
          1.1619150166121996,
          0.3097205548007712,
          0.5129277863969072,
          0.6184961590026289,
          -1.4637685018706745,
          0.4485421585261526,
          1.767822731251506,
          -1.0091554353768661,
          -0.20187565762794943,
          0.10438402542485582,
          -1.0271492803595452,
          -0.549378606146546,
          -1.0818406350966738,
          -0.7289573371488666,
          1.1198836055237327,
          0.5864148695608872,
          -0.024355589607592033,
          0.6980656079470045,
          -0.8483633384572155,
          -1.5684647526087565,
          -1.3874098606278373,
          -0.6513298563396208,
          0.6752856776403766,
          1.9572075005188447,
          0.3067879974877034,
          0.08069647639021876,
          0.013777395371240508,
          1.1497250255527611,
          -0.584868011758543,
          -0.8747816362718722,
          0.16248255497583639,
          -0.6338491218052374,
          -0.18762133433093403,
          0.7183308864619843,
          0.03892557856366659,
          -0.05835543780960389,
          0.2729009332188614,
          0.18648405784653066,
          -0.002357963793111217,
          -1.6448419115769932,
          -1.8587399276049648,
          0.9002409872304978,
          -0.3246003945946711,
          -1.7144926347993703,
          0.7149852461038438,
          0.15022217521407277,
          -2.0742708012084057,
          -1.0082255935657103,
          0.5729601043333363,
          0.7210335937747494,
          0.1605572639077616,
          0.6811849909147913,
          -1.1821625386795713,
          1.3227312433894765,
          -0.8078552803418341,
          0.5935199442620323,
          -0.35774391456928006,
          0.7460167158855326,
          0.21037620123633732,
          -0.001577946660872818,
          0.3318969809409894,
          0.29022595465192125,
          0.6093830084655928,
          -0.5964490834227272,
          -1.0873790616847774,
          0.7385065124916351,
          -1.1683892869125476,
          -0.14716717691544046,
          -0.3190296801594655,
          -1.62228312074107,
          0.0940633033641303,
          -0.7413030015954901,
          2.5468536611139574,
          -0.8553192878274413,
          -0.6214605444473837,
          -0.37590549650516025,
          -0.6887968127659998,
          -0.6023601264871187,
          0.5480051859117191,
          1.5398950046172197,
          1.171647048456549,
          -0.26945117641978844,
          1.3553267212960771,
          -1.8733178535294914,
          -0.8916742861646291,
          -0.10395184783622588,
          0.015416002948039327
         ]
        },
        {
         "boxpoints": false,
         "line": {
          "width": 1.3
         },
         "marker": {
          "color": "rgba(55, 128, 191, 1.0)"
         },
         "name": "B",
         "orientation": "v",
         "type": "box",
         "y": [
          0.39299279759057504,
          0.9703165383850477,
          -0.3315341358806937,
          -1.5584031758162409,
          0.951523596033235,
          -0.5555846581699916,
          -1.515512553211831,
          1.9037823912410028,
          0.11998085811301533,
          -0.2799904644871162,
          0.9649601637582959,
          -0.2129880463045149,
          1.608269687420033,
          -0.9248636326249062,
          -0.14664756884169589,
          -0.047763160217688436,
          0.02140402329140558,
          0.13626631422295649,
          -1.2316106623850942,
          -1.4494740058324187,
          -0.9643096084728445,
          -1.8155834317145414,
          -1.4975399771222855,
          -2.008459460468831,
          -0.18844771209113004,
          -0.8452479670056402,
          0.2702435905254712,
          -0.08307773275515531,
          1.9925306352375145,
          -0.30011064157012196,
          -1.8416088365312053,
          1.4883897812928597,
          0.2857404107478787,
          -1.3694143183685137,
          0.34472215385367405,
          -0.7333872049097238,
          1.3796332788800656,
          -0.00901709225535108,
          0.5282371077244549,
          -1.5889248101211482,
          -0.9168030342948024,
          -0.8567400095928656,
          0.5420625354429279,
          0.3531656963293904,
          0.9516310013151971,
          1.4814305926548468,
          -0.0661783667737621,
          -0.5366522538953027,
          -1.0733680524544438,
          1.664261087255659,
          0.5546934645540875,
          -0.9498218183256268,
          1.6448795435345684,
          0.2356696285556059,
          -0.9223882563702976,
          -1.999143938093221,
          0.8469020285223882,
          0.6589074033059399,
          -0.5799192494117322,
          -0.7788733134093945,
          0.7577793943052767,
          -0.09707784030046557,
          -0.03455307170219075,
          -0.8811323416697463,
          -0.6267043083674482,
          -1.0269391048157697,
          -0.5321336972529832,
          0.8451182902588883,
          0.08662269451869511,
          0.31429709601059586,
          -0.1934184891753213,
          1.2840149281872961,
          0.555730360910625,
          0.45183765131006726,
          -0.49686842278032023,
          -0.32947519313932555,
          -1.19620746138553,
          -0.7038639841931628,
          -0.7898364183395687,
          0.7438412707540987,
          0.7414495707254729,
          1.3799733154504426,
          0.56648572675284,
          -2.50683210422878,
          0.9959654653416138,
          0.367421323759343,
          -0.46904746013665927,
          -1.1409670086342902,
          0.2598216833782342,
          -1.2902403671698264,
          0.49678766890658405,
          -0.48224628270977354,
          -0.16484644023413372,
          -1.0334851807235186,
          0.14970842234302917,
          0.7165586416171045,
          1.0511466528478781,
          2.06350190094373,
          0.32514957908412,
          0.2174187719077609
         ]
        },
        {
         "boxpoints": false,
         "line": {
          "width": 1.3
         },
         "marker": {
          "color": "rgba(50, 171, 96, 1.0)"
         },
         "name": "C",
         "orientation": "v",
         "type": "box",
         "y": [
          -0.1394922412256659,
          0.38734155585847974,
          -0.9260957315446555,
          1.7598055851729693,
          2.210787136403946,
          -0.3022733556354362,
          -0.3321972707800144,
          -0.1552642924054388,
          -0.2870423301786768,
          0.6442732570082397,
          0.11014394961086883,
          -0.4278396030263597,
          0.43364625245808236,
          1.4508588360666845,
          -0.5423396917786653,
          0.4766730628614621,
          -1.0930741231694232,
          -1.2251625013267404,
          1.2278357534838633,
          -0.6586740241489065,
          2.0719087709201016,
          0.41495965936344326,
          0.7561162864867124,
          0.04064409247531572,
          0.18851771376240875,
          0.6321301873304279,
          -0.44742800509363195,
          -0.48617943220762816,
          1.4537403915676392,
          0.19349128592075931,
          1.0296497319579134,
          -0.9693172781930631,
          2.550997324758455,
          -0.9235141105083481,
          -0.2556884233919607,
          -0.6649752111022003,
          -0.5468451556298982,
          -2.7844579414935353,
          -0.3971986657038678,
          -1.2694849579678578,
          0.8050226821235916,
          0.183959600770004,
          0.19582171030744405,
          -0.04239771612971373,
          -1.1844633897934997,
          1.1586783863964807,
          1.7492385698415471,
          1.0158785881673311,
          -1.237607244103128,
          0.843448452886732,
          -1.5637969246951338,
          0.025004871592748112,
          -0.8471180601748635,
          0.6629186648730425,
          -1.1648273994392528,
          -0.2378197288212158,
          1.1587423625965083,
          0.06258506694463219,
          0.36201188717091604,
          0.8742136902258705,
          0.6755642100990448,
          1.0635356940506575,
          1.7509628418864445,
          -2.1122627787085353,
          0.4482910496415664,
          -0.7679156676626054,
          -0.32932409452845224,
          -0.8920180348539344,
          1.2108231224002985,
          0.728060788136938,
          1.3965365372564333,
          0.8408845871772697,
          1.34008003144846,
          3.1650637473110064,
          -0.47730283407630475,
          0.4445011172798934,
          0.7474000002979312,
          0.553429497434904,
          0.20155853477728425,
          0.9814895054945997,
          -0.7619892824985112,
          -0.23241769812505747,
          1.8545481854514945,
          -0.3933567137433616,
          -0.015279273912303869,
          0.9700559196306061,
          -0.7020615572239038,
          1.8908441811029264,
          0.2811541369905382,
          -0.9076193687338854,
          -1.4369113370368245,
          1.0735601139879156,
          0.2777949972840057,
          -0.6003160649082503,
          0.616082822519307,
          0.25233133157908066,
          0.46033039566920175,
          0.9550636859373486,
          0.5617910910295629,
          -1.1333573423474372
         ]
        },
        {
         "boxpoints": false,
         "line": {
          "width": 1.3
         },
         "marker": {
          "color": "rgba(128, 0, 128, 1.0)"
         },
         "name": "D",
         "orientation": "v",
         "type": "box",
         "y": [
          0.010313421967021626,
          0.9774787952723087,
          1.1832753189872105,
          -0.683841096896405,
          -0.6200486822091427,
          -1.3824334314231927,
          2.4453494443121597,
          -3.2119560314205766,
          -1.0113513717441274,
          -0.6910889000887538,
          -0.0007939603834835492,
          0.8034006202562674,
          0.6451956621787378,
          -0.5374908243435591,
          -0.009328334097994636,
          0.16665395862426705,
          -1.3602141884570391,
          0.5738391028689689,
          0.6750183691447313,
          0.20520058828298732,
          0.6681745288709247,
          1.0059022683148486,
          0.3944244869874825,
          -0.752639833939874,
          -1.158770538550278,
          -0.24544679136561875,
          -1.3646155805597115,
          0.9551921454161609,
          2.2844343748544493,
          -0.7696634640778297,
          -0.621897690952007,
          -0.34550223084018666,
          -0.4884301152484405,
          0.21928554316860505,
          -0.6829311425330685,
          0.5566508785290419,
          0.7624837165894379,
          -0.5478342499850288,
          0.5801653285577393,
          -0.632425720880273,
          -0.8417813926515596,
          -1.6236927181568437,
          1.9493597870649115,
          0.7465752119643185,
          0.5372780985435524,
          -2.1710348618073723,
          -0.6593875365739125,
          -0.018473140773435842,
          -0.04245242423015054,
          -0.6300682302117817,
          -1.2168773540689084,
          0.9319362138761141,
          -2.6638540758230627,
          -1.9315507625560588,
          -0.16701688100938009,
          -0.2062492957875122,
          -0.8358111006979888,
          0.6863144588219658,
          1.3846234929089063,
          -0.4753417448026249,
          -0.08792035864135517,
          -0.8112352217389021,
          0.14187936679133517,
          1.1734093670706989,
          -0.1322224862763447,
          0.20517567407068496,
          -1.760978391548266,
          0.23801612095180943,
          -1.403049283002082,
          0.2743706916166362,
          -0.6236523305572523,
          0.2725927370556236,
          0.8448899074036795,
          0.4626130789181829,
          0.2668959697949256,
          0.12867707772407294,
          -0.0543150251890773,
          0.18299637276404898,
          1.7752764866442248,
          -1.2374048440464878,
          0.6320590806476215,
          -0.9369986892289005,
          0.1231636933708757,
          -0.4458508374014565,
          0.3011104070617941,
          0.29221209883127613,
          -1.9921867599816934,
          0.2143544019177814,
          -1.5246716720992082,
          0.631959493414628,
          -1.7234468191694932,
          0.7771196299925165,
          0.2242601120175588,
          -0.08539207089427393,
          -2.168210226949958,
          0.15597597461677742,
          0.27321431901873094,
          -0.23689895193153876,
          -0.7164606321195535,
          -1.0314167978024231
         ]
        }
       ],
       "layout": {
        "legend": {
         "bgcolor": "#F5F6F9",
         "font": {
          "color": "#4D5663"
         }
        },
        "paper_bgcolor": "#F5F6F9",
        "plot_bgcolor": "#F5F6F9",
        "template": {
         "data": {
          "bar": [
           {
            "error_x": {
             "color": "#2a3f5f"
            },
            "error_y": {
             "color": "#2a3f5f"
            },
            "marker": {
             "line": {
              "color": "#E5ECF6",
              "width": 0.5
             },
             "pattern": {
              "fillmode": "overlay",
              "size": 10,
              "solidity": 0.2
             }
            },
            "type": "bar"
           }
          ],
          "barpolar": [
           {
            "marker": {
             "line": {
              "color": "#E5ECF6",
              "width": 0.5
             },
             "pattern": {
              "fillmode": "overlay",
              "size": 10,
              "solidity": 0.2
             }
            },
            "type": "barpolar"
           }
          ],
          "carpet": [
           {
            "aaxis": {
             "endlinecolor": "#2a3f5f",
             "gridcolor": "white",
             "linecolor": "white",
             "minorgridcolor": "white",
             "startlinecolor": "#2a3f5f"
            },
            "baxis": {
             "endlinecolor": "#2a3f5f",
             "gridcolor": "white",
             "linecolor": "white",
             "minorgridcolor": "white",
             "startlinecolor": "#2a3f5f"
            },
            "type": "carpet"
           }
          ],
          "choropleth": [
           {
            "colorbar": {
             "outlinewidth": 0,
             "ticks": ""
            },
            "type": "choropleth"
           }
          ],
          "contour": [
           {
            "colorbar": {
             "outlinewidth": 0,
             "ticks": ""
            },
            "colorscale": [
             [
              0,
              "#0d0887"
             ],
             [
              0.1111111111111111,
              "#46039f"
             ],
             [
              0.2222222222222222,
              "#7201a8"
             ],
             [
              0.3333333333333333,
              "#9c179e"
             ],
             [
              0.4444444444444444,
              "#bd3786"
             ],
             [
              0.5555555555555556,
              "#d8576b"
             ],
             [
              0.6666666666666666,
              "#ed7953"
             ],
             [
              0.7777777777777778,
              "#fb9f3a"
             ],
             [
              0.8888888888888888,
              "#fdca26"
             ],
             [
              1,
              "#f0f921"
             ]
            ],
            "type": "contour"
           }
          ],
          "contourcarpet": [
           {
            "colorbar": {
             "outlinewidth": 0,
             "ticks": ""
            },
            "type": "contourcarpet"
           }
          ],
          "heatmap": [
           {
            "colorbar": {
             "outlinewidth": 0,
             "ticks": ""
            },
            "colorscale": [
             [
              0,
              "#0d0887"
             ],
             [
              0.1111111111111111,
              "#46039f"
             ],
             [
              0.2222222222222222,
              "#7201a8"
             ],
             [
              0.3333333333333333,
              "#9c179e"
             ],
             [
              0.4444444444444444,
              "#bd3786"
             ],
             [
              0.5555555555555556,
              "#d8576b"
             ],
             [
              0.6666666666666666,
              "#ed7953"
             ],
             [
              0.7777777777777778,
              "#fb9f3a"
             ],
             [
              0.8888888888888888,
              "#fdca26"
             ],
             [
              1,
              "#f0f921"
             ]
            ],
            "type": "heatmap"
           }
          ],
          "heatmapgl": [
           {
            "colorbar": {
             "outlinewidth": 0,
             "ticks": ""
            },
            "colorscale": [
             [
              0,
              "#0d0887"
             ],
             [
              0.1111111111111111,
              "#46039f"
             ],
             [
              0.2222222222222222,
              "#7201a8"
             ],
             [
              0.3333333333333333,
              "#9c179e"
             ],
             [
              0.4444444444444444,
              "#bd3786"
             ],
             [
              0.5555555555555556,
              "#d8576b"
             ],
             [
              0.6666666666666666,
              "#ed7953"
             ],
             [
              0.7777777777777778,
              "#fb9f3a"
             ],
             [
              0.8888888888888888,
              "#fdca26"
             ],
             [
              1,
              "#f0f921"
             ]
            ],
            "type": "heatmapgl"
           }
          ],
          "histogram": [
           {
            "marker": {
             "pattern": {
              "fillmode": "overlay",
              "size": 10,
              "solidity": 0.2
             }
            },
            "type": "histogram"
           }
          ],
          "histogram2d": [
           {
            "colorbar": {
             "outlinewidth": 0,
             "ticks": ""
            },
            "colorscale": [
             [
              0,
              "#0d0887"
             ],
             [
              0.1111111111111111,
              "#46039f"
             ],
             [
              0.2222222222222222,
              "#7201a8"
             ],
             [
              0.3333333333333333,
              "#9c179e"
             ],
             [
              0.4444444444444444,
              "#bd3786"
             ],
             [
              0.5555555555555556,
              "#d8576b"
             ],
             [
              0.6666666666666666,
              "#ed7953"
             ],
             [
              0.7777777777777778,
              "#fb9f3a"
             ],
             [
              0.8888888888888888,
              "#fdca26"
             ],
             [
              1,
              "#f0f921"
             ]
            ],
            "type": "histogram2d"
           }
          ],
          "histogram2dcontour": [
           {
            "colorbar": {
             "outlinewidth": 0,
             "ticks": ""
            },
            "colorscale": [
             [
              0,
              "#0d0887"
             ],
             [
              0.1111111111111111,
              "#46039f"
             ],
             [
              0.2222222222222222,
              "#7201a8"
             ],
             [
              0.3333333333333333,
              "#9c179e"
             ],
             [
              0.4444444444444444,
              "#bd3786"
             ],
             [
              0.5555555555555556,
              "#d8576b"
             ],
             [
              0.6666666666666666,
              "#ed7953"
             ],
             [
              0.7777777777777778,
              "#fb9f3a"
             ],
             [
              0.8888888888888888,
              "#fdca26"
             ],
             [
              1,
              "#f0f921"
             ]
            ],
            "type": "histogram2dcontour"
           }
          ],
          "mesh3d": [
           {
            "colorbar": {
             "outlinewidth": 0,
             "ticks": ""
            },
            "type": "mesh3d"
           }
          ],
          "parcoords": [
           {
            "line": {
             "colorbar": {
              "outlinewidth": 0,
              "ticks": ""
             }
            },
            "type": "parcoords"
           }
          ],
          "pie": [
           {
            "automargin": true,
            "type": "pie"
           }
          ],
          "scatter": [
           {
            "fillpattern": {
             "fillmode": "overlay",
             "size": 10,
             "solidity": 0.2
            },
            "type": "scatter"
           }
          ],
          "scatter3d": [
           {
            "line": {
             "colorbar": {
              "outlinewidth": 0,
              "ticks": ""
             }
            },
            "marker": {
             "colorbar": {
              "outlinewidth": 0,
              "ticks": ""
             }
            },
            "type": "scatter3d"
           }
          ],
          "scattercarpet": [
           {
            "marker": {
             "colorbar": {
              "outlinewidth": 0,
              "ticks": ""
             }
            },
            "type": "scattercarpet"
           }
          ],
          "scattergeo": [
           {
            "marker": {
             "colorbar": {
              "outlinewidth": 0,
              "ticks": ""
             }
            },
            "type": "scattergeo"
           }
          ],
          "scattergl": [
           {
            "marker": {
             "colorbar": {
              "outlinewidth": 0,
              "ticks": ""
             }
            },
            "type": "scattergl"
           }
          ],
          "scattermapbox": [
           {
            "marker": {
             "colorbar": {
              "outlinewidth": 0,
              "ticks": ""
             }
            },
            "type": "scattermapbox"
           }
          ],
          "scatterpolar": [
           {
            "marker": {
             "colorbar": {
              "outlinewidth": 0,
              "ticks": ""
             }
            },
            "type": "scatterpolar"
           }
          ],
          "scatterpolargl": [
           {
            "marker": {
             "colorbar": {
              "outlinewidth": 0,
              "ticks": ""
             }
            },
            "type": "scatterpolargl"
           }
          ],
          "scatterternary": [
           {
            "marker": {
             "colorbar": {
              "outlinewidth": 0,
              "ticks": ""
             }
            },
            "type": "scatterternary"
           }
          ],
          "surface": [
           {
            "colorbar": {
             "outlinewidth": 0,
             "ticks": ""
            },
            "colorscale": [
             [
              0,
              "#0d0887"
             ],
             [
              0.1111111111111111,
              "#46039f"
             ],
             [
              0.2222222222222222,
              "#7201a8"
             ],
             [
              0.3333333333333333,
              "#9c179e"
             ],
             [
              0.4444444444444444,
              "#bd3786"
             ],
             [
              0.5555555555555556,
              "#d8576b"
             ],
             [
              0.6666666666666666,
              "#ed7953"
             ],
             [
              0.7777777777777778,
              "#fb9f3a"
             ],
             [
              0.8888888888888888,
              "#fdca26"
             ],
             [
              1,
              "#f0f921"
             ]
            ],
            "type": "surface"
           }
          ],
          "table": [
           {
            "cells": {
             "fill": {
              "color": "#EBF0F8"
             },
             "line": {
              "color": "white"
             }
            },
            "header": {
             "fill": {
              "color": "#C8D4E3"
             },
             "line": {
              "color": "white"
             }
            },
            "type": "table"
           }
          ]
         },
         "layout": {
          "annotationdefaults": {
           "arrowcolor": "#2a3f5f",
           "arrowhead": 0,
           "arrowwidth": 1
          },
          "autotypenumbers": "strict",
          "coloraxis": {
           "colorbar": {
            "outlinewidth": 0,
            "ticks": ""
           }
          },
          "colorscale": {
           "diverging": [
            [
             0,
             "#8e0152"
            ],
            [
             0.1,
             "#c51b7d"
            ],
            [
             0.2,
             "#de77ae"
            ],
            [
             0.3,
             "#f1b6da"
            ],
            [
             0.4,
             "#fde0ef"
            ],
            [
             0.5,
             "#f7f7f7"
            ],
            [
             0.6,
             "#e6f5d0"
            ],
            [
             0.7,
             "#b8e186"
            ],
            [
             0.8,
             "#7fbc41"
            ],
            [
             0.9,
             "#4d9221"
            ],
            [
             1,
             "#276419"
            ]
           ],
           "sequential": [
            [
             0,
             "#0d0887"
            ],
            [
             0.1111111111111111,
             "#46039f"
            ],
            [
             0.2222222222222222,
             "#7201a8"
            ],
            [
             0.3333333333333333,
             "#9c179e"
            ],
            [
             0.4444444444444444,
             "#bd3786"
            ],
            [
             0.5555555555555556,
             "#d8576b"
            ],
            [
             0.6666666666666666,
             "#ed7953"
            ],
            [
             0.7777777777777778,
             "#fb9f3a"
            ],
            [
             0.8888888888888888,
             "#fdca26"
            ],
            [
             1,
             "#f0f921"
            ]
           ],
           "sequentialminus": [
            [
             0,
             "#0d0887"
            ],
            [
             0.1111111111111111,
             "#46039f"
            ],
            [
             0.2222222222222222,
             "#7201a8"
            ],
            [
             0.3333333333333333,
             "#9c179e"
            ],
            [
             0.4444444444444444,
             "#bd3786"
            ],
            [
             0.5555555555555556,
             "#d8576b"
            ],
            [
             0.6666666666666666,
             "#ed7953"
            ],
            [
             0.7777777777777778,
             "#fb9f3a"
            ],
            [
             0.8888888888888888,
             "#fdca26"
            ],
            [
             1,
             "#f0f921"
            ]
           ]
          },
          "colorway": [
           "#636efa",
           "#EF553B",
           "#00cc96",
           "#ab63fa",
           "#FFA15A",
           "#19d3f3",
           "#FF6692",
           "#B6E880",
           "#FF97FF",
           "#FECB52"
          ],
          "font": {
           "color": "#2a3f5f"
          },
          "geo": {
           "bgcolor": "white",
           "lakecolor": "white",
           "landcolor": "#E5ECF6",
           "showlakes": true,
           "showland": true,
           "subunitcolor": "white"
          },
          "hoverlabel": {
           "align": "left"
          },
          "hovermode": "closest",
          "mapbox": {
           "style": "light"
          },
          "paper_bgcolor": "white",
          "plot_bgcolor": "#E5ECF6",
          "polar": {
           "angularaxis": {
            "gridcolor": "white",
            "linecolor": "white",
            "ticks": ""
           },
           "bgcolor": "#E5ECF6",
           "radialaxis": {
            "gridcolor": "white",
            "linecolor": "white",
            "ticks": ""
           }
          },
          "scene": {
           "xaxis": {
            "backgroundcolor": "#E5ECF6",
            "gridcolor": "white",
            "gridwidth": 2,
            "linecolor": "white",
            "showbackground": true,
            "ticks": "",
            "zerolinecolor": "white"
           },
           "yaxis": {
            "backgroundcolor": "#E5ECF6",
            "gridcolor": "white",
            "gridwidth": 2,
            "linecolor": "white",
            "showbackground": true,
            "ticks": "",
            "zerolinecolor": "white"
           },
           "zaxis": {
            "backgroundcolor": "#E5ECF6",
            "gridcolor": "white",
            "gridwidth": 2,
            "linecolor": "white",
            "showbackground": true,
            "ticks": "",
            "zerolinecolor": "white"
           }
          },
          "shapedefaults": {
           "line": {
            "color": "#2a3f5f"
           }
          },
          "ternary": {
           "aaxis": {
            "gridcolor": "white",
            "linecolor": "white",
            "ticks": ""
           },
           "baxis": {
            "gridcolor": "white",
            "linecolor": "white",
            "ticks": ""
           },
           "bgcolor": "#E5ECF6",
           "caxis": {
            "gridcolor": "white",
            "linecolor": "white",
            "ticks": ""
           }
          },
          "title": {
           "x": 0.05
          },
          "xaxis": {
           "automargin": true,
           "gridcolor": "white",
           "linecolor": "white",
           "ticks": "",
           "title": {
            "standoff": 15
           },
           "zerolinecolor": "white",
           "zerolinewidth": 2
          },
          "yaxis": {
           "automargin": true,
           "gridcolor": "white",
           "linecolor": "white",
           "ticks": "",
           "title": {
            "standoff": 15
           },
           "zerolinecolor": "white",
           "zerolinewidth": 2
          }
         }
        },
        "title": {
         "font": {
          "color": "#4D5663"
         }
        },
        "xaxis": {
         "gridcolor": "#E1E5ED",
         "showgrid": true,
         "tickfont": {
          "color": "#4D5663"
         },
         "title": {
          "font": {
           "color": "#4D5663"
          },
          "text": ""
         },
         "zerolinecolor": "#E1E5ED"
        },
        "yaxis": {
         "gridcolor": "#E1E5ED",
         "showgrid": true,
         "tickfont": {
          "color": "#4D5663"
         },
         "title": {
          "font": {
           "color": "#4D5663"
          },
          "text": ""
         },
         "zerolinecolor": "#E1E5ED"
        }
       }
      },
      "text/html": [
       "<div>                            <div id=\"6a54bf4b-7eb7-473c-acf0-da7d8f677996\" class=\"plotly-graph-div\" style=\"height:525px; width:100%;\"></div>            <script type=\"text/javascript\">                require([\"plotly\"], function(Plotly) {                    window.PLOTLYENV=window.PLOTLYENV || {};\n",
       "                    window.PLOTLYENV.BASE_URL='https://plot.ly';                                    if (document.getElementById(\"6a54bf4b-7eb7-473c-acf0-da7d8f677996\")) {                    Plotly.newPlot(                        \"6a54bf4b-7eb7-473c-acf0-da7d8f677996\",                        [{\"boxpoints\":false,\"line\":{\"width\":1.3},\"marker\":{\"color\":\"rgba(255, 153, 51, 1.0)\"},\"name\":\"A\",\"orientation\":\"v\",\"y\":[-0.6223127097787445,-0.07809162236041678,1.7790474819468551,-1.4247118375561625,-1.4105751154601864,0.2188883169681857,-1.149465863308755,-0.2177532325647362,-1.6726587412621337,1.2097065375742302,-0.7930267396765023,-0.05511018197538327,-0.09030662425254163,1.1619150166121996,0.3097205548007712,0.5129277863969072,0.6184961590026289,-1.4637685018706745,0.4485421585261526,1.767822731251506,-1.0091554353768661,-0.20187565762794943,0.10438402542485582,-1.0271492803595452,-0.549378606146546,-1.0818406350966738,-0.7289573371488666,1.1198836055237327,0.5864148695608872,-0.024355589607592033,0.6980656079470045,-0.8483633384572155,-1.5684647526087565,-1.3874098606278373,-0.6513298563396208,0.6752856776403766,1.9572075005188447,0.3067879974877034,0.08069647639021876,0.013777395371240508,1.1497250255527611,-0.584868011758543,-0.8747816362718722,0.16248255497583639,-0.6338491218052374,-0.18762133433093403,0.7183308864619843,0.03892557856366659,-0.05835543780960389,0.2729009332188614,0.18648405784653066,-0.002357963793111217,-1.6448419115769932,-1.8587399276049648,0.9002409872304978,-0.3246003945946711,-1.7144926347993703,0.7149852461038438,0.15022217521407277,-2.0742708012084057,-1.0082255935657103,0.5729601043333363,0.7210335937747494,0.1605572639077616,0.6811849909147913,-1.1821625386795713,1.3227312433894765,-0.8078552803418341,0.5935199442620323,-0.35774391456928006,0.7460167158855326,0.21037620123633732,-0.001577946660872818,0.3318969809409894,0.29022595465192125,0.6093830084655928,-0.5964490834227272,-1.0873790616847774,0.7385065124916351,-1.1683892869125476,-0.14716717691544046,-0.3190296801594655,-1.62228312074107,0.0940633033641303,-0.7413030015954901,2.5468536611139574,-0.8553192878274413,-0.6214605444473837,-0.37590549650516025,-0.6887968127659998,-0.6023601264871187,0.5480051859117191,1.5398950046172197,1.171647048456549,-0.26945117641978844,1.3553267212960771,-1.8733178535294914,-0.8916742861646291,-0.10395184783622588,0.015416002948039327],\"type\":\"box\"},{\"boxpoints\":false,\"line\":{\"width\":1.3},\"marker\":{\"color\":\"rgba(55, 128, 191, 1.0)\"},\"name\":\"B\",\"orientation\":\"v\",\"y\":[0.39299279759057504,0.9703165383850477,-0.3315341358806937,-1.5584031758162409,0.951523596033235,-0.5555846581699916,-1.515512553211831,1.9037823912410028,0.11998085811301533,-0.2799904644871162,0.9649601637582959,-0.2129880463045149,1.608269687420033,-0.9248636326249062,-0.14664756884169589,-0.047763160217688436,0.02140402329140558,0.13626631422295649,-1.2316106623850942,-1.4494740058324187,-0.9643096084728445,-1.8155834317145414,-1.4975399771222855,-2.008459460468831,-0.18844771209113004,-0.8452479670056402,0.2702435905254712,-0.08307773275515531,1.9925306352375145,-0.30011064157012196,-1.8416088365312053,1.4883897812928597,0.2857404107478787,-1.3694143183685137,0.34472215385367405,-0.7333872049097238,1.3796332788800656,-0.00901709225535108,0.5282371077244549,-1.5889248101211482,-0.9168030342948024,-0.8567400095928656,0.5420625354429279,0.3531656963293904,0.9516310013151971,1.4814305926548468,-0.0661783667737621,-0.5366522538953027,-1.0733680524544438,1.664261087255659,0.5546934645540875,-0.9498218183256268,1.6448795435345684,0.2356696285556059,-0.9223882563702976,-1.999143938093221,0.8469020285223882,0.6589074033059399,-0.5799192494117322,-0.7788733134093945,0.7577793943052767,-0.09707784030046557,-0.03455307170219075,-0.8811323416697463,-0.6267043083674482,-1.0269391048157697,-0.5321336972529832,0.8451182902588883,0.08662269451869511,0.31429709601059586,-0.1934184891753213,1.2840149281872961,0.555730360910625,0.45183765131006726,-0.49686842278032023,-0.32947519313932555,-1.19620746138553,-0.7038639841931628,-0.7898364183395687,0.7438412707540987,0.7414495707254729,1.3799733154504426,0.56648572675284,-2.50683210422878,0.9959654653416138,0.367421323759343,-0.46904746013665927,-1.1409670086342902,0.2598216833782342,-1.2902403671698264,0.49678766890658405,-0.48224628270977354,-0.16484644023413372,-1.0334851807235186,0.14970842234302917,0.7165586416171045,1.0511466528478781,2.06350190094373,0.32514957908412,0.2174187719077609],\"type\":\"box\"},{\"boxpoints\":false,\"line\":{\"width\":1.3},\"marker\":{\"color\":\"rgba(50, 171, 96, 1.0)\"},\"name\":\"C\",\"orientation\":\"v\",\"y\":[-0.1394922412256659,0.38734155585847974,-0.9260957315446555,1.7598055851729693,2.210787136403946,-0.3022733556354362,-0.3321972707800144,-0.1552642924054388,-0.2870423301786768,0.6442732570082397,0.11014394961086883,-0.4278396030263597,0.43364625245808236,1.4508588360666845,-0.5423396917786653,0.4766730628614621,-1.0930741231694232,-1.2251625013267404,1.2278357534838633,-0.6586740241489065,2.0719087709201016,0.41495965936344326,0.7561162864867124,0.04064409247531572,0.18851771376240875,0.6321301873304279,-0.44742800509363195,-0.48617943220762816,1.4537403915676392,0.19349128592075931,1.0296497319579134,-0.9693172781930631,2.550997324758455,-0.9235141105083481,-0.2556884233919607,-0.6649752111022003,-0.5468451556298982,-2.7844579414935353,-0.3971986657038678,-1.2694849579678578,0.8050226821235916,0.183959600770004,0.19582171030744405,-0.04239771612971373,-1.1844633897934997,1.1586783863964807,1.7492385698415471,1.0158785881673311,-1.237607244103128,0.843448452886732,-1.5637969246951338,0.025004871592748112,-0.8471180601748635,0.6629186648730425,-1.1648273994392528,-0.2378197288212158,1.1587423625965083,0.06258506694463219,0.36201188717091604,0.8742136902258705,0.6755642100990448,1.0635356940506575,1.7509628418864445,-2.1122627787085353,0.4482910496415664,-0.7679156676626054,-0.32932409452845224,-0.8920180348539344,1.2108231224002985,0.728060788136938,1.3965365372564333,0.8408845871772697,1.34008003144846,3.1650637473110064,-0.47730283407630475,0.4445011172798934,0.7474000002979312,0.553429497434904,0.20155853477728425,0.9814895054945997,-0.7619892824985112,-0.23241769812505747,1.8545481854514945,-0.3933567137433616,-0.015279273912303869,0.9700559196306061,-0.7020615572239038,1.8908441811029264,0.2811541369905382,-0.9076193687338854,-1.4369113370368245,1.0735601139879156,0.2777949972840057,-0.6003160649082503,0.616082822519307,0.25233133157908066,0.46033039566920175,0.9550636859373486,0.5617910910295629,-1.1333573423474372],\"type\":\"box\"},{\"boxpoints\":false,\"line\":{\"width\":1.3},\"marker\":{\"color\":\"rgba(128, 0, 128, 1.0)\"},\"name\":\"D\",\"orientation\":\"v\",\"y\":[0.010313421967021626,0.9774787952723087,1.1832753189872105,-0.683841096896405,-0.6200486822091427,-1.3824334314231927,2.4453494443121597,-3.2119560314205766,-1.0113513717441274,-0.6910889000887538,-0.0007939603834835492,0.8034006202562674,0.6451956621787378,-0.5374908243435591,-0.009328334097994636,0.16665395862426705,-1.3602141884570391,0.5738391028689689,0.6750183691447313,0.20520058828298732,0.6681745288709247,1.0059022683148486,0.3944244869874825,-0.752639833939874,-1.158770538550278,-0.24544679136561875,-1.3646155805597115,0.9551921454161609,2.2844343748544493,-0.7696634640778297,-0.621897690952007,-0.34550223084018666,-0.4884301152484405,0.21928554316860505,-0.6829311425330685,0.5566508785290419,0.7624837165894379,-0.5478342499850288,0.5801653285577393,-0.632425720880273,-0.8417813926515596,-1.6236927181568437,1.9493597870649115,0.7465752119643185,0.5372780985435524,-2.1710348618073723,-0.6593875365739125,-0.018473140773435842,-0.04245242423015054,-0.6300682302117817,-1.2168773540689084,0.9319362138761141,-2.6638540758230627,-1.9315507625560588,-0.16701688100938009,-0.2062492957875122,-0.8358111006979888,0.6863144588219658,1.3846234929089063,-0.4753417448026249,-0.08792035864135517,-0.8112352217389021,0.14187936679133517,1.1734093670706989,-0.1322224862763447,0.20517567407068496,-1.760978391548266,0.23801612095180943,-1.403049283002082,0.2743706916166362,-0.6236523305572523,0.2725927370556236,0.8448899074036795,0.4626130789181829,0.2668959697949256,0.12867707772407294,-0.0543150251890773,0.18299637276404898,1.7752764866442248,-1.2374048440464878,0.6320590806476215,-0.9369986892289005,0.1231636933708757,-0.4458508374014565,0.3011104070617941,0.29221209883127613,-1.9921867599816934,0.2143544019177814,-1.5246716720992082,0.631959493414628,-1.7234468191694932,0.7771196299925165,0.2242601120175588,-0.08539207089427393,-2.168210226949958,0.15597597461677742,0.27321431901873094,-0.23689895193153876,-0.7164606321195535,-1.0314167978024231],\"type\":\"box\"}],                        {\"legend\":{\"bgcolor\":\"#F5F6F9\",\"font\":{\"color\":\"#4D5663\"}},\"paper_bgcolor\":\"#F5F6F9\",\"plot_bgcolor\":\"#F5F6F9\",\"template\":{\"data\":{\"barpolar\":[{\"marker\":{\"line\":{\"color\":\"#E5ECF6\",\"width\":0.5},\"pattern\":{\"fillmode\":\"overlay\",\"size\":10,\"solidity\":0.2}},\"type\":\"barpolar\"}],\"bar\":[{\"error_x\":{\"color\":\"#2a3f5f\"},\"error_y\":{\"color\":\"#2a3f5f\"},\"marker\":{\"line\":{\"color\":\"#E5ECF6\",\"width\":0.5},\"pattern\":{\"fillmode\":\"overlay\",\"size\":10,\"solidity\":0.2}},\"type\":\"bar\"}],\"carpet\":[{\"aaxis\":{\"endlinecolor\":\"#2a3f5f\",\"gridcolor\":\"white\",\"linecolor\":\"white\",\"minorgridcolor\":\"white\",\"startlinecolor\":\"#2a3f5f\"},\"baxis\":{\"endlinecolor\":\"#2a3f5f\",\"gridcolor\":\"white\",\"linecolor\":\"white\",\"minorgridcolor\":\"white\",\"startlinecolor\":\"#2a3f5f\"},\"type\":\"carpet\"}],\"choropleth\":[{\"colorbar\":{\"outlinewidth\":0,\"ticks\":\"\"},\"type\":\"choropleth\"}],\"contourcarpet\":[{\"colorbar\":{\"outlinewidth\":0,\"ticks\":\"\"},\"type\":\"contourcarpet\"}],\"contour\":[{\"colorbar\":{\"outlinewidth\":0,\"ticks\":\"\"},\"colorscale\":[[0.0,\"#0d0887\"],[0.1111111111111111,\"#46039f\"],[0.2222222222222222,\"#7201a8\"],[0.3333333333333333,\"#9c179e\"],[0.4444444444444444,\"#bd3786\"],[0.5555555555555556,\"#d8576b\"],[0.6666666666666666,\"#ed7953\"],[0.7777777777777778,\"#fb9f3a\"],[0.8888888888888888,\"#fdca26\"],[1.0,\"#f0f921\"]],\"type\":\"contour\"}],\"heatmapgl\":[{\"colorbar\":{\"outlinewidth\":0,\"ticks\":\"\"},\"colorscale\":[[0.0,\"#0d0887\"],[0.1111111111111111,\"#46039f\"],[0.2222222222222222,\"#7201a8\"],[0.3333333333333333,\"#9c179e\"],[0.4444444444444444,\"#bd3786\"],[0.5555555555555556,\"#d8576b\"],[0.6666666666666666,\"#ed7953\"],[0.7777777777777778,\"#fb9f3a\"],[0.8888888888888888,\"#fdca26\"],[1.0,\"#f0f921\"]],\"type\":\"heatmapgl\"}],\"heatmap\":[{\"colorbar\":{\"outlinewidth\":0,\"ticks\":\"\"},\"colorscale\":[[0.0,\"#0d0887\"],[0.1111111111111111,\"#46039f\"],[0.2222222222222222,\"#7201a8\"],[0.3333333333333333,\"#9c179e\"],[0.4444444444444444,\"#bd3786\"],[0.5555555555555556,\"#d8576b\"],[0.6666666666666666,\"#ed7953\"],[0.7777777777777778,\"#fb9f3a\"],[0.8888888888888888,\"#fdca26\"],[1.0,\"#f0f921\"]],\"type\":\"heatmap\"}],\"histogram2dcontour\":[{\"colorbar\":{\"outlinewidth\":0,\"ticks\":\"\"},\"colorscale\":[[0.0,\"#0d0887\"],[0.1111111111111111,\"#46039f\"],[0.2222222222222222,\"#7201a8\"],[0.3333333333333333,\"#9c179e\"],[0.4444444444444444,\"#bd3786\"],[0.5555555555555556,\"#d8576b\"],[0.6666666666666666,\"#ed7953\"],[0.7777777777777778,\"#fb9f3a\"],[0.8888888888888888,\"#fdca26\"],[1.0,\"#f0f921\"]],\"type\":\"histogram2dcontour\"}],\"histogram2d\":[{\"colorbar\":{\"outlinewidth\":0,\"ticks\":\"\"},\"colorscale\":[[0.0,\"#0d0887\"],[0.1111111111111111,\"#46039f\"],[0.2222222222222222,\"#7201a8\"],[0.3333333333333333,\"#9c179e\"],[0.4444444444444444,\"#bd3786\"],[0.5555555555555556,\"#d8576b\"],[0.6666666666666666,\"#ed7953\"],[0.7777777777777778,\"#fb9f3a\"],[0.8888888888888888,\"#fdca26\"],[1.0,\"#f0f921\"]],\"type\":\"histogram2d\"}],\"histogram\":[{\"marker\":{\"pattern\":{\"fillmode\":\"overlay\",\"size\":10,\"solidity\":0.2}},\"type\":\"histogram\"}],\"mesh3d\":[{\"colorbar\":{\"outlinewidth\":0,\"ticks\":\"\"},\"type\":\"mesh3d\"}],\"parcoords\":[{\"line\":{\"colorbar\":{\"outlinewidth\":0,\"ticks\":\"\"}},\"type\":\"parcoords\"}],\"pie\":[{\"automargin\":true,\"type\":\"pie\"}],\"scatter3d\":[{\"line\":{\"colorbar\":{\"outlinewidth\":0,\"ticks\":\"\"}},\"marker\":{\"colorbar\":{\"outlinewidth\":0,\"ticks\":\"\"}},\"type\":\"scatter3d\"}],\"scattercarpet\":[{\"marker\":{\"colorbar\":{\"outlinewidth\":0,\"ticks\":\"\"}},\"type\":\"scattercarpet\"}],\"scattergeo\":[{\"marker\":{\"colorbar\":{\"outlinewidth\":0,\"ticks\":\"\"}},\"type\":\"scattergeo\"}],\"scattergl\":[{\"marker\":{\"colorbar\":{\"outlinewidth\":0,\"ticks\":\"\"}},\"type\":\"scattergl\"}],\"scattermapbox\":[{\"marker\":{\"colorbar\":{\"outlinewidth\":0,\"ticks\":\"\"}},\"type\":\"scattermapbox\"}],\"scatterpolargl\":[{\"marker\":{\"colorbar\":{\"outlinewidth\":0,\"ticks\":\"\"}},\"type\":\"scatterpolargl\"}],\"scatterpolar\":[{\"marker\":{\"colorbar\":{\"outlinewidth\":0,\"ticks\":\"\"}},\"type\":\"scatterpolar\"}],\"scatter\":[{\"fillpattern\":{\"fillmode\":\"overlay\",\"size\":10,\"solidity\":0.2},\"type\":\"scatter\"}],\"scatterternary\":[{\"marker\":{\"colorbar\":{\"outlinewidth\":0,\"ticks\":\"\"}},\"type\":\"scatterternary\"}],\"surface\":[{\"colorbar\":{\"outlinewidth\":0,\"ticks\":\"\"},\"colorscale\":[[0.0,\"#0d0887\"],[0.1111111111111111,\"#46039f\"],[0.2222222222222222,\"#7201a8\"],[0.3333333333333333,\"#9c179e\"],[0.4444444444444444,\"#bd3786\"],[0.5555555555555556,\"#d8576b\"],[0.6666666666666666,\"#ed7953\"],[0.7777777777777778,\"#fb9f3a\"],[0.8888888888888888,\"#fdca26\"],[1.0,\"#f0f921\"]],\"type\":\"surface\"}],\"table\":[{\"cells\":{\"fill\":{\"color\":\"#EBF0F8\"},\"line\":{\"color\":\"white\"}},\"header\":{\"fill\":{\"color\":\"#C8D4E3\"},\"line\":{\"color\":\"white\"}},\"type\":\"table\"}]},\"layout\":{\"annotationdefaults\":{\"arrowcolor\":\"#2a3f5f\",\"arrowhead\":0,\"arrowwidth\":1},\"autotypenumbers\":\"strict\",\"coloraxis\":{\"colorbar\":{\"outlinewidth\":0,\"ticks\":\"\"}},\"colorscale\":{\"diverging\":[[0,\"#8e0152\"],[0.1,\"#c51b7d\"],[0.2,\"#de77ae\"],[0.3,\"#f1b6da\"],[0.4,\"#fde0ef\"],[0.5,\"#f7f7f7\"],[0.6,\"#e6f5d0\"],[0.7,\"#b8e186\"],[0.8,\"#7fbc41\"],[0.9,\"#4d9221\"],[1,\"#276419\"]],\"sequential\":[[0.0,\"#0d0887\"],[0.1111111111111111,\"#46039f\"],[0.2222222222222222,\"#7201a8\"],[0.3333333333333333,\"#9c179e\"],[0.4444444444444444,\"#bd3786\"],[0.5555555555555556,\"#d8576b\"],[0.6666666666666666,\"#ed7953\"],[0.7777777777777778,\"#fb9f3a\"],[0.8888888888888888,\"#fdca26\"],[1.0,\"#f0f921\"]],\"sequentialminus\":[[0.0,\"#0d0887\"],[0.1111111111111111,\"#46039f\"],[0.2222222222222222,\"#7201a8\"],[0.3333333333333333,\"#9c179e\"],[0.4444444444444444,\"#bd3786\"],[0.5555555555555556,\"#d8576b\"],[0.6666666666666666,\"#ed7953\"],[0.7777777777777778,\"#fb9f3a\"],[0.8888888888888888,\"#fdca26\"],[1.0,\"#f0f921\"]]},\"colorway\":[\"#636efa\",\"#EF553B\",\"#00cc96\",\"#ab63fa\",\"#FFA15A\",\"#19d3f3\",\"#FF6692\",\"#B6E880\",\"#FF97FF\",\"#FECB52\"],\"font\":{\"color\":\"#2a3f5f\"},\"geo\":{\"bgcolor\":\"white\",\"lakecolor\":\"white\",\"landcolor\":\"#E5ECF6\",\"showlakes\":true,\"showland\":true,\"subunitcolor\":\"white\"},\"hoverlabel\":{\"align\":\"left\"},\"hovermode\":\"closest\",\"mapbox\":{\"style\":\"light\"},\"paper_bgcolor\":\"white\",\"plot_bgcolor\":\"#E5ECF6\",\"polar\":{\"angularaxis\":{\"gridcolor\":\"white\",\"linecolor\":\"white\",\"ticks\":\"\"},\"bgcolor\":\"#E5ECF6\",\"radialaxis\":{\"gridcolor\":\"white\",\"linecolor\":\"white\",\"ticks\":\"\"}},\"scene\":{\"xaxis\":{\"backgroundcolor\":\"#E5ECF6\",\"gridcolor\":\"white\",\"gridwidth\":2,\"linecolor\":\"white\",\"showbackground\":true,\"ticks\":\"\",\"zerolinecolor\":\"white\"},\"yaxis\":{\"backgroundcolor\":\"#E5ECF6\",\"gridcolor\":\"white\",\"gridwidth\":2,\"linecolor\":\"white\",\"showbackground\":true,\"ticks\":\"\",\"zerolinecolor\":\"white\"},\"zaxis\":{\"backgroundcolor\":\"#E5ECF6\",\"gridcolor\":\"white\",\"gridwidth\":2,\"linecolor\":\"white\",\"showbackground\":true,\"ticks\":\"\",\"zerolinecolor\":\"white\"}},\"shapedefaults\":{\"line\":{\"color\":\"#2a3f5f\"}},\"ternary\":{\"aaxis\":{\"gridcolor\":\"white\",\"linecolor\":\"white\",\"ticks\":\"\"},\"baxis\":{\"gridcolor\":\"white\",\"linecolor\":\"white\",\"ticks\":\"\"},\"bgcolor\":\"#E5ECF6\",\"caxis\":{\"gridcolor\":\"white\",\"linecolor\":\"white\",\"ticks\":\"\"}},\"title\":{\"x\":0.05},\"xaxis\":{\"automargin\":true,\"gridcolor\":\"white\",\"linecolor\":\"white\",\"ticks\":\"\",\"title\":{\"standoff\":15},\"zerolinecolor\":\"white\",\"zerolinewidth\":2},\"yaxis\":{\"automargin\":true,\"gridcolor\":\"white\",\"linecolor\":\"white\",\"ticks\":\"\",\"title\":{\"standoff\":15},\"zerolinecolor\":\"white\",\"zerolinewidth\":2}}},\"title\":{\"font\":{\"color\":\"#4D5663\"}},\"xaxis\":{\"gridcolor\":\"#E1E5ED\",\"showgrid\":true,\"tickfont\":{\"color\":\"#4D5663\"},\"title\":{\"font\":{\"color\":\"#4D5663\"},\"text\":\"\"},\"zerolinecolor\":\"#E1E5ED\"},\"yaxis\":{\"gridcolor\":\"#E1E5ED\",\"showgrid\":true,\"tickfont\":{\"color\":\"#4D5663\"},\"title\":{\"font\":{\"color\":\"#4D5663\"},\"text\":\"\"},\"zerolinecolor\":\"#E1E5ED\"}},                        {\"showLink\": true, \"linkText\": \"Export to plot.ly\", \"plotlyServerURL\": \"https://plot.ly\", \"responsive\": true}                    ).then(function(){\n",
       "                            \n",
       "var gd = document.getElementById('6a54bf4b-7eb7-473c-acf0-da7d8f677996');\n",
       "var x = new MutationObserver(function (mutations, observer) {{\n",
       "        var display = window.getComputedStyle(gd).display;\n",
       "        if (!display || display === 'none') {{\n",
       "            console.log([gd, 'removed!']);\n",
       "            Plotly.purge(gd);\n",
       "            observer.disconnect();\n",
       "        }}\n",
       "}});\n",
       "\n",
       "// Listen for the removal of the full notebook cells\n",
       "var notebookContainer = gd.closest('#notebook-container');\n",
       "if (notebookContainer) {{\n",
       "    x.observe(notebookContainer, {childList: true});\n",
       "}}\n",
       "\n",
       "// Listen for the clearing of the current output cell\n",
       "var outputEl = gd.closest('.output');\n",
       "if (outputEl) {{\n",
       "    x.observe(outputEl, {childList: true});\n",
       "}}\n",
       "\n",
       "                        })                };                });            </script>        </div>"
      ]
     },
     "metadata": {},
     "output_type": "display_data"
    }
   ],
   "source": [
    "df.iplot(kind='box')"
   ]
  },
  {
   "cell_type": "code",
   "execution_count": 23,
   "id": "b1ee9544",
   "metadata": {},
   "outputs": [
    {
     "name": "stderr",
     "output_type": "stream",
     "text": [
      "C:\\Users\\Noor Zahra\\AppData\\Roaming\\Python\\Python310\\site-packages\\cufflinks\\plotlytools.py:849: FutureWarning:\n",
      "\n",
      "The pandas.np module is deprecated and will be removed from pandas in a future version. Import numpy directly instead.\n",
      "\n",
      "C:\\Users\\Noor Zahra\\AppData\\Roaming\\Python\\Python310\\site-packages\\cufflinks\\plotlytools.py:850: FutureWarning:\n",
      "\n",
      "The pandas.np module is deprecated and will be removed from pandas in a future version. Import numpy directly instead.\n",
      "\n"
     ]
    },
    {
     "data": {
      "application/vnd.plotly.v1+json": {
       "config": {
        "linkText": "Export to plot.ly",
        "plotlyServerURL": "https://plot.ly",
        "showLink": true
       },
       "data": [
        {
         "line": {
          "color": "rgba(255, 153, 51, 1.0)",
          "dash": "solid",
          "shape": "linear",
          "width": 1.3
         },
         "mode": "lines",
         "name": "A",
         "text": "",
         "type": "scatter",
         "x": [
          0,
          1,
          2,
          3,
          4,
          5,
          6,
          7,
          8,
          9,
          10,
          11,
          12,
          13,
          14,
          15,
          16,
          17,
          18,
          19,
          20,
          21,
          22,
          23,
          24,
          25,
          26,
          27,
          28,
          29,
          30,
          31,
          32,
          33,
          34,
          35,
          36,
          37,
          38,
          39,
          40,
          41,
          42,
          43,
          44,
          45,
          46,
          47,
          48,
          49,
          50,
          51,
          52,
          53,
          54,
          55,
          56,
          57,
          58,
          59,
          60,
          61,
          62,
          63,
          64,
          65,
          66,
          67,
          68,
          69,
          70,
          71,
          72,
          73,
          74,
          75,
          76,
          77,
          78,
          79,
          80,
          81,
          82,
          83,
          84,
          85,
          86,
          87,
          88,
          89,
          90,
          91,
          92,
          93,
          94,
          95,
          96,
          97,
          98,
          99
         ],
         "y": [
          -0.6223127097787445,
          -0.07809162236041678,
          1.7790474819468551,
          -1.4247118375561625,
          -1.4105751154601864,
          0.2188883169681857,
          -1.149465863308755,
          -0.2177532325647362,
          -1.6726587412621337,
          1.2097065375742302,
          -0.7930267396765023,
          -0.05511018197538327,
          -0.09030662425254163,
          1.1619150166121996,
          0.3097205548007712,
          0.5129277863969072,
          0.6184961590026289,
          -1.4637685018706745,
          0.4485421585261526,
          1.767822731251506,
          -1.0091554353768661,
          -0.20187565762794943,
          0.10438402542485582,
          -1.0271492803595452,
          -0.549378606146546,
          -1.0818406350966738,
          -0.7289573371488666,
          1.1198836055237327,
          0.5864148695608872,
          -0.024355589607592033,
          0.6980656079470045,
          -0.8483633384572155,
          -1.5684647526087565,
          -1.3874098606278373,
          -0.6513298563396208,
          0.6752856776403766,
          1.9572075005188447,
          0.3067879974877034,
          0.08069647639021876,
          0.013777395371240508,
          1.1497250255527611,
          -0.584868011758543,
          -0.8747816362718722,
          0.16248255497583639,
          -0.6338491218052374,
          -0.18762133433093403,
          0.7183308864619843,
          0.03892557856366659,
          -0.05835543780960389,
          0.2729009332188614,
          0.18648405784653066,
          -0.002357963793111217,
          -1.6448419115769932,
          -1.8587399276049648,
          0.9002409872304978,
          -0.3246003945946711,
          -1.7144926347993703,
          0.7149852461038438,
          0.15022217521407277,
          -2.0742708012084057,
          -1.0082255935657103,
          0.5729601043333363,
          0.7210335937747494,
          0.1605572639077616,
          0.6811849909147913,
          -1.1821625386795713,
          1.3227312433894765,
          -0.8078552803418341,
          0.5935199442620323,
          -0.35774391456928006,
          0.7460167158855326,
          0.21037620123633732,
          -0.001577946660872818,
          0.3318969809409894,
          0.29022595465192125,
          0.6093830084655928,
          -0.5964490834227272,
          -1.0873790616847774,
          0.7385065124916351,
          -1.1683892869125476,
          -0.14716717691544046,
          -0.3190296801594655,
          -1.62228312074107,
          0.0940633033641303,
          -0.7413030015954901,
          2.5468536611139574,
          -0.8553192878274413,
          -0.6214605444473837,
          -0.37590549650516025,
          -0.6887968127659998,
          -0.6023601264871187,
          0.5480051859117191,
          1.5398950046172197,
          1.171647048456549,
          -0.26945117641978844,
          1.3553267212960771,
          -1.8733178535294914,
          -0.8916742861646291,
          -0.10395184783622588,
          0.015416002948039327
         ]
        },
        {
         "line": {
          "color": "rgba(55, 128, 191, 1.0)",
          "dash": "solid",
          "shape": "linear",
          "width": 1.3
         },
         "mode": "lines",
         "name": "B",
         "text": "",
         "type": "scatter",
         "x": [
          0,
          1,
          2,
          3,
          4,
          5,
          6,
          7,
          8,
          9,
          10,
          11,
          12,
          13,
          14,
          15,
          16,
          17,
          18,
          19,
          20,
          21,
          22,
          23,
          24,
          25,
          26,
          27,
          28,
          29,
          30,
          31,
          32,
          33,
          34,
          35,
          36,
          37,
          38,
          39,
          40,
          41,
          42,
          43,
          44,
          45,
          46,
          47,
          48,
          49,
          50,
          51,
          52,
          53,
          54,
          55,
          56,
          57,
          58,
          59,
          60,
          61,
          62,
          63,
          64,
          65,
          66,
          67,
          68,
          69,
          70,
          71,
          72,
          73,
          74,
          75,
          76,
          77,
          78,
          79,
          80,
          81,
          82,
          83,
          84,
          85,
          86,
          87,
          88,
          89,
          90,
          91,
          92,
          93,
          94,
          95,
          96,
          97,
          98,
          99
         ],
         "y": [
          0.39299279759057504,
          0.9703165383850477,
          -0.3315341358806937,
          -1.5584031758162409,
          0.951523596033235,
          -0.5555846581699916,
          -1.515512553211831,
          1.9037823912410028,
          0.11998085811301533,
          -0.2799904644871162,
          0.9649601637582959,
          -0.2129880463045149,
          1.608269687420033,
          -0.9248636326249062,
          -0.14664756884169589,
          -0.047763160217688436,
          0.02140402329140558,
          0.13626631422295649,
          -1.2316106623850942,
          -1.4494740058324187,
          -0.9643096084728445,
          -1.8155834317145414,
          -1.4975399771222855,
          -2.008459460468831,
          -0.18844771209113004,
          -0.8452479670056402,
          0.2702435905254712,
          -0.08307773275515531,
          1.9925306352375145,
          -0.30011064157012196,
          -1.8416088365312053,
          1.4883897812928597,
          0.2857404107478787,
          -1.3694143183685137,
          0.34472215385367405,
          -0.7333872049097238,
          1.3796332788800656,
          -0.00901709225535108,
          0.5282371077244549,
          -1.5889248101211482,
          -0.9168030342948024,
          -0.8567400095928656,
          0.5420625354429279,
          0.3531656963293904,
          0.9516310013151971,
          1.4814305926548468,
          -0.0661783667737621,
          -0.5366522538953027,
          -1.0733680524544438,
          1.664261087255659,
          0.5546934645540875,
          -0.9498218183256268,
          1.6448795435345684,
          0.2356696285556059,
          -0.9223882563702976,
          -1.999143938093221,
          0.8469020285223882,
          0.6589074033059399,
          -0.5799192494117322,
          -0.7788733134093945,
          0.7577793943052767,
          -0.09707784030046557,
          -0.03455307170219075,
          -0.8811323416697463,
          -0.6267043083674482,
          -1.0269391048157697,
          -0.5321336972529832,
          0.8451182902588883,
          0.08662269451869511,
          0.31429709601059586,
          -0.1934184891753213,
          1.2840149281872961,
          0.555730360910625,
          0.45183765131006726,
          -0.49686842278032023,
          -0.32947519313932555,
          -1.19620746138553,
          -0.7038639841931628,
          -0.7898364183395687,
          0.7438412707540987,
          0.7414495707254729,
          1.3799733154504426,
          0.56648572675284,
          -2.50683210422878,
          0.9959654653416138,
          0.367421323759343,
          -0.46904746013665927,
          -1.1409670086342902,
          0.2598216833782342,
          -1.2902403671698264,
          0.49678766890658405,
          -0.48224628270977354,
          -0.16484644023413372,
          -1.0334851807235186,
          0.14970842234302917,
          0.7165586416171045,
          1.0511466528478781,
          2.06350190094373,
          0.32514957908412,
          0.2174187719077609
         ]
        },
        {
         "connectgaps": false,
         "fill": "tozeroy",
         "line": {
          "color": "green",
          "dash": "solid",
          "shape": "linear",
          "width": 0.5
         },
         "mode": "lines",
         "name": "Spread",
         "showlegend": false,
         "type": "scatter",
         "x": [
          0,
          1,
          2,
          3,
          4,
          5,
          6,
          7,
          8,
          9,
          10,
          11,
          12,
          13,
          14,
          15,
          16,
          17,
          18,
          19,
          20,
          21,
          22,
          23,
          24,
          25,
          26,
          27,
          28,
          29,
          30,
          31,
          32,
          33,
          34,
          35,
          36,
          37,
          38,
          39,
          40,
          41,
          42,
          43,
          44,
          45,
          46,
          47,
          48,
          49,
          50,
          51,
          52,
          53,
          54,
          55,
          56,
          57,
          58,
          59,
          60,
          61,
          62,
          63,
          64,
          65,
          66,
          67,
          68,
          69,
          70,
          71,
          72,
          73,
          74,
          75,
          76,
          77,
          78,
          79,
          80,
          81,
          82,
          83,
          84,
          85,
          86,
          87,
          88,
          89,
          90,
          91,
          92,
          93,
          94,
          95,
          96,
          97,
          98,
          99
         ],
         "xaxis": "x2",
         "y": [
          "",
          "",
          2.110581617827549,
          0.1336913382600784,
          "",
          0.7744729751381773,
          0.3660466899030759,
          "",
          "",
          1.4896970020613463,
          "",
          0.15787786432913165,
          "",
          2.0867786492371057,
          0.4563681236424671,
          0.5606909466145956,
          0.5970921357112233,
          "",
          1.6801528209112468,
          3.2172967370839247,
          "",
          1.613707774086592,
          1.6019240025471413,
          0.9813101801092856,
          "",
          "",
          "",
          1.202961338278888,
          "",
          0.2757550519625299,
          2.5396744444782096,
          "",
          "",
          "",
          "",
          1.4086728825501003,
          0.5775742216387791,
          0.3158050897430545,
          "",
          1.6027022054923887,
          2.0665280598475633,
          0.2718719978343226,
          "",
          "",
          "",
          "",
          0.7845092532357464,
          0.5755778324589693,
          1.01501261464484,
          "",
          "",
          0.9474638545325156,
          "",
          "",
          1.8226292436007956,
          1.6745435434985498,
          "",
          0.056077842797903954,
          0.730141424625805,
          "",
          "",
          0.6700379446338018,
          0.7555866654769402,
          1.041689605577508,
          1.3078892992822395,
          "",
          1.8548649406424595,
          "",
          0.5068972497433372,
          "",
          0.939435205060854,
          "",
          "",
          "",
          0.7870943774322414,
          0.9388582016049183,
          0.5997583779628028,
          "",
          1.528342930831204,
          "",
          "",
          "",
          "",
          2.6008954075929105,
          "",
          2.1794323373546143,
          "",
          0.5195064641869065,
          "",
          0.6014435544038266,
          "",
          1.0302514686214925,
          1.7047414448513534,
          2.2051322291800677,
          "",
          0.6387680796789726,
          "",
          "",
          "",
          ""
         ],
         "yaxis": "y2"
        },
        {
         "connectgaps": false,
         "fill": "tozeroy",
         "line": {
          "color": "red",
          "dash": "solid",
          "shape": "linear",
          "width": 0.5
         },
         "mode": "lines",
         "name": "Spread",
         "showlegend": false,
         "type": "scatter",
         "x": [
          0,
          1,
          2,
          3,
          4,
          5,
          6,
          7,
          8,
          9,
          10,
          11,
          12,
          13,
          14,
          15,
          16,
          17,
          18,
          19,
          20,
          21,
          22,
          23,
          24,
          25,
          26,
          27,
          28,
          29,
          30,
          31,
          32,
          33,
          34,
          35,
          36,
          37,
          38,
          39,
          40,
          41,
          42,
          43,
          44,
          45,
          46,
          47,
          48,
          49,
          50,
          51,
          52,
          53,
          54,
          55,
          56,
          57,
          58,
          59,
          60,
          61,
          62,
          63,
          64,
          65,
          66,
          67,
          68,
          69,
          70,
          71,
          72,
          73,
          74,
          75,
          76,
          77,
          78,
          79,
          80,
          81,
          82,
          83,
          84,
          85,
          86,
          87,
          88,
          89,
          90,
          91,
          92,
          93,
          94,
          95,
          96,
          97,
          98,
          99
         ],
         "xaxis": "x2",
         "y": [
          -1.0153055073693196,
          -1.0484081607454645,
          "",
          "",
          -2.3620987114934215,
          "",
          "",
          -2.121535623805739,
          -1.792639599375149,
          "",
          -1.7579869034347981,
          "",
          -1.6985763116725747,
          "",
          "",
          "",
          "",
          -1.600034816093631,
          "",
          "",
          -0.04484582690402161,
          "",
          "",
          "",
          -0.36093089405541595,
          -0.23659266809103363,
          -0.9992009276743378,
          "",
          -1.4061157656766272,
          "",
          "",
          -2.336753119750075,
          -1.8542051633566352,
          -0.01799554225932365,
          -0.9960520101932948,
          "",
          "",
          "",
          -0.4475406313342361,
          "",
          "",
          "",
          -1.4168441717148001,
          -0.190683141353554,
          -1.5854801231204345,
          -1.6690519269857809,
          "",
          "",
          "",
          -1.3913601540367975,
          -0.36820940670755686,
          "",
          -3.289721455111562,
          -2.0944095561605707,
          "",
          "",
          -2.5613946633217584,
          "",
          "",
          -1.2953974877990113,
          -1.766004987870987,
          "",
          "",
          "",
          "",
          -0.15522343386380166,
          "",
          -1.6529735706007225,
          "",
          -0.672041010579876,
          "",
          -1.0736387269509589,
          -0.5573083075714979,
          -0.11994067036907785,
          "",
          "",
          "",
          -0.3835150774916146,
          "",
          -1.9122305576666463,
          -0.8886167476409134,
          -1.699002995609908,
          -2.18876884749391,
          "",
          -1.737268466937104,
          "",
          -0.386271827690782,
          "",
          -0.6357271798833944,
          "",
          -1.0991477953937028,
          "",
          "",
          "",
          -0.4191595987628176,
          "",
          -2.9244645063773698,
          -2.955176187108359,
          -0.4291014269203459,
          -0.20200276895972158
         ],
         "yaxis": "y2"
        }
       ],
       "layout": {
        "hovermode": "x",
        "legend": {
         "bgcolor": "#F5F6F9",
         "font": {
          "color": "#4D5663"
         }
        },
        "paper_bgcolor": "#F5F6F9",
        "plot_bgcolor": "#F5F6F9",
        "template": {
         "data": {
          "bar": [
           {
            "error_x": {
             "color": "#2a3f5f"
            },
            "error_y": {
             "color": "#2a3f5f"
            },
            "marker": {
             "line": {
              "color": "#E5ECF6",
              "width": 0.5
             },
             "pattern": {
              "fillmode": "overlay",
              "size": 10,
              "solidity": 0.2
             }
            },
            "type": "bar"
           }
          ],
          "barpolar": [
           {
            "marker": {
             "line": {
              "color": "#E5ECF6",
              "width": 0.5
             },
             "pattern": {
              "fillmode": "overlay",
              "size": 10,
              "solidity": 0.2
             }
            },
            "type": "barpolar"
           }
          ],
          "carpet": [
           {
            "aaxis": {
             "endlinecolor": "#2a3f5f",
             "gridcolor": "white",
             "linecolor": "white",
             "minorgridcolor": "white",
             "startlinecolor": "#2a3f5f"
            },
            "baxis": {
             "endlinecolor": "#2a3f5f",
             "gridcolor": "white",
             "linecolor": "white",
             "minorgridcolor": "white",
             "startlinecolor": "#2a3f5f"
            },
            "type": "carpet"
           }
          ],
          "choropleth": [
           {
            "colorbar": {
             "outlinewidth": 0,
             "ticks": ""
            },
            "type": "choropleth"
           }
          ],
          "contour": [
           {
            "colorbar": {
             "outlinewidth": 0,
             "ticks": ""
            },
            "colorscale": [
             [
              0,
              "#0d0887"
             ],
             [
              0.1111111111111111,
              "#46039f"
             ],
             [
              0.2222222222222222,
              "#7201a8"
             ],
             [
              0.3333333333333333,
              "#9c179e"
             ],
             [
              0.4444444444444444,
              "#bd3786"
             ],
             [
              0.5555555555555556,
              "#d8576b"
             ],
             [
              0.6666666666666666,
              "#ed7953"
             ],
             [
              0.7777777777777778,
              "#fb9f3a"
             ],
             [
              0.8888888888888888,
              "#fdca26"
             ],
             [
              1,
              "#f0f921"
             ]
            ],
            "type": "contour"
           }
          ],
          "contourcarpet": [
           {
            "colorbar": {
             "outlinewidth": 0,
             "ticks": ""
            },
            "type": "contourcarpet"
           }
          ],
          "heatmap": [
           {
            "colorbar": {
             "outlinewidth": 0,
             "ticks": ""
            },
            "colorscale": [
             [
              0,
              "#0d0887"
             ],
             [
              0.1111111111111111,
              "#46039f"
             ],
             [
              0.2222222222222222,
              "#7201a8"
             ],
             [
              0.3333333333333333,
              "#9c179e"
             ],
             [
              0.4444444444444444,
              "#bd3786"
             ],
             [
              0.5555555555555556,
              "#d8576b"
             ],
             [
              0.6666666666666666,
              "#ed7953"
             ],
             [
              0.7777777777777778,
              "#fb9f3a"
             ],
             [
              0.8888888888888888,
              "#fdca26"
             ],
             [
              1,
              "#f0f921"
             ]
            ],
            "type": "heatmap"
           }
          ],
          "heatmapgl": [
           {
            "colorbar": {
             "outlinewidth": 0,
             "ticks": ""
            },
            "colorscale": [
             [
              0,
              "#0d0887"
             ],
             [
              0.1111111111111111,
              "#46039f"
             ],
             [
              0.2222222222222222,
              "#7201a8"
             ],
             [
              0.3333333333333333,
              "#9c179e"
             ],
             [
              0.4444444444444444,
              "#bd3786"
             ],
             [
              0.5555555555555556,
              "#d8576b"
             ],
             [
              0.6666666666666666,
              "#ed7953"
             ],
             [
              0.7777777777777778,
              "#fb9f3a"
             ],
             [
              0.8888888888888888,
              "#fdca26"
             ],
             [
              1,
              "#f0f921"
             ]
            ],
            "type": "heatmapgl"
           }
          ],
          "histogram": [
           {
            "marker": {
             "pattern": {
              "fillmode": "overlay",
              "size": 10,
              "solidity": 0.2
             }
            },
            "type": "histogram"
           }
          ],
          "histogram2d": [
           {
            "colorbar": {
             "outlinewidth": 0,
             "ticks": ""
            },
            "colorscale": [
             [
              0,
              "#0d0887"
             ],
             [
              0.1111111111111111,
              "#46039f"
             ],
             [
              0.2222222222222222,
              "#7201a8"
             ],
             [
              0.3333333333333333,
              "#9c179e"
             ],
             [
              0.4444444444444444,
              "#bd3786"
             ],
             [
              0.5555555555555556,
              "#d8576b"
             ],
             [
              0.6666666666666666,
              "#ed7953"
             ],
             [
              0.7777777777777778,
              "#fb9f3a"
             ],
             [
              0.8888888888888888,
              "#fdca26"
             ],
             [
              1,
              "#f0f921"
             ]
            ],
            "type": "histogram2d"
           }
          ],
          "histogram2dcontour": [
           {
            "colorbar": {
             "outlinewidth": 0,
             "ticks": ""
            },
            "colorscale": [
             [
              0,
              "#0d0887"
             ],
             [
              0.1111111111111111,
              "#46039f"
             ],
             [
              0.2222222222222222,
              "#7201a8"
             ],
             [
              0.3333333333333333,
              "#9c179e"
             ],
             [
              0.4444444444444444,
              "#bd3786"
             ],
             [
              0.5555555555555556,
              "#d8576b"
             ],
             [
              0.6666666666666666,
              "#ed7953"
             ],
             [
              0.7777777777777778,
              "#fb9f3a"
             ],
             [
              0.8888888888888888,
              "#fdca26"
             ],
             [
              1,
              "#f0f921"
             ]
            ],
            "type": "histogram2dcontour"
           }
          ],
          "mesh3d": [
           {
            "colorbar": {
             "outlinewidth": 0,
             "ticks": ""
            },
            "type": "mesh3d"
           }
          ],
          "parcoords": [
           {
            "line": {
             "colorbar": {
              "outlinewidth": 0,
              "ticks": ""
             }
            },
            "type": "parcoords"
           }
          ],
          "pie": [
           {
            "automargin": true,
            "type": "pie"
           }
          ],
          "scatter": [
           {
            "fillpattern": {
             "fillmode": "overlay",
             "size": 10,
             "solidity": 0.2
            },
            "type": "scatter"
           }
          ],
          "scatter3d": [
           {
            "line": {
             "colorbar": {
              "outlinewidth": 0,
              "ticks": ""
             }
            },
            "marker": {
             "colorbar": {
              "outlinewidth": 0,
              "ticks": ""
             }
            },
            "type": "scatter3d"
           }
          ],
          "scattercarpet": [
           {
            "marker": {
             "colorbar": {
              "outlinewidth": 0,
              "ticks": ""
             }
            },
            "type": "scattercarpet"
           }
          ],
          "scattergeo": [
           {
            "marker": {
             "colorbar": {
              "outlinewidth": 0,
              "ticks": ""
             }
            },
            "type": "scattergeo"
           }
          ],
          "scattergl": [
           {
            "marker": {
             "colorbar": {
              "outlinewidth": 0,
              "ticks": ""
             }
            },
            "type": "scattergl"
           }
          ],
          "scattermapbox": [
           {
            "marker": {
             "colorbar": {
              "outlinewidth": 0,
              "ticks": ""
             }
            },
            "type": "scattermapbox"
           }
          ],
          "scatterpolar": [
           {
            "marker": {
             "colorbar": {
              "outlinewidth": 0,
              "ticks": ""
             }
            },
            "type": "scatterpolar"
           }
          ],
          "scatterpolargl": [
           {
            "marker": {
             "colorbar": {
              "outlinewidth": 0,
              "ticks": ""
             }
            },
            "type": "scatterpolargl"
           }
          ],
          "scatterternary": [
           {
            "marker": {
             "colorbar": {
              "outlinewidth": 0,
              "ticks": ""
             }
            },
            "type": "scatterternary"
           }
          ],
          "surface": [
           {
            "colorbar": {
             "outlinewidth": 0,
             "ticks": ""
            },
            "colorscale": [
             [
              0,
              "#0d0887"
             ],
             [
              0.1111111111111111,
              "#46039f"
             ],
             [
              0.2222222222222222,
              "#7201a8"
             ],
             [
              0.3333333333333333,
              "#9c179e"
             ],
             [
              0.4444444444444444,
              "#bd3786"
             ],
             [
              0.5555555555555556,
              "#d8576b"
             ],
             [
              0.6666666666666666,
              "#ed7953"
             ],
             [
              0.7777777777777778,
              "#fb9f3a"
             ],
             [
              0.8888888888888888,
              "#fdca26"
             ],
             [
              1,
              "#f0f921"
             ]
            ],
            "type": "surface"
           }
          ],
          "table": [
           {
            "cells": {
             "fill": {
              "color": "#EBF0F8"
             },
             "line": {
              "color": "white"
             }
            },
            "header": {
             "fill": {
              "color": "#C8D4E3"
             },
             "line": {
              "color": "white"
             }
            },
            "type": "table"
           }
          ]
         },
         "layout": {
          "annotationdefaults": {
           "arrowcolor": "#2a3f5f",
           "arrowhead": 0,
           "arrowwidth": 1
          },
          "autotypenumbers": "strict",
          "coloraxis": {
           "colorbar": {
            "outlinewidth": 0,
            "ticks": ""
           }
          },
          "colorscale": {
           "diverging": [
            [
             0,
             "#8e0152"
            ],
            [
             0.1,
             "#c51b7d"
            ],
            [
             0.2,
             "#de77ae"
            ],
            [
             0.3,
             "#f1b6da"
            ],
            [
             0.4,
             "#fde0ef"
            ],
            [
             0.5,
             "#f7f7f7"
            ],
            [
             0.6,
             "#e6f5d0"
            ],
            [
             0.7,
             "#b8e186"
            ],
            [
             0.8,
             "#7fbc41"
            ],
            [
             0.9,
             "#4d9221"
            ],
            [
             1,
             "#276419"
            ]
           ],
           "sequential": [
            [
             0,
             "#0d0887"
            ],
            [
             0.1111111111111111,
             "#46039f"
            ],
            [
             0.2222222222222222,
             "#7201a8"
            ],
            [
             0.3333333333333333,
             "#9c179e"
            ],
            [
             0.4444444444444444,
             "#bd3786"
            ],
            [
             0.5555555555555556,
             "#d8576b"
            ],
            [
             0.6666666666666666,
             "#ed7953"
            ],
            [
             0.7777777777777778,
             "#fb9f3a"
            ],
            [
             0.8888888888888888,
             "#fdca26"
            ],
            [
             1,
             "#f0f921"
            ]
           ],
           "sequentialminus": [
            [
             0,
             "#0d0887"
            ],
            [
             0.1111111111111111,
             "#46039f"
            ],
            [
             0.2222222222222222,
             "#7201a8"
            ],
            [
             0.3333333333333333,
             "#9c179e"
            ],
            [
             0.4444444444444444,
             "#bd3786"
            ],
            [
             0.5555555555555556,
             "#d8576b"
            ],
            [
             0.6666666666666666,
             "#ed7953"
            ],
            [
             0.7777777777777778,
             "#fb9f3a"
            ],
            [
             0.8888888888888888,
             "#fdca26"
            ],
            [
             1,
             "#f0f921"
            ]
           ]
          },
          "colorway": [
           "#636efa",
           "#EF553B",
           "#00cc96",
           "#ab63fa",
           "#FFA15A",
           "#19d3f3",
           "#FF6692",
           "#B6E880",
           "#FF97FF",
           "#FECB52"
          ],
          "font": {
           "color": "#2a3f5f"
          },
          "geo": {
           "bgcolor": "white",
           "lakecolor": "white",
           "landcolor": "#E5ECF6",
           "showlakes": true,
           "showland": true,
           "subunitcolor": "white"
          },
          "hoverlabel": {
           "align": "left"
          },
          "hovermode": "closest",
          "mapbox": {
           "style": "light"
          },
          "paper_bgcolor": "white",
          "plot_bgcolor": "#E5ECF6",
          "polar": {
           "angularaxis": {
            "gridcolor": "white",
            "linecolor": "white",
            "ticks": ""
           },
           "bgcolor": "#E5ECF6",
           "radialaxis": {
            "gridcolor": "white",
            "linecolor": "white",
            "ticks": ""
           }
          },
          "scene": {
           "xaxis": {
            "backgroundcolor": "#E5ECF6",
            "gridcolor": "white",
            "gridwidth": 2,
            "linecolor": "white",
            "showbackground": true,
            "ticks": "",
            "zerolinecolor": "white"
           },
           "yaxis": {
            "backgroundcolor": "#E5ECF6",
            "gridcolor": "white",
            "gridwidth": 2,
            "linecolor": "white",
            "showbackground": true,
            "ticks": "",
            "zerolinecolor": "white"
           },
           "zaxis": {
            "backgroundcolor": "#E5ECF6",
            "gridcolor": "white",
            "gridwidth": 2,
            "linecolor": "white",
            "showbackground": true,
            "ticks": "",
            "zerolinecolor": "white"
           }
          },
          "shapedefaults": {
           "line": {
            "color": "#2a3f5f"
           }
          },
          "ternary": {
           "aaxis": {
            "gridcolor": "white",
            "linecolor": "white",
            "ticks": ""
           },
           "baxis": {
            "gridcolor": "white",
            "linecolor": "white",
            "ticks": ""
           },
           "bgcolor": "#E5ECF6",
           "caxis": {
            "gridcolor": "white",
            "linecolor": "white",
            "ticks": ""
           }
          },
          "title": {
           "x": 0.05
          },
          "xaxis": {
           "automargin": true,
           "gridcolor": "white",
           "linecolor": "white",
           "ticks": "",
           "title": {
            "standoff": 15
           },
           "zerolinecolor": "white",
           "zerolinewidth": 2
          },
          "yaxis": {
           "automargin": true,
           "gridcolor": "white",
           "linecolor": "white",
           "ticks": "",
           "title": {
            "standoff": 15
           },
           "zerolinecolor": "white",
           "zerolinewidth": 2
          }
         }
        },
        "title": {
         "font": {
          "color": "#4D5663"
         }
        },
        "xaxis": {
         "gridcolor": "#E1E5ED",
         "showgrid": true,
         "tickfont": {
          "color": "#4D5663"
         },
         "title": {
          "font": {
           "color": "#4D5663"
          },
          "text": ""
         },
         "zerolinecolor": "#E1E5ED"
        },
        "xaxis2": {
         "anchor": "y2",
         "gridcolor": "#E1E5ED",
         "showgrid": true,
         "showticklabels": false,
         "tickfont": {
          "color": "#4D5663"
         },
         "title": {
          "font": {
           "color": "#4D5663"
          },
          "text": ""
         },
         "zerolinecolor": "#E1E5ED"
        },
        "yaxis": {
         "domain": [
          0.3,
          1
         ],
         "gridcolor": "#E1E5ED",
         "showgrid": true,
         "tickfont": {
          "color": "#4D5663"
         },
         "title": {
          "font": {
           "color": "#4D5663"
          },
          "text": ""
         },
         "zerolinecolor": "#E1E5ED"
        },
        "yaxis2": {
         "domain": [
          0,
          0.25
         ],
         "gridcolor": "#E1E5ED",
         "showgrid": true,
         "tickfont": {
          "color": "#4D5663"
         },
         "title": {
          "font": {
           "color": "#4D5663"
          },
          "text": "Spread"
         },
         "zerolinecolor": "#E1E5ED"
        }
       }
      },
      "text/html": [
       "<div>                            <div id=\"898d37f2-925b-4bc5-91cf-60fc8d2c177e\" class=\"plotly-graph-div\" style=\"height:525px; width:100%;\"></div>            <script type=\"text/javascript\">                require([\"plotly\"], function(Plotly) {                    window.PLOTLYENV=window.PLOTLYENV || {};\n",
       "                    window.PLOTLYENV.BASE_URL='https://plot.ly';                                    if (document.getElementById(\"898d37f2-925b-4bc5-91cf-60fc8d2c177e\")) {                    Plotly.newPlot(                        \"898d37f2-925b-4bc5-91cf-60fc8d2c177e\",                        [{\"line\":{\"color\":\"rgba(255, 153, 51, 1.0)\",\"dash\":\"solid\",\"shape\":\"linear\",\"width\":1.3},\"mode\":\"lines\",\"name\":\"A\",\"text\":\"\",\"x\":[0,1,2,3,4,5,6,7,8,9,10,11,12,13,14,15,16,17,18,19,20,21,22,23,24,25,26,27,28,29,30,31,32,33,34,35,36,37,38,39,40,41,42,43,44,45,46,47,48,49,50,51,52,53,54,55,56,57,58,59,60,61,62,63,64,65,66,67,68,69,70,71,72,73,74,75,76,77,78,79,80,81,82,83,84,85,86,87,88,89,90,91,92,93,94,95,96,97,98,99],\"y\":[-0.6223127097787445,-0.07809162236041678,1.7790474819468551,-1.4247118375561625,-1.4105751154601864,0.2188883169681857,-1.149465863308755,-0.2177532325647362,-1.6726587412621337,1.2097065375742302,-0.7930267396765023,-0.05511018197538327,-0.09030662425254163,1.1619150166121996,0.3097205548007712,0.5129277863969072,0.6184961590026289,-1.4637685018706745,0.4485421585261526,1.767822731251506,-1.0091554353768661,-0.20187565762794943,0.10438402542485582,-1.0271492803595452,-0.549378606146546,-1.0818406350966738,-0.7289573371488666,1.1198836055237327,0.5864148695608872,-0.024355589607592033,0.6980656079470045,-0.8483633384572155,-1.5684647526087565,-1.3874098606278373,-0.6513298563396208,0.6752856776403766,1.9572075005188447,0.3067879974877034,0.08069647639021876,0.013777395371240508,1.1497250255527611,-0.584868011758543,-0.8747816362718722,0.16248255497583639,-0.6338491218052374,-0.18762133433093403,0.7183308864619843,0.03892557856366659,-0.05835543780960389,0.2729009332188614,0.18648405784653066,-0.002357963793111217,-1.6448419115769932,-1.8587399276049648,0.9002409872304978,-0.3246003945946711,-1.7144926347993703,0.7149852461038438,0.15022217521407277,-2.0742708012084057,-1.0082255935657103,0.5729601043333363,0.7210335937747494,0.1605572639077616,0.6811849909147913,-1.1821625386795713,1.3227312433894765,-0.8078552803418341,0.5935199442620323,-0.35774391456928006,0.7460167158855326,0.21037620123633732,-0.001577946660872818,0.3318969809409894,0.29022595465192125,0.6093830084655928,-0.5964490834227272,-1.0873790616847774,0.7385065124916351,-1.1683892869125476,-0.14716717691544046,-0.3190296801594655,-1.62228312074107,0.0940633033641303,-0.7413030015954901,2.5468536611139574,-0.8553192878274413,-0.6214605444473837,-0.37590549650516025,-0.6887968127659998,-0.6023601264871187,0.5480051859117191,1.5398950046172197,1.171647048456549,-0.26945117641978844,1.3553267212960771,-1.8733178535294914,-0.8916742861646291,-0.10395184783622588,0.015416002948039327],\"type\":\"scatter\"},{\"line\":{\"color\":\"rgba(55, 128, 191, 1.0)\",\"dash\":\"solid\",\"shape\":\"linear\",\"width\":1.3},\"mode\":\"lines\",\"name\":\"B\",\"text\":\"\",\"x\":[0,1,2,3,4,5,6,7,8,9,10,11,12,13,14,15,16,17,18,19,20,21,22,23,24,25,26,27,28,29,30,31,32,33,34,35,36,37,38,39,40,41,42,43,44,45,46,47,48,49,50,51,52,53,54,55,56,57,58,59,60,61,62,63,64,65,66,67,68,69,70,71,72,73,74,75,76,77,78,79,80,81,82,83,84,85,86,87,88,89,90,91,92,93,94,95,96,97,98,99],\"y\":[0.39299279759057504,0.9703165383850477,-0.3315341358806937,-1.5584031758162409,0.951523596033235,-0.5555846581699916,-1.515512553211831,1.9037823912410028,0.11998085811301533,-0.2799904644871162,0.9649601637582959,-0.2129880463045149,1.608269687420033,-0.9248636326249062,-0.14664756884169589,-0.047763160217688436,0.02140402329140558,0.13626631422295649,-1.2316106623850942,-1.4494740058324187,-0.9643096084728445,-1.8155834317145414,-1.4975399771222855,-2.008459460468831,-0.18844771209113004,-0.8452479670056402,0.2702435905254712,-0.08307773275515531,1.9925306352375145,-0.30011064157012196,-1.8416088365312053,1.4883897812928597,0.2857404107478787,-1.3694143183685137,0.34472215385367405,-0.7333872049097238,1.3796332788800656,-0.00901709225535108,0.5282371077244549,-1.5889248101211482,-0.9168030342948024,-0.8567400095928656,0.5420625354429279,0.3531656963293904,0.9516310013151971,1.4814305926548468,-0.0661783667737621,-0.5366522538953027,-1.0733680524544438,1.664261087255659,0.5546934645540875,-0.9498218183256268,1.6448795435345684,0.2356696285556059,-0.9223882563702976,-1.999143938093221,0.8469020285223882,0.6589074033059399,-0.5799192494117322,-0.7788733134093945,0.7577793943052767,-0.09707784030046557,-0.03455307170219075,-0.8811323416697463,-0.6267043083674482,-1.0269391048157697,-0.5321336972529832,0.8451182902588883,0.08662269451869511,0.31429709601059586,-0.1934184891753213,1.2840149281872961,0.555730360910625,0.45183765131006726,-0.49686842278032023,-0.32947519313932555,-1.19620746138553,-0.7038639841931628,-0.7898364183395687,0.7438412707540987,0.7414495707254729,1.3799733154504426,0.56648572675284,-2.50683210422878,0.9959654653416138,0.367421323759343,-0.46904746013665927,-1.1409670086342902,0.2598216833782342,-1.2902403671698264,0.49678766890658405,-0.48224628270977354,-0.16484644023413372,-1.0334851807235186,0.14970842234302917,0.7165586416171045,1.0511466528478781,2.06350190094373,0.32514957908412,0.2174187719077609],\"type\":\"scatter\"},{\"connectgaps\":false,\"fill\":\"tozeroy\",\"line\":{\"color\":\"green\",\"dash\":\"solid\",\"shape\":\"linear\",\"width\":0.5},\"mode\":\"lines\",\"name\":\"Spread\",\"showlegend\":false,\"x\":[0,1,2,3,4,5,6,7,8,9,10,11,12,13,14,15,16,17,18,19,20,21,22,23,24,25,26,27,28,29,30,31,32,33,34,35,36,37,38,39,40,41,42,43,44,45,46,47,48,49,50,51,52,53,54,55,56,57,58,59,60,61,62,63,64,65,66,67,68,69,70,71,72,73,74,75,76,77,78,79,80,81,82,83,84,85,86,87,88,89,90,91,92,93,94,95,96,97,98,99],\"xaxis\":\"x2\",\"y\":[\"\",\"\",2.110581617827549,0.1336913382600784,\"\",0.7744729751381773,0.3660466899030759,\"\",\"\",1.4896970020613463,\"\",0.15787786432913165,\"\",2.0867786492371057,0.4563681236424671,0.5606909466145956,0.5970921357112233,\"\",1.6801528209112468,3.2172967370839247,\"\",1.613707774086592,1.6019240025471413,0.9813101801092856,\"\",\"\",\"\",1.202961338278888,\"\",0.2757550519625299,2.5396744444782096,\"\",\"\",\"\",\"\",1.4086728825501003,0.5775742216387791,0.3158050897430545,\"\",1.6027022054923887,2.0665280598475633,0.2718719978343226,\"\",\"\",\"\",\"\",0.7845092532357464,0.5755778324589693,1.01501261464484,\"\",\"\",0.9474638545325156,\"\",\"\",1.8226292436007956,1.6745435434985498,\"\",0.056077842797903954,0.730141424625805,\"\",\"\",0.6700379446338018,0.7555866654769402,1.041689605577508,1.3078892992822395,\"\",1.8548649406424595,\"\",0.5068972497433372,\"\",0.939435205060854,\"\",\"\",\"\",0.7870943774322414,0.9388582016049183,0.5997583779628028,\"\",1.528342930831204,\"\",\"\",\"\",\"\",2.6008954075929105,\"\",2.1794323373546143,\"\",0.5195064641869065,\"\",0.6014435544038266,\"\",1.0302514686214925,1.7047414448513534,2.2051322291800677,\"\",0.6387680796789726,\"\",\"\",\"\",\"\"],\"yaxis\":\"y2\",\"type\":\"scatter\"},{\"connectgaps\":false,\"fill\":\"tozeroy\",\"line\":{\"color\":\"red\",\"dash\":\"solid\",\"shape\":\"linear\",\"width\":0.5},\"mode\":\"lines\",\"name\":\"Spread\",\"showlegend\":false,\"x\":[0,1,2,3,4,5,6,7,8,9,10,11,12,13,14,15,16,17,18,19,20,21,22,23,24,25,26,27,28,29,30,31,32,33,34,35,36,37,38,39,40,41,42,43,44,45,46,47,48,49,50,51,52,53,54,55,56,57,58,59,60,61,62,63,64,65,66,67,68,69,70,71,72,73,74,75,76,77,78,79,80,81,82,83,84,85,86,87,88,89,90,91,92,93,94,95,96,97,98,99],\"xaxis\":\"x2\",\"y\":[-1.0153055073693196,-1.0484081607454645,\"\",\"\",-2.3620987114934215,\"\",\"\",-2.121535623805739,-1.792639599375149,\"\",-1.7579869034347981,\"\",-1.6985763116725747,\"\",\"\",\"\",\"\",-1.600034816093631,\"\",\"\",-0.04484582690402161,\"\",\"\",\"\",-0.36093089405541595,-0.23659266809103363,-0.9992009276743378,\"\",-1.4061157656766272,\"\",\"\",-2.336753119750075,-1.8542051633566352,-0.01799554225932365,-0.9960520101932948,\"\",\"\",\"\",-0.4475406313342361,\"\",\"\",\"\",-1.4168441717148001,-0.190683141353554,-1.5854801231204345,-1.6690519269857809,\"\",\"\",\"\",-1.3913601540367975,-0.36820940670755686,\"\",-3.289721455111562,-2.0944095561605707,\"\",\"\",-2.5613946633217584,\"\",\"\",-1.2953974877990113,-1.766004987870987,\"\",\"\",\"\",\"\",-0.15522343386380166,\"\",-1.6529735706007225,\"\",-0.672041010579876,\"\",-1.0736387269509589,-0.5573083075714979,-0.11994067036907785,\"\",\"\",\"\",-0.3835150774916146,\"\",-1.9122305576666463,-0.8886167476409134,-1.699002995609908,-2.18876884749391,\"\",-1.737268466937104,\"\",-0.386271827690782,\"\",-0.6357271798833944,\"\",-1.0991477953937028,\"\",\"\",\"\",-0.4191595987628176,\"\",-2.9244645063773698,-2.955176187108359,-0.4291014269203459,-0.20200276895972158],\"yaxis\":\"y2\",\"type\":\"scatter\"}],                        {\"hovermode\":\"x\",\"legend\":{\"bgcolor\":\"#F5F6F9\",\"font\":{\"color\":\"#4D5663\"}},\"paper_bgcolor\":\"#F5F6F9\",\"plot_bgcolor\":\"#F5F6F9\",\"template\":{\"data\":{\"barpolar\":[{\"marker\":{\"line\":{\"color\":\"#E5ECF6\",\"width\":0.5},\"pattern\":{\"fillmode\":\"overlay\",\"size\":10,\"solidity\":0.2}},\"type\":\"barpolar\"}],\"bar\":[{\"error_x\":{\"color\":\"#2a3f5f\"},\"error_y\":{\"color\":\"#2a3f5f\"},\"marker\":{\"line\":{\"color\":\"#E5ECF6\",\"width\":0.5},\"pattern\":{\"fillmode\":\"overlay\",\"size\":10,\"solidity\":0.2}},\"type\":\"bar\"}],\"carpet\":[{\"aaxis\":{\"endlinecolor\":\"#2a3f5f\",\"gridcolor\":\"white\",\"linecolor\":\"white\",\"minorgridcolor\":\"white\",\"startlinecolor\":\"#2a3f5f\"},\"baxis\":{\"endlinecolor\":\"#2a3f5f\",\"gridcolor\":\"white\",\"linecolor\":\"white\",\"minorgridcolor\":\"white\",\"startlinecolor\":\"#2a3f5f\"},\"type\":\"carpet\"}],\"choropleth\":[{\"colorbar\":{\"outlinewidth\":0,\"ticks\":\"\"},\"type\":\"choropleth\"}],\"contourcarpet\":[{\"colorbar\":{\"outlinewidth\":0,\"ticks\":\"\"},\"type\":\"contourcarpet\"}],\"contour\":[{\"colorbar\":{\"outlinewidth\":0,\"ticks\":\"\"},\"colorscale\":[[0.0,\"#0d0887\"],[0.1111111111111111,\"#46039f\"],[0.2222222222222222,\"#7201a8\"],[0.3333333333333333,\"#9c179e\"],[0.4444444444444444,\"#bd3786\"],[0.5555555555555556,\"#d8576b\"],[0.6666666666666666,\"#ed7953\"],[0.7777777777777778,\"#fb9f3a\"],[0.8888888888888888,\"#fdca26\"],[1.0,\"#f0f921\"]],\"type\":\"contour\"}],\"heatmapgl\":[{\"colorbar\":{\"outlinewidth\":0,\"ticks\":\"\"},\"colorscale\":[[0.0,\"#0d0887\"],[0.1111111111111111,\"#46039f\"],[0.2222222222222222,\"#7201a8\"],[0.3333333333333333,\"#9c179e\"],[0.4444444444444444,\"#bd3786\"],[0.5555555555555556,\"#d8576b\"],[0.6666666666666666,\"#ed7953\"],[0.7777777777777778,\"#fb9f3a\"],[0.8888888888888888,\"#fdca26\"],[1.0,\"#f0f921\"]],\"type\":\"heatmapgl\"}],\"heatmap\":[{\"colorbar\":{\"outlinewidth\":0,\"ticks\":\"\"},\"colorscale\":[[0.0,\"#0d0887\"],[0.1111111111111111,\"#46039f\"],[0.2222222222222222,\"#7201a8\"],[0.3333333333333333,\"#9c179e\"],[0.4444444444444444,\"#bd3786\"],[0.5555555555555556,\"#d8576b\"],[0.6666666666666666,\"#ed7953\"],[0.7777777777777778,\"#fb9f3a\"],[0.8888888888888888,\"#fdca26\"],[1.0,\"#f0f921\"]],\"type\":\"heatmap\"}],\"histogram2dcontour\":[{\"colorbar\":{\"outlinewidth\":0,\"ticks\":\"\"},\"colorscale\":[[0.0,\"#0d0887\"],[0.1111111111111111,\"#46039f\"],[0.2222222222222222,\"#7201a8\"],[0.3333333333333333,\"#9c179e\"],[0.4444444444444444,\"#bd3786\"],[0.5555555555555556,\"#d8576b\"],[0.6666666666666666,\"#ed7953\"],[0.7777777777777778,\"#fb9f3a\"],[0.8888888888888888,\"#fdca26\"],[1.0,\"#f0f921\"]],\"type\":\"histogram2dcontour\"}],\"histogram2d\":[{\"colorbar\":{\"outlinewidth\":0,\"ticks\":\"\"},\"colorscale\":[[0.0,\"#0d0887\"],[0.1111111111111111,\"#46039f\"],[0.2222222222222222,\"#7201a8\"],[0.3333333333333333,\"#9c179e\"],[0.4444444444444444,\"#bd3786\"],[0.5555555555555556,\"#d8576b\"],[0.6666666666666666,\"#ed7953\"],[0.7777777777777778,\"#fb9f3a\"],[0.8888888888888888,\"#fdca26\"],[1.0,\"#f0f921\"]],\"type\":\"histogram2d\"}],\"histogram\":[{\"marker\":{\"pattern\":{\"fillmode\":\"overlay\",\"size\":10,\"solidity\":0.2}},\"type\":\"histogram\"}],\"mesh3d\":[{\"colorbar\":{\"outlinewidth\":0,\"ticks\":\"\"},\"type\":\"mesh3d\"}],\"parcoords\":[{\"line\":{\"colorbar\":{\"outlinewidth\":0,\"ticks\":\"\"}},\"type\":\"parcoords\"}],\"pie\":[{\"automargin\":true,\"type\":\"pie\"}],\"scatter3d\":[{\"line\":{\"colorbar\":{\"outlinewidth\":0,\"ticks\":\"\"}},\"marker\":{\"colorbar\":{\"outlinewidth\":0,\"ticks\":\"\"}},\"type\":\"scatter3d\"}],\"scattercarpet\":[{\"marker\":{\"colorbar\":{\"outlinewidth\":0,\"ticks\":\"\"}},\"type\":\"scattercarpet\"}],\"scattergeo\":[{\"marker\":{\"colorbar\":{\"outlinewidth\":0,\"ticks\":\"\"}},\"type\":\"scattergeo\"}],\"scattergl\":[{\"marker\":{\"colorbar\":{\"outlinewidth\":0,\"ticks\":\"\"}},\"type\":\"scattergl\"}],\"scattermapbox\":[{\"marker\":{\"colorbar\":{\"outlinewidth\":0,\"ticks\":\"\"}},\"type\":\"scattermapbox\"}],\"scatterpolargl\":[{\"marker\":{\"colorbar\":{\"outlinewidth\":0,\"ticks\":\"\"}},\"type\":\"scatterpolargl\"}],\"scatterpolar\":[{\"marker\":{\"colorbar\":{\"outlinewidth\":0,\"ticks\":\"\"}},\"type\":\"scatterpolar\"}],\"scatter\":[{\"fillpattern\":{\"fillmode\":\"overlay\",\"size\":10,\"solidity\":0.2},\"type\":\"scatter\"}],\"scatterternary\":[{\"marker\":{\"colorbar\":{\"outlinewidth\":0,\"ticks\":\"\"}},\"type\":\"scatterternary\"}],\"surface\":[{\"colorbar\":{\"outlinewidth\":0,\"ticks\":\"\"},\"colorscale\":[[0.0,\"#0d0887\"],[0.1111111111111111,\"#46039f\"],[0.2222222222222222,\"#7201a8\"],[0.3333333333333333,\"#9c179e\"],[0.4444444444444444,\"#bd3786\"],[0.5555555555555556,\"#d8576b\"],[0.6666666666666666,\"#ed7953\"],[0.7777777777777778,\"#fb9f3a\"],[0.8888888888888888,\"#fdca26\"],[1.0,\"#f0f921\"]],\"type\":\"surface\"}],\"table\":[{\"cells\":{\"fill\":{\"color\":\"#EBF0F8\"},\"line\":{\"color\":\"white\"}},\"header\":{\"fill\":{\"color\":\"#C8D4E3\"},\"line\":{\"color\":\"white\"}},\"type\":\"table\"}]},\"layout\":{\"annotationdefaults\":{\"arrowcolor\":\"#2a3f5f\",\"arrowhead\":0,\"arrowwidth\":1},\"autotypenumbers\":\"strict\",\"coloraxis\":{\"colorbar\":{\"outlinewidth\":0,\"ticks\":\"\"}},\"colorscale\":{\"diverging\":[[0,\"#8e0152\"],[0.1,\"#c51b7d\"],[0.2,\"#de77ae\"],[0.3,\"#f1b6da\"],[0.4,\"#fde0ef\"],[0.5,\"#f7f7f7\"],[0.6,\"#e6f5d0\"],[0.7,\"#b8e186\"],[0.8,\"#7fbc41\"],[0.9,\"#4d9221\"],[1,\"#276419\"]],\"sequential\":[[0.0,\"#0d0887\"],[0.1111111111111111,\"#46039f\"],[0.2222222222222222,\"#7201a8\"],[0.3333333333333333,\"#9c179e\"],[0.4444444444444444,\"#bd3786\"],[0.5555555555555556,\"#d8576b\"],[0.6666666666666666,\"#ed7953\"],[0.7777777777777778,\"#fb9f3a\"],[0.8888888888888888,\"#fdca26\"],[1.0,\"#f0f921\"]],\"sequentialminus\":[[0.0,\"#0d0887\"],[0.1111111111111111,\"#46039f\"],[0.2222222222222222,\"#7201a8\"],[0.3333333333333333,\"#9c179e\"],[0.4444444444444444,\"#bd3786\"],[0.5555555555555556,\"#d8576b\"],[0.6666666666666666,\"#ed7953\"],[0.7777777777777778,\"#fb9f3a\"],[0.8888888888888888,\"#fdca26\"],[1.0,\"#f0f921\"]]},\"colorway\":[\"#636efa\",\"#EF553B\",\"#00cc96\",\"#ab63fa\",\"#FFA15A\",\"#19d3f3\",\"#FF6692\",\"#B6E880\",\"#FF97FF\",\"#FECB52\"],\"font\":{\"color\":\"#2a3f5f\"},\"geo\":{\"bgcolor\":\"white\",\"lakecolor\":\"white\",\"landcolor\":\"#E5ECF6\",\"showlakes\":true,\"showland\":true,\"subunitcolor\":\"white\"},\"hoverlabel\":{\"align\":\"left\"},\"hovermode\":\"closest\",\"mapbox\":{\"style\":\"light\"},\"paper_bgcolor\":\"white\",\"plot_bgcolor\":\"#E5ECF6\",\"polar\":{\"angularaxis\":{\"gridcolor\":\"white\",\"linecolor\":\"white\",\"ticks\":\"\"},\"bgcolor\":\"#E5ECF6\",\"radialaxis\":{\"gridcolor\":\"white\",\"linecolor\":\"white\",\"ticks\":\"\"}},\"scene\":{\"xaxis\":{\"backgroundcolor\":\"#E5ECF6\",\"gridcolor\":\"white\",\"gridwidth\":2,\"linecolor\":\"white\",\"showbackground\":true,\"ticks\":\"\",\"zerolinecolor\":\"white\"},\"yaxis\":{\"backgroundcolor\":\"#E5ECF6\",\"gridcolor\":\"white\",\"gridwidth\":2,\"linecolor\":\"white\",\"showbackground\":true,\"ticks\":\"\",\"zerolinecolor\":\"white\"},\"zaxis\":{\"backgroundcolor\":\"#E5ECF6\",\"gridcolor\":\"white\",\"gridwidth\":2,\"linecolor\":\"white\",\"showbackground\":true,\"ticks\":\"\",\"zerolinecolor\":\"white\"}},\"shapedefaults\":{\"line\":{\"color\":\"#2a3f5f\"}},\"ternary\":{\"aaxis\":{\"gridcolor\":\"white\",\"linecolor\":\"white\",\"ticks\":\"\"},\"baxis\":{\"gridcolor\":\"white\",\"linecolor\":\"white\",\"ticks\":\"\"},\"bgcolor\":\"#E5ECF6\",\"caxis\":{\"gridcolor\":\"white\",\"linecolor\":\"white\",\"ticks\":\"\"}},\"title\":{\"x\":0.05},\"xaxis\":{\"automargin\":true,\"gridcolor\":\"white\",\"linecolor\":\"white\",\"ticks\":\"\",\"title\":{\"standoff\":15},\"zerolinecolor\":\"white\",\"zerolinewidth\":2},\"yaxis\":{\"automargin\":true,\"gridcolor\":\"white\",\"linecolor\":\"white\",\"ticks\":\"\",\"title\":{\"standoff\":15},\"zerolinecolor\":\"white\",\"zerolinewidth\":2}}},\"title\":{\"font\":{\"color\":\"#4D5663\"}},\"xaxis\":{\"gridcolor\":\"#E1E5ED\",\"showgrid\":true,\"tickfont\":{\"color\":\"#4D5663\"},\"title\":{\"font\":{\"color\":\"#4D5663\"},\"text\":\"\"},\"zerolinecolor\":\"#E1E5ED\"},\"yaxis\":{\"domain\":[0.3,1],\"gridcolor\":\"#E1E5ED\",\"showgrid\":true,\"tickfont\":{\"color\":\"#4D5663\"},\"title\":{\"font\":{\"color\":\"#4D5663\"},\"text\":\"\"},\"zerolinecolor\":\"#E1E5ED\"},\"yaxis2\":{\"domain\":[0,0.25],\"gridcolor\":\"#E1E5ED\",\"showgrid\":true,\"tickfont\":{\"color\":\"#4D5663\"},\"title\":{\"font\":{\"color\":\"#4D5663\"},\"text\":\"Spread\"},\"zerolinecolor\":\"#E1E5ED\"},\"xaxis2\":{\"anchor\":\"y2\",\"gridcolor\":\"#E1E5ED\",\"showgrid\":true,\"showticklabels\":false,\"tickfont\":{\"color\":\"#4D5663\"},\"title\":{\"font\":{\"color\":\"#4D5663\"},\"text\":\"\"},\"zerolinecolor\":\"#E1E5ED\"}},                        {\"showLink\": true, \"linkText\": \"Export to plot.ly\", \"plotlyServerURL\": \"https://plot.ly\", \"responsive\": true}                    ).then(function(){\n",
       "                            \n",
       "var gd = document.getElementById('898d37f2-925b-4bc5-91cf-60fc8d2c177e');\n",
       "var x = new MutationObserver(function (mutations, observer) {{\n",
       "        var display = window.getComputedStyle(gd).display;\n",
       "        if (!display || display === 'none') {{\n",
       "            console.log([gd, 'removed!']);\n",
       "            Plotly.purge(gd);\n",
       "            observer.disconnect();\n",
       "        }}\n",
       "}});\n",
       "\n",
       "// Listen for the removal of the full notebook cells\n",
       "var notebookContainer = gd.closest('#notebook-container');\n",
       "if (notebookContainer) {{\n",
       "    x.observe(notebookContainer, {childList: true});\n",
       "}}\n",
       "\n",
       "// Listen for the clearing of the current output cell\n",
       "var outputEl = gd.closest('.output');\n",
       "if (outputEl) {{\n",
       "    x.observe(outputEl, {childList: true});\n",
       "}}\n",
       "\n",
       "                        })                };                });            </script>        </div>"
      ]
     },
     "metadata": {},
     "output_type": "display_data"
    }
   ],
   "source": [
    "df[['A','B']].iplot(kind='spread')"
   ]
  },
  {
   "cell_type": "code",
   "execution_count": 24,
   "id": "08bcf519",
   "metadata": {},
   "outputs": [
    {
     "data": {
      "application/vnd.plotly.v1+json": {
       "config": {
        "linkText": "Export to plot.ly",
        "plotlyServerURL": "https://plot.ly",
        "showLink": true
       },
       "data": [
        {
         "histfunc": "count",
         "histnorm": "",
         "marker": {
          "color": "rgba(255, 153, 51, 1.0)",
          "line": {
           "color": "#4D5663",
           "width": 1.3
          }
         },
         "name": "A",
         "nbinsx": 20,
         "opacity": 0.8,
         "orientation": "v",
         "type": "histogram",
         "x": [
          -0.6223127097787445,
          -0.07809162236041678,
          1.7790474819468551,
          -1.4247118375561625,
          -1.4105751154601864,
          0.2188883169681857,
          -1.149465863308755,
          -0.2177532325647362,
          -1.6726587412621337,
          1.2097065375742302,
          -0.7930267396765023,
          -0.05511018197538327,
          -0.09030662425254163,
          1.1619150166121996,
          0.3097205548007712,
          0.5129277863969072,
          0.6184961590026289,
          -1.4637685018706745,
          0.4485421585261526,
          1.767822731251506,
          -1.0091554353768661,
          -0.20187565762794943,
          0.10438402542485582,
          -1.0271492803595452,
          -0.549378606146546,
          -1.0818406350966738,
          -0.7289573371488666,
          1.1198836055237327,
          0.5864148695608872,
          -0.024355589607592033,
          0.6980656079470045,
          -0.8483633384572155,
          -1.5684647526087565,
          -1.3874098606278373,
          -0.6513298563396208,
          0.6752856776403766,
          1.9572075005188447,
          0.3067879974877034,
          0.08069647639021876,
          0.013777395371240508,
          1.1497250255527611,
          -0.584868011758543,
          -0.8747816362718722,
          0.16248255497583639,
          -0.6338491218052374,
          -0.18762133433093403,
          0.7183308864619843,
          0.03892557856366659,
          -0.05835543780960389,
          0.2729009332188614,
          0.18648405784653066,
          -0.002357963793111217,
          -1.6448419115769932,
          -1.8587399276049648,
          0.9002409872304978,
          -0.3246003945946711,
          -1.7144926347993703,
          0.7149852461038438,
          0.15022217521407277,
          -2.0742708012084057,
          -1.0082255935657103,
          0.5729601043333363,
          0.7210335937747494,
          0.1605572639077616,
          0.6811849909147913,
          -1.1821625386795713,
          1.3227312433894765,
          -0.8078552803418341,
          0.5935199442620323,
          -0.35774391456928006,
          0.7460167158855326,
          0.21037620123633732,
          -0.001577946660872818,
          0.3318969809409894,
          0.29022595465192125,
          0.6093830084655928,
          -0.5964490834227272,
          -1.0873790616847774,
          0.7385065124916351,
          -1.1683892869125476,
          -0.14716717691544046,
          -0.3190296801594655,
          -1.62228312074107,
          0.0940633033641303,
          -0.7413030015954901,
          2.5468536611139574,
          -0.8553192878274413,
          -0.6214605444473837,
          -0.37590549650516025,
          -0.6887968127659998,
          -0.6023601264871187,
          0.5480051859117191,
          1.5398950046172197,
          1.171647048456549,
          -0.26945117641978844,
          1.3553267212960771,
          -1.8733178535294914,
          -0.8916742861646291,
          -0.10395184783622588,
          0.015416002948039327
         ]
        }
       ],
       "layout": {
        "barmode": "overlay",
        "legend": {
         "bgcolor": "#F5F6F9",
         "font": {
          "color": "#4D5663"
         }
        },
        "paper_bgcolor": "#F5F6F9",
        "plot_bgcolor": "#F5F6F9",
        "template": {
         "data": {
          "bar": [
           {
            "error_x": {
             "color": "#2a3f5f"
            },
            "error_y": {
             "color": "#2a3f5f"
            },
            "marker": {
             "line": {
              "color": "#E5ECF6",
              "width": 0.5
             },
             "pattern": {
              "fillmode": "overlay",
              "size": 10,
              "solidity": 0.2
             }
            },
            "type": "bar"
           }
          ],
          "barpolar": [
           {
            "marker": {
             "line": {
              "color": "#E5ECF6",
              "width": 0.5
             },
             "pattern": {
              "fillmode": "overlay",
              "size": 10,
              "solidity": 0.2
             }
            },
            "type": "barpolar"
           }
          ],
          "carpet": [
           {
            "aaxis": {
             "endlinecolor": "#2a3f5f",
             "gridcolor": "white",
             "linecolor": "white",
             "minorgridcolor": "white",
             "startlinecolor": "#2a3f5f"
            },
            "baxis": {
             "endlinecolor": "#2a3f5f",
             "gridcolor": "white",
             "linecolor": "white",
             "minorgridcolor": "white",
             "startlinecolor": "#2a3f5f"
            },
            "type": "carpet"
           }
          ],
          "choropleth": [
           {
            "colorbar": {
             "outlinewidth": 0,
             "ticks": ""
            },
            "type": "choropleth"
           }
          ],
          "contour": [
           {
            "colorbar": {
             "outlinewidth": 0,
             "ticks": ""
            },
            "colorscale": [
             [
              0,
              "#0d0887"
             ],
             [
              0.1111111111111111,
              "#46039f"
             ],
             [
              0.2222222222222222,
              "#7201a8"
             ],
             [
              0.3333333333333333,
              "#9c179e"
             ],
             [
              0.4444444444444444,
              "#bd3786"
             ],
             [
              0.5555555555555556,
              "#d8576b"
             ],
             [
              0.6666666666666666,
              "#ed7953"
             ],
             [
              0.7777777777777778,
              "#fb9f3a"
             ],
             [
              0.8888888888888888,
              "#fdca26"
             ],
             [
              1,
              "#f0f921"
             ]
            ],
            "type": "contour"
           }
          ],
          "contourcarpet": [
           {
            "colorbar": {
             "outlinewidth": 0,
             "ticks": ""
            },
            "type": "contourcarpet"
           }
          ],
          "heatmap": [
           {
            "colorbar": {
             "outlinewidth": 0,
             "ticks": ""
            },
            "colorscale": [
             [
              0,
              "#0d0887"
             ],
             [
              0.1111111111111111,
              "#46039f"
             ],
             [
              0.2222222222222222,
              "#7201a8"
             ],
             [
              0.3333333333333333,
              "#9c179e"
             ],
             [
              0.4444444444444444,
              "#bd3786"
             ],
             [
              0.5555555555555556,
              "#d8576b"
             ],
             [
              0.6666666666666666,
              "#ed7953"
             ],
             [
              0.7777777777777778,
              "#fb9f3a"
             ],
             [
              0.8888888888888888,
              "#fdca26"
             ],
             [
              1,
              "#f0f921"
             ]
            ],
            "type": "heatmap"
           }
          ],
          "heatmapgl": [
           {
            "colorbar": {
             "outlinewidth": 0,
             "ticks": ""
            },
            "colorscale": [
             [
              0,
              "#0d0887"
             ],
             [
              0.1111111111111111,
              "#46039f"
             ],
             [
              0.2222222222222222,
              "#7201a8"
             ],
             [
              0.3333333333333333,
              "#9c179e"
             ],
             [
              0.4444444444444444,
              "#bd3786"
             ],
             [
              0.5555555555555556,
              "#d8576b"
             ],
             [
              0.6666666666666666,
              "#ed7953"
             ],
             [
              0.7777777777777778,
              "#fb9f3a"
             ],
             [
              0.8888888888888888,
              "#fdca26"
             ],
             [
              1,
              "#f0f921"
             ]
            ],
            "type": "heatmapgl"
           }
          ],
          "histogram": [
           {
            "marker": {
             "pattern": {
              "fillmode": "overlay",
              "size": 10,
              "solidity": 0.2
             }
            },
            "type": "histogram"
           }
          ],
          "histogram2d": [
           {
            "colorbar": {
             "outlinewidth": 0,
             "ticks": ""
            },
            "colorscale": [
             [
              0,
              "#0d0887"
             ],
             [
              0.1111111111111111,
              "#46039f"
             ],
             [
              0.2222222222222222,
              "#7201a8"
             ],
             [
              0.3333333333333333,
              "#9c179e"
             ],
             [
              0.4444444444444444,
              "#bd3786"
             ],
             [
              0.5555555555555556,
              "#d8576b"
             ],
             [
              0.6666666666666666,
              "#ed7953"
             ],
             [
              0.7777777777777778,
              "#fb9f3a"
             ],
             [
              0.8888888888888888,
              "#fdca26"
             ],
             [
              1,
              "#f0f921"
             ]
            ],
            "type": "histogram2d"
           }
          ],
          "histogram2dcontour": [
           {
            "colorbar": {
             "outlinewidth": 0,
             "ticks": ""
            },
            "colorscale": [
             [
              0,
              "#0d0887"
             ],
             [
              0.1111111111111111,
              "#46039f"
             ],
             [
              0.2222222222222222,
              "#7201a8"
             ],
             [
              0.3333333333333333,
              "#9c179e"
             ],
             [
              0.4444444444444444,
              "#bd3786"
             ],
             [
              0.5555555555555556,
              "#d8576b"
             ],
             [
              0.6666666666666666,
              "#ed7953"
             ],
             [
              0.7777777777777778,
              "#fb9f3a"
             ],
             [
              0.8888888888888888,
              "#fdca26"
             ],
             [
              1,
              "#f0f921"
             ]
            ],
            "type": "histogram2dcontour"
           }
          ],
          "mesh3d": [
           {
            "colorbar": {
             "outlinewidth": 0,
             "ticks": ""
            },
            "type": "mesh3d"
           }
          ],
          "parcoords": [
           {
            "line": {
             "colorbar": {
              "outlinewidth": 0,
              "ticks": ""
             }
            },
            "type": "parcoords"
           }
          ],
          "pie": [
           {
            "automargin": true,
            "type": "pie"
           }
          ],
          "scatter": [
           {
            "fillpattern": {
             "fillmode": "overlay",
             "size": 10,
             "solidity": 0.2
            },
            "type": "scatter"
           }
          ],
          "scatter3d": [
           {
            "line": {
             "colorbar": {
              "outlinewidth": 0,
              "ticks": ""
             }
            },
            "marker": {
             "colorbar": {
              "outlinewidth": 0,
              "ticks": ""
             }
            },
            "type": "scatter3d"
           }
          ],
          "scattercarpet": [
           {
            "marker": {
             "colorbar": {
              "outlinewidth": 0,
              "ticks": ""
             }
            },
            "type": "scattercarpet"
           }
          ],
          "scattergeo": [
           {
            "marker": {
             "colorbar": {
              "outlinewidth": 0,
              "ticks": ""
             }
            },
            "type": "scattergeo"
           }
          ],
          "scattergl": [
           {
            "marker": {
             "colorbar": {
              "outlinewidth": 0,
              "ticks": ""
             }
            },
            "type": "scattergl"
           }
          ],
          "scattermapbox": [
           {
            "marker": {
             "colorbar": {
              "outlinewidth": 0,
              "ticks": ""
             }
            },
            "type": "scattermapbox"
           }
          ],
          "scatterpolar": [
           {
            "marker": {
             "colorbar": {
              "outlinewidth": 0,
              "ticks": ""
             }
            },
            "type": "scatterpolar"
           }
          ],
          "scatterpolargl": [
           {
            "marker": {
             "colorbar": {
              "outlinewidth": 0,
              "ticks": ""
             }
            },
            "type": "scatterpolargl"
           }
          ],
          "scatterternary": [
           {
            "marker": {
             "colorbar": {
              "outlinewidth": 0,
              "ticks": ""
             }
            },
            "type": "scatterternary"
           }
          ],
          "surface": [
           {
            "colorbar": {
             "outlinewidth": 0,
             "ticks": ""
            },
            "colorscale": [
             [
              0,
              "#0d0887"
             ],
             [
              0.1111111111111111,
              "#46039f"
             ],
             [
              0.2222222222222222,
              "#7201a8"
             ],
             [
              0.3333333333333333,
              "#9c179e"
             ],
             [
              0.4444444444444444,
              "#bd3786"
             ],
             [
              0.5555555555555556,
              "#d8576b"
             ],
             [
              0.6666666666666666,
              "#ed7953"
             ],
             [
              0.7777777777777778,
              "#fb9f3a"
             ],
             [
              0.8888888888888888,
              "#fdca26"
             ],
             [
              1,
              "#f0f921"
             ]
            ],
            "type": "surface"
           }
          ],
          "table": [
           {
            "cells": {
             "fill": {
              "color": "#EBF0F8"
             },
             "line": {
              "color": "white"
             }
            },
            "header": {
             "fill": {
              "color": "#C8D4E3"
             },
             "line": {
              "color": "white"
             }
            },
            "type": "table"
           }
          ]
         },
         "layout": {
          "annotationdefaults": {
           "arrowcolor": "#2a3f5f",
           "arrowhead": 0,
           "arrowwidth": 1
          },
          "autotypenumbers": "strict",
          "coloraxis": {
           "colorbar": {
            "outlinewidth": 0,
            "ticks": ""
           }
          },
          "colorscale": {
           "diverging": [
            [
             0,
             "#8e0152"
            ],
            [
             0.1,
             "#c51b7d"
            ],
            [
             0.2,
             "#de77ae"
            ],
            [
             0.3,
             "#f1b6da"
            ],
            [
             0.4,
             "#fde0ef"
            ],
            [
             0.5,
             "#f7f7f7"
            ],
            [
             0.6,
             "#e6f5d0"
            ],
            [
             0.7,
             "#b8e186"
            ],
            [
             0.8,
             "#7fbc41"
            ],
            [
             0.9,
             "#4d9221"
            ],
            [
             1,
             "#276419"
            ]
           ],
           "sequential": [
            [
             0,
             "#0d0887"
            ],
            [
             0.1111111111111111,
             "#46039f"
            ],
            [
             0.2222222222222222,
             "#7201a8"
            ],
            [
             0.3333333333333333,
             "#9c179e"
            ],
            [
             0.4444444444444444,
             "#bd3786"
            ],
            [
             0.5555555555555556,
             "#d8576b"
            ],
            [
             0.6666666666666666,
             "#ed7953"
            ],
            [
             0.7777777777777778,
             "#fb9f3a"
            ],
            [
             0.8888888888888888,
             "#fdca26"
            ],
            [
             1,
             "#f0f921"
            ]
           ],
           "sequentialminus": [
            [
             0,
             "#0d0887"
            ],
            [
             0.1111111111111111,
             "#46039f"
            ],
            [
             0.2222222222222222,
             "#7201a8"
            ],
            [
             0.3333333333333333,
             "#9c179e"
            ],
            [
             0.4444444444444444,
             "#bd3786"
            ],
            [
             0.5555555555555556,
             "#d8576b"
            ],
            [
             0.6666666666666666,
             "#ed7953"
            ],
            [
             0.7777777777777778,
             "#fb9f3a"
            ],
            [
             0.8888888888888888,
             "#fdca26"
            ],
            [
             1,
             "#f0f921"
            ]
           ]
          },
          "colorway": [
           "#636efa",
           "#EF553B",
           "#00cc96",
           "#ab63fa",
           "#FFA15A",
           "#19d3f3",
           "#FF6692",
           "#B6E880",
           "#FF97FF",
           "#FECB52"
          ],
          "font": {
           "color": "#2a3f5f"
          },
          "geo": {
           "bgcolor": "white",
           "lakecolor": "white",
           "landcolor": "#E5ECF6",
           "showlakes": true,
           "showland": true,
           "subunitcolor": "white"
          },
          "hoverlabel": {
           "align": "left"
          },
          "hovermode": "closest",
          "mapbox": {
           "style": "light"
          },
          "paper_bgcolor": "white",
          "plot_bgcolor": "#E5ECF6",
          "polar": {
           "angularaxis": {
            "gridcolor": "white",
            "linecolor": "white",
            "ticks": ""
           },
           "bgcolor": "#E5ECF6",
           "radialaxis": {
            "gridcolor": "white",
            "linecolor": "white",
            "ticks": ""
           }
          },
          "scene": {
           "xaxis": {
            "backgroundcolor": "#E5ECF6",
            "gridcolor": "white",
            "gridwidth": 2,
            "linecolor": "white",
            "showbackground": true,
            "ticks": "",
            "zerolinecolor": "white"
           },
           "yaxis": {
            "backgroundcolor": "#E5ECF6",
            "gridcolor": "white",
            "gridwidth": 2,
            "linecolor": "white",
            "showbackground": true,
            "ticks": "",
            "zerolinecolor": "white"
           },
           "zaxis": {
            "backgroundcolor": "#E5ECF6",
            "gridcolor": "white",
            "gridwidth": 2,
            "linecolor": "white",
            "showbackground": true,
            "ticks": "",
            "zerolinecolor": "white"
           }
          },
          "shapedefaults": {
           "line": {
            "color": "#2a3f5f"
           }
          },
          "ternary": {
           "aaxis": {
            "gridcolor": "white",
            "linecolor": "white",
            "ticks": ""
           },
           "baxis": {
            "gridcolor": "white",
            "linecolor": "white",
            "ticks": ""
           },
           "bgcolor": "#E5ECF6",
           "caxis": {
            "gridcolor": "white",
            "linecolor": "white",
            "ticks": ""
           }
          },
          "title": {
           "x": 0.05
          },
          "xaxis": {
           "automargin": true,
           "gridcolor": "white",
           "linecolor": "white",
           "ticks": "",
           "title": {
            "standoff": 15
           },
           "zerolinecolor": "white",
           "zerolinewidth": 2
          },
          "yaxis": {
           "automargin": true,
           "gridcolor": "white",
           "linecolor": "white",
           "ticks": "",
           "title": {
            "standoff": 15
           },
           "zerolinecolor": "white",
           "zerolinewidth": 2
          }
         }
        },
        "title": {
         "font": {
          "color": "#4D5663"
         }
        },
        "xaxis": {
         "gridcolor": "#E1E5ED",
         "showgrid": true,
         "tickfont": {
          "color": "#4D5663"
         },
         "title": {
          "font": {
           "color": "#4D5663"
          },
          "text": ""
         },
         "zerolinecolor": "#E1E5ED"
        },
        "yaxis": {
         "gridcolor": "#E1E5ED",
         "showgrid": true,
         "tickfont": {
          "color": "#4D5663"
         },
         "title": {
          "font": {
           "color": "#4D5663"
          },
          "text": ""
         },
         "zerolinecolor": "#E1E5ED"
        }
       }
      },
      "text/html": [
       "<div>                            <div id=\"99557adc-98b6-45bc-90e9-6a48b75d90f9\" class=\"plotly-graph-div\" style=\"height:525px; width:100%;\"></div>            <script type=\"text/javascript\">                require([\"plotly\"], function(Plotly) {                    window.PLOTLYENV=window.PLOTLYENV || {};\n",
       "                    window.PLOTLYENV.BASE_URL='https://plot.ly';                                    if (document.getElementById(\"99557adc-98b6-45bc-90e9-6a48b75d90f9\")) {                    Plotly.newPlot(                        \"99557adc-98b6-45bc-90e9-6a48b75d90f9\",                        [{\"histfunc\":\"count\",\"histnorm\":\"\",\"marker\":{\"color\":\"rgba(255, 153, 51, 1.0)\",\"line\":{\"color\":\"#4D5663\",\"width\":1.3}},\"name\":\"A\",\"nbinsx\":20,\"opacity\":0.8,\"orientation\":\"v\",\"x\":[-0.6223127097787445,-0.07809162236041678,1.7790474819468551,-1.4247118375561625,-1.4105751154601864,0.2188883169681857,-1.149465863308755,-0.2177532325647362,-1.6726587412621337,1.2097065375742302,-0.7930267396765023,-0.05511018197538327,-0.09030662425254163,1.1619150166121996,0.3097205548007712,0.5129277863969072,0.6184961590026289,-1.4637685018706745,0.4485421585261526,1.767822731251506,-1.0091554353768661,-0.20187565762794943,0.10438402542485582,-1.0271492803595452,-0.549378606146546,-1.0818406350966738,-0.7289573371488666,1.1198836055237327,0.5864148695608872,-0.024355589607592033,0.6980656079470045,-0.8483633384572155,-1.5684647526087565,-1.3874098606278373,-0.6513298563396208,0.6752856776403766,1.9572075005188447,0.3067879974877034,0.08069647639021876,0.013777395371240508,1.1497250255527611,-0.584868011758543,-0.8747816362718722,0.16248255497583639,-0.6338491218052374,-0.18762133433093403,0.7183308864619843,0.03892557856366659,-0.05835543780960389,0.2729009332188614,0.18648405784653066,-0.002357963793111217,-1.6448419115769932,-1.8587399276049648,0.9002409872304978,-0.3246003945946711,-1.7144926347993703,0.7149852461038438,0.15022217521407277,-2.0742708012084057,-1.0082255935657103,0.5729601043333363,0.7210335937747494,0.1605572639077616,0.6811849909147913,-1.1821625386795713,1.3227312433894765,-0.8078552803418341,0.5935199442620323,-0.35774391456928006,0.7460167158855326,0.21037620123633732,-0.001577946660872818,0.3318969809409894,0.29022595465192125,0.6093830084655928,-0.5964490834227272,-1.0873790616847774,0.7385065124916351,-1.1683892869125476,-0.14716717691544046,-0.3190296801594655,-1.62228312074107,0.0940633033641303,-0.7413030015954901,2.5468536611139574,-0.8553192878274413,-0.6214605444473837,-0.37590549650516025,-0.6887968127659998,-0.6023601264871187,0.5480051859117191,1.5398950046172197,1.171647048456549,-0.26945117641978844,1.3553267212960771,-1.8733178535294914,-0.8916742861646291,-0.10395184783622588,0.015416002948039327],\"type\":\"histogram\"}],                        {\"barmode\":\"overlay\",\"legend\":{\"bgcolor\":\"#F5F6F9\",\"font\":{\"color\":\"#4D5663\"}},\"paper_bgcolor\":\"#F5F6F9\",\"plot_bgcolor\":\"#F5F6F9\",\"template\":{\"data\":{\"barpolar\":[{\"marker\":{\"line\":{\"color\":\"#E5ECF6\",\"width\":0.5},\"pattern\":{\"fillmode\":\"overlay\",\"size\":10,\"solidity\":0.2}},\"type\":\"barpolar\"}],\"bar\":[{\"error_x\":{\"color\":\"#2a3f5f\"},\"error_y\":{\"color\":\"#2a3f5f\"},\"marker\":{\"line\":{\"color\":\"#E5ECF6\",\"width\":0.5},\"pattern\":{\"fillmode\":\"overlay\",\"size\":10,\"solidity\":0.2}},\"type\":\"bar\"}],\"carpet\":[{\"aaxis\":{\"endlinecolor\":\"#2a3f5f\",\"gridcolor\":\"white\",\"linecolor\":\"white\",\"minorgridcolor\":\"white\",\"startlinecolor\":\"#2a3f5f\"},\"baxis\":{\"endlinecolor\":\"#2a3f5f\",\"gridcolor\":\"white\",\"linecolor\":\"white\",\"minorgridcolor\":\"white\",\"startlinecolor\":\"#2a3f5f\"},\"type\":\"carpet\"}],\"choropleth\":[{\"colorbar\":{\"outlinewidth\":0,\"ticks\":\"\"},\"type\":\"choropleth\"}],\"contourcarpet\":[{\"colorbar\":{\"outlinewidth\":0,\"ticks\":\"\"},\"type\":\"contourcarpet\"}],\"contour\":[{\"colorbar\":{\"outlinewidth\":0,\"ticks\":\"\"},\"colorscale\":[[0.0,\"#0d0887\"],[0.1111111111111111,\"#46039f\"],[0.2222222222222222,\"#7201a8\"],[0.3333333333333333,\"#9c179e\"],[0.4444444444444444,\"#bd3786\"],[0.5555555555555556,\"#d8576b\"],[0.6666666666666666,\"#ed7953\"],[0.7777777777777778,\"#fb9f3a\"],[0.8888888888888888,\"#fdca26\"],[1.0,\"#f0f921\"]],\"type\":\"contour\"}],\"heatmapgl\":[{\"colorbar\":{\"outlinewidth\":0,\"ticks\":\"\"},\"colorscale\":[[0.0,\"#0d0887\"],[0.1111111111111111,\"#46039f\"],[0.2222222222222222,\"#7201a8\"],[0.3333333333333333,\"#9c179e\"],[0.4444444444444444,\"#bd3786\"],[0.5555555555555556,\"#d8576b\"],[0.6666666666666666,\"#ed7953\"],[0.7777777777777778,\"#fb9f3a\"],[0.8888888888888888,\"#fdca26\"],[1.0,\"#f0f921\"]],\"type\":\"heatmapgl\"}],\"heatmap\":[{\"colorbar\":{\"outlinewidth\":0,\"ticks\":\"\"},\"colorscale\":[[0.0,\"#0d0887\"],[0.1111111111111111,\"#46039f\"],[0.2222222222222222,\"#7201a8\"],[0.3333333333333333,\"#9c179e\"],[0.4444444444444444,\"#bd3786\"],[0.5555555555555556,\"#d8576b\"],[0.6666666666666666,\"#ed7953\"],[0.7777777777777778,\"#fb9f3a\"],[0.8888888888888888,\"#fdca26\"],[1.0,\"#f0f921\"]],\"type\":\"heatmap\"}],\"histogram2dcontour\":[{\"colorbar\":{\"outlinewidth\":0,\"ticks\":\"\"},\"colorscale\":[[0.0,\"#0d0887\"],[0.1111111111111111,\"#46039f\"],[0.2222222222222222,\"#7201a8\"],[0.3333333333333333,\"#9c179e\"],[0.4444444444444444,\"#bd3786\"],[0.5555555555555556,\"#d8576b\"],[0.6666666666666666,\"#ed7953\"],[0.7777777777777778,\"#fb9f3a\"],[0.8888888888888888,\"#fdca26\"],[1.0,\"#f0f921\"]],\"type\":\"histogram2dcontour\"}],\"histogram2d\":[{\"colorbar\":{\"outlinewidth\":0,\"ticks\":\"\"},\"colorscale\":[[0.0,\"#0d0887\"],[0.1111111111111111,\"#46039f\"],[0.2222222222222222,\"#7201a8\"],[0.3333333333333333,\"#9c179e\"],[0.4444444444444444,\"#bd3786\"],[0.5555555555555556,\"#d8576b\"],[0.6666666666666666,\"#ed7953\"],[0.7777777777777778,\"#fb9f3a\"],[0.8888888888888888,\"#fdca26\"],[1.0,\"#f0f921\"]],\"type\":\"histogram2d\"}],\"histogram\":[{\"marker\":{\"pattern\":{\"fillmode\":\"overlay\",\"size\":10,\"solidity\":0.2}},\"type\":\"histogram\"}],\"mesh3d\":[{\"colorbar\":{\"outlinewidth\":0,\"ticks\":\"\"},\"type\":\"mesh3d\"}],\"parcoords\":[{\"line\":{\"colorbar\":{\"outlinewidth\":0,\"ticks\":\"\"}},\"type\":\"parcoords\"}],\"pie\":[{\"automargin\":true,\"type\":\"pie\"}],\"scatter3d\":[{\"line\":{\"colorbar\":{\"outlinewidth\":0,\"ticks\":\"\"}},\"marker\":{\"colorbar\":{\"outlinewidth\":0,\"ticks\":\"\"}},\"type\":\"scatter3d\"}],\"scattercarpet\":[{\"marker\":{\"colorbar\":{\"outlinewidth\":0,\"ticks\":\"\"}},\"type\":\"scattercarpet\"}],\"scattergeo\":[{\"marker\":{\"colorbar\":{\"outlinewidth\":0,\"ticks\":\"\"}},\"type\":\"scattergeo\"}],\"scattergl\":[{\"marker\":{\"colorbar\":{\"outlinewidth\":0,\"ticks\":\"\"}},\"type\":\"scattergl\"}],\"scattermapbox\":[{\"marker\":{\"colorbar\":{\"outlinewidth\":0,\"ticks\":\"\"}},\"type\":\"scattermapbox\"}],\"scatterpolargl\":[{\"marker\":{\"colorbar\":{\"outlinewidth\":0,\"ticks\":\"\"}},\"type\":\"scatterpolargl\"}],\"scatterpolar\":[{\"marker\":{\"colorbar\":{\"outlinewidth\":0,\"ticks\":\"\"}},\"type\":\"scatterpolar\"}],\"scatter\":[{\"fillpattern\":{\"fillmode\":\"overlay\",\"size\":10,\"solidity\":0.2},\"type\":\"scatter\"}],\"scatterternary\":[{\"marker\":{\"colorbar\":{\"outlinewidth\":0,\"ticks\":\"\"}},\"type\":\"scatterternary\"}],\"surface\":[{\"colorbar\":{\"outlinewidth\":0,\"ticks\":\"\"},\"colorscale\":[[0.0,\"#0d0887\"],[0.1111111111111111,\"#46039f\"],[0.2222222222222222,\"#7201a8\"],[0.3333333333333333,\"#9c179e\"],[0.4444444444444444,\"#bd3786\"],[0.5555555555555556,\"#d8576b\"],[0.6666666666666666,\"#ed7953\"],[0.7777777777777778,\"#fb9f3a\"],[0.8888888888888888,\"#fdca26\"],[1.0,\"#f0f921\"]],\"type\":\"surface\"}],\"table\":[{\"cells\":{\"fill\":{\"color\":\"#EBF0F8\"},\"line\":{\"color\":\"white\"}},\"header\":{\"fill\":{\"color\":\"#C8D4E3\"},\"line\":{\"color\":\"white\"}},\"type\":\"table\"}]},\"layout\":{\"annotationdefaults\":{\"arrowcolor\":\"#2a3f5f\",\"arrowhead\":0,\"arrowwidth\":1},\"autotypenumbers\":\"strict\",\"coloraxis\":{\"colorbar\":{\"outlinewidth\":0,\"ticks\":\"\"}},\"colorscale\":{\"diverging\":[[0,\"#8e0152\"],[0.1,\"#c51b7d\"],[0.2,\"#de77ae\"],[0.3,\"#f1b6da\"],[0.4,\"#fde0ef\"],[0.5,\"#f7f7f7\"],[0.6,\"#e6f5d0\"],[0.7,\"#b8e186\"],[0.8,\"#7fbc41\"],[0.9,\"#4d9221\"],[1,\"#276419\"]],\"sequential\":[[0.0,\"#0d0887\"],[0.1111111111111111,\"#46039f\"],[0.2222222222222222,\"#7201a8\"],[0.3333333333333333,\"#9c179e\"],[0.4444444444444444,\"#bd3786\"],[0.5555555555555556,\"#d8576b\"],[0.6666666666666666,\"#ed7953\"],[0.7777777777777778,\"#fb9f3a\"],[0.8888888888888888,\"#fdca26\"],[1.0,\"#f0f921\"]],\"sequentialminus\":[[0.0,\"#0d0887\"],[0.1111111111111111,\"#46039f\"],[0.2222222222222222,\"#7201a8\"],[0.3333333333333333,\"#9c179e\"],[0.4444444444444444,\"#bd3786\"],[0.5555555555555556,\"#d8576b\"],[0.6666666666666666,\"#ed7953\"],[0.7777777777777778,\"#fb9f3a\"],[0.8888888888888888,\"#fdca26\"],[1.0,\"#f0f921\"]]},\"colorway\":[\"#636efa\",\"#EF553B\",\"#00cc96\",\"#ab63fa\",\"#FFA15A\",\"#19d3f3\",\"#FF6692\",\"#B6E880\",\"#FF97FF\",\"#FECB52\"],\"font\":{\"color\":\"#2a3f5f\"},\"geo\":{\"bgcolor\":\"white\",\"lakecolor\":\"white\",\"landcolor\":\"#E5ECF6\",\"showlakes\":true,\"showland\":true,\"subunitcolor\":\"white\"},\"hoverlabel\":{\"align\":\"left\"},\"hovermode\":\"closest\",\"mapbox\":{\"style\":\"light\"},\"paper_bgcolor\":\"white\",\"plot_bgcolor\":\"#E5ECF6\",\"polar\":{\"angularaxis\":{\"gridcolor\":\"white\",\"linecolor\":\"white\",\"ticks\":\"\"},\"bgcolor\":\"#E5ECF6\",\"radialaxis\":{\"gridcolor\":\"white\",\"linecolor\":\"white\",\"ticks\":\"\"}},\"scene\":{\"xaxis\":{\"backgroundcolor\":\"#E5ECF6\",\"gridcolor\":\"white\",\"gridwidth\":2,\"linecolor\":\"white\",\"showbackground\":true,\"ticks\":\"\",\"zerolinecolor\":\"white\"},\"yaxis\":{\"backgroundcolor\":\"#E5ECF6\",\"gridcolor\":\"white\",\"gridwidth\":2,\"linecolor\":\"white\",\"showbackground\":true,\"ticks\":\"\",\"zerolinecolor\":\"white\"},\"zaxis\":{\"backgroundcolor\":\"#E5ECF6\",\"gridcolor\":\"white\",\"gridwidth\":2,\"linecolor\":\"white\",\"showbackground\":true,\"ticks\":\"\",\"zerolinecolor\":\"white\"}},\"shapedefaults\":{\"line\":{\"color\":\"#2a3f5f\"}},\"ternary\":{\"aaxis\":{\"gridcolor\":\"white\",\"linecolor\":\"white\",\"ticks\":\"\"},\"baxis\":{\"gridcolor\":\"white\",\"linecolor\":\"white\",\"ticks\":\"\"},\"bgcolor\":\"#E5ECF6\",\"caxis\":{\"gridcolor\":\"white\",\"linecolor\":\"white\",\"ticks\":\"\"}},\"title\":{\"x\":0.05},\"xaxis\":{\"automargin\":true,\"gridcolor\":\"white\",\"linecolor\":\"white\",\"ticks\":\"\",\"title\":{\"standoff\":15},\"zerolinecolor\":\"white\",\"zerolinewidth\":2},\"yaxis\":{\"automargin\":true,\"gridcolor\":\"white\",\"linecolor\":\"white\",\"ticks\":\"\",\"title\":{\"standoff\":15},\"zerolinecolor\":\"white\",\"zerolinewidth\":2}}},\"title\":{\"font\":{\"color\":\"#4D5663\"}},\"xaxis\":{\"gridcolor\":\"#E1E5ED\",\"showgrid\":true,\"tickfont\":{\"color\":\"#4D5663\"},\"title\":{\"font\":{\"color\":\"#4D5663\"},\"text\":\"\"},\"zerolinecolor\":\"#E1E5ED\"},\"yaxis\":{\"gridcolor\":\"#E1E5ED\",\"showgrid\":true,\"tickfont\":{\"color\":\"#4D5663\"},\"title\":{\"font\":{\"color\":\"#4D5663\"},\"text\":\"\"},\"zerolinecolor\":\"#E1E5ED\"}},                        {\"showLink\": true, \"linkText\": \"Export to plot.ly\", \"plotlyServerURL\": \"https://plot.ly\", \"responsive\": true}                    ).then(function(){\n",
       "                            \n",
       "var gd = document.getElementById('99557adc-98b6-45bc-90e9-6a48b75d90f9');\n",
       "var x = new MutationObserver(function (mutations, observer) {{\n",
       "        var display = window.getComputedStyle(gd).display;\n",
       "        if (!display || display === 'none') {{\n",
       "            console.log([gd, 'removed!']);\n",
       "            Plotly.purge(gd);\n",
       "            observer.disconnect();\n",
       "        }}\n",
       "}});\n",
       "\n",
       "// Listen for the removal of the full notebook cells\n",
       "var notebookContainer = gd.closest('#notebook-container');\n",
       "if (notebookContainer) {{\n",
       "    x.observe(notebookContainer, {childList: true});\n",
       "}}\n",
       "\n",
       "// Listen for the clearing of the current output cell\n",
       "var outputEl = gd.closest('.output');\n",
       "if (outputEl) {{\n",
       "    x.observe(outputEl, {childList: true});\n",
       "}}\n",
       "\n",
       "                        })                };                });            </script>        </div>"
      ]
     },
     "metadata": {},
     "output_type": "display_data"
    }
   ],
   "source": [
    "# Histogram\n",
    "\n",
    "df['A'].iplot(kind='hist',bins=20)"
   ]
  },
  {
   "cell_type": "code",
   "execution_count": 35,
   "id": "bd7e6466",
   "metadata": {},
   "outputs": [],
   "source": [
    "# Bubble"
   ]
  },
  {
   "cell_type": "code",
   "execution_count": 25,
   "id": "d6833f36",
   "metadata": {},
   "outputs": [
    {
     "data": {
      "application/vnd.plotly.v1+json": {
       "config": {
        "linkText": "Export to plot.ly",
        "plotlyServerURL": "https://plot.ly",
        "showLink": true
       },
       "data": [
        {
         "marker": {
          "color": [
           "rgb(255, 153, 51)",
           "rgb(55, 128, 191)",
           "rgb(50, 171, 96)",
           "rgb(128, 0, 128)",
           "rgb(219, 64, 82)",
           "rgb(0, 128, 128)",
           "rgb(255, 255, 51)",
           "rgb(128, 128, 0)",
           "rgb(251, 128, 114)",
           "rgb(128, 177, 211)"
          ],
          "line": {
           "width": 1.3
          },
          "size": [
           56,
           65,
           43,
           88,
           95,
           53,
           53,
           56,
           53,
           69,
           60,
           51,
           66,
           83,
           49,
           66,
           40,
           38,
           79,
           47,
           93,
           65,
           71,
           59,
           61,
           69,
           51,
           50,
           83,
           62,
           76,
           42,
           101,
           43,
           54,
           47,
           49,
           12,
           52,
           37,
           72,
           61,
           62,
           58,
           38,
           78,
           88,
           75,
           37,
           72,
           32,
           59,
           44,
           69,
           39,
           54,
           78,
           59,
           64,
           73,
           70,
           76,
           88,
           23,
           66,
           45,
           53,
           43,
           79,
           71,
           82,
           72,
           81,
           112,
           50,
           66,
           71,
           68,
           62,
           75,
           45,
           54,
           89,
           52,
           58,
           75,
           47,
           90,
           63,
           43,
           34,
           76,
           63,
           48,
           69,
           63,
           66,
           74,
           68,
           39
          ],
          "symbol": "circle"
         },
         "mode": "markers",
         "text": "",
         "type": "scatter",
         "x": [
          -0.6223127097787445,
          -0.07809162236041678,
          1.7790474819468551,
          -1.4247118375561625,
          -1.4105751154601864,
          0.2188883169681857,
          -1.149465863308755,
          -0.2177532325647362,
          -1.6726587412621337,
          1.2097065375742302,
          -0.7930267396765023,
          -0.05511018197538327,
          -0.09030662425254163,
          1.1619150166121996,
          0.3097205548007712,
          0.5129277863969072,
          0.6184961590026289,
          -1.4637685018706745,
          0.4485421585261526,
          1.767822731251506,
          -1.0091554353768661,
          -0.20187565762794943,
          0.10438402542485582,
          -1.0271492803595452,
          -0.549378606146546,
          -1.0818406350966738,
          -0.7289573371488666,
          1.1198836055237327,
          0.5864148695608872,
          -0.024355589607592033,
          0.6980656079470045,
          -0.8483633384572155,
          -1.5684647526087565,
          -1.3874098606278373,
          -0.6513298563396208,
          0.6752856776403766,
          1.9572075005188447,
          0.3067879974877034,
          0.08069647639021876,
          0.013777395371240508,
          1.1497250255527611,
          -0.584868011758543,
          -0.8747816362718722,
          0.16248255497583639,
          -0.6338491218052374,
          -0.18762133433093403,
          0.7183308864619843,
          0.03892557856366659,
          -0.05835543780960389,
          0.2729009332188614,
          0.18648405784653066,
          -0.002357963793111217,
          -1.6448419115769932,
          -1.8587399276049648,
          0.9002409872304978,
          -0.3246003945946711,
          -1.7144926347993703,
          0.7149852461038438,
          0.15022217521407277,
          -2.0742708012084057,
          -1.0082255935657103,
          0.5729601043333363,
          0.7210335937747494,
          0.1605572639077616,
          0.6811849909147913,
          -1.1821625386795713,
          1.3227312433894765,
          -0.8078552803418341,
          0.5935199442620323,
          -0.35774391456928006,
          0.7460167158855326,
          0.21037620123633732,
          -0.001577946660872818,
          0.3318969809409894,
          0.29022595465192125,
          0.6093830084655928,
          -0.5964490834227272,
          -1.0873790616847774,
          0.7385065124916351,
          -1.1683892869125476,
          -0.14716717691544046,
          -0.3190296801594655,
          -1.62228312074107,
          0.0940633033641303,
          -0.7413030015954901,
          2.5468536611139574,
          -0.8553192878274413,
          -0.6214605444473837,
          -0.37590549650516025,
          -0.6887968127659998,
          -0.6023601264871187,
          0.5480051859117191,
          1.5398950046172197,
          1.171647048456549,
          -0.26945117641978844,
          1.3553267212960771,
          -1.8733178535294914,
          -0.8916742861646291,
          -0.10395184783622588,
          0.015416002948039327
         ],
         "y": [
          0.39299279759057504,
          0.9703165383850477,
          -0.3315341358806937,
          -1.5584031758162409,
          0.951523596033235,
          -0.5555846581699916,
          -1.515512553211831,
          1.9037823912410028,
          0.11998085811301533,
          -0.2799904644871162,
          0.9649601637582959,
          -0.2129880463045149,
          1.608269687420033,
          -0.9248636326249062,
          -0.14664756884169589,
          -0.047763160217688436,
          0.02140402329140558,
          0.13626631422295649,
          -1.2316106623850942,
          -1.4494740058324187,
          -0.9643096084728445,
          -1.8155834317145414,
          -1.4975399771222855,
          -2.008459460468831,
          -0.18844771209113004,
          -0.8452479670056402,
          0.2702435905254712,
          -0.08307773275515531,
          1.9925306352375145,
          -0.30011064157012196,
          -1.8416088365312053,
          1.4883897812928597,
          0.2857404107478787,
          -1.3694143183685137,
          0.34472215385367405,
          -0.7333872049097238,
          1.3796332788800656,
          -0.00901709225535108,
          0.5282371077244549,
          -1.5889248101211482,
          -0.9168030342948024,
          -0.8567400095928656,
          0.5420625354429279,
          0.3531656963293904,
          0.9516310013151971,
          1.4814305926548468,
          -0.0661783667737621,
          -0.5366522538953027,
          -1.0733680524544438,
          1.664261087255659,
          0.5546934645540875,
          -0.9498218183256268,
          1.6448795435345684,
          0.2356696285556059,
          -0.9223882563702976,
          -1.999143938093221,
          0.8469020285223882,
          0.6589074033059399,
          -0.5799192494117322,
          -0.7788733134093945,
          0.7577793943052767,
          -0.09707784030046557,
          -0.03455307170219075,
          -0.8811323416697463,
          -0.6267043083674482,
          -1.0269391048157697,
          -0.5321336972529832,
          0.8451182902588883,
          0.08662269451869511,
          0.31429709601059586,
          -0.1934184891753213,
          1.2840149281872961,
          0.555730360910625,
          0.45183765131006726,
          -0.49686842278032023,
          -0.32947519313932555,
          -1.19620746138553,
          -0.7038639841931628,
          -0.7898364183395687,
          0.7438412707540987,
          0.7414495707254729,
          1.3799733154504426,
          0.56648572675284,
          -2.50683210422878,
          0.9959654653416138,
          0.367421323759343,
          -0.46904746013665927,
          -1.1409670086342902,
          0.2598216833782342,
          -1.2902403671698264,
          0.49678766890658405,
          -0.48224628270977354,
          -0.16484644023413372,
          -1.0334851807235186,
          0.14970842234302917,
          0.7165586416171045,
          1.0511466528478781,
          2.06350190094373,
          0.32514957908412,
          0.2174187719077609
         ]
        }
       ],
       "layout": {
        "legend": {
         "bgcolor": "#F5F6F9",
         "font": {
          "color": "#4D5663"
         }
        },
        "paper_bgcolor": "#F5F6F9",
        "plot_bgcolor": "#F5F6F9",
        "template": {
         "data": {
          "bar": [
           {
            "error_x": {
             "color": "#2a3f5f"
            },
            "error_y": {
             "color": "#2a3f5f"
            },
            "marker": {
             "line": {
              "color": "#E5ECF6",
              "width": 0.5
             },
             "pattern": {
              "fillmode": "overlay",
              "size": 10,
              "solidity": 0.2
             }
            },
            "type": "bar"
           }
          ],
          "barpolar": [
           {
            "marker": {
             "line": {
              "color": "#E5ECF6",
              "width": 0.5
             },
             "pattern": {
              "fillmode": "overlay",
              "size": 10,
              "solidity": 0.2
             }
            },
            "type": "barpolar"
           }
          ],
          "carpet": [
           {
            "aaxis": {
             "endlinecolor": "#2a3f5f",
             "gridcolor": "white",
             "linecolor": "white",
             "minorgridcolor": "white",
             "startlinecolor": "#2a3f5f"
            },
            "baxis": {
             "endlinecolor": "#2a3f5f",
             "gridcolor": "white",
             "linecolor": "white",
             "minorgridcolor": "white",
             "startlinecolor": "#2a3f5f"
            },
            "type": "carpet"
           }
          ],
          "choropleth": [
           {
            "colorbar": {
             "outlinewidth": 0,
             "ticks": ""
            },
            "type": "choropleth"
           }
          ],
          "contour": [
           {
            "colorbar": {
             "outlinewidth": 0,
             "ticks": ""
            },
            "colorscale": [
             [
              0,
              "#0d0887"
             ],
             [
              0.1111111111111111,
              "#46039f"
             ],
             [
              0.2222222222222222,
              "#7201a8"
             ],
             [
              0.3333333333333333,
              "#9c179e"
             ],
             [
              0.4444444444444444,
              "#bd3786"
             ],
             [
              0.5555555555555556,
              "#d8576b"
             ],
             [
              0.6666666666666666,
              "#ed7953"
             ],
             [
              0.7777777777777778,
              "#fb9f3a"
             ],
             [
              0.8888888888888888,
              "#fdca26"
             ],
             [
              1,
              "#f0f921"
             ]
            ],
            "type": "contour"
           }
          ],
          "contourcarpet": [
           {
            "colorbar": {
             "outlinewidth": 0,
             "ticks": ""
            },
            "type": "contourcarpet"
           }
          ],
          "heatmap": [
           {
            "colorbar": {
             "outlinewidth": 0,
             "ticks": ""
            },
            "colorscale": [
             [
              0,
              "#0d0887"
             ],
             [
              0.1111111111111111,
              "#46039f"
             ],
             [
              0.2222222222222222,
              "#7201a8"
             ],
             [
              0.3333333333333333,
              "#9c179e"
             ],
             [
              0.4444444444444444,
              "#bd3786"
             ],
             [
              0.5555555555555556,
              "#d8576b"
             ],
             [
              0.6666666666666666,
              "#ed7953"
             ],
             [
              0.7777777777777778,
              "#fb9f3a"
             ],
             [
              0.8888888888888888,
              "#fdca26"
             ],
             [
              1,
              "#f0f921"
             ]
            ],
            "type": "heatmap"
           }
          ],
          "heatmapgl": [
           {
            "colorbar": {
             "outlinewidth": 0,
             "ticks": ""
            },
            "colorscale": [
             [
              0,
              "#0d0887"
             ],
             [
              0.1111111111111111,
              "#46039f"
             ],
             [
              0.2222222222222222,
              "#7201a8"
             ],
             [
              0.3333333333333333,
              "#9c179e"
             ],
             [
              0.4444444444444444,
              "#bd3786"
             ],
             [
              0.5555555555555556,
              "#d8576b"
             ],
             [
              0.6666666666666666,
              "#ed7953"
             ],
             [
              0.7777777777777778,
              "#fb9f3a"
             ],
             [
              0.8888888888888888,
              "#fdca26"
             ],
             [
              1,
              "#f0f921"
             ]
            ],
            "type": "heatmapgl"
           }
          ],
          "histogram": [
           {
            "marker": {
             "pattern": {
              "fillmode": "overlay",
              "size": 10,
              "solidity": 0.2
             }
            },
            "type": "histogram"
           }
          ],
          "histogram2d": [
           {
            "colorbar": {
             "outlinewidth": 0,
             "ticks": ""
            },
            "colorscale": [
             [
              0,
              "#0d0887"
             ],
             [
              0.1111111111111111,
              "#46039f"
             ],
             [
              0.2222222222222222,
              "#7201a8"
             ],
             [
              0.3333333333333333,
              "#9c179e"
             ],
             [
              0.4444444444444444,
              "#bd3786"
             ],
             [
              0.5555555555555556,
              "#d8576b"
             ],
             [
              0.6666666666666666,
              "#ed7953"
             ],
             [
              0.7777777777777778,
              "#fb9f3a"
             ],
             [
              0.8888888888888888,
              "#fdca26"
             ],
             [
              1,
              "#f0f921"
             ]
            ],
            "type": "histogram2d"
           }
          ],
          "histogram2dcontour": [
           {
            "colorbar": {
             "outlinewidth": 0,
             "ticks": ""
            },
            "colorscale": [
             [
              0,
              "#0d0887"
             ],
             [
              0.1111111111111111,
              "#46039f"
             ],
             [
              0.2222222222222222,
              "#7201a8"
             ],
             [
              0.3333333333333333,
              "#9c179e"
             ],
             [
              0.4444444444444444,
              "#bd3786"
             ],
             [
              0.5555555555555556,
              "#d8576b"
             ],
             [
              0.6666666666666666,
              "#ed7953"
             ],
             [
              0.7777777777777778,
              "#fb9f3a"
             ],
             [
              0.8888888888888888,
              "#fdca26"
             ],
             [
              1,
              "#f0f921"
             ]
            ],
            "type": "histogram2dcontour"
           }
          ],
          "mesh3d": [
           {
            "colorbar": {
             "outlinewidth": 0,
             "ticks": ""
            },
            "type": "mesh3d"
           }
          ],
          "parcoords": [
           {
            "line": {
             "colorbar": {
              "outlinewidth": 0,
              "ticks": ""
             }
            },
            "type": "parcoords"
           }
          ],
          "pie": [
           {
            "automargin": true,
            "type": "pie"
           }
          ],
          "scatter": [
           {
            "fillpattern": {
             "fillmode": "overlay",
             "size": 10,
             "solidity": 0.2
            },
            "type": "scatter"
           }
          ],
          "scatter3d": [
           {
            "line": {
             "colorbar": {
              "outlinewidth": 0,
              "ticks": ""
             }
            },
            "marker": {
             "colorbar": {
              "outlinewidth": 0,
              "ticks": ""
             }
            },
            "type": "scatter3d"
           }
          ],
          "scattercarpet": [
           {
            "marker": {
             "colorbar": {
              "outlinewidth": 0,
              "ticks": ""
             }
            },
            "type": "scattercarpet"
           }
          ],
          "scattergeo": [
           {
            "marker": {
             "colorbar": {
              "outlinewidth": 0,
              "ticks": ""
             }
            },
            "type": "scattergeo"
           }
          ],
          "scattergl": [
           {
            "marker": {
             "colorbar": {
              "outlinewidth": 0,
              "ticks": ""
             }
            },
            "type": "scattergl"
           }
          ],
          "scattermapbox": [
           {
            "marker": {
             "colorbar": {
              "outlinewidth": 0,
              "ticks": ""
             }
            },
            "type": "scattermapbox"
           }
          ],
          "scatterpolar": [
           {
            "marker": {
             "colorbar": {
              "outlinewidth": 0,
              "ticks": ""
             }
            },
            "type": "scatterpolar"
           }
          ],
          "scatterpolargl": [
           {
            "marker": {
             "colorbar": {
              "outlinewidth": 0,
              "ticks": ""
             }
            },
            "type": "scatterpolargl"
           }
          ],
          "scatterternary": [
           {
            "marker": {
             "colorbar": {
              "outlinewidth": 0,
              "ticks": ""
             }
            },
            "type": "scatterternary"
           }
          ],
          "surface": [
           {
            "colorbar": {
             "outlinewidth": 0,
             "ticks": ""
            },
            "colorscale": [
             [
              0,
              "#0d0887"
             ],
             [
              0.1111111111111111,
              "#46039f"
             ],
             [
              0.2222222222222222,
              "#7201a8"
             ],
             [
              0.3333333333333333,
              "#9c179e"
             ],
             [
              0.4444444444444444,
              "#bd3786"
             ],
             [
              0.5555555555555556,
              "#d8576b"
             ],
             [
              0.6666666666666666,
              "#ed7953"
             ],
             [
              0.7777777777777778,
              "#fb9f3a"
             ],
             [
              0.8888888888888888,
              "#fdca26"
             ],
             [
              1,
              "#f0f921"
             ]
            ],
            "type": "surface"
           }
          ],
          "table": [
           {
            "cells": {
             "fill": {
              "color": "#EBF0F8"
             },
             "line": {
              "color": "white"
             }
            },
            "header": {
             "fill": {
              "color": "#C8D4E3"
             },
             "line": {
              "color": "white"
             }
            },
            "type": "table"
           }
          ]
         },
         "layout": {
          "annotationdefaults": {
           "arrowcolor": "#2a3f5f",
           "arrowhead": 0,
           "arrowwidth": 1
          },
          "autotypenumbers": "strict",
          "coloraxis": {
           "colorbar": {
            "outlinewidth": 0,
            "ticks": ""
           }
          },
          "colorscale": {
           "diverging": [
            [
             0,
             "#8e0152"
            ],
            [
             0.1,
             "#c51b7d"
            ],
            [
             0.2,
             "#de77ae"
            ],
            [
             0.3,
             "#f1b6da"
            ],
            [
             0.4,
             "#fde0ef"
            ],
            [
             0.5,
             "#f7f7f7"
            ],
            [
             0.6,
             "#e6f5d0"
            ],
            [
             0.7,
             "#b8e186"
            ],
            [
             0.8,
             "#7fbc41"
            ],
            [
             0.9,
             "#4d9221"
            ],
            [
             1,
             "#276419"
            ]
           ],
           "sequential": [
            [
             0,
             "#0d0887"
            ],
            [
             0.1111111111111111,
             "#46039f"
            ],
            [
             0.2222222222222222,
             "#7201a8"
            ],
            [
             0.3333333333333333,
             "#9c179e"
            ],
            [
             0.4444444444444444,
             "#bd3786"
            ],
            [
             0.5555555555555556,
             "#d8576b"
            ],
            [
             0.6666666666666666,
             "#ed7953"
            ],
            [
             0.7777777777777778,
             "#fb9f3a"
            ],
            [
             0.8888888888888888,
             "#fdca26"
            ],
            [
             1,
             "#f0f921"
            ]
           ],
           "sequentialminus": [
            [
             0,
             "#0d0887"
            ],
            [
             0.1111111111111111,
             "#46039f"
            ],
            [
             0.2222222222222222,
             "#7201a8"
            ],
            [
             0.3333333333333333,
             "#9c179e"
            ],
            [
             0.4444444444444444,
             "#bd3786"
            ],
            [
             0.5555555555555556,
             "#d8576b"
            ],
            [
             0.6666666666666666,
             "#ed7953"
            ],
            [
             0.7777777777777778,
             "#fb9f3a"
            ],
            [
             0.8888888888888888,
             "#fdca26"
            ],
            [
             1,
             "#f0f921"
            ]
           ]
          },
          "colorway": [
           "#636efa",
           "#EF553B",
           "#00cc96",
           "#ab63fa",
           "#FFA15A",
           "#19d3f3",
           "#FF6692",
           "#B6E880",
           "#FF97FF",
           "#FECB52"
          ],
          "font": {
           "color": "#2a3f5f"
          },
          "geo": {
           "bgcolor": "white",
           "lakecolor": "white",
           "landcolor": "#E5ECF6",
           "showlakes": true,
           "showland": true,
           "subunitcolor": "white"
          },
          "hoverlabel": {
           "align": "left"
          },
          "hovermode": "closest",
          "mapbox": {
           "style": "light"
          },
          "paper_bgcolor": "white",
          "plot_bgcolor": "#E5ECF6",
          "polar": {
           "angularaxis": {
            "gridcolor": "white",
            "linecolor": "white",
            "ticks": ""
           },
           "bgcolor": "#E5ECF6",
           "radialaxis": {
            "gridcolor": "white",
            "linecolor": "white",
            "ticks": ""
           }
          },
          "scene": {
           "xaxis": {
            "backgroundcolor": "#E5ECF6",
            "gridcolor": "white",
            "gridwidth": 2,
            "linecolor": "white",
            "showbackground": true,
            "ticks": "",
            "zerolinecolor": "white"
           },
           "yaxis": {
            "backgroundcolor": "#E5ECF6",
            "gridcolor": "white",
            "gridwidth": 2,
            "linecolor": "white",
            "showbackground": true,
            "ticks": "",
            "zerolinecolor": "white"
           },
           "zaxis": {
            "backgroundcolor": "#E5ECF6",
            "gridcolor": "white",
            "gridwidth": 2,
            "linecolor": "white",
            "showbackground": true,
            "ticks": "",
            "zerolinecolor": "white"
           }
          },
          "shapedefaults": {
           "line": {
            "color": "#2a3f5f"
           }
          },
          "ternary": {
           "aaxis": {
            "gridcolor": "white",
            "linecolor": "white",
            "ticks": ""
           },
           "baxis": {
            "gridcolor": "white",
            "linecolor": "white",
            "ticks": ""
           },
           "bgcolor": "#E5ECF6",
           "caxis": {
            "gridcolor": "white",
            "linecolor": "white",
            "ticks": ""
           }
          },
          "title": {
           "x": 0.05
          },
          "xaxis": {
           "automargin": true,
           "gridcolor": "white",
           "linecolor": "white",
           "ticks": "",
           "title": {
            "standoff": 15
           },
           "zerolinecolor": "white",
           "zerolinewidth": 2
          },
          "yaxis": {
           "automargin": true,
           "gridcolor": "white",
           "linecolor": "white",
           "ticks": "",
           "title": {
            "standoff": 15
           },
           "zerolinecolor": "white",
           "zerolinewidth": 2
          }
         }
        },
        "title": {
         "font": {
          "color": "#4D5663"
         }
        },
        "xaxis": {
         "gridcolor": "#E1E5ED",
         "showgrid": true,
         "tickfont": {
          "color": "#4D5663"
         },
         "title": {
          "font": {
           "color": "#4D5663"
          },
          "text": ""
         },
         "zerolinecolor": "#E1E5ED"
        },
        "yaxis": {
         "gridcolor": "#E1E5ED",
         "showgrid": true,
         "tickfont": {
          "color": "#4D5663"
         },
         "title": {
          "font": {
           "color": "#4D5663"
          },
          "text": ""
         },
         "zerolinecolor": "#E1E5ED"
        }
       }
      },
      "text/html": [
       "<div>                            <div id=\"91c1dcd0-72fb-4fbf-95bf-cadfdd89bd0b\" class=\"plotly-graph-div\" style=\"height:525px; width:100%;\"></div>            <script type=\"text/javascript\">                require([\"plotly\"], function(Plotly) {                    window.PLOTLYENV=window.PLOTLYENV || {};\n",
       "                    window.PLOTLYENV.BASE_URL='https://plot.ly';                                    if (document.getElementById(\"91c1dcd0-72fb-4fbf-95bf-cadfdd89bd0b\")) {                    Plotly.newPlot(                        \"91c1dcd0-72fb-4fbf-95bf-cadfdd89bd0b\",                        [{\"marker\":{\"color\":[\"rgb(255, 153, 51)\",\"rgb(55, 128, 191)\",\"rgb(50, 171, 96)\",\"rgb(128, 0, 128)\",\"rgb(219, 64, 82)\",\"rgb(0, 128, 128)\",\"rgb(255, 255, 51)\",\"rgb(128, 128, 0)\",\"rgb(251, 128, 114)\",\"rgb(128, 177, 211)\"],\"line\":{\"width\":1.3},\"size\":[56,65,43,88,95,53,53,56,53,69,60,51,66,83,49,66,40,38,79,47,93,65,71,59,61,69,51,50,83,62,76,42,101,43,54,47,49,12,52,37,72,61,62,58,38,78,88,75,37,72,32,59,44,69,39,54,78,59,64,73,70,76,88,23,66,45,53,43,79,71,82,72,81,112,50,66,71,68,62,75,45,54,89,52,58,75,47,90,63,43,34,76,63,48,69,63,66,74,68,39],\"symbol\":\"circle\"},\"mode\":\"markers\",\"text\":\"\",\"x\":[-0.6223127097787445,-0.07809162236041678,1.7790474819468551,-1.4247118375561625,-1.4105751154601864,0.2188883169681857,-1.149465863308755,-0.2177532325647362,-1.6726587412621337,1.2097065375742302,-0.7930267396765023,-0.05511018197538327,-0.09030662425254163,1.1619150166121996,0.3097205548007712,0.5129277863969072,0.6184961590026289,-1.4637685018706745,0.4485421585261526,1.767822731251506,-1.0091554353768661,-0.20187565762794943,0.10438402542485582,-1.0271492803595452,-0.549378606146546,-1.0818406350966738,-0.7289573371488666,1.1198836055237327,0.5864148695608872,-0.024355589607592033,0.6980656079470045,-0.8483633384572155,-1.5684647526087565,-1.3874098606278373,-0.6513298563396208,0.6752856776403766,1.9572075005188447,0.3067879974877034,0.08069647639021876,0.013777395371240508,1.1497250255527611,-0.584868011758543,-0.8747816362718722,0.16248255497583639,-0.6338491218052374,-0.18762133433093403,0.7183308864619843,0.03892557856366659,-0.05835543780960389,0.2729009332188614,0.18648405784653066,-0.002357963793111217,-1.6448419115769932,-1.8587399276049648,0.9002409872304978,-0.3246003945946711,-1.7144926347993703,0.7149852461038438,0.15022217521407277,-2.0742708012084057,-1.0082255935657103,0.5729601043333363,0.7210335937747494,0.1605572639077616,0.6811849909147913,-1.1821625386795713,1.3227312433894765,-0.8078552803418341,0.5935199442620323,-0.35774391456928006,0.7460167158855326,0.21037620123633732,-0.001577946660872818,0.3318969809409894,0.29022595465192125,0.6093830084655928,-0.5964490834227272,-1.0873790616847774,0.7385065124916351,-1.1683892869125476,-0.14716717691544046,-0.3190296801594655,-1.62228312074107,0.0940633033641303,-0.7413030015954901,2.5468536611139574,-0.8553192878274413,-0.6214605444473837,-0.37590549650516025,-0.6887968127659998,-0.6023601264871187,0.5480051859117191,1.5398950046172197,1.171647048456549,-0.26945117641978844,1.3553267212960771,-1.8733178535294914,-0.8916742861646291,-0.10395184783622588,0.015416002948039327],\"y\":[0.39299279759057504,0.9703165383850477,-0.3315341358806937,-1.5584031758162409,0.951523596033235,-0.5555846581699916,-1.515512553211831,1.9037823912410028,0.11998085811301533,-0.2799904644871162,0.9649601637582959,-0.2129880463045149,1.608269687420033,-0.9248636326249062,-0.14664756884169589,-0.047763160217688436,0.02140402329140558,0.13626631422295649,-1.2316106623850942,-1.4494740058324187,-0.9643096084728445,-1.8155834317145414,-1.4975399771222855,-2.008459460468831,-0.18844771209113004,-0.8452479670056402,0.2702435905254712,-0.08307773275515531,1.9925306352375145,-0.30011064157012196,-1.8416088365312053,1.4883897812928597,0.2857404107478787,-1.3694143183685137,0.34472215385367405,-0.7333872049097238,1.3796332788800656,-0.00901709225535108,0.5282371077244549,-1.5889248101211482,-0.9168030342948024,-0.8567400095928656,0.5420625354429279,0.3531656963293904,0.9516310013151971,1.4814305926548468,-0.0661783667737621,-0.5366522538953027,-1.0733680524544438,1.664261087255659,0.5546934645540875,-0.9498218183256268,1.6448795435345684,0.2356696285556059,-0.9223882563702976,-1.999143938093221,0.8469020285223882,0.6589074033059399,-0.5799192494117322,-0.7788733134093945,0.7577793943052767,-0.09707784030046557,-0.03455307170219075,-0.8811323416697463,-0.6267043083674482,-1.0269391048157697,-0.5321336972529832,0.8451182902588883,0.08662269451869511,0.31429709601059586,-0.1934184891753213,1.2840149281872961,0.555730360910625,0.45183765131006726,-0.49686842278032023,-0.32947519313932555,-1.19620746138553,-0.7038639841931628,-0.7898364183395687,0.7438412707540987,0.7414495707254729,1.3799733154504426,0.56648572675284,-2.50683210422878,0.9959654653416138,0.367421323759343,-0.46904746013665927,-1.1409670086342902,0.2598216833782342,-1.2902403671698264,0.49678766890658405,-0.48224628270977354,-0.16484644023413372,-1.0334851807235186,0.14970842234302917,0.7165586416171045,1.0511466528478781,2.06350190094373,0.32514957908412,0.2174187719077609],\"type\":\"scatter\"}],                        {\"legend\":{\"bgcolor\":\"#F5F6F9\",\"font\":{\"color\":\"#4D5663\"}},\"paper_bgcolor\":\"#F5F6F9\",\"plot_bgcolor\":\"#F5F6F9\",\"template\":{\"data\":{\"barpolar\":[{\"marker\":{\"line\":{\"color\":\"#E5ECF6\",\"width\":0.5},\"pattern\":{\"fillmode\":\"overlay\",\"size\":10,\"solidity\":0.2}},\"type\":\"barpolar\"}],\"bar\":[{\"error_x\":{\"color\":\"#2a3f5f\"},\"error_y\":{\"color\":\"#2a3f5f\"},\"marker\":{\"line\":{\"color\":\"#E5ECF6\",\"width\":0.5},\"pattern\":{\"fillmode\":\"overlay\",\"size\":10,\"solidity\":0.2}},\"type\":\"bar\"}],\"carpet\":[{\"aaxis\":{\"endlinecolor\":\"#2a3f5f\",\"gridcolor\":\"white\",\"linecolor\":\"white\",\"minorgridcolor\":\"white\",\"startlinecolor\":\"#2a3f5f\"},\"baxis\":{\"endlinecolor\":\"#2a3f5f\",\"gridcolor\":\"white\",\"linecolor\":\"white\",\"minorgridcolor\":\"white\",\"startlinecolor\":\"#2a3f5f\"},\"type\":\"carpet\"}],\"choropleth\":[{\"colorbar\":{\"outlinewidth\":0,\"ticks\":\"\"},\"type\":\"choropleth\"}],\"contourcarpet\":[{\"colorbar\":{\"outlinewidth\":0,\"ticks\":\"\"},\"type\":\"contourcarpet\"}],\"contour\":[{\"colorbar\":{\"outlinewidth\":0,\"ticks\":\"\"},\"colorscale\":[[0.0,\"#0d0887\"],[0.1111111111111111,\"#46039f\"],[0.2222222222222222,\"#7201a8\"],[0.3333333333333333,\"#9c179e\"],[0.4444444444444444,\"#bd3786\"],[0.5555555555555556,\"#d8576b\"],[0.6666666666666666,\"#ed7953\"],[0.7777777777777778,\"#fb9f3a\"],[0.8888888888888888,\"#fdca26\"],[1.0,\"#f0f921\"]],\"type\":\"contour\"}],\"heatmapgl\":[{\"colorbar\":{\"outlinewidth\":0,\"ticks\":\"\"},\"colorscale\":[[0.0,\"#0d0887\"],[0.1111111111111111,\"#46039f\"],[0.2222222222222222,\"#7201a8\"],[0.3333333333333333,\"#9c179e\"],[0.4444444444444444,\"#bd3786\"],[0.5555555555555556,\"#d8576b\"],[0.6666666666666666,\"#ed7953\"],[0.7777777777777778,\"#fb9f3a\"],[0.8888888888888888,\"#fdca26\"],[1.0,\"#f0f921\"]],\"type\":\"heatmapgl\"}],\"heatmap\":[{\"colorbar\":{\"outlinewidth\":0,\"ticks\":\"\"},\"colorscale\":[[0.0,\"#0d0887\"],[0.1111111111111111,\"#46039f\"],[0.2222222222222222,\"#7201a8\"],[0.3333333333333333,\"#9c179e\"],[0.4444444444444444,\"#bd3786\"],[0.5555555555555556,\"#d8576b\"],[0.6666666666666666,\"#ed7953\"],[0.7777777777777778,\"#fb9f3a\"],[0.8888888888888888,\"#fdca26\"],[1.0,\"#f0f921\"]],\"type\":\"heatmap\"}],\"histogram2dcontour\":[{\"colorbar\":{\"outlinewidth\":0,\"ticks\":\"\"},\"colorscale\":[[0.0,\"#0d0887\"],[0.1111111111111111,\"#46039f\"],[0.2222222222222222,\"#7201a8\"],[0.3333333333333333,\"#9c179e\"],[0.4444444444444444,\"#bd3786\"],[0.5555555555555556,\"#d8576b\"],[0.6666666666666666,\"#ed7953\"],[0.7777777777777778,\"#fb9f3a\"],[0.8888888888888888,\"#fdca26\"],[1.0,\"#f0f921\"]],\"type\":\"histogram2dcontour\"}],\"histogram2d\":[{\"colorbar\":{\"outlinewidth\":0,\"ticks\":\"\"},\"colorscale\":[[0.0,\"#0d0887\"],[0.1111111111111111,\"#46039f\"],[0.2222222222222222,\"#7201a8\"],[0.3333333333333333,\"#9c179e\"],[0.4444444444444444,\"#bd3786\"],[0.5555555555555556,\"#d8576b\"],[0.6666666666666666,\"#ed7953\"],[0.7777777777777778,\"#fb9f3a\"],[0.8888888888888888,\"#fdca26\"],[1.0,\"#f0f921\"]],\"type\":\"histogram2d\"}],\"histogram\":[{\"marker\":{\"pattern\":{\"fillmode\":\"overlay\",\"size\":10,\"solidity\":0.2}},\"type\":\"histogram\"}],\"mesh3d\":[{\"colorbar\":{\"outlinewidth\":0,\"ticks\":\"\"},\"type\":\"mesh3d\"}],\"parcoords\":[{\"line\":{\"colorbar\":{\"outlinewidth\":0,\"ticks\":\"\"}},\"type\":\"parcoords\"}],\"pie\":[{\"automargin\":true,\"type\":\"pie\"}],\"scatter3d\":[{\"line\":{\"colorbar\":{\"outlinewidth\":0,\"ticks\":\"\"}},\"marker\":{\"colorbar\":{\"outlinewidth\":0,\"ticks\":\"\"}},\"type\":\"scatter3d\"}],\"scattercarpet\":[{\"marker\":{\"colorbar\":{\"outlinewidth\":0,\"ticks\":\"\"}},\"type\":\"scattercarpet\"}],\"scattergeo\":[{\"marker\":{\"colorbar\":{\"outlinewidth\":0,\"ticks\":\"\"}},\"type\":\"scattergeo\"}],\"scattergl\":[{\"marker\":{\"colorbar\":{\"outlinewidth\":0,\"ticks\":\"\"}},\"type\":\"scattergl\"}],\"scattermapbox\":[{\"marker\":{\"colorbar\":{\"outlinewidth\":0,\"ticks\":\"\"}},\"type\":\"scattermapbox\"}],\"scatterpolargl\":[{\"marker\":{\"colorbar\":{\"outlinewidth\":0,\"ticks\":\"\"}},\"type\":\"scatterpolargl\"}],\"scatterpolar\":[{\"marker\":{\"colorbar\":{\"outlinewidth\":0,\"ticks\":\"\"}},\"type\":\"scatterpolar\"}],\"scatter\":[{\"fillpattern\":{\"fillmode\":\"overlay\",\"size\":10,\"solidity\":0.2},\"type\":\"scatter\"}],\"scatterternary\":[{\"marker\":{\"colorbar\":{\"outlinewidth\":0,\"ticks\":\"\"}},\"type\":\"scatterternary\"}],\"surface\":[{\"colorbar\":{\"outlinewidth\":0,\"ticks\":\"\"},\"colorscale\":[[0.0,\"#0d0887\"],[0.1111111111111111,\"#46039f\"],[0.2222222222222222,\"#7201a8\"],[0.3333333333333333,\"#9c179e\"],[0.4444444444444444,\"#bd3786\"],[0.5555555555555556,\"#d8576b\"],[0.6666666666666666,\"#ed7953\"],[0.7777777777777778,\"#fb9f3a\"],[0.8888888888888888,\"#fdca26\"],[1.0,\"#f0f921\"]],\"type\":\"surface\"}],\"table\":[{\"cells\":{\"fill\":{\"color\":\"#EBF0F8\"},\"line\":{\"color\":\"white\"}},\"header\":{\"fill\":{\"color\":\"#C8D4E3\"},\"line\":{\"color\":\"white\"}},\"type\":\"table\"}]},\"layout\":{\"annotationdefaults\":{\"arrowcolor\":\"#2a3f5f\",\"arrowhead\":0,\"arrowwidth\":1},\"autotypenumbers\":\"strict\",\"coloraxis\":{\"colorbar\":{\"outlinewidth\":0,\"ticks\":\"\"}},\"colorscale\":{\"diverging\":[[0,\"#8e0152\"],[0.1,\"#c51b7d\"],[0.2,\"#de77ae\"],[0.3,\"#f1b6da\"],[0.4,\"#fde0ef\"],[0.5,\"#f7f7f7\"],[0.6,\"#e6f5d0\"],[0.7,\"#b8e186\"],[0.8,\"#7fbc41\"],[0.9,\"#4d9221\"],[1,\"#276419\"]],\"sequential\":[[0.0,\"#0d0887\"],[0.1111111111111111,\"#46039f\"],[0.2222222222222222,\"#7201a8\"],[0.3333333333333333,\"#9c179e\"],[0.4444444444444444,\"#bd3786\"],[0.5555555555555556,\"#d8576b\"],[0.6666666666666666,\"#ed7953\"],[0.7777777777777778,\"#fb9f3a\"],[0.8888888888888888,\"#fdca26\"],[1.0,\"#f0f921\"]],\"sequentialminus\":[[0.0,\"#0d0887\"],[0.1111111111111111,\"#46039f\"],[0.2222222222222222,\"#7201a8\"],[0.3333333333333333,\"#9c179e\"],[0.4444444444444444,\"#bd3786\"],[0.5555555555555556,\"#d8576b\"],[0.6666666666666666,\"#ed7953\"],[0.7777777777777778,\"#fb9f3a\"],[0.8888888888888888,\"#fdca26\"],[1.0,\"#f0f921\"]]},\"colorway\":[\"#636efa\",\"#EF553B\",\"#00cc96\",\"#ab63fa\",\"#FFA15A\",\"#19d3f3\",\"#FF6692\",\"#B6E880\",\"#FF97FF\",\"#FECB52\"],\"font\":{\"color\":\"#2a3f5f\"},\"geo\":{\"bgcolor\":\"white\",\"lakecolor\":\"white\",\"landcolor\":\"#E5ECF6\",\"showlakes\":true,\"showland\":true,\"subunitcolor\":\"white\"},\"hoverlabel\":{\"align\":\"left\"},\"hovermode\":\"closest\",\"mapbox\":{\"style\":\"light\"},\"paper_bgcolor\":\"white\",\"plot_bgcolor\":\"#E5ECF6\",\"polar\":{\"angularaxis\":{\"gridcolor\":\"white\",\"linecolor\":\"white\",\"ticks\":\"\"},\"bgcolor\":\"#E5ECF6\",\"radialaxis\":{\"gridcolor\":\"white\",\"linecolor\":\"white\",\"ticks\":\"\"}},\"scene\":{\"xaxis\":{\"backgroundcolor\":\"#E5ECF6\",\"gridcolor\":\"white\",\"gridwidth\":2,\"linecolor\":\"white\",\"showbackground\":true,\"ticks\":\"\",\"zerolinecolor\":\"white\"},\"yaxis\":{\"backgroundcolor\":\"#E5ECF6\",\"gridcolor\":\"white\",\"gridwidth\":2,\"linecolor\":\"white\",\"showbackground\":true,\"ticks\":\"\",\"zerolinecolor\":\"white\"},\"zaxis\":{\"backgroundcolor\":\"#E5ECF6\",\"gridcolor\":\"white\",\"gridwidth\":2,\"linecolor\":\"white\",\"showbackground\":true,\"ticks\":\"\",\"zerolinecolor\":\"white\"}},\"shapedefaults\":{\"line\":{\"color\":\"#2a3f5f\"}},\"ternary\":{\"aaxis\":{\"gridcolor\":\"white\",\"linecolor\":\"white\",\"ticks\":\"\"},\"baxis\":{\"gridcolor\":\"white\",\"linecolor\":\"white\",\"ticks\":\"\"},\"bgcolor\":\"#E5ECF6\",\"caxis\":{\"gridcolor\":\"white\",\"linecolor\":\"white\",\"ticks\":\"\"}},\"title\":{\"x\":0.05},\"xaxis\":{\"automargin\":true,\"gridcolor\":\"white\",\"linecolor\":\"white\",\"ticks\":\"\",\"title\":{\"standoff\":15},\"zerolinecolor\":\"white\",\"zerolinewidth\":2},\"yaxis\":{\"automargin\":true,\"gridcolor\":\"white\",\"linecolor\":\"white\",\"ticks\":\"\",\"title\":{\"standoff\":15},\"zerolinecolor\":\"white\",\"zerolinewidth\":2}}},\"title\":{\"font\":{\"color\":\"#4D5663\"}},\"xaxis\":{\"gridcolor\":\"#E1E5ED\",\"showgrid\":true,\"tickfont\":{\"color\":\"#4D5663\"},\"title\":{\"font\":{\"color\":\"#4D5663\"},\"text\":\"\"},\"zerolinecolor\":\"#E1E5ED\"},\"yaxis\":{\"gridcolor\":\"#E1E5ED\",\"showgrid\":true,\"tickfont\":{\"color\":\"#4D5663\"},\"title\":{\"font\":{\"color\":\"#4D5663\"},\"text\":\"\"},\"zerolinecolor\":\"#E1E5ED\"}},                        {\"showLink\": true, \"linkText\": \"Export to plot.ly\", \"plotlyServerURL\": \"https://plot.ly\", \"responsive\": true}                    ).then(function(){\n",
       "                            \n",
       "var gd = document.getElementById('91c1dcd0-72fb-4fbf-95bf-cadfdd89bd0b');\n",
       "var x = new MutationObserver(function (mutations, observer) {{\n",
       "        var display = window.getComputedStyle(gd).display;\n",
       "        if (!display || display === 'none') {{\n",
       "            console.log([gd, 'removed!']);\n",
       "            Plotly.purge(gd);\n",
       "            observer.disconnect();\n",
       "        }}\n",
       "}});\n",
       "\n",
       "// Listen for the removal of the full notebook cells\n",
       "var notebookContainer = gd.closest('#notebook-container');\n",
       "if (notebookContainer) {{\n",
       "    x.observe(notebookContainer, {childList: true});\n",
       "}}\n",
       "\n",
       "// Listen for the clearing of the current output cell\n",
       "var outputEl = gd.closest('.output');\n",
       "if (outputEl) {{\n",
       "    x.observe(outputEl, {childList: true});\n",
       "}}\n",
       "\n",
       "                        })                };                });            </script>        </div>"
      ]
     },
     "metadata": {},
     "output_type": "display_data"
    }
   ],
   "source": [
    "\n",
    "df.iplot(kind='bubble',x='A',y='B',size='C')"
   ]
  },
  {
   "cell_type": "code",
   "execution_count": 26,
   "id": "c9906455",
   "metadata": {},
   "outputs": [
    {
     "data": {
      "application/vnd.plotly.v1+json": {
       "config": {
        "linkText": "Export to plot.ly",
        "plotlyServerURL": "https://plot.ly",
        "showLink": true
       },
       "data": [
        {
         "histfunc": "count",
         "histnorm": "",
         "marker": {
          "color": "rgba(255, 153, 51, 1.0)",
          "line": {
           "color": "#4D5663",
           "width": 1.3
          }
         },
         "name": "A",
         "nbinsx": 10,
         "opacity": 0.8,
         "orientation": "v",
         "type": "histogram",
         "x": [
          -0.6223127097787445,
          -0.07809162236041678,
          1.7790474819468551,
          -1.4247118375561625,
          -1.4105751154601864,
          0.2188883169681857,
          -1.149465863308755,
          -0.2177532325647362,
          -1.6726587412621337,
          1.2097065375742302,
          -0.7930267396765023,
          -0.05511018197538327,
          -0.09030662425254163,
          1.1619150166121996,
          0.3097205548007712,
          0.5129277863969072,
          0.6184961590026289,
          -1.4637685018706745,
          0.4485421585261526,
          1.767822731251506,
          -1.0091554353768661,
          -0.20187565762794943,
          0.10438402542485582,
          -1.0271492803595452,
          -0.549378606146546,
          -1.0818406350966738,
          -0.7289573371488666,
          1.1198836055237327,
          0.5864148695608872,
          -0.024355589607592033,
          0.6980656079470045,
          -0.8483633384572155,
          -1.5684647526087565,
          -1.3874098606278373,
          -0.6513298563396208,
          0.6752856776403766,
          1.9572075005188447,
          0.3067879974877034,
          0.08069647639021876,
          0.013777395371240508,
          1.1497250255527611,
          -0.584868011758543,
          -0.8747816362718722,
          0.16248255497583639,
          -0.6338491218052374,
          -0.18762133433093403,
          0.7183308864619843,
          0.03892557856366659,
          -0.05835543780960389,
          0.2729009332188614,
          0.18648405784653066,
          -0.002357963793111217,
          -1.6448419115769932,
          -1.8587399276049648,
          0.9002409872304978,
          -0.3246003945946711,
          -1.7144926347993703,
          0.7149852461038438,
          0.15022217521407277,
          -2.0742708012084057,
          -1.0082255935657103,
          0.5729601043333363,
          0.7210335937747494,
          0.1605572639077616,
          0.6811849909147913,
          -1.1821625386795713,
          1.3227312433894765,
          -0.8078552803418341,
          0.5935199442620323,
          -0.35774391456928006,
          0.7460167158855326,
          0.21037620123633732,
          -0.001577946660872818,
          0.3318969809409894,
          0.29022595465192125,
          0.6093830084655928,
          -0.5964490834227272,
          -1.0873790616847774,
          0.7385065124916351,
          -1.1683892869125476,
          -0.14716717691544046,
          -0.3190296801594655,
          -1.62228312074107,
          0.0940633033641303,
          -0.7413030015954901,
          2.5468536611139574,
          -0.8553192878274413,
          -0.6214605444473837,
          -0.37590549650516025,
          -0.6887968127659998,
          -0.6023601264871187,
          0.5480051859117191,
          1.5398950046172197,
          1.171647048456549,
          -0.26945117641978844,
          1.3553267212960771,
          -1.8733178535294914,
          -0.8916742861646291,
          -0.10395184783622588,
          0.015416002948039327
         ],
         "xaxis": "x",
         "yaxis": "y"
        },
        {
         "line": {
          "color": "rgba(128, 128, 128, 1.0)",
          "dash": "solid",
          "shape": "linear",
          "width": 1.3
         },
         "marker": {
          "size": 2,
          "symbol": "circle"
         },
         "mode": "markers",
         "name": "A",
         "text": "",
         "type": "scatter",
         "x": [
          0.39299279759057504,
          0.9703165383850477,
          -0.3315341358806937,
          -1.5584031758162409,
          0.951523596033235,
          -0.5555846581699916,
          -1.515512553211831,
          1.9037823912410028,
          0.11998085811301533,
          -0.2799904644871162,
          0.9649601637582959,
          -0.2129880463045149,
          1.608269687420033,
          -0.9248636326249062,
          -0.14664756884169589,
          -0.047763160217688436,
          0.02140402329140558,
          0.13626631422295649,
          -1.2316106623850942,
          -1.4494740058324187,
          -0.9643096084728445,
          -1.8155834317145414,
          -1.4975399771222855,
          -2.008459460468831,
          -0.18844771209113004,
          -0.8452479670056402,
          0.2702435905254712,
          -0.08307773275515531,
          1.9925306352375145,
          -0.30011064157012196,
          -1.8416088365312053,
          1.4883897812928597,
          0.2857404107478787,
          -1.3694143183685137,
          0.34472215385367405,
          -0.7333872049097238,
          1.3796332788800656,
          -0.00901709225535108,
          0.5282371077244549,
          -1.5889248101211482,
          -0.9168030342948024,
          -0.8567400095928656,
          0.5420625354429279,
          0.3531656963293904,
          0.9516310013151971,
          1.4814305926548468,
          -0.0661783667737621,
          -0.5366522538953027,
          -1.0733680524544438,
          1.664261087255659,
          0.5546934645540875,
          -0.9498218183256268,
          1.6448795435345684,
          0.2356696285556059,
          -0.9223882563702976,
          -1.999143938093221,
          0.8469020285223882,
          0.6589074033059399,
          -0.5799192494117322,
          -0.7788733134093945,
          0.7577793943052767,
          -0.09707784030046557,
          -0.03455307170219075,
          -0.8811323416697463,
          -0.6267043083674482,
          -1.0269391048157697,
          -0.5321336972529832,
          0.8451182902588883,
          0.08662269451869511,
          0.31429709601059586,
          -0.1934184891753213,
          1.2840149281872961,
          0.555730360910625,
          0.45183765131006726,
          -0.49686842278032023,
          -0.32947519313932555,
          -1.19620746138553,
          -0.7038639841931628,
          -0.7898364183395687,
          0.7438412707540987,
          0.7414495707254729,
          1.3799733154504426,
          0.56648572675284,
          -2.50683210422878,
          0.9959654653416138,
          0.367421323759343,
          -0.46904746013665927,
          -1.1409670086342902,
          0.2598216833782342,
          -1.2902403671698264,
          0.49678766890658405,
          -0.48224628270977354,
          -0.16484644023413372,
          -1.0334851807235186,
          0.14970842234302917,
          0.7165586416171045,
          1.0511466528478781,
          2.06350190094373,
          0.32514957908412,
          0.2174187719077609
         ],
         "xaxis": "x2",
         "y": [
          -0.6223127097787445,
          -0.07809162236041678,
          1.7790474819468551,
          -1.4247118375561625,
          -1.4105751154601864,
          0.2188883169681857,
          -1.149465863308755,
          -0.2177532325647362,
          -1.6726587412621337,
          1.2097065375742302,
          -0.7930267396765023,
          -0.05511018197538327,
          -0.09030662425254163,
          1.1619150166121996,
          0.3097205548007712,
          0.5129277863969072,
          0.6184961590026289,
          -1.4637685018706745,
          0.4485421585261526,
          1.767822731251506,
          -1.0091554353768661,
          -0.20187565762794943,
          0.10438402542485582,
          -1.0271492803595452,
          -0.549378606146546,
          -1.0818406350966738,
          -0.7289573371488666,
          1.1198836055237327,
          0.5864148695608872,
          -0.024355589607592033,
          0.6980656079470045,
          -0.8483633384572155,
          -1.5684647526087565,
          -1.3874098606278373,
          -0.6513298563396208,
          0.6752856776403766,
          1.9572075005188447,
          0.3067879974877034,
          0.08069647639021876,
          0.013777395371240508,
          1.1497250255527611,
          -0.584868011758543,
          -0.8747816362718722,
          0.16248255497583639,
          -0.6338491218052374,
          -0.18762133433093403,
          0.7183308864619843,
          0.03892557856366659,
          -0.05835543780960389,
          0.2729009332188614,
          0.18648405784653066,
          -0.002357963793111217,
          -1.6448419115769932,
          -1.8587399276049648,
          0.9002409872304978,
          -0.3246003945946711,
          -1.7144926347993703,
          0.7149852461038438,
          0.15022217521407277,
          -2.0742708012084057,
          -1.0082255935657103,
          0.5729601043333363,
          0.7210335937747494,
          0.1605572639077616,
          0.6811849909147913,
          -1.1821625386795713,
          1.3227312433894765,
          -0.8078552803418341,
          0.5935199442620323,
          -0.35774391456928006,
          0.7460167158855326,
          0.21037620123633732,
          -0.001577946660872818,
          0.3318969809409894,
          0.29022595465192125,
          0.6093830084655928,
          -0.5964490834227272,
          -1.0873790616847774,
          0.7385065124916351,
          -1.1683892869125476,
          -0.14716717691544046,
          -0.3190296801594655,
          -1.62228312074107,
          0.0940633033641303,
          -0.7413030015954901,
          2.5468536611139574,
          -0.8553192878274413,
          -0.6214605444473837,
          -0.37590549650516025,
          -0.6887968127659998,
          -0.6023601264871187,
          0.5480051859117191,
          1.5398950046172197,
          1.171647048456549,
          -0.26945117641978844,
          1.3553267212960771,
          -1.8733178535294914,
          -0.8916742861646291,
          -0.10395184783622588,
          0.015416002948039327
         ],
         "yaxis": "y2"
        },
        {
         "line": {
          "color": "rgba(128, 128, 128, 1.0)",
          "dash": "solid",
          "shape": "linear",
          "width": 1.3
         },
         "marker": {
          "size": 2,
          "symbol": "circle"
         },
         "mode": "markers",
         "name": "A",
         "text": "",
         "type": "scatter",
         "x": [
          -0.1394922412256659,
          0.38734155585847974,
          -0.9260957315446555,
          1.7598055851729693,
          2.210787136403946,
          -0.3022733556354362,
          -0.3321972707800144,
          -0.1552642924054388,
          -0.2870423301786768,
          0.6442732570082397,
          0.11014394961086883,
          -0.4278396030263597,
          0.43364625245808236,
          1.4508588360666845,
          -0.5423396917786653,
          0.4766730628614621,
          -1.0930741231694232,
          -1.2251625013267404,
          1.2278357534838633,
          -0.6586740241489065,
          2.0719087709201016,
          0.41495965936344326,
          0.7561162864867124,
          0.04064409247531572,
          0.18851771376240875,
          0.6321301873304279,
          -0.44742800509363195,
          -0.48617943220762816,
          1.4537403915676392,
          0.19349128592075931,
          1.0296497319579134,
          -0.9693172781930631,
          2.550997324758455,
          -0.9235141105083481,
          -0.2556884233919607,
          -0.6649752111022003,
          -0.5468451556298982,
          -2.7844579414935353,
          -0.3971986657038678,
          -1.2694849579678578,
          0.8050226821235916,
          0.183959600770004,
          0.19582171030744405,
          -0.04239771612971373,
          -1.1844633897934997,
          1.1586783863964807,
          1.7492385698415471,
          1.0158785881673311,
          -1.237607244103128,
          0.843448452886732,
          -1.5637969246951338,
          0.025004871592748112,
          -0.8471180601748635,
          0.6629186648730425,
          -1.1648273994392528,
          -0.2378197288212158,
          1.1587423625965083,
          0.06258506694463219,
          0.36201188717091604,
          0.8742136902258705,
          0.6755642100990448,
          1.0635356940506575,
          1.7509628418864445,
          -2.1122627787085353,
          0.4482910496415664,
          -0.7679156676626054,
          -0.32932409452845224,
          -0.8920180348539344,
          1.2108231224002985,
          0.728060788136938,
          1.3965365372564333,
          0.8408845871772697,
          1.34008003144846,
          3.1650637473110064,
          -0.47730283407630475,
          0.4445011172798934,
          0.7474000002979312,
          0.553429497434904,
          0.20155853477728425,
          0.9814895054945997,
          -0.7619892824985112,
          -0.23241769812505747,
          1.8545481854514945,
          -0.3933567137433616,
          -0.015279273912303869,
          0.9700559196306061,
          -0.7020615572239038,
          1.8908441811029264,
          0.2811541369905382,
          -0.9076193687338854,
          -1.4369113370368245,
          1.0735601139879156,
          0.2777949972840057,
          -0.6003160649082503,
          0.616082822519307,
          0.25233133157908066,
          0.46033039566920175,
          0.9550636859373486,
          0.5617910910295629,
          -1.1333573423474372
         ],
         "xaxis": "x3",
         "y": [
          -0.6223127097787445,
          -0.07809162236041678,
          1.7790474819468551,
          -1.4247118375561625,
          -1.4105751154601864,
          0.2188883169681857,
          -1.149465863308755,
          -0.2177532325647362,
          -1.6726587412621337,
          1.2097065375742302,
          -0.7930267396765023,
          -0.05511018197538327,
          -0.09030662425254163,
          1.1619150166121996,
          0.3097205548007712,
          0.5129277863969072,
          0.6184961590026289,
          -1.4637685018706745,
          0.4485421585261526,
          1.767822731251506,
          -1.0091554353768661,
          -0.20187565762794943,
          0.10438402542485582,
          -1.0271492803595452,
          -0.549378606146546,
          -1.0818406350966738,
          -0.7289573371488666,
          1.1198836055237327,
          0.5864148695608872,
          -0.024355589607592033,
          0.6980656079470045,
          -0.8483633384572155,
          -1.5684647526087565,
          -1.3874098606278373,
          -0.6513298563396208,
          0.6752856776403766,
          1.9572075005188447,
          0.3067879974877034,
          0.08069647639021876,
          0.013777395371240508,
          1.1497250255527611,
          -0.584868011758543,
          -0.8747816362718722,
          0.16248255497583639,
          -0.6338491218052374,
          -0.18762133433093403,
          0.7183308864619843,
          0.03892557856366659,
          -0.05835543780960389,
          0.2729009332188614,
          0.18648405784653066,
          -0.002357963793111217,
          -1.6448419115769932,
          -1.8587399276049648,
          0.9002409872304978,
          -0.3246003945946711,
          -1.7144926347993703,
          0.7149852461038438,
          0.15022217521407277,
          -2.0742708012084057,
          -1.0082255935657103,
          0.5729601043333363,
          0.7210335937747494,
          0.1605572639077616,
          0.6811849909147913,
          -1.1821625386795713,
          1.3227312433894765,
          -0.8078552803418341,
          0.5935199442620323,
          -0.35774391456928006,
          0.7460167158855326,
          0.21037620123633732,
          -0.001577946660872818,
          0.3318969809409894,
          0.29022595465192125,
          0.6093830084655928,
          -0.5964490834227272,
          -1.0873790616847774,
          0.7385065124916351,
          -1.1683892869125476,
          -0.14716717691544046,
          -0.3190296801594655,
          -1.62228312074107,
          0.0940633033641303,
          -0.7413030015954901,
          2.5468536611139574,
          -0.8553192878274413,
          -0.6214605444473837,
          -0.37590549650516025,
          -0.6887968127659998,
          -0.6023601264871187,
          0.5480051859117191,
          1.5398950046172197,
          1.171647048456549,
          -0.26945117641978844,
          1.3553267212960771,
          -1.8733178535294914,
          -0.8916742861646291,
          -0.10395184783622588,
          0.015416002948039327
         ],
         "yaxis": "y3"
        },
        {
         "line": {
          "color": "rgba(128, 128, 128, 1.0)",
          "dash": "solid",
          "shape": "linear",
          "width": 1.3
         },
         "marker": {
          "size": 2,
          "symbol": "circle"
         },
         "mode": "markers",
         "name": "A",
         "text": "",
         "type": "scatter",
         "x": [
          0.010313421967021626,
          0.9774787952723087,
          1.1832753189872105,
          -0.683841096896405,
          -0.6200486822091427,
          -1.3824334314231927,
          2.4453494443121597,
          -3.2119560314205766,
          -1.0113513717441274,
          -0.6910889000887538,
          -0.0007939603834835492,
          0.8034006202562674,
          0.6451956621787378,
          -0.5374908243435591,
          -0.009328334097994636,
          0.16665395862426705,
          -1.3602141884570391,
          0.5738391028689689,
          0.6750183691447313,
          0.20520058828298732,
          0.6681745288709247,
          1.0059022683148486,
          0.3944244869874825,
          -0.752639833939874,
          -1.158770538550278,
          -0.24544679136561875,
          -1.3646155805597115,
          0.9551921454161609,
          2.2844343748544493,
          -0.7696634640778297,
          -0.621897690952007,
          -0.34550223084018666,
          -0.4884301152484405,
          0.21928554316860505,
          -0.6829311425330685,
          0.5566508785290419,
          0.7624837165894379,
          -0.5478342499850288,
          0.5801653285577393,
          -0.632425720880273,
          -0.8417813926515596,
          -1.6236927181568437,
          1.9493597870649115,
          0.7465752119643185,
          0.5372780985435524,
          -2.1710348618073723,
          -0.6593875365739125,
          -0.018473140773435842,
          -0.04245242423015054,
          -0.6300682302117817,
          -1.2168773540689084,
          0.9319362138761141,
          -2.6638540758230627,
          -1.9315507625560588,
          -0.16701688100938009,
          -0.2062492957875122,
          -0.8358111006979888,
          0.6863144588219658,
          1.3846234929089063,
          -0.4753417448026249,
          -0.08792035864135517,
          -0.8112352217389021,
          0.14187936679133517,
          1.1734093670706989,
          -0.1322224862763447,
          0.20517567407068496,
          -1.760978391548266,
          0.23801612095180943,
          -1.403049283002082,
          0.2743706916166362,
          -0.6236523305572523,
          0.2725927370556236,
          0.8448899074036795,
          0.4626130789181829,
          0.2668959697949256,
          0.12867707772407294,
          -0.0543150251890773,
          0.18299637276404898,
          1.7752764866442248,
          -1.2374048440464878,
          0.6320590806476215,
          -0.9369986892289005,
          0.1231636933708757,
          -0.4458508374014565,
          0.3011104070617941,
          0.29221209883127613,
          -1.9921867599816934,
          0.2143544019177814,
          -1.5246716720992082,
          0.631959493414628,
          -1.7234468191694932,
          0.7771196299925165,
          0.2242601120175588,
          -0.08539207089427393,
          -2.168210226949958,
          0.15597597461677742,
          0.27321431901873094,
          -0.23689895193153876,
          -0.7164606321195535,
          -1.0314167978024231
         ],
         "xaxis": "x4",
         "y": [
          -0.6223127097787445,
          -0.07809162236041678,
          1.7790474819468551,
          -1.4247118375561625,
          -1.4105751154601864,
          0.2188883169681857,
          -1.149465863308755,
          -0.2177532325647362,
          -1.6726587412621337,
          1.2097065375742302,
          -0.7930267396765023,
          -0.05511018197538327,
          -0.09030662425254163,
          1.1619150166121996,
          0.3097205548007712,
          0.5129277863969072,
          0.6184961590026289,
          -1.4637685018706745,
          0.4485421585261526,
          1.767822731251506,
          -1.0091554353768661,
          -0.20187565762794943,
          0.10438402542485582,
          -1.0271492803595452,
          -0.549378606146546,
          -1.0818406350966738,
          -0.7289573371488666,
          1.1198836055237327,
          0.5864148695608872,
          -0.024355589607592033,
          0.6980656079470045,
          -0.8483633384572155,
          -1.5684647526087565,
          -1.3874098606278373,
          -0.6513298563396208,
          0.6752856776403766,
          1.9572075005188447,
          0.3067879974877034,
          0.08069647639021876,
          0.013777395371240508,
          1.1497250255527611,
          -0.584868011758543,
          -0.8747816362718722,
          0.16248255497583639,
          -0.6338491218052374,
          -0.18762133433093403,
          0.7183308864619843,
          0.03892557856366659,
          -0.05835543780960389,
          0.2729009332188614,
          0.18648405784653066,
          -0.002357963793111217,
          -1.6448419115769932,
          -1.8587399276049648,
          0.9002409872304978,
          -0.3246003945946711,
          -1.7144926347993703,
          0.7149852461038438,
          0.15022217521407277,
          -2.0742708012084057,
          -1.0082255935657103,
          0.5729601043333363,
          0.7210335937747494,
          0.1605572639077616,
          0.6811849909147913,
          -1.1821625386795713,
          1.3227312433894765,
          -0.8078552803418341,
          0.5935199442620323,
          -0.35774391456928006,
          0.7460167158855326,
          0.21037620123633732,
          -0.001577946660872818,
          0.3318969809409894,
          0.29022595465192125,
          0.6093830084655928,
          -0.5964490834227272,
          -1.0873790616847774,
          0.7385065124916351,
          -1.1683892869125476,
          -0.14716717691544046,
          -0.3190296801594655,
          -1.62228312074107,
          0.0940633033641303,
          -0.7413030015954901,
          2.5468536611139574,
          -0.8553192878274413,
          -0.6214605444473837,
          -0.37590549650516025,
          -0.6887968127659998,
          -0.6023601264871187,
          0.5480051859117191,
          1.5398950046172197,
          1.171647048456549,
          -0.26945117641978844,
          1.3553267212960771,
          -1.8733178535294914,
          -0.8916742861646291,
          -0.10395184783622588,
          0.015416002948039327
         ],
         "yaxis": "y4"
        },
        {
         "line": {
          "color": "rgba(128, 128, 128, 1.0)",
          "dash": "solid",
          "shape": "linear",
          "width": 1.3
         },
         "marker": {
          "size": 2,
          "symbol": "circle"
         },
         "mode": "markers",
         "name": "B",
         "text": "",
         "type": "scatter",
         "x": [
          -0.6223127097787445,
          -0.07809162236041678,
          1.7790474819468551,
          -1.4247118375561625,
          -1.4105751154601864,
          0.2188883169681857,
          -1.149465863308755,
          -0.2177532325647362,
          -1.6726587412621337,
          1.2097065375742302,
          -0.7930267396765023,
          -0.05511018197538327,
          -0.09030662425254163,
          1.1619150166121996,
          0.3097205548007712,
          0.5129277863969072,
          0.6184961590026289,
          -1.4637685018706745,
          0.4485421585261526,
          1.767822731251506,
          -1.0091554353768661,
          -0.20187565762794943,
          0.10438402542485582,
          -1.0271492803595452,
          -0.549378606146546,
          -1.0818406350966738,
          -0.7289573371488666,
          1.1198836055237327,
          0.5864148695608872,
          -0.024355589607592033,
          0.6980656079470045,
          -0.8483633384572155,
          -1.5684647526087565,
          -1.3874098606278373,
          -0.6513298563396208,
          0.6752856776403766,
          1.9572075005188447,
          0.3067879974877034,
          0.08069647639021876,
          0.013777395371240508,
          1.1497250255527611,
          -0.584868011758543,
          -0.8747816362718722,
          0.16248255497583639,
          -0.6338491218052374,
          -0.18762133433093403,
          0.7183308864619843,
          0.03892557856366659,
          -0.05835543780960389,
          0.2729009332188614,
          0.18648405784653066,
          -0.002357963793111217,
          -1.6448419115769932,
          -1.8587399276049648,
          0.9002409872304978,
          -0.3246003945946711,
          -1.7144926347993703,
          0.7149852461038438,
          0.15022217521407277,
          -2.0742708012084057,
          -1.0082255935657103,
          0.5729601043333363,
          0.7210335937747494,
          0.1605572639077616,
          0.6811849909147913,
          -1.1821625386795713,
          1.3227312433894765,
          -0.8078552803418341,
          0.5935199442620323,
          -0.35774391456928006,
          0.7460167158855326,
          0.21037620123633732,
          -0.001577946660872818,
          0.3318969809409894,
          0.29022595465192125,
          0.6093830084655928,
          -0.5964490834227272,
          -1.0873790616847774,
          0.7385065124916351,
          -1.1683892869125476,
          -0.14716717691544046,
          -0.3190296801594655,
          -1.62228312074107,
          0.0940633033641303,
          -0.7413030015954901,
          2.5468536611139574,
          -0.8553192878274413,
          -0.6214605444473837,
          -0.37590549650516025,
          -0.6887968127659998,
          -0.6023601264871187,
          0.5480051859117191,
          1.5398950046172197,
          1.171647048456549,
          -0.26945117641978844,
          1.3553267212960771,
          -1.8733178535294914,
          -0.8916742861646291,
          -0.10395184783622588,
          0.015416002948039327
         ],
         "xaxis": "x5",
         "y": [
          0.39299279759057504,
          0.9703165383850477,
          -0.3315341358806937,
          -1.5584031758162409,
          0.951523596033235,
          -0.5555846581699916,
          -1.515512553211831,
          1.9037823912410028,
          0.11998085811301533,
          -0.2799904644871162,
          0.9649601637582959,
          -0.2129880463045149,
          1.608269687420033,
          -0.9248636326249062,
          -0.14664756884169589,
          -0.047763160217688436,
          0.02140402329140558,
          0.13626631422295649,
          -1.2316106623850942,
          -1.4494740058324187,
          -0.9643096084728445,
          -1.8155834317145414,
          -1.4975399771222855,
          -2.008459460468831,
          -0.18844771209113004,
          -0.8452479670056402,
          0.2702435905254712,
          -0.08307773275515531,
          1.9925306352375145,
          -0.30011064157012196,
          -1.8416088365312053,
          1.4883897812928597,
          0.2857404107478787,
          -1.3694143183685137,
          0.34472215385367405,
          -0.7333872049097238,
          1.3796332788800656,
          -0.00901709225535108,
          0.5282371077244549,
          -1.5889248101211482,
          -0.9168030342948024,
          -0.8567400095928656,
          0.5420625354429279,
          0.3531656963293904,
          0.9516310013151971,
          1.4814305926548468,
          -0.0661783667737621,
          -0.5366522538953027,
          -1.0733680524544438,
          1.664261087255659,
          0.5546934645540875,
          -0.9498218183256268,
          1.6448795435345684,
          0.2356696285556059,
          -0.9223882563702976,
          -1.999143938093221,
          0.8469020285223882,
          0.6589074033059399,
          -0.5799192494117322,
          -0.7788733134093945,
          0.7577793943052767,
          -0.09707784030046557,
          -0.03455307170219075,
          -0.8811323416697463,
          -0.6267043083674482,
          -1.0269391048157697,
          -0.5321336972529832,
          0.8451182902588883,
          0.08662269451869511,
          0.31429709601059586,
          -0.1934184891753213,
          1.2840149281872961,
          0.555730360910625,
          0.45183765131006726,
          -0.49686842278032023,
          -0.32947519313932555,
          -1.19620746138553,
          -0.7038639841931628,
          -0.7898364183395687,
          0.7438412707540987,
          0.7414495707254729,
          1.3799733154504426,
          0.56648572675284,
          -2.50683210422878,
          0.9959654653416138,
          0.367421323759343,
          -0.46904746013665927,
          -1.1409670086342902,
          0.2598216833782342,
          -1.2902403671698264,
          0.49678766890658405,
          -0.48224628270977354,
          -0.16484644023413372,
          -1.0334851807235186,
          0.14970842234302917,
          0.7165586416171045,
          1.0511466528478781,
          2.06350190094373,
          0.32514957908412,
          0.2174187719077609
         ],
         "yaxis": "y5"
        },
        {
         "histfunc": "count",
         "histnorm": "",
         "marker": {
          "color": "rgba(55, 128, 191, 1.0)",
          "line": {
           "color": "#4D5663",
           "width": 1.3
          }
         },
         "name": "B",
         "nbinsx": 10,
         "opacity": 0.8,
         "orientation": "v",
         "type": "histogram",
         "x": [
          0.39299279759057504,
          0.9703165383850477,
          -0.3315341358806937,
          -1.5584031758162409,
          0.951523596033235,
          -0.5555846581699916,
          -1.515512553211831,
          1.9037823912410028,
          0.11998085811301533,
          -0.2799904644871162,
          0.9649601637582959,
          -0.2129880463045149,
          1.608269687420033,
          -0.9248636326249062,
          -0.14664756884169589,
          -0.047763160217688436,
          0.02140402329140558,
          0.13626631422295649,
          -1.2316106623850942,
          -1.4494740058324187,
          -0.9643096084728445,
          -1.8155834317145414,
          -1.4975399771222855,
          -2.008459460468831,
          -0.18844771209113004,
          -0.8452479670056402,
          0.2702435905254712,
          -0.08307773275515531,
          1.9925306352375145,
          -0.30011064157012196,
          -1.8416088365312053,
          1.4883897812928597,
          0.2857404107478787,
          -1.3694143183685137,
          0.34472215385367405,
          -0.7333872049097238,
          1.3796332788800656,
          -0.00901709225535108,
          0.5282371077244549,
          -1.5889248101211482,
          -0.9168030342948024,
          -0.8567400095928656,
          0.5420625354429279,
          0.3531656963293904,
          0.9516310013151971,
          1.4814305926548468,
          -0.0661783667737621,
          -0.5366522538953027,
          -1.0733680524544438,
          1.664261087255659,
          0.5546934645540875,
          -0.9498218183256268,
          1.6448795435345684,
          0.2356696285556059,
          -0.9223882563702976,
          -1.999143938093221,
          0.8469020285223882,
          0.6589074033059399,
          -0.5799192494117322,
          -0.7788733134093945,
          0.7577793943052767,
          -0.09707784030046557,
          -0.03455307170219075,
          -0.8811323416697463,
          -0.6267043083674482,
          -1.0269391048157697,
          -0.5321336972529832,
          0.8451182902588883,
          0.08662269451869511,
          0.31429709601059586,
          -0.1934184891753213,
          1.2840149281872961,
          0.555730360910625,
          0.45183765131006726,
          -0.49686842278032023,
          -0.32947519313932555,
          -1.19620746138553,
          -0.7038639841931628,
          -0.7898364183395687,
          0.7438412707540987,
          0.7414495707254729,
          1.3799733154504426,
          0.56648572675284,
          -2.50683210422878,
          0.9959654653416138,
          0.367421323759343,
          -0.46904746013665927,
          -1.1409670086342902,
          0.2598216833782342,
          -1.2902403671698264,
          0.49678766890658405,
          -0.48224628270977354,
          -0.16484644023413372,
          -1.0334851807235186,
          0.14970842234302917,
          0.7165586416171045,
          1.0511466528478781,
          2.06350190094373,
          0.32514957908412,
          0.2174187719077609
         ],
         "xaxis": "x6",
         "yaxis": "y6"
        },
        {
         "line": {
          "color": "rgba(128, 128, 128, 1.0)",
          "dash": "solid",
          "shape": "linear",
          "width": 1.3
         },
         "marker": {
          "size": 2,
          "symbol": "circle"
         },
         "mode": "markers",
         "name": "B",
         "text": "",
         "type": "scatter",
         "x": [
          -0.1394922412256659,
          0.38734155585847974,
          -0.9260957315446555,
          1.7598055851729693,
          2.210787136403946,
          -0.3022733556354362,
          -0.3321972707800144,
          -0.1552642924054388,
          -0.2870423301786768,
          0.6442732570082397,
          0.11014394961086883,
          -0.4278396030263597,
          0.43364625245808236,
          1.4508588360666845,
          -0.5423396917786653,
          0.4766730628614621,
          -1.0930741231694232,
          -1.2251625013267404,
          1.2278357534838633,
          -0.6586740241489065,
          2.0719087709201016,
          0.41495965936344326,
          0.7561162864867124,
          0.04064409247531572,
          0.18851771376240875,
          0.6321301873304279,
          -0.44742800509363195,
          -0.48617943220762816,
          1.4537403915676392,
          0.19349128592075931,
          1.0296497319579134,
          -0.9693172781930631,
          2.550997324758455,
          -0.9235141105083481,
          -0.2556884233919607,
          -0.6649752111022003,
          -0.5468451556298982,
          -2.7844579414935353,
          -0.3971986657038678,
          -1.2694849579678578,
          0.8050226821235916,
          0.183959600770004,
          0.19582171030744405,
          -0.04239771612971373,
          -1.1844633897934997,
          1.1586783863964807,
          1.7492385698415471,
          1.0158785881673311,
          -1.237607244103128,
          0.843448452886732,
          -1.5637969246951338,
          0.025004871592748112,
          -0.8471180601748635,
          0.6629186648730425,
          -1.1648273994392528,
          -0.2378197288212158,
          1.1587423625965083,
          0.06258506694463219,
          0.36201188717091604,
          0.8742136902258705,
          0.6755642100990448,
          1.0635356940506575,
          1.7509628418864445,
          -2.1122627787085353,
          0.4482910496415664,
          -0.7679156676626054,
          -0.32932409452845224,
          -0.8920180348539344,
          1.2108231224002985,
          0.728060788136938,
          1.3965365372564333,
          0.8408845871772697,
          1.34008003144846,
          3.1650637473110064,
          -0.47730283407630475,
          0.4445011172798934,
          0.7474000002979312,
          0.553429497434904,
          0.20155853477728425,
          0.9814895054945997,
          -0.7619892824985112,
          -0.23241769812505747,
          1.8545481854514945,
          -0.3933567137433616,
          -0.015279273912303869,
          0.9700559196306061,
          -0.7020615572239038,
          1.8908441811029264,
          0.2811541369905382,
          -0.9076193687338854,
          -1.4369113370368245,
          1.0735601139879156,
          0.2777949972840057,
          -0.6003160649082503,
          0.616082822519307,
          0.25233133157908066,
          0.46033039566920175,
          0.9550636859373486,
          0.5617910910295629,
          -1.1333573423474372
         ],
         "xaxis": "x7",
         "y": [
          0.39299279759057504,
          0.9703165383850477,
          -0.3315341358806937,
          -1.5584031758162409,
          0.951523596033235,
          -0.5555846581699916,
          -1.515512553211831,
          1.9037823912410028,
          0.11998085811301533,
          -0.2799904644871162,
          0.9649601637582959,
          -0.2129880463045149,
          1.608269687420033,
          -0.9248636326249062,
          -0.14664756884169589,
          -0.047763160217688436,
          0.02140402329140558,
          0.13626631422295649,
          -1.2316106623850942,
          -1.4494740058324187,
          -0.9643096084728445,
          -1.8155834317145414,
          -1.4975399771222855,
          -2.008459460468831,
          -0.18844771209113004,
          -0.8452479670056402,
          0.2702435905254712,
          -0.08307773275515531,
          1.9925306352375145,
          -0.30011064157012196,
          -1.8416088365312053,
          1.4883897812928597,
          0.2857404107478787,
          -1.3694143183685137,
          0.34472215385367405,
          -0.7333872049097238,
          1.3796332788800656,
          -0.00901709225535108,
          0.5282371077244549,
          -1.5889248101211482,
          -0.9168030342948024,
          -0.8567400095928656,
          0.5420625354429279,
          0.3531656963293904,
          0.9516310013151971,
          1.4814305926548468,
          -0.0661783667737621,
          -0.5366522538953027,
          -1.0733680524544438,
          1.664261087255659,
          0.5546934645540875,
          -0.9498218183256268,
          1.6448795435345684,
          0.2356696285556059,
          -0.9223882563702976,
          -1.999143938093221,
          0.8469020285223882,
          0.6589074033059399,
          -0.5799192494117322,
          -0.7788733134093945,
          0.7577793943052767,
          -0.09707784030046557,
          -0.03455307170219075,
          -0.8811323416697463,
          -0.6267043083674482,
          -1.0269391048157697,
          -0.5321336972529832,
          0.8451182902588883,
          0.08662269451869511,
          0.31429709601059586,
          -0.1934184891753213,
          1.2840149281872961,
          0.555730360910625,
          0.45183765131006726,
          -0.49686842278032023,
          -0.32947519313932555,
          -1.19620746138553,
          -0.7038639841931628,
          -0.7898364183395687,
          0.7438412707540987,
          0.7414495707254729,
          1.3799733154504426,
          0.56648572675284,
          -2.50683210422878,
          0.9959654653416138,
          0.367421323759343,
          -0.46904746013665927,
          -1.1409670086342902,
          0.2598216833782342,
          -1.2902403671698264,
          0.49678766890658405,
          -0.48224628270977354,
          -0.16484644023413372,
          -1.0334851807235186,
          0.14970842234302917,
          0.7165586416171045,
          1.0511466528478781,
          2.06350190094373,
          0.32514957908412,
          0.2174187719077609
         ],
         "yaxis": "y7"
        },
        {
         "line": {
          "color": "rgba(128, 128, 128, 1.0)",
          "dash": "solid",
          "shape": "linear",
          "width": 1.3
         },
         "marker": {
          "size": 2,
          "symbol": "circle"
         },
         "mode": "markers",
         "name": "B",
         "text": "",
         "type": "scatter",
         "x": [
          0.010313421967021626,
          0.9774787952723087,
          1.1832753189872105,
          -0.683841096896405,
          -0.6200486822091427,
          -1.3824334314231927,
          2.4453494443121597,
          -3.2119560314205766,
          -1.0113513717441274,
          -0.6910889000887538,
          -0.0007939603834835492,
          0.8034006202562674,
          0.6451956621787378,
          -0.5374908243435591,
          -0.009328334097994636,
          0.16665395862426705,
          -1.3602141884570391,
          0.5738391028689689,
          0.6750183691447313,
          0.20520058828298732,
          0.6681745288709247,
          1.0059022683148486,
          0.3944244869874825,
          -0.752639833939874,
          -1.158770538550278,
          -0.24544679136561875,
          -1.3646155805597115,
          0.9551921454161609,
          2.2844343748544493,
          -0.7696634640778297,
          -0.621897690952007,
          -0.34550223084018666,
          -0.4884301152484405,
          0.21928554316860505,
          -0.6829311425330685,
          0.5566508785290419,
          0.7624837165894379,
          -0.5478342499850288,
          0.5801653285577393,
          -0.632425720880273,
          -0.8417813926515596,
          -1.6236927181568437,
          1.9493597870649115,
          0.7465752119643185,
          0.5372780985435524,
          -2.1710348618073723,
          -0.6593875365739125,
          -0.018473140773435842,
          -0.04245242423015054,
          -0.6300682302117817,
          -1.2168773540689084,
          0.9319362138761141,
          -2.6638540758230627,
          -1.9315507625560588,
          -0.16701688100938009,
          -0.2062492957875122,
          -0.8358111006979888,
          0.6863144588219658,
          1.3846234929089063,
          -0.4753417448026249,
          -0.08792035864135517,
          -0.8112352217389021,
          0.14187936679133517,
          1.1734093670706989,
          -0.1322224862763447,
          0.20517567407068496,
          -1.760978391548266,
          0.23801612095180943,
          -1.403049283002082,
          0.2743706916166362,
          -0.6236523305572523,
          0.2725927370556236,
          0.8448899074036795,
          0.4626130789181829,
          0.2668959697949256,
          0.12867707772407294,
          -0.0543150251890773,
          0.18299637276404898,
          1.7752764866442248,
          -1.2374048440464878,
          0.6320590806476215,
          -0.9369986892289005,
          0.1231636933708757,
          -0.4458508374014565,
          0.3011104070617941,
          0.29221209883127613,
          -1.9921867599816934,
          0.2143544019177814,
          -1.5246716720992082,
          0.631959493414628,
          -1.7234468191694932,
          0.7771196299925165,
          0.2242601120175588,
          -0.08539207089427393,
          -2.168210226949958,
          0.15597597461677742,
          0.27321431901873094,
          -0.23689895193153876,
          -0.7164606321195535,
          -1.0314167978024231
         ],
         "xaxis": "x8",
         "y": [
          0.39299279759057504,
          0.9703165383850477,
          -0.3315341358806937,
          -1.5584031758162409,
          0.951523596033235,
          -0.5555846581699916,
          -1.515512553211831,
          1.9037823912410028,
          0.11998085811301533,
          -0.2799904644871162,
          0.9649601637582959,
          -0.2129880463045149,
          1.608269687420033,
          -0.9248636326249062,
          -0.14664756884169589,
          -0.047763160217688436,
          0.02140402329140558,
          0.13626631422295649,
          -1.2316106623850942,
          -1.4494740058324187,
          -0.9643096084728445,
          -1.8155834317145414,
          -1.4975399771222855,
          -2.008459460468831,
          -0.18844771209113004,
          -0.8452479670056402,
          0.2702435905254712,
          -0.08307773275515531,
          1.9925306352375145,
          -0.30011064157012196,
          -1.8416088365312053,
          1.4883897812928597,
          0.2857404107478787,
          -1.3694143183685137,
          0.34472215385367405,
          -0.7333872049097238,
          1.3796332788800656,
          -0.00901709225535108,
          0.5282371077244549,
          -1.5889248101211482,
          -0.9168030342948024,
          -0.8567400095928656,
          0.5420625354429279,
          0.3531656963293904,
          0.9516310013151971,
          1.4814305926548468,
          -0.0661783667737621,
          -0.5366522538953027,
          -1.0733680524544438,
          1.664261087255659,
          0.5546934645540875,
          -0.9498218183256268,
          1.6448795435345684,
          0.2356696285556059,
          -0.9223882563702976,
          -1.999143938093221,
          0.8469020285223882,
          0.6589074033059399,
          -0.5799192494117322,
          -0.7788733134093945,
          0.7577793943052767,
          -0.09707784030046557,
          -0.03455307170219075,
          -0.8811323416697463,
          -0.6267043083674482,
          -1.0269391048157697,
          -0.5321336972529832,
          0.8451182902588883,
          0.08662269451869511,
          0.31429709601059586,
          -0.1934184891753213,
          1.2840149281872961,
          0.555730360910625,
          0.45183765131006726,
          -0.49686842278032023,
          -0.32947519313932555,
          -1.19620746138553,
          -0.7038639841931628,
          -0.7898364183395687,
          0.7438412707540987,
          0.7414495707254729,
          1.3799733154504426,
          0.56648572675284,
          -2.50683210422878,
          0.9959654653416138,
          0.367421323759343,
          -0.46904746013665927,
          -1.1409670086342902,
          0.2598216833782342,
          -1.2902403671698264,
          0.49678766890658405,
          -0.48224628270977354,
          -0.16484644023413372,
          -1.0334851807235186,
          0.14970842234302917,
          0.7165586416171045,
          1.0511466528478781,
          2.06350190094373,
          0.32514957908412,
          0.2174187719077609
         ],
         "yaxis": "y8"
        },
        {
         "line": {
          "color": "rgba(128, 128, 128, 1.0)",
          "dash": "solid",
          "shape": "linear",
          "width": 1.3
         },
         "marker": {
          "size": 2,
          "symbol": "circle"
         },
         "mode": "markers",
         "name": "C",
         "text": "",
         "type": "scatter",
         "x": [
          -0.6223127097787445,
          -0.07809162236041678,
          1.7790474819468551,
          -1.4247118375561625,
          -1.4105751154601864,
          0.2188883169681857,
          -1.149465863308755,
          -0.2177532325647362,
          -1.6726587412621337,
          1.2097065375742302,
          -0.7930267396765023,
          -0.05511018197538327,
          -0.09030662425254163,
          1.1619150166121996,
          0.3097205548007712,
          0.5129277863969072,
          0.6184961590026289,
          -1.4637685018706745,
          0.4485421585261526,
          1.767822731251506,
          -1.0091554353768661,
          -0.20187565762794943,
          0.10438402542485582,
          -1.0271492803595452,
          -0.549378606146546,
          -1.0818406350966738,
          -0.7289573371488666,
          1.1198836055237327,
          0.5864148695608872,
          -0.024355589607592033,
          0.6980656079470045,
          -0.8483633384572155,
          -1.5684647526087565,
          -1.3874098606278373,
          -0.6513298563396208,
          0.6752856776403766,
          1.9572075005188447,
          0.3067879974877034,
          0.08069647639021876,
          0.013777395371240508,
          1.1497250255527611,
          -0.584868011758543,
          -0.8747816362718722,
          0.16248255497583639,
          -0.6338491218052374,
          -0.18762133433093403,
          0.7183308864619843,
          0.03892557856366659,
          -0.05835543780960389,
          0.2729009332188614,
          0.18648405784653066,
          -0.002357963793111217,
          -1.6448419115769932,
          -1.8587399276049648,
          0.9002409872304978,
          -0.3246003945946711,
          -1.7144926347993703,
          0.7149852461038438,
          0.15022217521407277,
          -2.0742708012084057,
          -1.0082255935657103,
          0.5729601043333363,
          0.7210335937747494,
          0.1605572639077616,
          0.6811849909147913,
          -1.1821625386795713,
          1.3227312433894765,
          -0.8078552803418341,
          0.5935199442620323,
          -0.35774391456928006,
          0.7460167158855326,
          0.21037620123633732,
          -0.001577946660872818,
          0.3318969809409894,
          0.29022595465192125,
          0.6093830084655928,
          -0.5964490834227272,
          -1.0873790616847774,
          0.7385065124916351,
          -1.1683892869125476,
          -0.14716717691544046,
          -0.3190296801594655,
          -1.62228312074107,
          0.0940633033641303,
          -0.7413030015954901,
          2.5468536611139574,
          -0.8553192878274413,
          -0.6214605444473837,
          -0.37590549650516025,
          -0.6887968127659998,
          -0.6023601264871187,
          0.5480051859117191,
          1.5398950046172197,
          1.171647048456549,
          -0.26945117641978844,
          1.3553267212960771,
          -1.8733178535294914,
          -0.8916742861646291,
          -0.10395184783622588,
          0.015416002948039327
         ],
         "xaxis": "x9",
         "y": [
          -0.1394922412256659,
          0.38734155585847974,
          -0.9260957315446555,
          1.7598055851729693,
          2.210787136403946,
          -0.3022733556354362,
          -0.3321972707800144,
          -0.1552642924054388,
          -0.2870423301786768,
          0.6442732570082397,
          0.11014394961086883,
          -0.4278396030263597,
          0.43364625245808236,
          1.4508588360666845,
          -0.5423396917786653,
          0.4766730628614621,
          -1.0930741231694232,
          -1.2251625013267404,
          1.2278357534838633,
          -0.6586740241489065,
          2.0719087709201016,
          0.41495965936344326,
          0.7561162864867124,
          0.04064409247531572,
          0.18851771376240875,
          0.6321301873304279,
          -0.44742800509363195,
          -0.48617943220762816,
          1.4537403915676392,
          0.19349128592075931,
          1.0296497319579134,
          -0.9693172781930631,
          2.550997324758455,
          -0.9235141105083481,
          -0.2556884233919607,
          -0.6649752111022003,
          -0.5468451556298982,
          -2.7844579414935353,
          -0.3971986657038678,
          -1.2694849579678578,
          0.8050226821235916,
          0.183959600770004,
          0.19582171030744405,
          -0.04239771612971373,
          -1.1844633897934997,
          1.1586783863964807,
          1.7492385698415471,
          1.0158785881673311,
          -1.237607244103128,
          0.843448452886732,
          -1.5637969246951338,
          0.025004871592748112,
          -0.8471180601748635,
          0.6629186648730425,
          -1.1648273994392528,
          -0.2378197288212158,
          1.1587423625965083,
          0.06258506694463219,
          0.36201188717091604,
          0.8742136902258705,
          0.6755642100990448,
          1.0635356940506575,
          1.7509628418864445,
          -2.1122627787085353,
          0.4482910496415664,
          -0.7679156676626054,
          -0.32932409452845224,
          -0.8920180348539344,
          1.2108231224002985,
          0.728060788136938,
          1.3965365372564333,
          0.8408845871772697,
          1.34008003144846,
          3.1650637473110064,
          -0.47730283407630475,
          0.4445011172798934,
          0.7474000002979312,
          0.553429497434904,
          0.20155853477728425,
          0.9814895054945997,
          -0.7619892824985112,
          -0.23241769812505747,
          1.8545481854514945,
          -0.3933567137433616,
          -0.015279273912303869,
          0.9700559196306061,
          -0.7020615572239038,
          1.8908441811029264,
          0.2811541369905382,
          -0.9076193687338854,
          -1.4369113370368245,
          1.0735601139879156,
          0.2777949972840057,
          -0.6003160649082503,
          0.616082822519307,
          0.25233133157908066,
          0.46033039566920175,
          0.9550636859373486,
          0.5617910910295629,
          -1.1333573423474372
         ],
         "yaxis": "y9"
        },
        {
         "line": {
          "color": "rgba(128, 128, 128, 1.0)",
          "dash": "solid",
          "shape": "linear",
          "width": 1.3
         },
         "marker": {
          "size": 2,
          "symbol": "circle"
         },
         "mode": "markers",
         "name": "C",
         "text": "",
         "type": "scatter",
         "x": [
          0.39299279759057504,
          0.9703165383850477,
          -0.3315341358806937,
          -1.5584031758162409,
          0.951523596033235,
          -0.5555846581699916,
          -1.515512553211831,
          1.9037823912410028,
          0.11998085811301533,
          -0.2799904644871162,
          0.9649601637582959,
          -0.2129880463045149,
          1.608269687420033,
          -0.9248636326249062,
          -0.14664756884169589,
          -0.047763160217688436,
          0.02140402329140558,
          0.13626631422295649,
          -1.2316106623850942,
          -1.4494740058324187,
          -0.9643096084728445,
          -1.8155834317145414,
          -1.4975399771222855,
          -2.008459460468831,
          -0.18844771209113004,
          -0.8452479670056402,
          0.2702435905254712,
          -0.08307773275515531,
          1.9925306352375145,
          -0.30011064157012196,
          -1.8416088365312053,
          1.4883897812928597,
          0.2857404107478787,
          -1.3694143183685137,
          0.34472215385367405,
          -0.7333872049097238,
          1.3796332788800656,
          -0.00901709225535108,
          0.5282371077244549,
          -1.5889248101211482,
          -0.9168030342948024,
          -0.8567400095928656,
          0.5420625354429279,
          0.3531656963293904,
          0.9516310013151971,
          1.4814305926548468,
          -0.0661783667737621,
          -0.5366522538953027,
          -1.0733680524544438,
          1.664261087255659,
          0.5546934645540875,
          -0.9498218183256268,
          1.6448795435345684,
          0.2356696285556059,
          -0.9223882563702976,
          -1.999143938093221,
          0.8469020285223882,
          0.6589074033059399,
          -0.5799192494117322,
          -0.7788733134093945,
          0.7577793943052767,
          -0.09707784030046557,
          -0.03455307170219075,
          -0.8811323416697463,
          -0.6267043083674482,
          -1.0269391048157697,
          -0.5321336972529832,
          0.8451182902588883,
          0.08662269451869511,
          0.31429709601059586,
          -0.1934184891753213,
          1.2840149281872961,
          0.555730360910625,
          0.45183765131006726,
          -0.49686842278032023,
          -0.32947519313932555,
          -1.19620746138553,
          -0.7038639841931628,
          -0.7898364183395687,
          0.7438412707540987,
          0.7414495707254729,
          1.3799733154504426,
          0.56648572675284,
          -2.50683210422878,
          0.9959654653416138,
          0.367421323759343,
          -0.46904746013665927,
          -1.1409670086342902,
          0.2598216833782342,
          -1.2902403671698264,
          0.49678766890658405,
          -0.48224628270977354,
          -0.16484644023413372,
          -1.0334851807235186,
          0.14970842234302917,
          0.7165586416171045,
          1.0511466528478781,
          2.06350190094373,
          0.32514957908412,
          0.2174187719077609
         ],
         "xaxis": "x10",
         "y": [
          -0.1394922412256659,
          0.38734155585847974,
          -0.9260957315446555,
          1.7598055851729693,
          2.210787136403946,
          -0.3022733556354362,
          -0.3321972707800144,
          -0.1552642924054388,
          -0.2870423301786768,
          0.6442732570082397,
          0.11014394961086883,
          -0.4278396030263597,
          0.43364625245808236,
          1.4508588360666845,
          -0.5423396917786653,
          0.4766730628614621,
          -1.0930741231694232,
          -1.2251625013267404,
          1.2278357534838633,
          -0.6586740241489065,
          2.0719087709201016,
          0.41495965936344326,
          0.7561162864867124,
          0.04064409247531572,
          0.18851771376240875,
          0.6321301873304279,
          -0.44742800509363195,
          -0.48617943220762816,
          1.4537403915676392,
          0.19349128592075931,
          1.0296497319579134,
          -0.9693172781930631,
          2.550997324758455,
          -0.9235141105083481,
          -0.2556884233919607,
          -0.6649752111022003,
          -0.5468451556298982,
          -2.7844579414935353,
          -0.3971986657038678,
          -1.2694849579678578,
          0.8050226821235916,
          0.183959600770004,
          0.19582171030744405,
          -0.04239771612971373,
          -1.1844633897934997,
          1.1586783863964807,
          1.7492385698415471,
          1.0158785881673311,
          -1.237607244103128,
          0.843448452886732,
          -1.5637969246951338,
          0.025004871592748112,
          -0.8471180601748635,
          0.6629186648730425,
          -1.1648273994392528,
          -0.2378197288212158,
          1.1587423625965083,
          0.06258506694463219,
          0.36201188717091604,
          0.8742136902258705,
          0.6755642100990448,
          1.0635356940506575,
          1.7509628418864445,
          -2.1122627787085353,
          0.4482910496415664,
          -0.7679156676626054,
          -0.32932409452845224,
          -0.8920180348539344,
          1.2108231224002985,
          0.728060788136938,
          1.3965365372564333,
          0.8408845871772697,
          1.34008003144846,
          3.1650637473110064,
          -0.47730283407630475,
          0.4445011172798934,
          0.7474000002979312,
          0.553429497434904,
          0.20155853477728425,
          0.9814895054945997,
          -0.7619892824985112,
          -0.23241769812505747,
          1.8545481854514945,
          -0.3933567137433616,
          -0.015279273912303869,
          0.9700559196306061,
          -0.7020615572239038,
          1.8908441811029264,
          0.2811541369905382,
          -0.9076193687338854,
          -1.4369113370368245,
          1.0735601139879156,
          0.2777949972840057,
          -0.6003160649082503,
          0.616082822519307,
          0.25233133157908066,
          0.46033039566920175,
          0.9550636859373486,
          0.5617910910295629,
          -1.1333573423474372
         ],
         "yaxis": "y10"
        },
        {
         "histfunc": "count",
         "histnorm": "",
         "marker": {
          "color": "rgba(50, 171, 96, 1.0)",
          "line": {
           "color": "#4D5663",
           "width": 1.3
          }
         },
         "name": "C",
         "nbinsx": 10,
         "opacity": 0.8,
         "orientation": "v",
         "type": "histogram",
         "x": [
          -0.1394922412256659,
          0.38734155585847974,
          -0.9260957315446555,
          1.7598055851729693,
          2.210787136403946,
          -0.3022733556354362,
          -0.3321972707800144,
          -0.1552642924054388,
          -0.2870423301786768,
          0.6442732570082397,
          0.11014394961086883,
          -0.4278396030263597,
          0.43364625245808236,
          1.4508588360666845,
          -0.5423396917786653,
          0.4766730628614621,
          -1.0930741231694232,
          -1.2251625013267404,
          1.2278357534838633,
          -0.6586740241489065,
          2.0719087709201016,
          0.41495965936344326,
          0.7561162864867124,
          0.04064409247531572,
          0.18851771376240875,
          0.6321301873304279,
          -0.44742800509363195,
          -0.48617943220762816,
          1.4537403915676392,
          0.19349128592075931,
          1.0296497319579134,
          -0.9693172781930631,
          2.550997324758455,
          -0.9235141105083481,
          -0.2556884233919607,
          -0.6649752111022003,
          -0.5468451556298982,
          -2.7844579414935353,
          -0.3971986657038678,
          -1.2694849579678578,
          0.8050226821235916,
          0.183959600770004,
          0.19582171030744405,
          -0.04239771612971373,
          -1.1844633897934997,
          1.1586783863964807,
          1.7492385698415471,
          1.0158785881673311,
          -1.237607244103128,
          0.843448452886732,
          -1.5637969246951338,
          0.025004871592748112,
          -0.8471180601748635,
          0.6629186648730425,
          -1.1648273994392528,
          -0.2378197288212158,
          1.1587423625965083,
          0.06258506694463219,
          0.36201188717091604,
          0.8742136902258705,
          0.6755642100990448,
          1.0635356940506575,
          1.7509628418864445,
          -2.1122627787085353,
          0.4482910496415664,
          -0.7679156676626054,
          -0.32932409452845224,
          -0.8920180348539344,
          1.2108231224002985,
          0.728060788136938,
          1.3965365372564333,
          0.8408845871772697,
          1.34008003144846,
          3.1650637473110064,
          -0.47730283407630475,
          0.4445011172798934,
          0.7474000002979312,
          0.553429497434904,
          0.20155853477728425,
          0.9814895054945997,
          -0.7619892824985112,
          -0.23241769812505747,
          1.8545481854514945,
          -0.3933567137433616,
          -0.015279273912303869,
          0.9700559196306061,
          -0.7020615572239038,
          1.8908441811029264,
          0.2811541369905382,
          -0.9076193687338854,
          -1.4369113370368245,
          1.0735601139879156,
          0.2777949972840057,
          -0.6003160649082503,
          0.616082822519307,
          0.25233133157908066,
          0.46033039566920175,
          0.9550636859373486,
          0.5617910910295629,
          -1.1333573423474372
         ],
         "xaxis": "x11",
         "yaxis": "y11"
        },
        {
         "line": {
          "color": "rgba(128, 128, 128, 1.0)",
          "dash": "solid",
          "shape": "linear",
          "width": 1.3
         },
         "marker": {
          "size": 2,
          "symbol": "circle"
         },
         "mode": "markers",
         "name": "C",
         "text": "",
         "type": "scatter",
         "x": [
          0.010313421967021626,
          0.9774787952723087,
          1.1832753189872105,
          -0.683841096896405,
          -0.6200486822091427,
          -1.3824334314231927,
          2.4453494443121597,
          -3.2119560314205766,
          -1.0113513717441274,
          -0.6910889000887538,
          -0.0007939603834835492,
          0.8034006202562674,
          0.6451956621787378,
          -0.5374908243435591,
          -0.009328334097994636,
          0.16665395862426705,
          -1.3602141884570391,
          0.5738391028689689,
          0.6750183691447313,
          0.20520058828298732,
          0.6681745288709247,
          1.0059022683148486,
          0.3944244869874825,
          -0.752639833939874,
          -1.158770538550278,
          -0.24544679136561875,
          -1.3646155805597115,
          0.9551921454161609,
          2.2844343748544493,
          -0.7696634640778297,
          -0.621897690952007,
          -0.34550223084018666,
          -0.4884301152484405,
          0.21928554316860505,
          -0.6829311425330685,
          0.5566508785290419,
          0.7624837165894379,
          -0.5478342499850288,
          0.5801653285577393,
          -0.632425720880273,
          -0.8417813926515596,
          -1.6236927181568437,
          1.9493597870649115,
          0.7465752119643185,
          0.5372780985435524,
          -2.1710348618073723,
          -0.6593875365739125,
          -0.018473140773435842,
          -0.04245242423015054,
          -0.6300682302117817,
          -1.2168773540689084,
          0.9319362138761141,
          -2.6638540758230627,
          -1.9315507625560588,
          -0.16701688100938009,
          -0.2062492957875122,
          -0.8358111006979888,
          0.6863144588219658,
          1.3846234929089063,
          -0.4753417448026249,
          -0.08792035864135517,
          -0.8112352217389021,
          0.14187936679133517,
          1.1734093670706989,
          -0.1322224862763447,
          0.20517567407068496,
          -1.760978391548266,
          0.23801612095180943,
          -1.403049283002082,
          0.2743706916166362,
          -0.6236523305572523,
          0.2725927370556236,
          0.8448899074036795,
          0.4626130789181829,
          0.2668959697949256,
          0.12867707772407294,
          -0.0543150251890773,
          0.18299637276404898,
          1.7752764866442248,
          -1.2374048440464878,
          0.6320590806476215,
          -0.9369986892289005,
          0.1231636933708757,
          -0.4458508374014565,
          0.3011104070617941,
          0.29221209883127613,
          -1.9921867599816934,
          0.2143544019177814,
          -1.5246716720992082,
          0.631959493414628,
          -1.7234468191694932,
          0.7771196299925165,
          0.2242601120175588,
          -0.08539207089427393,
          -2.168210226949958,
          0.15597597461677742,
          0.27321431901873094,
          -0.23689895193153876,
          -0.7164606321195535,
          -1.0314167978024231
         ],
         "xaxis": "x12",
         "y": [
          -0.1394922412256659,
          0.38734155585847974,
          -0.9260957315446555,
          1.7598055851729693,
          2.210787136403946,
          -0.3022733556354362,
          -0.3321972707800144,
          -0.1552642924054388,
          -0.2870423301786768,
          0.6442732570082397,
          0.11014394961086883,
          -0.4278396030263597,
          0.43364625245808236,
          1.4508588360666845,
          -0.5423396917786653,
          0.4766730628614621,
          -1.0930741231694232,
          -1.2251625013267404,
          1.2278357534838633,
          -0.6586740241489065,
          2.0719087709201016,
          0.41495965936344326,
          0.7561162864867124,
          0.04064409247531572,
          0.18851771376240875,
          0.6321301873304279,
          -0.44742800509363195,
          -0.48617943220762816,
          1.4537403915676392,
          0.19349128592075931,
          1.0296497319579134,
          -0.9693172781930631,
          2.550997324758455,
          -0.9235141105083481,
          -0.2556884233919607,
          -0.6649752111022003,
          -0.5468451556298982,
          -2.7844579414935353,
          -0.3971986657038678,
          -1.2694849579678578,
          0.8050226821235916,
          0.183959600770004,
          0.19582171030744405,
          -0.04239771612971373,
          -1.1844633897934997,
          1.1586783863964807,
          1.7492385698415471,
          1.0158785881673311,
          -1.237607244103128,
          0.843448452886732,
          -1.5637969246951338,
          0.025004871592748112,
          -0.8471180601748635,
          0.6629186648730425,
          -1.1648273994392528,
          -0.2378197288212158,
          1.1587423625965083,
          0.06258506694463219,
          0.36201188717091604,
          0.8742136902258705,
          0.6755642100990448,
          1.0635356940506575,
          1.7509628418864445,
          -2.1122627787085353,
          0.4482910496415664,
          -0.7679156676626054,
          -0.32932409452845224,
          -0.8920180348539344,
          1.2108231224002985,
          0.728060788136938,
          1.3965365372564333,
          0.8408845871772697,
          1.34008003144846,
          3.1650637473110064,
          -0.47730283407630475,
          0.4445011172798934,
          0.7474000002979312,
          0.553429497434904,
          0.20155853477728425,
          0.9814895054945997,
          -0.7619892824985112,
          -0.23241769812505747,
          1.8545481854514945,
          -0.3933567137433616,
          -0.015279273912303869,
          0.9700559196306061,
          -0.7020615572239038,
          1.8908441811029264,
          0.2811541369905382,
          -0.9076193687338854,
          -1.4369113370368245,
          1.0735601139879156,
          0.2777949972840057,
          -0.6003160649082503,
          0.616082822519307,
          0.25233133157908066,
          0.46033039566920175,
          0.9550636859373486,
          0.5617910910295629,
          -1.1333573423474372
         ],
         "yaxis": "y12"
        },
        {
         "line": {
          "color": "rgba(128, 128, 128, 1.0)",
          "dash": "solid",
          "shape": "linear",
          "width": 1.3
         },
         "marker": {
          "size": 2,
          "symbol": "circle"
         },
         "mode": "markers",
         "name": "D",
         "text": "",
         "type": "scatter",
         "x": [
          -0.6223127097787445,
          -0.07809162236041678,
          1.7790474819468551,
          -1.4247118375561625,
          -1.4105751154601864,
          0.2188883169681857,
          -1.149465863308755,
          -0.2177532325647362,
          -1.6726587412621337,
          1.2097065375742302,
          -0.7930267396765023,
          -0.05511018197538327,
          -0.09030662425254163,
          1.1619150166121996,
          0.3097205548007712,
          0.5129277863969072,
          0.6184961590026289,
          -1.4637685018706745,
          0.4485421585261526,
          1.767822731251506,
          -1.0091554353768661,
          -0.20187565762794943,
          0.10438402542485582,
          -1.0271492803595452,
          -0.549378606146546,
          -1.0818406350966738,
          -0.7289573371488666,
          1.1198836055237327,
          0.5864148695608872,
          -0.024355589607592033,
          0.6980656079470045,
          -0.8483633384572155,
          -1.5684647526087565,
          -1.3874098606278373,
          -0.6513298563396208,
          0.6752856776403766,
          1.9572075005188447,
          0.3067879974877034,
          0.08069647639021876,
          0.013777395371240508,
          1.1497250255527611,
          -0.584868011758543,
          -0.8747816362718722,
          0.16248255497583639,
          -0.6338491218052374,
          -0.18762133433093403,
          0.7183308864619843,
          0.03892557856366659,
          -0.05835543780960389,
          0.2729009332188614,
          0.18648405784653066,
          -0.002357963793111217,
          -1.6448419115769932,
          -1.8587399276049648,
          0.9002409872304978,
          -0.3246003945946711,
          -1.7144926347993703,
          0.7149852461038438,
          0.15022217521407277,
          -2.0742708012084057,
          -1.0082255935657103,
          0.5729601043333363,
          0.7210335937747494,
          0.1605572639077616,
          0.6811849909147913,
          -1.1821625386795713,
          1.3227312433894765,
          -0.8078552803418341,
          0.5935199442620323,
          -0.35774391456928006,
          0.7460167158855326,
          0.21037620123633732,
          -0.001577946660872818,
          0.3318969809409894,
          0.29022595465192125,
          0.6093830084655928,
          -0.5964490834227272,
          -1.0873790616847774,
          0.7385065124916351,
          -1.1683892869125476,
          -0.14716717691544046,
          -0.3190296801594655,
          -1.62228312074107,
          0.0940633033641303,
          -0.7413030015954901,
          2.5468536611139574,
          -0.8553192878274413,
          -0.6214605444473837,
          -0.37590549650516025,
          -0.6887968127659998,
          -0.6023601264871187,
          0.5480051859117191,
          1.5398950046172197,
          1.171647048456549,
          -0.26945117641978844,
          1.3553267212960771,
          -1.8733178535294914,
          -0.8916742861646291,
          -0.10395184783622588,
          0.015416002948039327
         ],
         "xaxis": "x13",
         "y": [
          0.010313421967021626,
          0.9774787952723087,
          1.1832753189872105,
          -0.683841096896405,
          -0.6200486822091427,
          -1.3824334314231927,
          2.4453494443121597,
          -3.2119560314205766,
          -1.0113513717441274,
          -0.6910889000887538,
          -0.0007939603834835492,
          0.8034006202562674,
          0.6451956621787378,
          -0.5374908243435591,
          -0.009328334097994636,
          0.16665395862426705,
          -1.3602141884570391,
          0.5738391028689689,
          0.6750183691447313,
          0.20520058828298732,
          0.6681745288709247,
          1.0059022683148486,
          0.3944244869874825,
          -0.752639833939874,
          -1.158770538550278,
          -0.24544679136561875,
          -1.3646155805597115,
          0.9551921454161609,
          2.2844343748544493,
          -0.7696634640778297,
          -0.621897690952007,
          -0.34550223084018666,
          -0.4884301152484405,
          0.21928554316860505,
          -0.6829311425330685,
          0.5566508785290419,
          0.7624837165894379,
          -0.5478342499850288,
          0.5801653285577393,
          -0.632425720880273,
          -0.8417813926515596,
          -1.6236927181568437,
          1.9493597870649115,
          0.7465752119643185,
          0.5372780985435524,
          -2.1710348618073723,
          -0.6593875365739125,
          -0.018473140773435842,
          -0.04245242423015054,
          -0.6300682302117817,
          -1.2168773540689084,
          0.9319362138761141,
          -2.6638540758230627,
          -1.9315507625560588,
          -0.16701688100938009,
          -0.2062492957875122,
          -0.8358111006979888,
          0.6863144588219658,
          1.3846234929089063,
          -0.4753417448026249,
          -0.08792035864135517,
          -0.8112352217389021,
          0.14187936679133517,
          1.1734093670706989,
          -0.1322224862763447,
          0.20517567407068496,
          -1.760978391548266,
          0.23801612095180943,
          -1.403049283002082,
          0.2743706916166362,
          -0.6236523305572523,
          0.2725927370556236,
          0.8448899074036795,
          0.4626130789181829,
          0.2668959697949256,
          0.12867707772407294,
          -0.0543150251890773,
          0.18299637276404898,
          1.7752764866442248,
          -1.2374048440464878,
          0.6320590806476215,
          -0.9369986892289005,
          0.1231636933708757,
          -0.4458508374014565,
          0.3011104070617941,
          0.29221209883127613,
          -1.9921867599816934,
          0.2143544019177814,
          -1.5246716720992082,
          0.631959493414628,
          -1.7234468191694932,
          0.7771196299925165,
          0.2242601120175588,
          -0.08539207089427393,
          -2.168210226949958,
          0.15597597461677742,
          0.27321431901873094,
          -0.23689895193153876,
          -0.7164606321195535,
          -1.0314167978024231
         ],
         "yaxis": "y13"
        },
        {
         "line": {
          "color": "rgba(128, 128, 128, 1.0)",
          "dash": "solid",
          "shape": "linear",
          "width": 1.3
         },
         "marker": {
          "size": 2,
          "symbol": "circle"
         },
         "mode": "markers",
         "name": "D",
         "text": "",
         "type": "scatter",
         "x": [
          0.39299279759057504,
          0.9703165383850477,
          -0.3315341358806937,
          -1.5584031758162409,
          0.951523596033235,
          -0.5555846581699916,
          -1.515512553211831,
          1.9037823912410028,
          0.11998085811301533,
          -0.2799904644871162,
          0.9649601637582959,
          -0.2129880463045149,
          1.608269687420033,
          -0.9248636326249062,
          -0.14664756884169589,
          -0.047763160217688436,
          0.02140402329140558,
          0.13626631422295649,
          -1.2316106623850942,
          -1.4494740058324187,
          -0.9643096084728445,
          -1.8155834317145414,
          -1.4975399771222855,
          -2.008459460468831,
          -0.18844771209113004,
          -0.8452479670056402,
          0.2702435905254712,
          -0.08307773275515531,
          1.9925306352375145,
          -0.30011064157012196,
          -1.8416088365312053,
          1.4883897812928597,
          0.2857404107478787,
          -1.3694143183685137,
          0.34472215385367405,
          -0.7333872049097238,
          1.3796332788800656,
          -0.00901709225535108,
          0.5282371077244549,
          -1.5889248101211482,
          -0.9168030342948024,
          -0.8567400095928656,
          0.5420625354429279,
          0.3531656963293904,
          0.9516310013151971,
          1.4814305926548468,
          -0.0661783667737621,
          -0.5366522538953027,
          -1.0733680524544438,
          1.664261087255659,
          0.5546934645540875,
          -0.9498218183256268,
          1.6448795435345684,
          0.2356696285556059,
          -0.9223882563702976,
          -1.999143938093221,
          0.8469020285223882,
          0.6589074033059399,
          -0.5799192494117322,
          -0.7788733134093945,
          0.7577793943052767,
          -0.09707784030046557,
          -0.03455307170219075,
          -0.8811323416697463,
          -0.6267043083674482,
          -1.0269391048157697,
          -0.5321336972529832,
          0.8451182902588883,
          0.08662269451869511,
          0.31429709601059586,
          -0.1934184891753213,
          1.2840149281872961,
          0.555730360910625,
          0.45183765131006726,
          -0.49686842278032023,
          -0.32947519313932555,
          -1.19620746138553,
          -0.7038639841931628,
          -0.7898364183395687,
          0.7438412707540987,
          0.7414495707254729,
          1.3799733154504426,
          0.56648572675284,
          -2.50683210422878,
          0.9959654653416138,
          0.367421323759343,
          -0.46904746013665927,
          -1.1409670086342902,
          0.2598216833782342,
          -1.2902403671698264,
          0.49678766890658405,
          -0.48224628270977354,
          -0.16484644023413372,
          -1.0334851807235186,
          0.14970842234302917,
          0.7165586416171045,
          1.0511466528478781,
          2.06350190094373,
          0.32514957908412,
          0.2174187719077609
         ],
         "xaxis": "x14",
         "y": [
          0.010313421967021626,
          0.9774787952723087,
          1.1832753189872105,
          -0.683841096896405,
          -0.6200486822091427,
          -1.3824334314231927,
          2.4453494443121597,
          -3.2119560314205766,
          -1.0113513717441274,
          -0.6910889000887538,
          -0.0007939603834835492,
          0.8034006202562674,
          0.6451956621787378,
          -0.5374908243435591,
          -0.009328334097994636,
          0.16665395862426705,
          -1.3602141884570391,
          0.5738391028689689,
          0.6750183691447313,
          0.20520058828298732,
          0.6681745288709247,
          1.0059022683148486,
          0.3944244869874825,
          -0.752639833939874,
          -1.158770538550278,
          -0.24544679136561875,
          -1.3646155805597115,
          0.9551921454161609,
          2.2844343748544493,
          -0.7696634640778297,
          -0.621897690952007,
          -0.34550223084018666,
          -0.4884301152484405,
          0.21928554316860505,
          -0.6829311425330685,
          0.5566508785290419,
          0.7624837165894379,
          -0.5478342499850288,
          0.5801653285577393,
          -0.632425720880273,
          -0.8417813926515596,
          -1.6236927181568437,
          1.9493597870649115,
          0.7465752119643185,
          0.5372780985435524,
          -2.1710348618073723,
          -0.6593875365739125,
          -0.018473140773435842,
          -0.04245242423015054,
          -0.6300682302117817,
          -1.2168773540689084,
          0.9319362138761141,
          -2.6638540758230627,
          -1.9315507625560588,
          -0.16701688100938009,
          -0.2062492957875122,
          -0.8358111006979888,
          0.6863144588219658,
          1.3846234929089063,
          -0.4753417448026249,
          -0.08792035864135517,
          -0.8112352217389021,
          0.14187936679133517,
          1.1734093670706989,
          -0.1322224862763447,
          0.20517567407068496,
          -1.760978391548266,
          0.23801612095180943,
          -1.403049283002082,
          0.2743706916166362,
          -0.6236523305572523,
          0.2725927370556236,
          0.8448899074036795,
          0.4626130789181829,
          0.2668959697949256,
          0.12867707772407294,
          -0.0543150251890773,
          0.18299637276404898,
          1.7752764866442248,
          -1.2374048440464878,
          0.6320590806476215,
          -0.9369986892289005,
          0.1231636933708757,
          -0.4458508374014565,
          0.3011104070617941,
          0.29221209883127613,
          -1.9921867599816934,
          0.2143544019177814,
          -1.5246716720992082,
          0.631959493414628,
          -1.7234468191694932,
          0.7771196299925165,
          0.2242601120175588,
          -0.08539207089427393,
          -2.168210226949958,
          0.15597597461677742,
          0.27321431901873094,
          -0.23689895193153876,
          -0.7164606321195535,
          -1.0314167978024231
         ],
         "yaxis": "y14"
        },
        {
         "line": {
          "color": "rgba(128, 128, 128, 1.0)",
          "dash": "solid",
          "shape": "linear",
          "width": 1.3
         },
         "marker": {
          "size": 2,
          "symbol": "circle"
         },
         "mode": "markers",
         "name": "D",
         "text": "",
         "type": "scatter",
         "x": [
          -0.1394922412256659,
          0.38734155585847974,
          -0.9260957315446555,
          1.7598055851729693,
          2.210787136403946,
          -0.3022733556354362,
          -0.3321972707800144,
          -0.1552642924054388,
          -0.2870423301786768,
          0.6442732570082397,
          0.11014394961086883,
          -0.4278396030263597,
          0.43364625245808236,
          1.4508588360666845,
          -0.5423396917786653,
          0.4766730628614621,
          -1.0930741231694232,
          -1.2251625013267404,
          1.2278357534838633,
          -0.6586740241489065,
          2.0719087709201016,
          0.41495965936344326,
          0.7561162864867124,
          0.04064409247531572,
          0.18851771376240875,
          0.6321301873304279,
          -0.44742800509363195,
          -0.48617943220762816,
          1.4537403915676392,
          0.19349128592075931,
          1.0296497319579134,
          -0.9693172781930631,
          2.550997324758455,
          -0.9235141105083481,
          -0.2556884233919607,
          -0.6649752111022003,
          -0.5468451556298982,
          -2.7844579414935353,
          -0.3971986657038678,
          -1.2694849579678578,
          0.8050226821235916,
          0.183959600770004,
          0.19582171030744405,
          -0.04239771612971373,
          -1.1844633897934997,
          1.1586783863964807,
          1.7492385698415471,
          1.0158785881673311,
          -1.237607244103128,
          0.843448452886732,
          -1.5637969246951338,
          0.025004871592748112,
          -0.8471180601748635,
          0.6629186648730425,
          -1.1648273994392528,
          -0.2378197288212158,
          1.1587423625965083,
          0.06258506694463219,
          0.36201188717091604,
          0.8742136902258705,
          0.6755642100990448,
          1.0635356940506575,
          1.7509628418864445,
          -2.1122627787085353,
          0.4482910496415664,
          -0.7679156676626054,
          -0.32932409452845224,
          -0.8920180348539344,
          1.2108231224002985,
          0.728060788136938,
          1.3965365372564333,
          0.8408845871772697,
          1.34008003144846,
          3.1650637473110064,
          -0.47730283407630475,
          0.4445011172798934,
          0.7474000002979312,
          0.553429497434904,
          0.20155853477728425,
          0.9814895054945997,
          -0.7619892824985112,
          -0.23241769812505747,
          1.8545481854514945,
          -0.3933567137433616,
          -0.015279273912303869,
          0.9700559196306061,
          -0.7020615572239038,
          1.8908441811029264,
          0.2811541369905382,
          -0.9076193687338854,
          -1.4369113370368245,
          1.0735601139879156,
          0.2777949972840057,
          -0.6003160649082503,
          0.616082822519307,
          0.25233133157908066,
          0.46033039566920175,
          0.9550636859373486,
          0.5617910910295629,
          -1.1333573423474372
         ],
         "xaxis": "x15",
         "y": [
          0.010313421967021626,
          0.9774787952723087,
          1.1832753189872105,
          -0.683841096896405,
          -0.6200486822091427,
          -1.3824334314231927,
          2.4453494443121597,
          -3.2119560314205766,
          -1.0113513717441274,
          -0.6910889000887538,
          -0.0007939603834835492,
          0.8034006202562674,
          0.6451956621787378,
          -0.5374908243435591,
          -0.009328334097994636,
          0.16665395862426705,
          -1.3602141884570391,
          0.5738391028689689,
          0.6750183691447313,
          0.20520058828298732,
          0.6681745288709247,
          1.0059022683148486,
          0.3944244869874825,
          -0.752639833939874,
          -1.158770538550278,
          -0.24544679136561875,
          -1.3646155805597115,
          0.9551921454161609,
          2.2844343748544493,
          -0.7696634640778297,
          -0.621897690952007,
          -0.34550223084018666,
          -0.4884301152484405,
          0.21928554316860505,
          -0.6829311425330685,
          0.5566508785290419,
          0.7624837165894379,
          -0.5478342499850288,
          0.5801653285577393,
          -0.632425720880273,
          -0.8417813926515596,
          -1.6236927181568437,
          1.9493597870649115,
          0.7465752119643185,
          0.5372780985435524,
          -2.1710348618073723,
          -0.6593875365739125,
          -0.018473140773435842,
          -0.04245242423015054,
          -0.6300682302117817,
          -1.2168773540689084,
          0.9319362138761141,
          -2.6638540758230627,
          -1.9315507625560588,
          -0.16701688100938009,
          -0.2062492957875122,
          -0.8358111006979888,
          0.6863144588219658,
          1.3846234929089063,
          -0.4753417448026249,
          -0.08792035864135517,
          -0.8112352217389021,
          0.14187936679133517,
          1.1734093670706989,
          -0.1322224862763447,
          0.20517567407068496,
          -1.760978391548266,
          0.23801612095180943,
          -1.403049283002082,
          0.2743706916166362,
          -0.6236523305572523,
          0.2725927370556236,
          0.8448899074036795,
          0.4626130789181829,
          0.2668959697949256,
          0.12867707772407294,
          -0.0543150251890773,
          0.18299637276404898,
          1.7752764866442248,
          -1.2374048440464878,
          0.6320590806476215,
          -0.9369986892289005,
          0.1231636933708757,
          -0.4458508374014565,
          0.3011104070617941,
          0.29221209883127613,
          -1.9921867599816934,
          0.2143544019177814,
          -1.5246716720992082,
          0.631959493414628,
          -1.7234468191694932,
          0.7771196299925165,
          0.2242601120175588,
          -0.08539207089427393,
          -2.168210226949958,
          0.15597597461677742,
          0.27321431901873094,
          -0.23689895193153876,
          -0.7164606321195535,
          -1.0314167978024231
         ],
         "yaxis": "y15"
        },
        {
         "histfunc": "count",
         "histnorm": "",
         "marker": {
          "color": "rgba(128, 0, 128, 1.0)",
          "line": {
           "color": "#4D5663",
           "width": 1.3
          }
         },
         "name": "D",
         "nbinsx": 10,
         "opacity": 0.8,
         "orientation": "v",
         "type": "histogram",
         "x": [
          0.010313421967021626,
          0.9774787952723087,
          1.1832753189872105,
          -0.683841096896405,
          -0.6200486822091427,
          -1.3824334314231927,
          2.4453494443121597,
          -3.2119560314205766,
          -1.0113513717441274,
          -0.6910889000887538,
          -0.0007939603834835492,
          0.8034006202562674,
          0.6451956621787378,
          -0.5374908243435591,
          -0.009328334097994636,
          0.16665395862426705,
          -1.3602141884570391,
          0.5738391028689689,
          0.6750183691447313,
          0.20520058828298732,
          0.6681745288709247,
          1.0059022683148486,
          0.3944244869874825,
          -0.752639833939874,
          -1.158770538550278,
          -0.24544679136561875,
          -1.3646155805597115,
          0.9551921454161609,
          2.2844343748544493,
          -0.7696634640778297,
          -0.621897690952007,
          -0.34550223084018666,
          -0.4884301152484405,
          0.21928554316860505,
          -0.6829311425330685,
          0.5566508785290419,
          0.7624837165894379,
          -0.5478342499850288,
          0.5801653285577393,
          -0.632425720880273,
          -0.8417813926515596,
          -1.6236927181568437,
          1.9493597870649115,
          0.7465752119643185,
          0.5372780985435524,
          -2.1710348618073723,
          -0.6593875365739125,
          -0.018473140773435842,
          -0.04245242423015054,
          -0.6300682302117817,
          -1.2168773540689084,
          0.9319362138761141,
          -2.6638540758230627,
          -1.9315507625560588,
          -0.16701688100938009,
          -0.2062492957875122,
          -0.8358111006979888,
          0.6863144588219658,
          1.3846234929089063,
          -0.4753417448026249,
          -0.08792035864135517,
          -0.8112352217389021,
          0.14187936679133517,
          1.1734093670706989,
          -0.1322224862763447,
          0.20517567407068496,
          -1.760978391548266,
          0.23801612095180943,
          -1.403049283002082,
          0.2743706916166362,
          -0.6236523305572523,
          0.2725927370556236,
          0.8448899074036795,
          0.4626130789181829,
          0.2668959697949256,
          0.12867707772407294,
          -0.0543150251890773,
          0.18299637276404898,
          1.7752764866442248,
          -1.2374048440464878,
          0.6320590806476215,
          -0.9369986892289005,
          0.1231636933708757,
          -0.4458508374014565,
          0.3011104070617941,
          0.29221209883127613,
          -1.9921867599816934,
          0.2143544019177814,
          -1.5246716720992082,
          0.631959493414628,
          -1.7234468191694932,
          0.7771196299925165,
          0.2242601120175588,
          -0.08539207089427393,
          -2.168210226949958,
          0.15597597461677742,
          0.27321431901873094,
          -0.23689895193153876,
          -0.7164606321195535,
          -1.0314167978024231
         ],
         "xaxis": "x16",
         "yaxis": "y16"
        }
       ],
       "layout": {
        "bargap": 0.02,
        "legend": {
         "bgcolor": "#F5F6F9",
         "font": {
          "color": "#4D5663"
         }
        },
        "paper_bgcolor": "#F5F6F9",
        "plot_bgcolor": "#F5F6F9",
        "showlegend": false,
        "template": {
         "data": {
          "bar": [
           {
            "error_x": {
             "color": "#2a3f5f"
            },
            "error_y": {
             "color": "#2a3f5f"
            },
            "marker": {
             "line": {
              "color": "#E5ECF6",
              "width": 0.5
             },
             "pattern": {
              "fillmode": "overlay",
              "size": 10,
              "solidity": 0.2
             }
            },
            "type": "bar"
           }
          ],
          "barpolar": [
           {
            "marker": {
             "line": {
              "color": "#E5ECF6",
              "width": 0.5
             },
             "pattern": {
              "fillmode": "overlay",
              "size": 10,
              "solidity": 0.2
             }
            },
            "type": "barpolar"
           }
          ],
          "carpet": [
           {
            "aaxis": {
             "endlinecolor": "#2a3f5f",
             "gridcolor": "white",
             "linecolor": "white",
             "minorgridcolor": "white",
             "startlinecolor": "#2a3f5f"
            },
            "baxis": {
             "endlinecolor": "#2a3f5f",
             "gridcolor": "white",
             "linecolor": "white",
             "minorgridcolor": "white",
             "startlinecolor": "#2a3f5f"
            },
            "type": "carpet"
           }
          ],
          "choropleth": [
           {
            "colorbar": {
             "outlinewidth": 0,
             "ticks": ""
            },
            "type": "choropleth"
           }
          ],
          "contour": [
           {
            "colorbar": {
             "outlinewidth": 0,
             "ticks": ""
            },
            "colorscale": [
             [
              0,
              "#0d0887"
             ],
             [
              0.1111111111111111,
              "#46039f"
             ],
             [
              0.2222222222222222,
              "#7201a8"
             ],
             [
              0.3333333333333333,
              "#9c179e"
             ],
             [
              0.4444444444444444,
              "#bd3786"
             ],
             [
              0.5555555555555556,
              "#d8576b"
             ],
             [
              0.6666666666666666,
              "#ed7953"
             ],
             [
              0.7777777777777778,
              "#fb9f3a"
             ],
             [
              0.8888888888888888,
              "#fdca26"
             ],
             [
              1,
              "#f0f921"
             ]
            ],
            "type": "contour"
           }
          ],
          "contourcarpet": [
           {
            "colorbar": {
             "outlinewidth": 0,
             "ticks": ""
            },
            "type": "contourcarpet"
           }
          ],
          "heatmap": [
           {
            "colorbar": {
             "outlinewidth": 0,
             "ticks": ""
            },
            "colorscale": [
             [
              0,
              "#0d0887"
             ],
             [
              0.1111111111111111,
              "#46039f"
             ],
             [
              0.2222222222222222,
              "#7201a8"
             ],
             [
              0.3333333333333333,
              "#9c179e"
             ],
             [
              0.4444444444444444,
              "#bd3786"
             ],
             [
              0.5555555555555556,
              "#d8576b"
             ],
             [
              0.6666666666666666,
              "#ed7953"
             ],
             [
              0.7777777777777778,
              "#fb9f3a"
             ],
             [
              0.8888888888888888,
              "#fdca26"
             ],
             [
              1,
              "#f0f921"
             ]
            ],
            "type": "heatmap"
           }
          ],
          "heatmapgl": [
           {
            "colorbar": {
             "outlinewidth": 0,
             "ticks": ""
            },
            "colorscale": [
             [
              0,
              "#0d0887"
             ],
             [
              0.1111111111111111,
              "#46039f"
             ],
             [
              0.2222222222222222,
              "#7201a8"
             ],
             [
              0.3333333333333333,
              "#9c179e"
             ],
             [
              0.4444444444444444,
              "#bd3786"
             ],
             [
              0.5555555555555556,
              "#d8576b"
             ],
             [
              0.6666666666666666,
              "#ed7953"
             ],
             [
              0.7777777777777778,
              "#fb9f3a"
             ],
             [
              0.8888888888888888,
              "#fdca26"
             ],
             [
              1,
              "#f0f921"
             ]
            ],
            "type": "heatmapgl"
           }
          ],
          "histogram": [
           {
            "marker": {
             "pattern": {
              "fillmode": "overlay",
              "size": 10,
              "solidity": 0.2
             }
            },
            "type": "histogram"
           }
          ],
          "histogram2d": [
           {
            "colorbar": {
             "outlinewidth": 0,
             "ticks": ""
            },
            "colorscale": [
             [
              0,
              "#0d0887"
             ],
             [
              0.1111111111111111,
              "#46039f"
             ],
             [
              0.2222222222222222,
              "#7201a8"
             ],
             [
              0.3333333333333333,
              "#9c179e"
             ],
             [
              0.4444444444444444,
              "#bd3786"
             ],
             [
              0.5555555555555556,
              "#d8576b"
             ],
             [
              0.6666666666666666,
              "#ed7953"
             ],
             [
              0.7777777777777778,
              "#fb9f3a"
             ],
             [
              0.8888888888888888,
              "#fdca26"
             ],
             [
              1,
              "#f0f921"
             ]
            ],
            "type": "histogram2d"
           }
          ],
          "histogram2dcontour": [
           {
            "colorbar": {
             "outlinewidth": 0,
             "ticks": ""
            },
            "colorscale": [
             [
              0,
              "#0d0887"
             ],
             [
              0.1111111111111111,
              "#46039f"
             ],
             [
              0.2222222222222222,
              "#7201a8"
             ],
             [
              0.3333333333333333,
              "#9c179e"
             ],
             [
              0.4444444444444444,
              "#bd3786"
             ],
             [
              0.5555555555555556,
              "#d8576b"
             ],
             [
              0.6666666666666666,
              "#ed7953"
             ],
             [
              0.7777777777777778,
              "#fb9f3a"
             ],
             [
              0.8888888888888888,
              "#fdca26"
             ],
             [
              1,
              "#f0f921"
             ]
            ],
            "type": "histogram2dcontour"
           }
          ],
          "mesh3d": [
           {
            "colorbar": {
             "outlinewidth": 0,
             "ticks": ""
            },
            "type": "mesh3d"
           }
          ],
          "parcoords": [
           {
            "line": {
             "colorbar": {
              "outlinewidth": 0,
              "ticks": ""
             }
            },
            "type": "parcoords"
           }
          ],
          "pie": [
           {
            "automargin": true,
            "type": "pie"
           }
          ],
          "scatter": [
           {
            "fillpattern": {
             "fillmode": "overlay",
             "size": 10,
             "solidity": 0.2
            },
            "type": "scatter"
           }
          ],
          "scatter3d": [
           {
            "line": {
             "colorbar": {
              "outlinewidth": 0,
              "ticks": ""
             }
            },
            "marker": {
             "colorbar": {
              "outlinewidth": 0,
              "ticks": ""
             }
            },
            "type": "scatter3d"
           }
          ],
          "scattercarpet": [
           {
            "marker": {
             "colorbar": {
              "outlinewidth": 0,
              "ticks": ""
             }
            },
            "type": "scattercarpet"
           }
          ],
          "scattergeo": [
           {
            "marker": {
             "colorbar": {
              "outlinewidth": 0,
              "ticks": ""
             }
            },
            "type": "scattergeo"
           }
          ],
          "scattergl": [
           {
            "marker": {
             "colorbar": {
              "outlinewidth": 0,
              "ticks": ""
             }
            },
            "type": "scattergl"
           }
          ],
          "scattermapbox": [
           {
            "marker": {
             "colorbar": {
              "outlinewidth": 0,
              "ticks": ""
             }
            },
            "type": "scattermapbox"
           }
          ],
          "scatterpolar": [
           {
            "marker": {
             "colorbar": {
              "outlinewidth": 0,
              "ticks": ""
             }
            },
            "type": "scatterpolar"
           }
          ],
          "scatterpolargl": [
           {
            "marker": {
             "colorbar": {
              "outlinewidth": 0,
              "ticks": ""
             }
            },
            "type": "scatterpolargl"
           }
          ],
          "scatterternary": [
           {
            "marker": {
             "colorbar": {
              "outlinewidth": 0,
              "ticks": ""
             }
            },
            "type": "scatterternary"
           }
          ],
          "surface": [
           {
            "colorbar": {
             "outlinewidth": 0,
             "ticks": ""
            },
            "colorscale": [
             [
              0,
              "#0d0887"
             ],
             [
              0.1111111111111111,
              "#46039f"
             ],
             [
              0.2222222222222222,
              "#7201a8"
             ],
             [
              0.3333333333333333,
              "#9c179e"
             ],
             [
              0.4444444444444444,
              "#bd3786"
             ],
             [
              0.5555555555555556,
              "#d8576b"
             ],
             [
              0.6666666666666666,
              "#ed7953"
             ],
             [
              0.7777777777777778,
              "#fb9f3a"
             ],
             [
              0.8888888888888888,
              "#fdca26"
             ],
             [
              1,
              "#f0f921"
             ]
            ],
            "type": "surface"
           }
          ],
          "table": [
           {
            "cells": {
             "fill": {
              "color": "#EBF0F8"
             },
             "line": {
              "color": "white"
             }
            },
            "header": {
             "fill": {
              "color": "#C8D4E3"
             },
             "line": {
              "color": "white"
             }
            },
            "type": "table"
           }
          ]
         },
         "layout": {
          "annotationdefaults": {
           "arrowcolor": "#2a3f5f",
           "arrowhead": 0,
           "arrowwidth": 1
          },
          "autotypenumbers": "strict",
          "coloraxis": {
           "colorbar": {
            "outlinewidth": 0,
            "ticks": ""
           }
          },
          "colorscale": {
           "diverging": [
            [
             0,
             "#8e0152"
            ],
            [
             0.1,
             "#c51b7d"
            ],
            [
             0.2,
             "#de77ae"
            ],
            [
             0.3,
             "#f1b6da"
            ],
            [
             0.4,
             "#fde0ef"
            ],
            [
             0.5,
             "#f7f7f7"
            ],
            [
             0.6,
             "#e6f5d0"
            ],
            [
             0.7,
             "#b8e186"
            ],
            [
             0.8,
             "#7fbc41"
            ],
            [
             0.9,
             "#4d9221"
            ],
            [
             1,
             "#276419"
            ]
           ],
           "sequential": [
            [
             0,
             "#0d0887"
            ],
            [
             0.1111111111111111,
             "#46039f"
            ],
            [
             0.2222222222222222,
             "#7201a8"
            ],
            [
             0.3333333333333333,
             "#9c179e"
            ],
            [
             0.4444444444444444,
             "#bd3786"
            ],
            [
             0.5555555555555556,
             "#d8576b"
            ],
            [
             0.6666666666666666,
             "#ed7953"
            ],
            [
             0.7777777777777778,
             "#fb9f3a"
            ],
            [
             0.8888888888888888,
             "#fdca26"
            ],
            [
             1,
             "#f0f921"
            ]
           ],
           "sequentialminus": [
            [
             0,
             "#0d0887"
            ],
            [
             0.1111111111111111,
             "#46039f"
            ],
            [
             0.2222222222222222,
             "#7201a8"
            ],
            [
             0.3333333333333333,
             "#9c179e"
            ],
            [
             0.4444444444444444,
             "#bd3786"
            ],
            [
             0.5555555555555556,
             "#d8576b"
            ],
            [
             0.6666666666666666,
             "#ed7953"
            ],
            [
             0.7777777777777778,
             "#fb9f3a"
            ],
            [
             0.8888888888888888,
             "#fdca26"
            ],
            [
             1,
             "#f0f921"
            ]
           ]
          },
          "colorway": [
           "#636efa",
           "#EF553B",
           "#00cc96",
           "#ab63fa",
           "#FFA15A",
           "#19d3f3",
           "#FF6692",
           "#B6E880",
           "#FF97FF",
           "#FECB52"
          ],
          "font": {
           "color": "#2a3f5f"
          },
          "geo": {
           "bgcolor": "white",
           "lakecolor": "white",
           "landcolor": "#E5ECF6",
           "showlakes": true,
           "showland": true,
           "subunitcolor": "white"
          },
          "hoverlabel": {
           "align": "left"
          },
          "hovermode": "closest",
          "mapbox": {
           "style": "light"
          },
          "paper_bgcolor": "white",
          "plot_bgcolor": "#E5ECF6",
          "polar": {
           "angularaxis": {
            "gridcolor": "white",
            "linecolor": "white",
            "ticks": ""
           },
           "bgcolor": "#E5ECF6",
           "radialaxis": {
            "gridcolor": "white",
            "linecolor": "white",
            "ticks": ""
           }
          },
          "scene": {
           "xaxis": {
            "backgroundcolor": "#E5ECF6",
            "gridcolor": "white",
            "gridwidth": 2,
            "linecolor": "white",
            "showbackground": true,
            "ticks": "",
            "zerolinecolor": "white"
           },
           "yaxis": {
            "backgroundcolor": "#E5ECF6",
            "gridcolor": "white",
            "gridwidth": 2,
            "linecolor": "white",
            "showbackground": true,
            "ticks": "",
            "zerolinecolor": "white"
           },
           "zaxis": {
            "backgroundcolor": "#E5ECF6",
            "gridcolor": "white",
            "gridwidth": 2,
            "linecolor": "white",
            "showbackground": true,
            "ticks": "",
            "zerolinecolor": "white"
           }
          },
          "shapedefaults": {
           "line": {
            "color": "#2a3f5f"
           }
          },
          "ternary": {
           "aaxis": {
            "gridcolor": "white",
            "linecolor": "white",
            "ticks": ""
           },
           "baxis": {
            "gridcolor": "white",
            "linecolor": "white",
            "ticks": ""
           },
           "bgcolor": "#E5ECF6",
           "caxis": {
            "gridcolor": "white",
            "linecolor": "white",
            "ticks": ""
           }
          },
          "title": {
           "x": 0.05
          },
          "xaxis": {
           "automargin": true,
           "gridcolor": "white",
           "linecolor": "white",
           "ticks": "",
           "title": {
            "standoff": 15
           },
           "zerolinecolor": "white",
           "zerolinewidth": 2
          },
          "yaxis": {
           "automargin": true,
           "gridcolor": "white",
           "linecolor": "white",
           "ticks": "",
           "title": {
            "standoff": 15
           },
           "zerolinecolor": "white",
           "zerolinewidth": 2
          }
         }
        },
        "title": {
         "font": {
          "color": "#4D5663"
         }
        },
        "xaxis": {
         "anchor": "y",
         "domain": [
          0,
          0.2125
         ],
         "gridcolor": "#E1E5ED",
         "showgrid": false,
         "tickfont": {
          "color": "#4D5663"
         },
         "title": {
          "font": {
           "color": "#4D5663"
          },
          "text": ""
         },
         "zerolinecolor": "#E1E5ED"
        },
        "xaxis10": {
         "anchor": "y10",
         "domain": [
          0.2625,
          0.475
         ],
         "gridcolor": "#E1E5ED",
         "showgrid": false,
         "tickfont": {
          "color": "#4D5663"
         },
         "title": {
          "font": {
           "color": "#4D5663"
          },
          "text": ""
         },
         "zerolinecolor": "#E1E5ED"
        },
        "xaxis11": {
         "anchor": "y11",
         "domain": [
          0.525,
          0.7375
         ],
         "gridcolor": "#E1E5ED",
         "showgrid": false,
         "tickfont": {
          "color": "#4D5663"
         },
         "title": {
          "font": {
           "color": "#4D5663"
          },
          "text": ""
         },
         "zerolinecolor": "#E1E5ED"
        },
        "xaxis12": {
         "anchor": "y12",
         "domain": [
          0.7875,
          1
         ],
         "gridcolor": "#E1E5ED",
         "showgrid": false,
         "tickfont": {
          "color": "#4D5663"
         },
         "title": {
          "font": {
           "color": "#4D5663"
          },
          "text": ""
         },
         "zerolinecolor": "#E1E5ED"
        },
        "xaxis13": {
         "anchor": "y13",
         "domain": [
          0,
          0.2125
         ],
         "gridcolor": "#E1E5ED",
         "showgrid": false,
         "tickfont": {
          "color": "#4D5663"
         },
         "title": {
          "font": {
           "color": "#4D5663"
          },
          "text": ""
         },
         "zerolinecolor": "#E1E5ED"
        },
        "xaxis14": {
         "anchor": "y14",
         "domain": [
          0.2625,
          0.475
         ],
         "gridcolor": "#E1E5ED",
         "showgrid": false,
         "tickfont": {
          "color": "#4D5663"
         },
         "title": {
          "font": {
           "color": "#4D5663"
          },
          "text": ""
         },
         "zerolinecolor": "#E1E5ED"
        },
        "xaxis15": {
         "anchor": "y15",
         "domain": [
          0.525,
          0.7375
         ],
         "gridcolor": "#E1E5ED",
         "showgrid": false,
         "tickfont": {
          "color": "#4D5663"
         },
         "title": {
          "font": {
           "color": "#4D5663"
          },
          "text": ""
         },
         "zerolinecolor": "#E1E5ED"
        },
        "xaxis16": {
         "anchor": "y16",
         "domain": [
          0.7875,
          1
         ],
         "gridcolor": "#E1E5ED",
         "showgrid": false,
         "tickfont": {
          "color": "#4D5663"
         },
         "title": {
          "font": {
           "color": "#4D5663"
          },
          "text": ""
         },
         "zerolinecolor": "#E1E5ED"
        },
        "xaxis2": {
         "anchor": "y2",
         "domain": [
          0.2625,
          0.475
         ],
         "gridcolor": "#E1E5ED",
         "showgrid": false,
         "tickfont": {
          "color": "#4D5663"
         },
         "title": {
          "font": {
           "color": "#4D5663"
          },
          "text": ""
         },
         "zerolinecolor": "#E1E5ED"
        },
        "xaxis3": {
         "anchor": "y3",
         "domain": [
          0.525,
          0.7375
         ],
         "gridcolor": "#E1E5ED",
         "showgrid": false,
         "tickfont": {
          "color": "#4D5663"
         },
         "title": {
          "font": {
           "color": "#4D5663"
          },
          "text": ""
         },
         "zerolinecolor": "#E1E5ED"
        },
        "xaxis4": {
         "anchor": "y4",
         "domain": [
          0.7875,
          1
         ],
         "gridcolor": "#E1E5ED",
         "showgrid": false,
         "tickfont": {
          "color": "#4D5663"
         },
         "title": {
          "font": {
           "color": "#4D5663"
          },
          "text": ""
         },
         "zerolinecolor": "#E1E5ED"
        },
        "xaxis5": {
         "anchor": "y5",
         "domain": [
          0,
          0.2125
         ],
         "gridcolor": "#E1E5ED",
         "showgrid": false,
         "tickfont": {
          "color": "#4D5663"
         },
         "title": {
          "font": {
           "color": "#4D5663"
          },
          "text": ""
         },
         "zerolinecolor": "#E1E5ED"
        },
        "xaxis6": {
         "anchor": "y6",
         "domain": [
          0.2625,
          0.475
         ],
         "gridcolor": "#E1E5ED",
         "showgrid": false,
         "tickfont": {
          "color": "#4D5663"
         },
         "title": {
          "font": {
           "color": "#4D5663"
          },
          "text": ""
         },
         "zerolinecolor": "#E1E5ED"
        },
        "xaxis7": {
         "anchor": "y7",
         "domain": [
          0.525,
          0.7375
         ],
         "gridcolor": "#E1E5ED",
         "showgrid": false,
         "tickfont": {
          "color": "#4D5663"
         },
         "title": {
          "font": {
           "color": "#4D5663"
          },
          "text": ""
         },
         "zerolinecolor": "#E1E5ED"
        },
        "xaxis8": {
         "anchor": "y8",
         "domain": [
          0.7875,
          1
         ],
         "gridcolor": "#E1E5ED",
         "showgrid": false,
         "tickfont": {
          "color": "#4D5663"
         },
         "title": {
          "font": {
           "color": "#4D5663"
          },
          "text": ""
         },
         "zerolinecolor": "#E1E5ED"
        },
        "xaxis9": {
         "anchor": "y9",
         "domain": [
          0,
          0.2125
         ],
         "gridcolor": "#E1E5ED",
         "showgrid": false,
         "tickfont": {
          "color": "#4D5663"
         },
         "title": {
          "font": {
           "color": "#4D5663"
          },
          "text": ""
         },
         "zerolinecolor": "#E1E5ED"
        },
        "yaxis": {
         "anchor": "x",
         "domain": [
          0.8025,
          1
         ],
         "gridcolor": "#E1E5ED",
         "showgrid": false,
         "tickfont": {
          "color": "#4D5663"
         },
         "title": {
          "font": {
           "color": "#4D5663"
          },
          "text": ""
         },
         "zerolinecolor": "#E1E5ED"
        },
        "yaxis10": {
         "anchor": "x10",
         "domain": [
          0.2675,
          0.465
         ],
         "gridcolor": "#E1E5ED",
         "showgrid": false,
         "tickfont": {
          "color": "#4D5663"
         },
         "title": {
          "font": {
           "color": "#4D5663"
          },
          "text": ""
         },
         "zerolinecolor": "#E1E5ED"
        },
        "yaxis11": {
         "anchor": "x11",
         "domain": [
          0.2675,
          0.465
         ],
         "gridcolor": "#E1E5ED",
         "showgrid": false,
         "tickfont": {
          "color": "#4D5663"
         },
         "title": {
          "font": {
           "color": "#4D5663"
          },
          "text": ""
         },
         "zerolinecolor": "#E1E5ED"
        },
        "yaxis12": {
         "anchor": "x12",
         "domain": [
          0.2675,
          0.465
         ],
         "gridcolor": "#E1E5ED",
         "showgrid": false,
         "tickfont": {
          "color": "#4D5663"
         },
         "title": {
          "font": {
           "color": "#4D5663"
          },
          "text": ""
         },
         "zerolinecolor": "#E1E5ED"
        },
        "yaxis13": {
         "anchor": "x13",
         "domain": [
          0,
          0.1975
         ],
         "gridcolor": "#E1E5ED",
         "showgrid": false,
         "tickfont": {
          "color": "#4D5663"
         },
         "title": {
          "font": {
           "color": "#4D5663"
          },
          "text": ""
         },
         "zerolinecolor": "#E1E5ED"
        },
        "yaxis14": {
         "anchor": "x14",
         "domain": [
          0,
          0.1975
         ],
         "gridcolor": "#E1E5ED",
         "showgrid": false,
         "tickfont": {
          "color": "#4D5663"
         },
         "title": {
          "font": {
           "color": "#4D5663"
          },
          "text": ""
         },
         "zerolinecolor": "#E1E5ED"
        },
        "yaxis15": {
         "anchor": "x15",
         "domain": [
          0,
          0.1975
         ],
         "gridcolor": "#E1E5ED",
         "showgrid": false,
         "tickfont": {
          "color": "#4D5663"
         },
         "title": {
          "font": {
           "color": "#4D5663"
          },
          "text": ""
         },
         "zerolinecolor": "#E1E5ED"
        },
        "yaxis16": {
         "anchor": "x16",
         "domain": [
          0,
          0.1975
         ],
         "gridcolor": "#E1E5ED",
         "showgrid": false,
         "tickfont": {
          "color": "#4D5663"
         },
         "title": {
          "font": {
           "color": "#4D5663"
          },
          "text": ""
         },
         "zerolinecolor": "#E1E5ED"
        },
        "yaxis2": {
         "anchor": "x2",
         "domain": [
          0.8025,
          1
         ],
         "gridcolor": "#E1E5ED",
         "showgrid": false,
         "tickfont": {
          "color": "#4D5663"
         },
         "title": {
          "font": {
           "color": "#4D5663"
          },
          "text": ""
         },
         "zerolinecolor": "#E1E5ED"
        },
        "yaxis3": {
         "anchor": "x3",
         "domain": [
          0.8025,
          1
         ],
         "gridcolor": "#E1E5ED",
         "showgrid": false,
         "tickfont": {
          "color": "#4D5663"
         },
         "title": {
          "font": {
           "color": "#4D5663"
          },
          "text": ""
         },
         "zerolinecolor": "#E1E5ED"
        },
        "yaxis4": {
         "anchor": "x4",
         "domain": [
          0.8025,
          1
         ],
         "gridcolor": "#E1E5ED",
         "showgrid": false,
         "tickfont": {
          "color": "#4D5663"
         },
         "title": {
          "font": {
           "color": "#4D5663"
          },
          "text": ""
         },
         "zerolinecolor": "#E1E5ED"
        },
        "yaxis5": {
         "anchor": "x5",
         "domain": [
          0.535,
          0.7325
         ],
         "gridcolor": "#E1E5ED",
         "showgrid": false,
         "tickfont": {
          "color": "#4D5663"
         },
         "title": {
          "font": {
           "color": "#4D5663"
          },
          "text": ""
         },
         "zerolinecolor": "#E1E5ED"
        },
        "yaxis6": {
         "anchor": "x6",
         "domain": [
          0.535,
          0.7325
         ],
         "gridcolor": "#E1E5ED",
         "showgrid": false,
         "tickfont": {
          "color": "#4D5663"
         },
         "title": {
          "font": {
           "color": "#4D5663"
          },
          "text": ""
         },
         "zerolinecolor": "#E1E5ED"
        },
        "yaxis7": {
         "anchor": "x7",
         "domain": [
          0.535,
          0.7325
         ],
         "gridcolor": "#E1E5ED",
         "showgrid": false,
         "tickfont": {
          "color": "#4D5663"
         },
         "title": {
          "font": {
           "color": "#4D5663"
          },
          "text": ""
         },
         "zerolinecolor": "#E1E5ED"
        },
        "yaxis8": {
         "anchor": "x8",
         "domain": [
          0.535,
          0.7325
         ],
         "gridcolor": "#E1E5ED",
         "showgrid": false,
         "tickfont": {
          "color": "#4D5663"
         },
         "title": {
          "font": {
           "color": "#4D5663"
          },
          "text": ""
         },
         "zerolinecolor": "#E1E5ED"
        },
        "yaxis9": {
         "anchor": "x9",
         "domain": [
          0.2675,
          0.465
         ],
         "gridcolor": "#E1E5ED",
         "showgrid": false,
         "tickfont": {
          "color": "#4D5663"
         },
         "title": {
          "font": {
           "color": "#4D5663"
          },
          "text": ""
         },
         "zerolinecolor": "#E1E5ED"
        }
       }
      },
      "text/html": [
       "<div>                            <div id=\"9ee0924a-0568-4e8d-9cfe-c42a45bc7cc4\" class=\"plotly-graph-div\" style=\"height:525px; width:100%;\"></div>            <script type=\"text/javascript\">                require([\"plotly\"], function(Plotly) {                    window.PLOTLYENV=window.PLOTLYENV || {};\n",
       "                    window.PLOTLYENV.BASE_URL='https://plot.ly';                                    if (document.getElementById(\"9ee0924a-0568-4e8d-9cfe-c42a45bc7cc4\")) {                    Plotly.newPlot(                        \"9ee0924a-0568-4e8d-9cfe-c42a45bc7cc4\",                        [{\"histfunc\":\"count\",\"histnorm\":\"\",\"marker\":{\"color\":\"rgba(255, 153, 51, 1.0)\",\"line\":{\"color\":\"#4D5663\",\"width\":1.3}},\"name\":\"A\",\"nbinsx\":10,\"opacity\":0.8,\"orientation\":\"v\",\"x\":[-0.6223127097787445,-0.07809162236041678,1.7790474819468551,-1.4247118375561625,-1.4105751154601864,0.2188883169681857,-1.149465863308755,-0.2177532325647362,-1.6726587412621337,1.2097065375742302,-0.7930267396765023,-0.05511018197538327,-0.09030662425254163,1.1619150166121996,0.3097205548007712,0.5129277863969072,0.6184961590026289,-1.4637685018706745,0.4485421585261526,1.767822731251506,-1.0091554353768661,-0.20187565762794943,0.10438402542485582,-1.0271492803595452,-0.549378606146546,-1.0818406350966738,-0.7289573371488666,1.1198836055237327,0.5864148695608872,-0.024355589607592033,0.6980656079470045,-0.8483633384572155,-1.5684647526087565,-1.3874098606278373,-0.6513298563396208,0.6752856776403766,1.9572075005188447,0.3067879974877034,0.08069647639021876,0.013777395371240508,1.1497250255527611,-0.584868011758543,-0.8747816362718722,0.16248255497583639,-0.6338491218052374,-0.18762133433093403,0.7183308864619843,0.03892557856366659,-0.05835543780960389,0.2729009332188614,0.18648405784653066,-0.002357963793111217,-1.6448419115769932,-1.8587399276049648,0.9002409872304978,-0.3246003945946711,-1.7144926347993703,0.7149852461038438,0.15022217521407277,-2.0742708012084057,-1.0082255935657103,0.5729601043333363,0.7210335937747494,0.1605572639077616,0.6811849909147913,-1.1821625386795713,1.3227312433894765,-0.8078552803418341,0.5935199442620323,-0.35774391456928006,0.7460167158855326,0.21037620123633732,-0.001577946660872818,0.3318969809409894,0.29022595465192125,0.6093830084655928,-0.5964490834227272,-1.0873790616847774,0.7385065124916351,-1.1683892869125476,-0.14716717691544046,-0.3190296801594655,-1.62228312074107,0.0940633033641303,-0.7413030015954901,2.5468536611139574,-0.8553192878274413,-0.6214605444473837,-0.37590549650516025,-0.6887968127659998,-0.6023601264871187,0.5480051859117191,1.5398950046172197,1.171647048456549,-0.26945117641978844,1.3553267212960771,-1.8733178535294914,-0.8916742861646291,-0.10395184783622588,0.015416002948039327],\"xaxis\":\"x\",\"yaxis\":\"y\",\"type\":\"histogram\"},{\"line\":{\"color\":\"rgba(128, 128, 128, 1.0)\",\"dash\":\"solid\",\"shape\":\"linear\",\"width\":1.3},\"marker\":{\"size\":2,\"symbol\":\"circle\"},\"mode\":\"markers\",\"name\":\"A\",\"text\":\"\",\"x\":[0.39299279759057504,0.9703165383850477,-0.3315341358806937,-1.5584031758162409,0.951523596033235,-0.5555846581699916,-1.515512553211831,1.9037823912410028,0.11998085811301533,-0.2799904644871162,0.9649601637582959,-0.2129880463045149,1.608269687420033,-0.9248636326249062,-0.14664756884169589,-0.047763160217688436,0.02140402329140558,0.13626631422295649,-1.2316106623850942,-1.4494740058324187,-0.9643096084728445,-1.8155834317145414,-1.4975399771222855,-2.008459460468831,-0.18844771209113004,-0.8452479670056402,0.2702435905254712,-0.08307773275515531,1.9925306352375145,-0.30011064157012196,-1.8416088365312053,1.4883897812928597,0.2857404107478787,-1.3694143183685137,0.34472215385367405,-0.7333872049097238,1.3796332788800656,-0.00901709225535108,0.5282371077244549,-1.5889248101211482,-0.9168030342948024,-0.8567400095928656,0.5420625354429279,0.3531656963293904,0.9516310013151971,1.4814305926548468,-0.0661783667737621,-0.5366522538953027,-1.0733680524544438,1.664261087255659,0.5546934645540875,-0.9498218183256268,1.6448795435345684,0.2356696285556059,-0.9223882563702976,-1.999143938093221,0.8469020285223882,0.6589074033059399,-0.5799192494117322,-0.7788733134093945,0.7577793943052767,-0.09707784030046557,-0.03455307170219075,-0.8811323416697463,-0.6267043083674482,-1.0269391048157697,-0.5321336972529832,0.8451182902588883,0.08662269451869511,0.31429709601059586,-0.1934184891753213,1.2840149281872961,0.555730360910625,0.45183765131006726,-0.49686842278032023,-0.32947519313932555,-1.19620746138553,-0.7038639841931628,-0.7898364183395687,0.7438412707540987,0.7414495707254729,1.3799733154504426,0.56648572675284,-2.50683210422878,0.9959654653416138,0.367421323759343,-0.46904746013665927,-1.1409670086342902,0.2598216833782342,-1.2902403671698264,0.49678766890658405,-0.48224628270977354,-0.16484644023413372,-1.0334851807235186,0.14970842234302917,0.7165586416171045,1.0511466528478781,2.06350190094373,0.32514957908412,0.2174187719077609],\"xaxis\":\"x2\",\"y\":[-0.6223127097787445,-0.07809162236041678,1.7790474819468551,-1.4247118375561625,-1.4105751154601864,0.2188883169681857,-1.149465863308755,-0.2177532325647362,-1.6726587412621337,1.2097065375742302,-0.7930267396765023,-0.05511018197538327,-0.09030662425254163,1.1619150166121996,0.3097205548007712,0.5129277863969072,0.6184961590026289,-1.4637685018706745,0.4485421585261526,1.767822731251506,-1.0091554353768661,-0.20187565762794943,0.10438402542485582,-1.0271492803595452,-0.549378606146546,-1.0818406350966738,-0.7289573371488666,1.1198836055237327,0.5864148695608872,-0.024355589607592033,0.6980656079470045,-0.8483633384572155,-1.5684647526087565,-1.3874098606278373,-0.6513298563396208,0.6752856776403766,1.9572075005188447,0.3067879974877034,0.08069647639021876,0.013777395371240508,1.1497250255527611,-0.584868011758543,-0.8747816362718722,0.16248255497583639,-0.6338491218052374,-0.18762133433093403,0.7183308864619843,0.03892557856366659,-0.05835543780960389,0.2729009332188614,0.18648405784653066,-0.002357963793111217,-1.6448419115769932,-1.8587399276049648,0.9002409872304978,-0.3246003945946711,-1.7144926347993703,0.7149852461038438,0.15022217521407277,-2.0742708012084057,-1.0082255935657103,0.5729601043333363,0.7210335937747494,0.1605572639077616,0.6811849909147913,-1.1821625386795713,1.3227312433894765,-0.8078552803418341,0.5935199442620323,-0.35774391456928006,0.7460167158855326,0.21037620123633732,-0.001577946660872818,0.3318969809409894,0.29022595465192125,0.6093830084655928,-0.5964490834227272,-1.0873790616847774,0.7385065124916351,-1.1683892869125476,-0.14716717691544046,-0.3190296801594655,-1.62228312074107,0.0940633033641303,-0.7413030015954901,2.5468536611139574,-0.8553192878274413,-0.6214605444473837,-0.37590549650516025,-0.6887968127659998,-0.6023601264871187,0.5480051859117191,1.5398950046172197,1.171647048456549,-0.26945117641978844,1.3553267212960771,-1.8733178535294914,-0.8916742861646291,-0.10395184783622588,0.015416002948039327],\"yaxis\":\"y2\",\"type\":\"scatter\"},{\"line\":{\"color\":\"rgba(128, 128, 128, 1.0)\",\"dash\":\"solid\",\"shape\":\"linear\",\"width\":1.3},\"marker\":{\"size\":2,\"symbol\":\"circle\"},\"mode\":\"markers\",\"name\":\"A\",\"text\":\"\",\"x\":[-0.1394922412256659,0.38734155585847974,-0.9260957315446555,1.7598055851729693,2.210787136403946,-0.3022733556354362,-0.3321972707800144,-0.1552642924054388,-0.2870423301786768,0.6442732570082397,0.11014394961086883,-0.4278396030263597,0.43364625245808236,1.4508588360666845,-0.5423396917786653,0.4766730628614621,-1.0930741231694232,-1.2251625013267404,1.2278357534838633,-0.6586740241489065,2.0719087709201016,0.41495965936344326,0.7561162864867124,0.04064409247531572,0.18851771376240875,0.6321301873304279,-0.44742800509363195,-0.48617943220762816,1.4537403915676392,0.19349128592075931,1.0296497319579134,-0.9693172781930631,2.550997324758455,-0.9235141105083481,-0.2556884233919607,-0.6649752111022003,-0.5468451556298982,-2.7844579414935353,-0.3971986657038678,-1.2694849579678578,0.8050226821235916,0.183959600770004,0.19582171030744405,-0.04239771612971373,-1.1844633897934997,1.1586783863964807,1.7492385698415471,1.0158785881673311,-1.237607244103128,0.843448452886732,-1.5637969246951338,0.025004871592748112,-0.8471180601748635,0.6629186648730425,-1.1648273994392528,-0.2378197288212158,1.1587423625965083,0.06258506694463219,0.36201188717091604,0.8742136902258705,0.6755642100990448,1.0635356940506575,1.7509628418864445,-2.1122627787085353,0.4482910496415664,-0.7679156676626054,-0.32932409452845224,-0.8920180348539344,1.2108231224002985,0.728060788136938,1.3965365372564333,0.8408845871772697,1.34008003144846,3.1650637473110064,-0.47730283407630475,0.4445011172798934,0.7474000002979312,0.553429497434904,0.20155853477728425,0.9814895054945997,-0.7619892824985112,-0.23241769812505747,1.8545481854514945,-0.3933567137433616,-0.015279273912303869,0.9700559196306061,-0.7020615572239038,1.8908441811029264,0.2811541369905382,-0.9076193687338854,-1.4369113370368245,1.0735601139879156,0.2777949972840057,-0.6003160649082503,0.616082822519307,0.25233133157908066,0.46033039566920175,0.9550636859373486,0.5617910910295629,-1.1333573423474372],\"xaxis\":\"x3\",\"y\":[-0.6223127097787445,-0.07809162236041678,1.7790474819468551,-1.4247118375561625,-1.4105751154601864,0.2188883169681857,-1.149465863308755,-0.2177532325647362,-1.6726587412621337,1.2097065375742302,-0.7930267396765023,-0.05511018197538327,-0.09030662425254163,1.1619150166121996,0.3097205548007712,0.5129277863969072,0.6184961590026289,-1.4637685018706745,0.4485421585261526,1.767822731251506,-1.0091554353768661,-0.20187565762794943,0.10438402542485582,-1.0271492803595452,-0.549378606146546,-1.0818406350966738,-0.7289573371488666,1.1198836055237327,0.5864148695608872,-0.024355589607592033,0.6980656079470045,-0.8483633384572155,-1.5684647526087565,-1.3874098606278373,-0.6513298563396208,0.6752856776403766,1.9572075005188447,0.3067879974877034,0.08069647639021876,0.013777395371240508,1.1497250255527611,-0.584868011758543,-0.8747816362718722,0.16248255497583639,-0.6338491218052374,-0.18762133433093403,0.7183308864619843,0.03892557856366659,-0.05835543780960389,0.2729009332188614,0.18648405784653066,-0.002357963793111217,-1.6448419115769932,-1.8587399276049648,0.9002409872304978,-0.3246003945946711,-1.7144926347993703,0.7149852461038438,0.15022217521407277,-2.0742708012084057,-1.0082255935657103,0.5729601043333363,0.7210335937747494,0.1605572639077616,0.6811849909147913,-1.1821625386795713,1.3227312433894765,-0.8078552803418341,0.5935199442620323,-0.35774391456928006,0.7460167158855326,0.21037620123633732,-0.001577946660872818,0.3318969809409894,0.29022595465192125,0.6093830084655928,-0.5964490834227272,-1.0873790616847774,0.7385065124916351,-1.1683892869125476,-0.14716717691544046,-0.3190296801594655,-1.62228312074107,0.0940633033641303,-0.7413030015954901,2.5468536611139574,-0.8553192878274413,-0.6214605444473837,-0.37590549650516025,-0.6887968127659998,-0.6023601264871187,0.5480051859117191,1.5398950046172197,1.171647048456549,-0.26945117641978844,1.3553267212960771,-1.8733178535294914,-0.8916742861646291,-0.10395184783622588,0.015416002948039327],\"yaxis\":\"y3\",\"type\":\"scatter\"},{\"line\":{\"color\":\"rgba(128, 128, 128, 1.0)\",\"dash\":\"solid\",\"shape\":\"linear\",\"width\":1.3},\"marker\":{\"size\":2,\"symbol\":\"circle\"},\"mode\":\"markers\",\"name\":\"A\",\"text\":\"\",\"x\":[0.010313421967021626,0.9774787952723087,1.1832753189872105,-0.683841096896405,-0.6200486822091427,-1.3824334314231927,2.4453494443121597,-3.2119560314205766,-1.0113513717441274,-0.6910889000887538,-0.0007939603834835492,0.8034006202562674,0.6451956621787378,-0.5374908243435591,-0.009328334097994636,0.16665395862426705,-1.3602141884570391,0.5738391028689689,0.6750183691447313,0.20520058828298732,0.6681745288709247,1.0059022683148486,0.3944244869874825,-0.752639833939874,-1.158770538550278,-0.24544679136561875,-1.3646155805597115,0.9551921454161609,2.2844343748544493,-0.7696634640778297,-0.621897690952007,-0.34550223084018666,-0.4884301152484405,0.21928554316860505,-0.6829311425330685,0.5566508785290419,0.7624837165894379,-0.5478342499850288,0.5801653285577393,-0.632425720880273,-0.8417813926515596,-1.6236927181568437,1.9493597870649115,0.7465752119643185,0.5372780985435524,-2.1710348618073723,-0.6593875365739125,-0.018473140773435842,-0.04245242423015054,-0.6300682302117817,-1.2168773540689084,0.9319362138761141,-2.6638540758230627,-1.9315507625560588,-0.16701688100938009,-0.2062492957875122,-0.8358111006979888,0.6863144588219658,1.3846234929089063,-0.4753417448026249,-0.08792035864135517,-0.8112352217389021,0.14187936679133517,1.1734093670706989,-0.1322224862763447,0.20517567407068496,-1.760978391548266,0.23801612095180943,-1.403049283002082,0.2743706916166362,-0.6236523305572523,0.2725927370556236,0.8448899074036795,0.4626130789181829,0.2668959697949256,0.12867707772407294,-0.0543150251890773,0.18299637276404898,1.7752764866442248,-1.2374048440464878,0.6320590806476215,-0.9369986892289005,0.1231636933708757,-0.4458508374014565,0.3011104070617941,0.29221209883127613,-1.9921867599816934,0.2143544019177814,-1.5246716720992082,0.631959493414628,-1.7234468191694932,0.7771196299925165,0.2242601120175588,-0.08539207089427393,-2.168210226949958,0.15597597461677742,0.27321431901873094,-0.23689895193153876,-0.7164606321195535,-1.0314167978024231],\"xaxis\":\"x4\",\"y\":[-0.6223127097787445,-0.07809162236041678,1.7790474819468551,-1.4247118375561625,-1.4105751154601864,0.2188883169681857,-1.149465863308755,-0.2177532325647362,-1.6726587412621337,1.2097065375742302,-0.7930267396765023,-0.05511018197538327,-0.09030662425254163,1.1619150166121996,0.3097205548007712,0.5129277863969072,0.6184961590026289,-1.4637685018706745,0.4485421585261526,1.767822731251506,-1.0091554353768661,-0.20187565762794943,0.10438402542485582,-1.0271492803595452,-0.549378606146546,-1.0818406350966738,-0.7289573371488666,1.1198836055237327,0.5864148695608872,-0.024355589607592033,0.6980656079470045,-0.8483633384572155,-1.5684647526087565,-1.3874098606278373,-0.6513298563396208,0.6752856776403766,1.9572075005188447,0.3067879974877034,0.08069647639021876,0.013777395371240508,1.1497250255527611,-0.584868011758543,-0.8747816362718722,0.16248255497583639,-0.6338491218052374,-0.18762133433093403,0.7183308864619843,0.03892557856366659,-0.05835543780960389,0.2729009332188614,0.18648405784653066,-0.002357963793111217,-1.6448419115769932,-1.8587399276049648,0.9002409872304978,-0.3246003945946711,-1.7144926347993703,0.7149852461038438,0.15022217521407277,-2.0742708012084057,-1.0082255935657103,0.5729601043333363,0.7210335937747494,0.1605572639077616,0.6811849909147913,-1.1821625386795713,1.3227312433894765,-0.8078552803418341,0.5935199442620323,-0.35774391456928006,0.7460167158855326,0.21037620123633732,-0.001577946660872818,0.3318969809409894,0.29022595465192125,0.6093830084655928,-0.5964490834227272,-1.0873790616847774,0.7385065124916351,-1.1683892869125476,-0.14716717691544046,-0.3190296801594655,-1.62228312074107,0.0940633033641303,-0.7413030015954901,2.5468536611139574,-0.8553192878274413,-0.6214605444473837,-0.37590549650516025,-0.6887968127659998,-0.6023601264871187,0.5480051859117191,1.5398950046172197,1.171647048456549,-0.26945117641978844,1.3553267212960771,-1.8733178535294914,-0.8916742861646291,-0.10395184783622588,0.015416002948039327],\"yaxis\":\"y4\",\"type\":\"scatter\"},{\"line\":{\"color\":\"rgba(128, 128, 128, 1.0)\",\"dash\":\"solid\",\"shape\":\"linear\",\"width\":1.3},\"marker\":{\"size\":2,\"symbol\":\"circle\"},\"mode\":\"markers\",\"name\":\"B\",\"text\":\"\",\"x\":[-0.6223127097787445,-0.07809162236041678,1.7790474819468551,-1.4247118375561625,-1.4105751154601864,0.2188883169681857,-1.149465863308755,-0.2177532325647362,-1.6726587412621337,1.2097065375742302,-0.7930267396765023,-0.05511018197538327,-0.09030662425254163,1.1619150166121996,0.3097205548007712,0.5129277863969072,0.6184961590026289,-1.4637685018706745,0.4485421585261526,1.767822731251506,-1.0091554353768661,-0.20187565762794943,0.10438402542485582,-1.0271492803595452,-0.549378606146546,-1.0818406350966738,-0.7289573371488666,1.1198836055237327,0.5864148695608872,-0.024355589607592033,0.6980656079470045,-0.8483633384572155,-1.5684647526087565,-1.3874098606278373,-0.6513298563396208,0.6752856776403766,1.9572075005188447,0.3067879974877034,0.08069647639021876,0.013777395371240508,1.1497250255527611,-0.584868011758543,-0.8747816362718722,0.16248255497583639,-0.6338491218052374,-0.18762133433093403,0.7183308864619843,0.03892557856366659,-0.05835543780960389,0.2729009332188614,0.18648405784653066,-0.002357963793111217,-1.6448419115769932,-1.8587399276049648,0.9002409872304978,-0.3246003945946711,-1.7144926347993703,0.7149852461038438,0.15022217521407277,-2.0742708012084057,-1.0082255935657103,0.5729601043333363,0.7210335937747494,0.1605572639077616,0.6811849909147913,-1.1821625386795713,1.3227312433894765,-0.8078552803418341,0.5935199442620323,-0.35774391456928006,0.7460167158855326,0.21037620123633732,-0.001577946660872818,0.3318969809409894,0.29022595465192125,0.6093830084655928,-0.5964490834227272,-1.0873790616847774,0.7385065124916351,-1.1683892869125476,-0.14716717691544046,-0.3190296801594655,-1.62228312074107,0.0940633033641303,-0.7413030015954901,2.5468536611139574,-0.8553192878274413,-0.6214605444473837,-0.37590549650516025,-0.6887968127659998,-0.6023601264871187,0.5480051859117191,1.5398950046172197,1.171647048456549,-0.26945117641978844,1.3553267212960771,-1.8733178535294914,-0.8916742861646291,-0.10395184783622588,0.015416002948039327],\"xaxis\":\"x5\",\"y\":[0.39299279759057504,0.9703165383850477,-0.3315341358806937,-1.5584031758162409,0.951523596033235,-0.5555846581699916,-1.515512553211831,1.9037823912410028,0.11998085811301533,-0.2799904644871162,0.9649601637582959,-0.2129880463045149,1.608269687420033,-0.9248636326249062,-0.14664756884169589,-0.047763160217688436,0.02140402329140558,0.13626631422295649,-1.2316106623850942,-1.4494740058324187,-0.9643096084728445,-1.8155834317145414,-1.4975399771222855,-2.008459460468831,-0.18844771209113004,-0.8452479670056402,0.2702435905254712,-0.08307773275515531,1.9925306352375145,-0.30011064157012196,-1.8416088365312053,1.4883897812928597,0.2857404107478787,-1.3694143183685137,0.34472215385367405,-0.7333872049097238,1.3796332788800656,-0.00901709225535108,0.5282371077244549,-1.5889248101211482,-0.9168030342948024,-0.8567400095928656,0.5420625354429279,0.3531656963293904,0.9516310013151971,1.4814305926548468,-0.0661783667737621,-0.5366522538953027,-1.0733680524544438,1.664261087255659,0.5546934645540875,-0.9498218183256268,1.6448795435345684,0.2356696285556059,-0.9223882563702976,-1.999143938093221,0.8469020285223882,0.6589074033059399,-0.5799192494117322,-0.7788733134093945,0.7577793943052767,-0.09707784030046557,-0.03455307170219075,-0.8811323416697463,-0.6267043083674482,-1.0269391048157697,-0.5321336972529832,0.8451182902588883,0.08662269451869511,0.31429709601059586,-0.1934184891753213,1.2840149281872961,0.555730360910625,0.45183765131006726,-0.49686842278032023,-0.32947519313932555,-1.19620746138553,-0.7038639841931628,-0.7898364183395687,0.7438412707540987,0.7414495707254729,1.3799733154504426,0.56648572675284,-2.50683210422878,0.9959654653416138,0.367421323759343,-0.46904746013665927,-1.1409670086342902,0.2598216833782342,-1.2902403671698264,0.49678766890658405,-0.48224628270977354,-0.16484644023413372,-1.0334851807235186,0.14970842234302917,0.7165586416171045,1.0511466528478781,2.06350190094373,0.32514957908412,0.2174187719077609],\"yaxis\":\"y5\",\"type\":\"scatter\"},{\"histfunc\":\"count\",\"histnorm\":\"\",\"marker\":{\"color\":\"rgba(55, 128, 191, 1.0)\",\"line\":{\"color\":\"#4D5663\",\"width\":1.3}},\"name\":\"B\",\"nbinsx\":10,\"opacity\":0.8,\"orientation\":\"v\",\"x\":[0.39299279759057504,0.9703165383850477,-0.3315341358806937,-1.5584031758162409,0.951523596033235,-0.5555846581699916,-1.515512553211831,1.9037823912410028,0.11998085811301533,-0.2799904644871162,0.9649601637582959,-0.2129880463045149,1.608269687420033,-0.9248636326249062,-0.14664756884169589,-0.047763160217688436,0.02140402329140558,0.13626631422295649,-1.2316106623850942,-1.4494740058324187,-0.9643096084728445,-1.8155834317145414,-1.4975399771222855,-2.008459460468831,-0.18844771209113004,-0.8452479670056402,0.2702435905254712,-0.08307773275515531,1.9925306352375145,-0.30011064157012196,-1.8416088365312053,1.4883897812928597,0.2857404107478787,-1.3694143183685137,0.34472215385367405,-0.7333872049097238,1.3796332788800656,-0.00901709225535108,0.5282371077244549,-1.5889248101211482,-0.9168030342948024,-0.8567400095928656,0.5420625354429279,0.3531656963293904,0.9516310013151971,1.4814305926548468,-0.0661783667737621,-0.5366522538953027,-1.0733680524544438,1.664261087255659,0.5546934645540875,-0.9498218183256268,1.6448795435345684,0.2356696285556059,-0.9223882563702976,-1.999143938093221,0.8469020285223882,0.6589074033059399,-0.5799192494117322,-0.7788733134093945,0.7577793943052767,-0.09707784030046557,-0.03455307170219075,-0.8811323416697463,-0.6267043083674482,-1.0269391048157697,-0.5321336972529832,0.8451182902588883,0.08662269451869511,0.31429709601059586,-0.1934184891753213,1.2840149281872961,0.555730360910625,0.45183765131006726,-0.49686842278032023,-0.32947519313932555,-1.19620746138553,-0.7038639841931628,-0.7898364183395687,0.7438412707540987,0.7414495707254729,1.3799733154504426,0.56648572675284,-2.50683210422878,0.9959654653416138,0.367421323759343,-0.46904746013665927,-1.1409670086342902,0.2598216833782342,-1.2902403671698264,0.49678766890658405,-0.48224628270977354,-0.16484644023413372,-1.0334851807235186,0.14970842234302917,0.7165586416171045,1.0511466528478781,2.06350190094373,0.32514957908412,0.2174187719077609],\"xaxis\":\"x6\",\"yaxis\":\"y6\",\"type\":\"histogram\"},{\"line\":{\"color\":\"rgba(128, 128, 128, 1.0)\",\"dash\":\"solid\",\"shape\":\"linear\",\"width\":1.3},\"marker\":{\"size\":2,\"symbol\":\"circle\"},\"mode\":\"markers\",\"name\":\"B\",\"text\":\"\",\"x\":[-0.1394922412256659,0.38734155585847974,-0.9260957315446555,1.7598055851729693,2.210787136403946,-0.3022733556354362,-0.3321972707800144,-0.1552642924054388,-0.2870423301786768,0.6442732570082397,0.11014394961086883,-0.4278396030263597,0.43364625245808236,1.4508588360666845,-0.5423396917786653,0.4766730628614621,-1.0930741231694232,-1.2251625013267404,1.2278357534838633,-0.6586740241489065,2.0719087709201016,0.41495965936344326,0.7561162864867124,0.04064409247531572,0.18851771376240875,0.6321301873304279,-0.44742800509363195,-0.48617943220762816,1.4537403915676392,0.19349128592075931,1.0296497319579134,-0.9693172781930631,2.550997324758455,-0.9235141105083481,-0.2556884233919607,-0.6649752111022003,-0.5468451556298982,-2.7844579414935353,-0.3971986657038678,-1.2694849579678578,0.8050226821235916,0.183959600770004,0.19582171030744405,-0.04239771612971373,-1.1844633897934997,1.1586783863964807,1.7492385698415471,1.0158785881673311,-1.237607244103128,0.843448452886732,-1.5637969246951338,0.025004871592748112,-0.8471180601748635,0.6629186648730425,-1.1648273994392528,-0.2378197288212158,1.1587423625965083,0.06258506694463219,0.36201188717091604,0.8742136902258705,0.6755642100990448,1.0635356940506575,1.7509628418864445,-2.1122627787085353,0.4482910496415664,-0.7679156676626054,-0.32932409452845224,-0.8920180348539344,1.2108231224002985,0.728060788136938,1.3965365372564333,0.8408845871772697,1.34008003144846,3.1650637473110064,-0.47730283407630475,0.4445011172798934,0.7474000002979312,0.553429497434904,0.20155853477728425,0.9814895054945997,-0.7619892824985112,-0.23241769812505747,1.8545481854514945,-0.3933567137433616,-0.015279273912303869,0.9700559196306061,-0.7020615572239038,1.8908441811029264,0.2811541369905382,-0.9076193687338854,-1.4369113370368245,1.0735601139879156,0.2777949972840057,-0.6003160649082503,0.616082822519307,0.25233133157908066,0.46033039566920175,0.9550636859373486,0.5617910910295629,-1.1333573423474372],\"xaxis\":\"x7\",\"y\":[0.39299279759057504,0.9703165383850477,-0.3315341358806937,-1.5584031758162409,0.951523596033235,-0.5555846581699916,-1.515512553211831,1.9037823912410028,0.11998085811301533,-0.2799904644871162,0.9649601637582959,-0.2129880463045149,1.608269687420033,-0.9248636326249062,-0.14664756884169589,-0.047763160217688436,0.02140402329140558,0.13626631422295649,-1.2316106623850942,-1.4494740058324187,-0.9643096084728445,-1.8155834317145414,-1.4975399771222855,-2.008459460468831,-0.18844771209113004,-0.8452479670056402,0.2702435905254712,-0.08307773275515531,1.9925306352375145,-0.30011064157012196,-1.8416088365312053,1.4883897812928597,0.2857404107478787,-1.3694143183685137,0.34472215385367405,-0.7333872049097238,1.3796332788800656,-0.00901709225535108,0.5282371077244549,-1.5889248101211482,-0.9168030342948024,-0.8567400095928656,0.5420625354429279,0.3531656963293904,0.9516310013151971,1.4814305926548468,-0.0661783667737621,-0.5366522538953027,-1.0733680524544438,1.664261087255659,0.5546934645540875,-0.9498218183256268,1.6448795435345684,0.2356696285556059,-0.9223882563702976,-1.999143938093221,0.8469020285223882,0.6589074033059399,-0.5799192494117322,-0.7788733134093945,0.7577793943052767,-0.09707784030046557,-0.03455307170219075,-0.8811323416697463,-0.6267043083674482,-1.0269391048157697,-0.5321336972529832,0.8451182902588883,0.08662269451869511,0.31429709601059586,-0.1934184891753213,1.2840149281872961,0.555730360910625,0.45183765131006726,-0.49686842278032023,-0.32947519313932555,-1.19620746138553,-0.7038639841931628,-0.7898364183395687,0.7438412707540987,0.7414495707254729,1.3799733154504426,0.56648572675284,-2.50683210422878,0.9959654653416138,0.367421323759343,-0.46904746013665927,-1.1409670086342902,0.2598216833782342,-1.2902403671698264,0.49678766890658405,-0.48224628270977354,-0.16484644023413372,-1.0334851807235186,0.14970842234302917,0.7165586416171045,1.0511466528478781,2.06350190094373,0.32514957908412,0.2174187719077609],\"yaxis\":\"y7\",\"type\":\"scatter\"},{\"line\":{\"color\":\"rgba(128, 128, 128, 1.0)\",\"dash\":\"solid\",\"shape\":\"linear\",\"width\":1.3},\"marker\":{\"size\":2,\"symbol\":\"circle\"},\"mode\":\"markers\",\"name\":\"B\",\"text\":\"\",\"x\":[0.010313421967021626,0.9774787952723087,1.1832753189872105,-0.683841096896405,-0.6200486822091427,-1.3824334314231927,2.4453494443121597,-3.2119560314205766,-1.0113513717441274,-0.6910889000887538,-0.0007939603834835492,0.8034006202562674,0.6451956621787378,-0.5374908243435591,-0.009328334097994636,0.16665395862426705,-1.3602141884570391,0.5738391028689689,0.6750183691447313,0.20520058828298732,0.6681745288709247,1.0059022683148486,0.3944244869874825,-0.752639833939874,-1.158770538550278,-0.24544679136561875,-1.3646155805597115,0.9551921454161609,2.2844343748544493,-0.7696634640778297,-0.621897690952007,-0.34550223084018666,-0.4884301152484405,0.21928554316860505,-0.6829311425330685,0.5566508785290419,0.7624837165894379,-0.5478342499850288,0.5801653285577393,-0.632425720880273,-0.8417813926515596,-1.6236927181568437,1.9493597870649115,0.7465752119643185,0.5372780985435524,-2.1710348618073723,-0.6593875365739125,-0.018473140773435842,-0.04245242423015054,-0.6300682302117817,-1.2168773540689084,0.9319362138761141,-2.6638540758230627,-1.9315507625560588,-0.16701688100938009,-0.2062492957875122,-0.8358111006979888,0.6863144588219658,1.3846234929089063,-0.4753417448026249,-0.08792035864135517,-0.8112352217389021,0.14187936679133517,1.1734093670706989,-0.1322224862763447,0.20517567407068496,-1.760978391548266,0.23801612095180943,-1.403049283002082,0.2743706916166362,-0.6236523305572523,0.2725927370556236,0.8448899074036795,0.4626130789181829,0.2668959697949256,0.12867707772407294,-0.0543150251890773,0.18299637276404898,1.7752764866442248,-1.2374048440464878,0.6320590806476215,-0.9369986892289005,0.1231636933708757,-0.4458508374014565,0.3011104070617941,0.29221209883127613,-1.9921867599816934,0.2143544019177814,-1.5246716720992082,0.631959493414628,-1.7234468191694932,0.7771196299925165,0.2242601120175588,-0.08539207089427393,-2.168210226949958,0.15597597461677742,0.27321431901873094,-0.23689895193153876,-0.7164606321195535,-1.0314167978024231],\"xaxis\":\"x8\",\"y\":[0.39299279759057504,0.9703165383850477,-0.3315341358806937,-1.5584031758162409,0.951523596033235,-0.5555846581699916,-1.515512553211831,1.9037823912410028,0.11998085811301533,-0.2799904644871162,0.9649601637582959,-0.2129880463045149,1.608269687420033,-0.9248636326249062,-0.14664756884169589,-0.047763160217688436,0.02140402329140558,0.13626631422295649,-1.2316106623850942,-1.4494740058324187,-0.9643096084728445,-1.8155834317145414,-1.4975399771222855,-2.008459460468831,-0.18844771209113004,-0.8452479670056402,0.2702435905254712,-0.08307773275515531,1.9925306352375145,-0.30011064157012196,-1.8416088365312053,1.4883897812928597,0.2857404107478787,-1.3694143183685137,0.34472215385367405,-0.7333872049097238,1.3796332788800656,-0.00901709225535108,0.5282371077244549,-1.5889248101211482,-0.9168030342948024,-0.8567400095928656,0.5420625354429279,0.3531656963293904,0.9516310013151971,1.4814305926548468,-0.0661783667737621,-0.5366522538953027,-1.0733680524544438,1.664261087255659,0.5546934645540875,-0.9498218183256268,1.6448795435345684,0.2356696285556059,-0.9223882563702976,-1.999143938093221,0.8469020285223882,0.6589074033059399,-0.5799192494117322,-0.7788733134093945,0.7577793943052767,-0.09707784030046557,-0.03455307170219075,-0.8811323416697463,-0.6267043083674482,-1.0269391048157697,-0.5321336972529832,0.8451182902588883,0.08662269451869511,0.31429709601059586,-0.1934184891753213,1.2840149281872961,0.555730360910625,0.45183765131006726,-0.49686842278032023,-0.32947519313932555,-1.19620746138553,-0.7038639841931628,-0.7898364183395687,0.7438412707540987,0.7414495707254729,1.3799733154504426,0.56648572675284,-2.50683210422878,0.9959654653416138,0.367421323759343,-0.46904746013665927,-1.1409670086342902,0.2598216833782342,-1.2902403671698264,0.49678766890658405,-0.48224628270977354,-0.16484644023413372,-1.0334851807235186,0.14970842234302917,0.7165586416171045,1.0511466528478781,2.06350190094373,0.32514957908412,0.2174187719077609],\"yaxis\":\"y8\",\"type\":\"scatter\"},{\"line\":{\"color\":\"rgba(128, 128, 128, 1.0)\",\"dash\":\"solid\",\"shape\":\"linear\",\"width\":1.3},\"marker\":{\"size\":2,\"symbol\":\"circle\"},\"mode\":\"markers\",\"name\":\"C\",\"text\":\"\",\"x\":[-0.6223127097787445,-0.07809162236041678,1.7790474819468551,-1.4247118375561625,-1.4105751154601864,0.2188883169681857,-1.149465863308755,-0.2177532325647362,-1.6726587412621337,1.2097065375742302,-0.7930267396765023,-0.05511018197538327,-0.09030662425254163,1.1619150166121996,0.3097205548007712,0.5129277863969072,0.6184961590026289,-1.4637685018706745,0.4485421585261526,1.767822731251506,-1.0091554353768661,-0.20187565762794943,0.10438402542485582,-1.0271492803595452,-0.549378606146546,-1.0818406350966738,-0.7289573371488666,1.1198836055237327,0.5864148695608872,-0.024355589607592033,0.6980656079470045,-0.8483633384572155,-1.5684647526087565,-1.3874098606278373,-0.6513298563396208,0.6752856776403766,1.9572075005188447,0.3067879974877034,0.08069647639021876,0.013777395371240508,1.1497250255527611,-0.584868011758543,-0.8747816362718722,0.16248255497583639,-0.6338491218052374,-0.18762133433093403,0.7183308864619843,0.03892557856366659,-0.05835543780960389,0.2729009332188614,0.18648405784653066,-0.002357963793111217,-1.6448419115769932,-1.8587399276049648,0.9002409872304978,-0.3246003945946711,-1.7144926347993703,0.7149852461038438,0.15022217521407277,-2.0742708012084057,-1.0082255935657103,0.5729601043333363,0.7210335937747494,0.1605572639077616,0.6811849909147913,-1.1821625386795713,1.3227312433894765,-0.8078552803418341,0.5935199442620323,-0.35774391456928006,0.7460167158855326,0.21037620123633732,-0.001577946660872818,0.3318969809409894,0.29022595465192125,0.6093830084655928,-0.5964490834227272,-1.0873790616847774,0.7385065124916351,-1.1683892869125476,-0.14716717691544046,-0.3190296801594655,-1.62228312074107,0.0940633033641303,-0.7413030015954901,2.5468536611139574,-0.8553192878274413,-0.6214605444473837,-0.37590549650516025,-0.6887968127659998,-0.6023601264871187,0.5480051859117191,1.5398950046172197,1.171647048456549,-0.26945117641978844,1.3553267212960771,-1.8733178535294914,-0.8916742861646291,-0.10395184783622588,0.015416002948039327],\"xaxis\":\"x9\",\"y\":[-0.1394922412256659,0.38734155585847974,-0.9260957315446555,1.7598055851729693,2.210787136403946,-0.3022733556354362,-0.3321972707800144,-0.1552642924054388,-0.2870423301786768,0.6442732570082397,0.11014394961086883,-0.4278396030263597,0.43364625245808236,1.4508588360666845,-0.5423396917786653,0.4766730628614621,-1.0930741231694232,-1.2251625013267404,1.2278357534838633,-0.6586740241489065,2.0719087709201016,0.41495965936344326,0.7561162864867124,0.04064409247531572,0.18851771376240875,0.6321301873304279,-0.44742800509363195,-0.48617943220762816,1.4537403915676392,0.19349128592075931,1.0296497319579134,-0.9693172781930631,2.550997324758455,-0.9235141105083481,-0.2556884233919607,-0.6649752111022003,-0.5468451556298982,-2.7844579414935353,-0.3971986657038678,-1.2694849579678578,0.8050226821235916,0.183959600770004,0.19582171030744405,-0.04239771612971373,-1.1844633897934997,1.1586783863964807,1.7492385698415471,1.0158785881673311,-1.237607244103128,0.843448452886732,-1.5637969246951338,0.025004871592748112,-0.8471180601748635,0.6629186648730425,-1.1648273994392528,-0.2378197288212158,1.1587423625965083,0.06258506694463219,0.36201188717091604,0.8742136902258705,0.6755642100990448,1.0635356940506575,1.7509628418864445,-2.1122627787085353,0.4482910496415664,-0.7679156676626054,-0.32932409452845224,-0.8920180348539344,1.2108231224002985,0.728060788136938,1.3965365372564333,0.8408845871772697,1.34008003144846,3.1650637473110064,-0.47730283407630475,0.4445011172798934,0.7474000002979312,0.553429497434904,0.20155853477728425,0.9814895054945997,-0.7619892824985112,-0.23241769812505747,1.8545481854514945,-0.3933567137433616,-0.015279273912303869,0.9700559196306061,-0.7020615572239038,1.8908441811029264,0.2811541369905382,-0.9076193687338854,-1.4369113370368245,1.0735601139879156,0.2777949972840057,-0.6003160649082503,0.616082822519307,0.25233133157908066,0.46033039566920175,0.9550636859373486,0.5617910910295629,-1.1333573423474372],\"yaxis\":\"y9\",\"type\":\"scatter\"},{\"line\":{\"color\":\"rgba(128, 128, 128, 1.0)\",\"dash\":\"solid\",\"shape\":\"linear\",\"width\":1.3},\"marker\":{\"size\":2,\"symbol\":\"circle\"},\"mode\":\"markers\",\"name\":\"C\",\"text\":\"\",\"x\":[0.39299279759057504,0.9703165383850477,-0.3315341358806937,-1.5584031758162409,0.951523596033235,-0.5555846581699916,-1.515512553211831,1.9037823912410028,0.11998085811301533,-0.2799904644871162,0.9649601637582959,-0.2129880463045149,1.608269687420033,-0.9248636326249062,-0.14664756884169589,-0.047763160217688436,0.02140402329140558,0.13626631422295649,-1.2316106623850942,-1.4494740058324187,-0.9643096084728445,-1.8155834317145414,-1.4975399771222855,-2.008459460468831,-0.18844771209113004,-0.8452479670056402,0.2702435905254712,-0.08307773275515531,1.9925306352375145,-0.30011064157012196,-1.8416088365312053,1.4883897812928597,0.2857404107478787,-1.3694143183685137,0.34472215385367405,-0.7333872049097238,1.3796332788800656,-0.00901709225535108,0.5282371077244549,-1.5889248101211482,-0.9168030342948024,-0.8567400095928656,0.5420625354429279,0.3531656963293904,0.9516310013151971,1.4814305926548468,-0.0661783667737621,-0.5366522538953027,-1.0733680524544438,1.664261087255659,0.5546934645540875,-0.9498218183256268,1.6448795435345684,0.2356696285556059,-0.9223882563702976,-1.999143938093221,0.8469020285223882,0.6589074033059399,-0.5799192494117322,-0.7788733134093945,0.7577793943052767,-0.09707784030046557,-0.03455307170219075,-0.8811323416697463,-0.6267043083674482,-1.0269391048157697,-0.5321336972529832,0.8451182902588883,0.08662269451869511,0.31429709601059586,-0.1934184891753213,1.2840149281872961,0.555730360910625,0.45183765131006726,-0.49686842278032023,-0.32947519313932555,-1.19620746138553,-0.7038639841931628,-0.7898364183395687,0.7438412707540987,0.7414495707254729,1.3799733154504426,0.56648572675284,-2.50683210422878,0.9959654653416138,0.367421323759343,-0.46904746013665927,-1.1409670086342902,0.2598216833782342,-1.2902403671698264,0.49678766890658405,-0.48224628270977354,-0.16484644023413372,-1.0334851807235186,0.14970842234302917,0.7165586416171045,1.0511466528478781,2.06350190094373,0.32514957908412,0.2174187719077609],\"xaxis\":\"x10\",\"y\":[-0.1394922412256659,0.38734155585847974,-0.9260957315446555,1.7598055851729693,2.210787136403946,-0.3022733556354362,-0.3321972707800144,-0.1552642924054388,-0.2870423301786768,0.6442732570082397,0.11014394961086883,-0.4278396030263597,0.43364625245808236,1.4508588360666845,-0.5423396917786653,0.4766730628614621,-1.0930741231694232,-1.2251625013267404,1.2278357534838633,-0.6586740241489065,2.0719087709201016,0.41495965936344326,0.7561162864867124,0.04064409247531572,0.18851771376240875,0.6321301873304279,-0.44742800509363195,-0.48617943220762816,1.4537403915676392,0.19349128592075931,1.0296497319579134,-0.9693172781930631,2.550997324758455,-0.9235141105083481,-0.2556884233919607,-0.6649752111022003,-0.5468451556298982,-2.7844579414935353,-0.3971986657038678,-1.2694849579678578,0.8050226821235916,0.183959600770004,0.19582171030744405,-0.04239771612971373,-1.1844633897934997,1.1586783863964807,1.7492385698415471,1.0158785881673311,-1.237607244103128,0.843448452886732,-1.5637969246951338,0.025004871592748112,-0.8471180601748635,0.6629186648730425,-1.1648273994392528,-0.2378197288212158,1.1587423625965083,0.06258506694463219,0.36201188717091604,0.8742136902258705,0.6755642100990448,1.0635356940506575,1.7509628418864445,-2.1122627787085353,0.4482910496415664,-0.7679156676626054,-0.32932409452845224,-0.8920180348539344,1.2108231224002985,0.728060788136938,1.3965365372564333,0.8408845871772697,1.34008003144846,3.1650637473110064,-0.47730283407630475,0.4445011172798934,0.7474000002979312,0.553429497434904,0.20155853477728425,0.9814895054945997,-0.7619892824985112,-0.23241769812505747,1.8545481854514945,-0.3933567137433616,-0.015279273912303869,0.9700559196306061,-0.7020615572239038,1.8908441811029264,0.2811541369905382,-0.9076193687338854,-1.4369113370368245,1.0735601139879156,0.2777949972840057,-0.6003160649082503,0.616082822519307,0.25233133157908066,0.46033039566920175,0.9550636859373486,0.5617910910295629,-1.1333573423474372],\"yaxis\":\"y10\",\"type\":\"scatter\"},{\"histfunc\":\"count\",\"histnorm\":\"\",\"marker\":{\"color\":\"rgba(50, 171, 96, 1.0)\",\"line\":{\"color\":\"#4D5663\",\"width\":1.3}},\"name\":\"C\",\"nbinsx\":10,\"opacity\":0.8,\"orientation\":\"v\",\"x\":[-0.1394922412256659,0.38734155585847974,-0.9260957315446555,1.7598055851729693,2.210787136403946,-0.3022733556354362,-0.3321972707800144,-0.1552642924054388,-0.2870423301786768,0.6442732570082397,0.11014394961086883,-0.4278396030263597,0.43364625245808236,1.4508588360666845,-0.5423396917786653,0.4766730628614621,-1.0930741231694232,-1.2251625013267404,1.2278357534838633,-0.6586740241489065,2.0719087709201016,0.41495965936344326,0.7561162864867124,0.04064409247531572,0.18851771376240875,0.6321301873304279,-0.44742800509363195,-0.48617943220762816,1.4537403915676392,0.19349128592075931,1.0296497319579134,-0.9693172781930631,2.550997324758455,-0.9235141105083481,-0.2556884233919607,-0.6649752111022003,-0.5468451556298982,-2.7844579414935353,-0.3971986657038678,-1.2694849579678578,0.8050226821235916,0.183959600770004,0.19582171030744405,-0.04239771612971373,-1.1844633897934997,1.1586783863964807,1.7492385698415471,1.0158785881673311,-1.237607244103128,0.843448452886732,-1.5637969246951338,0.025004871592748112,-0.8471180601748635,0.6629186648730425,-1.1648273994392528,-0.2378197288212158,1.1587423625965083,0.06258506694463219,0.36201188717091604,0.8742136902258705,0.6755642100990448,1.0635356940506575,1.7509628418864445,-2.1122627787085353,0.4482910496415664,-0.7679156676626054,-0.32932409452845224,-0.8920180348539344,1.2108231224002985,0.728060788136938,1.3965365372564333,0.8408845871772697,1.34008003144846,3.1650637473110064,-0.47730283407630475,0.4445011172798934,0.7474000002979312,0.553429497434904,0.20155853477728425,0.9814895054945997,-0.7619892824985112,-0.23241769812505747,1.8545481854514945,-0.3933567137433616,-0.015279273912303869,0.9700559196306061,-0.7020615572239038,1.8908441811029264,0.2811541369905382,-0.9076193687338854,-1.4369113370368245,1.0735601139879156,0.2777949972840057,-0.6003160649082503,0.616082822519307,0.25233133157908066,0.46033039566920175,0.9550636859373486,0.5617910910295629,-1.1333573423474372],\"xaxis\":\"x11\",\"yaxis\":\"y11\",\"type\":\"histogram\"},{\"line\":{\"color\":\"rgba(128, 128, 128, 1.0)\",\"dash\":\"solid\",\"shape\":\"linear\",\"width\":1.3},\"marker\":{\"size\":2,\"symbol\":\"circle\"},\"mode\":\"markers\",\"name\":\"C\",\"text\":\"\",\"x\":[0.010313421967021626,0.9774787952723087,1.1832753189872105,-0.683841096896405,-0.6200486822091427,-1.3824334314231927,2.4453494443121597,-3.2119560314205766,-1.0113513717441274,-0.6910889000887538,-0.0007939603834835492,0.8034006202562674,0.6451956621787378,-0.5374908243435591,-0.009328334097994636,0.16665395862426705,-1.3602141884570391,0.5738391028689689,0.6750183691447313,0.20520058828298732,0.6681745288709247,1.0059022683148486,0.3944244869874825,-0.752639833939874,-1.158770538550278,-0.24544679136561875,-1.3646155805597115,0.9551921454161609,2.2844343748544493,-0.7696634640778297,-0.621897690952007,-0.34550223084018666,-0.4884301152484405,0.21928554316860505,-0.6829311425330685,0.5566508785290419,0.7624837165894379,-0.5478342499850288,0.5801653285577393,-0.632425720880273,-0.8417813926515596,-1.6236927181568437,1.9493597870649115,0.7465752119643185,0.5372780985435524,-2.1710348618073723,-0.6593875365739125,-0.018473140773435842,-0.04245242423015054,-0.6300682302117817,-1.2168773540689084,0.9319362138761141,-2.6638540758230627,-1.9315507625560588,-0.16701688100938009,-0.2062492957875122,-0.8358111006979888,0.6863144588219658,1.3846234929089063,-0.4753417448026249,-0.08792035864135517,-0.8112352217389021,0.14187936679133517,1.1734093670706989,-0.1322224862763447,0.20517567407068496,-1.760978391548266,0.23801612095180943,-1.403049283002082,0.2743706916166362,-0.6236523305572523,0.2725927370556236,0.8448899074036795,0.4626130789181829,0.2668959697949256,0.12867707772407294,-0.0543150251890773,0.18299637276404898,1.7752764866442248,-1.2374048440464878,0.6320590806476215,-0.9369986892289005,0.1231636933708757,-0.4458508374014565,0.3011104070617941,0.29221209883127613,-1.9921867599816934,0.2143544019177814,-1.5246716720992082,0.631959493414628,-1.7234468191694932,0.7771196299925165,0.2242601120175588,-0.08539207089427393,-2.168210226949958,0.15597597461677742,0.27321431901873094,-0.23689895193153876,-0.7164606321195535,-1.0314167978024231],\"xaxis\":\"x12\",\"y\":[-0.1394922412256659,0.38734155585847974,-0.9260957315446555,1.7598055851729693,2.210787136403946,-0.3022733556354362,-0.3321972707800144,-0.1552642924054388,-0.2870423301786768,0.6442732570082397,0.11014394961086883,-0.4278396030263597,0.43364625245808236,1.4508588360666845,-0.5423396917786653,0.4766730628614621,-1.0930741231694232,-1.2251625013267404,1.2278357534838633,-0.6586740241489065,2.0719087709201016,0.41495965936344326,0.7561162864867124,0.04064409247531572,0.18851771376240875,0.6321301873304279,-0.44742800509363195,-0.48617943220762816,1.4537403915676392,0.19349128592075931,1.0296497319579134,-0.9693172781930631,2.550997324758455,-0.9235141105083481,-0.2556884233919607,-0.6649752111022003,-0.5468451556298982,-2.7844579414935353,-0.3971986657038678,-1.2694849579678578,0.8050226821235916,0.183959600770004,0.19582171030744405,-0.04239771612971373,-1.1844633897934997,1.1586783863964807,1.7492385698415471,1.0158785881673311,-1.237607244103128,0.843448452886732,-1.5637969246951338,0.025004871592748112,-0.8471180601748635,0.6629186648730425,-1.1648273994392528,-0.2378197288212158,1.1587423625965083,0.06258506694463219,0.36201188717091604,0.8742136902258705,0.6755642100990448,1.0635356940506575,1.7509628418864445,-2.1122627787085353,0.4482910496415664,-0.7679156676626054,-0.32932409452845224,-0.8920180348539344,1.2108231224002985,0.728060788136938,1.3965365372564333,0.8408845871772697,1.34008003144846,3.1650637473110064,-0.47730283407630475,0.4445011172798934,0.7474000002979312,0.553429497434904,0.20155853477728425,0.9814895054945997,-0.7619892824985112,-0.23241769812505747,1.8545481854514945,-0.3933567137433616,-0.015279273912303869,0.9700559196306061,-0.7020615572239038,1.8908441811029264,0.2811541369905382,-0.9076193687338854,-1.4369113370368245,1.0735601139879156,0.2777949972840057,-0.6003160649082503,0.616082822519307,0.25233133157908066,0.46033039566920175,0.9550636859373486,0.5617910910295629,-1.1333573423474372],\"yaxis\":\"y12\",\"type\":\"scatter\"},{\"line\":{\"color\":\"rgba(128, 128, 128, 1.0)\",\"dash\":\"solid\",\"shape\":\"linear\",\"width\":1.3},\"marker\":{\"size\":2,\"symbol\":\"circle\"},\"mode\":\"markers\",\"name\":\"D\",\"text\":\"\",\"x\":[-0.6223127097787445,-0.07809162236041678,1.7790474819468551,-1.4247118375561625,-1.4105751154601864,0.2188883169681857,-1.149465863308755,-0.2177532325647362,-1.6726587412621337,1.2097065375742302,-0.7930267396765023,-0.05511018197538327,-0.09030662425254163,1.1619150166121996,0.3097205548007712,0.5129277863969072,0.6184961590026289,-1.4637685018706745,0.4485421585261526,1.767822731251506,-1.0091554353768661,-0.20187565762794943,0.10438402542485582,-1.0271492803595452,-0.549378606146546,-1.0818406350966738,-0.7289573371488666,1.1198836055237327,0.5864148695608872,-0.024355589607592033,0.6980656079470045,-0.8483633384572155,-1.5684647526087565,-1.3874098606278373,-0.6513298563396208,0.6752856776403766,1.9572075005188447,0.3067879974877034,0.08069647639021876,0.013777395371240508,1.1497250255527611,-0.584868011758543,-0.8747816362718722,0.16248255497583639,-0.6338491218052374,-0.18762133433093403,0.7183308864619843,0.03892557856366659,-0.05835543780960389,0.2729009332188614,0.18648405784653066,-0.002357963793111217,-1.6448419115769932,-1.8587399276049648,0.9002409872304978,-0.3246003945946711,-1.7144926347993703,0.7149852461038438,0.15022217521407277,-2.0742708012084057,-1.0082255935657103,0.5729601043333363,0.7210335937747494,0.1605572639077616,0.6811849909147913,-1.1821625386795713,1.3227312433894765,-0.8078552803418341,0.5935199442620323,-0.35774391456928006,0.7460167158855326,0.21037620123633732,-0.001577946660872818,0.3318969809409894,0.29022595465192125,0.6093830084655928,-0.5964490834227272,-1.0873790616847774,0.7385065124916351,-1.1683892869125476,-0.14716717691544046,-0.3190296801594655,-1.62228312074107,0.0940633033641303,-0.7413030015954901,2.5468536611139574,-0.8553192878274413,-0.6214605444473837,-0.37590549650516025,-0.6887968127659998,-0.6023601264871187,0.5480051859117191,1.5398950046172197,1.171647048456549,-0.26945117641978844,1.3553267212960771,-1.8733178535294914,-0.8916742861646291,-0.10395184783622588,0.015416002948039327],\"xaxis\":\"x13\",\"y\":[0.010313421967021626,0.9774787952723087,1.1832753189872105,-0.683841096896405,-0.6200486822091427,-1.3824334314231927,2.4453494443121597,-3.2119560314205766,-1.0113513717441274,-0.6910889000887538,-0.0007939603834835492,0.8034006202562674,0.6451956621787378,-0.5374908243435591,-0.009328334097994636,0.16665395862426705,-1.3602141884570391,0.5738391028689689,0.6750183691447313,0.20520058828298732,0.6681745288709247,1.0059022683148486,0.3944244869874825,-0.752639833939874,-1.158770538550278,-0.24544679136561875,-1.3646155805597115,0.9551921454161609,2.2844343748544493,-0.7696634640778297,-0.621897690952007,-0.34550223084018666,-0.4884301152484405,0.21928554316860505,-0.6829311425330685,0.5566508785290419,0.7624837165894379,-0.5478342499850288,0.5801653285577393,-0.632425720880273,-0.8417813926515596,-1.6236927181568437,1.9493597870649115,0.7465752119643185,0.5372780985435524,-2.1710348618073723,-0.6593875365739125,-0.018473140773435842,-0.04245242423015054,-0.6300682302117817,-1.2168773540689084,0.9319362138761141,-2.6638540758230627,-1.9315507625560588,-0.16701688100938009,-0.2062492957875122,-0.8358111006979888,0.6863144588219658,1.3846234929089063,-0.4753417448026249,-0.08792035864135517,-0.8112352217389021,0.14187936679133517,1.1734093670706989,-0.1322224862763447,0.20517567407068496,-1.760978391548266,0.23801612095180943,-1.403049283002082,0.2743706916166362,-0.6236523305572523,0.2725927370556236,0.8448899074036795,0.4626130789181829,0.2668959697949256,0.12867707772407294,-0.0543150251890773,0.18299637276404898,1.7752764866442248,-1.2374048440464878,0.6320590806476215,-0.9369986892289005,0.1231636933708757,-0.4458508374014565,0.3011104070617941,0.29221209883127613,-1.9921867599816934,0.2143544019177814,-1.5246716720992082,0.631959493414628,-1.7234468191694932,0.7771196299925165,0.2242601120175588,-0.08539207089427393,-2.168210226949958,0.15597597461677742,0.27321431901873094,-0.23689895193153876,-0.7164606321195535,-1.0314167978024231],\"yaxis\":\"y13\",\"type\":\"scatter\"},{\"line\":{\"color\":\"rgba(128, 128, 128, 1.0)\",\"dash\":\"solid\",\"shape\":\"linear\",\"width\":1.3},\"marker\":{\"size\":2,\"symbol\":\"circle\"},\"mode\":\"markers\",\"name\":\"D\",\"text\":\"\",\"x\":[0.39299279759057504,0.9703165383850477,-0.3315341358806937,-1.5584031758162409,0.951523596033235,-0.5555846581699916,-1.515512553211831,1.9037823912410028,0.11998085811301533,-0.2799904644871162,0.9649601637582959,-0.2129880463045149,1.608269687420033,-0.9248636326249062,-0.14664756884169589,-0.047763160217688436,0.02140402329140558,0.13626631422295649,-1.2316106623850942,-1.4494740058324187,-0.9643096084728445,-1.8155834317145414,-1.4975399771222855,-2.008459460468831,-0.18844771209113004,-0.8452479670056402,0.2702435905254712,-0.08307773275515531,1.9925306352375145,-0.30011064157012196,-1.8416088365312053,1.4883897812928597,0.2857404107478787,-1.3694143183685137,0.34472215385367405,-0.7333872049097238,1.3796332788800656,-0.00901709225535108,0.5282371077244549,-1.5889248101211482,-0.9168030342948024,-0.8567400095928656,0.5420625354429279,0.3531656963293904,0.9516310013151971,1.4814305926548468,-0.0661783667737621,-0.5366522538953027,-1.0733680524544438,1.664261087255659,0.5546934645540875,-0.9498218183256268,1.6448795435345684,0.2356696285556059,-0.9223882563702976,-1.999143938093221,0.8469020285223882,0.6589074033059399,-0.5799192494117322,-0.7788733134093945,0.7577793943052767,-0.09707784030046557,-0.03455307170219075,-0.8811323416697463,-0.6267043083674482,-1.0269391048157697,-0.5321336972529832,0.8451182902588883,0.08662269451869511,0.31429709601059586,-0.1934184891753213,1.2840149281872961,0.555730360910625,0.45183765131006726,-0.49686842278032023,-0.32947519313932555,-1.19620746138553,-0.7038639841931628,-0.7898364183395687,0.7438412707540987,0.7414495707254729,1.3799733154504426,0.56648572675284,-2.50683210422878,0.9959654653416138,0.367421323759343,-0.46904746013665927,-1.1409670086342902,0.2598216833782342,-1.2902403671698264,0.49678766890658405,-0.48224628270977354,-0.16484644023413372,-1.0334851807235186,0.14970842234302917,0.7165586416171045,1.0511466528478781,2.06350190094373,0.32514957908412,0.2174187719077609],\"xaxis\":\"x14\",\"y\":[0.010313421967021626,0.9774787952723087,1.1832753189872105,-0.683841096896405,-0.6200486822091427,-1.3824334314231927,2.4453494443121597,-3.2119560314205766,-1.0113513717441274,-0.6910889000887538,-0.0007939603834835492,0.8034006202562674,0.6451956621787378,-0.5374908243435591,-0.009328334097994636,0.16665395862426705,-1.3602141884570391,0.5738391028689689,0.6750183691447313,0.20520058828298732,0.6681745288709247,1.0059022683148486,0.3944244869874825,-0.752639833939874,-1.158770538550278,-0.24544679136561875,-1.3646155805597115,0.9551921454161609,2.2844343748544493,-0.7696634640778297,-0.621897690952007,-0.34550223084018666,-0.4884301152484405,0.21928554316860505,-0.6829311425330685,0.5566508785290419,0.7624837165894379,-0.5478342499850288,0.5801653285577393,-0.632425720880273,-0.8417813926515596,-1.6236927181568437,1.9493597870649115,0.7465752119643185,0.5372780985435524,-2.1710348618073723,-0.6593875365739125,-0.018473140773435842,-0.04245242423015054,-0.6300682302117817,-1.2168773540689084,0.9319362138761141,-2.6638540758230627,-1.9315507625560588,-0.16701688100938009,-0.2062492957875122,-0.8358111006979888,0.6863144588219658,1.3846234929089063,-0.4753417448026249,-0.08792035864135517,-0.8112352217389021,0.14187936679133517,1.1734093670706989,-0.1322224862763447,0.20517567407068496,-1.760978391548266,0.23801612095180943,-1.403049283002082,0.2743706916166362,-0.6236523305572523,0.2725927370556236,0.8448899074036795,0.4626130789181829,0.2668959697949256,0.12867707772407294,-0.0543150251890773,0.18299637276404898,1.7752764866442248,-1.2374048440464878,0.6320590806476215,-0.9369986892289005,0.1231636933708757,-0.4458508374014565,0.3011104070617941,0.29221209883127613,-1.9921867599816934,0.2143544019177814,-1.5246716720992082,0.631959493414628,-1.7234468191694932,0.7771196299925165,0.2242601120175588,-0.08539207089427393,-2.168210226949958,0.15597597461677742,0.27321431901873094,-0.23689895193153876,-0.7164606321195535,-1.0314167978024231],\"yaxis\":\"y14\",\"type\":\"scatter\"},{\"line\":{\"color\":\"rgba(128, 128, 128, 1.0)\",\"dash\":\"solid\",\"shape\":\"linear\",\"width\":1.3},\"marker\":{\"size\":2,\"symbol\":\"circle\"},\"mode\":\"markers\",\"name\":\"D\",\"text\":\"\",\"x\":[-0.1394922412256659,0.38734155585847974,-0.9260957315446555,1.7598055851729693,2.210787136403946,-0.3022733556354362,-0.3321972707800144,-0.1552642924054388,-0.2870423301786768,0.6442732570082397,0.11014394961086883,-0.4278396030263597,0.43364625245808236,1.4508588360666845,-0.5423396917786653,0.4766730628614621,-1.0930741231694232,-1.2251625013267404,1.2278357534838633,-0.6586740241489065,2.0719087709201016,0.41495965936344326,0.7561162864867124,0.04064409247531572,0.18851771376240875,0.6321301873304279,-0.44742800509363195,-0.48617943220762816,1.4537403915676392,0.19349128592075931,1.0296497319579134,-0.9693172781930631,2.550997324758455,-0.9235141105083481,-0.2556884233919607,-0.6649752111022003,-0.5468451556298982,-2.7844579414935353,-0.3971986657038678,-1.2694849579678578,0.8050226821235916,0.183959600770004,0.19582171030744405,-0.04239771612971373,-1.1844633897934997,1.1586783863964807,1.7492385698415471,1.0158785881673311,-1.237607244103128,0.843448452886732,-1.5637969246951338,0.025004871592748112,-0.8471180601748635,0.6629186648730425,-1.1648273994392528,-0.2378197288212158,1.1587423625965083,0.06258506694463219,0.36201188717091604,0.8742136902258705,0.6755642100990448,1.0635356940506575,1.7509628418864445,-2.1122627787085353,0.4482910496415664,-0.7679156676626054,-0.32932409452845224,-0.8920180348539344,1.2108231224002985,0.728060788136938,1.3965365372564333,0.8408845871772697,1.34008003144846,3.1650637473110064,-0.47730283407630475,0.4445011172798934,0.7474000002979312,0.553429497434904,0.20155853477728425,0.9814895054945997,-0.7619892824985112,-0.23241769812505747,1.8545481854514945,-0.3933567137433616,-0.015279273912303869,0.9700559196306061,-0.7020615572239038,1.8908441811029264,0.2811541369905382,-0.9076193687338854,-1.4369113370368245,1.0735601139879156,0.2777949972840057,-0.6003160649082503,0.616082822519307,0.25233133157908066,0.46033039566920175,0.9550636859373486,0.5617910910295629,-1.1333573423474372],\"xaxis\":\"x15\",\"y\":[0.010313421967021626,0.9774787952723087,1.1832753189872105,-0.683841096896405,-0.6200486822091427,-1.3824334314231927,2.4453494443121597,-3.2119560314205766,-1.0113513717441274,-0.6910889000887538,-0.0007939603834835492,0.8034006202562674,0.6451956621787378,-0.5374908243435591,-0.009328334097994636,0.16665395862426705,-1.3602141884570391,0.5738391028689689,0.6750183691447313,0.20520058828298732,0.6681745288709247,1.0059022683148486,0.3944244869874825,-0.752639833939874,-1.158770538550278,-0.24544679136561875,-1.3646155805597115,0.9551921454161609,2.2844343748544493,-0.7696634640778297,-0.621897690952007,-0.34550223084018666,-0.4884301152484405,0.21928554316860505,-0.6829311425330685,0.5566508785290419,0.7624837165894379,-0.5478342499850288,0.5801653285577393,-0.632425720880273,-0.8417813926515596,-1.6236927181568437,1.9493597870649115,0.7465752119643185,0.5372780985435524,-2.1710348618073723,-0.6593875365739125,-0.018473140773435842,-0.04245242423015054,-0.6300682302117817,-1.2168773540689084,0.9319362138761141,-2.6638540758230627,-1.9315507625560588,-0.16701688100938009,-0.2062492957875122,-0.8358111006979888,0.6863144588219658,1.3846234929089063,-0.4753417448026249,-0.08792035864135517,-0.8112352217389021,0.14187936679133517,1.1734093670706989,-0.1322224862763447,0.20517567407068496,-1.760978391548266,0.23801612095180943,-1.403049283002082,0.2743706916166362,-0.6236523305572523,0.2725927370556236,0.8448899074036795,0.4626130789181829,0.2668959697949256,0.12867707772407294,-0.0543150251890773,0.18299637276404898,1.7752764866442248,-1.2374048440464878,0.6320590806476215,-0.9369986892289005,0.1231636933708757,-0.4458508374014565,0.3011104070617941,0.29221209883127613,-1.9921867599816934,0.2143544019177814,-1.5246716720992082,0.631959493414628,-1.7234468191694932,0.7771196299925165,0.2242601120175588,-0.08539207089427393,-2.168210226949958,0.15597597461677742,0.27321431901873094,-0.23689895193153876,-0.7164606321195535,-1.0314167978024231],\"yaxis\":\"y15\",\"type\":\"scatter\"},{\"histfunc\":\"count\",\"histnorm\":\"\",\"marker\":{\"color\":\"rgba(128, 0, 128, 1.0)\",\"line\":{\"color\":\"#4D5663\",\"width\":1.3}},\"name\":\"D\",\"nbinsx\":10,\"opacity\":0.8,\"orientation\":\"v\",\"x\":[0.010313421967021626,0.9774787952723087,1.1832753189872105,-0.683841096896405,-0.6200486822091427,-1.3824334314231927,2.4453494443121597,-3.2119560314205766,-1.0113513717441274,-0.6910889000887538,-0.0007939603834835492,0.8034006202562674,0.6451956621787378,-0.5374908243435591,-0.009328334097994636,0.16665395862426705,-1.3602141884570391,0.5738391028689689,0.6750183691447313,0.20520058828298732,0.6681745288709247,1.0059022683148486,0.3944244869874825,-0.752639833939874,-1.158770538550278,-0.24544679136561875,-1.3646155805597115,0.9551921454161609,2.2844343748544493,-0.7696634640778297,-0.621897690952007,-0.34550223084018666,-0.4884301152484405,0.21928554316860505,-0.6829311425330685,0.5566508785290419,0.7624837165894379,-0.5478342499850288,0.5801653285577393,-0.632425720880273,-0.8417813926515596,-1.6236927181568437,1.9493597870649115,0.7465752119643185,0.5372780985435524,-2.1710348618073723,-0.6593875365739125,-0.018473140773435842,-0.04245242423015054,-0.6300682302117817,-1.2168773540689084,0.9319362138761141,-2.6638540758230627,-1.9315507625560588,-0.16701688100938009,-0.2062492957875122,-0.8358111006979888,0.6863144588219658,1.3846234929089063,-0.4753417448026249,-0.08792035864135517,-0.8112352217389021,0.14187936679133517,1.1734093670706989,-0.1322224862763447,0.20517567407068496,-1.760978391548266,0.23801612095180943,-1.403049283002082,0.2743706916166362,-0.6236523305572523,0.2725927370556236,0.8448899074036795,0.4626130789181829,0.2668959697949256,0.12867707772407294,-0.0543150251890773,0.18299637276404898,1.7752764866442248,-1.2374048440464878,0.6320590806476215,-0.9369986892289005,0.1231636933708757,-0.4458508374014565,0.3011104070617941,0.29221209883127613,-1.9921867599816934,0.2143544019177814,-1.5246716720992082,0.631959493414628,-1.7234468191694932,0.7771196299925165,0.2242601120175588,-0.08539207089427393,-2.168210226949958,0.15597597461677742,0.27321431901873094,-0.23689895193153876,-0.7164606321195535,-1.0314167978024231],\"xaxis\":\"x16\",\"yaxis\":\"y16\",\"type\":\"histogram\"}],                        {\"bargap\":0.02,\"legend\":{\"bgcolor\":\"#F5F6F9\",\"font\":{\"color\":\"#4D5663\"}},\"paper_bgcolor\":\"#F5F6F9\",\"plot_bgcolor\":\"#F5F6F9\",\"showlegend\":false,\"template\":{\"data\":{\"barpolar\":[{\"marker\":{\"line\":{\"color\":\"#E5ECF6\",\"width\":0.5},\"pattern\":{\"fillmode\":\"overlay\",\"size\":10,\"solidity\":0.2}},\"type\":\"barpolar\"}],\"bar\":[{\"error_x\":{\"color\":\"#2a3f5f\"},\"error_y\":{\"color\":\"#2a3f5f\"},\"marker\":{\"line\":{\"color\":\"#E5ECF6\",\"width\":0.5},\"pattern\":{\"fillmode\":\"overlay\",\"size\":10,\"solidity\":0.2}},\"type\":\"bar\"}],\"carpet\":[{\"aaxis\":{\"endlinecolor\":\"#2a3f5f\",\"gridcolor\":\"white\",\"linecolor\":\"white\",\"minorgridcolor\":\"white\",\"startlinecolor\":\"#2a3f5f\"},\"baxis\":{\"endlinecolor\":\"#2a3f5f\",\"gridcolor\":\"white\",\"linecolor\":\"white\",\"minorgridcolor\":\"white\",\"startlinecolor\":\"#2a3f5f\"},\"type\":\"carpet\"}],\"choropleth\":[{\"colorbar\":{\"outlinewidth\":0,\"ticks\":\"\"},\"type\":\"choropleth\"}],\"contourcarpet\":[{\"colorbar\":{\"outlinewidth\":0,\"ticks\":\"\"},\"type\":\"contourcarpet\"}],\"contour\":[{\"colorbar\":{\"outlinewidth\":0,\"ticks\":\"\"},\"colorscale\":[[0.0,\"#0d0887\"],[0.1111111111111111,\"#46039f\"],[0.2222222222222222,\"#7201a8\"],[0.3333333333333333,\"#9c179e\"],[0.4444444444444444,\"#bd3786\"],[0.5555555555555556,\"#d8576b\"],[0.6666666666666666,\"#ed7953\"],[0.7777777777777778,\"#fb9f3a\"],[0.8888888888888888,\"#fdca26\"],[1.0,\"#f0f921\"]],\"type\":\"contour\"}],\"heatmapgl\":[{\"colorbar\":{\"outlinewidth\":0,\"ticks\":\"\"},\"colorscale\":[[0.0,\"#0d0887\"],[0.1111111111111111,\"#46039f\"],[0.2222222222222222,\"#7201a8\"],[0.3333333333333333,\"#9c179e\"],[0.4444444444444444,\"#bd3786\"],[0.5555555555555556,\"#d8576b\"],[0.6666666666666666,\"#ed7953\"],[0.7777777777777778,\"#fb9f3a\"],[0.8888888888888888,\"#fdca26\"],[1.0,\"#f0f921\"]],\"type\":\"heatmapgl\"}],\"heatmap\":[{\"colorbar\":{\"outlinewidth\":0,\"ticks\":\"\"},\"colorscale\":[[0.0,\"#0d0887\"],[0.1111111111111111,\"#46039f\"],[0.2222222222222222,\"#7201a8\"],[0.3333333333333333,\"#9c179e\"],[0.4444444444444444,\"#bd3786\"],[0.5555555555555556,\"#d8576b\"],[0.6666666666666666,\"#ed7953\"],[0.7777777777777778,\"#fb9f3a\"],[0.8888888888888888,\"#fdca26\"],[1.0,\"#f0f921\"]],\"type\":\"heatmap\"}],\"histogram2dcontour\":[{\"colorbar\":{\"outlinewidth\":0,\"ticks\":\"\"},\"colorscale\":[[0.0,\"#0d0887\"],[0.1111111111111111,\"#46039f\"],[0.2222222222222222,\"#7201a8\"],[0.3333333333333333,\"#9c179e\"],[0.4444444444444444,\"#bd3786\"],[0.5555555555555556,\"#d8576b\"],[0.6666666666666666,\"#ed7953\"],[0.7777777777777778,\"#fb9f3a\"],[0.8888888888888888,\"#fdca26\"],[1.0,\"#f0f921\"]],\"type\":\"histogram2dcontour\"}],\"histogram2d\":[{\"colorbar\":{\"outlinewidth\":0,\"ticks\":\"\"},\"colorscale\":[[0.0,\"#0d0887\"],[0.1111111111111111,\"#46039f\"],[0.2222222222222222,\"#7201a8\"],[0.3333333333333333,\"#9c179e\"],[0.4444444444444444,\"#bd3786\"],[0.5555555555555556,\"#d8576b\"],[0.6666666666666666,\"#ed7953\"],[0.7777777777777778,\"#fb9f3a\"],[0.8888888888888888,\"#fdca26\"],[1.0,\"#f0f921\"]],\"type\":\"histogram2d\"}],\"histogram\":[{\"marker\":{\"pattern\":{\"fillmode\":\"overlay\",\"size\":10,\"solidity\":0.2}},\"type\":\"histogram\"}],\"mesh3d\":[{\"colorbar\":{\"outlinewidth\":0,\"ticks\":\"\"},\"type\":\"mesh3d\"}],\"parcoords\":[{\"line\":{\"colorbar\":{\"outlinewidth\":0,\"ticks\":\"\"}},\"type\":\"parcoords\"}],\"pie\":[{\"automargin\":true,\"type\":\"pie\"}],\"scatter3d\":[{\"line\":{\"colorbar\":{\"outlinewidth\":0,\"ticks\":\"\"}},\"marker\":{\"colorbar\":{\"outlinewidth\":0,\"ticks\":\"\"}},\"type\":\"scatter3d\"}],\"scattercarpet\":[{\"marker\":{\"colorbar\":{\"outlinewidth\":0,\"ticks\":\"\"}},\"type\":\"scattercarpet\"}],\"scattergeo\":[{\"marker\":{\"colorbar\":{\"outlinewidth\":0,\"ticks\":\"\"}},\"type\":\"scattergeo\"}],\"scattergl\":[{\"marker\":{\"colorbar\":{\"outlinewidth\":0,\"ticks\":\"\"}},\"type\":\"scattergl\"}],\"scattermapbox\":[{\"marker\":{\"colorbar\":{\"outlinewidth\":0,\"ticks\":\"\"}},\"type\":\"scattermapbox\"}],\"scatterpolargl\":[{\"marker\":{\"colorbar\":{\"outlinewidth\":0,\"ticks\":\"\"}},\"type\":\"scatterpolargl\"}],\"scatterpolar\":[{\"marker\":{\"colorbar\":{\"outlinewidth\":0,\"ticks\":\"\"}},\"type\":\"scatterpolar\"}],\"scatter\":[{\"fillpattern\":{\"fillmode\":\"overlay\",\"size\":10,\"solidity\":0.2},\"type\":\"scatter\"}],\"scatterternary\":[{\"marker\":{\"colorbar\":{\"outlinewidth\":0,\"ticks\":\"\"}},\"type\":\"scatterternary\"}],\"surface\":[{\"colorbar\":{\"outlinewidth\":0,\"ticks\":\"\"},\"colorscale\":[[0.0,\"#0d0887\"],[0.1111111111111111,\"#46039f\"],[0.2222222222222222,\"#7201a8\"],[0.3333333333333333,\"#9c179e\"],[0.4444444444444444,\"#bd3786\"],[0.5555555555555556,\"#d8576b\"],[0.6666666666666666,\"#ed7953\"],[0.7777777777777778,\"#fb9f3a\"],[0.8888888888888888,\"#fdca26\"],[1.0,\"#f0f921\"]],\"type\":\"surface\"}],\"table\":[{\"cells\":{\"fill\":{\"color\":\"#EBF0F8\"},\"line\":{\"color\":\"white\"}},\"header\":{\"fill\":{\"color\":\"#C8D4E3\"},\"line\":{\"color\":\"white\"}},\"type\":\"table\"}]},\"layout\":{\"annotationdefaults\":{\"arrowcolor\":\"#2a3f5f\",\"arrowhead\":0,\"arrowwidth\":1},\"autotypenumbers\":\"strict\",\"coloraxis\":{\"colorbar\":{\"outlinewidth\":0,\"ticks\":\"\"}},\"colorscale\":{\"diverging\":[[0,\"#8e0152\"],[0.1,\"#c51b7d\"],[0.2,\"#de77ae\"],[0.3,\"#f1b6da\"],[0.4,\"#fde0ef\"],[0.5,\"#f7f7f7\"],[0.6,\"#e6f5d0\"],[0.7,\"#b8e186\"],[0.8,\"#7fbc41\"],[0.9,\"#4d9221\"],[1,\"#276419\"]],\"sequential\":[[0.0,\"#0d0887\"],[0.1111111111111111,\"#46039f\"],[0.2222222222222222,\"#7201a8\"],[0.3333333333333333,\"#9c179e\"],[0.4444444444444444,\"#bd3786\"],[0.5555555555555556,\"#d8576b\"],[0.6666666666666666,\"#ed7953\"],[0.7777777777777778,\"#fb9f3a\"],[0.8888888888888888,\"#fdca26\"],[1.0,\"#f0f921\"]],\"sequentialminus\":[[0.0,\"#0d0887\"],[0.1111111111111111,\"#46039f\"],[0.2222222222222222,\"#7201a8\"],[0.3333333333333333,\"#9c179e\"],[0.4444444444444444,\"#bd3786\"],[0.5555555555555556,\"#d8576b\"],[0.6666666666666666,\"#ed7953\"],[0.7777777777777778,\"#fb9f3a\"],[0.8888888888888888,\"#fdca26\"],[1.0,\"#f0f921\"]]},\"colorway\":[\"#636efa\",\"#EF553B\",\"#00cc96\",\"#ab63fa\",\"#FFA15A\",\"#19d3f3\",\"#FF6692\",\"#B6E880\",\"#FF97FF\",\"#FECB52\"],\"font\":{\"color\":\"#2a3f5f\"},\"geo\":{\"bgcolor\":\"white\",\"lakecolor\":\"white\",\"landcolor\":\"#E5ECF6\",\"showlakes\":true,\"showland\":true,\"subunitcolor\":\"white\"},\"hoverlabel\":{\"align\":\"left\"},\"hovermode\":\"closest\",\"mapbox\":{\"style\":\"light\"},\"paper_bgcolor\":\"white\",\"plot_bgcolor\":\"#E5ECF6\",\"polar\":{\"angularaxis\":{\"gridcolor\":\"white\",\"linecolor\":\"white\",\"ticks\":\"\"},\"bgcolor\":\"#E5ECF6\",\"radialaxis\":{\"gridcolor\":\"white\",\"linecolor\":\"white\",\"ticks\":\"\"}},\"scene\":{\"xaxis\":{\"backgroundcolor\":\"#E5ECF6\",\"gridcolor\":\"white\",\"gridwidth\":2,\"linecolor\":\"white\",\"showbackground\":true,\"ticks\":\"\",\"zerolinecolor\":\"white\"},\"yaxis\":{\"backgroundcolor\":\"#E5ECF6\",\"gridcolor\":\"white\",\"gridwidth\":2,\"linecolor\":\"white\",\"showbackground\":true,\"ticks\":\"\",\"zerolinecolor\":\"white\"},\"zaxis\":{\"backgroundcolor\":\"#E5ECF6\",\"gridcolor\":\"white\",\"gridwidth\":2,\"linecolor\":\"white\",\"showbackground\":true,\"ticks\":\"\",\"zerolinecolor\":\"white\"}},\"shapedefaults\":{\"line\":{\"color\":\"#2a3f5f\"}},\"ternary\":{\"aaxis\":{\"gridcolor\":\"white\",\"linecolor\":\"white\",\"ticks\":\"\"},\"baxis\":{\"gridcolor\":\"white\",\"linecolor\":\"white\",\"ticks\":\"\"},\"bgcolor\":\"#E5ECF6\",\"caxis\":{\"gridcolor\":\"white\",\"linecolor\":\"white\",\"ticks\":\"\"}},\"title\":{\"x\":0.05},\"xaxis\":{\"automargin\":true,\"gridcolor\":\"white\",\"linecolor\":\"white\",\"ticks\":\"\",\"title\":{\"standoff\":15},\"zerolinecolor\":\"white\",\"zerolinewidth\":2},\"yaxis\":{\"automargin\":true,\"gridcolor\":\"white\",\"linecolor\":\"white\",\"ticks\":\"\",\"title\":{\"standoff\":15},\"zerolinecolor\":\"white\",\"zerolinewidth\":2}}},\"title\":{\"font\":{\"color\":\"#4D5663\"}},\"xaxis\":{\"anchor\":\"y\",\"domain\":[0.0,0.2125],\"gridcolor\":\"#E1E5ED\",\"showgrid\":false,\"tickfont\":{\"color\":\"#4D5663\"},\"title\":{\"font\":{\"color\":\"#4D5663\"},\"text\":\"\"},\"zerolinecolor\":\"#E1E5ED\"},\"yaxis\":{\"anchor\":\"x\",\"domain\":[0.8025,1.0],\"gridcolor\":\"#E1E5ED\",\"showgrid\":false,\"tickfont\":{\"color\":\"#4D5663\"},\"title\":{\"font\":{\"color\":\"#4D5663\"},\"text\":\"\"},\"zerolinecolor\":\"#E1E5ED\"},\"xaxis2\":{\"anchor\":\"y2\",\"domain\":[0.2625,0.475],\"gridcolor\":\"#E1E5ED\",\"showgrid\":false,\"tickfont\":{\"color\":\"#4D5663\"},\"title\":{\"font\":{\"color\":\"#4D5663\"},\"text\":\"\"},\"zerolinecolor\":\"#E1E5ED\"},\"yaxis2\":{\"anchor\":\"x2\",\"domain\":[0.8025,1.0],\"gridcolor\":\"#E1E5ED\",\"showgrid\":false,\"tickfont\":{\"color\":\"#4D5663\"},\"title\":{\"font\":{\"color\":\"#4D5663\"},\"text\":\"\"},\"zerolinecolor\":\"#E1E5ED\"},\"xaxis3\":{\"anchor\":\"y3\",\"domain\":[0.525,0.7375],\"gridcolor\":\"#E1E5ED\",\"showgrid\":false,\"tickfont\":{\"color\":\"#4D5663\"},\"title\":{\"font\":{\"color\":\"#4D5663\"},\"text\":\"\"},\"zerolinecolor\":\"#E1E5ED\"},\"yaxis3\":{\"anchor\":\"x3\",\"domain\":[0.8025,1.0],\"gridcolor\":\"#E1E5ED\",\"showgrid\":false,\"tickfont\":{\"color\":\"#4D5663\"},\"title\":{\"font\":{\"color\":\"#4D5663\"},\"text\":\"\"},\"zerolinecolor\":\"#E1E5ED\"},\"xaxis4\":{\"anchor\":\"y4\",\"domain\":[0.7875,1.0],\"gridcolor\":\"#E1E5ED\",\"showgrid\":false,\"tickfont\":{\"color\":\"#4D5663\"},\"title\":{\"font\":{\"color\":\"#4D5663\"},\"text\":\"\"},\"zerolinecolor\":\"#E1E5ED\"},\"yaxis4\":{\"anchor\":\"x4\",\"domain\":[0.8025,1.0],\"gridcolor\":\"#E1E5ED\",\"showgrid\":false,\"tickfont\":{\"color\":\"#4D5663\"},\"title\":{\"font\":{\"color\":\"#4D5663\"},\"text\":\"\"},\"zerolinecolor\":\"#E1E5ED\"},\"xaxis5\":{\"anchor\":\"y5\",\"domain\":[0.0,0.2125],\"gridcolor\":\"#E1E5ED\",\"showgrid\":false,\"tickfont\":{\"color\":\"#4D5663\"},\"title\":{\"font\":{\"color\":\"#4D5663\"},\"text\":\"\"},\"zerolinecolor\":\"#E1E5ED\"},\"yaxis5\":{\"anchor\":\"x5\",\"domain\":[0.535,0.7325],\"gridcolor\":\"#E1E5ED\",\"showgrid\":false,\"tickfont\":{\"color\":\"#4D5663\"},\"title\":{\"font\":{\"color\":\"#4D5663\"},\"text\":\"\"},\"zerolinecolor\":\"#E1E5ED\"},\"xaxis6\":{\"anchor\":\"y6\",\"domain\":[0.2625,0.475],\"gridcolor\":\"#E1E5ED\",\"showgrid\":false,\"tickfont\":{\"color\":\"#4D5663\"},\"title\":{\"font\":{\"color\":\"#4D5663\"},\"text\":\"\"},\"zerolinecolor\":\"#E1E5ED\"},\"yaxis6\":{\"anchor\":\"x6\",\"domain\":[0.535,0.7325],\"gridcolor\":\"#E1E5ED\",\"showgrid\":false,\"tickfont\":{\"color\":\"#4D5663\"},\"title\":{\"font\":{\"color\":\"#4D5663\"},\"text\":\"\"},\"zerolinecolor\":\"#E1E5ED\"},\"xaxis7\":{\"anchor\":\"y7\",\"domain\":[0.525,0.7375],\"gridcolor\":\"#E1E5ED\",\"showgrid\":false,\"tickfont\":{\"color\":\"#4D5663\"},\"title\":{\"font\":{\"color\":\"#4D5663\"},\"text\":\"\"},\"zerolinecolor\":\"#E1E5ED\"},\"yaxis7\":{\"anchor\":\"x7\",\"domain\":[0.535,0.7325],\"gridcolor\":\"#E1E5ED\",\"showgrid\":false,\"tickfont\":{\"color\":\"#4D5663\"},\"title\":{\"font\":{\"color\":\"#4D5663\"},\"text\":\"\"},\"zerolinecolor\":\"#E1E5ED\"},\"xaxis8\":{\"anchor\":\"y8\",\"domain\":[0.7875,1.0],\"gridcolor\":\"#E1E5ED\",\"showgrid\":false,\"tickfont\":{\"color\":\"#4D5663\"},\"title\":{\"font\":{\"color\":\"#4D5663\"},\"text\":\"\"},\"zerolinecolor\":\"#E1E5ED\"},\"yaxis8\":{\"anchor\":\"x8\",\"domain\":[0.535,0.7325],\"gridcolor\":\"#E1E5ED\",\"showgrid\":false,\"tickfont\":{\"color\":\"#4D5663\"},\"title\":{\"font\":{\"color\":\"#4D5663\"},\"text\":\"\"},\"zerolinecolor\":\"#E1E5ED\"},\"xaxis9\":{\"anchor\":\"y9\",\"domain\":[0.0,0.2125],\"gridcolor\":\"#E1E5ED\",\"showgrid\":false,\"tickfont\":{\"color\":\"#4D5663\"},\"title\":{\"font\":{\"color\":\"#4D5663\"},\"text\":\"\"},\"zerolinecolor\":\"#E1E5ED\"},\"yaxis9\":{\"anchor\":\"x9\",\"domain\":[0.2675,0.465],\"gridcolor\":\"#E1E5ED\",\"showgrid\":false,\"tickfont\":{\"color\":\"#4D5663\"},\"title\":{\"font\":{\"color\":\"#4D5663\"},\"text\":\"\"},\"zerolinecolor\":\"#E1E5ED\"},\"xaxis10\":{\"anchor\":\"y10\",\"domain\":[0.2625,0.475],\"gridcolor\":\"#E1E5ED\",\"showgrid\":false,\"tickfont\":{\"color\":\"#4D5663\"},\"title\":{\"font\":{\"color\":\"#4D5663\"},\"text\":\"\"},\"zerolinecolor\":\"#E1E5ED\"},\"yaxis10\":{\"anchor\":\"x10\",\"domain\":[0.2675,0.465],\"gridcolor\":\"#E1E5ED\",\"showgrid\":false,\"tickfont\":{\"color\":\"#4D5663\"},\"title\":{\"font\":{\"color\":\"#4D5663\"},\"text\":\"\"},\"zerolinecolor\":\"#E1E5ED\"},\"xaxis11\":{\"anchor\":\"y11\",\"domain\":[0.525,0.7375],\"gridcolor\":\"#E1E5ED\",\"showgrid\":false,\"tickfont\":{\"color\":\"#4D5663\"},\"title\":{\"font\":{\"color\":\"#4D5663\"},\"text\":\"\"},\"zerolinecolor\":\"#E1E5ED\"},\"yaxis11\":{\"anchor\":\"x11\",\"domain\":[0.2675,0.465],\"gridcolor\":\"#E1E5ED\",\"showgrid\":false,\"tickfont\":{\"color\":\"#4D5663\"},\"title\":{\"font\":{\"color\":\"#4D5663\"},\"text\":\"\"},\"zerolinecolor\":\"#E1E5ED\"},\"xaxis12\":{\"anchor\":\"y12\",\"domain\":[0.7875,1.0],\"gridcolor\":\"#E1E5ED\",\"showgrid\":false,\"tickfont\":{\"color\":\"#4D5663\"},\"title\":{\"font\":{\"color\":\"#4D5663\"},\"text\":\"\"},\"zerolinecolor\":\"#E1E5ED\"},\"yaxis12\":{\"anchor\":\"x12\",\"domain\":[0.2675,0.465],\"gridcolor\":\"#E1E5ED\",\"showgrid\":false,\"tickfont\":{\"color\":\"#4D5663\"},\"title\":{\"font\":{\"color\":\"#4D5663\"},\"text\":\"\"},\"zerolinecolor\":\"#E1E5ED\"},\"xaxis13\":{\"anchor\":\"y13\",\"domain\":[0.0,0.2125],\"gridcolor\":\"#E1E5ED\",\"showgrid\":false,\"tickfont\":{\"color\":\"#4D5663\"},\"title\":{\"font\":{\"color\":\"#4D5663\"},\"text\":\"\"},\"zerolinecolor\":\"#E1E5ED\"},\"yaxis13\":{\"anchor\":\"x13\",\"domain\":[0.0,0.1975],\"gridcolor\":\"#E1E5ED\",\"showgrid\":false,\"tickfont\":{\"color\":\"#4D5663\"},\"title\":{\"font\":{\"color\":\"#4D5663\"},\"text\":\"\"},\"zerolinecolor\":\"#E1E5ED\"},\"xaxis14\":{\"anchor\":\"y14\",\"domain\":[0.2625,0.475],\"gridcolor\":\"#E1E5ED\",\"showgrid\":false,\"tickfont\":{\"color\":\"#4D5663\"},\"title\":{\"font\":{\"color\":\"#4D5663\"},\"text\":\"\"},\"zerolinecolor\":\"#E1E5ED\"},\"yaxis14\":{\"anchor\":\"x14\",\"domain\":[0.0,0.1975],\"gridcolor\":\"#E1E5ED\",\"showgrid\":false,\"tickfont\":{\"color\":\"#4D5663\"},\"title\":{\"font\":{\"color\":\"#4D5663\"},\"text\":\"\"},\"zerolinecolor\":\"#E1E5ED\"},\"xaxis15\":{\"anchor\":\"y15\",\"domain\":[0.525,0.7375],\"gridcolor\":\"#E1E5ED\",\"showgrid\":false,\"tickfont\":{\"color\":\"#4D5663\"},\"title\":{\"font\":{\"color\":\"#4D5663\"},\"text\":\"\"},\"zerolinecolor\":\"#E1E5ED\"},\"yaxis15\":{\"anchor\":\"x15\",\"domain\":[0.0,0.1975],\"gridcolor\":\"#E1E5ED\",\"showgrid\":false,\"tickfont\":{\"color\":\"#4D5663\"},\"title\":{\"font\":{\"color\":\"#4D5663\"},\"text\":\"\"},\"zerolinecolor\":\"#E1E5ED\"},\"xaxis16\":{\"anchor\":\"y16\",\"domain\":[0.7875,1.0],\"gridcolor\":\"#E1E5ED\",\"showgrid\":false,\"tickfont\":{\"color\":\"#4D5663\"},\"title\":{\"font\":{\"color\":\"#4D5663\"},\"text\":\"\"},\"zerolinecolor\":\"#E1E5ED\"},\"yaxis16\":{\"anchor\":\"x16\",\"domain\":[0.0,0.1975],\"gridcolor\":\"#E1E5ED\",\"showgrid\":false,\"tickfont\":{\"color\":\"#4D5663\"},\"title\":{\"font\":{\"color\":\"#4D5663\"},\"text\":\"\"},\"zerolinecolor\":\"#E1E5ED\"}},                        {\"showLink\": true, \"linkText\": \"Export to plot.ly\", \"plotlyServerURL\": \"https://plot.ly\", \"responsive\": true}                    ).then(function(){\n",
       "                            \n",
       "var gd = document.getElementById('9ee0924a-0568-4e8d-9cfe-c42a45bc7cc4');\n",
       "var x = new MutationObserver(function (mutations, observer) {{\n",
       "        var display = window.getComputedStyle(gd).display;\n",
       "        if (!display || display === 'none') {{\n",
       "            console.log([gd, 'removed!']);\n",
       "            Plotly.purge(gd);\n",
       "            observer.disconnect();\n",
       "        }}\n",
       "}});\n",
       "\n",
       "// Listen for the removal of the full notebook cells\n",
       "var notebookContainer = gd.closest('#notebook-container');\n",
       "if (notebookContainer) {{\n",
       "    x.observe(notebookContainer, {childList: true});\n",
       "}}\n",
       "\n",
       "// Listen for the clearing of the current output cell\n",
       "var outputEl = gd.closest('.output');\n",
       "if (outputEl) {{\n",
       "    x.observe(outputEl, {childList: true});\n",
       "}}\n",
       "\n",
       "                        })                };                });            </script>        </div>"
      ]
     },
     "metadata": {},
     "output_type": "display_data"
    }
   ],
   "source": [
    "# scatter\n",
    "\n",
    "df.scatter_matrix()"
   ]
  },
  {
   "cell_type": "code",
   "execution_count": 27,
   "id": "752f1192",
   "metadata": {},
   "outputs": [],
   "source": [
    "df3=pd.DataFrame({'x':[1,2,3,4,5],'y':[10,20,30,20,10],'z':[500,400,3000,200,100]} )"
   ]
  },
  {
   "cell_type": "code",
   "execution_count": 28,
   "id": "96e14286",
   "metadata": {},
   "outputs": [
    {
     "data": {
      "text/html": [
       "<div>\n",
       "<style scoped>\n",
       "    .dataframe tbody tr th:only-of-type {\n",
       "        vertical-align: middle;\n",
       "    }\n",
       "\n",
       "    .dataframe tbody tr th {\n",
       "        vertical-align: top;\n",
       "    }\n",
       "\n",
       "    .dataframe thead th {\n",
       "        text-align: right;\n",
       "    }\n",
       "</style>\n",
       "<table border=\"1\" class=\"dataframe\">\n",
       "  <thead>\n",
       "    <tr style=\"text-align: right;\">\n",
       "      <th></th>\n",
       "      <th>x</th>\n",
       "      <th>y</th>\n",
       "      <th>z</th>\n",
       "    </tr>\n",
       "  </thead>\n",
       "  <tbody>\n",
       "    <tr>\n",
       "      <th>0</th>\n",
       "      <td>1</td>\n",
       "      <td>10</td>\n",
       "      <td>500</td>\n",
       "    </tr>\n",
       "    <tr>\n",
       "      <th>1</th>\n",
       "      <td>2</td>\n",
       "      <td>20</td>\n",
       "      <td>400</td>\n",
       "    </tr>\n",
       "    <tr>\n",
       "      <th>2</th>\n",
       "      <td>3</td>\n",
       "      <td>30</td>\n",
       "      <td>3000</td>\n",
       "    </tr>\n",
       "    <tr>\n",
       "      <th>3</th>\n",
       "      <td>4</td>\n",
       "      <td>20</td>\n",
       "      <td>200</td>\n",
       "    </tr>\n",
       "    <tr>\n",
       "      <th>4</th>\n",
       "      <td>5</td>\n",
       "      <td>10</td>\n",
       "      <td>100</td>\n",
       "    </tr>\n",
       "  </tbody>\n",
       "</table>\n",
       "</div>"
      ],
      "text/plain": [
       "   x   y     z\n",
       "0  1  10   500\n",
       "1  2  20   400\n",
       "2  3  30  3000\n",
       "3  4  20   200\n",
       "4  5  10   100"
      ]
     },
     "execution_count": 28,
     "metadata": {},
     "output_type": "execute_result"
    }
   ],
   "source": [
    "df3"
   ]
  },
  {
   "cell_type": "code",
   "execution_count": 29,
   "id": "0e32bbbb",
   "metadata": {},
   "outputs": [
    {
     "data": {
      "application/vnd.plotly.v1+json": {
       "config": {
        "linkText": "Export to plot.ly",
        "plotlyServerURL": "https://plot.ly",
        "showLink": true
       },
       "data": [
        {
         "line": {
          "color": "rgba(255, 153, 51, 1.0)",
          "dash": "solid",
          "shape": "linear",
          "width": 1.3
         },
         "mode": "lines",
         "name": "x",
         "text": "",
         "type": "scatter",
         "x": [
          0,
          1,
          2,
          3,
          4
         ],
         "y": [
          1,
          2,
          3,
          4,
          5
         ]
        },
        {
         "line": {
          "color": "rgba(55, 128, 191, 1.0)",
          "dash": "solid",
          "shape": "linear",
          "width": 1.3
         },
         "mode": "lines",
         "name": "y",
         "text": "",
         "type": "scatter",
         "x": [
          0,
          1,
          2,
          3,
          4
         ],
         "y": [
          10,
          20,
          30,
          20,
          10
         ]
        },
        {
         "line": {
          "color": "rgba(50, 171, 96, 1.0)",
          "dash": "solid",
          "shape": "linear",
          "width": 1.3
         },
         "mode": "lines",
         "name": "z",
         "text": "",
         "type": "scatter",
         "x": [
          0,
          1,
          2,
          3,
          4
         ],
         "y": [
          500,
          400,
          3000,
          200,
          100
         ]
        }
       ],
       "layout": {
        "legend": {
         "bgcolor": "#F5F6F9",
         "font": {
          "color": "#4D5663"
         }
        },
        "paper_bgcolor": "#F5F6F9",
        "plot_bgcolor": "#F5F6F9",
        "template": {
         "data": {
          "bar": [
           {
            "error_x": {
             "color": "#2a3f5f"
            },
            "error_y": {
             "color": "#2a3f5f"
            },
            "marker": {
             "line": {
              "color": "#E5ECF6",
              "width": 0.5
             },
             "pattern": {
              "fillmode": "overlay",
              "size": 10,
              "solidity": 0.2
             }
            },
            "type": "bar"
           }
          ],
          "barpolar": [
           {
            "marker": {
             "line": {
              "color": "#E5ECF6",
              "width": 0.5
             },
             "pattern": {
              "fillmode": "overlay",
              "size": 10,
              "solidity": 0.2
             }
            },
            "type": "barpolar"
           }
          ],
          "carpet": [
           {
            "aaxis": {
             "endlinecolor": "#2a3f5f",
             "gridcolor": "white",
             "linecolor": "white",
             "minorgridcolor": "white",
             "startlinecolor": "#2a3f5f"
            },
            "baxis": {
             "endlinecolor": "#2a3f5f",
             "gridcolor": "white",
             "linecolor": "white",
             "minorgridcolor": "white",
             "startlinecolor": "#2a3f5f"
            },
            "type": "carpet"
           }
          ],
          "choropleth": [
           {
            "colorbar": {
             "outlinewidth": 0,
             "ticks": ""
            },
            "type": "choropleth"
           }
          ],
          "contour": [
           {
            "colorbar": {
             "outlinewidth": 0,
             "ticks": ""
            },
            "colorscale": [
             [
              0,
              "#0d0887"
             ],
             [
              0.1111111111111111,
              "#46039f"
             ],
             [
              0.2222222222222222,
              "#7201a8"
             ],
             [
              0.3333333333333333,
              "#9c179e"
             ],
             [
              0.4444444444444444,
              "#bd3786"
             ],
             [
              0.5555555555555556,
              "#d8576b"
             ],
             [
              0.6666666666666666,
              "#ed7953"
             ],
             [
              0.7777777777777778,
              "#fb9f3a"
             ],
             [
              0.8888888888888888,
              "#fdca26"
             ],
             [
              1,
              "#f0f921"
             ]
            ],
            "type": "contour"
           }
          ],
          "contourcarpet": [
           {
            "colorbar": {
             "outlinewidth": 0,
             "ticks": ""
            },
            "type": "contourcarpet"
           }
          ],
          "heatmap": [
           {
            "colorbar": {
             "outlinewidth": 0,
             "ticks": ""
            },
            "colorscale": [
             [
              0,
              "#0d0887"
             ],
             [
              0.1111111111111111,
              "#46039f"
             ],
             [
              0.2222222222222222,
              "#7201a8"
             ],
             [
              0.3333333333333333,
              "#9c179e"
             ],
             [
              0.4444444444444444,
              "#bd3786"
             ],
             [
              0.5555555555555556,
              "#d8576b"
             ],
             [
              0.6666666666666666,
              "#ed7953"
             ],
             [
              0.7777777777777778,
              "#fb9f3a"
             ],
             [
              0.8888888888888888,
              "#fdca26"
             ],
             [
              1,
              "#f0f921"
             ]
            ],
            "type": "heatmap"
           }
          ],
          "heatmapgl": [
           {
            "colorbar": {
             "outlinewidth": 0,
             "ticks": ""
            },
            "colorscale": [
             [
              0,
              "#0d0887"
             ],
             [
              0.1111111111111111,
              "#46039f"
             ],
             [
              0.2222222222222222,
              "#7201a8"
             ],
             [
              0.3333333333333333,
              "#9c179e"
             ],
             [
              0.4444444444444444,
              "#bd3786"
             ],
             [
              0.5555555555555556,
              "#d8576b"
             ],
             [
              0.6666666666666666,
              "#ed7953"
             ],
             [
              0.7777777777777778,
              "#fb9f3a"
             ],
             [
              0.8888888888888888,
              "#fdca26"
             ],
             [
              1,
              "#f0f921"
             ]
            ],
            "type": "heatmapgl"
           }
          ],
          "histogram": [
           {
            "marker": {
             "pattern": {
              "fillmode": "overlay",
              "size": 10,
              "solidity": 0.2
             }
            },
            "type": "histogram"
           }
          ],
          "histogram2d": [
           {
            "colorbar": {
             "outlinewidth": 0,
             "ticks": ""
            },
            "colorscale": [
             [
              0,
              "#0d0887"
             ],
             [
              0.1111111111111111,
              "#46039f"
             ],
             [
              0.2222222222222222,
              "#7201a8"
             ],
             [
              0.3333333333333333,
              "#9c179e"
             ],
             [
              0.4444444444444444,
              "#bd3786"
             ],
             [
              0.5555555555555556,
              "#d8576b"
             ],
             [
              0.6666666666666666,
              "#ed7953"
             ],
             [
              0.7777777777777778,
              "#fb9f3a"
             ],
             [
              0.8888888888888888,
              "#fdca26"
             ],
             [
              1,
              "#f0f921"
             ]
            ],
            "type": "histogram2d"
           }
          ],
          "histogram2dcontour": [
           {
            "colorbar": {
             "outlinewidth": 0,
             "ticks": ""
            },
            "colorscale": [
             [
              0,
              "#0d0887"
             ],
             [
              0.1111111111111111,
              "#46039f"
             ],
             [
              0.2222222222222222,
              "#7201a8"
             ],
             [
              0.3333333333333333,
              "#9c179e"
             ],
             [
              0.4444444444444444,
              "#bd3786"
             ],
             [
              0.5555555555555556,
              "#d8576b"
             ],
             [
              0.6666666666666666,
              "#ed7953"
             ],
             [
              0.7777777777777778,
              "#fb9f3a"
             ],
             [
              0.8888888888888888,
              "#fdca26"
             ],
             [
              1,
              "#f0f921"
             ]
            ],
            "type": "histogram2dcontour"
           }
          ],
          "mesh3d": [
           {
            "colorbar": {
             "outlinewidth": 0,
             "ticks": ""
            },
            "type": "mesh3d"
           }
          ],
          "parcoords": [
           {
            "line": {
             "colorbar": {
              "outlinewidth": 0,
              "ticks": ""
             }
            },
            "type": "parcoords"
           }
          ],
          "pie": [
           {
            "automargin": true,
            "type": "pie"
           }
          ],
          "scatter": [
           {
            "fillpattern": {
             "fillmode": "overlay",
             "size": 10,
             "solidity": 0.2
            },
            "type": "scatter"
           }
          ],
          "scatter3d": [
           {
            "line": {
             "colorbar": {
              "outlinewidth": 0,
              "ticks": ""
             }
            },
            "marker": {
             "colorbar": {
              "outlinewidth": 0,
              "ticks": ""
             }
            },
            "type": "scatter3d"
           }
          ],
          "scattercarpet": [
           {
            "marker": {
             "colorbar": {
              "outlinewidth": 0,
              "ticks": ""
             }
            },
            "type": "scattercarpet"
           }
          ],
          "scattergeo": [
           {
            "marker": {
             "colorbar": {
              "outlinewidth": 0,
              "ticks": ""
             }
            },
            "type": "scattergeo"
           }
          ],
          "scattergl": [
           {
            "marker": {
             "colorbar": {
              "outlinewidth": 0,
              "ticks": ""
             }
            },
            "type": "scattergl"
           }
          ],
          "scattermapbox": [
           {
            "marker": {
             "colorbar": {
              "outlinewidth": 0,
              "ticks": ""
             }
            },
            "type": "scattermapbox"
           }
          ],
          "scatterpolar": [
           {
            "marker": {
             "colorbar": {
              "outlinewidth": 0,
              "ticks": ""
             }
            },
            "type": "scatterpolar"
           }
          ],
          "scatterpolargl": [
           {
            "marker": {
             "colorbar": {
              "outlinewidth": 0,
              "ticks": ""
             }
            },
            "type": "scatterpolargl"
           }
          ],
          "scatterternary": [
           {
            "marker": {
             "colorbar": {
              "outlinewidth": 0,
              "ticks": ""
             }
            },
            "type": "scatterternary"
           }
          ],
          "surface": [
           {
            "colorbar": {
             "outlinewidth": 0,
             "ticks": ""
            },
            "colorscale": [
             [
              0,
              "#0d0887"
             ],
             [
              0.1111111111111111,
              "#46039f"
             ],
             [
              0.2222222222222222,
              "#7201a8"
             ],
             [
              0.3333333333333333,
              "#9c179e"
             ],
             [
              0.4444444444444444,
              "#bd3786"
             ],
             [
              0.5555555555555556,
              "#d8576b"
             ],
             [
              0.6666666666666666,
              "#ed7953"
             ],
             [
              0.7777777777777778,
              "#fb9f3a"
             ],
             [
              0.8888888888888888,
              "#fdca26"
             ],
             [
              1,
              "#f0f921"
             ]
            ],
            "type": "surface"
           }
          ],
          "table": [
           {
            "cells": {
             "fill": {
              "color": "#EBF0F8"
             },
             "line": {
              "color": "white"
             }
            },
            "header": {
             "fill": {
              "color": "#C8D4E3"
             },
             "line": {
              "color": "white"
             }
            },
            "type": "table"
           }
          ]
         },
         "layout": {
          "annotationdefaults": {
           "arrowcolor": "#2a3f5f",
           "arrowhead": 0,
           "arrowwidth": 1
          },
          "autotypenumbers": "strict",
          "coloraxis": {
           "colorbar": {
            "outlinewidth": 0,
            "ticks": ""
           }
          },
          "colorscale": {
           "diverging": [
            [
             0,
             "#8e0152"
            ],
            [
             0.1,
             "#c51b7d"
            ],
            [
             0.2,
             "#de77ae"
            ],
            [
             0.3,
             "#f1b6da"
            ],
            [
             0.4,
             "#fde0ef"
            ],
            [
             0.5,
             "#f7f7f7"
            ],
            [
             0.6,
             "#e6f5d0"
            ],
            [
             0.7,
             "#b8e186"
            ],
            [
             0.8,
             "#7fbc41"
            ],
            [
             0.9,
             "#4d9221"
            ],
            [
             1,
             "#276419"
            ]
           ],
           "sequential": [
            [
             0,
             "#0d0887"
            ],
            [
             0.1111111111111111,
             "#46039f"
            ],
            [
             0.2222222222222222,
             "#7201a8"
            ],
            [
             0.3333333333333333,
             "#9c179e"
            ],
            [
             0.4444444444444444,
             "#bd3786"
            ],
            [
             0.5555555555555556,
             "#d8576b"
            ],
            [
             0.6666666666666666,
             "#ed7953"
            ],
            [
             0.7777777777777778,
             "#fb9f3a"
            ],
            [
             0.8888888888888888,
             "#fdca26"
            ],
            [
             1,
             "#f0f921"
            ]
           ],
           "sequentialminus": [
            [
             0,
             "#0d0887"
            ],
            [
             0.1111111111111111,
             "#46039f"
            ],
            [
             0.2222222222222222,
             "#7201a8"
            ],
            [
             0.3333333333333333,
             "#9c179e"
            ],
            [
             0.4444444444444444,
             "#bd3786"
            ],
            [
             0.5555555555555556,
             "#d8576b"
            ],
            [
             0.6666666666666666,
             "#ed7953"
            ],
            [
             0.7777777777777778,
             "#fb9f3a"
            ],
            [
             0.8888888888888888,
             "#fdca26"
            ],
            [
             1,
             "#f0f921"
            ]
           ]
          },
          "colorway": [
           "#636efa",
           "#EF553B",
           "#00cc96",
           "#ab63fa",
           "#FFA15A",
           "#19d3f3",
           "#FF6692",
           "#B6E880",
           "#FF97FF",
           "#FECB52"
          ],
          "font": {
           "color": "#2a3f5f"
          },
          "geo": {
           "bgcolor": "white",
           "lakecolor": "white",
           "landcolor": "#E5ECF6",
           "showlakes": true,
           "showland": true,
           "subunitcolor": "white"
          },
          "hoverlabel": {
           "align": "left"
          },
          "hovermode": "closest",
          "mapbox": {
           "style": "light"
          },
          "paper_bgcolor": "white",
          "plot_bgcolor": "#E5ECF6",
          "polar": {
           "angularaxis": {
            "gridcolor": "white",
            "linecolor": "white",
            "ticks": ""
           },
           "bgcolor": "#E5ECF6",
           "radialaxis": {
            "gridcolor": "white",
            "linecolor": "white",
            "ticks": ""
           }
          },
          "scene": {
           "xaxis": {
            "backgroundcolor": "#E5ECF6",
            "gridcolor": "white",
            "gridwidth": 2,
            "linecolor": "white",
            "showbackground": true,
            "ticks": "",
            "zerolinecolor": "white"
           },
           "yaxis": {
            "backgroundcolor": "#E5ECF6",
            "gridcolor": "white",
            "gridwidth": 2,
            "linecolor": "white",
            "showbackground": true,
            "ticks": "",
            "zerolinecolor": "white"
           },
           "zaxis": {
            "backgroundcolor": "#E5ECF6",
            "gridcolor": "white",
            "gridwidth": 2,
            "linecolor": "white",
            "showbackground": true,
            "ticks": "",
            "zerolinecolor": "white"
           }
          },
          "shapedefaults": {
           "line": {
            "color": "#2a3f5f"
           }
          },
          "ternary": {
           "aaxis": {
            "gridcolor": "white",
            "linecolor": "white",
            "ticks": ""
           },
           "baxis": {
            "gridcolor": "white",
            "linecolor": "white",
            "ticks": ""
           },
           "bgcolor": "#E5ECF6",
           "caxis": {
            "gridcolor": "white",
            "linecolor": "white",
            "ticks": ""
           }
          },
          "title": {
           "x": 0.05
          },
          "xaxis": {
           "automargin": true,
           "gridcolor": "white",
           "linecolor": "white",
           "ticks": "",
           "title": {
            "standoff": 15
           },
           "zerolinecolor": "white",
           "zerolinewidth": 2
          },
          "yaxis": {
           "automargin": true,
           "gridcolor": "white",
           "linecolor": "white",
           "ticks": "",
           "title": {
            "standoff": 15
           },
           "zerolinecolor": "white",
           "zerolinewidth": 2
          }
         }
        },
        "title": {
         "font": {
          "color": "#4D5663"
         }
        },
        "xaxis": {
         "gridcolor": "#E1E5ED",
         "showgrid": true,
         "tickfont": {
          "color": "#4D5663"
         },
         "title": {
          "font": {
           "color": "#4D5663"
          },
          "text": ""
         },
         "zerolinecolor": "#E1E5ED"
        },
        "yaxis": {
         "gridcolor": "#E1E5ED",
         "showgrid": true,
         "tickfont": {
          "color": "#4D5663"
         },
         "title": {
          "font": {
           "color": "#4D5663"
          },
          "text": ""
         },
         "zerolinecolor": "#E1E5ED"
        }
       }
      },
      "text/html": [
       "<div>                            <div id=\"4a25ea4a-a045-4102-9d8d-336d942a0e85\" class=\"plotly-graph-div\" style=\"height:525px; width:100%;\"></div>            <script type=\"text/javascript\">                require([\"plotly\"], function(Plotly) {                    window.PLOTLYENV=window.PLOTLYENV || {};\n",
       "                    window.PLOTLYENV.BASE_URL='https://plot.ly';                                    if (document.getElementById(\"4a25ea4a-a045-4102-9d8d-336d942a0e85\")) {                    Plotly.newPlot(                        \"4a25ea4a-a045-4102-9d8d-336d942a0e85\",                        [{\"line\":{\"color\":\"rgba(255, 153, 51, 1.0)\",\"dash\":\"solid\",\"shape\":\"linear\",\"width\":1.3},\"mode\":\"lines\",\"name\":\"x\",\"text\":\"\",\"x\":[0,1,2,3,4],\"y\":[1,2,3,4,5],\"type\":\"scatter\"},{\"line\":{\"color\":\"rgba(55, 128, 191, 1.0)\",\"dash\":\"solid\",\"shape\":\"linear\",\"width\":1.3},\"mode\":\"lines\",\"name\":\"y\",\"text\":\"\",\"x\":[0,1,2,3,4],\"y\":[10,20,30,20,10],\"type\":\"scatter\"},{\"line\":{\"color\":\"rgba(50, 171, 96, 1.0)\",\"dash\":\"solid\",\"shape\":\"linear\",\"width\":1.3},\"mode\":\"lines\",\"name\":\"z\",\"text\":\"\",\"x\":[0,1,2,3,4],\"y\":[500,400,3000,200,100],\"type\":\"scatter\"}],                        {\"legend\":{\"bgcolor\":\"#F5F6F9\",\"font\":{\"color\":\"#4D5663\"}},\"paper_bgcolor\":\"#F5F6F9\",\"plot_bgcolor\":\"#F5F6F9\",\"template\":{\"data\":{\"barpolar\":[{\"marker\":{\"line\":{\"color\":\"#E5ECF6\",\"width\":0.5},\"pattern\":{\"fillmode\":\"overlay\",\"size\":10,\"solidity\":0.2}},\"type\":\"barpolar\"}],\"bar\":[{\"error_x\":{\"color\":\"#2a3f5f\"},\"error_y\":{\"color\":\"#2a3f5f\"},\"marker\":{\"line\":{\"color\":\"#E5ECF6\",\"width\":0.5},\"pattern\":{\"fillmode\":\"overlay\",\"size\":10,\"solidity\":0.2}},\"type\":\"bar\"}],\"carpet\":[{\"aaxis\":{\"endlinecolor\":\"#2a3f5f\",\"gridcolor\":\"white\",\"linecolor\":\"white\",\"minorgridcolor\":\"white\",\"startlinecolor\":\"#2a3f5f\"},\"baxis\":{\"endlinecolor\":\"#2a3f5f\",\"gridcolor\":\"white\",\"linecolor\":\"white\",\"minorgridcolor\":\"white\",\"startlinecolor\":\"#2a3f5f\"},\"type\":\"carpet\"}],\"choropleth\":[{\"colorbar\":{\"outlinewidth\":0,\"ticks\":\"\"},\"type\":\"choropleth\"}],\"contourcarpet\":[{\"colorbar\":{\"outlinewidth\":0,\"ticks\":\"\"},\"type\":\"contourcarpet\"}],\"contour\":[{\"colorbar\":{\"outlinewidth\":0,\"ticks\":\"\"},\"colorscale\":[[0.0,\"#0d0887\"],[0.1111111111111111,\"#46039f\"],[0.2222222222222222,\"#7201a8\"],[0.3333333333333333,\"#9c179e\"],[0.4444444444444444,\"#bd3786\"],[0.5555555555555556,\"#d8576b\"],[0.6666666666666666,\"#ed7953\"],[0.7777777777777778,\"#fb9f3a\"],[0.8888888888888888,\"#fdca26\"],[1.0,\"#f0f921\"]],\"type\":\"contour\"}],\"heatmapgl\":[{\"colorbar\":{\"outlinewidth\":0,\"ticks\":\"\"},\"colorscale\":[[0.0,\"#0d0887\"],[0.1111111111111111,\"#46039f\"],[0.2222222222222222,\"#7201a8\"],[0.3333333333333333,\"#9c179e\"],[0.4444444444444444,\"#bd3786\"],[0.5555555555555556,\"#d8576b\"],[0.6666666666666666,\"#ed7953\"],[0.7777777777777778,\"#fb9f3a\"],[0.8888888888888888,\"#fdca26\"],[1.0,\"#f0f921\"]],\"type\":\"heatmapgl\"}],\"heatmap\":[{\"colorbar\":{\"outlinewidth\":0,\"ticks\":\"\"},\"colorscale\":[[0.0,\"#0d0887\"],[0.1111111111111111,\"#46039f\"],[0.2222222222222222,\"#7201a8\"],[0.3333333333333333,\"#9c179e\"],[0.4444444444444444,\"#bd3786\"],[0.5555555555555556,\"#d8576b\"],[0.6666666666666666,\"#ed7953\"],[0.7777777777777778,\"#fb9f3a\"],[0.8888888888888888,\"#fdca26\"],[1.0,\"#f0f921\"]],\"type\":\"heatmap\"}],\"histogram2dcontour\":[{\"colorbar\":{\"outlinewidth\":0,\"ticks\":\"\"},\"colorscale\":[[0.0,\"#0d0887\"],[0.1111111111111111,\"#46039f\"],[0.2222222222222222,\"#7201a8\"],[0.3333333333333333,\"#9c179e\"],[0.4444444444444444,\"#bd3786\"],[0.5555555555555556,\"#d8576b\"],[0.6666666666666666,\"#ed7953\"],[0.7777777777777778,\"#fb9f3a\"],[0.8888888888888888,\"#fdca26\"],[1.0,\"#f0f921\"]],\"type\":\"histogram2dcontour\"}],\"histogram2d\":[{\"colorbar\":{\"outlinewidth\":0,\"ticks\":\"\"},\"colorscale\":[[0.0,\"#0d0887\"],[0.1111111111111111,\"#46039f\"],[0.2222222222222222,\"#7201a8\"],[0.3333333333333333,\"#9c179e\"],[0.4444444444444444,\"#bd3786\"],[0.5555555555555556,\"#d8576b\"],[0.6666666666666666,\"#ed7953\"],[0.7777777777777778,\"#fb9f3a\"],[0.8888888888888888,\"#fdca26\"],[1.0,\"#f0f921\"]],\"type\":\"histogram2d\"}],\"histogram\":[{\"marker\":{\"pattern\":{\"fillmode\":\"overlay\",\"size\":10,\"solidity\":0.2}},\"type\":\"histogram\"}],\"mesh3d\":[{\"colorbar\":{\"outlinewidth\":0,\"ticks\":\"\"},\"type\":\"mesh3d\"}],\"parcoords\":[{\"line\":{\"colorbar\":{\"outlinewidth\":0,\"ticks\":\"\"}},\"type\":\"parcoords\"}],\"pie\":[{\"automargin\":true,\"type\":\"pie\"}],\"scatter3d\":[{\"line\":{\"colorbar\":{\"outlinewidth\":0,\"ticks\":\"\"}},\"marker\":{\"colorbar\":{\"outlinewidth\":0,\"ticks\":\"\"}},\"type\":\"scatter3d\"}],\"scattercarpet\":[{\"marker\":{\"colorbar\":{\"outlinewidth\":0,\"ticks\":\"\"}},\"type\":\"scattercarpet\"}],\"scattergeo\":[{\"marker\":{\"colorbar\":{\"outlinewidth\":0,\"ticks\":\"\"}},\"type\":\"scattergeo\"}],\"scattergl\":[{\"marker\":{\"colorbar\":{\"outlinewidth\":0,\"ticks\":\"\"}},\"type\":\"scattergl\"}],\"scattermapbox\":[{\"marker\":{\"colorbar\":{\"outlinewidth\":0,\"ticks\":\"\"}},\"type\":\"scattermapbox\"}],\"scatterpolargl\":[{\"marker\":{\"colorbar\":{\"outlinewidth\":0,\"ticks\":\"\"}},\"type\":\"scatterpolargl\"}],\"scatterpolar\":[{\"marker\":{\"colorbar\":{\"outlinewidth\":0,\"ticks\":\"\"}},\"type\":\"scatterpolar\"}],\"scatter\":[{\"fillpattern\":{\"fillmode\":\"overlay\",\"size\":10,\"solidity\":0.2},\"type\":\"scatter\"}],\"scatterternary\":[{\"marker\":{\"colorbar\":{\"outlinewidth\":0,\"ticks\":\"\"}},\"type\":\"scatterternary\"}],\"surface\":[{\"colorbar\":{\"outlinewidth\":0,\"ticks\":\"\"},\"colorscale\":[[0.0,\"#0d0887\"],[0.1111111111111111,\"#46039f\"],[0.2222222222222222,\"#7201a8\"],[0.3333333333333333,\"#9c179e\"],[0.4444444444444444,\"#bd3786\"],[0.5555555555555556,\"#d8576b\"],[0.6666666666666666,\"#ed7953\"],[0.7777777777777778,\"#fb9f3a\"],[0.8888888888888888,\"#fdca26\"],[1.0,\"#f0f921\"]],\"type\":\"surface\"}],\"table\":[{\"cells\":{\"fill\":{\"color\":\"#EBF0F8\"},\"line\":{\"color\":\"white\"}},\"header\":{\"fill\":{\"color\":\"#C8D4E3\"},\"line\":{\"color\":\"white\"}},\"type\":\"table\"}]},\"layout\":{\"annotationdefaults\":{\"arrowcolor\":\"#2a3f5f\",\"arrowhead\":0,\"arrowwidth\":1},\"autotypenumbers\":\"strict\",\"coloraxis\":{\"colorbar\":{\"outlinewidth\":0,\"ticks\":\"\"}},\"colorscale\":{\"diverging\":[[0,\"#8e0152\"],[0.1,\"#c51b7d\"],[0.2,\"#de77ae\"],[0.3,\"#f1b6da\"],[0.4,\"#fde0ef\"],[0.5,\"#f7f7f7\"],[0.6,\"#e6f5d0\"],[0.7,\"#b8e186\"],[0.8,\"#7fbc41\"],[0.9,\"#4d9221\"],[1,\"#276419\"]],\"sequential\":[[0.0,\"#0d0887\"],[0.1111111111111111,\"#46039f\"],[0.2222222222222222,\"#7201a8\"],[0.3333333333333333,\"#9c179e\"],[0.4444444444444444,\"#bd3786\"],[0.5555555555555556,\"#d8576b\"],[0.6666666666666666,\"#ed7953\"],[0.7777777777777778,\"#fb9f3a\"],[0.8888888888888888,\"#fdca26\"],[1.0,\"#f0f921\"]],\"sequentialminus\":[[0.0,\"#0d0887\"],[0.1111111111111111,\"#46039f\"],[0.2222222222222222,\"#7201a8\"],[0.3333333333333333,\"#9c179e\"],[0.4444444444444444,\"#bd3786\"],[0.5555555555555556,\"#d8576b\"],[0.6666666666666666,\"#ed7953\"],[0.7777777777777778,\"#fb9f3a\"],[0.8888888888888888,\"#fdca26\"],[1.0,\"#f0f921\"]]},\"colorway\":[\"#636efa\",\"#EF553B\",\"#00cc96\",\"#ab63fa\",\"#FFA15A\",\"#19d3f3\",\"#FF6692\",\"#B6E880\",\"#FF97FF\",\"#FECB52\"],\"font\":{\"color\":\"#2a3f5f\"},\"geo\":{\"bgcolor\":\"white\",\"lakecolor\":\"white\",\"landcolor\":\"#E5ECF6\",\"showlakes\":true,\"showland\":true,\"subunitcolor\":\"white\"},\"hoverlabel\":{\"align\":\"left\"},\"hovermode\":\"closest\",\"mapbox\":{\"style\":\"light\"},\"paper_bgcolor\":\"white\",\"plot_bgcolor\":\"#E5ECF6\",\"polar\":{\"angularaxis\":{\"gridcolor\":\"white\",\"linecolor\":\"white\",\"ticks\":\"\"},\"bgcolor\":\"#E5ECF6\",\"radialaxis\":{\"gridcolor\":\"white\",\"linecolor\":\"white\",\"ticks\":\"\"}},\"scene\":{\"xaxis\":{\"backgroundcolor\":\"#E5ECF6\",\"gridcolor\":\"white\",\"gridwidth\":2,\"linecolor\":\"white\",\"showbackground\":true,\"ticks\":\"\",\"zerolinecolor\":\"white\"},\"yaxis\":{\"backgroundcolor\":\"#E5ECF6\",\"gridcolor\":\"white\",\"gridwidth\":2,\"linecolor\":\"white\",\"showbackground\":true,\"ticks\":\"\",\"zerolinecolor\":\"white\"},\"zaxis\":{\"backgroundcolor\":\"#E5ECF6\",\"gridcolor\":\"white\",\"gridwidth\":2,\"linecolor\":\"white\",\"showbackground\":true,\"ticks\":\"\",\"zerolinecolor\":\"white\"}},\"shapedefaults\":{\"line\":{\"color\":\"#2a3f5f\"}},\"ternary\":{\"aaxis\":{\"gridcolor\":\"white\",\"linecolor\":\"white\",\"ticks\":\"\"},\"baxis\":{\"gridcolor\":\"white\",\"linecolor\":\"white\",\"ticks\":\"\"},\"bgcolor\":\"#E5ECF6\",\"caxis\":{\"gridcolor\":\"white\",\"linecolor\":\"white\",\"ticks\":\"\"}},\"title\":{\"x\":0.05},\"xaxis\":{\"automargin\":true,\"gridcolor\":\"white\",\"linecolor\":\"white\",\"ticks\":\"\",\"title\":{\"standoff\":15},\"zerolinecolor\":\"white\",\"zerolinewidth\":2},\"yaxis\":{\"automargin\":true,\"gridcolor\":\"white\",\"linecolor\":\"white\",\"ticks\":\"\",\"title\":{\"standoff\":15},\"zerolinecolor\":\"white\",\"zerolinewidth\":2}}},\"title\":{\"font\":{\"color\":\"#4D5663\"}},\"xaxis\":{\"gridcolor\":\"#E1E5ED\",\"showgrid\":true,\"tickfont\":{\"color\":\"#4D5663\"},\"title\":{\"font\":{\"color\":\"#4D5663\"},\"text\":\"\"},\"zerolinecolor\":\"#E1E5ED\"},\"yaxis\":{\"gridcolor\":\"#E1E5ED\",\"showgrid\":true,\"tickfont\":{\"color\":\"#4D5663\"},\"title\":{\"font\":{\"color\":\"#4D5663\"},\"text\":\"\"},\"zerolinecolor\":\"#E1E5ED\"}},                        {\"showLink\": true, \"linkText\": \"Export to plot.ly\", \"plotlyServerURL\": \"https://plot.ly\", \"responsive\": true}                    ).then(function(){\n",
       "                            \n",
       "var gd = document.getElementById('4a25ea4a-a045-4102-9d8d-336d942a0e85');\n",
       "var x = new MutationObserver(function (mutations, observer) {{\n",
       "        var display = window.getComputedStyle(gd).display;\n",
       "        if (!display || display === 'none') {{\n",
       "            console.log([gd, 'removed!']);\n",
       "            Plotly.purge(gd);\n",
       "            observer.disconnect();\n",
       "        }}\n",
       "}});\n",
       "\n",
       "// Listen for the removal of the full notebook cells\n",
       "var notebookContainer = gd.closest('#notebook-container');\n",
       "if (notebookContainer) {{\n",
       "    x.observe(notebookContainer, {childList: true});\n",
       "}}\n",
       "\n",
       "// Listen for the clearing of the current output cell\n",
       "var outputEl = gd.closest('.output');\n",
       "if (outputEl) {{\n",
       "    x.observe(outputEl, {childList: true});\n",
       "}}\n",
       "\n",
       "                        })                };                });            </script>        </div>"
      ]
     },
     "metadata": {},
     "output_type": "display_data"
    }
   ],
   "source": [
    "df3.iplot()"
   ]
  },
  {
   "cell_type": "code",
   "execution_count": 30,
   "id": "55836d07",
   "metadata": {},
   "outputs": [
    {
     "data": {
      "application/vnd.plotly.v1+json": {
       "config": {
        "linkText": "Export to plot.ly",
        "plotlyServerURL": "https://plot.ly",
        "showLink": true
       },
       "data": [
        {
         "colorscale": [
          [
           0,
           "rgb(255, 153, 51)"
          ],
          [
           0.1111111111111111,
           "rgb(55, 128, 191)"
          ],
          [
           0.2222222222222222,
           "rgb(50, 171, 96)"
          ],
          [
           0.3333333333333333,
           "rgb(128, 0, 128)"
          ],
          [
           0.4444444444444444,
           "rgb(219, 64, 82)"
          ],
          [
           0.5555555555555556,
           "rgb(0, 128, 128)"
          ],
          [
           0.6666666666666666,
           "rgb(255, 255, 51)"
          ],
          [
           0.7777777777777778,
           "rgb(128, 128, 0)"
          ],
          [
           0.8888888888888888,
           "rgb(251, 128, 114)"
          ],
          [
           1,
           "rgb(128, 177, 211)"
          ]
         ],
         "type": "surface",
         "x": [
          0,
          1,
          2,
          3,
          4
         ],
         "y": [
          "x",
          "y",
          "z"
         ],
         "z": [
          [
           1,
           2,
           3,
           4,
           5
          ],
          [
           10,
           20,
           30,
           20,
           10
          ],
          [
           500,
           400,
           3000,
           200,
           100
          ]
         ]
        }
       ],
       "layout": {
        "legend": {
         "bgcolor": "#F5F6F9",
         "font": {
          "color": "#4D5663"
         }
        },
        "paper_bgcolor": "#F5F6F9",
        "plot_bgcolor": "#F5F6F9",
        "template": {
         "data": {
          "bar": [
           {
            "error_x": {
             "color": "#2a3f5f"
            },
            "error_y": {
             "color": "#2a3f5f"
            },
            "marker": {
             "line": {
              "color": "#E5ECF6",
              "width": 0.5
             },
             "pattern": {
              "fillmode": "overlay",
              "size": 10,
              "solidity": 0.2
             }
            },
            "type": "bar"
           }
          ],
          "barpolar": [
           {
            "marker": {
             "line": {
              "color": "#E5ECF6",
              "width": 0.5
             },
             "pattern": {
              "fillmode": "overlay",
              "size": 10,
              "solidity": 0.2
             }
            },
            "type": "barpolar"
           }
          ],
          "carpet": [
           {
            "aaxis": {
             "endlinecolor": "#2a3f5f",
             "gridcolor": "white",
             "linecolor": "white",
             "minorgridcolor": "white",
             "startlinecolor": "#2a3f5f"
            },
            "baxis": {
             "endlinecolor": "#2a3f5f",
             "gridcolor": "white",
             "linecolor": "white",
             "minorgridcolor": "white",
             "startlinecolor": "#2a3f5f"
            },
            "type": "carpet"
           }
          ],
          "choropleth": [
           {
            "colorbar": {
             "outlinewidth": 0,
             "ticks": ""
            },
            "type": "choropleth"
           }
          ],
          "contour": [
           {
            "colorbar": {
             "outlinewidth": 0,
             "ticks": ""
            },
            "colorscale": [
             [
              0,
              "#0d0887"
             ],
             [
              0.1111111111111111,
              "#46039f"
             ],
             [
              0.2222222222222222,
              "#7201a8"
             ],
             [
              0.3333333333333333,
              "#9c179e"
             ],
             [
              0.4444444444444444,
              "#bd3786"
             ],
             [
              0.5555555555555556,
              "#d8576b"
             ],
             [
              0.6666666666666666,
              "#ed7953"
             ],
             [
              0.7777777777777778,
              "#fb9f3a"
             ],
             [
              0.8888888888888888,
              "#fdca26"
             ],
             [
              1,
              "#f0f921"
             ]
            ],
            "type": "contour"
           }
          ],
          "contourcarpet": [
           {
            "colorbar": {
             "outlinewidth": 0,
             "ticks": ""
            },
            "type": "contourcarpet"
           }
          ],
          "heatmap": [
           {
            "colorbar": {
             "outlinewidth": 0,
             "ticks": ""
            },
            "colorscale": [
             [
              0,
              "#0d0887"
             ],
             [
              0.1111111111111111,
              "#46039f"
             ],
             [
              0.2222222222222222,
              "#7201a8"
             ],
             [
              0.3333333333333333,
              "#9c179e"
             ],
             [
              0.4444444444444444,
              "#bd3786"
             ],
             [
              0.5555555555555556,
              "#d8576b"
             ],
             [
              0.6666666666666666,
              "#ed7953"
             ],
             [
              0.7777777777777778,
              "#fb9f3a"
             ],
             [
              0.8888888888888888,
              "#fdca26"
             ],
             [
              1,
              "#f0f921"
             ]
            ],
            "type": "heatmap"
           }
          ],
          "heatmapgl": [
           {
            "colorbar": {
             "outlinewidth": 0,
             "ticks": ""
            },
            "colorscale": [
             [
              0,
              "#0d0887"
             ],
             [
              0.1111111111111111,
              "#46039f"
             ],
             [
              0.2222222222222222,
              "#7201a8"
             ],
             [
              0.3333333333333333,
              "#9c179e"
             ],
             [
              0.4444444444444444,
              "#bd3786"
             ],
             [
              0.5555555555555556,
              "#d8576b"
             ],
             [
              0.6666666666666666,
              "#ed7953"
             ],
             [
              0.7777777777777778,
              "#fb9f3a"
             ],
             [
              0.8888888888888888,
              "#fdca26"
             ],
             [
              1,
              "#f0f921"
             ]
            ],
            "type": "heatmapgl"
           }
          ],
          "histogram": [
           {
            "marker": {
             "pattern": {
              "fillmode": "overlay",
              "size": 10,
              "solidity": 0.2
             }
            },
            "type": "histogram"
           }
          ],
          "histogram2d": [
           {
            "colorbar": {
             "outlinewidth": 0,
             "ticks": ""
            },
            "colorscale": [
             [
              0,
              "#0d0887"
             ],
             [
              0.1111111111111111,
              "#46039f"
             ],
             [
              0.2222222222222222,
              "#7201a8"
             ],
             [
              0.3333333333333333,
              "#9c179e"
             ],
             [
              0.4444444444444444,
              "#bd3786"
             ],
             [
              0.5555555555555556,
              "#d8576b"
             ],
             [
              0.6666666666666666,
              "#ed7953"
             ],
             [
              0.7777777777777778,
              "#fb9f3a"
             ],
             [
              0.8888888888888888,
              "#fdca26"
             ],
             [
              1,
              "#f0f921"
             ]
            ],
            "type": "histogram2d"
           }
          ],
          "histogram2dcontour": [
           {
            "colorbar": {
             "outlinewidth": 0,
             "ticks": ""
            },
            "colorscale": [
             [
              0,
              "#0d0887"
             ],
             [
              0.1111111111111111,
              "#46039f"
             ],
             [
              0.2222222222222222,
              "#7201a8"
             ],
             [
              0.3333333333333333,
              "#9c179e"
             ],
             [
              0.4444444444444444,
              "#bd3786"
             ],
             [
              0.5555555555555556,
              "#d8576b"
             ],
             [
              0.6666666666666666,
              "#ed7953"
             ],
             [
              0.7777777777777778,
              "#fb9f3a"
             ],
             [
              0.8888888888888888,
              "#fdca26"
             ],
             [
              1,
              "#f0f921"
             ]
            ],
            "type": "histogram2dcontour"
           }
          ],
          "mesh3d": [
           {
            "colorbar": {
             "outlinewidth": 0,
             "ticks": ""
            },
            "type": "mesh3d"
           }
          ],
          "parcoords": [
           {
            "line": {
             "colorbar": {
              "outlinewidth": 0,
              "ticks": ""
             }
            },
            "type": "parcoords"
           }
          ],
          "pie": [
           {
            "automargin": true,
            "type": "pie"
           }
          ],
          "scatter": [
           {
            "fillpattern": {
             "fillmode": "overlay",
             "size": 10,
             "solidity": 0.2
            },
            "type": "scatter"
           }
          ],
          "scatter3d": [
           {
            "line": {
             "colorbar": {
              "outlinewidth": 0,
              "ticks": ""
             }
            },
            "marker": {
             "colorbar": {
              "outlinewidth": 0,
              "ticks": ""
             }
            },
            "type": "scatter3d"
           }
          ],
          "scattercarpet": [
           {
            "marker": {
             "colorbar": {
              "outlinewidth": 0,
              "ticks": ""
             }
            },
            "type": "scattercarpet"
           }
          ],
          "scattergeo": [
           {
            "marker": {
             "colorbar": {
              "outlinewidth": 0,
              "ticks": ""
             }
            },
            "type": "scattergeo"
           }
          ],
          "scattergl": [
           {
            "marker": {
             "colorbar": {
              "outlinewidth": 0,
              "ticks": ""
             }
            },
            "type": "scattergl"
           }
          ],
          "scattermapbox": [
           {
            "marker": {
             "colorbar": {
              "outlinewidth": 0,
              "ticks": ""
             }
            },
            "type": "scattermapbox"
           }
          ],
          "scatterpolar": [
           {
            "marker": {
             "colorbar": {
              "outlinewidth": 0,
              "ticks": ""
             }
            },
            "type": "scatterpolar"
           }
          ],
          "scatterpolargl": [
           {
            "marker": {
             "colorbar": {
              "outlinewidth": 0,
              "ticks": ""
             }
            },
            "type": "scatterpolargl"
           }
          ],
          "scatterternary": [
           {
            "marker": {
             "colorbar": {
              "outlinewidth": 0,
              "ticks": ""
             }
            },
            "type": "scatterternary"
           }
          ],
          "surface": [
           {
            "colorbar": {
             "outlinewidth": 0,
             "ticks": ""
            },
            "colorscale": [
             [
              0,
              "#0d0887"
             ],
             [
              0.1111111111111111,
              "#46039f"
             ],
             [
              0.2222222222222222,
              "#7201a8"
             ],
             [
              0.3333333333333333,
              "#9c179e"
             ],
             [
              0.4444444444444444,
              "#bd3786"
             ],
             [
              0.5555555555555556,
              "#d8576b"
             ],
             [
              0.6666666666666666,
              "#ed7953"
             ],
             [
              0.7777777777777778,
              "#fb9f3a"
             ],
             [
              0.8888888888888888,
              "#fdca26"
             ],
             [
              1,
              "#f0f921"
             ]
            ],
            "type": "surface"
           }
          ],
          "table": [
           {
            "cells": {
             "fill": {
              "color": "#EBF0F8"
             },
             "line": {
              "color": "white"
             }
            },
            "header": {
             "fill": {
              "color": "#C8D4E3"
             },
             "line": {
              "color": "white"
             }
            },
            "type": "table"
           }
          ]
         },
         "layout": {
          "annotationdefaults": {
           "arrowcolor": "#2a3f5f",
           "arrowhead": 0,
           "arrowwidth": 1
          },
          "autotypenumbers": "strict",
          "coloraxis": {
           "colorbar": {
            "outlinewidth": 0,
            "ticks": ""
           }
          },
          "colorscale": {
           "diverging": [
            [
             0,
             "#8e0152"
            ],
            [
             0.1,
             "#c51b7d"
            ],
            [
             0.2,
             "#de77ae"
            ],
            [
             0.3,
             "#f1b6da"
            ],
            [
             0.4,
             "#fde0ef"
            ],
            [
             0.5,
             "#f7f7f7"
            ],
            [
             0.6,
             "#e6f5d0"
            ],
            [
             0.7,
             "#b8e186"
            ],
            [
             0.8,
             "#7fbc41"
            ],
            [
             0.9,
             "#4d9221"
            ],
            [
             1,
             "#276419"
            ]
           ],
           "sequential": [
            [
             0,
             "#0d0887"
            ],
            [
             0.1111111111111111,
             "#46039f"
            ],
            [
             0.2222222222222222,
             "#7201a8"
            ],
            [
             0.3333333333333333,
             "#9c179e"
            ],
            [
             0.4444444444444444,
             "#bd3786"
            ],
            [
             0.5555555555555556,
             "#d8576b"
            ],
            [
             0.6666666666666666,
             "#ed7953"
            ],
            [
             0.7777777777777778,
             "#fb9f3a"
            ],
            [
             0.8888888888888888,
             "#fdca26"
            ],
            [
             1,
             "#f0f921"
            ]
           ],
           "sequentialminus": [
            [
             0,
             "#0d0887"
            ],
            [
             0.1111111111111111,
             "#46039f"
            ],
            [
             0.2222222222222222,
             "#7201a8"
            ],
            [
             0.3333333333333333,
             "#9c179e"
            ],
            [
             0.4444444444444444,
             "#bd3786"
            ],
            [
             0.5555555555555556,
             "#d8576b"
            ],
            [
             0.6666666666666666,
             "#ed7953"
            ],
            [
             0.7777777777777778,
             "#fb9f3a"
            ],
            [
             0.8888888888888888,
             "#fdca26"
            ],
            [
             1,
             "#f0f921"
            ]
           ]
          },
          "colorway": [
           "#636efa",
           "#EF553B",
           "#00cc96",
           "#ab63fa",
           "#FFA15A",
           "#19d3f3",
           "#FF6692",
           "#B6E880",
           "#FF97FF",
           "#FECB52"
          ],
          "font": {
           "color": "#2a3f5f"
          },
          "geo": {
           "bgcolor": "white",
           "lakecolor": "white",
           "landcolor": "#E5ECF6",
           "showlakes": true,
           "showland": true,
           "subunitcolor": "white"
          },
          "hoverlabel": {
           "align": "left"
          },
          "hovermode": "closest",
          "mapbox": {
           "style": "light"
          },
          "paper_bgcolor": "white",
          "plot_bgcolor": "#E5ECF6",
          "polar": {
           "angularaxis": {
            "gridcolor": "white",
            "linecolor": "white",
            "ticks": ""
           },
           "bgcolor": "#E5ECF6",
           "radialaxis": {
            "gridcolor": "white",
            "linecolor": "white",
            "ticks": ""
           }
          },
          "scene": {
           "xaxis": {
            "backgroundcolor": "#E5ECF6",
            "gridcolor": "white",
            "gridwidth": 2,
            "linecolor": "white",
            "showbackground": true,
            "ticks": "",
            "zerolinecolor": "white"
           },
           "yaxis": {
            "backgroundcolor": "#E5ECF6",
            "gridcolor": "white",
            "gridwidth": 2,
            "linecolor": "white",
            "showbackground": true,
            "ticks": "",
            "zerolinecolor": "white"
           },
           "zaxis": {
            "backgroundcolor": "#E5ECF6",
            "gridcolor": "white",
            "gridwidth": 2,
            "linecolor": "white",
            "showbackground": true,
            "ticks": "",
            "zerolinecolor": "white"
           }
          },
          "shapedefaults": {
           "line": {
            "color": "#2a3f5f"
           }
          },
          "ternary": {
           "aaxis": {
            "gridcolor": "white",
            "linecolor": "white",
            "ticks": ""
           },
           "baxis": {
            "gridcolor": "white",
            "linecolor": "white",
            "ticks": ""
           },
           "bgcolor": "#E5ECF6",
           "caxis": {
            "gridcolor": "white",
            "linecolor": "white",
            "ticks": ""
           }
          },
          "title": {
           "x": 0.05
          },
          "xaxis": {
           "automargin": true,
           "gridcolor": "white",
           "linecolor": "white",
           "ticks": "",
           "title": {
            "standoff": 15
           },
           "zerolinecolor": "white",
           "zerolinewidth": 2
          },
          "yaxis": {
           "automargin": true,
           "gridcolor": "white",
           "linecolor": "white",
           "ticks": "",
           "title": {
            "standoff": 15
           },
           "zerolinecolor": "white",
           "zerolinewidth": 2
          }
         }
        },
        "title": {
         "font": {
          "color": "#4D5663"
         }
        },
        "xaxis": {
         "gridcolor": "#E1E5ED",
         "showgrid": true,
         "tickfont": {
          "color": "#4D5663"
         },
         "title": {
          "font": {
           "color": "#4D5663"
          },
          "text": ""
         },
         "zerolinecolor": "#E1E5ED"
        },
        "yaxis": {
         "gridcolor": "#E1E5ED",
         "showgrid": true,
         "tickfont": {
          "color": "#4D5663"
         },
         "title": {
          "font": {
           "color": "#4D5663"
          },
          "text": ""
         },
         "zerolinecolor": "#E1E5ED"
        }
       }
      },
      "text/html": [
       "<div>                            <div id=\"86b8d346-3d55-4665-bddd-c2f42aeb4e0d\" class=\"plotly-graph-div\" style=\"height:525px; width:100%;\"></div>            <script type=\"text/javascript\">                require([\"plotly\"], function(Plotly) {                    window.PLOTLYENV=window.PLOTLYENV || {};\n",
       "                    window.PLOTLYENV.BASE_URL='https://plot.ly';                                    if (document.getElementById(\"86b8d346-3d55-4665-bddd-c2f42aeb4e0d\")) {                    Plotly.newPlot(                        \"86b8d346-3d55-4665-bddd-c2f42aeb4e0d\",                        [{\"colorscale\":[[0.0,\"rgb(255, 153, 51)\"],[0.1111111111111111,\"rgb(55, 128, 191)\"],[0.2222222222222222,\"rgb(50, 171, 96)\"],[0.3333333333333333,\"rgb(128, 0, 128)\"],[0.4444444444444444,\"rgb(219, 64, 82)\"],[0.5555555555555556,\"rgb(0, 128, 128)\"],[0.6666666666666666,\"rgb(255, 255, 51)\"],[0.7777777777777778,\"rgb(128, 128, 0)\"],[0.8888888888888888,\"rgb(251, 128, 114)\"],[1.0,\"rgb(128, 177, 211)\"]],\"x\":[0,1,2,3,4],\"y\":[\"x\",\"y\",\"z\"],\"z\":[[1,2,3,4,5],[10,20,30,20,10],[500,400,3000,200,100]],\"type\":\"surface\"}],                        {\"legend\":{\"bgcolor\":\"#F5F6F9\",\"font\":{\"color\":\"#4D5663\"}},\"paper_bgcolor\":\"#F5F6F9\",\"plot_bgcolor\":\"#F5F6F9\",\"template\":{\"data\":{\"barpolar\":[{\"marker\":{\"line\":{\"color\":\"#E5ECF6\",\"width\":0.5},\"pattern\":{\"fillmode\":\"overlay\",\"size\":10,\"solidity\":0.2}},\"type\":\"barpolar\"}],\"bar\":[{\"error_x\":{\"color\":\"#2a3f5f\"},\"error_y\":{\"color\":\"#2a3f5f\"},\"marker\":{\"line\":{\"color\":\"#E5ECF6\",\"width\":0.5},\"pattern\":{\"fillmode\":\"overlay\",\"size\":10,\"solidity\":0.2}},\"type\":\"bar\"}],\"carpet\":[{\"aaxis\":{\"endlinecolor\":\"#2a3f5f\",\"gridcolor\":\"white\",\"linecolor\":\"white\",\"minorgridcolor\":\"white\",\"startlinecolor\":\"#2a3f5f\"},\"baxis\":{\"endlinecolor\":\"#2a3f5f\",\"gridcolor\":\"white\",\"linecolor\":\"white\",\"minorgridcolor\":\"white\",\"startlinecolor\":\"#2a3f5f\"},\"type\":\"carpet\"}],\"choropleth\":[{\"colorbar\":{\"outlinewidth\":0,\"ticks\":\"\"},\"type\":\"choropleth\"}],\"contourcarpet\":[{\"colorbar\":{\"outlinewidth\":0,\"ticks\":\"\"},\"type\":\"contourcarpet\"}],\"contour\":[{\"colorbar\":{\"outlinewidth\":0,\"ticks\":\"\"},\"colorscale\":[[0.0,\"#0d0887\"],[0.1111111111111111,\"#46039f\"],[0.2222222222222222,\"#7201a8\"],[0.3333333333333333,\"#9c179e\"],[0.4444444444444444,\"#bd3786\"],[0.5555555555555556,\"#d8576b\"],[0.6666666666666666,\"#ed7953\"],[0.7777777777777778,\"#fb9f3a\"],[0.8888888888888888,\"#fdca26\"],[1.0,\"#f0f921\"]],\"type\":\"contour\"}],\"heatmapgl\":[{\"colorbar\":{\"outlinewidth\":0,\"ticks\":\"\"},\"colorscale\":[[0.0,\"#0d0887\"],[0.1111111111111111,\"#46039f\"],[0.2222222222222222,\"#7201a8\"],[0.3333333333333333,\"#9c179e\"],[0.4444444444444444,\"#bd3786\"],[0.5555555555555556,\"#d8576b\"],[0.6666666666666666,\"#ed7953\"],[0.7777777777777778,\"#fb9f3a\"],[0.8888888888888888,\"#fdca26\"],[1.0,\"#f0f921\"]],\"type\":\"heatmapgl\"}],\"heatmap\":[{\"colorbar\":{\"outlinewidth\":0,\"ticks\":\"\"},\"colorscale\":[[0.0,\"#0d0887\"],[0.1111111111111111,\"#46039f\"],[0.2222222222222222,\"#7201a8\"],[0.3333333333333333,\"#9c179e\"],[0.4444444444444444,\"#bd3786\"],[0.5555555555555556,\"#d8576b\"],[0.6666666666666666,\"#ed7953\"],[0.7777777777777778,\"#fb9f3a\"],[0.8888888888888888,\"#fdca26\"],[1.0,\"#f0f921\"]],\"type\":\"heatmap\"}],\"histogram2dcontour\":[{\"colorbar\":{\"outlinewidth\":0,\"ticks\":\"\"},\"colorscale\":[[0.0,\"#0d0887\"],[0.1111111111111111,\"#46039f\"],[0.2222222222222222,\"#7201a8\"],[0.3333333333333333,\"#9c179e\"],[0.4444444444444444,\"#bd3786\"],[0.5555555555555556,\"#d8576b\"],[0.6666666666666666,\"#ed7953\"],[0.7777777777777778,\"#fb9f3a\"],[0.8888888888888888,\"#fdca26\"],[1.0,\"#f0f921\"]],\"type\":\"histogram2dcontour\"}],\"histogram2d\":[{\"colorbar\":{\"outlinewidth\":0,\"ticks\":\"\"},\"colorscale\":[[0.0,\"#0d0887\"],[0.1111111111111111,\"#46039f\"],[0.2222222222222222,\"#7201a8\"],[0.3333333333333333,\"#9c179e\"],[0.4444444444444444,\"#bd3786\"],[0.5555555555555556,\"#d8576b\"],[0.6666666666666666,\"#ed7953\"],[0.7777777777777778,\"#fb9f3a\"],[0.8888888888888888,\"#fdca26\"],[1.0,\"#f0f921\"]],\"type\":\"histogram2d\"}],\"histogram\":[{\"marker\":{\"pattern\":{\"fillmode\":\"overlay\",\"size\":10,\"solidity\":0.2}},\"type\":\"histogram\"}],\"mesh3d\":[{\"colorbar\":{\"outlinewidth\":0,\"ticks\":\"\"},\"type\":\"mesh3d\"}],\"parcoords\":[{\"line\":{\"colorbar\":{\"outlinewidth\":0,\"ticks\":\"\"}},\"type\":\"parcoords\"}],\"pie\":[{\"automargin\":true,\"type\":\"pie\"}],\"scatter3d\":[{\"line\":{\"colorbar\":{\"outlinewidth\":0,\"ticks\":\"\"}},\"marker\":{\"colorbar\":{\"outlinewidth\":0,\"ticks\":\"\"}},\"type\":\"scatter3d\"}],\"scattercarpet\":[{\"marker\":{\"colorbar\":{\"outlinewidth\":0,\"ticks\":\"\"}},\"type\":\"scattercarpet\"}],\"scattergeo\":[{\"marker\":{\"colorbar\":{\"outlinewidth\":0,\"ticks\":\"\"}},\"type\":\"scattergeo\"}],\"scattergl\":[{\"marker\":{\"colorbar\":{\"outlinewidth\":0,\"ticks\":\"\"}},\"type\":\"scattergl\"}],\"scattermapbox\":[{\"marker\":{\"colorbar\":{\"outlinewidth\":0,\"ticks\":\"\"}},\"type\":\"scattermapbox\"}],\"scatterpolargl\":[{\"marker\":{\"colorbar\":{\"outlinewidth\":0,\"ticks\":\"\"}},\"type\":\"scatterpolargl\"}],\"scatterpolar\":[{\"marker\":{\"colorbar\":{\"outlinewidth\":0,\"ticks\":\"\"}},\"type\":\"scatterpolar\"}],\"scatter\":[{\"fillpattern\":{\"fillmode\":\"overlay\",\"size\":10,\"solidity\":0.2},\"type\":\"scatter\"}],\"scatterternary\":[{\"marker\":{\"colorbar\":{\"outlinewidth\":0,\"ticks\":\"\"}},\"type\":\"scatterternary\"}],\"surface\":[{\"colorbar\":{\"outlinewidth\":0,\"ticks\":\"\"},\"colorscale\":[[0.0,\"#0d0887\"],[0.1111111111111111,\"#46039f\"],[0.2222222222222222,\"#7201a8\"],[0.3333333333333333,\"#9c179e\"],[0.4444444444444444,\"#bd3786\"],[0.5555555555555556,\"#d8576b\"],[0.6666666666666666,\"#ed7953\"],[0.7777777777777778,\"#fb9f3a\"],[0.8888888888888888,\"#fdca26\"],[1.0,\"#f0f921\"]],\"type\":\"surface\"}],\"table\":[{\"cells\":{\"fill\":{\"color\":\"#EBF0F8\"},\"line\":{\"color\":\"white\"}},\"header\":{\"fill\":{\"color\":\"#C8D4E3\"},\"line\":{\"color\":\"white\"}},\"type\":\"table\"}]},\"layout\":{\"annotationdefaults\":{\"arrowcolor\":\"#2a3f5f\",\"arrowhead\":0,\"arrowwidth\":1},\"autotypenumbers\":\"strict\",\"coloraxis\":{\"colorbar\":{\"outlinewidth\":0,\"ticks\":\"\"}},\"colorscale\":{\"diverging\":[[0,\"#8e0152\"],[0.1,\"#c51b7d\"],[0.2,\"#de77ae\"],[0.3,\"#f1b6da\"],[0.4,\"#fde0ef\"],[0.5,\"#f7f7f7\"],[0.6,\"#e6f5d0\"],[0.7,\"#b8e186\"],[0.8,\"#7fbc41\"],[0.9,\"#4d9221\"],[1,\"#276419\"]],\"sequential\":[[0.0,\"#0d0887\"],[0.1111111111111111,\"#46039f\"],[0.2222222222222222,\"#7201a8\"],[0.3333333333333333,\"#9c179e\"],[0.4444444444444444,\"#bd3786\"],[0.5555555555555556,\"#d8576b\"],[0.6666666666666666,\"#ed7953\"],[0.7777777777777778,\"#fb9f3a\"],[0.8888888888888888,\"#fdca26\"],[1.0,\"#f0f921\"]],\"sequentialminus\":[[0.0,\"#0d0887\"],[0.1111111111111111,\"#46039f\"],[0.2222222222222222,\"#7201a8\"],[0.3333333333333333,\"#9c179e\"],[0.4444444444444444,\"#bd3786\"],[0.5555555555555556,\"#d8576b\"],[0.6666666666666666,\"#ed7953\"],[0.7777777777777778,\"#fb9f3a\"],[0.8888888888888888,\"#fdca26\"],[1.0,\"#f0f921\"]]},\"colorway\":[\"#636efa\",\"#EF553B\",\"#00cc96\",\"#ab63fa\",\"#FFA15A\",\"#19d3f3\",\"#FF6692\",\"#B6E880\",\"#FF97FF\",\"#FECB52\"],\"font\":{\"color\":\"#2a3f5f\"},\"geo\":{\"bgcolor\":\"white\",\"lakecolor\":\"white\",\"landcolor\":\"#E5ECF6\",\"showlakes\":true,\"showland\":true,\"subunitcolor\":\"white\"},\"hoverlabel\":{\"align\":\"left\"},\"hovermode\":\"closest\",\"mapbox\":{\"style\":\"light\"},\"paper_bgcolor\":\"white\",\"plot_bgcolor\":\"#E5ECF6\",\"polar\":{\"angularaxis\":{\"gridcolor\":\"white\",\"linecolor\":\"white\",\"ticks\":\"\"},\"bgcolor\":\"#E5ECF6\",\"radialaxis\":{\"gridcolor\":\"white\",\"linecolor\":\"white\",\"ticks\":\"\"}},\"scene\":{\"xaxis\":{\"backgroundcolor\":\"#E5ECF6\",\"gridcolor\":\"white\",\"gridwidth\":2,\"linecolor\":\"white\",\"showbackground\":true,\"ticks\":\"\",\"zerolinecolor\":\"white\"},\"yaxis\":{\"backgroundcolor\":\"#E5ECF6\",\"gridcolor\":\"white\",\"gridwidth\":2,\"linecolor\":\"white\",\"showbackground\":true,\"ticks\":\"\",\"zerolinecolor\":\"white\"},\"zaxis\":{\"backgroundcolor\":\"#E5ECF6\",\"gridcolor\":\"white\",\"gridwidth\":2,\"linecolor\":\"white\",\"showbackground\":true,\"ticks\":\"\",\"zerolinecolor\":\"white\"}},\"shapedefaults\":{\"line\":{\"color\":\"#2a3f5f\"}},\"ternary\":{\"aaxis\":{\"gridcolor\":\"white\",\"linecolor\":\"white\",\"ticks\":\"\"},\"baxis\":{\"gridcolor\":\"white\",\"linecolor\":\"white\",\"ticks\":\"\"},\"bgcolor\":\"#E5ECF6\",\"caxis\":{\"gridcolor\":\"white\",\"linecolor\":\"white\",\"ticks\":\"\"}},\"title\":{\"x\":0.05},\"xaxis\":{\"automargin\":true,\"gridcolor\":\"white\",\"linecolor\":\"white\",\"ticks\":\"\",\"title\":{\"standoff\":15},\"zerolinecolor\":\"white\",\"zerolinewidth\":2},\"yaxis\":{\"automargin\":true,\"gridcolor\":\"white\",\"linecolor\":\"white\",\"ticks\":\"\",\"title\":{\"standoff\":15},\"zerolinecolor\":\"white\",\"zerolinewidth\":2}}},\"title\":{\"font\":{\"color\":\"#4D5663\"}},\"xaxis\":{\"gridcolor\":\"#E1E5ED\",\"showgrid\":true,\"tickfont\":{\"color\":\"#4D5663\"},\"title\":{\"font\":{\"color\":\"#4D5663\"},\"text\":\"\"},\"zerolinecolor\":\"#E1E5ED\"},\"yaxis\":{\"gridcolor\":\"#E1E5ED\",\"showgrid\":true,\"tickfont\":{\"color\":\"#4D5663\"},\"title\":{\"font\":{\"color\":\"#4D5663\"},\"text\":\"\"},\"zerolinecolor\":\"#E1E5ED\"}},                        {\"showLink\": true, \"linkText\": \"Export to plot.ly\", \"plotlyServerURL\": \"https://plot.ly\", \"responsive\": true}                    ).then(function(){\n",
       "                            \n",
       "var gd = document.getElementById('86b8d346-3d55-4665-bddd-c2f42aeb4e0d');\n",
       "var x = new MutationObserver(function (mutations, observer) {{\n",
       "        var display = window.getComputedStyle(gd).display;\n",
       "        if (!display || display === 'none') {{\n",
       "            console.log([gd, 'removed!']);\n",
       "            Plotly.purge(gd);\n",
       "            observer.disconnect();\n",
       "        }}\n",
       "}});\n",
       "\n",
       "// Listen for the removal of the full notebook cells\n",
       "var notebookContainer = gd.closest('#notebook-container');\n",
       "if (notebookContainer) {{\n",
       "    x.observe(notebookContainer, {childList: true});\n",
       "}}\n",
       "\n",
       "// Listen for the clearing of the current output cell\n",
       "var outputEl = gd.closest('.output');\n",
       "if (outputEl) {{\n",
       "    x.observe(outputEl, {childList: true});\n",
       "}}\n",
       "\n",
       "                        })                };                });            </script>        </div>"
      ]
     },
     "metadata": {},
     "output_type": "display_data"
    }
   ],
   "source": [
    "df3.iplot(kind='surface')"
   ]
  },
  {
   "cell_type": "code",
   "execution_count": 44,
   "id": "da4838dd",
   "metadata": {},
   "outputs": [],
   "source": [
    "df3=pd.DataFrame({'x':[1,2,3,4,5],'y':[10,20,30,20,10],'z':[5,4,3,2,1]} )"
   ]
  },
  {
   "cell_type": "code",
   "execution_count": 45,
   "id": "81ab48ce",
   "metadata": {},
   "outputs": [
    {
     "data": {
      "application/vnd.plotly.v1+json": {
       "config": {
        "linkText": "Export to plot.ly",
        "plotlyServerURL": "https://plot.ly",
        "showLink": true
       },
       "data": [
        {
         "colorscale": [
          [
           0,
           "rgb(255, 153, 51)"
          ],
          [
           0.1111111111111111,
           "rgb(55, 128, 191)"
          ],
          [
           0.2222222222222222,
           "rgb(50, 171, 96)"
          ],
          [
           0.3333333333333333,
           "rgb(128, 0, 128)"
          ],
          [
           0.4444444444444444,
           "rgb(219, 64, 82)"
          ],
          [
           0.5555555555555556,
           "rgb(0, 128, 128)"
          ],
          [
           0.6666666666666666,
           "rgb(255, 255, 51)"
          ],
          [
           0.7777777777777778,
           "rgb(128, 128, 0)"
          ],
          [
           0.8888888888888888,
           "rgb(251, 128, 114)"
          ],
          [
           1,
           "rgb(128, 177, 211)"
          ]
         ],
         "type": "surface",
         "x": [
          0,
          1,
          2,
          3,
          4
         ],
         "y": [
          "x",
          "y",
          "z"
         ],
         "z": [
          [
           1,
           2,
           3,
           4,
           5
          ],
          [
           10,
           20,
           30,
           20,
           10
          ],
          [
           5,
           4,
           3,
           2,
           1
          ]
         ]
        }
       ],
       "layout": {
        "legend": {
         "bgcolor": "#F5F6F9",
         "font": {
          "color": "#4D5663"
         }
        },
        "paper_bgcolor": "#F5F6F9",
        "plot_bgcolor": "#F5F6F9",
        "template": {
         "data": {
          "bar": [
           {
            "error_x": {
             "color": "#2a3f5f"
            },
            "error_y": {
             "color": "#2a3f5f"
            },
            "marker": {
             "line": {
              "color": "#E5ECF6",
              "width": 0.5
             },
             "pattern": {
              "fillmode": "overlay",
              "size": 10,
              "solidity": 0.2
             }
            },
            "type": "bar"
           }
          ],
          "barpolar": [
           {
            "marker": {
             "line": {
              "color": "#E5ECF6",
              "width": 0.5
             },
             "pattern": {
              "fillmode": "overlay",
              "size": 10,
              "solidity": 0.2
             }
            },
            "type": "barpolar"
           }
          ],
          "carpet": [
           {
            "aaxis": {
             "endlinecolor": "#2a3f5f",
             "gridcolor": "white",
             "linecolor": "white",
             "minorgridcolor": "white",
             "startlinecolor": "#2a3f5f"
            },
            "baxis": {
             "endlinecolor": "#2a3f5f",
             "gridcolor": "white",
             "linecolor": "white",
             "minorgridcolor": "white",
             "startlinecolor": "#2a3f5f"
            },
            "type": "carpet"
           }
          ],
          "choropleth": [
           {
            "colorbar": {
             "outlinewidth": 0,
             "ticks": ""
            },
            "type": "choropleth"
           }
          ],
          "contour": [
           {
            "colorbar": {
             "outlinewidth": 0,
             "ticks": ""
            },
            "colorscale": [
             [
              0,
              "#0d0887"
             ],
             [
              0.1111111111111111,
              "#46039f"
             ],
             [
              0.2222222222222222,
              "#7201a8"
             ],
             [
              0.3333333333333333,
              "#9c179e"
             ],
             [
              0.4444444444444444,
              "#bd3786"
             ],
             [
              0.5555555555555556,
              "#d8576b"
             ],
             [
              0.6666666666666666,
              "#ed7953"
             ],
             [
              0.7777777777777778,
              "#fb9f3a"
             ],
             [
              0.8888888888888888,
              "#fdca26"
             ],
             [
              1,
              "#f0f921"
             ]
            ],
            "type": "contour"
           }
          ],
          "contourcarpet": [
           {
            "colorbar": {
             "outlinewidth": 0,
             "ticks": ""
            },
            "type": "contourcarpet"
           }
          ],
          "heatmap": [
           {
            "colorbar": {
             "outlinewidth": 0,
             "ticks": ""
            },
            "colorscale": [
             [
              0,
              "#0d0887"
             ],
             [
              0.1111111111111111,
              "#46039f"
             ],
             [
              0.2222222222222222,
              "#7201a8"
             ],
             [
              0.3333333333333333,
              "#9c179e"
             ],
             [
              0.4444444444444444,
              "#bd3786"
             ],
             [
              0.5555555555555556,
              "#d8576b"
             ],
             [
              0.6666666666666666,
              "#ed7953"
             ],
             [
              0.7777777777777778,
              "#fb9f3a"
             ],
             [
              0.8888888888888888,
              "#fdca26"
             ],
             [
              1,
              "#f0f921"
             ]
            ],
            "type": "heatmap"
           }
          ],
          "heatmapgl": [
           {
            "colorbar": {
             "outlinewidth": 0,
             "ticks": ""
            },
            "colorscale": [
             [
              0,
              "#0d0887"
             ],
             [
              0.1111111111111111,
              "#46039f"
             ],
             [
              0.2222222222222222,
              "#7201a8"
             ],
             [
              0.3333333333333333,
              "#9c179e"
             ],
             [
              0.4444444444444444,
              "#bd3786"
             ],
             [
              0.5555555555555556,
              "#d8576b"
             ],
             [
              0.6666666666666666,
              "#ed7953"
             ],
             [
              0.7777777777777778,
              "#fb9f3a"
             ],
             [
              0.8888888888888888,
              "#fdca26"
             ],
             [
              1,
              "#f0f921"
             ]
            ],
            "type": "heatmapgl"
           }
          ],
          "histogram": [
           {
            "marker": {
             "pattern": {
              "fillmode": "overlay",
              "size": 10,
              "solidity": 0.2
             }
            },
            "type": "histogram"
           }
          ],
          "histogram2d": [
           {
            "colorbar": {
             "outlinewidth": 0,
             "ticks": ""
            },
            "colorscale": [
             [
              0,
              "#0d0887"
             ],
             [
              0.1111111111111111,
              "#46039f"
             ],
             [
              0.2222222222222222,
              "#7201a8"
             ],
             [
              0.3333333333333333,
              "#9c179e"
             ],
             [
              0.4444444444444444,
              "#bd3786"
             ],
             [
              0.5555555555555556,
              "#d8576b"
             ],
             [
              0.6666666666666666,
              "#ed7953"
             ],
             [
              0.7777777777777778,
              "#fb9f3a"
             ],
             [
              0.8888888888888888,
              "#fdca26"
             ],
             [
              1,
              "#f0f921"
             ]
            ],
            "type": "histogram2d"
           }
          ],
          "histogram2dcontour": [
           {
            "colorbar": {
             "outlinewidth": 0,
             "ticks": ""
            },
            "colorscale": [
             [
              0,
              "#0d0887"
             ],
             [
              0.1111111111111111,
              "#46039f"
             ],
             [
              0.2222222222222222,
              "#7201a8"
             ],
             [
              0.3333333333333333,
              "#9c179e"
             ],
             [
              0.4444444444444444,
              "#bd3786"
             ],
             [
              0.5555555555555556,
              "#d8576b"
             ],
             [
              0.6666666666666666,
              "#ed7953"
             ],
             [
              0.7777777777777778,
              "#fb9f3a"
             ],
             [
              0.8888888888888888,
              "#fdca26"
             ],
             [
              1,
              "#f0f921"
             ]
            ],
            "type": "histogram2dcontour"
           }
          ],
          "mesh3d": [
           {
            "colorbar": {
             "outlinewidth": 0,
             "ticks": ""
            },
            "type": "mesh3d"
           }
          ],
          "parcoords": [
           {
            "line": {
             "colorbar": {
              "outlinewidth": 0,
              "ticks": ""
             }
            },
            "type": "parcoords"
           }
          ],
          "pie": [
           {
            "automargin": true,
            "type": "pie"
           }
          ],
          "scatter": [
           {
            "fillpattern": {
             "fillmode": "overlay",
             "size": 10,
             "solidity": 0.2
            },
            "type": "scatter"
           }
          ],
          "scatter3d": [
           {
            "line": {
             "colorbar": {
              "outlinewidth": 0,
              "ticks": ""
             }
            },
            "marker": {
             "colorbar": {
              "outlinewidth": 0,
              "ticks": ""
             }
            },
            "type": "scatter3d"
           }
          ],
          "scattercarpet": [
           {
            "marker": {
             "colorbar": {
              "outlinewidth": 0,
              "ticks": ""
             }
            },
            "type": "scattercarpet"
           }
          ],
          "scattergeo": [
           {
            "marker": {
             "colorbar": {
              "outlinewidth": 0,
              "ticks": ""
             }
            },
            "type": "scattergeo"
           }
          ],
          "scattergl": [
           {
            "marker": {
             "colorbar": {
              "outlinewidth": 0,
              "ticks": ""
             }
            },
            "type": "scattergl"
           }
          ],
          "scattermapbox": [
           {
            "marker": {
             "colorbar": {
              "outlinewidth": 0,
              "ticks": ""
             }
            },
            "type": "scattermapbox"
           }
          ],
          "scatterpolar": [
           {
            "marker": {
             "colorbar": {
              "outlinewidth": 0,
              "ticks": ""
             }
            },
            "type": "scatterpolar"
           }
          ],
          "scatterpolargl": [
           {
            "marker": {
             "colorbar": {
              "outlinewidth": 0,
              "ticks": ""
             }
            },
            "type": "scatterpolargl"
           }
          ],
          "scatterternary": [
           {
            "marker": {
             "colorbar": {
              "outlinewidth": 0,
              "ticks": ""
             }
            },
            "type": "scatterternary"
           }
          ],
          "surface": [
           {
            "colorbar": {
             "outlinewidth": 0,
             "ticks": ""
            },
            "colorscale": [
             [
              0,
              "#0d0887"
             ],
             [
              0.1111111111111111,
              "#46039f"
             ],
             [
              0.2222222222222222,
              "#7201a8"
             ],
             [
              0.3333333333333333,
              "#9c179e"
             ],
             [
              0.4444444444444444,
              "#bd3786"
             ],
             [
              0.5555555555555556,
              "#d8576b"
             ],
             [
              0.6666666666666666,
              "#ed7953"
             ],
             [
              0.7777777777777778,
              "#fb9f3a"
             ],
             [
              0.8888888888888888,
              "#fdca26"
             ],
             [
              1,
              "#f0f921"
             ]
            ],
            "type": "surface"
           }
          ],
          "table": [
           {
            "cells": {
             "fill": {
              "color": "#EBF0F8"
             },
             "line": {
              "color": "white"
             }
            },
            "header": {
             "fill": {
              "color": "#C8D4E3"
             },
             "line": {
              "color": "white"
             }
            },
            "type": "table"
           }
          ]
         },
         "layout": {
          "annotationdefaults": {
           "arrowcolor": "#2a3f5f",
           "arrowhead": 0,
           "arrowwidth": 1
          },
          "autotypenumbers": "strict",
          "coloraxis": {
           "colorbar": {
            "outlinewidth": 0,
            "ticks": ""
           }
          },
          "colorscale": {
           "diverging": [
            [
             0,
             "#8e0152"
            ],
            [
             0.1,
             "#c51b7d"
            ],
            [
             0.2,
             "#de77ae"
            ],
            [
             0.3,
             "#f1b6da"
            ],
            [
             0.4,
             "#fde0ef"
            ],
            [
             0.5,
             "#f7f7f7"
            ],
            [
             0.6,
             "#e6f5d0"
            ],
            [
             0.7,
             "#b8e186"
            ],
            [
             0.8,
             "#7fbc41"
            ],
            [
             0.9,
             "#4d9221"
            ],
            [
             1,
             "#276419"
            ]
           ],
           "sequential": [
            [
             0,
             "#0d0887"
            ],
            [
             0.1111111111111111,
             "#46039f"
            ],
            [
             0.2222222222222222,
             "#7201a8"
            ],
            [
             0.3333333333333333,
             "#9c179e"
            ],
            [
             0.4444444444444444,
             "#bd3786"
            ],
            [
             0.5555555555555556,
             "#d8576b"
            ],
            [
             0.6666666666666666,
             "#ed7953"
            ],
            [
             0.7777777777777778,
             "#fb9f3a"
            ],
            [
             0.8888888888888888,
             "#fdca26"
            ],
            [
             1,
             "#f0f921"
            ]
           ],
           "sequentialminus": [
            [
             0,
             "#0d0887"
            ],
            [
             0.1111111111111111,
             "#46039f"
            ],
            [
             0.2222222222222222,
             "#7201a8"
            ],
            [
             0.3333333333333333,
             "#9c179e"
            ],
            [
             0.4444444444444444,
             "#bd3786"
            ],
            [
             0.5555555555555556,
             "#d8576b"
            ],
            [
             0.6666666666666666,
             "#ed7953"
            ],
            [
             0.7777777777777778,
             "#fb9f3a"
            ],
            [
             0.8888888888888888,
             "#fdca26"
            ],
            [
             1,
             "#f0f921"
            ]
           ]
          },
          "colorway": [
           "#636efa",
           "#EF553B",
           "#00cc96",
           "#ab63fa",
           "#FFA15A",
           "#19d3f3",
           "#FF6692",
           "#B6E880",
           "#FF97FF",
           "#FECB52"
          ],
          "font": {
           "color": "#2a3f5f"
          },
          "geo": {
           "bgcolor": "white",
           "lakecolor": "white",
           "landcolor": "#E5ECF6",
           "showlakes": true,
           "showland": true,
           "subunitcolor": "white"
          },
          "hoverlabel": {
           "align": "left"
          },
          "hovermode": "closest",
          "mapbox": {
           "style": "light"
          },
          "paper_bgcolor": "white",
          "plot_bgcolor": "#E5ECF6",
          "polar": {
           "angularaxis": {
            "gridcolor": "white",
            "linecolor": "white",
            "ticks": ""
           },
           "bgcolor": "#E5ECF6",
           "radialaxis": {
            "gridcolor": "white",
            "linecolor": "white",
            "ticks": ""
           }
          },
          "scene": {
           "xaxis": {
            "backgroundcolor": "#E5ECF6",
            "gridcolor": "white",
            "gridwidth": 2,
            "linecolor": "white",
            "showbackground": true,
            "ticks": "",
            "zerolinecolor": "white"
           },
           "yaxis": {
            "backgroundcolor": "#E5ECF6",
            "gridcolor": "white",
            "gridwidth": 2,
            "linecolor": "white",
            "showbackground": true,
            "ticks": "",
            "zerolinecolor": "white"
           },
           "zaxis": {
            "backgroundcolor": "#E5ECF6",
            "gridcolor": "white",
            "gridwidth": 2,
            "linecolor": "white",
            "showbackground": true,
            "ticks": "",
            "zerolinecolor": "white"
           }
          },
          "shapedefaults": {
           "line": {
            "color": "#2a3f5f"
           }
          },
          "ternary": {
           "aaxis": {
            "gridcolor": "white",
            "linecolor": "white",
            "ticks": ""
           },
           "baxis": {
            "gridcolor": "white",
            "linecolor": "white",
            "ticks": ""
           },
           "bgcolor": "#E5ECF6",
           "caxis": {
            "gridcolor": "white",
            "linecolor": "white",
            "ticks": ""
           }
          },
          "title": {
           "x": 0.05
          },
          "xaxis": {
           "automargin": true,
           "gridcolor": "white",
           "linecolor": "white",
           "ticks": "",
           "title": {
            "standoff": 15
           },
           "zerolinecolor": "white",
           "zerolinewidth": 2
          },
          "yaxis": {
           "automargin": true,
           "gridcolor": "white",
           "linecolor": "white",
           "ticks": "",
           "title": {
            "standoff": 15
           },
           "zerolinecolor": "white",
           "zerolinewidth": 2
          }
         }
        },
        "title": {
         "font": {
          "color": "#4D5663"
         }
        },
        "xaxis": {
         "gridcolor": "#E1E5ED",
         "showgrid": true,
         "tickfont": {
          "color": "#4D5663"
         },
         "title": {
          "font": {
           "color": "#4D5663"
          },
          "text": ""
         },
         "zerolinecolor": "#E1E5ED"
        },
        "yaxis": {
         "gridcolor": "#E1E5ED",
         "showgrid": true,
         "tickfont": {
          "color": "#4D5663"
         },
         "title": {
          "font": {
           "color": "#4D5663"
          },
          "text": ""
         },
         "zerolinecolor": "#E1E5ED"
        }
       }
      },
      "text/html": [
       "<div>                            <div id=\"cf8f668e-20c8-468a-b465-eac16ec94233\" class=\"plotly-graph-div\" style=\"height:525px; width:100%;\"></div>            <script type=\"text/javascript\">                require([\"plotly\"], function(Plotly) {                    window.PLOTLYENV=window.PLOTLYENV || {};\n",
       "                    window.PLOTLYENV.BASE_URL='https://plot.ly';                                    if (document.getElementById(\"cf8f668e-20c8-468a-b465-eac16ec94233\")) {                    Plotly.newPlot(                        \"cf8f668e-20c8-468a-b465-eac16ec94233\",                        [{\"colorscale\":[[0.0,\"rgb(255, 153, 51)\"],[0.1111111111111111,\"rgb(55, 128, 191)\"],[0.2222222222222222,\"rgb(50, 171, 96)\"],[0.3333333333333333,\"rgb(128, 0, 128)\"],[0.4444444444444444,\"rgb(219, 64, 82)\"],[0.5555555555555556,\"rgb(0, 128, 128)\"],[0.6666666666666666,\"rgb(255, 255, 51)\"],[0.7777777777777778,\"rgb(128, 128, 0)\"],[0.8888888888888888,\"rgb(251, 128, 114)\"],[1.0,\"rgb(128, 177, 211)\"]],\"x\":[0,1,2,3,4],\"y\":[\"x\",\"y\",\"z\"],\"z\":[[1,2,3,4,5],[10,20,30,20,10],[5,4,3,2,1]],\"type\":\"surface\"}],                        {\"legend\":{\"bgcolor\":\"#F5F6F9\",\"font\":{\"color\":\"#4D5663\"}},\"paper_bgcolor\":\"#F5F6F9\",\"plot_bgcolor\":\"#F5F6F9\",\"template\":{\"data\":{\"barpolar\":[{\"marker\":{\"line\":{\"color\":\"#E5ECF6\",\"width\":0.5},\"pattern\":{\"fillmode\":\"overlay\",\"size\":10,\"solidity\":0.2}},\"type\":\"barpolar\"}],\"bar\":[{\"error_x\":{\"color\":\"#2a3f5f\"},\"error_y\":{\"color\":\"#2a3f5f\"},\"marker\":{\"line\":{\"color\":\"#E5ECF6\",\"width\":0.5},\"pattern\":{\"fillmode\":\"overlay\",\"size\":10,\"solidity\":0.2}},\"type\":\"bar\"}],\"carpet\":[{\"aaxis\":{\"endlinecolor\":\"#2a3f5f\",\"gridcolor\":\"white\",\"linecolor\":\"white\",\"minorgridcolor\":\"white\",\"startlinecolor\":\"#2a3f5f\"},\"baxis\":{\"endlinecolor\":\"#2a3f5f\",\"gridcolor\":\"white\",\"linecolor\":\"white\",\"minorgridcolor\":\"white\",\"startlinecolor\":\"#2a3f5f\"},\"type\":\"carpet\"}],\"choropleth\":[{\"colorbar\":{\"outlinewidth\":0,\"ticks\":\"\"},\"type\":\"choropleth\"}],\"contourcarpet\":[{\"colorbar\":{\"outlinewidth\":0,\"ticks\":\"\"},\"type\":\"contourcarpet\"}],\"contour\":[{\"colorbar\":{\"outlinewidth\":0,\"ticks\":\"\"},\"colorscale\":[[0.0,\"#0d0887\"],[0.1111111111111111,\"#46039f\"],[0.2222222222222222,\"#7201a8\"],[0.3333333333333333,\"#9c179e\"],[0.4444444444444444,\"#bd3786\"],[0.5555555555555556,\"#d8576b\"],[0.6666666666666666,\"#ed7953\"],[0.7777777777777778,\"#fb9f3a\"],[0.8888888888888888,\"#fdca26\"],[1.0,\"#f0f921\"]],\"type\":\"contour\"}],\"heatmapgl\":[{\"colorbar\":{\"outlinewidth\":0,\"ticks\":\"\"},\"colorscale\":[[0.0,\"#0d0887\"],[0.1111111111111111,\"#46039f\"],[0.2222222222222222,\"#7201a8\"],[0.3333333333333333,\"#9c179e\"],[0.4444444444444444,\"#bd3786\"],[0.5555555555555556,\"#d8576b\"],[0.6666666666666666,\"#ed7953\"],[0.7777777777777778,\"#fb9f3a\"],[0.8888888888888888,\"#fdca26\"],[1.0,\"#f0f921\"]],\"type\":\"heatmapgl\"}],\"heatmap\":[{\"colorbar\":{\"outlinewidth\":0,\"ticks\":\"\"},\"colorscale\":[[0.0,\"#0d0887\"],[0.1111111111111111,\"#46039f\"],[0.2222222222222222,\"#7201a8\"],[0.3333333333333333,\"#9c179e\"],[0.4444444444444444,\"#bd3786\"],[0.5555555555555556,\"#d8576b\"],[0.6666666666666666,\"#ed7953\"],[0.7777777777777778,\"#fb9f3a\"],[0.8888888888888888,\"#fdca26\"],[1.0,\"#f0f921\"]],\"type\":\"heatmap\"}],\"histogram2dcontour\":[{\"colorbar\":{\"outlinewidth\":0,\"ticks\":\"\"},\"colorscale\":[[0.0,\"#0d0887\"],[0.1111111111111111,\"#46039f\"],[0.2222222222222222,\"#7201a8\"],[0.3333333333333333,\"#9c179e\"],[0.4444444444444444,\"#bd3786\"],[0.5555555555555556,\"#d8576b\"],[0.6666666666666666,\"#ed7953\"],[0.7777777777777778,\"#fb9f3a\"],[0.8888888888888888,\"#fdca26\"],[1.0,\"#f0f921\"]],\"type\":\"histogram2dcontour\"}],\"histogram2d\":[{\"colorbar\":{\"outlinewidth\":0,\"ticks\":\"\"},\"colorscale\":[[0.0,\"#0d0887\"],[0.1111111111111111,\"#46039f\"],[0.2222222222222222,\"#7201a8\"],[0.3333333333333333,\"#9c179e\"],[0.4444444444444444,\"#bd3786\"],[0.5555555555555556,\"#d8576b\"],[0.6666666666666666,\"#ed7953\"],[0.7777777777777778,\"#fb9f3a\"],[0.8888888888888888,\"#fdca26\"],[1.0,\"#f0f921\"]],\"type\":\"histogram2d\"}],\"histogram\":[{\"marker\":{\"pattern\":{\"fillmode\":\"overlay\",\"size\":10,\"solidity\":0.2}},\"type\":\"histogram\"}],\"mesh3d\":[{\"colorbar\":{\"outlinewidth\":0,\"ticks\":\"\"},\"type\":\"mesh3d\"}],\"parcoords\":[{\"line\":{\"colorbar\":{\"outlinewidth\":0,\"ticks\":\"\"}},\"type\":\"parcoords\"}],\"pie\":[{\"automargin\":true,\"type\":\"pie\"}],\"scatter3d\":[{\"line\":{\"colorbar\":{\"outlinewidth\":0,\"ticks\":\"\"}},\"marker\":{\"colorbar\":{\"outlinewidth\":0,\"ticks\":\"\"}},\"type\":\"scatter3d\"}],\"scattercarpet\":[{\"marker\":{\"colorbar\":{\"outlinewidth\":0,\"ticks\":\"\"}},\"type\":\"scattercarpet\"}],\"scattergeo\":[{\"marker\":{\"colorbar\":{\"outlinewidth\":0,\"ticks\":\"\"}},\"type\":\"scattergeo\"}],\"scattergl\":[{\"marker\":{\"colorbar\":{\"outlinewidth\":0,\"ticks\":\"\"}},\"type\":\"scattergl\"}],\"scattermapbox\":[{\"marker\":{\"colorbar\":{\"outlinewidth\":0,\"ticks\":\"\"}},\"type\":\"scattermapbox\"}],\"scatterpolargl\":[{\"marker\":{\"colorbar\":{\"outlinewidth\":0,\"ticks\":\"\"}},\"type\":\"scatterpolargl\"}],\"scatterpolar\":[{\"marker\":{\"colorbar\":{\"outlinewidth\":0,\"ticks\":\"\"}},\"type\":\"scatterpolar\"}],\"scatter\":[{\"fillpattern\":{\"fillmode\":\"overlay\",\"size\":10,\"solidity\":0.2},\"type\":\"scatter\"}],\"scatterternary\":[{\"marker\":{\"colorbar\":{\"outlinewidth\":0,\"ticks\":\"\"}},\"type\":\"scatterternary\"}],\"surface\":[{\"colorbar\":{\"outlinewidth\":0,\"ticks\":\"\"},\"colorscale\":[[0.0,\"#0d0887\"],[0.1111111111111111,\"#46039f\"],[0.2222222222222222,\"#7201a8\"],[0.3333333333333333,\"#9c179e\"],[0.4444444444444444,\"#bd3786\"],[0.5555555555555556,\"#d8576b\"],[0.6666666666666666,\"#ed7953\"],[0.7777777777777778,\"#fb9f3a\"],[0.8888888888888888,\"#fdca26\"],[1.0,\"#f0f921\"]],\"type\":\"surface\"}],\"table\":[{\"cells\":{\"fill\":{\"color\":\"#EBF0F8\"},\"line\":{\"color\":\"white\"}},\"header\":{\"fill\":{\"color\":\"#C8D4E3\"},\"line\":{\"color\":\"white\"}},\"type\":\"table\"}]},\"layout\":{\"annotationdefaults\":{\"arrowcolor\":\"#2a3f5f\",\"arrowhead\":0,\"arrowwidth\":1},\"autotypenumbers\":\"strict\",\"coloraxis\":{\"colorbar\":{\"outlinewidth\":0,\"ticks\":\"\"}},\"colorscale\":{\"diverging\":[[0,\"#8e0152\"],[0.1,\"#c51b7d\"],[0.2,\"#de77ae\"],[0.3,\"#f1b6da\"],[0.4,\"#fde0ef\"],[0.5,\"#f7f7f7\"],[0.6,\"#e6f5d0\"],[0.7,\"#b8e186\"],[0.8,\"#7fbc41\"],[0.9,\"#4d9221\"],[1,\"#276419\"]],\"sequential\":[[0.0,\"#0d0887\"],[0.1111111111111111,\"#46039f\"],[0.2222222222222222,\"#7201a8\"],[0.3333333333333333,\"#9c179e\"],[0.4444444444444444,\"#bd3786\"],[0.5555555555555556,\"#d8576b\"],[0.6666666666666666,\"#ed7953\"],[0.7777777777777778,\"#fb9f3a\"],[0.8888888888888888,\"#fdca26\"],[1.0,\"#f0f921\"]],\"sequentialminus\":[[0.0,\"#0d0887\"],[0.1111111111111111,\"#46039f\"],[0.2222222222222222,\"#7201a8\"],[0.3333333333333333,\"#9c179e\"],[0.4444444444444444,\"#bd3786\"],[0.5555555555555556,\"#d8576b\"],[0.6666666666666666,\"#ed7953\"],[0.7777777777777778,\"#fb9f3a\"],[0.8888888888888888,\"#fdca26\"],[1.0,\"#f0f921\"]]},\"colorway\":[\"#636efa\",\"#EF553B\",\"#00cc96\",\"#ab63fa\",\"#FFA15A\",\"#19d3f3\",\"#FF6692\",\"#B6E880\",\"#FF97FF\",\"#FECB52\"],\"font\":{\"color\":\"#2a3f5f\"},\"geo\":{\"bgcolor\":\"white\",\"lakecolor\":\"white\",\"landcolor\":\"#E5ECF6\",\"showlakes\":true,\"showland\":true,\"subunitcolor\":\"white\"},\"hoverlabel\":{\"align\":\"left\"},\"hovermode\":\"closest\",\"mapbox\":{\"style\":\"light\"},\"paper_bgcolor\":\"white\",\"plot_bgcolor\":\"#E5ECF6\",\"polar\":{\"angularaxis\":{\"gridcolor\":\"white\",\"linecolor\":\"white\",\"ticks\":\"\"},\"bgcolor\":\"#E5ECF6\",\"radialaxis\":{\"gridcolor\":\"white\",\"linecolor\":\"white\",\"ticks\":\"\"}},\"scene\":{\"xaxis\":{\"backgroundcolor\":\"#E5ECF6\",\"gridcolor\":\"white\",\"gridwidth\":2,\"linecolor\":\"white\",\"showbackground\":true,\"ticks\":\"\",\"zerolinecolor\":\"white\"},\"yaxis\":{\"backgroundcolor\":\"#E5ECF6\",\"gridcolor\":\"white\",\"gridwidth\":2,\"linecolor\":\"white\",\"showbackground\":true,\"ticks\":\"\",\"zerolinecolor\":\"white\"},\"zaxis\":{\"backgroundcolor\":\"#E5ECF6\",\"gridcolor\":\"white\",\"gridwidth\":2,\"linecolor\":\"white\",\"showbackground\":true,\"ticks\":\"\",\"zerolinecolor\":\"white\"}},\"shapedefaults\":{\"line\":{\"color\":\"#2a3f5f\"}},\"ternary\":{\"aaxis\":{\"gridcolor\":\"white\",\"linecolor\":\"white\",\"ticks\":\"\"},\"baxis\":{\"gridcolor\":\"white\",\"linecolor\":\"white\",\"ticks\":\"\"},\"bgcolor\":\"#E5ECF6\",\"caxis\":{\"gridcolor\":\"white\",\"linecolor\":\"white\",\"ticks\":\"\"}},\"title\":{\"x\":0.05},\"xaxis\":{\"automargin\":true,\"gridcolor\":\"white\",\"linecolor\":\"white\",\"ticks\":\"\",\"title\":{\"standoff\":15},\"zerolinecolor\":\"white\",\"zerolinewidth\":2},\"yaxis\":{\"automargin\":true,\"gridcolor\":\"white\",\"linecolor\":\"white\",\"ticks\":\"\",\"title\":{\"standoff\":15},\"zerolinecolor\":\"white\",\"zerolinewidth\":2}}},\"title\":{\"font\":{\"color\":\"#4D5663\"}},\"xaxis\":{\"gridcolor\":\"#E1E5ED\",\"showgrid\":true,\"tickfont\":{\"color\":\"#4D5663\"},\"title\":{\"font\":{\"color\":\"#4D5663\"},\"text\":\"\"},\"zerolinecolor\":\"#E1E5ED\"},\"yaxis\":{\"gridcolor\":\"#E1E5ED\",\"showgrid\":true,\"tickfont\":{\"color\":\"#4D5663\"},\"title\":{\"font\":{\"color\":\"#4D5663\"},\"text\":\"\"},\"zerolinecolor\":\"#E1E5ED\"}},                        {\"showLink\": true, \"linkText\": \"Export to plot.ly\", \"plotlyServerURL\": \"https://plot.ly\", \"responsive\": true}                    ).then(function(){\n",
       "                            \n",
       "var gd = document.getElementById('cf8f668e-20c8-468a-b465-eac16ec94233');\n",
       "var x = new MutationObserver(function (mutations, observer) {{\n",
       "        var display = window.getComputedStyle(gd).display;\n",
       "        if (!display || display === 'none') {{\n",
       "            console.log([gd, 'removed!']);\n",
       "            Plotly.purge(gd);\n",
       "            observer.disconnect();\n",
       "        }}\n",
       "}});\n",
       "\n",
       "// Listen for the removal of the full notebook cells\n",
       "var notebookContainer = gd.closest('#notebook-container');\n",
       "if (notebookContainer) {{\n",
       "    x.observe(notebookContainer, {childList: true});\n",
       "}}\n",
       "\n",
       "// Listen for the clearing of the current output cell\n",
       "var outputEl = gd.closest('.output');\n",
       "if (outputEl) {{\n",
       "    x.observe(outputEl, {childList: true});\n",
       "}}\n",
       "\n",
       "                        })                };                });            </script>        </div>"
      ]
     },
     "metadata": {},
     "output_type": "display_data"
    }
   ],
   "source": [
    "df3.iplot(kind='surface')"
   ]
  },
  {
   "cell_type": "code",
   "execution_count": null,
   "id": "68b12d23",
   "metadata": {},
   "outputs": [],
   "source": []
  }
 ],
 "metadata": {
  "kernelspec": {
   "display_name": "Python 3 (ipykernel)",
   "language": "python",
   "name": "python3"
  },
  "language_info": {
   "codemirror_mode": {
    "name": "ipython",
    "version": 3
   },
   "file_extension": ".py",
   "mimetype": "text/x-python",
   "name": "python",
   "nbconvert_exporter": "python",
   "pygments_lexer": "ipython3",
   "version": "3.10.9"
  }
 },
 "nbformat": 4,
 "nbformat_minor": 5
}
