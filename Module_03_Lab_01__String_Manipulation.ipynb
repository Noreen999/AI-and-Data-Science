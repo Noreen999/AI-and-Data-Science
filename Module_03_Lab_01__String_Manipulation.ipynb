{
  "cells": [
    {
      "cell_type": "markdown",
      "metadata": {
        "id": "view-in-github",
        "colab_type": "text"
      },
      "source": [
        "<a href=\"https://colab.research.google.com/github/Noreen999/AI-and-Data-Science/blob/main/Module_03_Lab_01__String_Manipulation.ipynb\" target=\"_parent\"><img src=\"https://colab.research.google.com/assets/colab-badge.svg\" alt=\"Open In Colab\"/></a>"
      ]
    },
    {
      "cell_type": "markdown",
      "id": "1661026e",
      "metadata": {
        "id": "1661026e"
      },
      "source": [
        "#  String Manipulation"
      ]
    },
    {
      "cell_type": "markdown",
      "id": "aa8ad28e",
      "metadata": {
        "id": "aa8ad28e"
      },
      "source": [
        "## 1. String Object Methods\n",
        "As an example, a comma-separated string can be broken into pieces with split."
      ]
    },
    {
      "cell_type": "code",
      "execution_count": null,
      "id": "c3c54e06",
      "metadata": {
        "id": "c3c54e06"
      },
      "outputs": [],
      "source": [
        " val = 'a,b,  lerning'"
      ]
    },
    {
      "cell_type": "code",
      "execution_count": null,
      "id": "775dca14",
      "metadata": {
        "id": "775dca14",
        "outputId": "06e1fc3e-7d72-411b-dc96-f475f60a4669"
      },
      "outputs": [
        {
          "data": {
            "text/plain": [
              "['a,b,', 'lerning']"
            ]
          },
          "execution_count": 3,
          "metadata": {},
          "output_type": "execute_result"
        }
      ],
      "source": [
        "#split\n",
        "val.split()"
      ]
    },
    {
      "cell_type": "code",
      "execution_count": null,
      "id": "4b1290da",
      "metadata": {
        "id": "4b1290da",
        "outputId": "dd9f28b6-f278-45d4-e91e-cf4f6269aea9"
      },
      "outputs": [
        {
          "data": {
            "text/plain": [
              "['a', 'b', '  lerning']"
            ]
          },
          "execution_count": 4,
          "metadata": {},
          "output_type": "execute_result"
        }
      ],
      "source": [
        "val.split(',')"
      ]
    },
    {
      "cell_type": "markdown",
      "id": "61db8a5b",
      "metadata": {
        "id": "61db8a5b"
      },
      "source": [
        "split is often combined with strip to trim whitespace (including line breaks)"
      ]
    },
    {
      "cell_type": "code",
      "execution_count": null,
      "id": "b631f3cd",
      "metadata": {
        "id": "b631f3cd"
      },
      "outputs": [],
      "source": [
        "pieces = [x.strip() for x in val.split(',')]"
      ]
    },
    {
      "cell_type": "code",
      "execution_count": null,
      "id": "7e4e76cb",
      "metadata": {
        "id": "7e4e76cb",
        "outputId": "e054a610-e47c-4f5e-aa3a-81092c0a0bb0"
      },
      "outputs": [
        {
          "data": {
            "text/plain": [
              "['a', 'b', 'lerning']"
            ]
          },
          "execution_count": 7,
          "metadata": {},
          "output_type": "execute_result"
        }
      ],
      "source": [
        "pieces"
      ]
    },
    {
      "cell_type": "markdown",
      "id": "ed6807c2",
      "metadata": {
        "id": "ed6807c2"
      },
      "source": [
        "These substrings could be concatenated together with a two-colon delimiter using addition."
      ]
    },
    {
      "cell_type": "code",
      "execution_count": null,
      "id": "c553dd0e",
      "metadata": {
        "id": "c553dd0e",
        "outputId": "ef17b85f-ff4c-404d-8d7f-91688f797073"
      },
      "outputs": [
        {
          "data": {
            "text/plain": [
              "'a::b::lerning'"
            ]
          },
          "execution_count": 9,
          "metadata": {},
          "output_type": "execute_result"
        }
      ],
      "source": [
        "first, second, third = pieces\n",
        "first + '::' + second + '::' + third"
      ]
    },
    {
      "cell_type": "markdown",
      "id": "bd1bbdda",
      "metadata": {
        "id": "bd1bbdda"
      },
      "source": [
        "But this isn’t a practical generic method. A faster and more Pythonic way is to pass a list or tuple to the join method on the string '::'."
      ]
    },
    {
      "cell_type": "code",
      "execution_count": null,
      "id": "bf2d6b8e",
      "metadata": {
        "id": "bf2d6b8e",
        "outputId": "fd65bdbc-0298-4d80-ac58-a57ddf1d03fc"
      },
      "outputs": [
        {
          "data": {
            "text/plain": [
              "'a::b::lerning'"
            ]
          },
          "execution_count": 11,
          "metadata": {},
          "output_type": "execute_result"
        }
      ],
      "source": [
        " '::'.join(pieces)"
      ]
    },
    {
      "cell_type": "markdown",
      "id": "b4181322",
      "metadata": {
        "id": "b4181322"
      },
      "source": [
        "Other methods are concerned with locating substrings. Using Python’s in keyword is the best way to detect a substring, though index and find can also be used:"
      ]
    },
    {
      "cell_type": "code",
      "execution_count": null,
      "id": "514c2415",
      "metadata": {
        "id": "514c2415",
        "outputId": "40b8846b-8bda-45fc-d54d-9b7f5491c934"
      },
      "outputs": [
        {
          "data": {
            "text/plain": [
              "True"
            ]
          },
          "execution_count": 12,
          "metadata": {},
          "output_type": "execute_result"
        }
      ],
      "source": [
        "'lerning'in val"
      ]
    },
    {
      "cell_type": "code",
      "execution_count": null,
      "id": "37c1f64a",
      "metadata": {
        "id": "37c1f64a",
        "outputId": "94c2fd75-0100-48c2-e5ad-375b1ae215fd"
      },
      "outputs": [
        {
          "data": {
            "text/plain": [
              "1"
            ]
          },
          "execution_count": 13,
          "metadata": {},
          "output_type": "execute_result"
        }
      ],
      "source": [
        "val.index(',')"
      ]
    },
    {
      "cell_type": "code",
      "execution_count": null,
      "id": "1e311e90",
      "metadata": {
        "id": "1e311e90",
        "outputId": "4441ad87-cb76-447b-e7e1-c476a2fee4ec"
      },
      "outputs": [
        {
          "data": {
            "text/plain": [
              "-1"
            ]
          },
          "execution_count": 15,
          "metadata": {},
          "output_type": "execute_result"
        }
      ],
      "source": [
        "val.find(':')"
      ]
    },
    {
      "cell_type": "markdown",
      "id": "ac41ae4a",
      "metadata": {
        "id": "ac41ae4a"
      },
      "source": [
        "Note the difference between find and index is that index raises an exception if the string isn’t found (versus returning –1)."
      ]
    },
    {
      "cell_type": "markdown",
      "id": "71b87881",
      "metadata": {
        "id": "71b87881"
      },
      "source": [
        "Replace will substitute occurrences of one pattern for another. It is commonly used to delete patterns, too, by passing an empty string."
      ]
    },
    {
      "cell_type": "code",
      "execution_count": null,
      "id": "89125d88",
      "metadata": {
        "id": "89125d88",
        "outputId": "73a01e27-7444-4a1c-9157-57c538b2773b"
      },
      "outputs": [
        {
          "data": {
            "text/plain": [
              "'a::b::  lerning'"
            ]
          },
          "execution_count": 16,
          "metadata": {},
          "output_type": "execute_result"
        }
      ],
      "source": [
        " val.replace(',', '::')"
      ]
    },
    {
      "cell_type": "code",
      "execution_count": null,
      "id": "9ab2a0d5",
      "metadata": {
        "id": "9ab2a0d5",
        "outputId": "8716735e-8a6f-4a01-a218-0c89ec6ef49d"
      },
      "outputs": [
        {
          "data": {
            "text/plain": [
              "'ab  lerning'"
            ]
          },
          "execution_count": 17,
          "metadata": {},
          "output_type": "execute_result"
        }
      ],
      "source": [
        " val.replace(',', '')"
      ]
    },
    {
      "cell_type": "markdown",
      "id": "7cdd14df",
      "metadata": {
        "id": "7cdd14df"
      },
      "source": [
        "## 2. Regular Expressions\n",
        "suppose we wanted to split a string with a variable number of whitespace characters (tabs, spaces, and newlines). The regex describing one or more whitespace characters is \\s+:"
      ]
    },
    {
      "cell_type": "code",
      "execution_count": null,
      "id": "e8fc23b1",
      "metadata": {
        "id": "e8fc23b1"
      },
      "outputs": [],
      "source": [
        "import re\n",
        "text = \"foo    bar\\t baz  \\tqux\""
      ]
    },
    {
      "cell_type": "code",
      "execution_count": null,
      "id": "1d8d580a",
      "metadata": {
        "id": "1d8d580a",
        "outputId": "4767d99b-b756-4434-fed2-624898274637"
      },
      "outputs": [
        {
          "data": {
            "text/plain": [
              "'foo    bar\\t baz  \\tqux'"
            ]
          },
          "execution_count": 19,
          "metadata": {},
          "output_type": "execute_result"
        }
      ],
      "source": [
        "text"
      ]
    },
    {
      "cell_type": "code",
      "execution_count": null,
      "id": "7bdd8ec2",
      "metadata": {
        "id": "7bdd8ec2",
        "outputId": "8c5da927-8a86-45e9-fd5c-15120f61f605"
      },
      "outputs": [
        {
          "data": {
            "text/plain": [
              "['foo', 'bar', 'baz', 'qux']"
            ]
          },
          "execution_count": 20,
          "metadata": {},
          "output_type": "execute_result"
        }
      ],
      "source": [
        " re.split('\\s+', text)"
      ]
    },
    {
      "cell_type": "markdown",
      "id": "5cc59a9e",
      "metadata": {
        "id": "5cc59a9e"
      },
      "source": [
        "When you call re.split('\\s+', text), the regular expression is first compiled, and then its split method is called on the passed text. You can compile the regex yourself with re.compile, forming a reusable regex object."
      ]
    },
    {
      "cell_type": "code",
      "execution_count": null,
      "id": "8e1673f8",
      "metadata": {
        "id": "8e1673f8",
        "outputId": "0911935d-65a2-4fcb-d189-9b1b3804a013"
      },
      "outputs": [
        {
          "data": {
            "text/plain": [
              "['foo', 'bar', 'baz', 'qux']"
            ]
          },
          "execution_count": 21,
          "metadata": {},
          "output_type": "execute_result"
        }
      ],
      "source": [
        "regex = re.compile('\\s+')\n",
        "regex.split(text)"
      ]
    },
    {
      "cell_type": "markdown",
      "id": "03ca6a40",
      "metadata": {
        "id": "03ca6a40"
      },
      "source": [
        "let’s consider a block of text and a regular expression capable of identifying most email addresses:"
      ]
    },
    {
      "cell_type": "code",
      "execution_count": null,
      "id": "e08b382b",
      "metadata": {
        "id": "e08b382b"
      },
      "outputs": [],
      "source": [
        "text = \"\"\"Dave dave@google.com\n",
        "Steve steve@gmail.com\n",
        "Rob rob@gmail.com Ryan ryan@yahoo.com \"\"\"\n",
        "pattern = r'[A-Z0-9._%+-]+@[A-Z0-9.-]+\\.[A-Z]{2,4}'\n",
        "# re.IGNORECASE makes the regex case-insensitive\n",
        "regex = re.compile(pattern, flags=re.IGNORECASE)"
      ]
    },
    {
      "cell_type": "code",
      "execution_count": null,
      "id": "d4c699b7",
      "metadata": {
        "id": "d4c699b7",
        "outputId": "fbbb4d61-8182-4294-afae-e7afa8dc963b"
      },
      "outputs": [
        {
          "data": {
            "text/plain": [
              "['dave@google.com', 'steve@gmail.com', 'rob@gmail.com', 'ryan@yahoo.com']"
            ]
          },
          "execution_count": 27,
          "metadata": {},
          "output_type": "execute_result"
        }
      ],
      "source": [
        " regex.findall(text)"
      ]
    },
    {
      "cell_type": "markdown",
      "id": "59a0567f",
      "metadata": {
        "id": "59a0567f"
      },
      "source": [
        "## 3. Vectorized String Functions in pandas\n",
        " To complicate matters, a column containing strings will sometimes have missing data:"
      ]
    },
    {
      "cell_type": "code",
      "execution_count": null,
      "id": "b454c803",
      "metadata": {
        "id": "b454c803"
      },
      "outputs": [],
      "source": [
        "import numpy as np\n",
        "import pandas as pd"
      ]
    },
    {
      "cell_type": "code",
      "execution_count": null,
      "id": "f5e0c1d6",
      "metadata": {
        "id": "f5e0c1d6"
      },
      "outputs": [],
      "source": [
        " data = {'Dave': 'dave@google.com', 'Steve': 'steve@gmail.com',\n",
        "         'Rob': 'rob@gmail.com', 'Wes': np.nan}"
      ]
    },
    {
      "cell_type": "code",
      "execution_count": null,
      "id": "91c02036",
      "metadata": {
        "id": "91c02036",
        "outputId": "f69b5b21-b73f-49a4-90ba-b9ad15dd8802"
      },
      "outputs": [
        {
          "data": {
            "text/plain": [
              "Dave     dave@google.com\n",
              "Steve    steve@gmail.com\n",
              "Rob        rob@gmail.com\n",
              "Wes                  NaN\n",
              "dtype: object"
            ]
          },
          "execution_count": 35,
          "metadata": {},
          "output_type": "execute_result"
        }
      ],
      "source": [
        "data = pd.Series(data)\n",
        "data"
      ]
    },
    {
      "cell_type": "code",
      "execution_count": null,
      "id": "d36ed996",
      "metadata": {
        "id": "d36ed996",
        "outputId": "766bc40f-c12b-4669-e3dd-087b1972ad28"
      },
      "outputs": [
        {
          "data": {
            "text/plain": [
              "Dave     False\n",
              "Steve    False\n",
              "Rob      False\n",
              "Wes       True\n",
              "dtype: bool"
            ]
          },
          "execution_count": 37,
          "metadata": {},
          "output_type": "execute_result"
        }
      ],
      "source": [
        " data.isnull()"
      ]
    },
    {
      "cell_type": "markdown",
      "id": "e1478d5c",
      "metadata": {
        "id": "e1478d5c"
      },
      "source": [
        "You can apply string and regular expression methods can be applied (passing a lambda or other function) to each value using data.map, but it will fail on the NA (null) values. To cope with this, Series has array-oriented methods for string operations that skip NA values. These are accessed through Series’s str attribute; for example, we could check whether each email address has 'gmail' in it with str.contains."
      ]
    },
    {
      "cell_type": "code",
      "execution_count": null,
      "id": "d0b96d7b",
      "metadata": {
        "id": "d0b96d7b",
        "outputId": "6bd4bba3-27b4-448a-8b3a-3fc92873c192"
      },
      "outputs": [
        {
          "data": {
            "text/plain": [
              "Dave     False\n",
              "Steve     True\n",
              "Rob       True\n",
              "Wes        NaN\n",
              "dtype: object"
            ]
          },
          "execution_count": 38,
          "metadata": {},
          "output_type": "execute_result"
        }
      ],
      "source": [
        " data.str.contains('gmail')"
      ]
    },
    {
      "cell_type": "markdown",
      "id": "bd26e1fc",
      "metadata": {
        "id": "bd26e1fc"
      },
      "source": [
        "There are a couple of ways to do vectorized element retrieval. Either use str.get or index into the str attribute:"
      ]
    },
    {
      "cell_type": "code",
      "execution_count": null,
      "id": "e59fce14",
      "metadata": {
        "id": "e59fce14"
      },
      "outputs": [],
      "source": [
        " matches = data.str.match(pattern, flags=re.IGNORECASE)"
      ]
    },
    {
      "cell_type": "markdown",
      "id": "41aa4e7e",
      "metadata": {
        "id": "41aa4e7e"
      },
      "source": [
        "To access elements in the embedded lists, we can pass an index to either of these functions:"
      ]
    },
    {
      "cell_type": "code",
      "execution_count": 41,
      "id": "c480501d",
      "metadata": {
        "id": "c480501d"
      },
      "outputs": [],
      "source": [
        "df1=pd.read_csv('/content/twitter_dataset.csv')"
      ]
    },
    {
      "cell_type": "code",
      "source": [
        "df1"
      ],
      "metadata": {
        "id": "hGk8UIQJuSfC",
        "outputId": "7eb803ad-008c-4b1b-c20b-7a6c9bb61d21",
        "colab": {
          "base_uri": "https://localhost:8080/",
          "height": 423
        }
      },
      "id": "hGk8UIQJuSfC",
      "execution_count": 43,
      "outputs": [
        {
          "output_type": "execute_result",
          "data": {
            "text/plain": [
              "      Tweet_ID         Username  \\\n",
              "0            1          julie81   \n",
              "1            2    richardhester   \n",
              "2            3   williamsjoseph   \n",
              "3            4      danielsmary   \n",
              "4            5       carlwarren   \n",
              "...        ...              ...   \n",
              "9995      9996            ntate   \n",
              "9996      9997   garrisonjoshua   \n",
              "9997      9998  adriennejackson   \n",
              "9998      9999         kcarlson   \n",
              "9999     10000       vdickerson   \n",
              "\n",
              "                                                   Text  Retweets  Likes  \\\n",
              "0     Party least receive say or single. Prevent pre...         2     25   \n",
              "1     Hotel still Congress may member staff. Media d...        35     29   \n",
              "2     Nice be her debate industry that year. Film wh...        51     25   \n",
              "3     Laugh explain situation career occur serious. ...        37     18   \n",
              "4     Involve sense former often approach government...        27     80   \n",
              "...                                                 ...       ...    ...   \n",
              "9995  Agree reflect military box ability ever hold. ...        81     86   \n",
              "9996  Born which push still. Degree sometimes contro...        73    100   \n",
              "9997  You day agent likely region. Teacher data mess...        10     62   \n",
              "9998  Guess without successful save. Particular natu...        21     60   \n",
              "9999  Body onto understand team about product beauti...        65     54   \n",
              "\n",
              "                Timestamp  \n",
              "0     2023-01-30 11:00:51  \n",
              "1     2023-01-02 22:45:58  \n",
              "2     2023-01-18 11:25:19  \n",
              "3     2023-04-10 22:06:29  \n",
              "4     2023-01-24 07:12:21  \n",
              "...                   ...  \n",
              "9995  2023-01-15 11:46:20  \n",
              "9996  2023-05-06 00:46:54  \n",
              "9997  2023-02-27 14:55:08  \n",
              "9998  2023-01-09 16:09:35  \n",
              "9999  2023-04-19 01:35:56  \n",
              "\n",
              "[10000 rows x 6 columns]"
            ],
            "text/html": [
              "\n",
              "  <div id=\"df-1bd3009d-ad96-4f41-bfc7-bf065324d304\" class=\"colab-df-container\">\n",
              "    <div>\n",
              "<style scoped>\n",
              "    .dataframe tbody tr th:only-of-type {\n",
              "        vertical-align: middle;\n",
              "    }\n",
              "\n",
              "    .dataframe tbody tr th {\n",
              "        vertical-align: top;\n",
              "    }\n",
              "\n",
              "    .dataframe thead th {\n",
              "        text-align: right;\n",
              "    }\n",
              "</style>\n",
              "<table border=\"1\" class=\"dataframe\">\n",
              "  <thead>\n",
              "    <tr style=\"text-align: right;\">\n",
              "      <th></th>\n",
              "      <th>Tweet_ID</th>\n",
              "      <th>Username</th>\n",
              "      <th>Text</th>\n",
              "      <th>Retweets</th>\n",
              "      <th>Likes</th>\n",
              "      <th>Timestamp</th>\n",
              "    </tr>\n",
              "  </thead>\n",
              "  <tbody>\n",
              "    <tr>\n",
              "      <th>0</th>\n",
              "      <td>1</td>\n",
              "      <td>julie81</td>\n",
              "      <td>Party least receive say or single. Prevent pre...</td>\n",
              "      <td>2</td>\n",
              "      <td>25</td>\n",
              "      <td>2023-01-30 11:00:51</td>\n",
              "    </tr>\n",
              "    <tr>\n",
              "      <th>1</th>\n",
              "      <td>2</td>\n",
              "      <td>richardhester</td>\n",
              "      <td>Hotel still Congress may member staff. Media d...</td>\n",
              "      <td>35</td>\n",
              "      <td>29</td>\n",
              "      <td>2023-01-02 22:45:58</td>\n",
              "    </tr>\n",
              "    <tr>\n",
              "      <th>2</th>\n",
              "      <td>3</td>\n",
              "      <td>williamsjoseph</td>\n",
              "      <td>Nice be her debate industry that year. Film wh...</td>\n",
              "      <td>51</td>\n",
              "      <td>25</td>\n",
              "      <td>2023-01-18 11:25:19</td>\n",
              "    </tr>\n",
              "    <tr>\n",
              "      <th>3</th>\n",
              "      <td>4</td>\n",
              "      <td>danielsmary</td>\n",
              "      <td>Laugh explain situation career occur serious. ...</td>\n",
              "      <td>37</td>\n",
              "      <td>18</td>\n",
              "      <td>2023-04-10 22:06:29</td>\n",
              "    </tr>\n",
              "    <tr>\n",
              "      <th>4</th>\n",
              "      <td>5</td>\n",
              "      <td>carlwarren</td>\n",
              "      <td>Involve sense former often approach government...</td>\n",
              "      <td>27</td>\n",
              "      <td>80</td>\n",
              "      <td>2023-01-24 07:12:21</td>\n",
              "    </tr>\n",
              "    <tr>\n",
              "      <th>...</th>\n",
              "      <td>...</td>\n",
              "      <td>...</td>\n",
              "      <td>...</td>\n",
              "      <td>...</td>\n",
              "      <td>...</td>\n",
              "      <td>...</td>\n",
              "    </tr>\n",
              "    <tr>\n",
              "      <th>9995</th>\n",
              "      <td>9996</td>\n",
              "      <td>ntate</td>\n",
              "      <td>Agree reflect military box ability ever hold. ...</td>\n",
              "      <td>81</td>\n",
              "      <td>86</td>\n",
              "      <td>2023-01-15 11:46:20</td>\n",
              "    </tr>\n",
              "    <tr>\n",
              "      <th>9996</th>\n",
              "      <td>9997</td>\n",
              "      <td>garrisonjoshua</td>\n",
              "      <td>Born which push still. Degree sometimes contro...</td>\n",
              "      <td>73</td>\n",
              "      <td>100</td>\n",
              "      <td>2023-05-06 00:46:54</td>\n",
              "    </tr>\n",
              "    <tr>\n",
              "      <th>9997</th>\n",
              "      <td>9998</td>\n",
              "      <td>adriennejackson</td>\n",
              "      <td>You day agent likely region. Teacher data mess...</td>\n",
              "      <td>10</td>\n",
              "      <td>62</td>\n",
              "      <td>2023-02-27 14:55:08</td>\n",
              "    </tr>\n",
              "    <tr>\n",
              "      <th>9998</th>\n",
              "      <td>9999</td>\n",
              "      <td>kcarlson</td>\n",
              "      <td>Guess without successful save. Particular natu...</td>\n",
              "      <td>21</td>\n",
              "      <td>60</td>\n",
              "      <td>2023-01-09 16:09:35</td>\n",
              "    </tr>\n",
              "    <tr>\n",
              "      <th>9999</th>\n",
              "      <td>10000</td>\n",
              "      <td>vdickerson</td>\n",
              "      <td>Body onto understand team about product beauti...</td>\n",
              "      <td>65</td>\n",
              "      <td>54</td>\n",
              "      <td>2023-04-19 01:35:56</td>\n",
              "    </tr>\n",
              "  </tbody>\n",
              "</table>\n",
              "<p>10000 rows × 6 columns</p>\n",
              "</div>\n",
              "    <div class=\"colab-df-buttons\">\n",
              "\n",
              "  <div class=\"colab-df-container\">\n",
              "    <button class=\"colab-df-convert\" onclick=\"convertToInteractive('df-1bd3009d-ad96-4f41-bfc7-bf065324d304')\"\n",
              "            title=\"Convert this dataframe to an interactive table.\"\n",
              "            style=\"display:none;\">\n",
              "\n",
              "  <svg xmlns=\"http://www.w3.org/2000/svg\" height=\"24px\" viewBox=\"0 -960 960 960\">\n",
              "    <path d=\"M120-120v-720h720v720H120Zm60-500h600v-160H180v160Zm220 220h160v-160H400v160Zm0 220h160v-160H400v160ZM180-400h160v-160H180v160Zm440 0h160v-160H620v160ZM180-180h160v-160H180v160Zm440 0h160v-160H620v160Z\"/>\n",
              "  </svg>\n",
              "    </button>\n",
              "\n",
              "  <style>\n",
              "    .colab-df-container {\n",
              "      display:flex;\n",
              "      gap: 12px;\n",
              "    }\n",
              "\n",
              "    .colab-df-convert {\n",
              "      background-color: #E8F0FE;\n",
              "      border: none;\n",
              "      border-radius: 50%;\n",
              "      cursor: pointer;\n",
              "      display: none;\n",
              "      fill: #1967D2;\n",
              "      height: 32px;\n",
              "      padding: 0 0 0 0;\n",
              "      width: 32px;\n",
              "    }\n",
              "\n",
              "    .colab-df-convert:hover {\n",
              "      background-color: #E2EBFA;\n",
              "      box-shadow: 0px 1px 2px rgba(60, 64, 67, 0.3), 0px 1px 3px 1px rgba(60, 64, 67, 0.15);\n",
              "      fill: #174EA6;\n",
              "    }\n",
              "\n",
              "    .colab-df-buttons div {\n",
              "      margin-bottom: 4px;\n",
              "    }\n",
              "\n",
              "    [theme=dark] .colab-df-convert {\n",
              "      background-color: #3B4455;\n",
              "      fill: #D2E3FC;\n",
              "    }\n",
              "\n",
              "    [theme=dark] .colab-df-convert:hover {\n",
              "      background-color: #434B5C;\n",
              "      box-shadow: 0px 1px 3px 1px rgba(0, 0, 0, 0.15);\n",
              "      filter: drop-shadow(0px 1px 2px rgba(0, 0, 0, 0.3));\n",
              "      fill: #FFFFFF;\n",
              "    }\n",
              "  </style>\n",
              "\n",
              "    <script>\n",
              "      const buttonEl =\n",
              "        document.querySelector('#df-1bd3009d-ad96-4f41-bfc7-bf065324d304 button.colab-df-convert');\n",
              "      buttonEl.style.display =\n",
              "        google.colab.kernel.accessAllowed ? 'block' : 'none';\n",
              "\n",
              "      async function convertToInteractive(key) {\n",
              "        const element = document.querySelector('#df-1bd3009d-ad96-4f41-bfc7-bf065324d304');\n",
              "        const dataTable =\n",
              "          await google.colab.kernel.invokeFunction('convertToInteractive',\n",
              "                                                    [key], {});\n",
              "        if (!dataTable) return;\n",
              "\n",
              "        const docLinkHtml = 'Like what you see? Visit the ' +\n",
              "          '<a target=\"_blank\" href=https://colab.research.google.com/notebooks/data_table.ipynb>data table notebook</a>'\n",
              "          + ' to learn more about interactive tables.';\n",
              "        element.innerHTML = '';\n",
              "        dataTable['output_type'] = 'display_data';\n",
              "        await google.colab.output.renderOutput(dataTable, element);\n",
              "        const docLink = document.createElement('div');\n",
              "        docLink.innerHTML = docLinkHtml;\n",
              "        element.appendChild(docLink);\n",
              "      }\n",
              "    </script>\n",
              "  </div>\n",
              "\n",
              "\n",
              "<div id=\"df-53f7805b-75bd-41c5-b914-23f2ad9fb0eb\">\n",
              "  <button class=\"colab-df-quickchart\" onclick=\"quickchart('df-53f7805b-75bd-41c5-b914-23f2ad9fb0eb')\"\n",
              "            title=\"Suggest charts\"\n",
              "            style=\"display:none;\">\n",
              "\n",
              "<svg xmlns=\"http://www.w3.org/2000/svg\" height=\"24px\"viewBox=\"0 0 24 24\"\n",
              "     width=\"24px\">\n",
              "    <g>\n",
              "        <path d=\"M19 3H5c-1.1 0-2 .9-2 2v14c0 1.1.9 2 2 2h14c1.1 0 2-.9 2-2V5c0-1.1-.9-2-2-2zM9 17H7v-7h2v7zm4 0h-2V7h2v10zm4 0h-2v-4h2v4z\"/>\n",
              "    </g>\n",
              "</svg>\n",
              "  </button>\n",
              "\n",
              "<style>\n",
              "  .colab-df-quickchart {\n",
              "      --bg-color: #E8F0FE;\n",
              "      --fill-color: #1967D2;\n",
              "      --hover-bg-color: #E2EBFA;\n",
              "      --hover-fill-color: #174EA6;\n",
              "      --disabled-fill-color: #AAA;\n",
              "      --disabled-bg-color: #DDD;\n",
              "  }\n",
              "\n",
              "  [theme=dark] .colab-df-quickchart {\n",
              "      --bg-color: #3B4455;\n",
              "      --fill-color: #D2E3FC;\n",
              "      --hover-bg-color: #434B5C;\n",
              "      --hover-fill-color: #FFFFFF;\n",
              "      --disabled-bg-color: #3B4455;\n",
              "      --disabled-fill-color: #666;\n",
              "  }\n",
              "\n",
              "  .colab-df-quickchart {\n",
              "    background-color: var(--bg-color);\n",
              "    border: none;\n",
              "    border-radius: 50%;\n",
              "    cursor: pointer;\n",
              "    display: none;\n",
              "    fill: var(--fill-color);\n",
              "    height: 32px;\n",
              "    padding: 0;\n",
              "    width: 32px;\n",
              "  }\n",
              "\n",
              "  .colab-df-quickchart:hover {\n",
              "    background-color: var(--hover-bg-color);\n",
              "    box-shadow: 0 1px 2px rgba(60, 64, 67, 0.3), 0 1px 3px 1px rgba(60, 64, 67, 0.15);\n",
              "    fill: var(--button-hover-fill-color);\n",
              "  }\n",
              "\n",
              "  .colab-df-quickchart-complete:disabled,\n",
              "  .colab-df-quickchart-complete:disabled:hover {\n",
              "    background-color: var(--disabled-bg-color);\n",
              "    fill: var(--disabled-fill-color);\n",
              "    box-shadow: none;\n",
              "  }\n",
              "\n",
              "  .colab-df-spinner {\n",
              "    border: 2px solid var(--fill-color);\n",
              "    border-color: transparent;\n",
              "    border-bottom-color: var(--fill-color);\n",
              "    animation:\n",
              "      spin 1s steps(1) infinite;\n",
              "  }\n",
              "\n",
              "  @keyframes spin {\n",
              "    0% {\n",
              "      border-color: transparent;\n",
              "      border-bottom-color: var(--fill-color);\n",
              "      border-left-color: var(--fill-color);\n",
              "    }\n",
              "    20% {\n",
              "      border-color: transparent;\n",
              "      border-left-color: var(--fill-color);\n",
              "      border-top-color: var(--fill-color);\n",
              "    }\n",
              "    30% {\n",
              "      border-color: transparent;\n",
              "      border-left-color: var(--fill-color);\n",
              "      border-top-color: var(--fill-color);\n",
              "      border-right-color: var(--fill-color);\n",
              "    }\n",
              "    40% {\n",
              "      border-color: transparent;\n",
              "      border-right-color: var(--fill-color);\n",
              "      border-top-color: var(--fill-color);\n",
              "    }\n",
              "    60% {\n",
              "      border-color: transparent;\n",
              "      border-right-color: var(--fill-color);\n",
              "    }\n",
              "    80% {\n",
              "      border-color: transparent;\n",
              "      border-right-color: var(--fill-color);\n",
              "      border-bottom-color: var(--fill-color);\n",
              "    }\n",
              "    90% {\n",
              "      border-color: transparent;\n",
              "      border-bottom-color: var(--fill-color);\n",
              "    }\n",
              "  }\n",
              "</style>\n",
              "\n",
              "  <script>\n",
              "    async function quickchart(key) {\n",
              "      const quickchartButtonEl =\n",
              "        document.querySelector('#' + key + ' button');\n",
              "      quickchartButtonEl.disabled = true;  // To prevent multiple clicks.\n",
              "      quickchartButtonEl.classList.add('colab-df-spinner');\n",
              "      try {\n",
              "        const charts = await google.colab.kernel.invokeFunction(\n",
              "            'suggestCharts', [key], {});\n",
              "      } catch (error) {\n",
              "        console.error('Error during call to suggestCharts:', error);\n",
              "      }\n",
              "      quickchartButtonEl.classList.remove('colab-df-spinner');\n",
              "      quickchartButtonEl.classList.add('colab-df-quickchart-complete');\n",
              "    }\n",
              "    (() => {\n",
              "      let quickchartButtonEl =\n",
              "        document.querySelector('#df-53f7805b-75bd-41c5-b914-23f2ad9fb0eb button');\n",
              "      quickchartButtonEl.style.display =\n",
              "        google.colab.kernel.accessAllowed ? 'block' : 'none';\n",
              "    })();\n",
              "  </script>\n",
              "</div>\n",
              "\n",
              "  <div id=\"id_74657c35-aced-4eff-ba12-3ab20de9d8a1\">\n",
              "    <style>\n",
              "      .colab-df-generate {\n",
              "        background-color: #E8F0FE;\n",
              "        border: none;\n",
              "        border-radius: 50%;\n",
              "        cursor: pointer;\n",
              "        display: none;\n",
              "        fill: #1967D2;\n",
              "        height: 32px;\n",
              "        padding: 0 0 0 0;\n",
              "        width: 32px;\n",
              "      }\n",
              "\n",
              "      .colab-df-generate:hover {\n",
              "        background-color: #E2EBFA;\n",
              "        box-shadow: 0px 1px 2px rgba(60, 64, 67, 0.3), 0px 1px 3px 1px rgba(60, 64, 67, 0.15);\n",
              "        fill: #174EA6;\n",
              "      }\n",
              "\n",
              "      [theme=dark] .colab-df-generate {\n",
              "        background-color: #3B4455;\n",
              "        fill: #D2E3FC;\n",
              "      }\n",
              "\n",
              "      [theme=dark] .colab-df-generate:hover {\n",
              "        background-color: #434B5C;\n",
              "        box-shadow: 0px 1px 3px 1px rgba(0, 0, 0, 0.15);\n",
              "        filter: drop-shadow(0px 1px 2px rgba(0, 0, 0, 0.3));\n",
              "        fill: #FFFFFF;\n",
              "      }\n",
              "    </style>\n",
              "    <button class=\"colab-df-generate\" onclick=\"generateWithVariable('df1')\"\n",
              "            title=\"Generate code using this dataframe.\"\n",
              "            style=\"display:none;\">\n",
              "\n",
              "  <svg xmlns=\"http://www.w3.org/2000/svg\" height=\"24px\"viewBox=\"0 0 24 24\"\n",
              "       width=\"24px\">\n",
              "    <path d=\"M7,19H8.4L18.45,9,17,7.55,7,17.6ZM5,21V16.75L18.45,3.32a2,2,0,0,1,2.83,0l1.4,1.43a1.91,1.91,0,0,1,.58,1.4,1.91,1.91,0,0,1-.58,1.4L9.25,21ZM18.45,9,17,7.55Zm-12,3A5.31,5.31,0,0,0,4.9,8.1,5.31,5.31,0,0,0,1,6.5,5.31,5.31,0,0,0,4.9,4.9,5.31,5.31,0,0,0,6.5,1,5.31,5.31,0,0,0,8.1,4.9,5.31,5.31,0,0,0,12,6.5,5.46,5.46,0,0,0,6.5,12Z\"/>\n",
              "  </svg>\n",
              "    </button>\n",
              "    <script>\n",
              "      (() => {\n",
              "      const buttonEl =\n",
              "        document.querySelector('#id_74657c35-aced-4eff-ba12-3ab20de9d8a1 button.colab-df-generate');\n",
              "      buttonEl.style.display =\n",
              "        google.colab.kernel.accessAllowed ? 'block' : 'none';\n",
              "\n",
              "      buttonEl.onclick = () => {\n",
              "        google.colab.notebook.generateWithVariable('df1');\n",
              "      }\n",
              "      })();\n",
              "    </script>\n",
              "  </div>\n",
              "\n",
              "    </div>\n",
              "  </div>\n"
            ]
          },
          "metadata": {},
          "execution_count": 43
        }
      ]
    },
    {
      "cell_type": "code",
      "source": [
        " df1['Username']"
      ],
      "metadata": {
        "id": "pidwK7aFv-Ok",
        "outputId": "e2d283db-eaed-4485-8ddb-47544f8d9401",
        "colab": {
          "base_uri": "https://localhost:8080/"
        }
      },
      "id": "pidwK7aFv-Ok",
      "execution_count": 49,
      "outputs": [
        {
          "output_type": "execute_result",
          "data": {
            "text/plain": [
              "0               julie81\n",
              "1         richardhester\n",
              "2        williamsjoseph\n",
              "3           danielsmary\n",
              "4            carlwarren\n",
              "             ...       \n",
              "9995              ntate\n",
              "9996     garrisonjoshua\n",
              "9997    adriennejackson\n",
              "9998           kcarlson\n",
              "9999         vdickerson\n",
              "Name: Username, Length: 10000, dtype: object"
            ]
          },
          "metadata": {},
          "execution_count": 49
        }
      ]
    },
    {
      "cell_type": "code",
      "source": [
        " df1['Retweets']"
      ],
      "metadata": {
        "id": "igl1fxgswLz9",
        "outputId": "0f90ad1b-fcad-404f-b272-fe00dd4a97cc",
        "colab": {
          "base_uri": "https://localhost:8080/"
        }
      },
      "id": "igl1fxgswLz9",
      "execution_count": 51,
      "outputs": [
        {
          "output_type": "execute_result",
          "data": {
            "text/plain": [
              "0        2\n",
              "1       35\n",
              "2       51\n",
              "3       37\n",
              "4       27\n",
              "        ..\n",
              "9995    81\n",
              "9996    73\n",
              "9997    10\n",
              "9998    21\n",
              "9999    65\n",
              "Name: Retweets, Length: 10000, dtype: int64"
            ]
          },
          "metadata": {},
          "execution_count": 51
        }
      ]
    },
    {
      "cell_type": "code",
      "source": [
        "df1=pd.Series()"
      ],
      "metadata": {
        "id": "lAq__k6pwii2",
        "outputId": "22498555-d52d-4475-d9ee-f2807c3c2355",
        "colab": {
          "base_uri": "https://localhost:8080/"
        }
      },
      "id": "lAq__k6pwii2",
      "execution_count": 56,
      "outputs": [
        {
          "output_type": "stream",
          "name": "stderr",
          "text": [
            "<ipython-input-56-1339b5ff006d>:1: FutureWarning: The default dtype for empty Series will be 'object' instead of 'float64' in a future version. Specify a dtype explicitly to silence this warning.\n",
            "  df1=pd.Series()\n"
          ]
        }
      ]
    },
    {
      "cell_type": "code",
      "source": [
        "df1"
      ],
      "metadata": {
        "id": "aAAmoYB3wtzP",
        "outputId": "a2af4826-8d1b-4c24-9293-37f2aaddf6c3",
        "colab": {
          "base_uri": "https://localhost:8080/"
        }
      },
      "id": "aAAmoYB3wtzP",
      "execution_count": 57,
      "outputs": [
        {
          "output_type": "execute_result",
          "data": {
            "text/plain": [
              "Series([], dtype: float64)"
            ]
          },
          "metadata": {},
          "execution_count": 57
        }
      ]
    },
    {
      "cell_type": "code",
      "source": [],
      "metadata": {
        "id": "p4N9Avnow7T6"
      },
      "id": "p4N9Avnow7T6",
      "execution_count": null,
      "outputs": []
    }
  ],
  "metadata": {
    "kernelspec": {
      "display_name": "Python 3",
      "language": "python",
      "name": "python3"
    },
    "language_info": {
      "codemirror_mode": {
        "name": "ipython",
        "version": 3
      },
      "file_extension": ".py",
      "mimetype": "text/x-python",
      "name": "python",
      "nbconvert_exporter": "python",
      "pygments_lexer": "ipython3",
      "version": "3.8.8"
    },
    "colab": {
      "provenance": [],
      "include_colab_link": true
    }
  },
  "nbformat": 4,
  "nbformat_minor": 5
}