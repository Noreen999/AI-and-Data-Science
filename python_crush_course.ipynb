{
  "cells": [
    {
      "cell_type": "code",
      "source": [
        "from google.colab import drive\n",
        "drive.mount('/content/drive')"
      ],
      "metadata": {
        "colab": {
          "base_uri": "https://localhost:8080/"
        },
        "id": "SENgu21P9i8m",
        "outputId": "4090f7f4-e699-4f41-f4a7-3efc5fafa6da"
      },
      "execution_count": null,
      "outputs": [
        {
          "output_type": "stream",
          "name": "stdout",
          "text": [
            "Mounted at /content/drive\n"
          ]
        }
      ]
    },
    {
      "cell_type": "code",
      "source": [
        "! apt-get install git"
      ],
      "metadata": {
        "colab": {
          "base_uri": "https://localhost:8080/"
        },
        "id": "h8OeF9Eu9vpD",
        "outputId": "57b5d943-0ca7-4b87-e098-d1f0387ec50d"
      },
      "execution_count": null,
      "outputs": [
        {
          "output_type": "stream",
          "name": "stdout",
          "text": [
            "Reading package lists... Done\n",
            "Building dependency tree... Done\n",
            "Reading state information... Done\n",
            "git is already the newest version (1:2.34.1-1ubuntu1.10).\n",
            "0 upgraded, 0 newly installed, 0 to remove and 24 not upgraded.\n"
          ]
        }
      ]
    },
    {
      "cell_type": "code",
      "source": [
        "https://github.com/Noreen999/Python-crush-course.git"
      ],
      "metadata": {
        "colab": {
          "base_uri": "https://localhost:8080/",
          "height": 140
        },
        "id": "3sRl5hVR98O7",
        "outputId": "a545c96e-423c-4b06-a63c-5e851e8d9257"
      },
      "execution_count": null,
      "outputs": [
        {
          "output_type": "error",
          "ename": "SyntaxError",
          "evalue": "ignored",
          "traceback": [
            "\u001b[0;36m  File \u001b[0;32m\"<ipython-input-76-9140cd75d2e5>\"\u001b[0;36m, line \u001b[0;32m1\u001b[0m\n\u001b[0;31m    https://github.com/Noreen999/Python-crush-course.git\u001b[0m\n\u001b[0m          ^\u001b[0m\n\u001b[0;31mSyntaxError\u001b[0m\u001b[0;31m:\u001b[0m invalid syntax\n"
          ]
        }
      ]
    },
    {
      "cell_type": "markdown",
      "metadata": {
        "id": "-Z_iPb7scLam"
      },
      "source": [
        "# python crush **course**\n",
        "\n",
        "\n",
        "Data types\n",
        "\n",
        "Numbers\n",
        "\n",
        "Strings\n",
        "\n",
        "Printing\n",
        "\n",
        "Lists\n",
        "\n",
        "Dictionaries\n",
        "\n",
        "Booleans\n",
        "\n",
        "Tuples\n",
        "\n",
        "Sets\n",
        "\n",
        "Comparison Operators\n",
        "\n",
        "if, elif, else Statements\n",
        "\n",
        "for Loops\n",
        "\n",
        "while Loops\n",
        "\n",
        "range()\n",
        "\n",
        "list comprehension\n",
        "\n",
        "functions\n",
        "\n",
        "lambda expressions\n",
        "\n",
        "map and filter\n",
        "\n",
        "methods\n",
        "\n"
      ]
    },
    {
      "cell_type": "markdown",
      "source": [
        "##Lab 1 Data types"
      ],
      "metadata": {
        "id": "65TjLJLHeDXE"
      }
    },
    {
      "cell_type": "code",
      "source": [
        "x=5 # 5 is a intger Number\n",
        "type(x)"
      ],
      "metadata": {
        "colab": {
          "base_uri": "https://localhost:8080/"
        },
        "id": "P5w4bLJ2EYzu",
        "outputId": "9c2914ab-60f2-4030-916a-07faa350b9d7"
      },
      "execution_count": null,
      "outputs": [
        {
          "output_type": "execute_result",
          "data": {
            "text/plain": [
              "int"
            ]
          },
          "metadata": {},
          "execution_count": 1
        }
      ]
    },
    {
      "cell_type": "code",
      "source": [
        "1 + 1"
      ],
      "metadata": {
        "colab": {
          "base_uri": "https://localhost:8080/"
        },
        "id": "ZY-mL5aXaAr-",
        "outputId": "4116b9de-50dd-4816-b2db-aa8dbb62f044"
      },
      "execution_count": null,
      "outputs": [
        {
          "output_type": "execute_result",
          "data": {
            "text/plain": [
              "2"
            ]
          },
          "metadata": {},
          "execution_count": 1
        }
      ]
    },
    {
      "cell_type": "code",
      "source": [
        "print(type(x))"
      ],
      "metadata": {
        "colab": {
          "base_uri": "https://localhost:8080/"
        },
        "id": "icC9pNRpE0Qt",
        "outputId": "acace495-f724-40cb-8ec3-1332ad53d211"
      },
      "execution_count": null,
      "outputs": [
        {
          "output_type": "stream",
          "name": "stdout",
          "text": [
            "<class 'int'>\n"
          ]
        }
      ]
    },
    {
      "cell_type": "code",
      "source": [
        "1 / 2"
      ],
      "metadata": {
        "colab": {
          "base_uri": "https://localhost:8080/"
        },
        "id": "ptKJ4lAyaM0u",
        "outputId": "d4758dca-2554-41c7-e27e-bdeb435daa5f"
      },
      "execution_count": null,
      "outputs": [
        {
          "output_type": "execute_result",
          "data": {
            "text/plain": [
              "0.5"
            ]
          },
          "metadata": {},
          "execution_count": 2
        }
      ]
    },
    {
      "cell_type": "code",
      "source": [
        "num= int(input(\"The entered number is: \"))"
      ],
      "metadata": {
        "colab": {
          "base_uri": "https://localhost:8080/"
        },
        "id": "jy-ivt1YFGv_",
        "outputId": "3b3b7ed4-22c3-47e2-9ab3-bb58352ab5ae"
      },
      "execution_count": null,
      "outputs": [
        {
          "name": "stdout",
          "output_type": "stream",
          "text": [
            "The entered number is: 2\n"
          ]
        }
      ]
    },
    {
      "cell_type": "code",
      "source": [
        "2 ** 4"
      ],
      "metadata": {
        "colab": {
          "base_uri": "https://localhost:8080/"
        },
        "id": "DRLAhd8haTtI",
        "outputId": "a7490a4a-ef20-4c78-f997-3d79d8ec02fa"
      },
      "execution_count": null,
      "outputs": [
        {
          "output_type": "execute_result",
          "data": {
            "text/plain": [
              "16"
            ]
          },
          "metadata": {},
          "execution_count": 3
        }
      ]
    },
    {
      "cell_type": "code",
      "source": [
        "4 % 2"
      ],
      "metadata": {
        "colab": {
          "base_uri": "https://localhost:8080/"
        },
        "id": "80pnAkRxaYk0",
        "outputId": "df657a6f-d296-4844-d830-e6cfaeefccc9"
      },
      "execution_count": null,
      "outputs": [
        {
          "output_type": "execute_result",
          "data": {
            "text/plain": [
              "0"
            ]
          },
          "metadata": {},
          "execution_count": 4
        }
      ]
    },
    {
      "cell_type": "code",
      "source": [
        "5 % 2"
      ],
      "metadata": {
        "colab": {
          "base_uri": "https://localhost:8080/"
        },
        "id": "8eYTs271adIg",
        "outputId": "d693c19a-2d35-4e37-872a-4e9d61533116"
      },
      "execution_count": null,
      "outputs": [
        {
          "output_type": "execute_result",
          "data": {
            "text/plain": [
              "1"
            ]
          },
          "metadata": {},
          "execution_count": 5
        }
      ]
    },
    {
      "cell_type": "code",
      "source": [
        "(2 + 3) * (5 + 5)"
      ],
      "metadata": {
        "colab": {
          "base_uri": "https://localhost:8080/"
        },
        "id": "OVfACb41adW0",
        "outputId": "d63cfeae-b63a-4265-b6f6-017ed582bbe7"
      },
      "execution_count": null,
      "outputs": [
        {
          "output_type": "execute_result",
          "data": {
            "text/plain": [
              "50"
            ]
          },
          "metadata": {},
          "execution_count": 6
        }
      ]
    },
    {
      "cell_type": "code",
      "source": [
        "# Can not start with number or special characters\n",
        "name_of_var = 2\n",
        "x = 2\n",
        "y = 3\n",
        "z = x + y\n",
        "z"
      ],
      "metadata": {
        "colab": {
          "base_uri": "https://localhost:8080/"
        },
        "id": "r0TKaeWradj2",
        "outputId": "1cf28dfc-1c6f-4388-8619-f83d0b477230"
      },
      "execution_count": null,
      "outputs": [
        {
          "output_type": "execute_result",
          "data": {
            "text/plain": [
              "5"
            ]
          },
          "metadata": {},
          "execution_count": 9
        }
      ]
    },
    {
      "cell_type": "markdown",
      "source": [
        "## Strings"
      ],
      "metadata": {
        "id": "FXZrH03Pa65U"
      }
    },
    {
      "cell_type": "code",
      "source": [
        "'single quotes'"
      ],
      "metadata": {
        "colab": {
          "base_uri": "https://localhost:8080/",
          "height": 35
        },
        "id": "p-XVIsEBady_",
        "outputId": "b26bf463-9bb3-4d70-b3ec-42be7fb61ded"
      },
      "execution_count": null,
      "outputs": [
        {
          "output_type": "execute_result",
          "data": {
            "text/plain": [
              "'single quotes'"
            ],
            "application/vnd.google.colaboratory.intrinsic+json": {
              "type": "string"
            }
          },
          "metadata": {},
          "execution_count": 10
        }
      ]
    },
    {
      "cell_type": "code",
      "source": [
        "\"double quotes\""
      ],
      "metadata": {
        "colab": {
          "base_uri": "https://localhost:8080/",
          "height": 35
        },
        "id": "Y_B8VSZ9aeAO",
        "outputId": "17e5522a-14bc-495f-9609-06187ff75a08"
      },
      "execution_count": null,
      "outputs": [
        {
          "output_type": "execute_result",
          "data": {
            "text/plain": [
              "'double quotes'"
            ],
            "application/vnd.google.colaboratory.intrinsic+json": {
              "type": "string"
            }
          },
          "metadata": {},
          "execution_count": 11
        }
      ]
    },
    {
      "cell_type": "markdown",
      "source": [
        "##prints"
      ],
      "metadata": {
        "id": "zvppjPTlcrNg"
      }
    },
    {
      "cell_type": "code",
      "source": [
        "x = 'hello'"
      ],
      "metadata": {
        "id": "HeQ0LpGEaeOj"
      },
      "execution_count": null,
      "outputs": []
    },
    {
      "cell_type": "code",
      "source": [
        "x"
      ],
      "metadata": {
        "colab": {
          "base_uri": "https://localhost:8080/",
          "height": 35
        },
        "id": "nQkxg5bKaej5",
        "outputId": "f816d480-5ee8-492a-b263-1ed311d606cf"
      },
      "execution_count": null,
      "outputs": [
        {
          "output_type": "execute_result",
          "data": {
            "text/plain": [
              "'hello'"
            ],
            "application/vnd.google.colaboratory.intrinsic+json": {
              "type": "string"
            }
          },
          "metadata": {},
          "execution_count": 13
        }
      ]
    },
    {
      "cell_type": "code",
      "source": [
        "print(x)"
      ],
      "metadata": {
        "colab": {
          "base_uri": "https://localhost:8080/"
        },
        "id": "zIk955Idaext",
        "outputId": "a5ca9bf4-5a09-4df0-cdbc-a09652ab3501"
      },
      "execution_count": null,
      "outputs": [
        {
          "output_type": "stream",
          "name": "stdout",
          "text": [
            "hello\n"
          ]
        }
      ]
    },
    {
      "cell_type": "code",
      "source": [
        "num = 12\n",
        "name = 'Sam'"
      ],
      "metadata": {
        "id": "qqG3v8kFc3pm"
      },
      "execution_count": null,
      "outputs": []
    },
    {
      "cell_type": "code",
      "source": [
        "print('My number is: {one}, and my name is: {two}'.format(one=num,two=name))"
      ],
      "metadata": {
        "colab": {
          "base_uri": "https://localhost:8080/"
        },
        "id": "nRKdie8kc32l",
        "outputId": "a1d0512b-2fa0-4fd6-cfb3-53b6b6271a2e"
      },
      "execution_count": null,
      "outputs": [
        {
          "output_type": "stream",
          "name": "stdout",
          "text": [
            "My number is: 12, and my name is: Sam\n"
          ]
        }
      ]
    },
    {
      "cell_type": "code",
      "source": [
        "print('My number is: {}, and my name is: {}'.format(num,name))"
      ],
      "metadata": {
        "colab": {
          "base_uri": "https://localhost:8080/"
        },
        "id": "NxZOToFwc35_",
        "outputId": "c209fe14-c8a3-40f4-a233-25513d355f44"
      },
      "execution_count": null,
      "outputs": [
        {
          "output_type": "stream",
          "name": "stdout",
          "text": [
            "My number is: 12, and my name is: Sam\n"
          ]
        }
      ]
    },
    {
      "cell_type": "code",
      "source": [],
      "metadata": {
        "id": "Ut3puQp_c39a"
      },
      "execution_count": null,
      "outputs": []
    },
    {
      "cell_type": "code",
      "source": [],
      "metadata": {
        "id": "6Y3mlRBqc4JX"
      },
      "execution_count": null,
      "outputs": []
    },
    {
      "cell_type": "code",
      "source": [
        "print(f\"The given ingter number is {num}\")"
      ],
      "metadata": {
        "colab": {
          "base_uri": "https://localhost:8080/"
        },
        "id": "VE1ix1uCFLqT",
        "outputId": "4280b08e-6f29-4ba3-eace-e304fb41cff7"
      },
      "execution_count": null,
      "outputs": [
        {
          "output_type": "stream",
          "name": "stdout",
          "text": [
            "The given ingter number is 2\n"
          ]
        }
      ]
    },
    {
      "cell_type": "code",
      "source": [
        "\n",
        "# Task: Add two integers\n",
        "num1=5\n",
        "num2=2\n",
        "result = num1 +num2\n",
        "print(result)"
      ],
      "metadata": {
        "colab": {
          "base_uri": "https://localhost:8080/"
        },
        "id": "w5VZKiHIFSJ6",
        "outputId": "bc58c683-f1fa-48a4-b86a-67212835f8bb"
      },
      "execution_count": null,
      "outputs": [
        {
          "output_type": "stream",
          "name": "stdout",
          "text": [
            "7\n"
          ]
        }
      ]
    },
    {
      "cell_type": "code",
      "source": [
        "y=0.5 # folating Number\n",
        "type(y)"
      ],
      "metadata": {
        "colab": {
          "base_uri": "https://localhost:8080/"
        },
        "id": "XkomOPJOFYbe",
        "outputId": "aabdc908-86c1-4de8-d1e0-cb053eba55a4"
      },
      "execution_count": null,
      "outputs": [
        {
          "output_type": "execute_result",
          "data": {
            "text/plain": [
              "float"
            ]
          },
          "metadata": {},
          "execution_count": 6
        }
      ]
    },
    {
      "cell_type": "code",
      "source": [
        "num=float(input(\"Enter the float type: \"))"
      ],
      "metadata": {
        "colab": {
          "base_uri": "https://localhost:8080/"
        },
        "id": "4I4xtpjBFdeW",
        "outputId": "ea60c4f3-3058-42a2-c535-538abed09a04"
      },
      "execution_count": null,
      "outputs": [
        {
          "name": "stdout",
          "output_type": "stream",
          "text": [
            "Enter the float type: 0.2\n"
          ]
        }
      ]
    },
    {
      "cell_type": "code",
      "source": [
        "# Task: Multiply two floats\n",
        "result = num * 2.5\n",
        "print(result)"
      ],
      "metadata": {
        "colab": {
          "base_uri": "https://localhost:8080/"
        },
        "id": "nMYj9SPpFkfS",
        "outputId": "4d36e91b-b432-466f-cc7e-587eec139261"
      },
      "execution_count": null,
      "outputs": [
        {
          "output_type": "stream",
          "name": "stdout",
          "text": [
            "0.5\n"
          ]
        }
      ]
    },
    {
      "cell_type": "code",
      "source": [
        "z=2+3j # Complex number\n",
        "type(z)"
      ],
      "metadata": {
        "colab": {
          "base_uri": "https://localhost:8080/"
        },
        "id": "jI3cs1uhFpz2",
        "outputId": "15b60c5f-1acb-4880-ec67-dfcf5dbaff9e"
      },
      "execution_count": null,
      "outputs": [
        {
          "output_type": "execute_result",
          "data": {
            "text/plain": [
              "complex"
            ]
          },
          "metadata": {},
          "execution_count": 9
        }
      ]
    },
    {
      "cell_type": "code",
      "source": [
        "\n",
        "z=complex(input(\"Enter the Complex Number: \"))"
      ],
      "metadata": {
        "colab": {
          "base_uri": "https://localhost:8080/"
        },
        "id": "4-J3FCqpFttn",
        "outputId": "39abfd2b-f3e5-47c9-cbe2-8628ba6a9f75"
      },
      "execution_count": null,
      "outputs": [
        {
          "name": "stdout",
          "output_type": "stream",
          "text": [
            "Enter the Complex Number: 3+4j\n"
          ]
        }
      ]
    },
    {
      "cell_type": "code",
      "source": [
        "\n",
        "print(type(z))"
      ],
      "metadata": {
        "colab": {
          "base_uri": "https://localhost:8080/"
        },
        "id": "oKeAH1WIFxO3",
        "outputId": "b8d3cc92-64db-4276-b510-b033d16ca259"
      },
      "execution_count": null,
      "outputs": [
        {
          "output_type": "stream",
          "name": "stdout",
          "text": [
            "<class 'complex'>\n"
          ]
        }
      ]
    },
    {
      "cell_type": "code",
      "source": [
        "string_variable = \"Hello, World!\"\n",
        "new_string = string_variable + \" How are you?\"\n",
        "print(new_string)"
      ],
      "metadata": {
        "colab": {
          "base_uri": "https://localhost:8080/"
        },
        "id": "JTuSIjpuF5j8",
        "outputId": "1b57cf7f-58b4-4327-bdec-37907458a8b5"
      },
      "execution_count": null,
      "outputs": [
        {
          "output_type": "stream",
          "name": "stdout",
          "text": [
            "Hello, World! How are you?\n"
          ]
        }
      ]
    },
    {
      "cell_type": "markdown",
      "source": [
        "##list"
      ],
      "metadata": {
        "id": "pTeMV31ed6X4"
      }
    },
    {
      "cell_type": "code",
      "source": [
        "\n",
        "# Example\n",
        "list_variable = [1, 2, 3, 4, 5]"
      ],
      "metadata": {
        "id": "b__nlTU1GFxr"
      },
      "execution_count": null,
      "outputs": []
    },
    {
      "cell_type": "code",
      "source": [
        "# Task: Append an element to the list\n",
        "list_variable.append(6)\n",
        "print(list_variable)"
      ],
      "metadata": {
        "colab": {
          "base_uri": "https://localhost:8080/"
        },
        "id": "MtOCDN3rGHAC",
        "outputId": "671e0a03-56df-46bc-915d-8bf05753fac9"
      },
      "execution_count": null,
      "outputs": [
        {
          "output_type": "stream",
          "name": "stdout",
          "text": [
            "[1, 2, 3, 4, 5, 6]\n"
          ]
        }
      ]
    },
    {
      "cell_type": "code",
      "source": [
        "my_list = ['a','b','c']\n",
        "my_list.append('d')\n",
        "my_list"
      ],
      "metadata": {
        "id": "IuMhHezaGKCC",
        "colab": {
          "base_uri": "https://localhost:8080/"
        },
        "outputId": "3ea08bdd-4c85-4651-f64d-52c53dae33e6"
      },
      "execution_count": null,
      "outputs": [
        {
          "output_type": "execute_result",
          "data": {
            "text/plain": [
              "['a', 'b', 'c', 'd']"
            ]
          },
          "metadata": {},
          "execution_count": 20
        }
      ]
    },
    {
      "cell_type": "code",
      "source": [
        "my_list = ['a','b','c']\n",
        "my_list.extend('d')\n",
        "my_list"
      ],
      "metadata": {
        "colab": {
          "base_uri": "https://localhost:8080/"
        },
        "id": "Gi9aQNNPzp4J",
        "outputId": "73312a25-7e38-4440-af7c-2c03da96fcf4"
      },
      "execution_count": null,
      "outputs": [
        {
          "output_type": "execute_result",
          "data": {
            "text/plain": [
              "['a', 'b', 'c', 'd']"
            ]
          },
          "metadata": {},
          "execution_count": 6
        }
      ]
    },
    {
      "cell_type": "code",
      "source": [
        "my_list ='dostdar Ali'\n",
        "my_list.split()\n"
      ],
      "metadata": {
        "colab": {
          "base_uri": "https://localhost:8080/"
        },
        "id": "Rc74IzhQ1e5D",
        "outputId": "2143791a-ae04-45bb-91d8-c296f9f177a8"
      },
      "execution_count": null,
      "outputs": [
        {
          "output_type": "execute_result",
          "data": {
            "text/plain": [
              "['dostdar', 'Ali']"
            ]
          },
          "metadata": {},
          "execution_count": 20
        }
      ]
    },
    {
      "cell_type": "code",
      "source": [
        "my_list ='dostdar Ali'\n",
        "my_list[:4]"
      ],
      "metadata": {
        "colab": {
          "base_uri": "https://localhost:8080/",
          "height": 35
        },
        "id": "JtGa6NeF2WAP",
        "outputId": "382a3ba5-def4-496f-dfaf-366ce63f3b93"
      },
      "execution_count": null,
      "outputs": [
        {
          "output_type": "execute_result",
          "data": {
            "text/plain": [
              "'dost'"
            ],
            "application/vnd.google.colaboratory.intrinsic+json": {
              "type": "string"
            }
          },
          "metadata": {},
          "execution_count": 22
        }
      ]
    },
    {
      "cell_type": "code",
      "source": [
        "my_list[0]"
      ],
      "metadata": {
        "colab": {
          "base_uri": "https://localhost:8080/",
          "height": 175
        },
        "id": "7b03p91ZeL8H",
        "outputId": "7aeedbc9-06c2-474b-ef39-4eee454faa90"
      },
      "execution_count": null,
      "outputs": [
        {
          "output_type": "error",
          "ename": "NameError",
          "evalue": "ignored",
          "traceback": [
            "\u001b[0;31m---------------------------------------------------------------------------\u001b[0m",
            "\u001b[0;31mNameError\u001b[0m                                 Traceback (most recent call last)",
            "\u001b[0;32m<ipython-input-12-4e4f749e6326>\u001b[0m in \u001b[0;36m<cell line: 1>\u001b[0;34m()\u001b[0m\n\u001b[0;32m----> 1\u001b[0;31m \u001b[0mamy_list\u001b[0m\u001b[0;34m[\u001b[0m\u001b[0;36m0\u001b[0m\u001b[0;34m]\u001b[0m\u001b[0;34m\u001b[0m\u001b[0;34m\u001b[0m\u001b[0m\n\u001b[0m",
            "\u001b[0;31mNameError\u001b[0m: name 'amy_list' is not defined"
          ]
        }
      ]
    },
    {
      "cell_type": "code",
      "source": [
        "name='Dostdar Ali'\n",
        "print(name[:6] +name[6:])"
      ],
      "metadata": {
        "colab": {
          "base_uri": "https://localhost:8080/"
        },
        "id": "sBsfaK-a0p5l",
        "outputId": "78f395fc-84f6-4370-ded7-f5df1eca1127"
      },
      "execution_count": null,
      "outputs": [
        {
          "output_type": "stream",
          "name": "stdout",
          "text": [
            "Dostdar Ali\n"
          ]
        }
      ]
    },
    {
      "cell_type": "code",
      "source": [
        "split(2)"
      ],
      "metadata": {
        "colab": {
          "base_uri": "https://localhost:8080/",
          "height": 175
        },
        "id": "FVrNXtQC0-XY",
        "outputId": "54df55ca-d619-460d-f46d-8efc012023b2"
      },
      "execution_count": null,
      "outputs": [
        {
          "output_type": "error",
          "ename": "NameError",
          "evalue": "ignored",
          "traceback": [
            "\u001b[0;31m---------------------------------------------------------------------------\u001b[0m",
            "\u001b[0;31mNameError\u001b[0m                                 Traceback (most recent call last)",
            "\u001b[0;32m<ipython-input-9-047eba7ca5d7>\u001b[0m in \u001b[0;36m<cell line: 1>\u001b[0;34m()\u001b[0m\n\u001b[0;32m----> 1\u001b[0;31m \u001b[0msplit\u001b[0m\u001b[0;34m(\u001b[0m\u001b[0;36m2\u001b[0m\u001b[0;34m)\u001b[0m\u001b[0;34m\u001b[0m\u001b[0;34m\u001b[0m\u001b[0m\n\u001b[0m",
            "\u001b[0;31mNameError\u001b[0m: name 'split' is not defined"
          ]
        }
      ]
    },
    {
      "cell_type": "code",
      "source": [
        "my_list[1]"
      ],
      "metadata": {
        "colab": {
          "base_uri": "https://localhost:8080/",
          "height": 35
        },
        "id": "SbABHmHleMQt",
        "outputId": "52685779-274a-4a82-e23a-ed42cdd496be"
      },
      "execution_count": null,
      "outputs": [
        {
          "output_type": "execute_result",
          "data": {
            "text/plain": [
              "'b'"
            ],
            "application/vnd.google.colaboratory.intrinsic+json": {
              "type": "string"
            }
          },
          "metadata": {},
          "execution_count": 22
        }
      ]
    },
    {
      "cell_type": "code",
      "source": [
        "my_list[1:]"
      ],
      "metadata": {
        "colab": {
          "base_uri": "https://localhost:8080/"
        },
        "id": "PhPUeOJFeSPQ",
        "outputId": "42512314-70b4-49c9-c79a-6578aacb82f9"
      },
      "execution_count": null,
      "outputs": [
        {
          "output_type": "execute_result",
          "data": {
            "text/plain": [
              "['b', 'c', 'd']"
            ]
          },
          "metadata": {},
          "execution_count": 23
        }
      ]
    },
    {
      "cell_type": "code",
      "source": [
        "my_list[:1]"
      ],
      "metadata": {
        "colab": {
          "base_uri": "https://localhost:8080/"
        },
        "id": "fkoyjDrTeSbg",
        "outputId": "50997a72-d443-441c-85b7-3eacac55802e"
      },
      "execution_count": null,
      "outputs": [
        {
          "output_type": "execute_result",
          "data": {
            "text/plain": [
              "['a']"
            ]
          },
          "metadata": {},
          "execution_count": 24
        }
      ]
    },
    {
      "cell_type": "code",
      "source": [
        "my_list[0] = 'NEW'"
      ],
      "metadata": {
        "id": "9w64UfQyeeJp"
      },
      "execution_count": null,
      "outputs": []
    },
    {
      "cell_type": "code",
      "source": [
        "my_list"
      ],
      "metadata": {
        "colab": {
          "base_uri": "https://localhost:8080/"
        },
        "id": "grT3pBUaeeWk",
        "outputId": "28a061c1-8828-42cc-c6f8-b8eff62e9f36"
      },
      "execution_count": null,
      "outputs": [
        {
          "output_type": "execute_result",
          "data": {
            "text/plain": [
              "['NEW', 'b', 'c', 'd']"
            ]
          },
          "metadata": {},
          "execution_count": 26
        }
      ]
    },
    {
      "cell_type": "code",
      "source": [
        "nest = [1,2,3,[4,5,['target']]]"
      ],
      "metadata": {
        "id": "Br3rhvJKeelf"
      },
      "execution_count": null,
      "outputs": []
    },
    {
      "cell_type": "code",
      "source": [
        "nest[3]"
      ],
      "metadata": {
        "colab": {
          "base_uri": "https://localhost:8080/"
        },
        "id": "Ocns5T7yepI0",
        "outputId": "24645586-043b-41ac-f32e-c45264a18832"
      },
      "execution_count": null,
      "outputs": [
        {
          "output_type": "execute_result",
          "data": {
            "text/plain": [
              "[4, 5, ['target']]"
            ]
          },
          "metadata": {},
          "execution_count": 28
        }
      ]
    },
    {
      "cell_type": "code",
      "source": [
        "nest[3][2]"
      ],
      "metadata": {
        "colab": {
          "base_uri": "https://localhost:8080/"
        },
        "id": "kc0Oq0WmepUp",
        "outputId": "2e0c3a2e-ad99-407e-f140-83b2d72fe4f2"
      },
      "execution_count": null,
      "outputs": [
        {
          "output_type": "execute_result",
          "data": {
            "text/plain": [
              "['target']"
            ]
          },
          "metadata": {},
          "execution_count": 29
        }
      ]
    },
    {
      "cell_type": "code",
      "source": [
        "nest[3][2][0]"
      ],
      "metadata": {
        "colab": {
          "base_uri": "https://localhost:8080/",
          "height": 35
        },
        "id": "Svy1LD-oepj7",
        "outputId": "8a7b51e2-aafb-46ee-ffd0-7261a1bac450"
      },
      "execution_count": null,
      "outputs": [
        {
          "output_type": "execute_result",
          "data": {
            "text/plain": [
              "'target'"
            ],
            "application/vnd.google.colaboratory.intrinsic+json": {
              "type": "string"
            }
          },
          "metadata": {},
          "execution_count": 30
        }
      ]
    },
    {
      "cell_type": "markdown",
      "source": [
        "##Dictionaries"
      ],
      "metadata": {
        "id": "1QEeAeeYfAW4"
      }
    },
    {
      "cell_type": "code",
      "source": [
        "tuple_variable = (10, 20, 30)\n",
        "# Task: Access an element in the tuple\n",
        "element = tuple_variable[1]\n",
        "print(element)"
      ],
      "metadata": {
        "colab": {
          "base_uri": "https://localhost:8080/"
        },
        "id": "p9dDeoyDGNm7",
        "outputId": "3ba663f1-d94d-475e-8628-43fa0ae70e3f"
      },
      "execution_count": null,
      "outputs": [
        {
          "output_type": "stream",
          "name": "stdout",
          "text": [
            "20\n"
          ]
        }
      ]
    },
    {
      "cell_type": "code",
      "source": [
        "# Example\n",
        "set_var = {1, 2, 3, 4, 5}\n",
        "\n",
        "# Task: Remove an element from the set\n",
        "set_var.remove(3)\n",
        "print(set_var)"
      ],
      "metadata": {
        "colab": {
          "base_uri": "https://localhost:8080/"
        },
        "id": "anIqHN90Gav1",
        "outputId": "90ee7a44-b1e1-40ac-f0bf-803d401cfeb6"
      },
      "execution_count": null,
      "outputs": [
        {
          "output_type": "stream",
          "name": "stdout",
          "text": [
            "{1, 2, 4, 5}\n"
          ]
        }
      ]
    },
    {
      "cell_type": "code",
      "source": [
        "\n",
        "# Example\n",
        "dictionary_var = {'University': 'Kiu', 'Porivence': 'Gilgit Baltistan'}\n",
        "\n",
        "# Task: Add a new key-value pair to the dictionary\n",
        "dictionary_var['Teshli'] = 'Danyore'\n",
        "print(dictionary_var)"
      ],
      "metadata": {
        "colab": {
          "base_uri": "https://localhost:8080/"
        },
        "id": "rSUmIJoYGmml",
        "outputId": "0c370864-c9a0-4028-b879-542aa555bab0"
      },
      "execution_count": null,
      "outputs": [
        {
          "output_type": "stream",
          "name": "stdout",
          "text": [
            "{'University': 'Kiu', 'Porivence': 'Gilgit Baltistan', 'Teshli': 'Danyore'}\n"
          ]
        }
      ]
    },
    {
      "cell_type": "code",
      "source": [
        "d = {'key1':'item1','key2':'item2'}\n",
        "d"
      ],
      "metadata": {
        "colab": {
          "base_uri": "https://localhost:8080/"
        },
        "id": "QZC_Pi8CfQye",
        "outputId": "27e2d641-e217-4fab-9350-643fcb94a9e1"
      },
      "execution_count": null,
      "outputs": [
        {
          "output_type": "execute_result",
          "data": {
            "text/plain": [
              "{'key1': 'item1', 'key2': 'item2'}"
            ]
          },
          "metadata": {},
          "execution_count": 32
        }
      ]
    },
    {
      "cell_type": "code",
      "source": [
        "d['key1']"
      ],
      "metadata": {
        "colab": {
          "base_uri": "https://localhost:8080/",
          "height": 35
        },
        "id": "mCqT3bx3fQ2L",
        "outputId": "26670dc2-f0be-4144-b89e-525fe4f9b5f4"
      },
      "execution_count": null,
      "outputs": [
        {
          "output_type": "execute_result",
          "data": {
            "text/plain": [
              "'item1'"
            ],
            "application/vnd.google.colaboratory.intrinsic+json": {
              "type": "string"
            }
          },
          "metadata": {},
          "execution_count": 33
        }
      ]
    },
    {
      "cell_type": "markdown",
      "source": [
        "##Boolean"
      ],
      "metadata": {
        "id": "SwMbXhMBfc8V"
      }
    },
    {
      "cell_type": "code",
      "source": [
        "\n",
        "# Example\n",
        "bool_variable = True\n",
        "\n",
        "# Task: Check if a boolean variable is True\n",
        "if bool_variable:\n",
        "    print(\"It's True!\")"
      ],
      "metadata": {
        "colab": {
          "base_uri": "https://localhost:8080/"
        },
        "id": "oLir1oofGwiO",
        "outputId": "816e2167-4632-4128-f524-18635a0f5512"
      },
      "execution_count": null,
      "outputs": [
        {
          "output_type": "stream",
          "name": "stdout",
          "text": [
            "It's True!\n"
          ]
        }
      ]
    },
    {
      "cell_type": "markdown",
      "source": [
        "##tuples"
      ],
      "metadata": {
        "id": "ESbcoei1fnnj"
      }
    },
    {
      "cell_type": "code",
      "source": [
        "t = (1,2,3)"
      ],
      "metadata": {
        "id": "kOwla9QofqPR"
      },
      "execution_count": null,
      "outputs": []
    },
    {
      "cell_type": "code",
      "source": [
        "t[0]"
      ],
      "metadata": {
        "colab": {
          "base_uri": "https://localhost:8080/"
        },
        "id": "-tEdin6Cfvsc",
        "outputId": "0dcf122a-25a9-481e-b987-415747ef550f"
      },
      "execution_count": null,
      "outputs": [
        {
          "output_type": "execute_result",
          "data": {
            "text/plain": [
              "1"
            ]
          },
          "metadata": {},
          "execution_count": 35
        }
      ]
    },
    {
      "cell_type": "code",
      "source": [
        "t[0] = 'NEW'"
      ],
      "metadata": {
        "colab": {
          "base_uri": "https://localhost:8080/",
          "height": 175
        },
        "id": "clM3uvLPfv4m",
        "outputId": "c47fb17e-13dd-4ac1-c6aa-2217ad5d637c"
      },
      "execution_count": null,
      "outputs": [
        {
          "output_type": "error",
          "ename": "TypeError",
          "evalue": "ignored",
          "traceback": [
            "\u001b[0;31m---------------------------------------------------------------------------\u001b[0m",
            "\u001b[0;31mTypeError\u001b[0m                                 Traceback (most recent call last)",
            "\u001b[0;32m<ipython-input-36-93bfe9be1549>\u001b[0m in \u001b[0;36m<cell line: 1>\u001b[0;34m()\u001b[0m\n\u001b[0;32m----> 1\u001b[0;31m \u001b[0mt\u001b[0m\u001b[0;34m[\u001b[0m\u001b[0;36m0\u001b[0m\u001b[0;34m]\u001b[0m \u001b[0;34m=\u001b[0m \u001b[0;34m'NEW'\u001b[0m\u001b[0;34m\u001b[0m\u001b[0;34m\u001b[0m\u001b[0m\n\u001b[0m",
            "\u001b[0;31mTypeError\u001b[0m: 'tuple' object does not support item assignment"
          ]
        }
      ]
    },
    {
      "cell_type": "code",
      "source": [
        "name='dostdar'\n",
        "name[:4]"
      ],
      "metadata": {
        "colab": {
          "base_uri": "https://localhost:8080/",
          "height": 35
        },
        "id": "DiYiv8DSyIV4",
        "outputId": "c58cefbe-d18a-4410-f615-0f28570e8f77"
      },
      "execution_count": null,
      "outputs": [
        {
          "output_type": "execute_result",
          "data": {
            "text/plain": [
              "'dost'"
            ],
            "application/vnd.google.colaboratory.intrinsic+json": {
              "type": "string"
            }
          },
          "metadata": {},
          "execution_count": 2
        }
      ]
    },
    {
      "cell_type": "code",
      "source": [
        "a = (\"a\", \"b\", \"c\", \"d\", \"e\", \"f\", \"g\", \"h\")\n",
        "x = slice(2)\n",
        "print(a[x])"
      ],
      "metadata": {
        "colab": {
          "base_uri": "https://localhost:8080/"
        },
        "id": "2J7cqhvcyW1K",
        "outputId": "fcf37181-baf4-4b52-c75f-e5edcf105d1c"
      },
      "execution_count": null,
      "outputs": [
        {
          "output_type": "stream",
          "name": "stdout",
          "text": [
            "('a', 'b')\n"
          ]
        }
      ]
    },
    {
      "cell_type": "markdown",
      "source": [
        "##Sets"
      ],
      "metadata": {
        "id": "WXJTTvWxf7PK"
      }
    },
    {
      "cell_type": "code",
      "source": [
        "{1,2,3}\n"
      ],
      "metadata": {
        "colab": {
          "base_uri": "https://localhost:8080/"
        },
        "id": "XDLzyvPyf5hE",
        "outputId": "54b1dcc3-5561-46e1-8532-d6c2586b183b"
      },
      "execution_count": null,
      "outputs": [
        {
          "output_type": "execute_result",
          "data": {
            "text/plain": [
              "{1, 2, 3}"
            ]
          },
          "metadata": {},
          "execution_count": 37
        }
      ]
    },
    {
      "cell_type": "code",
      "source": [
        "{1,2,3,1,2,1,2,3,3,3,3,2,2,2,1,1,2}"
      ],
      "metadata": {
        "colab": {
          "base_uri": "https://localhost:8080/"
        },
        "id": "DJ-IgU8ggC1c",
        "outputId": "37a36b1c-39a0-4983-99c9-f61df0c35c81"
      },
      "execution_count": null,
      "outputs": [
        {
          "output_type": "execute_result",
          "data": {
            "text/plain": [
              "{1, 2, 3}"
            ]
          },
          "metadata": {},
          "execution_count": 38
        }
      ]
    },
    {
      "cell_type": "markdown",
      "source": [
        "##Comprision operators"
      ],
      "metadata": {
        "id": "f08cVlGugR-W"
      }
    },
    {
      "cell_type": "code",
      "source": [
        "1 > 2"
      ],
      "metadata": {
        "colab": {
          "base_uri": "https://localhost:8080/"
        },
        "id": "lWaKrabtgWZO",
        "outputId": "812b87ed-0ef0-4926-b639-af0689e7a7dd"
      },
      "execution_count": null,
      "outputs": [
        {
          "output_type": "execute_result",
          "data": {
            "text/plain": [
              "False"
            ]
          },
          "metadata": {},
          "execution_count": 39
        }
      ]
    },
    {
      "cell_type": "code",
      "source": [
        "1 < 2"
      ],
      "metadata": {
        "colab": {
          "base_uri": "https://localhost:8080/"
        },
        "id": "M7T524c9gXO1",
        "outputId": "45301855-52a8-455c-e2c0-3717b0233069"
      },
      "execution_count": null,
      "outputs": [
        {
          "output_type": "execute_result",
          "data": {
            "text/plain": [
              "True"
            ]
          },
          "metadata": {},
          "execution_count": 40
        }
      ]
    },
    {
      "cell_type": "code",
      "source": [],
      "metadata": {
        "id": "Hl-NgwmPgXW9"
      },
      "execution_count": null,
      "outputs": []
    },
    {
      "cell_type": "code",
      "source": [
        "1 >= 1"
      ],
      "metadata": {
        "colab": {
          "base_uri": "https://localhost:8080/"
        },
        "id": "nUhZFErBgXd8",
        "outputId": "97b429a8-0f7c-45a7-ccd6-bacfdf6702aa"
      },
      "execution_count": null,
      "outputs": [
        {
          "output_type": "execute_result",
          "data": {
            "text/plain": [
              "True"
            ]
          },
          "metadata": {},
          "execution_count": 41
        }
      ]
    },
    {
      "cell_type": "code",
      "source": [
        "1 <= 4"
      ],
      "metadata": {
        "colab": {
          "base_uri": "https://localhost:8080/"
        },
        "id": "EZT9Iu7JgXoH",
        "outputId": "b2f90931-9b9e-45ab-e27e-e56ad241ead6"
      },
      "execution_count": null,
      "outputs": [
        {
          "output_type": "execute_result",
          "data": {
            "text/plain": [
              "True"
            ]
          },
          "metadata": {},
          "execution_count": 42
        }
      ]
    },
    {
      "cell_type": "code",
      "source": [
        "1 == 1"
      ],
      "metadata": {
        "colab": {
          "base_uri": "https://localhost:8080/"
        },
        "id": "cx7udjMagXyK",
        "outputId": "cd8ba98f-feda-4543-bf93-5196c2022909"
      },
      "execution_count": null,
      "outputs": [
        {
          "output_type": "execute_result",
          "data": {
            "text/plain": [
              "True"
            ]
          },
          "metadata": {},
          "execution_count": 43
        }
      ]
    },
    {
      "cell_type": "code",
      "source": [
        "'hi' == 'bye'"
      ],
      "metadata": {
        "colab": {
          "base_uri": "https://localhost:8080/"
        },
        "id": "y1e55fafgxK6",
        "outputId": "ee7d813b-3fd4-46ec-a5ff-9785f38b85c3"
      },
      "execution_count": null,
      "outputs": [
        {
          "output_type": "execute_result",
          "data": {
            "text/plain": [
              "False"
            ]
          },
          "metadata": {},
          "execution_count": 44
        }
      ]
    },
    {
      "cell_type": "markdown",
      "source": [
        "##Logic Operators"
      ],
      "metadata": {
        "id": "JW2wZY5Sg955"
      }
    },
    {
      "cell_type": "code",
      "source": [
        "(1 > 2) and (2 < 3)"
      ],
      "metadata": {
        "colab": {
          "base_uri": "https://localhost:8080/"
        },
        "id": "3RWqDZhzhAmz",
        "outputId": "bfaa1700-5606-4682-eef7-b6fda3033fdf"
      },
      "execution_count": null,
      "outputs": [
        {
          "output_type": "execute_result",
          "data": {
            "text/plain": [
              "False"
            ]
          },
          "metadata": {},
          "execution_count": 45
        }
      ]
    },
    {
      "cell_type": "code",
      "source": [
        "(1 > 2) or (2 < 3)"
      ],
      "metadata": {
        "colab": {
          "base_uri": "https://localhost:8080/"
        },
        "id": "u8RLIw1ehBvG",
        "outputId": "6c176d24-0466-4293-dd9b-87fbff041abb"
      },
      "execution_count": null,
      "outputs": [
        {
          "output_type": "execute_result",
          "data": {
            "text/plain": [
              "True"
            ]
          },
          "metadata": {},
          "execution_count": 46
        }
      ]
    },
    {
      "cell_type": "code",
      "source": [
        "(1 == 2) or (2 == 3) or (4 == 4)"
      ],
      "metadata": {
        "colab": {
          "base_uri": "https://localhost:8080/"
        },
        "id": "fkf3dqjehB26",
        "outputId": "790317a4-a917-4cf7-8df6-4b998579244d"
      },
      "execution_count": null,
      "outputs": [
        {
          "output_type": "execute_result",
          "data": {
            "text/plain": [
              "True"
            ]
          },
          "metadata": {},
          "execution_count": 47
        }
      ]
    },
    {
      "cell_type": "markdown",
      "source": [
        "##if,elif, else Statements"
      ],
      "metadata": {
        "id": "r9NsMygmhPfI"
      }
    },
    {
      "cell_type": "code",
      "source": [
        "    x = 5\n",
        "\n",
        "if x == 2:\n",
        "     print(\"x equals to 2\")\n",
        "elif x < 2:\n",
        "     print(\"x is less than 2\")\n",
        "else:\n",
        "     print(\"x is greater than 2\")"
      ],
      "metadata": {
        "colab": {
          "base_uri": "https://localhost:8080/"
        },
        "id": "GHKgw8eshUZw",
        "outputId": "5a3de85f-f927-46c6-82d2-255ebcd6fa4c"
      },
      "execution_count": null,
      "outputs": [
        {
          "output_type": "stream",
          "name": "stdout",
          "text": [
            "x is greater than 2\n"
          ]
        }
      ]
    },
    {
      "cell_type": "code",
      "source": [
        "num=10\n",
        "if num>0:\n",
        "        if num%2 ==0:\n",
        "             print('the no is +ve and even')\n",
        "        else:\n",
        "             print('the no is +ve but odd')\n",
        "else:\n",
        "    print('the no is not +ve')"
      ],
      "metadata": {
        "colab": {
          "base_uri": "https://localhost:8080/"
        },
        "id": "n5Kic0QlhUdG",
        "outputId": "f7cdd631-6aea-4166-8cbf-287542ae15a6"
      },
      "execution_count": null,
      "outputs": [
        {
          "output_type": "stream",
          "name": "stdout",
          "text": [
            "the no is +ve and even\n"
          ]
        }
      ]
    },
    {
      "cell_type": "code",
      "source": [],
      "metadata": {
        "id": "da5XI4fahUgf"
      },
      "execution_count": null,
      "outputs": []
    },
    {
      "cell_type": "code",
      "source": [],
      "metadata": {
        "id": "mKvWzBm1hUjf"
      },
      "execution_count": null,
      "outputs": []
    },
    {
      "cell_type": "markdown",
      "metadata": {
        "id": "_JB0Ldyhb1pD"
      },
      "source": [
        "## lab2 control flow and loops"
      ]
    },
    {
      "cell_type": "code",
      "execution_count": null,
      "metadata": {
        "colab": {
          "base_uri": "https://localhost:8080/"
        },
        "id": "fOxvLEWQc4tE",
        "outputId": "f4d07173-9e7c-4687-c5c7-95e6d4b9b10a"
      },
      "outputs": [
        {
          "name": "stdout",
          "output_type": "stream",
          "text": [
            "Apple\n",
            "Banana\n",
            "mango\n"
          ]
        }
      ],
      "source": [
        "# for loop\n",
        "\n",
        "i=1\n",
        "var=['Apple','Banana','mango']\n",
        "for i in var:\n",
        "    print(i)"
      ]
    },
    {
      "cell_type": "code",
      "source": [
        "if 1 < 2:\n",
        "    print('Yep!')"
      ],
      "metadata": {
        "colab": {
          "base_uri": "https://localhost:8080/"
        },
        "id": "Et1_LQi2hnol",
        "outputId": "1e217326-91ca-4809-f790-e27bb0ab771f"
      },
      "execution_count": null,
      "outputs": [
        {
          "output_type": "stream",
          "name": "stdout",
          "text": [
            "Yep!\n"
          ]
        }
      ]
    },
    {
      "cell_type": "code",
      "source": [
        "if 1 < 2:\n",
        "    print('yep!')"
      ],
      "metadata": {
        "colab": {
          "base_uri": "https://localhost:8080/"
        },
        "id": "H3BUpqAAhn2q",
        "outputId": "37b43c22-9ea9-4431-afb9-422e4857682e"
      },
      "execution_count": null,
      "outputs": [
        {
          "output_type": "stream",
          "name": "stdout",
          "text": [
            "yep!\n"
          ]
        }
      ]
    },
    {
      "cell_type": "code",
      "source": [
        "if 1 < 2:\n",
        "    print('first')\n",
        "else:\n",
        "    print('last')"
      ],
      "metadata": {
        "colab": {
          "base_uri": "https://localhost:8080/"
        },
        "id": "l9JwHnoyhn5a",
        "outputId": "1434b263-e82b-4907-f347-5192166ad09b"
      },
      "execution_count": null,
      "outputs": [
        {
          "output_type": "stream",
          "name": "stdout",
          "text": [
            "first\n"
          ]
        }
      ]
    },
    {
      "cell_type": "code",
      "source": [
        "if 1 > 2:\n",
        "    print('first')\n",
        "else:\n",
        "    print('last')"
      ],
      "metadata": {
        "colab": {
          "base_uri": "https://localhost:8080/"
        },
        "id": "aG0uTuWyhn8t",
        "outputId": "06d00c0f-a669-4084-f8d9-1dc079c3ed1d"
      },
      "execution_count": null,
      "outputs": [
        {
          "output_type": "stream",
          "name": "stdout",
          "text": [
            "last\n"
          ]
        }
      ]
    },
    {
      "cell_type": "code",
      "source": [
        "if 1 == 2:\n",
        "    print('first')\n",
        "elif 3 == 3:\n",
        "    print('middle')\n",
        "else:\n",
        "    print('Last')"
      ],
      "metadata": {
        "colab": {
          "base_uri": "https://localhost:8080/"
        },
        "id": "NBkmhq9GhoCa",
        "outputId": "46ec86a0-d76e-4b57-fd73-9ff1697b5c67"
      },
      "execution_count": null,
      "outputs": [
        {
          "output_type": "stream",
          "name": "stdout",
          "text": [
            "middle\n"
          ]
        }
      ]
    },
    {
      "cell_type": "markdown",
      "source": [
        "##for Loops"
      ],
      "metadata": {
        "id": "Vi2cCKOziAhN"
      }
    },
    {
      "cell_type": "code",
      "execution_count": null,
      "metadata": {
        "colab": {
          "base_uri": "https://localhost:8080/"
        },
        "id": "nYBPwikFc9ha",
        "outputId": "07215f8a-f40c-40f0-d0ef-c32e3665a8ea"
      },
      "outputs": [
        {
          "name": "stdout",
          "output_type": "stream",
          "text": [
            "0\n",
            "1\n",
            "2\n",
            "3\n",
            "4\n",
            "5\n",
            "6\n",
            "7\n",
            "8\n",
            "9\n",
            "10\n",
            "11\n",
            "12\n",
            "13\n",
            "14\n",
            "15\n",
            "16\n",
            "17\n",
            "18\n",
            "19\n",
            "20\n",
            "21\n",
            "22\n",
            "23\n",
            "24\n",
            "25\n",
            "26\n",
            "27\n",
            "28\n",
            "29\n",
            "30\n",
            "31\n",
            "32\n",
            "33\n",
            "34\n",
            "35\n",
            "36\n",
            "37\n",
            "38\n",
            "39\n",
            "40\n",
            "41\n",
            "42\n",
            "43\n",
            "44\n",
            "45\n",
            "46\n",
            "47\n",
            "48\n",
            "49\n",
            "50\n",
            "51\n",
            "52\n",
            "53\n",
            "54\n",
            "55\n",
            "56\n",
            "57\n",
            "58\n",
            "59\n",
            "60\n",
            "61\n",
            "62\n",
            "63\n",
            "64\n",
            "65\n",
            "66\n",
            "67\n",
            "68\n",
            "69\n",
            "70\n",
            "71\n",
            "72\n",
            "73\n",
            "74\n",
            "75\n",
            "76\n",
            "77\n",
            "78\n",
            "79\n",
            "80\n",
            "81\n",
            "82\n",
            "83\n",
            "84\n",
            "85\n",
            "86\n",
            "87\n",
            "88\n",
            "89\n",
            "90\n",
            "91\n",
            "92\n",
            "93\n",
            "94\n",
            "95\n",
            "96\n",
            "97\n",
            "98\n",
            "99\n"
          ]
        }
      ],
      "source": [
        "for i in range(100):\n",
        "    print(i)"
      ]
    },
    {
      "cell_type": "code",
      "execution_count": null,
      "metadata": {
        "colab": {
          "base_uri": "https://localhost:8080/"
        },
        "id": "2ctIBO4BdA26",
        "outputId": "b75b20cf-a650-4bb0-fc3e-c20b30d92dd9"
      },
      "outputs": [
        {
          "name": "stdout",
          "output_type": "stream",
          "text": [
            "0\n",
            "2\n",
            "4\n",
            "6\n",
            "8\n",
            "10\n",
            "12\n",
            "14\n",
            "16\n",
            "18\n",
            "20\n",
            "22\n",
            "24\n",
            "26\n",
            "28\n",
            "30\n",
            "32\n",
            "34\n",
            "36\n",
            "38\n",
            "40\n",
            "42\n",
            "44\n",
            "46\n",
            "48\n",
            "50\n",
            "52\n",
            "54\n",
            "56\n",
            "58\n",
            "60\n",
            "62\n",
            "64\n",
            "66\n",
            "68\n",
            "70\n",
            "72\n",
            "74\n",
            "76\n",
            "78\n",
            "80\n",
            "82\n",
            "84\n",
            "86\n",
            "88\n",
            "90\n",
            "92\n",
            "94\n",
            "96\n",
            "98\n"
          ]
        }
      ],
      "source": [
        "for i in range(0,100,2):\n",
        "    print(i)"
      ]
    },
    {
      "cell_type": "code",
      "execution_count": null,
      "metadata": {
        "colab": {
          "base_uri": "https://localhost:8080/"
        },
        "id": "jOYA36MgdF2J",
        "outputId": "7fbdc60c-19f5-4fa5-adec-3426f6a894b6"
      },
      "outputs": [
        {
          "name": "stdout",
          "output_type": "stream",
          "text": [
            "1\n",
            "3\n",
            "5\n",
            "7\n",
            "9\n",
            "11\n",
            "13\n",
            "15\n",
            "17\n",
            "19\n",
            "21\n",
            "23\n",
            "25\n",
            "27\n",
            "29\n",
            "31\n",
            "33\n",
            "35\n",
            "37\n",
            "39\n",
            "41\n",
            "43\n",
            "45\n",
            "47\n",
            "49\n",
            "51\n",
            "53\n",
            "55\n",
            "57\n",
            "59\n",
            "61\n",
            "63\n",
            "65\n",
            "67\n",
            "69\n",
            "71\n",
            "73\n",
            "75\n",
            "77\n",
            "79\n",
            "81\n",
            "83\n",
            "85\n",
            "87\n",
            "89\n",
            "91\n",
            "93\n",
            "95\n",
            "97\n",
            "99\n"
          ]
        }
      ],
      "source": [
        "for i in range(1,100,2):\n",
        "    print(i)"
      ]
    },
    {
      "cell_type": "code",
      "source": [
        "seq = [1,2,3,4,5]"
      ],
      "metadata": {
        "id": "uvDoNEpriGfj"
      },
      "execution_count": null,
      "outputs": []
    },
    {
      "cell_type": "code",
      "source": [
        "for item in seq:\n",
        "    print(item)"
      ],
      "metadata": {
        "colab": {
          "base_uri": "https://localhost:8080/"
        },
        "id": "lzXayp_0iGxl",
        "outputId": "52753c6f-c8e3-4952-a637-8aa15608e906"
      },
      "execution_count": null,
      "outputs": [
        {
          "output_type": "stream",
          "name": "stdout",
          "text": [
            "1\n",
            "2\n",
            "3\n",
            "4\n",
            "5\n"
          ]
        }
      ]
    },
    {
      "cell_type": "code",
      "source": [
        "for item in seq:\n",
        "    print('Yep')"
      ],
      "metadata": {
        "colab": {
          "base_uri": "https://localhost:8080/"
        },
        "id": "fzu_TuPCiWeb",
        "outputId": "a443239a-9a47-4f0d-ef02-563bc21130b3"
      },
      "execution_count": null,
      "outputs": [
        {
          "output_type": "stream",
          "name": "stdout",
          "text": [
            "Yep\n",
            "Yep\n",
            "Yep\n",
            "Yep\n",
            "Yep\n"
          ]
        }
      ]
    },
    {
      "cell_type": "code",
      "source": [
        "for jelly in seq:\n",
        "    print(jelly+jelly)"
      ],
      "metadata": {
        "colab": {
          "base_uri": "https://localhost:8080/"
        },
        "id": "WMP5SJnbiWrK",
        "outputId": "1c58ce82-f81c-49de-c6a3-cf173820b0e0"
      },
      "execution_count": null,
      "outputs": [
        {
          "output_type": "stream",
          "name": "stdout",
          "text": [
            "2\n",
            "4\n",
            "6\n",
            "8\n",
            "10\n"
          ]
        }
      ]
    },
    {
      "cell_type": "markdown",
      "source": [
        "##While Loop"
      ],
      "metadata": {
        "id": "RsoShkmWihm4"
      }
    },
    {
      "cell_type": "code",
      "execution_count": null,
      "metadata": {
        "colab": {
          "base_uri": "https://localhost:8080/"
        },
        "id": "luA9eahNdKP8",
        "outputId": "28ab0c08-c99d-457b-9f24-71f335592e26"
      },
      "outputs": [
        {
          "name": "stdout",
          "output_type": "stream",
          "text": [
            "This is while loop\n"
          ]
        }
      ],
      "source": [
        "i=5\n",
        "while(i<8):\n",
        "    print('This is while loop')\n",
        "    i+=i"
      ]
    },
    {
      "cell_type": "code",
      "execution_count": null,
      "metadata": {
        "colab": {
          "base_uri": "https://localhost:8080/"
        },
        "id": "ZFGfdSgZa_bq",
        "outputId": "9f8f2b96-f15b-44cd-ee9e-ca64abbdcab1"
      },
      "outputs": [
        {
          "name": "stdout",
          "output_type": "stream",
          "text": [
            "This is while loop\n",
            "This is while loop\n",
            "This is while loop\n"
          ]
        }
      ],
      "source": [
        "i=5\n",
        "while(i<8):\n",
        "    print('This is while loop')\n",
        "    i=i+1\n"
      ]
    },
    {
      "cell_type": "code",
      "execution_count": null,
      "metadata": {
        "colab": {
          "base_uri": "https://localhost:8080/",
          "height": 140
        },
        "id": "LgoOsbF8bLi5",
        "outputId": "32cc11cd-d9a3-40f2-d412-c465d7806a66"
      },
      "outputs": [
        {
          "ename": "SyntaxError",
          "evalue": "ignored",
          "output_type": "error",
          "traceback": [
            "\u001b[0;36m  File \u001b[0;32m\"<ipython-input-11-073e54122654>\"\u001b[0;36m, line \u001b[0;32m4\u001b[0m\n\u001b[0;31m    i++\u001b[0m\n\u001b[0m       ^\u001b[0m\n\u001b[0;31mSyntaxError\u001b[0m\u001b[0;31m:\u001b[0m invalid syntax\n"
          ]
        }
      ],
      "source": [
        "i=5\n",
        "while(i<8):\n",
        "    print('This is while loop')\n",
        "    i++"
      ]
    },
    {
      "cell_type": "code",
      "execution_count": null,
      "metadata": {
        "colab": {
          "background_save": true,
          "base_uri": "https://localhost:8080/"
        },
        "id": "N88NL-kgdVNm",
        "outputId": "64e41263-d47b-471b-8f37-8c96959bec69"
      },
      "outputs": [
        {
          "name": "stdout",
          "output_type": "stream",
          "text": [
            "\u001b[1;30;43mStreaming output truncated to the last 5000 lines.\u001b[0m\n",
            "This is while loop\n",
            "This is while loop\n",
            "This is while loop\n",
            "This is while loop\n",
            "This is while loop\n",
            "This is while loop\n",
            "This is while loop\n",
            "This is while loop\n",
            "This is while loop\n",
            "This is while loop\n",
            "This is while loop\n",
            "This is while loop\n",
            "This is while loop\n",
            "This is while loop\n",
            "This is while loop\n",
            "This is while loop\n",
            "This is while loop\n",
            "This is while loop\n",
            "This is while loop\n",
            "This is while loop\n",
            "This is while loop\n",
            "This is while loop\n",
            "This is while loop\n",
            "This is while loop\n",
            "This is while loop\n",
            "This is while loop\n",
            "This is while loop\n",
            "This is while loop\n",
            "This is while loop\n",
            "This is while loop\n",
            "This is while loop\n",
            "This is while loop\n",
            "This is while loop\n",
            "This is while loop\n",
            "This is while loop\n",
            "This is while loop\n",
            "This is while loop\n",
            "This is while loop\n",
            "This is while loop\n",
            "This is while loop\n",
            "This is while loop\n",
            "This is while loop\n",
            "This is while loop\n",
            "This is while loop\n",
            "This is while loop\n",
            "This is while loop\n",
            "This is while loop\n",
            "This is while loop\n",
            "This is while loop\n",
            "This is while loop\n",
            "This is while loop\n",
            "This is while loop\n",
            "This is while loop\n",
            "This is while loop\n",
            "This is while loop\n",
            "This is while loop\n",
            "This is while loop\n",
            "This is while loop\n",
            "This is while loop\n",
            "This is while loop\n",
            "This is while loop\n",
            "This is while loop\n",
            "This is while loop\n",
            "This is while loop\n",
            "This is while loop\n",
            "This is while loop\n",
            "This is while loop\n",
            "This is while loop\n",
            "This is while loop\n",
            "This is while loop\n",
            "This is while loop\n",
            "This is while loop\n",
            "This is while loop\n",
            "This is while loop\n",
            "This is while loop\n",
            "This is while loop\n",
            "This is while loop\n",
            "This is while loop\n",
            "This is while loop\n",
            "This is while loop\n",
            "This is while loop\n",
            "This is while loop\n",
            "This is while loop\n",
            "This is while loop\n",
            "This is while loop\n",
            "This is while loop\n",
            "This is while loop\n",
            "This is while loop\n",
            "This is while loop\n",
            "This is while loop\n",
            "This is while loop\n",
            "This is while loop\n",
            "This is while loop\n",
            "This is while loop\n",
            "This is while loop\n",
            "This is while loop\n",
            "This is while loop\n",
            "This is while loop\n",
            "This is while loop\n",
            "This is while loop\n",
            "This is while loop\n",
            "This is while loop\n",
            "This is while loop\n",
            "This is while loop\n",
            "This is while loop\n",
            "This is while loop\n",
            "This is while loop\n",
            "This is while loop\n",
            "This is while loop\n",
            "This is while loop\n",
            "This is while loop\n",
            "This is while loop\n",
            "This is while loop\n",
            "This is while loop\n",
            "This is while loop\n",
            "This is while loop\n",
            "This is while loop\n",
            "This is while loop\n",
            "This is while loop\n",
            "This is while loop\n",
            "This is while loop\n",
            "This is while loop\n",
            "This is while loop\n",
            "This is while loop\n",
            "This is while loop\n",
            "This is while loop\n",
            "This is while loop\n",
            "This is while loop\n",
            "This is while loop\n",
            "This is while loop\n",
            "This is while loop\n",
            "This is while loop\n",
            "This is while loop\n",
            "This is while loop\n",
            "This is while loop\n",
            "This is while loop\n",
            "This is while loop\n",
            "This is while loop\n",
            "This is while loop\n",
            "This is while loop\n",
            "This is while loop\n",
            "This is while loop\n",
            "This is while loop\n",
            "This is while loop\n",
            "This is while loop\n",
            "This is while loop\n",
            "This is while loop\n",
            "This is while loop\n",
            "This is while loop\n",
            "This is while loop\n",
            "This is while loop\n",
            "This is while loop\n",
            "This is while loop\n",
            "This is while loop\n",
            "This is while loop\n",
            "This is while loop\n",
            "This is while loop\n",
            "This is while loop\n",
            "This is while loop\n",
            "This is while loop\n",
            "This is while loop\n",
            "This is while loop\n",
            "This is while loop\n",
            "This is while loop\n",
            "This is while loop\n",
            "This is while loop\n",
            "This is while loop\n",
            "This is while loop\n",
            "This is while loop\n",
            "This is while loop\n",
            "This is while loop\n",
            "This is while loop\n",
            "This is while loop\n",
            "This is while loop\n",
            "This is while loop\n",
            "This is while loop\n",
            "This is while loop\n",
            "This is while loop\n",
            "This is while loop\n",
            "This is while loop\n",
            "This is while loop\n",
            "This is while loop\n",
            "This is while loop\n",
            "This is while loop\n",
            "This is while loop\n",
            "This is while loop\n",
            "This is while loop\n",
            "This is while loop\n",
            "This is while loop\n",
            "This is while loop\n",
            "This is while loop\n",
            "This is while loop\n",
            "This is while loop\n",
            "This is while loop\n",
            "This is while loop\n",
            "This is while loop\n",
            "This is while loop\n",
            "This is while loop\n",
            "This is while loop\n",
            "This is while loop\n",
            "This is while loop\n",
            "This is while loop\n",
            "This is while loop\n",
            "This is while loop\n",
            "This is while loop\n",
            "This is while loop\n",
            "This is while loop\n",
            "This is while loop\n",
            "This is while loop\n",
            "This is while loop\n",
            "This is while loop\n",
            "This is while loop\n",
            "This is while loop\n",
            "This is while loop\n",
            "This is while loop\n",
            "This is while loop\n",
            "This is while loop\n",
            "This is while loop\n",
            "This is while loop\n",
            "This is while loop\n",
            "This is while loop\n",
            "This is while loop\n",
            "This is while loop\n",
            "This is while loop\n",
            "This is while loop\n",
            "This is while loop\n",
            "This is while loop\n",
            "This is while loop\n",
            "This is while loop\n",
            "This is while loop\n",
            "This is while loop\n",
            "This is while loop\n",
            "This is while loop\n",
            "This is while loop\n",
            "This is while loop\n",
            "This is while loop\n",
            "This is while loop\n",
            "This is while loop\n",
            "This is while loop\n",
            "This is while loop\n",
            "This is while loop\n",
            "This is while loop\n",
            "This is while loop\n",
            "This is while loop\n",
            "This is while loop\n",
            "This is while loop\n",
            "This is while loop\n",
            "This is while loop\n",
            "This is while loop\n",
            "This is while loop\n",
            "This is while loop\n",
            "This is while loop\n",
            "This is while loop\n",
            "This is while loop\n",
            "This is while loop\n",
            "This is while loop\n",
            "This is while loop\n",
            "This is while loop\n",
            "This is while loop\n",
            "This is while loop\n",
            "This is while loop\n",
            "This is while loop\n",
            "This is while loop\n",
            "This is while loop\n",
            "This is while loop\n",
            "This is while loop\n",
            "This is while loop\n",
            "This is while loop\n",
            "This is while loop\n",
            "This is while loop\n",
            "This is while loop\n",
            "This is while loop\n",
            "This is while loop\n",
            "This is while loop\n",
            "This is while loop\n",
            "This is while loop\n",
            "This is while loop\n",
            "This is while loop\n",
            "This is while loop\n",
            "This is while loop\n",
            "This is while loop\n",
            "This is while loop\n",
            "This is while loop\n",
            "This is while loop\n",
            "This is while loop\n",
            "This is while loop\n",
            "This is while loop\n",
            "This is while loop\n",
            "This is while loop\n",
            "This is while loop\n",
            "This is while loop\n",
            "This is while loop\n",
            "This is while loop\n",
            "This is while loop\n",
            "This is while loop\n",
            "This is while loop\n",
            "This is while loop\n",
            "This is while loop\n",
            "This is while loop\n",
            "This is while loop\n",
            "This is while loop\n",
            "This is while loop\n",
            "This is while loop\n",
            "This is while loop\n",
            "This is while loop\n",
            "This is while loop\n",
            "This is while loop\n",
            "This is while loop\n",
            "This is while loop\n",
            "This is while loop\n",
            "This is while loop\n",
            "This is while loop\n",
            "This is while loop\n",
            "This is while loop\n",
            "This is while loop\n",
            "This is while loop\n",
            "This is while loop\n",
            "This is while loop\n",
            "This is while loop\n",
            "This is while loop\n",
            "This is while loop\n",
            "This is while loop\n",
            "This is while loop\n",
            "This is while loop\n",
            "This is while loop\n",
            "This is while loop\n",
            "This is while loop\n",
            "This is while loop\n",
            "This is while loop\n",
            "This is while loop\n",
            "This is while loop\n",
            "This is while loop\n",
            "This is while loop\n",
            "This is while loop\n",
            "This is while loop\n",
            "This is while loop\n",
            "This is while loop\n",
            "This is while loop\n",
            "This is while loop\n",
            "This is while loop\n",
            "This is while loop\n",
            "This is while loop\n",
            "This is while loop\n",
            "This is while loop\n",
            "This is while loop\n",
            "This is while loop\n",
            "This is while loop\n",
            "This is while loop\n",
            "This is while loop\n",
            "This is while loop\n",
            "This is while loop\n",
            "This is while loop\n",
            "This is while loop\n",
            "This is while loop\n",
            "This is while loop\n",
            "This is while loop\n",
            "This is while loop\n",
            "This is while loop\n",
            "This is while loop\n",
            "This is while loop\n",
            "This is while loop\n",
            "This is while loop\n",
            "This is while loop\n",
            "This is while loop\n",
            "This is while loop\n",
            "This is while loop\n",
            "This is while loop\n",
            "This is while loop\n",
            "This is while loop\n",
            "This is while loop\n",
            "This is while loop\n",
            "This is while loop\n",
            "This is while loop\n",
            "This is while loop\n",
            "This is while loop\n",
            "This is while loop\n",
            "This is while loop\n",
            "This is while loop\n",
            "This is while loop\n",
            "This is while loop\n",
            "This is while loop\n",
            "This is while loop\n",
            "This is while loop\n",
            "This is while loop\n",
            "This is while loop\n",
            "This is while loop\n",
            "This is while loop\n",
            "This is while loop\n",
            "This is while loop\n",
            "This is while loop\n",
            "This is while loop\n",
            "This is while loop\n",
            "This is while loop\n",
            "This is while loop\n",
            "This is while loop\n",
            "This is while loop\n",
            "This is while loop\n",
            "This is while loop\n",
            "This is while loop\n",
            "This is while loop\n",
            "This is while loop\n",
            "This is while loop\n",
            "This is while loop\n",
            "This is while loop\n",
            "This is while loop\n",
            "This is while loop\n",
            "This is while loop\n",
            "This is while loop\n",
            "This is while loop\n",
            "This is while loop\n",
            "This is while loop\n",
            "This is while loop\n",
            "This is while loop\n",
            "This is while loop\n",
            "This is while loop\n",
            "This is while loop\n",
            "This is while loop\n",
            "This is while loop\n",
            "This is while loop\n",
            "This is while loop\n",
            "This is while loop\n",
            "This is while loop\n",
            "This is while loop\n",
            "This is while loop\n",
            "This is while loop\n",
            "This is while loop\n",
            "This is while loop\n",
            "This is while loop\n",
            "This is while loop\n",
            "This is while loop\n",
            "This is while loop\n",
            "This is while loop\n",
            "This is while loop\n",
            "This is while loop\n",
            "This is while loop\n",
            "This is while loop\n",
            "This is while loop\n",
            "This is while loop\n",
            "This is while loop\n",
            "This is while loop\n",
            "This is while loop\n",
            "This is while loop\n",
            "This is while loop\n",
            "This is while loop\n",
            "This is while loop\n",
            "This is while loop\n",
            "This is while loop\n",
            "This is while loop\n",
            "This is while loop\n",
            "This is while loop\n",
            "This is while loop\n",
            "This is while loop\n",
            "This is while loop\n",
            "This is while loop\n",
            "This is while loop\n",
            "This is while loop\n",
            "This is while loop\n",
            "This is while loop\n",
            "This is while loop\n",
            "This is while loop\n",
            "This is while loop\n",
            "This is while loop\n",
            "This is while loop\n",
            "This is while loop\n",
            "This is while loop\n",
            "This is while loop\n",
            "This is while loop\n",
            "This is while loop\n",
            "This is while loop\n",
            "This is while loop\n",
            "This is while loop\n",
            "This is while loop\n",
            "This is while loop\n",
            "This is while loop\n",
            "This is while loop\n",
            "This is while loop\n",
            "This is while loop\n",
            "This is while loop\n",
            "This is while loop\n",
            "This is while loop\n",
            "This is while loop\n",
            "This is while loop\n",
            "This is while loop\n",
            "This is while loop\n",
            "This is while loop\n",
            "This is while loop\n",
            "This is while loop\n",
            "This is while loop\n",
            "This is while loop\n",
            "This is while loop\n",
            "This is while loop\n",
            "This is while loop\n",
            "This is while loop\n",
            "This is while loop\n",
            "This is while loop\n",
            "This is while loop\n",
            "This is while loop\n",
            "This is while loop\n",
            "This is while loop\n",
            "This is while loop\n",
            "This is while loop\n",
            "This is while loop\n",
            "This is while loop\n",
            "This is while loop\n",
            "This is while loop\n",
            "This is while loop\n",
            "This is while loop\n",
            "This is while loop\n",
            "This is while loop\n",
            "This is while loop\n",
            "This is while loop\n",
            "This is while loop\n",
            "This is while loop\n",
            "This is while loop\n",
            "This is while loop\n",
            "This is while loop\n",
            "This is while loop\n",
            "This is while loop\n",
            "This is while loop\n",
            "This is while loop\n",
            "This is while loop\n",
            "This is while loop\n",
            "This is while loop\n",
            "This is while loop\n",
            "This is while loop\n",
            "This is while loop\n",
            "This is while loop\n",
            "This is while loop\n",
            "This is while loop\n",
            "This is while loop\n",
            "This is while loop\n",
            "This is while loop\n",
            "This is while loop\n",
            "This is while loop\n",
            "This is while loop\n",
            "This is while loop\n",
            "This is while loop\n",
            "This is while loop\n",
            "This is while loop\n",
            "This is while loop\n",
            "This is while loop\n",
            "This is while loop\n",
            "This is while loop\n",
            "This is while loop\n",
            "This is while loop\n",
            "This is while loop\n",
            "This is while loop\n",
            "This is while loop\n",
            "This is while loop\n",
            "This is while loop\n",
            "This is while loop\n",
            "This is while loop\n",
            "This is while loop\n",
            "This is while loop\n",
            "This is while loop\n",
            "This is while loop\n",
            "This is while loop\n",
            "This is while loop\n",
            "This is while loop\n",
            "This is while loop\n",
            "This is while loop\n",
            "This is while loop\n",
            "This is while loop\n",
            "This is while loop\n",
            "This is while loop\n",
            "This is while loop\n",
            "This is while loop\n",
            "This is while loop\n",
            "This is while loop\n",
            "This is while loop\n",
            "This is while loop\n",
            "This is while loop\n",
            "This is while loop\n",
            "This is while loop\n",
            "This is while loop\n",
            "This is while loop\n",
            "This is while loop\n",
            "This is while loop\n",
            "This is while loop\n",
            "This is while loop\n",
            "This is while loop\n",
            "This is while loop\n",
            "This is while loop\n",
            "This is while loop\n",
            "This is while loop\n",
            "This is while loop\n",
            "This is while loop\n",
            "This is while loop\n",
            "This is while loop\n",
            "This is while loop\n",
            "This is while loop\n",
            "This is while loop\n",
            "This is while loop\n",
            "This is while loop\n",
            "This is while loop\n",
            "This is while loop\n",
            "This is while loop\n",
            "This is while loop\n",
            "This is while loop\n",
            "This is while loop\n",
            "This is while loop\n",
            "This is while loop\n",
            "This is while loop\n",
            "This is while loop\n",
            "This is while loop\n",
            "This is while loop\n",
            "This is while loop\n",
            "This is while loop\n",
            "This is while loop\n",
            "This is while loop\n",
            "This is while loop\n",
            "This is while loop\n",
            "This is while loop\n",
            "This is while loop\n",
            "This is while loop\n",
            "This is while loop\n",
            "This is while loop\n",
            "This is while loop\n",
            "This is while loop\n",
            "This is while loop\n",
            "This is while loop\n",
            "This is while loop\n",
            "This is while loop\n",
            "This is while loop\n",
            "This is while loop\n",
            "This is while loop\n",
            "This is while loop\n",
            "This is while loop\n",
            "This is while loop\n",
            "This is while loop\n",
            "This is while loop\n",
            "This is while loop\n",
            "This is while loop\n",
            "This is while loop\n",
            "This is while loop\n",
            "This is while loop\n",
            "This is while loop\n",
            "This is while loop\n",
            "This is while loop\n",
            "This is while loop\n",
            "This is while loop\n",
            "This is while loop\n",
            "This is while loop\n",
            "This is while loop\n",
            "This is while loop\n",
            "This is while loop\n",
            "This is while loop\n",
            "This is while loop\n",
            "This is while loop\n",
            "This is while loop\n",
            "This is while loop\n",
            "This is while loop\n",
            "This is while loop\n",
            "This is while loop\n",
            "This is while loop\n",
            "This is while loop\n",
            "This is while loop\n",
            "This is while loop\n",
            "This is while loop\n",
            "This is while loop\n",
            "This is while loop\n",
            "This is while loop\n",
            "This is while loop\n",
            "This is while loop\n",
            "This is while loop\n",
            "This is while loop\n",
            "This is while loop\n",
            "This is while loop\n",
            "This is while loop\n",
            "This is while loop\n",
            "This is while loop\n",
            "This is while loop\n",
            "This is while loop\n",
            "This is while loop\n",
            "This is while loop\n",
            "This is while loop\n",
            "This is while loop\n",
            "This is while loop\n",
            "This is while loop\n",
            "This is while loop\n",
            "This is while loop\n",
            "This is while loop\n",
            "This is while loop\n",
            "This is while loop\n",
            "This is while loop\n",
            "This is while loop\n",
            "This is while loop\n",
            "This is while loop\n",
            "This is while loop\n",
            "This is while loop\n",
            "This is while loop\n",
            "This is while loop\n",
            "This is while loop\n",
            "This is while loop\n",
            "This is while loop\n",
            "This is while loop\n",
            "This is while loop\n",
            "This is while loop\n",
            "This is while loop\n",
            "This is while loop\n",
            "This is while loop\n",
            "This is while loop\n",
            "This is while loop\n",
            "This is while loop\n",
            "This is while loop\n",
            "This is while loop\n",
            "This is while loop\n",
            "This is while loop\n",
            "This is while loop\n",
            "This is while loop\n",
            "This is while loop\n",
            "This is while loop\n",
            "This is while loop\n",
            "This is while loop\n",
            "This is while loop\n",
            "This is while loop\n",
            "This is while loop\n",
            "This is while loop\n",
            "This is while loop\n",
            "This is while loop\n",
            "This is while loop\n",
            "This is while loop\n",
            "This is while loop\n",
            "This is while loop\n",
            "This is while loop\n",
            "This is while loop\n",
            "This is while loop\n",
            "This is while loop\n",
            "This is while loop\n",
            "This is while loop\n",
            "This is while loop\n",
            "This is while loop\n",
            "This is while loop\n",
            "This is while loop\n",
            "This is while loop\n",
            "This is while loop\n",
            "This is while loop\n",
            "This is while loop\n",
            "This is while loop\n",
            "This is while loop\n",
            "This is while loop\n",
            "This is while loop\n",
            "This is while loop\n",
            "This is while loop\n",
            "This is while loop\n",
            "This is while loop\n",
            "This is while loop\n",
            "This is while loop\n",
            "This is while loop\n",
            "This is while loop\n",
            "This is while loop\n",
            "This is while loop\n",
            "This is while loop\n",
            "This is while loop\n",
            "This is while loop\n",
            "This is while loop\n",
            "This is while loop\n",
            "This is while loop\n",
            "This is while loop\n",
            "This is while loop\n",
            "This is while loop\n",
            "This is while loop\n",
            "This is while loop\n",
            "This is while loop\n",
            "This is while loop\n",
            "This is while loop\n",
            "This is while loop\n",
            "This is while loop\n",
            "This is while loop\n",
            "This is while loop\n",
            "This is while loop\n",
            "This is while loop\n",
            "This is while loop\n",
            "This is while loop\n",
            "This is while loop\n",
            "This is while loop\n",
            "This is while loop\n",
            "This is while loop\n",
            "This is while loop\n",
            "This is while loop\n",
            "This is while loop\n",
            "This is while loop\n",
            "This is while loop\n",
            "This is while loop\n",
            "This is while loop\n",
            "This is while loop\n",
            "This is while loop\n",
            "This is while loop\n",
            "This is while loop\n",
            "This is while loop\n",
            "This is while loop\n",
            "This is while loop\n",
            "This is while loop\n",
            "This is while loop\n",
            "This is while loop\n",
            "This is while loop\n",
            "This is while loop\n",
            "This is while loop\n",
            "This is while loop\n",
            "This is while loop\n",
            "This is while loop\n",
            "This is while loop\n",
            "This is while loop\n",
            "This is while loop\n",
            "This is while loop\n",
            "This is while loop\n",
            "This is while loop\n",
            "This is while loop\n",
            "This is while loop\n",
            "This is while loop\n",
            "This is while loop\n",
            "This is while loop\n",
            "This is while loop\n",
            "This is while loop\n",
            "This is while loop\n",
            "This is while loop\n",
            "This is while loop\n",
            "This is while loop\n",
            "This is while loop\n",
            "This is while loop\n",
            "This is while loop\n",
            "This is while loop\n",
            "This is while loop\n",
            "This is while loop\n",
            "This is while loop\n",
            "This is while loop\n",
            "This is while loop\n",
            "This is while loop\n",
            "This is while loop\n",
            "This is while loop\n",
            "This is while loop\n",
            "This is while loop\n",
            "This is while loop\n",
            "This is while loop\n",
            "This is while loop\n",
            "This is while loop\n",
            "This is while loop\n",
            "This is while loop\n",
            "This is while loop\n",
            "This is while loop\n",
            "This is while loop\n",
            "This is while loop\n",
            "This is while loop\n",
            "This is while loop\n",
            "This is while loop\n",
            "This is while loop\n",
            "This is while loop\n",
            "This is while loop\n",
            "This is while loop\n",
            "This is while loop\n",
            "This is while loop\n",
            "This is while loop\n",
            "This is while loop\n",
            "This is while loop\n",
            "This is while loop\n",
            "This is while loop\n",
            "This is while loop\n",
            "This is while loop\n",
            "This is while loop\n",
            "This is while loop\n",
            "This is while loop\n",
            "This is while loop\n",
            "This is while loop\n",
            "This is while loop\n",
            "This is while loop\n",
            "This is while loop\n",
            "This is while loop\n",
            "This is while loop\n",
            "This is while loop\n",
            "This is while loop\n",
            "This is while loop\n",
            "This is while loop\n",
            "This is while loop\n",
            "This is while loop\n",
            "This is while loop\n",
            "This is while loop\n",
            "This is while loop\n",
            "This is while loop\n",
            "This is while loop\n",
            "This is while loop\n",
            "This is while loop\n",
            "This is while loop\n",
            "This is while loop\n",
            "This is while loop\n",
            "This is while loop\n",
            "This is while loop\n",
            "This is while loop\n",
            "This is while loop\n",
            "This is while loop\n",
            "This is while loop\n",
            "This is while loop\n",
            "This is while loop\n",
            "This is while loop\n",
            "This is while loop\n",
            "This is while loop\n",
            "This is while loop\n",
            "This is while loop\n",
            "This is while loop\n",
            "This is while loop\n",
            "This is while loop\n",
            "This is while loop\n",
            "This is while loop\n",
            "This is while loop\n",
            "This is while loop\n",
            "This is while loop\n",
            "This is while loop\n",
            "This is while loop\n",
            "This is while loop\n",
            "This is while loop\n",
            "This is while loop\n",
            "This is while loop\n",
            "This is while loop\n",
            "This is while loop\n",
            "This is while loop\n",
            "This is while loop\n",
            "This is while loop\n",
            "This is while loop\n",
            "This is while loop\n",
            "This is while loop\n",
            "This is while loop\n",
            "This is while loop\n",
            "This is while loop\n",
            "This is while loop\n",
            "This is while loop\n",
            "This is while loop\n",
            "This is while loop\n",
            "This is while loop\n",
            "This is while loop\n",
            "This is while loop\n",
            "This is while loop\n",
            "This is while loop\n",
            "This is while loop\n",
            "This is while loop\n",
            "This is while loop\n",
            "This is while loop\n",
            "This is while loop\n",
            "This is while loop\n",
            "This is while loop\n",
            "This is while loop\n",
            "This is while loop\n",
            "This is while loop\n",
            "This is while loop\n",
            "This is while loop\n",
            "This is while loop\n",
            "This is while loop\n",
            "This is while loop\n",
            "This is while loop\n",
            "This is while loop\n",
            "This is while loop\n",
            "This is while loop\n",
            "This is while loop\n",
            "This is while loop\n",
            "This is while loop\n",
            "This is while loop\n",
            "This is while loop\n",
            "This is while loop\n",
            "This is while loop\n",
            "This is while loop\n",
            "This is while loop\n",
            "This is while loop\n",
            "This is while loop\n",
            "This is while loop\n",
            "This is while loop\n",
            "This is while loop\n",
            "This is while loop\n",
            "This is while loop\n",
            "This is while loop\n",
            "This is while loop\n",
            "This is while loop\n",
            "This is while loop\n",
            "This is while loop\n",
            "This is while loop\n",
            "This is while loop\n",
            "This is while loop\n",
            "This is while loop\n",
            "This is while loop\n",
            "This is while loop\n",
            "This is while loop\n",
            "This is while loop\n",
            "This is while loop\n",
            "This is while loop\n",
            "This is while loop\n",
            "This is while loop\n",
            "This is while loop\n",
            "This is while loop\n",
            "This is while loop\n",
            "This is while loop\n",
            "This is while loop\n",
            "This is while loop\n",
            "This is while loop\n",
            "This is while loop\n",
            "This is while loop\n",
            "This is while loop\n",
            "This is while loop\n",
            "This is while loop\n",
            "This is while loop\n",
            "This is while loop\n",
            "This is while loop\n",
            "This is while loop\n",
            "This is while loop\n",
            "This is while loop\n",
            "This is while loop\n",
            "This is while loop\n",
            "This is while loop\n",
            "This is while loop\n",
            "This is while loop\n",
            "This is while loop\n",
            "This is while loop\n",
            "This is while loop\n",
            "This is while loop\n",
            "This is while loop\n",
            "This is while loop\n",
            "This is while loop\n",
            "This is while loop\n",
            "This is while loop\n",
            "This is while loop\n",
            "This is while loop\n",
            "This is while loop\n",
            "This is while loop\n",
            "This is while loop\n",
            "This is while loop\n",
            "This is while loop\n",
            "This is while loop\n",
            "This is while loop\n",
            "This is while loop\n",
            "This is while loop\n",
            "This is while loop\n",
            "This is while loop\n",
            "This is while loop\n",
            "This is while loop\n",
            "This is while loop\n",
            "This is while loop\n",
            "This is while loop\n",
            "This is while loop\n",
            "This is while loop\n",
            "This is while loop\n",
            "This is while loop\n",
            "This is while loop\n",
            "This is while loop\n",
            "This is while loop\n",
            "This is while loop\n",
            "This is while loop\n",
            "This is while loop\n",
            "This is while loop\n",
            "This is while loop\n",
            "This is while loop\n",
            "This is while loop\n",
            "This is while loop\n",
            "This is while loop\n",
            "This is while loop\n",
            "This is while loop\n",
            "This is while loop\n",
            "This is while loop\n",
            "This is while loop\n",
            "This is while loop\n",
            "This is while loop\n",
            "This is while loop\n",
            "This is while loop\n",
            "This is while loop\n",
            "This is while loop\n",
            "This is while loop\n",
            "This is while loop\n",
            "This is while loop\n",
            "This is while loop\n",
            "This is while loop\n",
            "This is while loop\n",
            "This is while loop\n",
            "This is while loop\n",
            "This is while loop\n",
            "This is while loop\n",
            "This is while loop\n",
            "This is while loop\n",
            "This is while loop\n",
            "This is while loop\n",
            "This is while loop\n",
            "This is while loop\n",
            "This is while loop\n",
            "This is while loop\n",
            "This is while loop\n",
            "This is while loop\n",
            "This is while loop\n",
            "This is while loop\n",
            "This is while loop\n",
            "This is while loop\n",
            "This is while loop\n",
            "This is while loop\n",
            "This is while loop\n",
            "This is while loop\n",
            "This is while loop\n",
            "This is while loop\n",
            "This is while loop\n",
            "This is while loop\n",
            "This is while loop\n",
            "This is while loop\n",
            "This is while loop\n",
            "This is while loop\n",
            "This is while loop\n",
            "This is while loop\n",
            "This is while loop\n",
            "This is while loop\n",
            "This is while loop\n",
            "This is while loop\n",
            "This is while loop\n",
            "This is while loop\n",
            "This is while loop\n",
            "This is while loop\n",
            "This is while loop\n",
            "This is while loop\n",
            "This is while loop\n",
            "This is while loop\n",
            "This is while loop\n",
            "This is while loop\n",
            "This is while loop\n",
            "This is while loop\n",
            "This is while loop\n",
            "This is while loop\n",
            "This is while loop\n",
            "This is while loop\n",
            "This is while loop\n",
            "This is while loop\n",
            "This is while loop\n",
            "This is while loop\n",
            "This is while loop\n",
            "This is while loop\n",
            "This is while loop\n",
            "This is while loop\n",
            "This is while loop\n",
            "This is while loop\n",
            "This is while loop\n",
            "This is while loop\n",
            "This is while loop\n",
            "This is while loop\n",
            "This is while loop\n",
            "This is while loop\n",
            "This is while loop\n",
            "This is while loop\n",
            "This is while loop\n",
            "This is while loop\n",
            "This is while loop\n",
            "This is while loop\n",
            "This is while loop\n",
            "This is while loop\n",
            "This is while loop\n",
            "This is while loop\n",
            "This is while loop\n",
            "This is while loop\n",
            "This is while loop\n",
            "This is while loop\n",
            "This is while loop\n",
            "This is while loop\n",
            "This is while loop\n",
            "This is while loop\n",
            "This is while loop\n",
            "This is while loop\n",
            "This is while loop\n",
            "This is while loop\n",
            "This is while loop\n",
            "This is while loop\n",
            "This is while loop\n",
            "This is while loop\n",
            "This is while loop\n",
            "This is while loop\n",
            "This is while loop\n",
            "This is while loop\n",
            "This is while loop\n",
            "This is while loop\n",
            "This is while loop\n",
            "This is while loop\n",
            "This is while loop\n",
            "This is while loop\n",
            "This is while loop\n",
            "This is while loop\n",
            "This is while loop\n",
            "This is while loop\n",
            "This is while loop\n",
            "This is while loop\n",
            "This is while loop\n",
            "This is while loop\n",
            "This is while loop\n",
            "This is while loop\n",
            "This is while loop\n",
            "This is while loop\n",
            "This is while loop\n",
            "This is while loop\n",
            "This is while loop\n",
            "This is while loop\n",
            "This is while loop\n",
            "This is while loop\n",
            "This is while loop\n",
            "This is while loop\n",
            "This is while loop\n",
            "This is while loop\n",
            "This is while loop\n",
            "This is while loop\n",
            "This is while loop\n",
            "This is while loop\n",
            "This is while loop\n",
            "This is while loop\n",
            "This is while loop\n",
            "This is while loop\n",
            "This is while loop\n",
            "This is while loop\n",
            "This is while loop\n",
            "This is while loop\n",
            "This is while loop\n",
            "This is while loop\n",
            "This is while loop\n",
            "This is while loop\n",
            "This is while loop\n",
            "This is while loop\n",
            "This is while loop\n",
            "This is while loop\n",
            "This is while loop\n",
            "This is while loop\n",
            "This is while loop\n",
            "This is while loop\n",
            "This is while loop\n",
            "This is while loop\n",
            "This is while loop\n",
            "This is while loop\n",
            "This is while loop\n",
            "This is while loop\n",
            "This is while loop\n",
            "This is while loop\n",
            "This is while loop\n",
            "This is while loop\n",
            "This is while loop\n",
            "This is while loop\n",
            "This is while loop\n",
            "This is while loop\n",
            "This is while loop\n",
            "This is while loop\n",
            "This is while loop\n",
            "This is while loop\n",
            "This is while loop\n",
            "This is while loop\n",
            "This is while loop\n",
            "This is while loop\n",
            "This is while loop\n",
            "This is while loop\n",
            "This is while loop\n",
            "This is while loop\n",
            "This is while loop\n",
            "This is while loop\n",
            "This is while loop\n",
            "This is while loop\n",
            "This is while loop\n",
            "This is while loop\n",
            "This is while loop\n",
            "This is while loop\n",
            "This is while loop\n",
            "This is while loop\n",
            "This is while loop\n",
            "This is while loop\n",
            "This is while loop\n",
            "This is while loop\n",
            "This is while loop\n",
            "This is while loop\n",
            "This is while loop\n",
            "This is while loop\n",
            "This is while loop\n",
            "This is while loop\n",
            "This is while loop\n",
            "This is while loop\n",
            "This is while loop\n",
            "This is while loop\n",
            "This is while loop\n",
            "This is while loop\n",
            "This is while loop\n",
            "This is while loop\n",
            "This is while loop\n",
            "This is while loop\n",
            "This is while loop\n",
            "This is while loop\n",
            "This is while loop\n",
            "This is while loop\n",
            "This is while loop\n",
            "This is while loop\n",
            "This is while loop\n",
            "This is while loop\n",
            "This is while loop\n",
            "This is while loop\n",
            "This is while loop\n",
            "This is while loop\n",
            "This is while loop\n",
            "This is while loop\n",
            "This is while loop\n",
            "This is while loop\n",
            "This is while loop\n",
            "This is while loop\n",
            "This is while loop\n",
            "This is while loop\n",
            "This is while loop\n",
            "This is while loop\n",
            "This is while loop\n",
            "This is while loop\n",
            "This is while loop\n",
            "This is while loop\n",
            "This is while loop\n",
            "This is while loop\n",
            "This is while loop\n",
            "This is while loop\n",
            "This is while loop\n",
            "This is while loop\n",
            "This is while loop\n",
            "This is while loop\n",
            "This is while loop\n",
            "This is while loop\n",
            "This is while loop\n",
            "This is while loop\n",
            "This is while loop\n",
            "This is while loop\n",
            "This is while loop\n",
            "This is while loop\n",
            "This is while loop\n",
            "This is while loop\n",
            "This is while loop\n",
            "This is while loop\n",
            "This is while loop\n",
            "This is while loop\n",
            "This is while loop\n",
            "This is while loop\n",
            "This is while loop\n",
            "This is while loop\n",
            "This is while loop\n",
            "This is while loop\n",
            "This is while loop\n",
            "This is while loop\n",
            "This is while loop\n",
            "This is while loop\n",
            "This is while loop\n",
            "This is while loop\n",
            "This is while loop\n",
            "This is while loop\n",
            "This is while loop\n",
            "This is while loop\n",
            "This is while loop\n",
            "This is while loop\n",
            "This is while loop\n",
            "This is while loop\n",
            "This is while loop\n",
            "This is while loop\n",
            "This is while loop\n",
            "This is while loop\n",
            "This is while loop\n",
            "This is while loop\n",
            "This is while loop\n",
            "This is while loop\n",
            "This is while loop\n",
            "This is while loop\n",
            "This is while loop\n",
            "This is while loop\n",
            "This is while loop\n",
            "This is while loop\n",
            "This is while loop\n",
            "This is while loop\n",
            "This is while loop\n",
            "This is while loop\n",
            "This is while loop\n",
            "This is while loop\n",
            "This is while loop\n",
            "This is while loop\n",
            "This is while loop\n",
            "This is while loop\n",
            "This is while loop\n",
            "This is while loop\n",
            "This is while loop\n",
            "This is while loop\n",
            "This is while loop\n",
            "This is while loop\n",
            "This is while loop\n",
            "This is while loop\n",
            "This is while loop\n",
            "This is while loop\n",
            "This is while loop\n",
            "This is while loop\n",
            "This is while loop\n",
            "This is while loop\n",
            "This is while loop\n",
            "This is while loop\n",
            "This is while loop\n",
            "This is while loop\n",
            "This is while loop\n",
            "This is while loop\n",
            "This is while loop\n",
            "This is while loop\n",
            "This is while loop\n",
            "This is while loop\n",
            "This is while loop\n",
            "This is while loop\n",
            "This is while loop\n",
            "This is while loop\n",
            "This is while loop\n",
            "This is while loop\n",
            "This is while loop\n",
            "This is while loop\n",
            "This is while loop\n",
            "This is while loop\n",
            "This is while loop\n",
            "This is while loop\n",
            "This is while loop\n",
            "This is while loop\n",
            "This is while loop\n",
            "This is while loop\n",
            "This is while loop\n",
            "This is while loop\n",
            "This is while loop\n",
            "This is while loop\n",
            "This is while loop\n",
            "This is while loop\n",
            "This is while loop\n",
            "This is while loop\n",
            "This is while loop\n",
            "This is while loop\n",
            "This is while loop\n",
            "This is while loop\n",
            "This is while loop\n",
            "This is while loop\n",
            "This is while loop\n",
            "This is while loop\n",
            "This is while loop\n",
            "This is while loop\n",
            "This is while loop\n",
            "This is while loop\n",
            "This is while loop\n",
            "This is while loop\n",
            "This is while loop\n",
            "This is while loop\n",
            "This is while loop\n",
            "This is while loop\n",
            "This is while loop\n",
            "This is while loop\n",
            "This is while loop\n",
            "This is while loop\n",
            "This is while loop\n",
            "This is while loop\n",
            "This is while loop\n",
            "This is while loop\n",
            "This is while loop\n",
            "This is while loop\n",
            "This is while loop\n",
            "This is while loop\n",
            "This is while loop\n",
            "This is while loop\n",
            "This is while loop\n",
            "This is while loop\n",
            "This is while loop\n",
            "This is while loop\n",
            "This is while loop\n",
            "This is while loop\n",
            "This is while loop\n",
            "This is while loop\n",
            "This is while loop\n",
            "This is while loop\n",
            "This is while loop\n",
            "This is while loop\n",
            "This is while loop\n",
            "This is while loop\n",
            "This is while loop\n",
            "This is while loop\n",
            "This is while loop\n",
            "This is while loop\n",
            "This is while loop\n",
            "This is while loop\n",
            "This is while loop\n",
            "This is while loop\n",
            "This is while loop\n",
            "This is while loop\n",
            "This is while loop\n",
            "This is while loop\n",
            "This is while loop\n",
            "This is while loop\n",
            "This is while loop\n",
            "This is while loop\n",
            "This is while loop\n",
            "This is while loop\n",
            "This is while loop\n",
            "This is while loop\n",
            "This is while loop\n",
            "This is while loop\n",
            "This is while loop\n",
            "This is while loop\n",
            "This is while loop\n",
            "This is while loop\n",
            "This is while loop\n",
            "This is while loop\n",
            "This is while loop\n",
            "This is while loop\n",
            "This is while loop\n",
            "This is while loop\n",
            "This is while loop\n",
            "This is while loop\n",
            "This is while loop\n",
            "This is while loop\n",
            "This is while loop\n",
            "This is while loop\n",
            "This is while loop\n",
            "This is while loop\n",
            "This is while loop\n",
            "This is while loop\n",
            "This is while loop\n",
            "This is while loop\n",
            "This is while loop\n",
            "This is while loop\n",
            "This is while loop\n",
            "This is while loop\n",
            "This is while loop\n",
            "This is while loop\n",
            "This is while loop\n",
            "This is while loop\n",
            "This is while loop\n",
            "This is while loop\n",
            "This is while loop\n",
            "This is while loop\n",
            "This is while loop\n",
            "This is while loop\n",
            "This is while loop\n",
            "This is while loop\n",
            "This is while loop\n",
            "This is while loop\n",
            "This is while loop\n",
            "This is while loop\n",
            "This is while loop\n",
            "This is while loop\n",
            "This is while loop\n",
            "This is while loop\n",
            "This is while loop\n",
            "This is while loop\n",
            "This is while loop\n",
            "This is while loop\n",
            "This is while loop\n",
            "This is while loop\n",
            "This is while loop\n",
            "This is while loop\n",
            "This is while loop\n",
            "This is while loop\n",
            "This is while loop\n",
            "This is while loop\n",
            "This is while loop\n",
            "This is while loop\n",
            "This is while loop\n",
            "This is while loop\n",
            "This is while loop\n",
            "This is while loop\n",
            "This is while loop\n",
            "This is while loop\n",
            "This is while loop\n",
            "This is while loop\n",
            "This is while loop\n",
            "This is while loop\n",
            "This is while loop\n",
            "This is while loop\n",
            "This is while loop\n",
            "This is while loop\n",
            "This is while loop\n",
            "This is while loop\n",
            "This is while loop\n",
            "This is while loop\n",
            "This is while loop\n",
            "This is while loop\n",
            "This is while loop\n",
            "This is while loop\n",
            "This is while loop\n",
            "This is while loop\n",
            "This is while loop\n",
            "This is while loop\n",
            "This is while loop\n",
            "This is while loop\n",
            "This is while loop\n",
            "This is while loop\n",
            "This is while loop\n",
            "This is while loop\n",
            "This is while loop\n",
            "This is while loop\n",
            "This is while loop\n",
            "This is while loop\n",
            "This is while loop\n",
            "This is while loop\n",
            "This is while loop\n",
            "This is while loop\n",
            "This is while loop\n",
            "This is while loop\n",
            "This is while loop\n",
            "This is while loop\n",
            "This is while loop\n",
            "This is while loop\n",
            "This is while loop\n",
            "This is while loop\n",
            "This is while loop\n",
            "This is while loop\n",
            "This is while loop\n",
            "This is while loop\n",
            "This is while loop\n",
            "This is while loop\n",
            "This is while loop\n",
            "This is while loop\n",
            "This is while loop\n",
            "This is while loop\n",
            "This is while loop\n",
            "This is while loop\n",
            "This is while loop\n",
            "This is while loop\n",
            "This is while loop\n",
            "This is while loop\n",
            "This is while loop\n",
            "This is while loop\n",
            "This is while loop\n",
            "This is while loop\n",
            "This is while loop\n",
            "This is while loop\n",
            "This is while loop\n",
            "This is while loop\n",
            "This is while loop\n",
            "This is while loop\n",
            "This is while loop\n",
            "This is while loop\n",
            "This is while loop\n",
            "This is while loop\n",
            "This is while loop\n",
            "This is while loop\n",
            "This is while loop\n",
            "This is while loop\n",
            "This is while loop\n",
            "This is while loop\n",
            "This is while loop\n",
            "This is while loop\n",
            "This is while loop\n",
            "This is while loop\n",
            "This is while loop\n",
            "This is while loop\n",
            "This is while loop\n",
            "This is while loop\n",
            "This is while loop\n",
            "This is while loop\n",
            "This is while loop\n",
            "This is while loop\n",
            "This is while loop\n",
            "This is while loop\n",
            "This is while loop\n",
            "This is while loop\n",
            "This is while loop\n",
            "This is while loop\n",
            "This is while loop\n",
            "This is while loop\n",
            "This is while loop\n",
            "This is while loop\n",
            "This is while loop\n",
            "This is while loop\n",
            "This is while loop\n",
            "This is while loop\n",
            "This is while loop\n",
            "This is while loop\n",
            "This is while loop\n",
            "This is while loop\n",
            "This is while loop\n",
            "This is while loop\n",
            "This is while loop\n",
            "This is while loop\n",
            "This is while loop\n",
            "This is while loop\n",
            "This is while loop\n",
            "This is while loop\n",
            "This is while loop\n",
            "This is while loop\n",
            "This is while loop\n",
            "This is while loop\n",
            "This is while loop\n",
            "This is while loop\n",
            "This is while loop\n",
            "This is while loop\n",
            "This is while loop\n",
            "This is while loop\n",
            "This is while loop\n",
            "This is while loop\n",
            "This is while loop\n",
            "This is while loop\n",
            "This is while loop\n",
            "This is while loop\n",
            "This is while loop\n",
            "This is while loop\n",
            "This is while loop\n",
            "This is while loop\n",
            "This is while loop\n",
            "This is while loop\n",
            "This is while loop\n",
            "This is while loop\n",
            "This is while loop\n",
            "This is while loop\n",
            "This is while loop\n",
            "This is while loop\n",
            "This is while loop\n",
            "This is while loop\n",
            "This is while loop\n",
            "This is while loop\n",
            "This is while loop\n",
            "This is while loop\n",
            "This is while loop\n",
            "This is while loop\n",
            "This is while loop\n",
            "This is while loop\n",
            "This is while loop\n",
            "This is while loop\n",
            "This is while loop\n",
            "This is while loop\n",
            "This is while loop\n",
            "This is while loop\n",
            "This is while loop\n",
            "This is while loop\n",
            "This is while loop\n",
            "This is while loop\n",
            "This is while loop\n",
            "This is while loop\n",
            "This is while loop\n",
            "This is while loop\n",
            "This is while loop\n",
            "This is while loop\n",
            "This is while loop\n",
            "This is while loop\n",
            "This is while loop\n",
            "This is while loop\n",
            "This is while loop\n",
            "This is while loop\n",
            "This is while loop\n",
            "This is while loop\n",
            "This is while loop\n",
            "This is while loop\n",
            "This is while loop\n",
            "This is while loop\n",
            "This is while loop\n",
            "This is while loop\n",
            "This is while loop\n",
            "This is while loop\n",
            "This is while loop\n",
            "This is while loop\n",
            "This is while loop\n",
            "This is while loop\n",
            "This is while loop\n",
            "This is while loop\n",
            "This is while loop\n",
            "This is while loop\n",
            "This is while loop\n",
            "This is while loop\n",
            "This is while loop\n",
            "This is while loop\n",
            "This is while loop\n",
            "This is while loop\n",
            "This is while loop\n",
            "This is while loop\n",
            "This is while loop\n",
            "This is while loop\n",
            "This is while loop\n",
            "This is while loop\n",
            "This is while loop\n",
            "This is while loop\n",
            "This is while loop\n",
            "This is while loop\n",
            "This is while loop\n",
            "This is while loop\n",
            "This is while loop\n",
            "This is while loop\n",
            "This is while loop\n",
            "This is while loop\n",
            "This is while loop\n",
            "This is while loop\n",
            "This is while loop\n",
            "This is while loop\n",
            "This is while loop\n",
            "This is while loop\n",
            "This is while loop\n",
            "This is while loop\n",
            "This is while loop\n",
            "This is while loop\n",
            "This is while loop\n",
            "This is while loop\n",
            "This is while loop\n",
            "This is while loop\n",
            "This is while loop\n",
            "This is while loop\n",
            "This is while loop\n",
            "This is while loop\n",
            "This is while loop\n",
            "This is while loop\n",
            "This is while loop\n",
            "This is while loop\n",
            "This is while loop\n",
            "This is while loop\n",
            "This is while loop\n",
            "This is while loop\n",
            "This is while loop\n",
            "This is while loop\n",
            "This is while loop\n",
            "This is while loop\n",
            "This is while loop\n",
            "This is while loop\n",
            "This is while loop\n",
            "This is while loop\n",
            "This is while loop\n",
            "This is while loop\n",
            "This is while loop\n",
            "This is while loop\n",
            "This is while loop\n",
            "This is while loop\n",
            "This is while loop\n",
            "This is while loop\n",
            "This is while loop\n",
            "This is while loop\n",
            "This is while loop\n",
            "This is while loop\n",
            "This is while loop\n",
            "This is while loop\n",
            "This is while loop\n",
            "This is while loop\n",
            "This is while loop\n",
            "This is while loop\n",
            "This is while loop\n",
            "This is while loop\n",
            "This is while loop\n",
            "This is while loop\n",
            "This is while loop\n",
            "This is while loop\n",
            "This is while loop\n",
            "This is while loop\n",
            "This is while loop\n",
            "This is while loop\n",
            "This is while loop\n",
            "This is while loop\n",
            "This is while loop\n",
            "This is while loop\n",
            "This is while loop\n",
            "This is while loop\n",
            "This is while loop\n",
            "This is while loop\n",
            "This is while loop\n",
            "This is while loop\n",
            "This is while loop\n",
            "This is while loop\n",
            "This is while loop\n",
            "This is while loop\n",
            "This is while loop\n",
            "This is while loop\n",
            "This is while loop\n",
            "This is while loop\n",
            "This is while loop\n",
            "This is while loop\n",
            "This is while loop\n",
            "This is while loop\n",
            "This is while loop\n",
            "This is while loop\n",
            "This is while loop\n",
            "This is while loop\n",
            "This is while loop\n",
            "This is while loop\n",
            "This is while loop\n",
            "This is while loop\n",
            "This is while loop\n",
            "This is while loop\n",
            "This is while loop\n",
            "This is while loop\n",
            "This is while loop\n",
            "This is while loop\n",
            "This is while loop\n",
            "This is while loop\n",
            "This is while loop\n",
            "This is while loop\n",
            "This is while loop\n",
            "This is while loop\n",
            "This is while loop\n",
            "This is while loop\n",
            "This is while loop\n",
            "This is while loop\n",
            "This is while loop\n",
            "This is while loop\n",
            "This is while loop\n",
            "This is while loop\n",
            "This is while loop\n",
            "This is while loop\n",
            "This is while loop\n",
            "This is while loop\n",
            "This is while loop\n",
            "This is while loop\n",
            "This is while loop\n",
            "This is while loop\n",
            "This is while loop\n",
            "This is while loop\n",
            "This is while loop\n",
            "This is while loop\n",
            "This is while loop\n",
            "This is while loop\n",
            "This is while loop\n",
            "This is while loop\n",
            "This is while loop\n",
            "This is while loop\n",
            "This is while loop\n",
            "This is while loop\n",
            "This is while loop\n",
            "This is while loop\n",
            "This is while loop\n",
            "This is while loop\n",
            "This is while loop\n",
            "This is while loop\n",
            "This is while loop\n",
            "This is while loop\n",
            "This is while loop\n",
            "This is while loop\n",
            "This is while loop\n",
            "This is while loop\n",
            "This is while loop\n",
            "This is while loop\n",
            "This is while loop\n",
            "This is while loop\n",
            "This is while loop\n",
            "This is while loop\n",
            "This is while loop\n",
            "This is while loop\n",
            "This is while loop\n",
            "This is while loop\n",
            "This is while loop\n",
            "This is while loop\n",
            "This is while loop\n",
            "This is while loop\n",
            "This is while loop\n",
            "This is while loop\n",
            "This is while loop\n",
            "This is while loop\n",
            "This is while loop\n",
            "This is while loop\n",
            "This is while loop\n",
            "This is while loop\n",
            "This is while loop\n",
            "This is while loop\n",
            "This is while loop\n",
            "This is while loop\n",
            "This is while loop\n",
            "This is while loop\n",
            "This is while loop\n",
            "This is while loop\n",
            "This is while loop\n",
            "This is while loop\n",
            "This is while loop\n",
            "This is while loop\n",
            "This is while loop\n",
            "This is while loop\n",
            "This is while loop\n",
            "This is while loop\n",
            "This is while loop\n",
            "This is while loop\n",
            "This is while loop\n",
            "This is while loop\n",
            "This is while loop\n",
            "This is while loop\n",
            "This is while loop\n",
            "This is while loop\n",
            "This is while loop\n",
            "This is while loop\n",
            "This is while loop\n",
            "This is while loop\n",
            "This is while loop\n",
            "This is while loop\n",
            "This is while loop\n",
            "This is while loop\n",
            "This is while loop\n",
            "This is while loop\n",
            "This is while loop\n",
            "This is while loop\n",
            "This is while loop\n",
            "This is while loop\n",
            "This is while loop\n",
            "This is while loop\n",
            "This is while loop\n",
            "This is while loop\n",
            "This is while loop\n",
            "This is while loop\n",
            "This is while loop\n",
            "This is while loop\n",
            "This is while loop\n",
            "This is while loop\n",
            "This is while loop\n",
            "This is while loop\n",
            "This is while loop\n",
            "This is while loop\n",
            "This is while loop\n",
            "This is while loop\n",
            "This is while loop\n",
            "This is while loop\n",
            "This is while loop\n",
            "This is while loop\n",
            "This is while loop\n",
            "This is while loop\n",
            "This is while loop\n",
            "This is while loop\n",
            "This is while loop\n",
            "This is while loop\n",
            "This is while loop\n",
            "This is while loop\n",
            "This is while loop\n",
            "This is while loop\n",
            "This is while loop\n",
            "This is while loop\n",
            "This is while loop\n",
            "This is while loop\n",
            "This is while loop\n",
            "This is while loop\n",
            "This is while loop\n",
            "This is while loop\n",
            "This is while loop\n",
            "This is while loop\n",
            "This is while loop\n",
            "This is while loop\n",
            "This is while loop\n",
            "This is while loop\n",
            "This is while loop\n",
            "This is while loop\n",
            "This is while loop\n",
            "This is while loop\n",
            "This is while loop\n",
            "This is while loop\n",
            "This is while loop\n",
            "This is while loop\n",
            "This is while loop\n",
            "This is while loop\n",
            "This is while loop\n",
            "This is while loop\n",
            "This is while loop\n",
            "This is while loop\n",
            "This is while loop\n",
            "This is while loop\n",
            "This is while loop\n",
            "This is while loop\n",
            "This is while loop\n",
            "This is while loop\n",
            "This is while loop\n",
            "This is while loop\n",
            "This is while loop\n",
            "This is while loop\n",
            "This is while loop\n",
            "This is while loop\n",
            "This is while loop\n",
            "This is while loop\n",
            "This is while loop\n",
            "This is while loop\n",
            "This is while loop\n",
            "This is while loop\n",
            "This is while loop\n",
            "This is while loop\n",
            "This is while loop\n",
            "This is while loop\n",
            "This is while loop\n",
            "This is while loop\n",
            "This is while loop\n",
            "This is while loop\n",
            "This is while loop\n",
            "This is while loop\n",
            "This is while loop\n",
            "This is while loop\n",
            "This is while loop\n",
            "This is while loop\n",
            "This is while loop\n",
            "This is while loop\n",
            "This is while loop\n",
            "This is while loop\n",
            "This is while loop\n",
            "This is while loop\n",
            "This is while loop\n",
            "This is while loop\n",
            "This is while loop\n",
            "This is while loop\n",
            "This is while loop\n",
            "This is while loop\n",
            "This is while loop\n",
            "This is while loop\n",
            "This is while loop\n",
            "This is while loop\n",
            "This is while loop\n",
            "This is while loop\n",
            "This is while loop\n",
            "This is while loop\n",
            "This is while loop\n",
            "This is while loop\n",
            "This is while loop\n",
            "This is while loop\n",
            "This is while loop\n",
            "This is while loop\n",
            "This is while loop\n",
            "This is while loop\n",
            "This is while loop\n",
            "This is while loop\n",
            "This is while loop\n",
            "This is while loop\n",
            "This is while loop\n",
            "This is while loop\n",
            "This is while loop\n",
            "This is while loop\n",
            "This is while loop\n",
            "This is while loop\n",
            "This is while loop\n",
            "This is while loop\n",
            "This is while loop\n",
            "This is while loop\n",
            "This is while loop\n",
            "This is while loop\n",
            "This is while loop\n",
            "This is while loop\n",
            "This is while loop\n",
            "This is while loop\n",
            "This is while loop\n",
            "This is while loop\n",
            "This is while loop\n",
            "This is while loop\n",
            "This is while loop\n",
            "This is while loop\n",
            "This is while loop\n",
            "This is while loop\n",
            "This is while loop\n",
            "This is while loop\n",
            "This is while loop\n",
            "This is while loop\n",
            "This is while loop\n",
            "This is while loop\n",
            "This is while loop\n",
            "This is while loop\n",
            "This is while loop\n",
            "This is while loop\n",
            "This is while loop\n",
            "This is while loop\n",
            "This is while loop\n",
            "This is while loop\n",
            "This is while loop\n",
            "This is while loop\n",
            "This is while loop\n",
            "This is while loop\n",
            "This is while loop\n",
            "This is while loop\n",
            "This is while loop\n",
            "This is while loop\n",
            "This is while loop\n",
            "This is while loop\n",
            "This is while loop\n",
            "This is while loop\n",
            "This is while loop\n",
            "This is while loop\n",
            "This is while loop\n",
            "This is while loop\n",
            "This is while loop\n",
            "This is while loop\n",
            "This is while loop\n",
            "This is while loop\n",
            "This is while loop\n",
            "This is while loop\n",
            "This is while loop\n",
            "This is while loop\n",
            "This is while loop\n",
            "This is while loop\n",
            "This is while loop\n",
            "This is while loop\n",
            "This is while loop\n",
            "This is while loop\n",
            "This is while loop\n",
            "This is while loop\n",
            "This is while loop\n",
            "This is while loop\n",
            "This is while loop\n",
            "This is while loop\n",
            "This is while loop\n",
            "This is while loop\n",
            "This is while loop\n",
            "This is while loop\n",
            "This is while loop\n",
            "This is while loop\n",
            "This is while loop\n",
            "This is while loop\n",
            "This is while loop\n",
            "This is while loop\n",
            "This is while loop\n",
            "This is while loop\n",
            "This is while loop\n",
            "This is while loop\n",
            "This is while loop\n",
            "This is while loop\n",
            "This is while loop\n",
            "This is while loop\n",
            "This is while loop\n",
            "This is while loop\n",
            "This is while loop\n",
            "This is while loop\n",
            "This is while loop\n",
            "This is while loop\n",
            "This is while loop\n",
            "This is while loop\n",
            "This is while loop\n",
            "This is while loop\n",
            "This is while loop\n",
            "This is while loop\n",
            "This is while loop\n",
            "This is while loop\n",
            "This is while loop\n",
            "This is while loop\n",
            "This is while loop\n",
            "This is while loop\n",
            "This is while loop\n",
            "This is while loop\n",
            "This is while loop\n",
            "This is while loop\n",
            "This is while loop\n",
            "This is while loop\n",
            "This is while loop\n",
            "This is while loop\n",
            "This is while loop\n",
            "This is while loop\n",
            "This is while loop\n",
            "This is while loop\n",
            "This is while loop\n",
            "This is while loop\n",
            "This is while loop\n",
            "This is while loop\n",
            "This is while loop\n",
            "This is while loop\n",
            "This is while loop\n",
            "This is while loop\n",
            "This is while loop\n",
            "This is while loop\n",
            "This is while loop\n",
            "This is while loop\n",
            "This is while loop\n",
            "This is while loop\n",
            "This is while loop\n",
            "This is while loop\n",
            "This is while loop\n",
            "This is while loop\n",
            "This is while loop\n",
            "This is while loop\n",
            "This is while loop\n",
            "This is while loop\n",
            "This is while loop\n",
            "This is while loop\n",
            "This is while loop\n",
            "This is while loop\n",
            "This is while loop\n",
            "This is while loop\n",
            "This is while loop\n",
            "This is while loop\n",
            "This is while loop\n",
            "This is while loop\n",
            "This is while loop\n",
            "This is while loop\n",
            "This is while loop\n",
            "This is while loop\n",
            "This is while loop\n",
            "This is while loop\n",
            "This is while loop\n",
            "This is while loop\n",
            "This is while loop\n",
            "This is while loop\n",
            "This is while loop\n",
            "This is while loop\n",
            "This is while loop\n",
            "This is while loop\n",
            "This is while loop\n",
            "This is while loop\n",
            "This is while loop\n",
            "This is while loop\n",
            "This is while loop\n",
            "This is while loop\n",
            "This is while loop\n",
            "This is while loop\n",
            "This is while loop\n",
            "This is while loop\n",
            "This is while loop\n",
            "This is while loop\n",
            "This is while loop\n",
            "This is while loop\n",
            "This is while loop\n",
            "This is while loop\n",
            "This is while loop\n",
            "This is while loop\n",
            "This is while loop\n",
            "This is while loop\n",
            "This is while loop\n",
            "This is while loop\n",
            "This is while loop\n",
            "This is while loop\n",
            "This is while loop\n",
            "This is while loop\n",
            "This is while loop\n",
            "This is while loop\n",
            "This is while loop\n",
            "This is while loop\n",
            "This is while loop\n",
            "This is while loop\n",
            "This is while loop\n",
            "This is while loop\n",
            "This is while loop\n",
            "This is while loop\n",
            "This is while loop\n",
            "This is while loop\n",
            "This is while loop\n",
            "This is while loop\n",
            "This is while loop\n",
            "This is while loop\n",
            "This is while loop\n",
            "This is while loop\n",
            "This is while loop\n",
            "This is while loop\n",
            "This is while loop\n",
            "This is while loop\n",
            "This is while loop\n",
            "This is while loop\n",
            "This is while loop\n",
            "This is while loop\n",
            "This is while loop\n",
            "This is while loop\n",
            "This is while loop\n",
            "This is while loop\n",
            "This is while loop\n",
            "This is while loop\n",
            "This is while loop\n",
            "This is while loop\n",
            "This is while loop\n",
            "This is while loop\n",
            "This is while loop\n",
            "This is while loop\n",
            "This is while loop\n",
            "This is while loop\n",
            "This is while loop\n",
            "This is while loop\n",
            "This is while loop\n",
            "This is while loop\n",
            "This is while loop\n",
            "This is while loop\n",
            "This is while loop\n",
            "This is while loop\n",
            "This is while loop\n",
            "This is while loop\n",
            "This is while loop\n",
            "This is while loop\n",
            "This is while loop\n",
            "This is while loop\n",
            "This is while loop\n",
            "This is while loop\n",
            "This is while loop\n",
            "This is while loop\n",
            "This is while loop\n",
            "This is while loop\n",
            "This is while loop\n",
            "This is while loop\n",
            "This is while loop\n",
            "This is while loop\n",
            "This is while loop\n",
            "This is while loop\n",
            "This is while loop\n",
            "This is while loop\n",
            "This is while loop\n",
            "This is while loop\n",
            "This is while loop\n",
            "This is while loop\n",
            "This is while loop\n",
            "This is while loop\n",
            "This is while loop\n",
            "This is while loop\n",
            "This is while loop\n",
            "This is while loop\n",
            "This is while loop\n",
            "This is while loop\n",
            "This is while loop\n",
            "This is while loop\n",
            "This is while loop\n",
            "This is while loop\n",
            "This is while loop\n",
            "This is while loop\n",
            "This is while loop\n",
            "This is while loop\n",
            "This is while loop\n",
            "This is while loop\n",
            "This is while loop\n",
            "This is while loop\n",
            "This is while loop\n",
            "This is while loop\n",
            "This is while loop\n",
            "This is while loop\n",
            "This is while loop\n",
            "This is while loop\n",
            "This is while loop\n",
            "This is while loop\n",
            "This is while loop\n",
            "This is while loop\n",
            "This is while loop\n",
            "This is while loop\n",
            "This is while loop\n",
            "This is while loop\n",
            "This is while loop\n",
            "This is while loop\n",
            "This is while loop\n",
            "This is while loop\n",
            "This is while loop\n",
            "This is while loop\n",
            "This is while loop\n",
            "This is while loop\n",
            "This is while loop\n",
            "This is while loop\n",
            "This is while loop\n",
            "This is while loop\n",
            "This is while loop\n",
            "This is while loop\n",
            "This is while loop\n",
            "This is while loop\n",
            "This is while loop\n",
            "This is while loop\n",
            "This is while loop\n",
            "This is while loop\n",
            "This is while loop\n",
            "This is while loop\n",
            "This is while loop\n",
            "This is while loop\n",
            "This is while loop\n",
            "This is while loop\n",
            "This is while loop\n",
            "This is while loop\n",
            "This is while loop\n",
            "This is while loop\n",
            "This is while loop\n",
            "This is while loop\n",
            "This is while loop\n",
            "This is while loop\n",
            "This is while loop\n",
            "This is while loop\n",
            "This is while loop\n",
            "This is while loop\n",
            "This is while loop\n",
            "This is while loop\n",
            "This is while loop\n",
            "This is while loop\n",
            "This is while loop\n",
            "This is while loop\n",
            "This is while loop\n",
            "This is while loop\n",
            "This is while loop\n",
            "This is while loop\n",
            "This is while loop\n",
            "This is while loop\n",
            "This is while loop\n",
            "This is while loop\n",
            "This is while loop\n",
            "This is while loop\n",
            "This is while loop\n",
            "This is while loop\n",
            "This is while loop\n",
            "This is while loop\n",
            "This is while loop\n",
            "This is while loop\n",
            "This is while loop\n",
            "This is while loop\n",
            "This is while loop\n",
            "This is while loop\n",
            "This is while loop\n",
            "This is while loop\n",
            "This is while loop\n",
            "This is while loop\n",
            "This is while loop\n",
            "This is while loop\n",
            "This is while loop\n",
            "This is while loop\n",
            "This is while loop\n",
            "This is while loop\n",
            "This is while loop\n",
            "This is while loop\n",
            "This is while loop\n",
            "This is while loop\n",
            "This is while loop\n",
            "This is while loop\n",
            "This is while loop\n",
            "This is while loop\n",
            "This is while loop\n",
            "This is while loop\n",
            "This is while loop\n",
            "This is while loop\n",
            "This is while loop\n",
            "This is while loop\n",
            "This is while loop\n",
            "This is while loop\n",
            "This is while loop\n",
            "This is while loop\n",
            "This is while loop\n",
            "This is while loop\n",
            "This is while loop\n",
            "This is while loop\n",
            "This is while loop\n",
            "This is while loop\n",
            "This is while loop\n",
            "This is while loop\n",
            "This is while loop\n",
            "This is while loop\n",
            "This is while loop\n",
            "This is while loop\n",
            "This is while loop\n",
            "This is while loop\n",
            "This is while loop\n",
            "This is while loop\n",
            "This is while loop\n",
            "This is while loop\n",
            "This is while loop\n",
            "This is while loop\n",
            "This is while loop\n",
            "This is while loop\n",
            "This is while loop\n",
            "This is while loop\n",
            "This is while loop\n",
            "This is while loop\n",
            "This is while loop\n",
            "This is while loop\n",
            "This is while loop\n",
            "This is while loop\n",
            "This is while loop\n",
            "This is while loop\n",
            "This is while loop\n",
            "This is while loop\n",
            "This is while loop\n",
            "This is while loop\n",
            "This is while loop\n",
            "This is while loop\n",
            "This is while loop\n",
            "This is while loop\n",
            "This is while loop\n",
            "This is while loop\n",
            "This is while loop\n",
            "This is while loop\n",
            "This is while loop\n",
            "This is while loop\n",
            "This is while loop\n",
            "This is while loop\n",
            "This is while loop\n",
            "This is while loop\n",
            "This is while loop\n",
            "This is while loop\n",
            "This is while loop\n",
            "This is while loop\n",
            "This is while loop\n",
            "This is while loop\n",
            "This is while loop\n",
            "This is while loop\n",
            "This is while loop\n",
            "This is while loop\n",
            "This is while loop\n",
            "This is while loop\n",
            "This is while loop\n",
            "This is while loop\n",
            "This is while loop\n",
            "This is while loop\n",
            "This is while loop\n",
            "This is while loop\n",
            "This is while loop\n",
            "This is while loop\n",
            "This is while loop\n",
            "This is while loop\n",
            "This is while loop\n",
            "This is while loop\n",
            "This is while loop\n",
            "This is while loop\n",
            "This is while loop\n",
            "This is while loop\n",
            "This is while loop\n",
            "This is while loop\n",
            "This is while loop\n",
            "This is while loop\n",
            "This is while loop\n",
            "This is while loop\n",
            "This is while loop\n",
            "This is while loop\n",
            "This is while loop\n",
            "This is while loop\n",
            "This is while loop\n",
            "This is while loop\n",
            "This is while loop\n",
            "This is while loop\n",
            "This is while loop\n",
            "This is while loop\n",
            "This is while loop\n",
            "This is while loop\n",
            "This is while loop\n",
            "This is while loop\n",
            "This is while loop\n",
            "This is while loop\n",
            "This is while loop\n",
            "This is while loop\n",
            "This is while loop\n",
            "This is while loop\n",
            "This is while loop\n",
            "This is while loop\n",
            "This is while loop\n",
            "This is while loop\n",
            "This is while loop\n",
            "This is while loop\n",
            "This is while loop\n",
            "This is while loop\n",
            "This is while loop\n",
            "This is while loop\n",
            "This is while loop\n",
            "This is while loop\n",
            "This is while loop\n",
            "This is while loop\n",
            "This is while loop\n",
            "This is while loop\n",
            "This is while loop\n",
            "This is while loop\n",
            "This is while loop\n",
            "This is while loop\n",
            "This is while loop\n",
            "This is while loop\n",
            "This is while loop\n",
            "This is while loop\n",
            "This is while loop\n",
            "This is while loop\n",
            "This is while loop\n",
            "This is while loop\n",
            "This is while loop\n",
            "This is while loop\n",
            "This is while loop\n",
            "This is while loop\n",
            "This is while loop\n",
            "This is while loop\n",
            "This is while loop\n",
            "This is while loop\n",
            "This is while loop\n",
            "This is while loop\n",
            "This is while loop\n",
            "This is while loop\n",
            "This is while loop\n",
            "This is while loop\n",
            "This is while loop\n",
            "This is while loop\n",
            "This is while loop\n",
            "This is while loop\n",
            "This is while loop\n",
            "This is while loop\n",
            "This is while loop\n",
            "This is while loop\n",
            "This is while loop\n",
            "This is while loop\n",
            "This is while loop\n",
            "This is while loop\n",
            "This is while loop\n",
            "This is while loop\n",
            "This is while loop\n",
            "This is while loop\n",
            "This is while loop\n",
            "This is while loop\n",
            "This is while loop\n",
            "This is while loop\n",
            "This is while loop\n",
            "This is while loop\n",
            "This is while loop\n",
            "This is while loop\n",
            "This is while loop\n",
            "This is while loop\n",
            "This is while loop\n",
            "This is while loop\n",
            "This is while loop\n",
            "This is while loop\n",
            "This is while loop\n",
            "This is while loop\n",
            "This is while loop\n",
            "This is while loop\n",
            "This is while loop\n",
            "This is while loop\n",
            "This is while loop\n",
            "This is while loop\n",
            "This is while loop\n",
            "This is while loop\n",
            "This is while loop\n",
            "This is while loop\n",
            "This is while loop\n",
            "This is while loop\n",
            "This is while loop\n",
            "This is while loop\n",
            "This is while loop\n",
            "This is while loop\n",
            "This is while loop\n",
            "This is while loop\n",
            "This is while loop\n",
            "This is while loop\n",
            "This is while loop\n",
            "This is while loop\n",
            "This is while loop\n",
            "This is while loop\n",
            "This is while loop\n",
            "This is while loop\n",
            "This is while loop\n",
            "This is while loop\n",
            "This is while loop\n",
            "This is while loop\n",
            "This is while loop\n",
            "This is while loop\n",
            "This is while loop\n",
            "This is while loop\n",
            "This is while loop\n",
            "This is while loop\n",
            "This is while loop\n",
            "This is while loop\n",
            "This is while loop\n",
            "This is while loop\n",
            "This is while loop\n",
            "This is while loop\n",
            "This is while loop\n",
            "This is while loop\n",
            "This is while loop\n",
            "This is while loop\n",
            "This is while loop\n",
            "This is while loop\n",
            "This is while loop\n",
            "This is while loop\n",
            "This is while loop\n",
            "This is while loop\n",
            "This is while loop\n",
            "This is while loop\n",
            "This is while loop\n",
            "This is while loop\n",
            "This is while loop\n",
            "This is while loop\n",
            "This is while loop\n",
            "This is while loop\n",
            "This is while loop\n",
            "This is while loop\n",
            "This is while loop\n",
            "This is while loop\n",
            "This is while loop\n",
            "This is while loop\n",
            "This is while loop\n",
            "This is while loop\n",
            "This is while loop\n",
            "This is while loop\n",
            "This is while loop\n",
            "This is while loop\n",
            "This is while loop\n",
            "This is while loop\n",
            "This is while loop\n",
            "This is while loop\n",
            "This is while loop\n",
            "This is while loop\n",
            "This is while loop\n",
            "This is while loop\n",
            "This is while loop\n",
            "This is while loop\n",
            "This is while loop\n",
            "This is while loop\n",
            "This is while loop\n",
            "This is while loop\n",
            "This is while loop\n",
            "This is while loop\n",
            "This is while loop\n",
            "This is while loop\n",
            "This is while loop\n",
            "This is while loop\n",
            "This is while loop\n",
            "This is while loop\n",
            "This is while loop\n",
            "This is while loop\n",
            "This is while loop\n",
            "This is while loop\n",
            "This is while loop\n",
            "This is while loop\n",
            "This is while loop\n",
            "This is while loop\n",
            "This is while loop\n",
            "This is while loop\n",
            "This is while loop\n",
            "This is while loop\n",
            "This is while loop\n",
            "This is while loop\n",
            "This is while loop\n",
            "This is while loop\n",
            "This is while loop\n",
            "This is while loop\n",
            "This is while loop\n",
            "This is while loop\n",
            "This is while loop\n",
            "This is while loop\n",
            "This is while loop\n",
            "This is while loop\n",
            "This is while loop\n",
            "This is while loop\n",
            "This is while loop\n",
            "This is while loop\n",
            "This is while loop\n",
            "This is while loop\n",
            "This is while loop\n",
            "This is while loop\n",
            "This is while loop\n",
            "This is while loop\n",
            "This is while loop\n",
            "This is while loop\n",
            "This is while loop\n",
            "This is while loop\n",
            "This is while loop\n",
            "This is while loop\n",
            "This is while loop\n",
            "This is while loop\n",
            "This is while loop\n",
            "This is while loop\n",
            "This is while loop\n",
            "This is while loop\n",
            "This is while loop\n",
            "This is while loop\n",
            "This is while loop\n",
            "This is while loop\n",
            "This is while loop\n",
            "This is while loop\n",
            "This is while loop\n",
            "This is while loop\n",
            "This is while loop\n",
            "This is while loop\n",
            "This is while loop\n",
            "This is while loop\n",
            "This is while loop\n",
            "This is while loop\n",
            "This is while loop\n",
            "This is while loop\n",
            "This is while loop\n",
            "This is while loop\n",
            "This is while loop\n",
            "This is while loop\n",
            "This is while loop\n",
            "This is while loop\n",
            "This is while loop\n",
            "This is while loop\n",
            "This is while loop\n",
            "This is while loop\n",
            "This is while loop\n",
            "This is while loop\n",
            "This is while loop\n",
            "This is while loop\n",
            "This is while loop\n",
            "This is while loop\n",
            "This is while loop\n",
            "This is while loop\n",
            "This is while loop\n",
            "This is while loop\n",
            "This is while loop\n",
            "This is while loop\n",
            "This is while loop\n",
            "This is while loop\n",
            "This is while loop\n",
            "This is while loop\n",
            "This is while loop\n",
            "This is while loop\n",
            "This is while loop\n",
            "This is while loop\n",
            "This is while loop\n",
            "This is while loop\n",
            "This is while loop\n",
            "This is while loop\n",
            "This is while loop\n",
            "This is while loop\n",
            "This is while loop\n",
            "This is while loop\n",
            "This is while loop\n",
            "This is while loop\n",
            "This is while loop\n",
            "This is while loop\n",
            "This is while loop\n",
            "This is while loop\n",
            "This is while loop\n",
            "This is while loop\n",
            "This is while loop\n",
            "This is while loop\n",
            "This is while loop\n",
            "This is while loop\n",
            "This is while loop\n",
            "This is while loop\n",
            "This is while loop\n",
            "This is while loop\n",
            "This is while loop\n",
            "This is while loop\n",
            "This is while loop\n",
            "This is while loop\n",
            "This is while loop\n",
            "This is while loop\n",
            "This is while loop\n",
            "This is while loop\n",
            "This is while loop\n",
            "This is while loop\n",
            "This is while loop\n",
            "This is while loop\n",
            "This is while loop\n",
            "This is while loop\n",
            "This is while loop\n",
            "This is while loop\n",
            "This is while loop\n",
            "This is while loop\n",
            "This is while loop\n",
            "This is while loop\n",
            "This is while loop\n",
            "This is while loop\n",
            "This is while loop\n",
            "This is while loop\n",
            "This is while loop\n",
            "This is while loop\n",
            "This is while loop\n",
            "This is while loop\n",
            "This is while loop\n",
            "This is while loop\n",
            "This is while loop\n",
            "This is while loop\n",
            "This is while loop\n",
            "This is while loop\n",
            "This is while loop\n",
            "This is while loop\n",
            "This is while loop\n",
            "This is while loop\n",
            "This is while loop\n",
            "This is while loop\n",
            "This is while loop\n",
            "This is while loop\n",
            "This is while loop\n",
            "This is while loop\n",
            "This is while loop\n",
            "This is while loop\n",
            "This is while loop\n",
            "This is while loop\n",
            "This is while loop\n",
            "This is while loop\n",
            "This is while loop\n",
            "This is while loop\n",
            "This is while loop\n",
            "This is while loop\n",
            "This is while loop\n",
            "This is while loop\n",
            "This is while loop\n",
            "This is while loop\n",
            "This is while loop\n",
            "This is while loop\n",
            "This is while loop\n",
            "This is while loop\n",
            "This is while loop\n",
            "This is while loop\n",
            "This is while loop\n",
            "This is while loop\n",
            "This is while loop\n",
            "This is while loop\n",
            "This is while loop\n",
            "This is while loop\n",
            "This is while loop\n",
            "This is while loop\n",
            "This is while loop\n",
            "This is while loop\n",
            "This is while loop\n",
            "This is while loop\n",
            "This is while loop\n",
            "This is while loop\n",
            "This is while loop\n",
            "This is while loop\n",
            "This is while loop\n",
            "This is while loop\n",
            "This is while loop\n",
            "This is while loop\n",
            "This is while loop\n",
            "This is while loop\n",
            "This is while loop\n",
            "This is while loop\n",
            "This is while loop\n",
            "This is while loop\n",
            "This is while loop\n",
            "This is while loop\n",
            "This is while loop\n",
            "This is while loop\n",
            "This is while loop\n",
            "This is while loop\n",
            "This is while loop\n",
            "This is while loop\n",
            "This is while loop\n",
            "This is while loop\n",
            "This is while loop\n",
            "This is while loop\n",
            "This is while loop\n",
            "This is while loop\n",
            "This is while loop\n",
            "This is while loop\n",
            "This is while loop\n",
            "This is while loop\n",
            "This is while loop\n",
            "This is while loop\n",
            "This is while loop\n",
            "This is while loop\n",
            "This is while loop\n",
            "This is while loop\n",
            "This is while loop\n",
            "This is while loop\n",
            "This is while loop\n",
            "This is while loop\n",
            "This is while loop\n",
            "This is while loop\n",
            "This is while loop\n",
            "This is while loop\n",
            "This is while loop\n",
            "This is while loop\n",
            "This is while loop\n",
            "This is while loop\n",
            "This is while loop\n",
            "This is while loop\n",
            "This is while loop\n",
            "This is while loop\n",
            "This is while loop\n",
            "This is while loop\n",
            "This is while loop\n",
            "This is while loop\n",
            "This is while loop\n",
            "This is while loop\n",
            "This is while loop\n",
            "This is while loop\n",
            "This is while loop\n",
            "This is while loop\n",
            "This is while loop\n",
            "This is while loop\n",
            "This is while loop\n",
            "This is while loop\n",
            "This is while loop\n",
            "This is while loop\n",
            "This is while loop\n",
            "This is while loop\n",
            "This is while loop\n",
            "This is while loop\n",
            "This is while loop\n",
            "This is while loop\n",
            "This is while loop\n",
            "This is while loop\n",
            "This is while loop\n",
            "This is while loop\n",
            "This is while loop\n",
            "This is while loop\n",
            "This is while loop\n",
            "This is while loop\n",
            "This is while loop\n",
            "This is while loop\n",
            "This is while loop\n",
            "This is while loop\n",
            "This is while loop\n",
            "This is while loop\n",
            "This is while loop\n",
            "This is while loop\n",
            "This is while loop\n",
            "This is while loop\n",
            "This is while loop\n",
            "This is while loop\n",
            "This is while loop\n",
            "This is while loop\n",
            "This is while loop\n",
            "This is while loop\n",
            "This is while loop\n",
            "This is while loop\n",
            "This is while loop\n",
            "This is while loop\n",
            "This is while loop\n",
            "This is while loop\n",
            "This is while loop\n",
            "This is while loop\n",
            "This is while loop\n",
            "This is while loop\n",
            "This is while loop\n",
            "This is while loop\n",
            "This is while loop\n",
            "This is while loop\n",
            "This is while loop\n",
            "This is while loop\n",
            "This is while loop\n",
            "This is while loop\n",
            "This is while loop\n",
            "This is while loop\n",
            "This is while loop\n",
            "This is while loop\n",
            "This is while loop\n",
            "This is while loop\n",
            "This is while loop\n",
            "This is while loop\n",
            "This is while loop\n",
            "This is while loop\n",
            "This is while loop\n",
            "This is while loop\n",
            "This is while loop\n",
            "This is while loop\n",
            "This is while loop\n",
            "This is while loop\n",
            "This is while loop\n",
            "This is while loop\n",
            "This is while loop\n",
            "This is while loop\n",
            "This is while loop\n",
            "This is while loop\n",
            "This is while loop\n",
            "This is while loop\n",
            "This is while loop\n",
            "This is while loop\n",
            "This is while loop\n",
            "This is while loop\n",
            "This is while loop\n",
            "This is while loop\n",
            "This is while loop\n",
            "This is while loop\n",
            "This is while loop\n",
            "This is while loop\n",
            "This is while loop\n",
            "This is while loop\n",
            "This is while loop\n",
            "This is while loop\n",
            "This is while loop\n",
            "This is while loop\n",
            "This is while loop\n",
            "This is while loop\n",
            "This is while loop\n",
            "This is while loop\n",
            "This is while loop\n",
            "This is while loop\n",
            "This is while loop\n",
            "This is while loop\n",
            "This is while loop\n",
            "This is while loop\n",
            "This is while loop\n",
            "This is while loop\n",
            "This is while loop\n",
            "This is while loop\n",
            "This is while loop\n",
            "This is while loop\n",
            "This is while loop\n",
            "This is while loop\n",
            "This is while loop\n",
            "This is while loop\n",
            "This is while loop\n",
            "This is while loop\n",
            "This is while loop\n",
            "This is while loop\n",
            "This is while loop\n",
            "This is while loop\n",
            "This is while loop\n",
            "This is while loop\n",
            "This is while loop\n",
            "This is while loop\n",
            "This is while loop\n",
            "This is while loop\n",
            "This is while loop\n",
            "This is while loop\n",
            "This is while loop\n",
            "This is while loop\n",
            "This is while loop\n",
            "This is while loop\n",
            "This is while loop\n",
            "This is while loop\n",
            "This is while loop\n",
            "This is while loop\n",
            "This is while loop\n",
            "This is while loop\n",
            "This is while loop\n",
            "This is while loop\n",
            "This is while loop\n",
            "This is while loop\n",
            "This is while loop\n",
            "This is while loop\n",
            "This is while loop\n",
            "This is while loop\n",
            "This is while loop\n",
            "This is while loop\n",
            "This is while loop\n",
            "This is while loop\n",
            "This is while loop\n",
            "This is while loop\n",
            "This is while loop\n",
            "This is while loop\n",
            "This is while loop\n",
            "This is while loop\n",
            "This is while loop\n",
            "This is while loop\n",
            "This is while loop\n",
            "This is while loop\n",
            "This is while loop\n",
            "This is while loop\n",
            "This is while loop\n",
            "This is while loop\n",
            "This is while loop\n",
            "This is while loop\n",
            "This is while loop\n",
            "This is while loop\n",
            "This is while loop\n",
            "This is while loop\n",
            "This is while loop\n",
            "This is while loop\n",
            "This is while loop\n",
            "This is while loop\n",
            "This is while loop\n",
            "This is while loop\n",
            "This is while loop\n",
            "This is while loop\n",
            "This is while loop\n",
            "This is while loop\n",
            "This is while loop\n",
            "This is while loop\n",
            "This is while loop\n",
            "This is while loop\n",
            "This is while loop\n",
            "This is while loop\n",
            "This is while loop\n",
            "This is while loop\n",
            "This is while loop\n",
            "This is while loop\n",
            "This is while loop\n",
            "This is while loop\n",
            "This is while loop\n",
            "This is while loop\n",
            "This is while loop\n",
            "This is while loop\n",
            "This is while loop\n",
            "This is while loop\n",
            "This is while loop\n",
            "This is while loop\n",
            "This is while loop\n",
            "This is while loop\n",
            "This is while loop\n",
            "This is while loop\n",
            "This is while loop\n",
            "This is while loop\n",
            "This is while loop\n",
            "This is while loop\n",
            "This is while loop\n",
            "This is while loop\n",
            "This is while loop\n",
            "This is while loop\n",
            "This is while loop\n",
            "This is while loop\n",
            "This is while loop\n",
            "This is while loop\n",
            "This is while loop\n",
            "This is while loop\n",
            "This is while loop\n",
            "This is while loop\n",
            "This is while loop\n",
            "This is while loop\n",
            "This is while loop\n",
            "This is while loop\n",
            "This is while loop\n",
            "This is while loop\n",
            "This is while loop\n",
            "This is while loop\n",
            "This is while loop\n",
            "This is while loop\n",
            "This is while loop\n",
            "This is while loop\n",
            "This is while loop\n",
            "This is while loop\n",
            "This is while loop\n",
            "This is while loop\n",
            "This is while loop\n",
            "This is while loop\n",
            "This is while loop\n",
            "This is while loop\n",
            "This is while loop\n",
            "This is while loop\n",
            "This is while loop\n",
            "This is while loop\n",
            "This is while loop\n",
            "This is while loop\n",
            "This is while loop\n",
            "This is while loop\n",
            "This is while loop\n",
            "This is while loop\n",
            "This is while loop\n",
            "This is while loop\n",
            "This is while loop\n",
            "This is while loop\n",
            "This is while loop\n",
            "This is while loop\n",
            "This is while loop\n",
            "This is while loop\n",
            "This is while loop\n",
            "This is while loop\n",
            "This is while loop\n",
            "This is while loop\n",
            "This is while loop\n",
            "This is while loop\n",
            "This is while loop\n",
            "This is while loop\n",
            "This is while loop\n",
            "This is while loop\n",
            "This is while loop\n",
            "This is while loop\n",
            "This is while loop\n",
            "This is while loop\n",
            "This is while loop\n",
            "This is while loop\n",
            "This is while loop\n",
            "This is while loop\n",
            "This is while loop\n",
            "This is while loop\n",
            "This is while loop\n",
            "This is while loop\n",
            "This is while loop\n",
            "This is while loop\n",
            "This is while loop\n",
            "This is while loop\n",
            "This is while loop\n",
            "This is while loop\n",
            "This is while loop\n",
            "This is while loop\n",
            "This is while loop\n",
            "This is while loop\n",
            "This is while loop\n",
            "This is while loop\n",
            "This is while loop\n",
            "This is while loop\n",
            "This is while loop\n",
            "This is while loop\n",
            "This is while loop\n",
            "This is while loop\n",
            "This is while loop\n",
            "This is while loop\n",
            "This is while loop\n",
            "This is while loop\n",
            "This is while loop\n",
            "This is while loop\n",
            "This is while loop\n",
            "This is while loop\n",
            "This is while loop\n",
            "This is while loop\n",
            "This is while loop\n",
            "This is while loop\n",
            "This is while loop\n",
            "This is while loop\n",
            "This is while loop\n",
            "This is while loop\n",
            "This is while loop\n",
            "This is while loop\n",
            "This is while loop\n",
            "This is while loop\n",
            "This is while loop\n",
            "This is while loop\n",
            "This is while loop\n",
            "This is while loop\n",
            "This is while loop\n",
            "This is while loop\n",
            "This is while loop\n",
            "This is while loop\n",
            "This is while loop\n",
            "This is while loop\n",
            "This is while loop\n",
            "This is while loop\n",
            "This is while loop\n",
            "This is while loop\n",
            "This is while loop\n",
            "This is while loop\n",
            "This is while loop\n",
            "This is while loop\n",
            "This is while loop\n",
            "This is while loop\n",
            "This is while loop\n",
            "This is while loop\n",
            "This is while loop\n",
            "This is while loop\n",
            "This is while loop\n",
            "This is while loop\n",
            "This is while loop\n",
            "This is while loop\n",
            "This is while loop\n",
            "This is while loop\n",
            "This is while loop\n",
            "This is while loop\n",
            "This is while loop\n",
            "This is while loop\n",
            "This is while loop\n",
            "This is while loop\n",
            "This is while loop\n",
            "This is while loop\n",
            "This is while loop\n",
            "This is while loop\n",
            "This is while loop\n",
            "This is while loop\n",
            "This is while loop\n",
            "This is while loop\n",
            "This is while loop\n",
            "This is while loop\n",
            "This is while loop\n",
            "This is while loop\n",
            "This is while loop\n",
            "This is while loop\n",
            "This is while loop\n",
            "This is while loop\n",
            "This is while loop\n",
            "This is while loop\n",
            "This is while loop\n",
            "This is while loop\n",
            "This is while loop\n",
            "This is while loop\n",
            "This is while loop\n",
            "This is while loop\n",
            "This is while loop\n",
            "This is while loop\n",
            "This is while loop\n",
            "This is while loop\n",
            "This is while loop\n",
            "This is while loop\n",
            "This is while loop\n",
            "This is while loop\n",
            "This is while loop\n",
            "This is while loop\n",
            "This is while loop\n",
            "This is while loop\n",
            "This is while loop\n",
            "This is while loop\n",
            "This is while loop\n",
            "This is while loop\n",
            "This is while loop\n",
            "This is while loop\n",
            "This is while loop\n",
            "This is while loop\n",
            "This is while loop\n",
            "This is while loop\n",
            "This is while loop\n",
            "This is while loop\n",
            "This is while loop\n",
            "This is while loop\n",
            "This is while loop\n",
            "This is while loop\n",
            "This is while loop\n",
            "This is while loop\n",
            "This is while loop\n",
            "This is while loop\n",
            "This is while loop\n",
            "This is while loop\n",
            "This is while loop\n",
            "This is while loop\n",
            "This is while loop\n",
            "This is while loop\n",
            "This is while loop\n",
            "This is while loop\n",
            "This is while loop\n",
            "This is while loop\n",
            "This is while loop\n",
            "This is while loop\n",
            "This is while loop\n",
            "This is while loop\n",
            "This is while loop\n",
            "This is while loop\n",
            "This is while loop\n",
            "This is while loop\n",
            "This is while loop\n",
            "This is while loop\n",
            "This is while loop\n",
            "This is while loop\n",
            "This is while loop\n",
            "This is while loop\n",
            "This is while loop\n",
            "This is while loop\n",
            "This is while loop\n",
            "This is while loop\n",
            "This is while loop\n",
            "This is while loop\n",
            "This is while loop\n",
            "This is while loop\n",
            "This is while loop\n",
            "This is while loop\n",
            "This is while loop\n",
            "This is while loop\n",
            "This is while loop\n",
            "This is while loop\n",
            "This is while loop\n",
            "This is while loop\n",
            "This is while loop\n",
            "This is while loop\n",
            "This is while loop\n",
            "This is while loop\n",
            "This is while loop\n",
            "This is while loop\n",
            "This is while loop\n",
            "This is while loop\n",
            "This is while loop\n",
            "This is while loop\n",
            "This is while loop\n",
            "This is while loop\n",
            "This is while loop\n",
            "This is while loop\n",
            "This is while loop\n",
            "This is while loop\n",
            "This is while loop\n",
            "This is while loop\n",
            "This is while loop\n",
            "This is while loop\n",
            "This is while loop\n",
            "This is while loop\n",
            "This is while loop\n",
            "This is while loop\n",
            "This is while loop\n",
            "This is while loop\n",
            "This is while loop\n",
            "This is while loop\n",
            "This is while loop\n",
            "This is while loop\n",
            "This is while loop\n",
            "This is while loop\n",
            "This is while loop\n",
            "This is while loop\n",
            "This is while loop\n",
            "This is while loop\n",
            "This is while loop\n",
            "This is while loop\n",
            "This is while loop\n",
            "This is while loop\n",
            "This is while loop\n",
            "This is while loop\n",
            "This is while loop\n",
            "This is while loop\n",
            "This is while loop\n",
            "This is while loop\n",
            "This is while loop\n",
            "This is while loop\n",
            "This is while loop\n",
            "This is while loop\n",
            "This is while loop\n",
            "This is while loop\n",
            "This is while loop\n",
            "This is while loop\n",
            "This is while loop\n",
            "This is while loop\n",
            "This is while loop\n",
            "This is while loop\n",
            "This is while loop\n",
            "This is while loop\n",
            "This is while loop\n",
            "This is while loop\n",
            "This is while loop\n",
            "This is while loop\n",
            "This is while loop\n",
            "This is while loop\n",
            "This is while loop\n",
            "This is while loop\n",
            "This is while loop\n",
            "This is while loop\n",
            "This is while loop\n",
            "This is while loop\n",
            "This is while loop\n",
            "This is while loop\n",
            "This is while loop\n",
            "This is while loop\n",
            "This is while loop\n",
            "This is while loop\n",
            "This is while loop\n",
            "This is while loop\n",
            "This is while loop\n",
            "This is while loop\n",
            "This is while loop\n",
            "This is while loop\n",
            "This is while loop\n",
            "This is while loop\n",
            "This is while loop\n",
            "This is while loop\n",
            "This is while loop\n",
            "This is while loop\n",
            "This is while loop\n",
            "This is while loop\n",
            "This is while loop\n",
            "This is while loop\n",
            "This is while loop\n",
            "This is while loop\n",
            "This is while loop\n",
            "This is while loop\n",
            "This is while loop\n",
            "This is while loop\n",
            "This is while loop\n",
            "This is while loop\n",
            "This is while loop\n",
            "This is while loop\n",
            "This is while loop\n",
            "This is while loop\n",
            "This is while loop\n",
            "This is while loop\n",
            "This is while loop\n",
            "This is while loop\n",
            "This is while loop\n",
            "This is while loop\n",
            "This is while loop\n",
            "This is while loop\n",
            "This is while loop\n",
            "This is while loop\n",
            "This is while loop\n",
            "This is while loop\n",
            "This is while loop\n",
            "This is while loop\n",
            "This is while loop\n",
            "This is while loop\n",
            "This is while loop\n",
            "This is while loop\n",
            "This is while loop\n",
            "This is while loop\n",
            "This is while loop\n",
            "This is while loop\n",
            "This is while loop\n",
            "This is while loop\n",
            "This is while loop\n",
            "This is while loop\n",
            "This is while loop\n",
            "This is while loop\n",
            "This is while loop\n",
            "This is while loop\n",
            "This is while loop\n",
            "This is while loop\n",
            "This is while loop\n",
            "This is while loop\n",
            "This is while loop\n",
            "This is while loop\n",
            "This is while loop\n",
            "This is while loop\n",
            "This is while loop\n",
            "This is while loop\n",
            "This is while loop\n",
            "This is while loop\n",
            "This is while loop\n",
            "This is while loop\n",
            "This is while loop\n",
            "This is while loop\n",
            "This is while loop\n",
            "This is while loop\n",
            "This is while loop\n",
            "This is while loop\n",
            "This is while loop\n",
            "This is while loop\n",
            "This is while loop\n",
            "This is while loop\n",
            "This is while loop\n",
            "This is while loop\n",
            "This is while loop\n",
            "This is while loop\n",
            "This is while loop\n",
            "This is while loop\n",
            "This is while loop\n",
            "This is while loop\n",
            "This is while loop\n",
            "This is while loop\n",
            "This is while loop\n",
            "This is while loop\n",
            "This is while loop\n",
            "This is while loop\n",
            "This is while loop\n",
            "This is while loop\n",
            "This is while loop\n",
            "This is while loop\n",
            "This is while loop\n",
            "This is while loop\n",
            "This is while loop\n",
            "This is while loop\n",
            "This is while loop\n",
            "This is while loop\n",
            "This is while loop\n",
            "This is while loop\n",
            "This is while loop\n",
            "This is while loop\n",
            "This is while loop\n",
            "This is while loop\n",
            "This is while loop\n",
            "This is while loop\n",
            "This is while loop\n",
            "This is while loop\n",
            "This is while loop\n",
            "This is while loop\n",
            "This is while loop\n",
            "This is while loop\n",
            "This is while loop\n",
            "This is while loop\n",
            "This is while loop\n",
            "This is while loop\n",
            "This is while loop\n",
            "This is while loop\n",
            "This is while loop\n",
            "This is while loop\n",
            "This is while loop\n",
            "This is while loop\n",
            "This is while loop\n",
            "This is while loop\n",
            "This is while loop\n",
            "This is while loop\n",
            "This is while loop\n",
            "This is while loop\n",
            "This is while loop\n",
            "This is while loop\n",
            "This is while loop\n",
            "This is while loop\n",
            "This is while loop\n",
            "This is while loop\n",
            "This is while loop\n",
            "This is while loop\n",
            "This is while loop\n",
            "This is while loop\n",
            "This is while loop\n",
            "This is while loop\n",
            "This is while loop\n",
            "This is while loop\n",
            "This is while loop\n",
            "This is while loop\n",
            "This is while loop\n",
            "This is while loop\n",
            "This is while loop\n",
            "This is while loop\n",
            "This is while loop\n",
            "This is while loop\n",
            "This is while loop\n",
            "This is while loop\n",
            "This is while loop\n",
            "This is while loop\n",
            "This is while loop\n",
            "This is while loop\n",
            "This is while loop\n",
            "This is while loop\n",
            "This is while loop\n",
            "This is while loop\n",
            "This is while loop\n",
            "This is while loop\n",
            "This is while loop\n",
            "This is while loop\n",
            "This is while loop\n",
            "This is while loop\n",
            "This is while loop\n",
            "This is while loop\n",
            "This is while loop\n",
            "This is while loop\n",
            "This is while loop\n",
            "This is while loop\n",
            "This is while loop\n",
            "This is while loop\n",
            "This is while loop\n",
            "This is while loop\n",
            "This is while loop\n",
            "This is while loop\n",
            "This is while loop\n",
            "This is while loop\n",
            "This is while loop\n",
            "This is while loop\n",
            "This is while loop\n",
            "This is while loop\n",
            "This is while loop\n",
            "This is while loop\n",
            "This is while loop\n",
            "This is while loop\n",
            "This is while loop\n",
            "This is while loop\n",
            "This is while loop\n",
            "This is while loop\n",
            "This is while loop\n",
            "This is while loop\n",
            "This is while loop\n",
            "This is while loop\n",
            "This is while loop\n",
            "This is while loop\n",
            "This is while loop\n",
            "This is while loop\n",
            "This is while loop\n",
            "This is while loop\n",
            "This is while loop\n",
            "This is while loop\n",
            "This is while loop\n",
            "This is while loop\n",
            "This is while loop\n",
            "This is while loop\n",
            "This is while loop\n",
            "This is while loop\n",
            "This is while loop\n",
            "This is while loop\n",
            "This is while loop\n",
            "This is while loop\n",
            "This is while loop\n",
            "This is while loop\n",
            "This is while loop\n",
            "This is while loop\n",
            "This is while loop\n",
            "This is while loop\n",
            "This is while loop\n",
            "This is while loop\n",
            "This is while loop\n",
            "This is while loop\n",
            "This is while loop\n",
            "This is while loop\n",
            "This is while loop\n",
            "This is while loop\n",
            "This is while loop\n",
            "This is while loop\n",
            "This is while loop\n",
            "This is while loop\n",
            "This is while loop\n",
            "This is while loop\n",
            "This is while loop\n",
            "This is while loop\n",
            "This is while loop\n",
            "This is while loop\n",
            "This is while loop\n",
            "This is while loop\n",
            "This is while loop\n",
            "This is while loop\n",
            "This is while loop\n",
            "This is while loop\n",
            "This is while loop\n",
            "This is while loop\n",
            "This is while loop\n",
            "This is while loop\n",
            "This is while loop\n",
            "This is while loop\n",
            "This is while loop\n",
            "This is while loop\n",
            "This is while loop\n",
            "This is while loop\n",
            "This is while loop\n",
            "This is while loop\n",
            "This is while loop\n",
            "This is while loop\n",
            "This is while loop\n",
            "This is while loop\n",
            "This is while loop\n",
            "This is while loop\n",
            "This is while loop\n",
            "This is while loop\n",
            "This is while loop\n",
            "This is while loop\n",
            "This is while loop\n",
            "This is while loop\n",
            "This is while loop\n",
            "This is while loop\n",
            "This is while loop\n",
            "This is while loop\n",
            "This is while loop\n",
            "This is while loop\n",
            "This is while loop\n",
            "This is while loop\n",
            "This is while loop\n",
            "This is while loop\n",
            "This is while loop\n",
            "This is while loop\n",
            "This is while loop\n",
            "This is while loop\n",
            "This is while loop\n",
            "This is while loop\n",
            "This is while loop\n",
            "This is while loop\n",
            "This is while loop\n",
            "This is while loop\n",
            "This is while loop\n",
            "This is while loop\n",
            "This is while loop\n",
            "This is while loop\n",
            "This is while loop\n",
            "This is while loop\n",
            "This is while loop\n",
            "This is while loop\n",
            "This is while loop\n",
            "This is while loop\n",
            "This is while loop\n",
            "This is while loop\n",
            "This is while loop\n",
            "This is while loop\n",
            "This is while loop\n",
            "This is while loop\n",
            "This is while loop\n",
            "This is while loop\n",
            "This is while loop\n",
            "This is while loop\n",
            "This is while loop\n",
            "This is while loop\n",
            "This is while loop\n",
            "This is while loop\n",
            "This is while loop\n",
            "This is while loop\n",
            "This is while loop\n",
            "This is while loop\n",
            "This is while loop\n",
            "This is while loop\n",
            "This is while loop\n",
            "This is while loop\n",
            "This is while loop\n",
            "This is while loop\n",
            "This is while loop\n",
            "This is while loop\n",
            "This is while loop\n",
            "This is while loop\n",
            "This is while loop\n",
            "This is while loop\n",
            "This is while loop\n",
            "This is while loop\n",
            "This is while loop\n",
            "This is while loop\n",
            "This is while loop\n",
            "This is while loop\n",
            "This is while loop\n",
            "This is while loop\n",
            "This is while loop\n",
            "This is while loop\n",
            "This is while loop\n",
            "This is while loop\n",
            "This is while loop\n",
            "This is while loop\n",
            "This is while loop\n",
            "This is while loop\n",
            "This is while loop\n",
            "This is while loop\n",
            "This is while loop\n",
            "This is while loop\n",
            "This is while loop\n",
            "This is while loop\n",
            "This is while loop\n",
            "This is while loop\n",
            "This is while loop\n",
            "This is while loop\n",
            "This is while loop\n",
            "This is while loop\n",
            "This is while loop\n",
            "This is while loop\n",
            "This is while loop\n",
            "This is while loop\n",
            "This is while loop\n",
            "This is while loop\n",
            "This is while loop\n",
            "This is while loop\n",
            "This is while loop\n",
            "This is while loop\n",
            "This is while loop\n",
            "This is while loop\n",
            "This is while loop\n",
            "This is while loop\n",
            "This is while loop\n",
            "This is while loop\n",
            "This is while loop\n",
            "This is while loop\n",
            "This is while loop\n",
            "This is while loop\n",
            "This is while loop\n",
            "This is while loop\n",
            "This is while loop\n",
            "This is while loop\n",
            "This is while loop\n",
            "This is while loop\n",
            "This is while loop\n",
            "This is while loop\n",
            "This is while loop\n",
            "This is while loop\n",
            "This is while loop\n",
            "This is while loop\n",
            "This is while loop\n",
            "This is while loop\n",
            "This is while loop\n",
            "This is while loop\n",
            "This is while loop\n",
            "This is while loop\n",
            "This is while loop\n",
            "This is while loop\n",
            "This is while loop\n",
            "This is while loop\n",
            "This is while loop\n",
            "This is while loop\n",
            "This is while loop\n",
            "This is while loop\n",
            "This is while loop\n",
            "This is while loop\n",
            "This is while loop\n",
            "This is while loop\n",
            "This is while loop\n",
            "This is while loop\n",
            "This is while loop\n",
            "This is while loop\n",
            "This is while loop\n",
            "This is while loop\n",
            "This is while loop\n",
            "This is while loop\n",
            "This is while loop\n",
            "This is while loop\n",
            "This is while loop\n",
            "This is while loop\n",
            "This is while loop\n",
            "This is while loop\n",
            "This is while loop\n",
            "This is while loop\n",
            "This is while loop\n",
            "This is while loop\n",
            "This is while loop\n",
            "This is while loop\n",
            "This is while loop\n",
            "This is while loop\n",
            "This is while loop\n",
            "This is while loop\n",
            "This is while loop\n",
            "This is while loop\n",
            "This is while loop\n",
            "This is while loop\n",
            "This is while loop\n",
            "This is while loop\n",
            "This is while loop\n",
            "This is while loop\n",
            "This is while loop\n",
            "This is while loop\n",
            "This is while loop\n",
            "This is while loop\n",
            "This is while loop\n",
            "This is while loop\n",
            "This is while loop\n",
            "This is while loop\n",
            "This is while loop\n",
            "This is while loop\n",
            "This is while loop\n",
            "This is while loop\n",
            "This is while loop\n",
            "This is while loop\n",
            "This is while loop\n",
            "This is while loop\n",
            "This is while loop\n",
            "This is while loop\n",
            "This is while loop\n",
            "This is while loop\n",
            "This is while loop\n",
            "This is while loop\n",
            "This is while loop\n",
            "This is while loop\n",
            "This is while loop\n",
            "This is while loop\n",
            "This is while loop\n",
            "This is while loop\n",
            "This is while loop\n",
            "This is while loop\n",
            "This is while loop\n",
            "This is while loop\n",
            "This is while loop\n",
            "This is while loop\n",
            "This is while loop\n",
            "This is while loop\n",
            "This is while loop\n",
            "This is while loop\n",
            "This is while loop\n",
            "This is while loop\n",
            "This is while loop\n",
            "This is while loop\n",
            "This is while loop\n",
            "This is while loop\n",
            "This is while loop\n",
            "This is while loop\n",
            "This is while loop\n",
            "This is while loop\n",
            "This is while loop\n",
            "This is while loop\n",
            "This is while loop\n",
            "This is while loop\n",
            "This is while loop\n",
            "This is while loop\n",
            "This is while loop\n",
            "This is while loop\n",
            "This is while loop\n",
            "This is while loop\n",
            "This is while loop\n",
            "This is while loop\n",
            "This is while loop\n",
            "This is while loop\n",
            "This is while loop\n",
            "This is while loop\n",
            "This is while loop\n",
            "This is while loop\n",
            "This is while loop\n",
            "This is while loop\n",
            "This is while loop\n",
            "This is while loop\n",
            "This is while loop\n",
            "This is while loop\n",
            "This is while loop\n",
            "This is while loop\n",
            "This is while loop\n",
            "This is while loop\n",
            "This is while loop\n",
            "This is while loop\n",
            "This is while loop\n",
            "This is while loop\n",
            "This is while loop\n",
            "This is while loop\n",
            "This is while loop\n",
            "This is while loop\n",
            "This is while loop\n",
            "This is while loop\n",
            "This is while loop\n",
            "This is while loop\n",
            "This is while loop\n",
            "This is while loop\n",
            "This is while loop\n",
            "This is while loop\n",
            "This is while loop\n",
            "This is while loop\n",
            "This is while loop\n",
            "This is while loop\n",
            "This is while loop\n",
            "This is while loop\n",
            "This is while loop\n",
            "This is while loop\n",
            "This is while loop\n",
            "This is while loop\n",
            "This is while loop\n",
            "This is while loop\n",
            "This is while loop\n",
            "This is while loop\n",
            "This is while loop\n",
            "This is while loop\n",
            "This is while loop\n",
            "This is while loop\n",
            "This is while loop\n",
            "This is while loop\n",
            "This is while loop\n",
            "This is while loop\n",
            "This is while loop\n",
            "This is while loop\n",
            "This is while loop\n",
            "This is while loop\n",
            "This is while loop\n",
            "This is while loop\n",
            "This is while loop\n",
            "This is while loop\n",
            "This is while loop\n",
            "This is while loop\n",
            "This is while loop\n",
            "This is while loop\n",
            "This is while loop\n",
            "This is while loop\n",
            "This is while loop\n",
            "This is while loop\n",
            "This is while loop\n",
            "This is while loop\n",
            "This is while loop\n",
            "This is while loop\n",
            "This is while loop\n",
            "This is while loop\n",
            "This is while loop\n",
            "This is while loop\n",
            "This is while loop\n",
            "This is while loop\n",
            "This is while loop\n",
            "This is while loop\n",
            "This is while loop\n",
            "This is while loop\n",
            "This is while loop\n",
            "This is while loop\n",
            "This is while loop\n",
            "This is while loop\n",
            "This is while loop\n",
            "This is while loop\n",
            "This is while loop\n",
            "This is while loop\n",
            "This is while loop\n",
            "This is while loop\n",
            "This is while loop\n",
            "This is while loop\n",
            "This is while loop\n",
            "This is while loop\n",
            "This is while loop\n",
            "This is while loop\n",
            "This is while loop\n",
            "This is while loop\n",
            "This is while loop\n",
            "This is while loop\n",
            "This is while loop\n",
            "This is while loop\n",
            "This is while loop\n",
            "This is while loop\n",
            "This is while loop\n",
            "This is while loop\n",
            "This is while loop\n",
            "This is while loop\n",
            "This is while loop\n",
            "This is while loop\n",
            "This is while loop\n",
            "This is while loop\n",
            "This is while loop\n",
            "This is while loop\n",
            "This is while loop\n",
            "This is while loop\n",
            "This is while loop\n",
            "This is while loop\n",
            "This is while loop\n",
            "This is while loop\n",
            "This is while loop\n",
            "This is while loop\n",
            "This is while loop\n",
            "This is while loop\n",
            "This is while loop\n",
            "This is while loop\n",
            "This is while loop\n",
            "This is while loop\n",
            "This is while loop\n",
            "This is while loop\n",
            "This is while loop\n",
            "This is while loop\n",
            "This is while loop\n",
            "This is while loop\n",
            "This is while loop\n",
            "This is while loop\n",
            "This is while loop\n",
            "This is while loop\n",
            "This is while loop\n",
            "This is while loop\n",
            "This is while loop\n",
            "This is while loop\n",
            "This is while loop\n",
            "This is while loop\n",
            "This is while loop\n",
            "This is while loop\n",
            "This is while loop\n",
            "This is while loop\n",
            "This is while loop\n",
            "This is while loop\n",
            "This is while loop\n",
            "This is while loop\n",
            "This is while loop\n",
            "This is while loop\n",
            "This is while loop\n",
            "This is while loop\n",
            "This is while loop\n",
            "This is while loop\n",
            "This is while loop\n",
            "This is while loop\n",
            "This is while loop\n",
            "This is while loop\n",
            "This is while loop\n",
            "This is while loop\n",
            "This is while loop\n",
            "This is while loop\n",
            "This is while loop\n",
            "This is while loop\n",
            "This is while loop\n",
            "This is while loop\n",
            "This is while loop\n",
            "This is while loop\n",
            "This is while loop\n",
            "This is while loop\n",
            "This is while loop\n",
            "This is while loop\n",
            "This is while loop\n",
            "This is while loop\n",
            "This is while loop\n",
            "This is while loop\n",
            "This is while loop\n",
            "This is while loop\n",
            "This is while loop\n",
            "This is while loop\n",
            "This is while loop\n",
            "This is while loop\n",
            "This is while loop\n",
            "This is while loop\n",
            "This is while loop\n",
            "This is while loop\n",
            "This is while loop\n",
            "This is while loop\n",
            "This is while loop\n",
            "This is while loop\n",
            "This is while loop\n",
            "This is while loop\n",
            "This is while loop\n",
            "This is while loop\n",
            "This is while loop\n",
            "This is while loop\n",
            "This is while loop\n",
            "This is while loop\n",
            "This is while loop\n",
            "This is while loop\n",
            "This is while loop\n",
            "This is while loop\n",
            "This is while loop\n",
            "This is while loop\n",
            "This is while loop\n",
            "This is while loop\n",
            "This is while loop\n",
            "This is while loop\n",
            "This is while loop\n",
            "This is while loop\n",
            "This is while loop\n",
            "This is while loop\n",
            "This is while loop\n",
            "This is while loop\n",
            "This is while loop\n",
            "This is while loop\n",
            "This is while loop\n",
            "This is while loop\n",
            "This is while loop\n",
            "This is while loop\n",
            "This is while loop\n",
            "This is while loop\n",
            "This is while loop\n",
            "This is while loop\n",
            "This is while loop\n",
            "This is while loop\n",
            "This is while loop\n",
            "This is while loop\n",
            "This is while loop\n",
            "This is while loop\n",
            "This is while loop\n",
            "This is while loop\n",
            "This is while loop\n",
            "This is while loop\n",
            "This is while loop\n",
            "This is while loop\n",
            "This is while loop\n",
            "This is while loop\n",
            "This is while loop\n",
            "This is while loop\n",
            "This is while loop\n",
            "This is while loop\n",
            "This is while loop\n",
            "This is while loop\n",
            "This is while loop\n",
            "This is while loop\n",
            "This is while loop\n",
            "This is while loop\n",
            "This is while loop\n",
            "This is while loop\n",
            "This is while loop\n",
            "This is while loop\n",
            "This is while loop\n",
            "This is while loop\n",
            "This is while loop\n",
            "This is while loop\n",
            "This is while loop\n",
            "This is while loop\n",
            "This is while loop\n",
            "This is while loop\n",
            "This is while loop\n",
            "This is while loop\n",
            "This is while loop\n",
            "This is while loop\n",
            "This is while loop\n",
            "This is while loop\n",
            "This is while loop\n",
            "This is while loop\n",
            "This is while loop\n",
            "This is while loop\n",
            "This is while loop\n",
            "This is while loop\n",
            "This is while loop\n",
            "This is while loop\n",
            "This is while loop\n",
            "This is while loop\n",
            "This is while loop\n",
            "This is while loop\n",
            "This is while loop\n",
            "This is while loop\n",
            "This is while loop\n",
            "This is while loop\n",
            "This is while loop\n",
            "This is while loop\n",
            "This is while loop\n",
            "This is while loop\n",
            "This is while loop\n",
            "This is while loop\n",
            "This is while loop\n",
            "This is while loop\n",
            "This is while loop\n",
            "This is while loop\n",
            "This is while loop\n",
            "This is while loop\n",
            "This is while loop\n",
            "This is while loop\n",
            "This is while loop\n",
            "This is while loop\n",
            "This is while loop\n",
            "This is while loop\n",
            "This is while loop\n",
            "This is while loop\n",
            "This is while loop\n",
            "This is while loop\n",
            "This is while loop\n",
            "This is while loop\n",
            "This is while loop\n",
            "This is while loop\n",
            "This is while loop\n",
            "This is while loop\n",
            "This is while loop\n",
            "This is while loop\n",
            "This is while loop\n",
            "This is while loop\n",
            "This is while loop\n",
            "This is while loop\n",
            "This is while loop\n",
            "This is while loop\n",
            "This is while loop\n",
            "This is while loop\n",
            "This is while loop\n",
            "This is while loop\n",
            "This is while loop\n",
            "This is while loop\n",
            "This is while loop\n",
            "This is while loop\n",
            "This is while loop\n",
            "This is while loop\n",
            "This is while loop\n",
            "This is while loop\n",
            "This is while loop\n",
            "This is while loop\n",
            "This is while loop\n",
            "This is while loop\n",
            "This is while loop\n",
            "This is while loop\n",
            "This is while loop\n",
            "This is while loop\n",
            "This is while loop\n",
            "This is while loop\n",
            "This is while loop\n",
            "This is while loop\n",
            "This is while loop\n",
            "This is while loop\n",
            "This is while loop\n",
            "This is while loop\n",
            "This is while loop\n",
            "This is while loop\n",
            "This is while loop\n",
            "This is while loop\n",
            "This is while loop\n",
            "This is while loop\n",
            "This is while loop\n",
            "This is while loop\n",
            "This is while loop\n",
            "This is while loop\n",
            "This is while loop\n",
            "This is while loop\n",
            "This is while loop\n",
            "This is while loop\n",
            "This is while loop\n",
            "This is while loop\n",
            "This is while loop\n",
            "This is while loop\n",
            "This is while loop\n",
            "This is while loop\n",
            "This is while loop\n",
            "This is while loop\n",
            "This is while loop\n",
            "This is while loop\n",
            "This is while loop\n",
            "This is while loop\n",
            "This is while loop\n",
            "This is while loop\n",
            "This is while loop\n",
            "This is while loop\n",
            "This is while loop\n",
            "This is while loop\n",
            "This is while loop\n",
            "This is while loop\n",
            "This is while loop\n",
            "This is while loop\n",
            "This is while loop\n",
            "This is while loop\n",
            "This is while loop\n",
            "This is while loop\n",
            "This is while loop\n",
            "This is while loop\n",
            "This is while loop\n",
            "This is while loop\n",
            "This is while loop\n",
            "This is while loop\n",
            "This is while loop\n",
            "This is while loop\n",
            "This is while loop\n",
            "This is while loop\n",
            "This is while loop\n",
            "This is while loop\n",
            "This is while loop\n",
            "This is while loop\n",
            "This is while loop\n",
            "This is while loop\n",
            "This is while loop\n",
            "This is while loop\n",
            "This is while loop\n",
            "This is while loop\n",
            "This is while loop\n",
            "This is while loop\n",
            "This is while loop\n",
            "This is while loop\n",
            "This is while loop\n",
            "This is while loop\n",
            "This is while loop\n",
            "This is while loop\n",
            "This is while loop\n",
            "This is while loop\n",
            "This is while loop\n",
            "This is while loop\n",
            "This is while loop\n",
            "This is while loop\n",
            "This is while loop\n",
            "This is while loop\n",
            "This is while loop\n",
            "This is while loop\n",
            "This is while loop\n",
            "This is while loop\n",
            "This is while loop\n",
            "This is while loop\n",
            "This is while loop\n",
            "This is while loop\n",
            "This is while loop\n",
            "This is while loop\n",
            "This is while loop\n",
            "This is while loop\n",
            "This is while loop\n",
            "This is while loop\n",
            "This is while loop\n",
            "This is while loop\n",
            "This is while loop\n",
            "This is while loop\n",
            "This is while loop\n",
            "This is while loop\n",
            "This is while loop\n",
            "This is while loop\n",
            "This is while loop\n",
            "This is while loop\n",
            "This is while loop\n",
            "This is while loop\n",
            "This is while loop\n",
            "This is while loop\n",
            "This is while loop\n",
            "This is while loop\n",
            "This is while loop\n",
            "This is while loop\n",
            "This is while loop\n",
            "This is while loop\n",
            "This is while loop\n",
            "This is while loop\n",
            "This is while loop\n",
            "This is while loop\n",
            "This is while loop\n",
            "This is while loop\n",
            "This is while loop\n",
            "This is while loop\n",
            "This is while loop\n",
            "This is while loop\n",
            "This is while loop\n",
            "This is while loop\n",
            "This is while loop\n",
            "This is while loop\n",
            "This is while loop\n",
            "This is while loop\n",
            "This is while loop\n",
            "This is while loop\n",
            "This is while loop\n",
            "This is while loop\n",
            "This is while loop\n",
            "This is while loop\n",
            "This is while loop\n",
            "This is while loop\n",
            "This is while loop\n",
            "This is while loop\n",
            "This is while loop\n",
            "This is while loop\n",
            "This is while loop\n",
            "This is while loop\n",
            "This is while loop\n",
            "This is while loop\n",
            "This is while loop\n",
            "This is while loop\n",
            "This is while loop\n",
            "This is while loop\n",
            "This is while loop\n",
            "This is while loop\n",
            "This is while loop\n",
            "This is while loop\n",
            "This is while loop\n",
            "This is while loop\n",
            "This is while loop\n",
            "This is while loop\n",
            "This is while loop\n",
            "This is while loop\n",
            "This is while loop\n",
            "This is while loop\n",
            "This is while loop\n",
            "This is while loop\n",
            "This is while loop\n",
            "This is while loop\n",
            "This is while loop\n",
            "This is while loop\n",
            "This is while loop\n",
            "This is while loop\n",
            "This is while loop\n",
            "This is while loop\n",
            "This is while loop\n",
            "This is while loop\n",
            "This is while loop\n",
            "This is while loop\n",
            "This is while loop\n",
            "This is while loop\n",
            "This is while loop\n",
            "This is while loop\n",
            "This is while loop\n",
            "This is while loop\n",
            "This is while loop\n",
            "This is while loop\n",
            "This is while loop\n",
            "This is while loop\n",
            "This is while loop\n",
            "This is while loop\n",
            "This is while loop\n",
            "This is while loop\n",
            "This is while loop\n",
            "This is while loop\n",
            "This is while loop\n",
            "This is while loop\n",
            "This is while loop\n",
            "This is while loop\n",
            "This is while loop\n",
            "This is while loop\n",
            "This is while loop\n",
            "This is while loop\n",
            "This is while loop\n",
            "This is while loop\n",
            "This is while loop\n",
            "This is while loop\n",
            "This is while loop\n",
            "This is while loop\n",
            "This is while loop\n",
            "This is while loop\n",
            "This is while loop\n",
            "This is while loop\n",
            "This is while loop\n",
            "This is while loop\n",
            "This is while loop\n",
            "This is while loop\n",
            "This is while loop\n",
            "This is while loop\n",
            "This is while loop\n",
            "This is while loop\n",
            "This is while loop\n",
            "This is while loop\n",
            "This is while loop\n",
            "This is while loop\n",
            "This is while loop\n",
            "This is while loop\n",
            "This is while loop\n",
            "This is while loop\n",
            "This is while loop\n",
            "This is while loop\n",
            "This is while loop\n",
            "This is while loop\n",
            "This is while loop\n",
            "This is while loop\n",
            "This is while loop\n",
            "This is while loop\n",
            "This is while loop\n",
            "This is while loop\n",
            "This is while loop\n",
            "This is while loop\n",
            "This is while loop\n",
            "This is while loop\n",
            "This is while loop\n",
            "This is while loop\n",
            "This is while loop\n",
            "This is while loop\n",
            "This is while loop\n",
            "This is while loop\n",
            "This is while loop\n",
            "This is while loop\n",
            "This is while loop\n",
            "This is while loop\n",
            "This is while loop\n",
            "This is while loop\n",
            "This is while loop\n",
            "This is while loop\n",
            "This is while loop\n",
            "This is while loop\n",
            "This is while loop\n",
            "This is while loop\n",
            "This is while loop\n",
            "This is while loop\n",
            "This is while loop\n",
            "This is while loop\n",
            "This is while loop\n",
            "This is while loop\n",
            "This is while loop\n",
            "This is while loop\n",
            "This is while loop\n",
            "This is while loop\n",
            "This is while loop\n",
            "This is while loop\n",
            "This is while loop\n",
            "This is while loop\n",
            "This is while loop\n",
            "This is while loop\n",
            "This is while loop\n",
            "This is while loop\n",
            "This is while loop\n",
            "This is while loop\n",
            "This is while loop\n",
            "This is while loop\n",
            "This is while loop\n",
            "This is while loop\n",
            "This is while loop\n",
            "This is while loop\n",
            "This is while loop\n",
            "This is while loop\n",
            "This is while loop\n",
            "This is while loop\n",
            "This is while loop\n",
            "This is while loop\n",
            "This is while loop\n",
            "This is while loop\n",
            "This is while loop\n",
            "This is while loop\n",
            "This is while loop\n",
            "This is while loop\n",
            "This is while loop\n",
            "This is while loop\n",
            "This is while loop\n",
            "This is while loop\n",
            "This is while loop\n",
            "This is while loop\n",
            "This is while loop\n",
            "This is while loop\n",
            "This is while loop\n",
            "This is while loop\n",
            "This is while loop\n",
            "This is while loop\n",
            "This is while loop\n",
            "This is while loop\n",
            "This is while loop\n",
            "This is while loop\n",
            "This is while loop\n",
            "This is while loop\n",
            "This is while loop\n",
            "This is while loop\n",
            "This is while loop\n",
            "This is while loop\n",
            "This is while loop\n",
            "This is while loop\n",
            "This is while loop\n",
            "This is while loop\n",
            "This is while loop\n",
            "This is while loop\n",
            "This is while loop\n",
            "This is while loop\n",
            "This is while loop\n",
            "This is while loop\n",
            "This is while loop\n",
            "This is while loop\n",
            "This is while loop\n",
            "This is while loop\n",
            "This is while loop\n",
            "This is while loop\n",
            "This is while loop\n",
            "This is while loop\n",
            "This is while loop\n",
            "This is while loop\n",
            "This is while loop\n",
            "This is while loop\n",
            "This is while loop\n",
            "This is while loop\n",
            "This is while loop\n",
            "This is while loop\n",
            "This is while loop\n",
            "This is while loop\n",
            "This is while loop\n",
            "This is while loop\n",
            "This is while loop\n",
            "This is while loop\n",
            "This is while loop\n",
            "This is while loop\n",
            "This is while loop\n",
            "This is while loop\n",
            "This is while loop\n",
            "This is while loop\n",
            "This is while loop\n",
            "This is while loop\n",
            "This is while loop\n",
            "This is while loop\n",
            "This is while loop\n",
            "This is while loop\n",
            "This is while loop\n",
            "This is while loop\n",
            "This is while loop\n",
            "This is while loop\n",
            "This is while loop\n",
            "This is while loop\n",
            "This is while loop\n",
            "This is while loop\n",
            "This is while loop\n",
            "This is while loop\n",
            "This is while loop\n",
            "This is while loop\n",
            "This is while loop\n",
            "This is while loop\n",
            "This is while loop\n",
            "This is while loop\n",
            "This is while loop\n",
            "This is while loop\n",
            "This is while loop\n",
            "This is while loop\n",
            "This is while loop\n",
            "This is while loop\n",
            "This is while loop\n",
            "This is while loop\n",
            "This is while loop\n",
            "This is while loop\n",
            "This is while loop\n",
            "This is while loop\n",
            "This is while loop\n",
            "This is while loop\n",
            "This is while loop\n",
            "This is while loop\n",
            "This is while loop\n",
            "This is while loop\n",
            "This is while loop\n",
            "This is while loop\n",
            "This is while loop\n",
            "This is while loop\n",
            "This is while loop\n",
            "This is while loop\n",
            "This is while loop\n",
            "This is while loop\n",
            "This is while loop\n",
            "This is while loop\n",
            "This is while loop\n",
            "This is while loop\n",
            "This is while loop\n",
            "This is while loop\n",
            "This is while loop\n",
            "This is while loop\n",
            "This is while loop\n",
            "This is while loop\n",
            "This is while loop\n",
            "This is while loop\n",
            "This is while loop\n",
            "This is while loop\n",
            "This is while loop\n",
            "This is while loop\n",
            "This is while loop\n",
            "This is while loop\n",
            "This is while loop\n",
            "This is while loop\n",
            "This is while loop\n",
            "This is while loop\n",
            "This is while loop\n",
            "This is while loop\n",
            "This is while loop\n",
            "This is while loop\n",
            "This is while loop\n",
            "This is while loop\n",
            "This is while loop\n",
            "This is while loop\n",
            "This is while loop\n",
            "This is while loop\n",
            "This is while loop\n",
            "This is while loop\n",
            "This is while loop\n",
            "This is while loop\n",
            "This is while loop\n",
            "This is while loop\n",
            "This is while loop\n",
            "This is while loop\n",
            "This is while loop\n",
            "This is while loop\n",
            "This is while loop\n",
            "This is while loop\n",
            "This is while loop\n",
            "This is while loop\n",
            "This is while loop\n",
            "This is while loop\n",
            "This is while loop\n",
            "This is while loop\n",
            "This is while loop\n",
            "This is while loop\n",
            "This is while loop\n",
            "This is while loop\n",
            "This is while loop\n",
            "This is while loop\n",
            "This is while loop\n",
            "This is while loop\n",
            "This is while loop\n",
            "This is while loop\n",
            "This is while loop\n",
            "This is while loop\n",
            "This is while loop\n",
            "This is while loop\n",
            "This is while loop\n",
            "This is while loop\n",
            "This is while loop\n",
            "This is while loop\n",
            "This is while loop\n",
            "This is while loop\n",
            "This is while loop\n",
            "This is while loop\n",
            "This is while loop\n",
            "This is while loop\n",
            "This is while loop\n",
            "This is while loop\n",
            "This is while loop\n",
            "This is while loop\n",
            "This is while loop\n",
            "This is while loop\n",
            "This is while loop\n",
            "This is while loop\n",
            "This is while loop\n",
            "This is while loop\n",
            "This is while loop\n",
            "This is while loop\n",
            "This is while loop\n",
            "This is while loop\n",
            "This is while loop\n",
            "This is while loop\n",
            "This is while loop\n",
            "This is while loop\n",
            "This is while loop\n",
            "This is while loop\n",
            "This is while loop\n",
            "This is while loop\n",
            "This is while loop\n",
            "This is while loop\n",
            "This is while loop\n",
            "This is while loop\n",
            "This is while loop\n",
            "This is while loop\n",
            "This is while loop\n",
            "This is while loop\n",
            "This is while loop\n",
            "This is while loop\n",
            "This is while loop\n",
            "This is while loop\n",
            "This is while loop\n",
            "This is while loop\n",
            "This is while loop\n",
            "This is while loop\n",
            "This is while loop\n",
            "This is while loop\n",
            "This is while loop\n",
            "This is while loop\n",
            "This is while loop\n",
            "This is while loop\n",
            "This is while loop\n",
            "This is while loop\n",
            "This is while loop\n",
            "This is while loop\n",
            "This is while loop\n",
            "This is while loop\n",
            "This is while loop\n",
            "This is while loop\n",
            "This is while loop\n",
            "This is while loop\n",
            "This is while loop\n",
            "This is while loop\n",
            "This is while loop\n",
            "This is while loop\n",
            "This is while loop\n",
            "This is while loop\n",
            "This is while loop\n",
            "This is while loop\n",
            "This is while loop\n",
            "This is while loop\n",
            "This is while loop\n",
            "This is while loop\n",
            "This is while loop\n",
            "This is while loop\n",
            "This is while loop\n",
            "This is while loop\n",
            "This is while loop\n",
            "This is while loop\n",
            "This is while loop\n",
            "This is while loop\n",
            "This is while loop\n",
            "This is while loop\n",
            "This is while loop\n",
            "This is while loop\n",
            "This is while loop\n",
            "This is while loop\n",
            "This is while loop\n",
            "This is while loop\n",
            "This is while loop\n",
            "This is while loop\n",
            "This is while loop\n",
            "This is while loop\n",
            "This is while loop\n",
            "This is while loop\n",
            "This is while loop\n",
            "This is while loop\n",
            "This is while loop\n",
            "This is while loop\n",
            "This is while loop\n",
            "This is while loop\n",
            "This is while loop\n",
            "This is while loop\n",
            "This is while loop\n",
            "This is while loop\n",
            "This is while loop\n",
            "This is while loop\n",
            "This is while loop\n",
            "This is while loop\n",
            "This is while loop\n",
            "This is while loop\n",
            "This is while loop\n",
            "This is while loop\n",
            "This is while loop\n",
            "This is while loop\n",
            "This is while loop\n",
            "This is while loop\n",
            "This is while loop\n",
            "This is while loop\n",
            "This is while loop\n",
            "This is while loop\n",
            "This is while loop\n",
            "This is while loop\n",
            "This is while loop\n",
            "This is while loop\n",
            "This is while loop\n",
            "This is while loop\n",
            "This is while loop\n",
            "This is while loop\n",
            "This is while loop\n",
            "This is while loop\n",
            "This is while loop\n",
            "This is while loop\n",
            "This is while loop\n",
            "This is while loop\n",
            "This is while loop\n",
            "This is while loop\n"
          ]
        }
      ],
      "source": [
        "i=5\n",
        "while(i<8):\n",
        "    print('This is while loop')\n",
        "    i=+i\n",
        "    break"
      ]
    },
    {
      "cell_type": "code",
      "execution_count": null,
      "metadata": {
        "id": "B1XhpjwOdZ6Z"
      },
      "outputs": [],
      "source": [
        "i=5\n",
        "while(i<8):\n",
        "    print('This is while loop')\n",
        "    i=i+1\n",
        "    break"
      ]
    },
    {
      "cell_type": "code",
      "source": [
        "i = 1\n",
        "while i < 5:\n",
        "    print('i is: {}'.format(i))\n",
        "    i = i+1"
      ],
      "metadata": {
        "colab": {
          "base_uri": "https://localhost:8080/"
        },
        "id": "2_gPO7QxinnV",
        "outputId": "bc7b4e9c-3d24-4369-fe14-492cbd2b6201"
      },
      "execution_count": null,
      "outputs": [
        {
          "output_type": "stream",
          "name": "stdout",
          "text": [
            "i is: 1\n",
            "i is: 2\n",
            "i is: 3\n",
            "i is: 4\n"
          ]
        }
      ]
    },
    {
      "cell_type": "markdown",
      "source": [
        "##Range()"
      ],
      "metadata": {
        "id": "rXcKUVLxi8_a"
      }
    },
    {
      "cell_type": "code",
      "source": [
        "range(5)"
      ],
      "metadata": {
        "colab": {
          "base_uri": "https://localhost:8080/"
        },
        "id": "Gs-8sgm0i_zW",
        "outputId": "9f31598f-67d8-4bbd-b47b-3d1d24db5fc1"
      },
      "execution_count": null,
      "outputs": [
        {
          "output_type": "execute_result",
          "data": {
            "text/plain": [
              "range(0, 5)"
            ]
          },
          "metadata": {},
          "execution_count": 60
        }
      ]
    },
    {
      "cell_type": "code",
      "source": [
        "for i in range(5):\n",
        "    print(i)"
      ],
      "metadata": {
        "colab": {
          "base_uri": "https://localhost:8080/"
        },
        "id": "LhYPWJUsjARC",
        "outputId": "7aee0cb4-eb57-4f3e-e426-ff61e839dfa0"
      },
      "execution_count": null,
      "outputs": [
        {
          "output_type": "stream",
          "name": "stdout",
          "text": [
            "0\n",
            "1\n",
            "2\n",
            "3\n",
            "4\n"
          ]
        }
      ]
    },
    {
      "cell_type": "code",
      "source": [
        "list(range(5))"
      ],
      "metadata": {
        "colab": {
          "base_uri": "https://localhost:8080/"
        },
        "id": "gUYO3FdUjPQ3",
        "outputId": "4a3a7245-4da3-4bfb-e7f6-511527f33d80"
      },
      "execution_count": null,
      "outputs": [
        {
          "output_type": "execute_result",
          "data": {
            "text/plain": [
              "[0, 1, 2, 3, 4]"
            ]
          },
          "metadata": {},
          "execution_count": 62
        }
      ]
    },
    {
      "cell_type": "code",
      "source": [
        "seq=[1,2,3,4,5]\n",
        "for item in seq:\n",
        "  print(seq)"
      ],
      "metadata": {
        "colab": {
          "base_uri": "https://localhost:8080/"
        },
        "id": "KFopsdchrlUN",
        "outputId": "7e7f05e8-2b61-45f4-b7c1-d40bd9b1ddec"
      },
      "execution_count": null,
      "outputs": [
        {
          "output_type": "stream",
          "name": "stdout",
          "text": [
            "[1, 2, 3, 4, 5]\n",
            "[1, 2, 3, 4, 5]\n",
            "[1, 2, 3, 4, 5]\n",
            "[1, 2, 3, 4, 5]\n",
            "[1, 2, 3, 4, 5]\n"
          ]
        }
      ]
    },
    {
      "cell_type": "markdown",
      "metadata": {
        "id": "KD-aNyNVd8ES"
      },
      "source": []
    },
    {
      "cell_type": "markdown",
      "source": [
        "##list comprehension"
      ],
      "metadata": {
        "id": "hH28nRZhjYPN"
      }
    },
    {
      "cell_type": "code",
      "source": [
        "x = [1,2,3,4]"
      ],
      "metadata": {
        "id": "fg5rRRLsjaLC"
      },
      "execution_count": null,
      "outputs": []
    },
    {
      "cell_type": "code",
      "source": [
        "out = []\n",
        "for item in x:\n",
        "    out.append(item**2)\n",
        "print(out)"
      ],
      "metadata": {
        "colab": {
          "base_uri": "https://localhost:8080/"
        },
        "id": "ym7kxY7Aja45",
        "outputId": "4245ac4e-1455-4edd-fba1-5b66a17240c8"
      },
      "execution_count": null,
      "outputs": [
        {
          "output_type": "stream",
          "name": "stdout",
          "text": [
            "[1, 4, 9, 16]\n"
          ]
        }
      ]
    },
    {
      "cell_type": "code",
      "source": [
        "[item**2 for item in x]"
      ],
      "metadata": {
        "colab": {
          "base_uri": "https://localhost:8080/"
        },
        "id": "RWTgnLcejbKV",
        "outputId": "db867977-b5fe-49e7-f043-030e97f07c4e"
      },
      "execution_count": null,
      "outputs": [
        {
          "output_type": "execute_result",
          "data": {
            "text/plain": [
              "[1, 4, 9, 16]"
            ]
          },
          "metadata": {},
          "execution_count": 65
        }
      ]
    },
    {
      "cell_type": "markdown",
      "source": [
        " Functions\n"
      ],
      "metadata": {
        "id": "5jQE3rmpe8RM"
      }
    },
    {
      "cell_type": "code",
      "source": [
        "def greet_user():\n",
        "  # display a simple greeting\n",
        "  print('hello')\n",
        "  greet_user()"
      ],
      "metadata": {
        "id": "LAzBc_vffAQs"
      },
      "execution_count": null,
      "outputs": []
    },
    {
      "cell_type": "code",
      "source": [
        "def my_func(param1 =\"default\"):\n",
        "  print (param1)"
      ],
      "metadata": {
        "id": "vQpcQaSynJkQ"
      },
      "execution_count": null,
      "outputs": []
    },
    {
      "cell_type": "code",
      "source": [
        "def add(x,y):\n",
        "  # addition function\n",
        "  result=x+y\n",
        "  print(result)"
      ],
      "metadata": {
        "id": "gUSxVhpysUNk"
      },
      "execution_count": null,
      "outputs": []
    },
    {
      "cell_type": "code",
      "source": [
        "add(1,2)"
      ],
      "metadata": {
        "colab": {
          "base_uri": "https://localhost:8080/"
        },
        "id": "EOtFJoyGsn4L",
        "outputId": "d3596306-2575-4e9e-cd35-63db9283225c"
      },
      "execution_count": null,
      "outputs": [
        {
          "output_type": "stream",
          "name": "stdout",
          "text": [
            "3\n"
          ]
        }
      ]
    },
    {
      "cell_type": "code",
      "source": [
        "add"
      ],
      "metadata": {
        "colab": {
          "base_uri": "https://localhost:8080/"
        },
        "id": "WpOz5t_5suwz",
        "outputId": "e4de73e3-7e7a-4714-b025-8f1913ecfab5"
      },
      "execution_count": null,
      "outputs": [
        {
          "output_type": "execute_result",
          "data": {
            "text/plain": [
              "<function __main__.add(x, y)>"
            ]
          },
          "metadata": {},
          "execution_count": 11
        }
      ]
    },
    {
      "cell_type": "code",
      "source": [
        "my_func"
      ],
      "metadata": {
        "colab": {
          "base_uri": "https://localhost:8080/"
        },
        "id": "Q5HMrj3Ls5PN",
        "outputId": "b1905135-0b5f-450a-a50a-e010c62c5b7f"
      },
      "execution_count": null,
      "outputs": [
        {
          "output_type": "execute_result",
          "data": {
            "text/plain": [
              "<function __main__.my_func(param1='default')>"
            ]
          },
          "metadata": {},
          "execution_count": 12
        }
      ]
    },
    {
      "cell_type": "code",
      "source": [
        "def area(l,w):\n",
        "  'this function is used for finding area'\n",
        "  area_triangle=1/2*(l*w)\n",
        "  print(area_triangle)\n"
      ],
      "metadata": {
        "id": "mYj2zeNxtAyp"
      },
      "execution_count": null,
      "outputs": []
    },
    {
      "cell_type": "code",
      "source": [
        "area(4,5)"
      ],
      "metadata": {
        "colab": {
          "base_uri": "https://localhost:8080/"
        },
        "id": "vveI4qUfuN7p",
        "outputId": "1b822f4e-4f28-4bd9-b718-b9cc753673eb"
      },
      "execution_count": null,
      "outputs": [
        {
          "output_type": "stream",
          "name": "stdout",
          "text": [
            "10.0\n"
          ]
        }
      ]
    },
    {
      "cell_type": "code",
      "source": [
        "def square(x):\n",
        "  result=x**2\n",
        "  print(result)\n"
      ],
      "metadata": {
        "id": "h4qEJu6Gw7fx"
      },
      "execution_count": null,
      "outputs": []
    },
    {
      "cell_type": "code",
      "source": [
        "square(3)"
      ],
      "metadata": {
        "colab": {
          "base_uri": "https://localhost:8080/"
        },
        "id": "nJfHygtzyNZf",
        "outputId": "1fbe7caf-ee85-43b9-f1e6-882961d81636"
      },
      "execution_count": null,
      "outputs": [
        {
          "output_type": "stream",
          "name": "stdout",
          "text": [
            "9\n"
          ]
        }
      ]
    },
    {
      "cell_type": "code",
      "source": [
        "def my_func(param1='default'):\n",
        "    \"\"\"\n",
        "    Docstring goes here.\n",
        "    \"\"\"\n",
        "    print(param1)"
      ],
      "metadata": {
        "id": "5mQWlKuqkBgK"
      },
      "execution_count": null,
      "outputs": []
    },
    {
      "cell_type": "code",
      "source": [
        "my_func"
      ],
      "metadata": {
        "colab": {
          "base_uri": "https://localhost:8080/"
        },
        "id": "frBbTl86kGc4",
        "outputId": "14e9f067-0cfe-4cb0-f7f5-a073d7997696"
      },
      "execution_count": null,
      "outputs": [
        {
          "output_type": "execute_result",
          "data": {
            "text/plain": [
              "<function __main__.my_func(param1='default')>"
            ]
          },
          "metadata": {},
          "execution_count": 67
        }
      ]
    },
    {
      "cell_type": "code",
      "source": [
        "my_func()"
      ],
      "metadata": {
        "colab": {
          "base_uri": "https://localhost:8080/"
        },
        "id": "IUGkmwlYkL0j",
        "outputId": "eb212eef-7c9d-47d1-e5c9-cc9474a75d9c"
      },
      "execution_count": null,
      "outputs": [
        {
          "output_type": "stream",
          "name": "stdout",
          "text": [
            "default\n"
          ]
        }
      ]
    },
    {
      "cell_type": "code",
      "source": [
        "my_func(param1='new param')"
      ],
      "metadata": {
        "colab": {
          "base_uri": "https://localhost:8080/"
        },
        "id": "yYkwEYC-kOD2",
        "outputId": "8972cacf-83f4-4b80-94e9-2c696b3b2d97"
      },
      "execution_count": null,
      "outputs": [
        {
          "output_type": "stream",
          "name": "stdout",
          "text": [
            "new param\n"
          ]
        }
      ]
    },
    {
      "cell_type": "code",
      "source": [
        "def square(x):\n",
        "    return x**2"
      ],
      "metadata": {
        "id": "izufGA6skVRm"
      },
      "execution_count": null,
      "outputs": []
    },
    {
      "cell_type": "code",
      "source": [
        "out = square(2)"
      ],
      "metadata": {
        "id": "ton3IQK8kZQi"
      },
      "execution_count": null,
      "outputs": []
    },
    {
      "cell_type": "code",
      "source": [
        "print(out)"
      ],
      "metadata": {
        "colab": {
          "base_uri": "https://localhost:8080/"
        },
        "id": "9TbAgD7okc9S",
        "outputId": "30c705de-1781-4898-cfac-68041ac6fcad"
      },
      "execution_count": null,
      "outputs": [
        {
          "output_type": "stream",
          "name": "stdout",
          "text": [
            "4\n"
          ]
        }
      ]
    },
    {
      "cell_type": "markdown",
      "source": [
        "##lambda expressions"
      ],
      "metadata": {
        "id": "cGkcgTfIkobX"
      }
    },
    {
      "cell_type": "code",
      "source": [
        "def times2(var):\n",
        "    return var*2"
      ],
      "metadata": {
        "id": "smVCgpjTkqe1"
      },
      "execution_count": null,
      "outputs": []
    },
    {
      "cell_type": "markdown",
      "source": [
        "Write a python program to do arthematical operations adition and devision"
      ],
      "metadata": {
        "id": "tKJYxFVZ0lty"
      }
    },
    {
      "cell_type": "code",
      "source": [
        "times2(2)"
      ],
      "metadata": {
        "colab": {
          "base_uri": "https://localhost:8080/"
        },
        "id": "snohWFPVkxzr",
        "outputId": "5f56a0eb-fa51-4d14-8d11-0cd03d2520f1"
      },
      "execution_count": null,
      "outputs": [
        {
          "output_type": "execute_result",
          "data": {
            "text/plain": [
              "4"
            ]
          },
          "metadata": {},
          "execution_count": 74
        }
      ]
    },
    {
      "cell_type": "code",
      "source": [
        "lambda var: var*2"
      ],
      "metadata": {
        "colab": {
          "base_uri": "https://localhost:8080/"
        },
        "id": "fTFoAkcIk3K3",
        "outputId": "01f6b275-f547-4efa-a503-7b7020633fe6"
      },
      "execution_count": null,
      "outputs": [
        {
          "output_type": "execute_result",
          "data": {
            "text/plain": [
              "<function __main__.<lambda>(var)>"
            ]
          },
          "metadata": {},
          "execution_count": 75
        }
      ]
    },
    {
      "cell_type": "markdown",
      "source": [
        "#Practice Exercise"
      ],
      "metadata": {
        "id": "pPZri-YGk5Le"
      }
    },
    {
      "cell_type": "code",
      "source": [
        "\n",
        "# Addition\n",
        "num1=float(input('Enter the number'))\n",
        "num2=float(input('Enter the number'))\n",
        "print(f'sum:{num1} {num2} = {sum_result}')\n",
        "# print(sum_result)\n"
      ],
      "metadata": {
        "colab": {
          "base_uri": "https://localhost:8080/"
        },
        "id": "K2bOPQm5ySNx",
        "outputId": "b7fc49e2-b431-4373-8f30-01d9bfeff7c6"
      },
      "execution_count": null,
      "outputs": [
        {
          "output_type": "stream",
          "name": "stdout",
          "text": [
            "Enter the number4\n",
            "Enter the number3\n",
            "sum:4.0 3.0 = 4.0\n"
          ]
        }
      ]
    },
    {
      "cell_type": "code",
      "source": [
        "# division\n",
        "num1=float(input('Enter the dividend for division'))\n",
        "num2=float(input('Enter the divisor for division'))\n",
        "divide_result = num1/num2\n",
        "print(f'divide:{num1} {num2} = {divide_result}')\n",
        "# print(divide_result)\n"
      ],
      "metadata": {
        "colab": {
          "base_uri": "https://localhost:8080/"
        },
        "id": "22TBIpO51e5e",
        "outputId": "88e3cbfe-6a3a-4b60-cb31-913ad8643c83"
      },
      "execution_count": null,
      "outputs": [
        {
          "output_type": "stream",
          "name": "stdout",
          "text": [
            "Enter the dividend for division20\n",
            "Enter the divisor for division2\n",
            "divide:20.0 2.0 = 10.0\n"
          ]
        }
      ]
    },
    {
      "cell_type": "markdown",
      "source": [
        "3. linear function"
      ],
      "metadata": {
        "id": "2Cdb2aiL4BYe"
      }
    },
    {
      "cell_type": "code",
      "source": [
        "a=int(input('enter value of a: '))\n",
        "x=int(input('enter value of x: '))\n",
        "b=int(input('enter value of b: '))\n",
        "linear_func = a*x+b\n",
        "# print(linear_func)\n",
        "print(f'linear function is:{a}*{x}+{b} = {linear_func}')"
      ],
      "metadata": {
        "colab": {
          "base_uri": "https://localhost:8080/"
        },
        "id": "0sA3qP_y3e9n",
        "outputId": "c7119e40-a3a4-4ac2-99e7-a0578196556c"
      },
      "execution_count": null,
      "outputs": [
        {
          "output_type": "stream",
          "name": "stdout",
          "text": [
            "enter value of a: 2\n",
            "enter value of x: 3\n",
            "enter value of b: 4\n",
            "linear function is:2*3+4 = 10\n"
          ]
        }
      ]
    },
    {
      "cell_type": "markdown",
      "source": [
        "Program 3\n",
        "\n",
        "Write a Python program to find the area of a triangle."
      ],
      "metadata": {
        "id": "CqybodiclizT"
      }
    },
    {
      "cell_type": "code",
      "source": [
        "# input the base and height from user\n",
        "base=float(input('Enter the base of length of triangle:'))\n",
        "height=float(input('Enter the height of triangle\"'))\n",
        "# calculate the area of triangle\n",
        "result=0.5*base*height\n",
        "print(f'the area of triangle: {result}')\n"
      ],
      "metadata": {
        "colab": {
          "base_uri": "https://localhost:8080/"
        },
        "id": "KBlnt1bOlQA6",
        "outputId": "4a304cfa-2e1e-4338-e19c-9e311afb819d"
      },
      "execution_count": null,
      "outputs": [
        {
          "output_type": "stream",
          "name": "stdout",
          "text": [
            "Enter the base of length of triangle2\n",
            "Enter the height of triangle2\n",
            "the area of triangle: 2.0\n"
          ]
        }
      ]
    },
    {
      "cell_type": "markdown",
      "source": [
        "Program 4\n",
        "\n",
        "Write a Python program to swap two variables.\n"
      ],
      "metadata": {
        "id": "SSiEeHIvnHXo"
      }
    },
    {
      "cell_type": "code",
      "source": [
        "# input two variables\n",
        "a=float(input('Enter the value of variable a  '))\n",
        "b=float(input('Enter the value of variable b  '))\n",
        "# display origional values\n",
        "print(f'the origional values:  a={a},  b={b}')\n",
        "\n",
        "temp=a\n",
        "a=b\n",
        "b=temp\n",
        "# Dispay the swapped values\n",
        "print(f'swapped values: a={a} , b={b}')"
      ],
      "metadata": {
        "colab": {
          "base_uri": "https://localhost:8080/"
        },
        "id": "eHBYBFYNmvOB",
        "outputId": "aab11d8b-3970-4599-906c-6f11af286ceb"
      },
      "execution_count": null,
      "outputs": [
        {
          "output_type": "stream",
          "name": "stdout",
          "text": [
            "Enter the value of variable a  2\n",
            "Enter the value of variable b  4\n",
            "the origional values:  a=2.0,  b=4.0\n",
            "swapped values: a=4.0 , b=2.0\n"
          ]
        }
      ]
    },
    {
      "cell_type": "markdown",
      "source": [
        "Program 5\n",
        "\n",
        "Write a Python program to generate a random number"
      ],
      "metadata": {
        "id": "8lC1pGszpner"
      }
    },
    {
      "cell_type": "code",
      "source": [
        "import random\n",
        "print(f'Random Number:  {random.randint(1,100)}')"
      ],
      "metadata": {
        "colab": {
          "base_uri": "https://localhost:8080/"
        },
        "id": "ZZPJffCMpOt5",
        "outputId": "ed95d96d-def4-4da8-8e55-27494b54dd54"
      },
      "execution_count": null,
      "outputs": [
        {
          "output_type": "stream",
          "name": "stdout",
          "text": [
            "Random Number:  69\n"
          ]
        }
      ]
    },
    {
      "cell_type": "markdown",
      "source": [
        "Program 6\n",
        "\n",
        "Write a Python program to convert kilometers to miles.\n"
      ],
      "metadata": {
        "id": "rnrfWedXqZNV"
      }
    },
    {
      "cell_type": "code",
      "source": [
        "kilometers = float(input(\"Enter distance in kilometers: \"))\n",
        "# Conversion factor: 1 kilometer = 0.621371 miles\n",
        "conversion_factor = 0.621371\n",
        "miles = kilometers * conversion_factor\n",
        "print(f\"{kilometers} kilometers is equal to {miles} miles\")\n"
      ],
      "metadata": {
        "colab": {
          "base_uri": "https://localhost:8080/"
        },
        "id": "Fj_jm9gpp5iZ",
        "outputId": "8e4549e9-ee3e-4cdf-d2f1-c0feb9bf298e"
      },
      "execution_count": null,
      "outputs": [
        {
          "output_type": "stream",
          "name": "stdout",
          "text": [
            "Enter distance in kilometers: 100\n",
            "100.0 kilometers is equal to 62.137100000000004 miles\n"
          ]
        }
      ]
    },
    {
      "cell_type": "markdown",
      "source": [
        "Program 7\n",
        "\n",
        "Write a Python program to convert Celsius to Fahrenheit."
      ],
      "metadata": {
        "id": "f7TeMZ2ztpRa"
      }
    },
    {
      "cell_type": "code",
      "source": [
        "celsius = float(input(\"Enter temperature in Celsius: \"))\n",
        "# Conversion formula: Fahrenheit = (Celsius * 9/5) + 32\n",
        "fahrenheit = (celsius * 9/5) + 32\n",
        "print(f\"{celsius} degrees Celsius is equal to {fahrenheit} degrees Fahrenheit\")"
      ],
      "metadata": {
        "colab": {
          "base_uri": "https://localhost:8080/"
        },
        "id": "vNospM8DsDnZ",
        "outputId": "4d53a6cf-cfa3-4e87-ac40-84f7dbe86287"
      },
      "execution_count": null,
      "outputs": [
        {
          "output_type": "stream",
          "name": "stdout",
          "text": [
            "Enter temperature in Celsius: 20\n",
            "20.0 degrees Celsius is equal to 68.0 degrees Fahrenheit\n"
          ]
        }
      ]
    },
    {
      "cell_type": "markdown",
      "source": [
        "Program 8\n",
        "\n",
        "Write a Python program to display calendar."
      ],
      "metadata": {
        "id": "mdnnYVL7uZSd"
      }
    },
    {
      "cell_type": "code",
      "source": [
        "import calendar\n",
        "year = int(input(\"Enter year: \"))\n",
        "month = int(input(\"Enter month: \"))\n",
        "cal = calendar.month(year, month)\n",
        "print(cal)\n"
      ],
      "metadata": {
        "colab": {
          "base_uri": "https://localhost:8080/"
        },
        "id": "uPPdKhV5uCNq",
        "outputId": "85af381f-d6bc-44ea-f942-c49f70d1ca5f"
      },
      "execution_count": null,
      "outputs": [
        {
          "output_type": "stream",
          "name": "stdout",
          "text": [
            "Enter year: 2023\n",
            "Enter month: 12\n",
            "   December 2023\n",
            "Mo Tu We Th Fr Sa Su\n",
            "             1  2  3\n",
            " 4  5  6  7  8  9 10\n",
            "11 12 13 14 15 16 17\n",
            "18 19 20 21 22 23 24\n",
            "25 26 27 28 29 30 31\n",
            "\n"
          ]
        }
      ]
    },
    {
      "cell_type": "code",
      "source": [
        "import calendar\n",
        "year = int(input(\"Enter year: \"))\n",
        "month = int(input(\"Enter month: \"))\n",
        "cal = calendar.month(year, month)\n",
        "print(cal)\n"
      ],
      "metadata": {
        "colab": {
          "base_uri": "https://localhost:8080/"
        },
        "id": "vbNF3N9N_Spy",
        "outputId": "b042855e-bea6-4d11-fe06-a60d565968fc"
      },
      "execution_count": null,
      "outputs": [
        {
          "output_type": "stream",
          "name": "stdout",
          "text": [
            "Enter year: 2024\n",
            "Enter month: 1\n",
            "    January 2024\n",
            "Mo Tu We Th Fr Sa Su\n",
            " 1  2  3  4  5  6  7\n",
            " 8  9 10 11 12 13 14\n",
            "15 16 17 18 19 20 21\n",
            "22 23 24 25 26 27 28\n",
            "29 30 31\n",
            "\n"
          ]
        }
      ]
    },
    {
      "cell_type": "markdown",
      "source": [
        "Program 9\n",
        "\n",
        "Write a Python program to solve quadratic equation.\n",
        "\n",
        "The standard form of a quadratic equation is:\n",
        "where\n",
        "a, b and c are real numbers and\n",
        "The solutions of this quadratic equation is given by:\n",
        "𝑎𝑥 + 𝑏𝑥 + 𝑐 = 0\n",
        "2\n",
        "𝑎 ≠ 0\n",
        "(−𝑏 ± (𝑏 − 4𝑎𝑐 )/(2𝑎)\n",
        "\n"
      ],
      "metadata": {
        "id": "PS8P9Mheu6Es"
      }
    },
    {
      "cell_type": "code",
      "source": [
        " #Check if the discriminant is positive, negative, or zero\n",
        "if discriminant > 0:\n",
        " # Two real and distinct roots\n",
        " root1 = (-b + math.sqrt(discriminant)) / (2*a)\n",
        " root2 = (-b - math.sqrt(discriminant)) / (2*a)\n",
        " print(f\"Root 1: {root1}\")\n",
        " print(f\"Root 2: {root2}\")\n",
        "elif discriminant == 0:\n",
        " # One real root (repeated)\n",
        " root = -b / (2*a)\n",
        " print(f\"Root: {root}\")\n",
        "else:\n",
        " # Complex roots\n",
        " real_part = -b / (2*a)\n",
        " imaginary_part = math.sqrt(abs(discriminant)) / (2*a)\n",
        " print(f\"Root 1: {real_part} + {imaginary_part}i\")\n",
        " print(f\"Root 2: {real_part} - {imaginary_part}i\")\n"
      ],
      "metadata": {
        "colab": {
          "base_uri": "https://localhost:8080/",
          "height": 140
        },
        "id": "YT_R8ZdJuwW8",
        "outputId": "d385885a-c8e9-4067-9673-10d197821a87"
      },
      "execution_count": null,
      "outputs": [
        {
          "output_type": "error",
          "ename": "IndentationError",
          "evalue": "ignored",
          "traceback": [
            "\u001b[0;36m  File \u001b[0;32m\"<ipython-input-99-96d72ae42ff9>\"\u001b[0;36m, line \u001b[0;32m4\u001b[0m\n\u001b[0;31m    root1 = (-b + math.sqrt(discriminant)) / (2*a)\u001b[0m\n\u001b[0m    ^\u001b[0m\n\u001b[0;31mIndentationError\u001b[0m\u001b[0;31m:\u001b[0m expected an indented block after 'if' statement on line 2\n"
          ]
        }
      ]
    },
    {
      "cell_type": "markdown",
      "source": [
        "Program 10\n",
        "\n",
        "Write a Python program to swap two variables without temp variable.\n"
      ],
      "metadata": {
        "id": "Iu25ImmgvjM9"
      }
    },
    {
      "cell_type": "code",
      "source": [
        "a=5\n",
        "b=10\n",
        "\n",
        "# swaping without using temp\n",
        "a,b = b,a\n",
        "print('after swapping')\n",
        "print('a=', a)\n",
        "print('b=', b)"
      ],
      "metadata": {
        "colab": {
          "base_uri": "https://localhost:8080/"
        },
        "id": "VL3aMh27vgS1",
        "outputId": "c4a11481-44d3-400b-ffd1-4e582189b5b5"
      },
      "execution_count": null,
      "outputs": [
        {
          "output_type": "stream",
          "name": "stdout",
          "text": [
            "after swapping\n",
            "a= 10\n",
            "b= 5\n"
          ]
        }
      ]
    },
    {
      "cell_type": "markdown",
      "source": [
        "Program 11\n",
        "\n",
        "Write a Python Program to Check if a Number is Positive, Negative or Zero."
      ],
      "metadata": {
        "id": "Xyxyw5axwKeW"
      }
    },
    {
      "cell_type": "code",
      "source": [
        "num=int(input('Enter a number'))\n",
        "if num>0:\n",
        "  print('positive number')\n",
        "if num==0:\n",
        "  print('zero')\n",
        "  else:\n",
        "      print('nagative number')\n",
        "\n"
      ],
      "metadata": {
        "id": "TbGS7skKwGhu"
      },
      "execution_count": null,
      "outputs": []
    },
    {
      "cell_type": "markdown",
      "source": [
        "Program 12\n",
        "\n",
        "Write a Python Program to Check if a Number is Odd or Even.\n"
      ],
      "metadata": {
        "id": "XlDlTpRRxMBw"
      }
    },
    {
      "cell_type": "code",
      "source": [
        "num = int(input(\"Enter a number: \"))\n",
        "if num%2 == 0:\n",
        " print(\"This is a even number\")\n",
        "else:\n",
        " print(\"This is a odd number\")\n"
      ],
      "metadata": {
        "id": "lXq-tyU5xNuj"
      },
      "execution_count": null,
      "outputs": []
    },
    {
      "cell_type": "markdown",
      "source": [
        "Program 13\n",
        "\n",
        "Write a Python Program to Check Leap Year."
      ],
      "metadata": {
        "id": "LVJNUHQjC4yX"
      }
    },
    {
      "cell_type": "code",
      "source": [
        "def check_leap_year(year):\n",
        "    if (year % 4 == 0 and year % 100 != 0) or (year % 400 == 0):\n",
        "        return True  # Leap year\n",
        "    else:\n",
        "        return False  # Not a leap year\n",
        "\n",
        "# Taking input from user\n",
        "year = int(input(\"Enter a year: \"))\n",
        "\n",
        "if check_leap_year(year):\n",
        "    print(f\"{year} is a leap year.\")\n",
        "else:\n",
        "    print(f\"{year} is not a leap year.\")\n"
      ],
      "metadata": {
        "colab": {
          "base_uri": "https://localhost:8080/"
        },
        "id": "kN0kjqWSC_5E",
        "outputId": "1c25ae38-be37-4948-bd0d-d42465d29ed8"
      },
      "execution_count": null,
      "outputs": [
        {
          "output_type": "stream",
          "name": "stdout",
          "text": [
            "Enter a year: 2011\n",
            "2011 is not a leap year.\n"
          ]
        }
      ]
    },
    {
      "cell_type": "markdown",
      "source": [
        "Program 14\n",
        "\n",
        "Write a Python Program to Check Prime Number.\n"
      ],
      "metadata": {
        "id": "y2xSvpYurhM4"
      }
    },
    {
      "cell_type": "code",
      "source": [
        "# num = int(input(\"Enter a number: \"))\n",
        "# # define a flag variable\n",
        "# flag = False\n",
        "# if num == 1:\n",
        "#  print(f\"{num}, is not a prime number\")\n",
        "# elif num > 1:\n",
        "#  # check for factors\n",
        "#  for i in range(2, num):\n",
        "#  if (num % i) == 0:\n",
        "#  flag = True # if factor is found, set flag to True\n",
        "#  # break out of loop\n",
        "#  break\n",
        "#  # check if flag is True\n",
        "# if flag:\n",
        "#  print(f\"{num}, is not a prime number\")\n",
        "# else:\n",
        "#  print(f\"{num}, is a prime number\")\n",
        "\n",
        "\n",
        "\n",
        "num = int(input(\"Enter a number: \"))\n",
        "if num == 1:\n",
        "   print(f\"{num}, is not a prime number\")\n",
        "    elif num > 1:\n",
        "   for i in range(2, num):\n",
        "    if (num % i) == 0:\n",
        "      print(f\"{num} is not a prime number\")\n",
        "            break\n",
        "     else:\n",
        "    print(f'{num}, is prime number')\n",
        "else:\n",
        "    print(\"Please enter a number greater than 1.\")\n",
        "\n",
        "\n",
        "\n",
        "\n",
        "\n",
        "\n",
        "\n",
        "\n",
        "\n",
        "\n",
        "\n",
        "\n",
        "\n",
        "\n",
        "\n",
        "\n"
      ],
      "metadata": {
        "id": "GueQkSRvQV11",
        "colab": {
          "base_uri": "https://localhost:8080/",
          "height": 140
        },
        "outputId": "d7f15e67-aaed-4452-f541-a53f40a3f596"
      },
      "execution_count": null,
      "outputs": [
        {
          "output_type": "error",
          "ename": "IndentationError",
          "evalue": "ignored",
          "traceback": [
            "\u001b[0;36m  File \u001b[0;32m\"<tokenize>\"\u001b[0;36m, line \u001b[0;32m29\u001b[0m\n\u001b[0;31m    else:\u001b[0m\n\u001b[0m    ^\u001b[0m\n\u001b[0;31mIndentationError\u001b[0m\u001b[0;31m:\u001b[0m unindent does not match any outer indentation level\n"
          ]
        }
      ]
    },
    {
      "cell_type": "code",
      "source": [
        "num = int(input(\"Enter a number: \"))\n",
        "\n",
        "if num == 1:\n",
        "    print(f\"{num} is not a prime number\")\n",
        "elif num > 1:\n",
        "    for i in range(2, num):\n",
        "        if (num % i) == 0:\n",
        "            print(f\"{num} is not a prime number\")\n",
        "            break\n",
        "    else:\n",
        "        print(f\"{num} is a prime number\")\n",
        "else:\n",
        "    print(\"Please enter a number greater than 1.\")\n",
        "\n"
      ],
      "metadata": {
        "colab": {
          "base_uri": "https://localhost:8080/"
        },
        "id": "C2jSxyNAs7Io",
        "outputId": "e4c92385-19b5-4eb2-a01d-8ce39cb7e1a1"
      },
      "execution_count": null,
      "outputs": [
        {
          "output_type": "stream",
          "name": "stdout",
          "text": [
            "Enter a number: 3\n",
            "3 is a prime number\n"
          ]
        }
      ]
    },
    {
      "cell_type": "markdown",
      "source": [
        "Program 15\n",
        "\n",
        "Write a Python Program to Print all Prime Numbers in an Interval of 1-10.\n"
      ],
      "metadata": {
        "id": "hNkmKZ9Avnga"
      }
    },
    {
      "cell_type": "code",
      "source": [
        "lower = 1\n",
        "upper = 10\n",
        "\n",
        "for num in range(lower, upper + 1):\n",
        "    if num > 1:\n",
        "        for i in range(2, num):\n",
        "            if (num % i) == 0:\n",
        "                break\n",
        "        else:\n",
        "            print(num)\n"
      ],
      "metadata": {
        "colab": {
          "base_uri": "https://localhost:8080/"
        },
        "id": "eIrd3qJNvufB",
        "outputId": "8e96c4f2-bf7b-4399-9b8c-e9a390bd8dfe"
      },
      "execution_count": null,
      "outputs": [
        {
          "output_type": "stream",
          "name": "stdout",
          "text": [
            "2\n",
            "3\n",
            "5\n",
            "7\n"
          ]
        }
      ]
    },
    {
      "cell_type": "markdown",
      "source": [
        "Program 16\n",
        "\n",
        "Write a Python Program to Find the Factorial of a Number"
      ],
      "metadata": {
        "id": "qV_SnPga0sdF"
      }
    },
    {
      "cell_type": "code",
      "source": [
        "num = int(input(\"Enter a number: \"))\n",
        "factorial = 1\n",
        "if num <0:\n",
        " print(\"Factirial does not exist for negative numbers\")\n",
        "elif num == 0:\n",
        " print(\"Factorial of 0 is 1\")\n",
        "else:\n",
        " for i in range(1, num+1):\n",
        "        factorial = factorial*i\n",
        " print(f'The factorial of {num} is {factorial}')\n"
      ],
      "metadata": {
        "colab": {
          "base_uri": "https://localhost:8080/"
        },
        "id": "IzeX4n_z03Fo",
        "outputId": "b16ae34d-1371-43be-f952-11e3dc3dd002"
      },
      "execution_count": null,
      "outputs": [
        {
          "output_type": "stream",
          "name": "stdout",
          "text": [
            "Enter a number: 4\n",
            "The factorial of 4 is 24\n"
          ]
        }
      ]
    },
    {
      "cell_type": "markdown",
      "source": [
        "Program 17\n",
        "\n",
        "Write a Python Program to Display the multiplication Table."
      ],
      "metadata": {
        "id": "6H48JNWk2tdW"
      }
    },
    {
      "cell_type": "code",
      "source": [
        "num=int(input('display multiplication table of: '))\n",
        "for i in range(1,11):\n",
        "  print(f'{num} x {i} = {num*i}')\n",
        "\n"
      ],
      "metadata": {
        "colab": {
          "base_uri": "https://localhost:8080/"
        },
        "id": "Yr9PtuQn2B-5",
        "outputId": "a432013a-001d-4e58-c6e4-3de77fbe2a44"
      },
      "execution_count": null,
      "outputs": [
        {
          "output_type": "stream",
          "name": "stdout",
          "text": [
            "display multiplication table of: 5\n",
            "5 x 1 = 5\n",
            "5 x 2 = 10\n",
            "5 x 3 = 15\n",
            "5 x 4 = 20\n",
            "5 x 5 = 25\n",
            "5 x 6 = 30\n",
            "5 x 7 = 35\n",
            "5 x 8 = 40\n",
            "5 x 9 = 45\n",
            "5 x 10 = 50\n"
          ]
        }
      ]
    },
    {
      "cell_type": "markdown",
      "source": [
        "Program 18\n",
        "\n",
        "Write a Python Program to Print the Fibonacci sequence.\n",
        "\n",
        "Fibonacci sequence:\n",
        "\n",
        "The Fibonacci sequence is a series of numbers where each number is the sum of the two\n",
        "preceding ones, typically starting with 0 and 1. So, the sequence begins with 0 and 1, and\n",
        "the next number is obtained by adding the previous two numbers. This pattern continues\n",
        "indefinitely, generating a sequence that looks like this:\n",
        "0, 1, 1, 2, 3, 5, 8, 13, 21, 34, 55, 89, 144, and so on.\n",
        "Mathematically, the Fibonacci sequence can be defined using the following recurrence\n",
        "relation:\n",
        "𝐹(0) = 0 𝐹(1) = 1 𝐹(𝑛) = 𝐹(𝑛 − 1) + 𝐹(𝑛 − 2)𝑓𝑜𝑟𝑛 > 1\n"
      ],
      "metadata": {
        "id": "d3YeJhfROMvx"
      }
    },
    {
      "cell_type": "code",
      "source": [],
      "metadata": {
        "id": "oz-eDxxzOkrl"
      },
      "execution_count": null,
      "outputs": []
    }
  ],
  "metadata": {
    "colab": {
      "toc_visible": true,
      "provenance": []
    },
    "kernelspec": {
      "display_name": "Python 3",
      "name": "python3"
    },
    "language_info": {
      "name": "python"
    }
  },
  "nbformat": 4,
  "nbformat_minor": 0
}